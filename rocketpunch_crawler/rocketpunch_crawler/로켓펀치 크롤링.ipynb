{
 "cells": [
  {
   "cell_type": "code",
   "execution_count": 336,
   "metadata": {},
   "outputs": [
    {
     "data": {
      "text/plain": [
       "40"
      ]
     },
     "execution_count": 336,
     "metadata": {},
     "output_type": "execute_result"
    }
   ],
   "source": [
    "len(dom.select('#company-list > div.company.item > div.content > div.company-jobs-detail > div:nth-child(1) > div:nth-child(1) > a'))"
   ]
  },
  {
   "cell_type": "code",
   "execution_count": 337,
   "metadata": {},
   "outputs": [
    {
     "data": {
      "text/plain": [
       "56"
      ]
     },
     "execution_count": 337,
     "metadata": {},
     "output_type": "execute_result"
    }
   ],
   "source": [
    "len(dom.select('#company-list > div.company.item > div.content > div.company-jobs-detail > div.job-detail > div:nth-child(1) > a'))"
   ]
  },
  {
   "cell_type": "code",
   "execution_count": 290,
   "metadata": {},
   "outputs": [
    {
     "data": {
      "text/plain": [
       "'아이디브'"
      ]
     },
     "execution_count": 290,
     "metadata": {},
     "output_type": "execute_result"
    }
   ],
   "source": [
    "dom.select('#company-list > div.company.item > div.content')[2].select('div.company-name > a > h4 > strong')[0].text"
   ]
  },
  {
   "cell_type": "code",
   "execution_count": 294,
   "metadata": {},
   "outputs": [
    {
     "data": {
      "text/plain": [
       "'페칭 - 테크 기반의 문화와 자유로운 분위기를 지향하는 회사'"
      ]
     },
     "execution_count": 294,
     "metadata": {},
     "output_type": "execute_result"
    }
   ],
   "source": [
    "dom.select('#company-list > div.company.item > div.content')[1].select('div.description')[0].text.strip('\\xa0')"
   ]
  },
  {
   "cell_type": "code",
   "execution_count": 497,
   "metadata": {},
   "outputs": [],
   "source": [
    "def rocketpunch_crawler2(pages):\n",
    "    datas = []\n",
    "    for page in range(1,pages+1):\n",
    "        print(page)\n",
    "        url = \"https://www.rocketpunch.com/api/jobs/template?page={}&q=&specialty=Python&tag=%EB%8D%B0%EC%9D%B4%ED%84%B0%3E\".format(page)\n",
    "        response = requests.get(url)\n",
    "        data = response.json()['data']['template']\n",
    "        dom = BeautifulSoup(data, \"html.parser\")\n",
    "        root = dom.select('#company-list > div.company.item > div.content')\n",
    "        for i in range(20):\n",
    "            datas.append({\n",
    "                \"company\" : root[i].select('div.company-name > a > h4 > strong')[0].text,\n",
    "                \"description\" : root[i].select('div.description')[0].text.strip('\\xa0'),\n",
    "                \"service\" : root[i].select('div.nowrap.meta')[0].text.strip(),\n",
    "                \"position\" : root[i].select('div.company-jobs-detail > div:nth-child(1) > div:nth-child(1) > a')[0].text,\n",
    "                \"link\" : \"https://www.rocketpunch.com\"+ root[i].select('div.company-jobs-detail > div:nth-child(1) > div:nth-child(1) > a')[0].get('href'),\n",
    "                \"salary\" : root[i].select('div.company-jobs-detail > div:nth-child(1) > div:nth-child(1) > span')[0].text,\n",
    "                \"deadline\" : root[i].select('div.company-jobs-detail > div.job-detail > div.job-dates > span:nth-child(1)')[0].text.strip(' \\n'),\n",
    "            })\n",
    "            \n",
    "    return pd.DataFrame(datas)"
   ]
  },
  {
   "cell_type": "code",
   "execution_count": 270,
   "metadata": {},
   "outputs": [],
   "source": [
    "def rocketpunch_crawler(pages):\n",
    "    datas = []\n",
    "    for page in range(1,pages+1):\n",
    "        print(page)\n",
    "        url = \"https://www.rocketpunch.com/api/jobs/template?page={}&q=&specialty=Python&tag=%EB%8D%B0%EC%9D%B4%ED%84%B0%3E\".format(page)\n",
    "        response = requests.get(url)\n",
    "        data = response.json()['data']['template']\n",
    "        dom = BeautifulSoup(data, \"html.parser\")\n",
    "        for i in range(20):\n",
    "            datas.append({\n",
    "                \"company\" : dom.select('#company-list > div.company.item > div.content > div.company-name > a > h4 > strong')[i].text,\n",
    "                \"description\" : dom.select('#company-list > div.company.item > div.content > div.description')[i].text.strip('\\xa0'),\n",
    "                \"service\" : dom.select('#company-list > div.company.item > div.content > div.nowrap.meta')[i].text.strip(),\n",
    "                \"position\" : dom.select('#company-list > div.company.item > div.content > div.company-jobs-detail > div:nth-child(1) > div:nth-child(1) > a')[i].text,\n",
    "                \"link\" : \"https://www.rocketpunch.com\"+ dom.select('#company-list > div.company.item > div.content > div.company-jobs-detail > div:nth-child(1) > div:nth-child(1) > a')[0].get('href'),\n",
    "                \"salary\" : dom.select('#company-list > div.company.item > div.content > div.company-jobs-detail > div:nth-child(1) > div:nth-child(1) > span')[i].text,\n",
    "                \"deadline\" : dom.select('#company-list > div.company.item > div.content > div.company-jobs-detail > div.job-detail > div.job-dates > span:nth-child(1)')[i].text.strip(' \\n'),\n",
    "            })\n",
    "            \n",
    "    return pd.DataFrame(datas)"
   ]
  },
  {
   "cell_type": "code",
   "execution_count": null,
   "metadata": {},
   "outputs": [],
   "source": []
  },
  {
   "cell_type": "code",
   "execution_count": null,
   "metadata": {},
   "outputs": [],
   "source": []
  },
  {
   "cell_type": "code",
   "execution_count": null,
   "metadata": {},
   "outputs": [],
   "source": []
  },
  {
   "cell_type": "code",
   "execution_count": null,
   "metadata": {},
   "outputs": [],
   "source": []
  },
  {
   "cell_type": "code",
   "execution_count": null,
   "metadata": {},
   "outputs": [],
   "source": []
  },
  {
   "cell_type": "code",
   "execution_count": null,
   "metadata": {},
   "outputs": [],
   "source": []
  },
  {
   "cell_type": "code",
   "execution_count": 539,
   "metadata": {},
   "outputs": [],
   "source": [
    "url = \"https://www.rocketpunch.com/api/jobs/template?page={}&q=&specialty=Python&tag=%EB%8D%B0%EC%9D%B4%ED%84%B0%3E\".format(1)"
   ]
  },
  {
   "cell_type": "code",
   "execution_count": 540,
   "metadata": {
    "scrolled": true
   },
   "outputs": [
    {
     "data": {
      "text/plain": [
       "<Response [200]>"
      ]
     },
     "execution_count": 540,
     "metadata": {},
     "output_type": "execute_result"
    }
   ],
   "source": [
    "response = requests.get(url)\n",
    "response"
   ]
  },
  {
   "cell_type": "code",
   "execution_count": 541,
   "metadata": {},
   "outputs": [],
   "source": [
    "# json으로 파싱후, data안 template 안에 들어있는 애들을 BrautifulSoup으로 html로 파싱\n",
    "data = response.json()['data']['template']\n",
    "dom = BeautifulSoup(data, \"html.parser\")"
   ]
  },
  {
   "cell_type": "code",
   "execution_count": 542,
   "metadata": {},
   "outputs": [],
   "source": [
    "root = dom.select('#company-list > div.company.item > div.content')"
   ]
  },
  {
   "cell_type": "code",
   "execution_count": 543,
   "metadata": {
    "scrolled": true
   },
   "outputs": [
    {
     "data": {
      "text/plain": [
       "'매스프레소'"
      ]
     },
     "execution_count": 543,
     "metadata": {},
     "output_type": "execute_result"
    }
   ],
   "source": [
    "# 회사명\n",
    "dom.select('#company-list > div.company.item > div.content > div.company-name > a > h4 > strong')[0].text"
   ]
  },
  {
   "cell_type": "code",
   "execution_count": 544,
   "metadata": {},
   "outputs": [
    {
     "data": {
      "text/plain": [
       "'매스프레소'"
      ]
     },
     "execution_count": 544,
     "metadata": {},
     "output_type": "execute_result"
    }
   ],
   "source": [
    "root[0].select('div.company-name > a > h4 > strong')[0].text"
   ]
  },
  {
   "cell_type": "code",
   "execution_count": 521,
   "metadata": {
    "scrolled": true
   },
   "outputs": [
    {
     "data": {
      "text/plain": [
       "'We Rebuild Education'"
      ]
     },
     "execution_count": 521,
     "metadata": {},
     "output_type": "execute_result"
    }
   ],
   "source": [
    "# 회사 설명\n",
    "dom.select('#company-list > div.company.item > div.content > div.description')[0].text.strip('\\xa0')"
   ]
  },
  {
   "cell_type": "code",
   "execution_count": 545,
   "metadata": {},
   "outputs": [
    {
     "data": {
      "text/plain": [
       "'We Rebuild Education'"
      ]
     },
     "execution_count": 545,
     "metadata": {},
     "output_type": "execute_result"
    }
   ],
   "source": [
    "root[0].select('div.description')[0].text.strip('\\xa0')"
   ]
  },
  {
   "cell_type": "code",
   "execution_count": 523,
   "metadata": {},
   "outputs": [
    {
     "data": {
      "text/plain": [
       "'모바일서비스 ∙ 소프트웨어 ∙ 데이터 ∙ 교육 ∙ 모바일앱 ∙ AI ∙ 앱개발 ∙ 머신러닝 ∙ IT/인공지능 ∙ 딥러닝 ∙ 에듀테크 ∙ 수학 ∙ OCR'"
      ]
     },
     "execution_count": 523,
     "metadata": {},
     "output_type": "execute_result"
    }
   ],
   "source": [
    "# 분야\n",
    "dom.select('#company-list > div.company.item > div.content > div.nowrap.meta')[0].text.strip()"
   ]
  },
  {
   "cell_type": "code",
   "execution_count": 546,
   "metadata": {},
   "outputs": [
    {
     "data": {
      "text/plain": [
       "'모바일서비스 ∙ 소프트웨어 ∙ 데이터 ∙ 교육 ∙ 모바일앱 ∙ AI ∙ 앱개발 ∙ 머신러닝 ∙ IT/인공지능 ∙ 딥러닝 ∙ 에듀테크 ∙ 수학 ∙ OCR'"
      ]
     },
     "execution_count": 546,
     "metadata": {},
     "output_type": "execute_result"
    }
   ],
   "source": [
    "root[0].select('div.nowrap.meta')[0].text.strip()"
   ]
  },
  {
   "cell_type": "code",
   "execution_count": 566,
   "metadata": {},
   "outputs": [
    {
     "data": {
      "text/plain": [
       "20"
      ]
     },
     "execution_count": 566,
     "metadata": {},
     "output_type": "execute_result"
    }
   ],
   "source": [
    "len(root)"
   ]
  },
  {
   "cell_type": "code",
   "execution_count": 525,
   "metadata": {},
   "outputs": [],
   "source": [
    "# 중복 있음"
   ]
  },
  {
   "cell_type": "code",
   "execution_count": 556,
   "metadata": {},
   "outputs": [],
   "source": [
    "positions = dom.select('#company-list > div.company.item > div.content > div.company-jobs-detail')"
   ]
  },
  {
   "cell_type": "code",
   "execution_count": 558,
   "metadata": {},
   "outputs": [],
   "source": [
    "len_of_positions = len(positions[0].select('div:nth-child(1) > a.nowrap'))"
   ]
  },
  {
   "cell_type": "code",
   "execution_count": 559,
   "metadata": {},
   "outputs": [
    {
     "data": {
      "text/plain": [
       "1"
      ]
     },
     "execution_count": 559,
     "metadata": {},
     "output_type": "execute_result"
    }
   ],
   "source": [
    "len_of_positions"
   ]
  },
  {
   "cell_type": "code",
   "execution_count": 587,
   "metadata": {},
   "outputs": [
    {
     "data": {
      "text/plain": [
       "'해외직구 애프터바이 [Python,React 개발자] 모십니다!'"
      ]
     },
     "execution_count": 587,
     "metadata": {},
     "output_type": "execute_result"
    }
   ],
   "source": [
    "# position\n",
    "positions[3].select('div:nth-child(1) > a.nowrap')[0].text"
   ]
  },
  {
   "cell_type": "code",
   "execution_count": 561,
   "metadata": {
    "scrolled": true
   },
   "outputs": [
    {
     "data": {
      "text/plain": [
       "'https://www.rocketpunch.com/jobs/70589/Math-Engine-Developer'"
      ]
     },
     "execution_count": 561,
     "metadata": {},
     "output_type": "execute_result"
    }
   ],
   "source": [
    "# 링크\n",
    "\"https://www.rocketpunch.com\" + positions[0].select('div:nth-child(1) > a.nowrap')[0].get('href')"
   ]
  },
  {
   "cell_type": "code",
   "execution_count": 562,
   "metadata": {},
   "outputs": [
    {
     "data": {
      "text/plain": [
       "'3,500 - 6,000만원 / 인턴, 신입, 경력'"
      ]
     },
     "execution_count": 562,
     "metadata": {},
     "output_type": "execute_result"
    }
   ],
   "source": [
    "# 연봉 / 스톡옵션 / 경력 여부\n",
    "positions[0].select('div.job-detail > div:nth-child(1) > span')[0].text"
   ]
  },
  {
   "cell_type": "code",
   "execution_count": 563,
   "metadata": {
    "scrolled": true
   },
   "outputs": [
    {
     "data": {
      "text/plain": [
       "'03/31 마감'"
      ]
     },
     "execution_count": 563,
     "metadata": {},
     "output_type": "execute_result"
    }
   ],
   "source": [
    "# 채용 기간\n",
    "positions[0].select('div.job-detail > div.job-dates > span:nth-child(1)')[0].text.strip(' \\n')"
   ]
  },
  {
   "cell_type": "code",
   "execution_count": 581,
   "metadata": {},
   "outputs": [
    {
     "data": {
      "text/plain": [
       "[0]"
      ]
     },
     "execution_count": 581,
     "metadata": {},
     "output_type": "execute_result"
    }
   ],
   "source": [
    "list(range(len_of_positions))"
   ]
  },
  {
   "cell_type": "code",
   "execution_count": 594,
   "metadata": {},
   "outputs": [
    {
     "data": {
      "text/plain": [
       "'Backend Engineer 주니어'"
      ]
     },
     "execution_count": 594,
     "metadata": {},
     "output_type": "execute_result"
    }
   ],
   "source": [
    "positions[18].select('div:nth-child(1) > a.nowrap')[0].text"
   ]
  },
  {
   "cell_type": "code",
   "execution_count": 613,
   "metadata": {},
   "outputs": [
    {
     "data": {
      "text/plain": [
       "'디에스랩글로벌'"
      ]
     },
     "execution_count": 613,
     "metadata": {},
     "output_type": "execute_result"
    }
   ],
   "source": [
    "root[4].select('div.company-name > a > h4 > strong')[0].text"
   ]
  },
  {
   "cell_type": "code",
   "execution_count": 614,
   "metadata": {},
   "outputs": [
    {
     "data": {
      "text/plain": [
       "'데이터 분석가'"
      ]
     },
     "execution_count": 614,
     "metadata": {},
     "output_type": "execute_result"
    }
   ],
   "source": [
    "positions[4].select('div:nth-child(1) > a.nowrap')[0].text"
   ]
  },
  {
   "cell_type": "code",
   "execution_count": 631,
   "metadata": {},
   "outputs": [],
   "source": [
    "len_of_positions = len(positions[1].select('div:nth-child(1) > a.nowrap'))"
   ]
  },
  {
   "cell_type": "code",
   "execution_count": 632,
   "metadata": {},
   "outputs": [
    {
     "data": {
      "text/plain": [
       "[0, 1, 2]"
      ]
     },
     "execution_count": 632,
     "metadata": {},
     "output_type": "execute_result"
    }
   ],
   "source": [
    "list(range(len_of_positions))"
   ]
  },
  {
   "cell_type": "code",
   "execution_count": 636,
   "metadata": {},
   "outputs": [
    {
     "data": {
      "text/plain": [
       "('트릿지',)"
      ]
     },
     "execution_count": 636,
     "metadata": {},
     "output_type": "execute_result"
    }
   ],
   "source": [
    "root[1].select('div.company-name > a > h4 > strong')[0].text,"
   ]
  },
  {
   "cell_type": "code",
   "execution_count": 827,
   "metadata": {},
   "outputs": [],
   "source": [
    "# 크롤링 완성"
   ]
  },
  {
   "cell_type": "code",
   "execution_count": null,
   "metadata": {},
   "outputs": [],
   "source": [
    "# 전체 페이지의 개수를 알아내기 위한 과정\n",
    "url = \"https://www.rocketpunch.com/api/jobs/template?page=1&q=&specialty=Python&tag=%EB%8D%B0%EC%9D%B4%ED%84%B0%3E\"\n",
    "response = requests.get(url)\n",
    "data = response.json()['data']['template']\n",
    "dom = BeautifulSoup(data, \"html.parser\")\n",
    "total_pages = dom.select(\"div.ui.pagination.menu > div.tablet.computer.large.screen.widescreen.only > a\")[-1].text\n",
    "import time\n",
    "now = time.localtime()\n",
    "\n",
    "datas = []\n",
    "for page in range(1,int(total_pages)+1):\n",
    "    url = \"https://www.rocketpunch.com/api/jobs/template?page={}&q=&specialty=Python&tag=%EB%8D%B0%EC%9D%B4%ED%84%B0%3E\".format(page)\n",
    "    response = requests.get(url)\n",
    "    data = response.json()['data']['template']\n",
    "    dom = BeautifulSoup(data, \"html.parser\")\n",
    "    root = dom.select('#company-list > div.company.item > div.content')\n",
    "    positions = dom.select('#company-list > div.company.item > div.content > div.company-jobs-detail')\n",
    "\n",
    "    for i in range(len(root)):\n",
    "        len_of_positions = len(positions[i].select('div:nth-child(1) > a.nowrap'))        \n",
    "        for j in range(len_of_positions):\n",
    "            datas.append({\n",
    "                \"date\": \"{}-{}-{}\".format(now.tm_year, now.tm_mon, now.tm_mday),\n",
    "                \"deadline\" : positions[i].select('div.job-detail > div.job-dates > span:nth-child(1)')[j].text.strip(' \\n'),\n",
    "                \"position\" : positions[i].select('div:nth-child(1) > a.nowrap')[j].text,\n",
    "                \"salary\" : positions[i].select('div.job-detail > div:nth-child(1) > span')[j].text,\n",
    "                \"company\" : root[i].select('div.company-name > a > h4 > strong')[0].text,\n",
    "                \"description\" : root[i].select('div.description')[0].text.strip('\\xa0'),\n",
    "                \"service\" : root[i].select('div.nowrap.meta')[0].text.strip(),\n",
    "                \"link\" : \"https://www.rocketpunch.com\" + positions[i].select('div:nth-child(1) > a.nowrap')[j].get('href'),      \n",
    "            })\n",
    "pd.DataFrame(datas)"
   ]
  },
  {
   "cell_type": "code",
   "execution_count": null,
   "metadata": {},
   "outputs": [],
   "source": []
  },
  {
   "cell_type": "code",
   "execution_count": null,
   "metadata": {},
   "outputs": [],
   "source": []
  },
  {
   "cell_type": "code",
   "execution_count": null,
   "metadata": {},
   "outputs": [],
   "source": []
  },
  {
   "cell_type": "code",
   "execution_count": null,
   "metadata": {},
   "outputs": [],
   "source": []
  },
  {
   "cell_type": "code",
   "execution_count": null,
   "metadata": {},
   "outputs": [],
   "source": []
  },
  {
   "cell_type": "code",
   "execution_count": null,
   "metadata": {},
   "outputs": [],
   "source": []
  },
  {
   "cell_type": "code",
   "execution_count": null,
   "metadata": {},
   "outputs": [],
   "source": []
  },
  {
   "cell_type": "code",
   "execution_count": 40,
   "metadata": {},
   "outputs": [],
   "source": [
    "from scrapy.http import TextResponse\n",
    "url = \"https://www.rocketpunch.com/api/jobs/template?page=1&q=&specialty=Python&tag=데이터\""
   ]
  },
  {
   "cell_type": "code",
   "execution_count": 82,
   "metadata": {
    "scrolled": true
   },
   "outputs": [
    {
     "data": {
      "text/plain": [
       "<200 https://www.rocketpunch.com/api/jobs/template?page=1&q=&specialty=Python&tag=%EB%8D%B0%EC%9D%B4%ED%84%B0%3E>"
      ]
     },
     "execution_count": 82,
     "metadata": {},
     "output_type": "execute_result"
    }
   ],
   "source": [
    "req = requests.get(url)\n",
    "response = TextResponse(req.url, body=req.text, encoding=\"utf-8\")\n",
    "response"
   ]
  },
  {
   "cell_type": "code",
   "execution_count": 83,
   "metadata": {},
   "outputs": [],
   "source": [
    "jsonresponse = json.loads(response.body)"
   ]
  },
  {
   "cell_type": "code",
   "execution_count": 72,
   "metadata": {},
   "outputs": [],
   "source": [
    "soup = BeautifulSoup(response.body, \"html.parser\") "
   ]
  },
  {
   "cell_type": "code",
   "execution_count": 75,
   "metadata": {},
   "outputs": [
    {
     "ename": "TypeError",
     "evalue": "'NoneType' object is not callable",
     "output_type": "error",
     "traceback": [
      "\u001b[0;31m---------------------------------------------------------------------------\u001b[0m",
      "\u001b[0;31mTypeError\u001b[0m                                 Traceback (most recent call last)",
      "\u001b[0;32m<ipython-input-75-368028e24cc7>\u001b[0m in \u001b[0;36m<module>\u001b[0;34m\u001b[0m\n\u001b[0;32m----> 1\u001b[0;31m \u001b[0msoup\u001b[0m\u001b[0;34m.\u001b[0m\u001b[0mjson\u001b[0m\u001b[0;34m(\u001b[0m\u001b[0;34m)\u001b[0m\u001b[0;34m\u001b[0m\u001b[0;34m\u001b[0m\u001b[0m\n\u001b[0m",
      "\u001b[0;31mTypeError\u001b[0m: 'NoneType' object is not callable"
     ]
    }
   ],
   "source": [
    "soup"
   ]
  },
  {
   "cell_type": "code",
   "execution_count": 48,
   "metadata": {},
   "outputs": [],
   "source": [
    "url = \"https://www.rocketpunch.com/api/jobs/template?page=1&q=&specialty=Python&tag=%EB%8D%B0%EC%9D%B4%ED%84%B0%3E\"\n",
    "response = requests.get(url)\n",
    "data = response.json()['data']['template']\n",
    "dom = BeautifulSoup(data, \"html.parser\")\n"
   ]
  },
  {
   "cell_type": "code",
   "execution_count": 49,
   "metadata": {},
   "outputs": [
    {
     "data": {
      "text/plain": [
       "<div class=\"ui job items segment\" id=\"company-list\">\n",
       "<div class=\"header\">\n",
       "<div class=\"ui right floated header sort-types\"><a class=\"checked\" data-query-add=\"sort=recent\" href=\"/jobs?q=&amp;specialty=Python&amp;tag=%EB%8D%B0%EC%9D%B4%ED%84%B0%3E&amp;sort=recent\">\n",
       "        최신순\n",
       "      </a>\n",
       "<div class=\"separator\"></div><a data-query-add=\"sort=ranking\" href=\"/jobs?q=&amp;specialty=Python&amp;tag=%EB%8D%B0%EC%9D%B4%ED%84%B0%3E&amp;sort=ranking\">\n",
       "        인기순\n",
       "      </a>\n",
       "<div class=\"separator\"></div><a data-query-add=\"sort=salary\" href=\"/jobs?q=&amp;specialty=Python&amp;tag=%EB%8D%B0%EC%9D%B4%ED%84%B0%3E&amp;sort=salary\">\n",
       "        연봉순\n",
       "      </a>\n",
       "</div>\n",
       "<h2 class=\"ui left header\" style=\"font-size:16px\">\n",
       "<span class=\"desc\">검색 결과</span>\n",
       "<span class=\"count\">304</span>\n",
       "<div class=\"separator\"></div>\n",
       "<span class=\"filter-summary\">데이터&gt;, Python</span>\n",
       "</h2>\n",
       "</div>\n",
       "<div class=\"ui inverted divider\"></div><div class=\"company item active\" data-company_id=\"113474\">\n",
       "<div class=\"logo image\">\n",
       "<a href=\"/companies/turing/jobs\" target=\"_blank\">\n",
       "<div class=\"ui logo\">\n",
       "<img alt=\"튜링 logo\" class=\"ui image\" src=\"https://image.rocketpunch.com/company/113474/turing_logo_1579582194.png?s=100x100&amp;t=inside\"/>\n",
       "</div>\n",
       "</a>\n",
       "</div>\n",
       "<div class=\"content active\">\n",
       "<div class=\"ui right floated skip header\">\n",
       "<a data-modal=\"signup\">✕</a>\n",
       "</div>\n",
       "<div class=\"company-name\">\n",
       "<a href=\"/companies/turing/jobs\" target=\"_blank\">\n",
       "<h4 class=\"header name\"> <strong>튜링</strong>\n",
       "<small>(Turing)</small>\n",
       "</h4>\n",
       "</a><a class=\"reference-count\" data-method=\"post\" data-url=\"/api/companies/113474/reference\">\n",
       "<i class=\"ic-thumbup-outline icon\"></i>\n",
       "<span class=\"count\">5</span>\n",
       "</a></div>\n",
       "<div class=\"description\">인공지능 수학공부 앱 : 수학대왕을 운영중입니다. :) </div>\n",
       "<div class=\"nowrap meta\">      모바일 ∙ 빅데이터 ∙ 인공지능 ∙ 머신러닝 ∙ IT/인공지능 ∙ 딥러닝 ∙ 모바일/웹 ∙ 에듀테크 ∙ 교육/이러닝 ∙ 추천 ∙ 수학 ∙ 교육산업 ∙ 교육산업/IT ∙ 수학교육 ∙ 추천알고리즘\n",
       "</div><div class=\"ui divider\"></div>\n",
       "<div class=\"company-jobs-detail\">\n",
       "<div class=\"job-detail\">\n",
       "<div>\n",
       "<a class=\"nowrap job-title primary link\" href=\"/jobs/70593/%EC%9D%B8%EA%B3%B5%EC%A7%80%EB%8A%A5-%EC%88%98%ED%95%99-%EA%B5%90%EC%9C%A1-%EC%8A%A4%ED%83%80%ED%8A%B8%EC%97%85%EC%97%90%EC%84%9C-%ED%8C%80%EC%9B%90%EC%9C%BC%EB%A1%9C-%EC%84%9C%EB%B2%84%EA%B0%9C%EB%B0%9C%EC%9E%90%EB%A5%BC-%EB%AA%A8%EC%8B%AD%EB%8B%88%EB%8B%A4-django\" target=\"_blank\">인공지능 수학 교육 스타트업에서 팀원으로 서버개발자를 모십니다. (django)</a>\n",
       "<span class=\"job-stat-info\">7,000 - 9,000만원 / 최대 2.5% / 경력</span>\n",
       "<a data-modal=\"login\" style=\"float:right\"><i class=\"ic-bookmark_outline icon\"></i></a>\n",
       "</div>\n",
       "<div class=\"job-dates\">\n",
       "<span>\n",
       "<i class=\"ic-calendar_new icon\"></i>                수시채용\n",
       "</span><span>                03/08 등록\n",
       "</span></div>\n",
       "</div>\n",
       "</div>\n",
       "</div>\n",
       "</div>\n",
       "<div class=\"ui inverted divider\"></div><div class=\"company item\" data-company_id=\"6047\">\n",
       "<div class=\"logo image\">\n",
       "<a href=\"/companies/mathpresso/jobs\" target=\"_blank\">\n",
       "<div class=\"ui logo\">\n",
       "<img alt=\"매스프레소 logo\" class=\"ui image\" src=\"https://image.rocketpunch.com/company/6047/mathpresso_logo_1502252970.jpg?s=100x100&amp;t=inside\"/>\n",
       "</div>\n",
       "</a>\n",
       "</div>\n",
       "<div class=\"content\">\n",
       "<div class=\"ui right floated skip header\">\n",
       "<a data-modal=\"signup\">✕</a>\n",
       "</div>\n",
       "<div class=\"company-name\">\n",
       "<a href=\"/companies/mathpresso/jobs\" target=\"_blank\">\n",
       "<h4 class=\"header name\"> <strong>매스프레소</strong>\n",
       "<small>(Mathpresso)</small>\n",
       "</h4>\n",
       "</a><span class=\"ui small basic response recruit label\"><div data-content=\"7일 이내 지원 결과를 알려줄 확률이 90% 이상인 기업입니다.\" data-variation=\"inverted mini\">응답률 우수</div><div data-content=\"로켓펀치를 통해 채용한 기록이 있는 기업입니다.\" data-variation=\"inverted mini\">채용 우수</div></span><a class=\"reference-count\" data-method=\"post\" data-url=\"/api/companies/6047/reference\">\n",
       "<i class=\"ic-thumbup-outline icon\"></i>\n",
       "<span class=\"count\">27</span>\n",
       "</a></div>\n",
       "<div class=\"description\">We Rebuild Education </div>\n",
       "<div class=\"nowrap meta\">      모바일서비스 ∙ 소프트웨어 ∙ 데이터 ∙ 교육 ∙ 모바일앱 ∙ AI ∙ 앱개발 ∙ 머신러닝 ∙ IT/인공지능 ∙ 딥러닝 ∙ 에듀테크 ∙ 수학 ∙ OCR\n",
       "</div><div class=\"applicants\">\n",
       "<div class=\"avatar-list\">\n",
       "<a href=\"/@l1218yj2\">\n",
       "<img alt=\"\" class=\"ui mini circular image\" src=\"https://image.rocketpunch.com/user/14199/14199_1544617878.jpg?s=35x35&amp;t=cover\"/>\n",
       "</a><div class=\"mini masked item\">?</div><div class=\"mini masked item\">?</div><div class=\"mini masked item\">?</div>\n",
       "<div class=\"more item mini\"><span>+319</span></div>\n",
       "</div>\n",
       "<span><a href=\"/companies/mathpresso/jobs/applicants\">320명 이상이 로켓펀치를 통해 지원</a></span>\n",
       "</div><div class=\"ui divider\"></div>\n",
       "<div class=\"company-jobs-detail\">\n",
       "<div class=\"job-detail\">\n",
       "<div>\n",
       "<a class=\"nowrap job-title primary link\" href=\"/jobs/70589/Math-Engine-Developer\" target=\"_blank\">Math Engine Developer</a>\n",
       "<span class=\"job-stat-info\">3,500 - 6,000만원 / 인턴, 신입, 경력</span>\n",
       "<a data-modal=\"login\" style=\"float:right\"><i class=\"ic-bookmark_outline icon\"></i></a>\n",
       "</div>\n",
       "<div class=\"job-dates\">\n",
       "<span>\n",
       "<i class=\"ic-calendar_new icon\"></i>                03/31 마감\n",
       "</span><span>                03/07 등록\n",
       "</span></div>\n",
       "</div>\n",
       "</div>\n",
       "</div>\n",
       "</div>\n",
       "<div class=\"ui inverted divider\"></div><div class=\"company item\" data-company_id=\"4921\">\n",
       "<div class=\"logo image\">\n",
       "<a href=\"/companies/tridge/jobs\" target=\"_blank\">\n",
       "<div class=\"ui logo\">\n",
       "<img alt=\"트릿지 logo\" class=\"ui image\" src=\"https://image.rocketpunch.com/company/4921/tridge_logo_1582610549.png?s=100x100&amp;t=inside\"/>\n",
       "</div>\n",
       "</a>\n",
       "</div>\n",
       "<div class=\"content\">\n",
       "<div class=\"ui right floated skip header\">\n",
       "<a data-modal=\"signup\">✕</a>\n",
       "</div>\n",
       "<div class=\"company-name\">\n",
       "<a href=\"/companies/tridge/jobs\" target=\"_blank\">\n",
       "<h4 class=\"header name\"> <strong>트릿지</strong>\n",
       "<small>(Tridge)</small>\n",
       "</h4>\n",
       "</a><a class=\"reference-count\" data-method=\"post\" data-url=\"/api/companies/4921/reference\">\n",
       "<i class=\"ic-thumbup-outline icon\"></i>\n",
       "<span class=\"count\">56</span>\n",
       "</a></div>\n",
       "<div class=\"description\">Disrupting the $1.5 Trillion global trading industry </div>\n",
       "<div class=\"nowrap meta\">      모바일서비스 ∙ 웹서비스 ∙ 마케팅 ∙ 스타트업 ∙ e-commerce ∙ 공유경제 ∙ 무역 ∙ B2B ∙ 글로벌 ∙ Big-Data ∙ B2B2C ∙ Data-Visualization\n",
       "</div><div class=\"applicants\">\n",
       "<div class=\"avatar-list\">\n",
       "<div class=\"mini masked item\">?</div><div class=\"mini masked item\">?</div><div class=\"mini masked item\">?</div><div class=\"mini masked item\">?</div>\n",
       "<div class=\"more item mini\"><span>+717</span></div>\n",
       "</div>\n",
       "<span><a href=\"/companies/tridge/jobs/applicants\">720명 이상이 로켓펀치를 통해 지원</a></span>\n",
       "</div><div class=\"ui divider\"></div>\n",
       "<div class=\"company-jobs-detail\">\n",
       "<div class=\"job-detail\">\n",
       "<div>\n",
       "<a class=\"nowrap job-title primary link\" href=\"/jobs/70411/Front-End-Software-Engineer-at-Tridge\" target=\"_blank\">Front-End Software Engineer at Tridge</a>\n",
       "<span class=\"job-stat-info\">4,000 - 10,000만원 / 인턴, 신입, 경력</span>\n",
       "<a data-modal=\"login\" style=\"float:right\"><i class=\"ic-bookmark_outline icon\"></i></a>\n",
       "</div>\n",
       "<div class=\"job-dates\">\n",
       "<span>\n",
       "<i class=\"ic-calendar_new icon\"></i>                수시채용\n",
       "</span><span>                03/05 수정\n",
       "</span></div>\n",
       "</div>\n",
       "<div class=\"ui divider\"></div> <div class=\"job-detail\">\n",
       "<div>\n",
       "<a class=\"nowrap job-title primary link\" href=\"/jobs/9504/Back-End-Software-Engineer-at-Tridge\" target=\"_blank\">Back-End Software Engineer at Tridge</a>\n",
       "<span class=\"job-stat-info\">4,000 - 10,000만원 / 인턴, 신입, 경력</span>\n",
       "<a data-modal=\"login\" style=\"float:right\"><i class=\"ic-bookmark_outline icon\"></i></a>\n",
       "</div>\n",
       "<div class=\"job-dates\">\n",
       "<span>\n",
       "<i class=\"ic-calendar_new icon\"></i>                수시채용\n",
       "</span><span>                03/07 수정\n",
       "</span></div>\n",
       "</div>\n",
       "<div class=\"ui divider\"></div> <div class=\"job-detail\">\n",
       "<div>\n",
       "<a class=\"nowrap job-title primary link\" href=\"/jobs/70412/Lead-Software-Engineer-at-Tridge\" target=\"_blank\">Lead Software Engineer at Tridge</a>\n",
       "<span class=\"job-stat-info\">4,000 - 10,000만원 / 경력</span>\n",
       "<a data-modal=\"login\" style=\"float:right\"><i class=\"ic-bookmark_outline icon\"></i></a>\n",
       "</div>\n",
       "<div class=\"job-dates\">\n",
       "<span>\n",
       "<i class=\"ic-calendar_new icon\"></i>                수시채용\n",
       "</span><span>                03/05 수정\n",
       "</span></div>\n",
       "</div>\n",
       "</div>\n",
       "</div>\n",
       "</div>\n",
       "<div class=\"ui inverted divider\"></div><div class=\"item brand-message\">\n",
       "<div class=\"logo image\"></div>\n",
       "<div class=\"content\">\n",
       "<img alt=\"image\" src=\"https://static.rocketpunch.com/images/main/landing/space_lounge_chat_nobg.svg\"/>\n",
       "<div class=\"description\">\n",
       "<h2>\n",
       "              당신에게 필요한 좋은 일자리!\n",
       "            </h2>\n",
       "<h3>\n",
       "              대한민국의 비즈니스 인맥이 모두 모여있는 곳, 로켓펀치에서 만나보세요.\n",
       "            </h3>\n",
       "<a class=\"ui basic primary button\" href=\"/signup\">\n",
       "              무료가입\n",
       "            </a>\n",
       "</div>\n",
       "</div>\n",
       "</div>\n",
       "<div class=\"ui inverted divider\"></div><div class=\"company item\" data-company_id=\"110749\">\n",
       "<div class=\"logo image\">\n",
       "<a href=\"/companies/fetching/jobs\" target=\"_blank\">\n",
       "<div class=\"ui logo\">\n",
       "<img alt=\"FETCHING logo\" class=\"ui image\" src=\"https://image.rocketpunch.com/company/110749/fetching_logo_1576173568.jpg?s=100x100&amp;t=inside\"/>\n",
       "</div>\n",
       "</a>\n",
       "</div>\n",
       "<div class=\"content\">\n",
       "<div class=\"ui right floated skip header\">\n",
       "<a data-modal=\"signup\">✕</a>\n",
       "</div>\n",
       "<div class=\"company-name\">\n",
       "<a href=\"/companies/fetching/jobs\" target=\"_blank\">\n",
       "<h4 class=\"header name\"> <strong>FETCHING</strong>\n",
       "</h4>\n",
       "</a><a class=\"reference-count\" data-method=\"post\" data-url=\"/api/companies/110749/reference\">\n",
       "<i class=\"ic-thumbup-outline icon\"></i>\n",
       "<span class=\"count\">7</span>\n",
       "</a></div>\n",
       "<div class=\"description\">페칭 - 테크 기반의 문화와 자유로운 분위기를 지향하는 회사 </div>\n",
       "<div class=\"nowrap meta\">      IT/서비스 ∙ 앱 ∙ ICT\n",
       "</div><div class=\"applicants\">\n",
       "<div class=\"avatar-list\">\n",
       "<div class=\"mini masked item\">?</div><div class=\"mini masked item\">?</div><div class=\"mini masked item\">?</div><div class=\"mini masked item\">?</div>\n",
       "<div class=\"more item mini\"><span>+2</span></div>\n",
       "</div>\n",
       "<span><a href=\"/companies/fetching/jobs/applicants\">5명 이상이 로켓펀치를 통해 지원</a></span>\n",
       "</div><div class=\"ui divider\"></div>\n",
       "<div class=\"company-jobs-detail\">\n",
       "<div class=\"job-detail\">\n",
       "<div>\n",
       "<a class=\"nowrap job-title primary link\" href=\"/jobs/66855/Python-Back-end-%EA%B0%9C%EB%B0%9C%EC%9E%90-%ED%8C%80%EC%9B%90%EC%9D%84-%EA%B5%AC%ED%95%B4%EC%9A%94\" target=\"_blank\">Python Back-end 개발자 팀원을 구해요</a>\n",
       "<span class=\"job-stat-info\">3,000 - 6,000만원 / 1.0% - 5.0% / 신입, 경력</span>\n",
       "<a data-modal=\"login\" style=\"float:right\"><i class=\"ic-bookmark_outline icon\"></i></a>\n",
       "</div>\n",
       "<div class=\"job-dates\">\n",
       "<span>\n",
       "<i class=\"ic-calendar_new icon\"></i>                03/27 마감\n",
       "</span><span>\n",
       "<i class=\"feed icon\"></i>\n",
       "                원격근무\n",
       "              </span><span>                03/07 수정\n",
       "</span></div>\n",
       "</div>\n",
       "</div>\n",
       "</div>\n",
       "</div>\n",
       "<div class=\"ui inverted divider\"></div><div class=\"company item\" data-company_id=\"5137\">\n",
       "<div class=\"logo image\">\n",
       "<a href=\"/companies/idve/jobs\" target=\"_blank\">\n",
       "<div class=\"ui logo\">\n",
       "<img alt=\"아이디브 logo\" class=\"ui image\" src=\"https://image.rocketpunch.com/company/5137/idve_logo_1511959631.png?s=100x100&amp;t=inside\"/>\n",
       "</div>\n",
       "</a>\n",
       "</div>\n",
       "<div class=\"content\">\n",
       "<div class=\"ui right floated skip header\">\n",
       "<a data-modal=\"signup\">✕</a>\n",
       "</div>\n",
       "<div class=\"company-name\">\n",
       "<a href=\"/companies/idve/jobs\" target=\"_blank\">\n",
       "<h4 class=\"header name\"> <strong>아이디브</strong>\n",
       "<small>(IDVE)</small>\n",
       "</h4>\n",
       "</a><span class=\"ui small basic response recruit label\"><div data-content=\"7일 이내 지원 결과를 알려줄 확률이 90% 이상인 기업입니다.\" data-variation=\"inverted mini\">응답률 우수</div><div data-content=\"로켓펀치를 통해 채용한 기록이 있는 기업입니다.\" data-variation=\"inverted mini\">채용 우수</div></span><a class=\"reference-count\" data-method=\"post\" data-url=\"/api/companies/5137/reference\">\n",
       "<i class=\"ic-thumbup-outline icon\"></i>\n",
       "<span class=\"count\">7</span>\n",
       "</a></div>\n",
       "<div class=\"description\">심플! 편안한 해외직구 애프터바이! 국내 오픈마켓 같은 해외직구 서비스 </div>\n",
       "<div class=\"nowrap meta\">      모바일서비스 ∙ 웹서비스 ∙ 마케팅 ∙ 데이터 ∙ 빅데이터 ∙ 모바일앱 ∙ 데이터분석 ∙ 해외직구 ∙ 통계분석\n",
       "</div><div class=\"applicants\">\n",
       "<div class=\"avatar-list\">\n",
       "<div class=\"mini masked item\">?</div><div class=\"mini masked item\">?</div><div class=\"mini masked item\">?</div><div class=\"mini masked item\">?</div>\n",
       "<div class=\"more item mini\"><span>+321</span></div>\n",
       "</div>\n",
       "<span><a href=\"/companies/idve/jobs/applicants\">325명 이상이 로켓펀치를 통해 지원</a></span>\n",
       "</div><div class=\"ui divider\"></div>\n",
       "<div class=\"company-jobs-detail\">\n",
       "<div class=\"job-detail\">\n",
       "<div>\n",
       "<a class=\"nowrap job-title primary link\" href=\"/jobs/69882/%ED%95%B4%EC%99%B8%EC%A7%81%EA%B5%AC-%EC%95%A0%ED%94%84%ED%84%B0%EB%B0%94%EC%9D%B4-PythonReact-%EA%B0%9C%EB%B0%9C%EC%9E%90-%EB%AA%A8%EC%8B%AD%EB%8B%88%EB%8B%A4\" target=\"_blank\">해외직구 애프터바이 [Python,React 개발자] 모십니다!</a>\n",
       "<span class=\"job-stat-info\">최대 9,000만원 / 최대 3.0% / 경력</span>\n",
       "<a data-modal=\"login\" style=\"float:right\"><i class=\"ic-bookmark_outline icon\"></i></a>\n",
       "</div>\n",
       "<div class=\"job-dates\">\n",
       "<span>\n",
       "<i class=\"ic-calendar_new icon\"></i>                03/21 마감\n",
       "</span><span>                03/07 수정\n",
       "</span></div>\n",
       "</div>\n",
       "</div>\n",
       "</div>\n",
       "</div>\n",
       "<div class=\"ui inverted divider\"></div><div class=\"company item\" data-company_id=\"94059\">\n",
       "<div class=\"logo image\">\n",
       "<a href=\"/companies/dslabglobal/jobs\" target=\"_blank\">\n",
       "<div class=\"ui logo\">\n",
       "<img alt=\"디에스랩글로벌 logo\" class=\"ui image\" src=\"https://image.rocketpunch.com/company/94059/skyhub_logo_1580273903.jpg?s=100x100&amp;t=inside\"/>\n",
       "</div>\n",
       "</a>\n",
       "</div>\n",
       "<div class=\"content\">\n",
       "<div class=\"ui right floated skip header\">\n",
       "<a data-modal=\"signup\">✕</a>\n",
       "</div>\n",
       "<div class=\"company-name\">\n",
       "<a href=\"/companies/dslabglobal/jobs\" target=\"_blank\">\n",
       "<h4 class=\"header name\"> <strong>디에스랩글로벌</strong>\n",
       "<small>(DSLAB GLOBAL)</small>\n",
       "</h4>\n",
       "</a><span class=\"ui small basic response label\"><div data-content=\"7일 이내 지원 결과를 알려줄 확률이 90% 이상인 기업입니다.\" data-variation=\"inverted mini\">응답률 우수</div></span><a class=\"reference-count\" data-method=\"post\" data-url=\"/api/companies/94059/reference\">\n",
       "<i class=\"ic-thumbup-outline icon\"></i>\n",
       "<span class=\"count\">2</span>\n",
       "</a></div>\n",
       "<div class=\"description\">인공지능 자동화 솔루션 전문 기업 </div>\n",
       "<div class=\"nowrap meta\">      소프트웨어 ∙ IT ∙ 인공지능 ∙ IT/서비스 ∙ 컨설팅 ∙ 머신러닝 ∙ 서비스/소프트웨어개발및공급업 ∙ IT/인공지능 ∙ 딥러닝 ∙ SaaS\n",
       "</div><div class=\"applicants\">\n",
       "<div class=\"avatar-list\">\n",
       "<div class=\"mini masked item\">?</div><div class=\"mini masked item\">?</div><div class=\"mini masked item\">?</div><div class=\"mini masked item\">?</div>\n",
       "<div class=\"more item mini\"><span>+65</span></div>\n",
       "</div>\n",
       "<span><a href=\"/companies/dslabglobal/jobs/applicants\">65명 이상이 로켓펀치를 통해 지원</a></span>\n",
       "</div><div class=\"ui divider\"></div>\n",
       "<div class=\"company-jobs-detail\">\n",
       "<div class=\"job-detail\">\n",
       "<div>\n",
       "<a class=\"nowrap job-title primary link\" href=\"/jobs/69431/%EB%8D%B0%EC%9D%B4%ED%84%B0-%EB%B6%84%EC%84%9D%EA%B0%80\" target=\"_blank\">데이터 분석가</a>\n",
       "<span class=\"job-stat-info\">신입, 경력</span>\n",
       "<a data-modal=\"login\" style=\"float:right\"><i class=\"ic-bookmark_outline icon\"></i></a>\n",
       "</div>\n",
       "<div class=\"job-dates\">\n",
       "<span>\n",
       "<i class=\"ic-calendar_new icon\"></i>                03/13 마감\n",
       "</span><span>                02/12 등록\n",
       "</span></div>\n",
       "</div>\n",
       "<div class=\"ui divider\"></div> <div class=\"job-detail\">\n",
       "<div>\n",
       "<a class=\"nowrap job-title primary link\" href=\"/jobs/69429/%EB%B0%B1%EC%97%94%EB%93%9C-%EA%B0%9C%EB%B0%9C%EC%9E%90\" target=\"_blank\">백엔드 개발자</a>\n",
       "<span class=\"job-stat-info\">신입, 경력</span>\n",
       "<a data-modal=\"login\" style=\"float:right\"><i class=\"ic-bookmark_outline icon\"></i></a>\n",
       "</div>\n",
       "<div class=\"job-dates\">\n",
       "<span>\n",
       "<i class=\"ic-calendar_new icon\"></i>                수시채용\n",
       "</span><span>                03/06 수정\n",
       "</span></div>\n",
       "</div>\n",
       "</div>\n",
       "</div>\n",
       "</div>\n",
       "<div class=\"ui inverted divider\"></div><div class=\"company item\" data-company_id=\"29834\">\n",
       "<div class=\"logo image\">\n",
       "<a href=\"/companies/paletteco/jobs\" target=\"_blank\">\n",
       "<div class=\"ui logo\">\n",
       "<img alt=\"에이블리코퍼레이션 logo\" class=\"ui image\" src=\"https://image.rocketpunch.com/company/29834/paletteco_logo_1556522541.png?s=100x100&amp;t=inside\"/>\n",
       "</div>\n",
       "</a>\n",
       "</div>\n",
       "<div class=\"content\">\n",
       "<div class=\"ui right floated skip header\">\n",
       "<a data-modal=\"signup\">✕</a>\n",
       "</div>\n",
       "<div class=\"company-name\">\n",
       "<a href=\"/companies/paletteco/jobs\" target=\"_blank\">\n",
       "<h4 class=\"header name\"> <strong>에이블리코퍼레이션</strong>\n",
       "<small>(ABLY)</small>\n",
       "</h4>\n",
       "</a><span class=\"ui small basic response label\"><div data-content=\"7일 이내 지원 결과를 알려줄 확률이 90% 이상인 기업입니다.\" data-variation=\"inverted mini\">응답률 우수</div></span><a class=\"reference-count\" data-method=\"post\" data-url=\"/api/companies/29834/reference\">\n",
       "<i class=\"ic-thumbup-outline icon\"></i>\n",
       "<span class=\"count\">14</span>\n",
       "</a></div>\n",
       "<div class=\"description\">이커머스를 혁신해나가는 커머스 플랫폼, 에이블리 입니다. </div>\n",
       "<div class=\"nowrap meta\">      모바일서비스 ∙ 웹서비스 ∙ 소프트웨어개발/서비스 ∙ 모바일플랫폼 ∙ 온라인플랫폼 ∙ 이커머스 ∙ 전자상거래\n",
       "</div><div class=\"applicants\">\n",
       "<div class=\"avatar-list\">\n",
       "<a href=\"/@dhguswns23\">\n",
       "<img alt=\"\" class=\"ui mini circular image\" src=\"https://image.rocketpunch.com/images/user/user.png?s=35x35&amp;t=cover\"/>\n",
       "</a><div class=\"mini masked item\">?</div><div class=\"mini masked item\">?</div><div class=\"mini masked item\">?</div>\n",
       "<div class=\"more item mini\"><span>+249</span></div>\n",
       "</div>\n",
       "<span><a href=\"/companies/paletteco/jobs/applicants\">250명 이상이 로켓펀치를 통해 지원</a></span>\n",
       "</div><div class=\"ui divider\"></div>\n",
       "<div class=\"company-jobs-detail\">\n",
       "<div class=\"job-detail\">\n",
       "<div>\n",
       "<a class=\"nowrap job-title primary link\" href=\"/jobs/64321/%EB%A8%B8%EC%8B%A0%EB%9F%AC%EB%8B%9D-%EC%97%94%EC%A7%80%EB%8B%88%EC%96%B4-%EC%BB%A4%EB%A8%B8%EC%8A%A4%ED%94%8C%EB%9E%AB%ED%8F%BC\" target=\"_blank\">머신러닝 엔지니어 (커머스플랫폼)</a>\n",
       "<span class=\"job-stat-info\">경력</span>\n",
       "<a data-modal=\"login\" style=\"float:right\"><i class=\"ic-bookmark_outline icon\"></i></a>\n",
       "</div>\n",
       "<div class=\"job-dates\">\n",
       "<span>\n",
       "<i class=\"ic-calendar_new icon\"></i>                수시채용\n",
       "</span><span>                03/06 수정\n",
       "</span></div>\n",
       "</div>\n",
       "<div class=\"ui divider\"></div> <div class=\"job-detail\">\n",
       "<div>\n",
       "<a class=\"nowrap job-title primary link\" href=\"/jobs/53396/%EB%B0%B1%EC%97%94%EB%93%9C-%EA%B0%9C%EB%B0%9C%EC%9E%90-%EB%B3%91%EC%97%AD%ED%8A%B9%EB%A1%80%EA%B0%80%EB%8A%A5\" target=\"_blank\">백엔드 개발자 (병역특례가능)</a>\n",
       "<span class=\"job-stat-info\">경력</span>\n",
       "<a data-modal=\"login\" style=\"float:right\"><i class=\"ic-bookmark_outline icon\"></i></a>\n",
       "</div>\n",
       "<div class=\"job-dates\">\n",
       "<span>\n",
       "<i class=\"ic-calendar_new icon\"></i>                수시채용\n",
       "</span><span>                03/06 수정\n",
       "</span></div>\n",
       "</div>\n",
       "</div>\n",
       "</div>\n",
       "</div>\n",
       "<div class=\"ui inverted divider\"></div><div class=\"company item\" data-company_id=\"29246\">\n",
       "<div class=\"logo image\">\n",
       "<a href=\"/companies/uconnec/jobs\" target=\"_blank\">\n",
       "<div class=\"ui logo\">\n",
       "<img alt=\"유커넥 logo\" class=\"ui image\" src=\"https://image.rocketpunch.com/company/29246/uconnec_logo_1582000741.png?s=100x100&amp;t=inside\"/>\n",
       "</div>\n",
       "</a>\n",
       "</div>\n",
       "<div class=\"content\">\n",
       "<div class=\"ui right floated skip header\">\n",
       "<a data-modal=\"signup\">✕</a>\n",
       "</div>\n",
       "<div class=\"company-name\">\n",
       "<a href=\"/companies/uconnec/jobs\" target=\"_blank\">\n",
       "<h4 class=\"header name\"> <strong>유커넥</strong>\n",
       "<small>(Uconnec)</small>\n",
       "</h4>\n",
       "</a><span class=\"ui small basic recruit label\"><div data-content=\"로켓펀치를 통해 채용한 기록이 있는 기업입니다.\" data-variation=\"inverted mini\">채용 우수</div></span><a class=\"reference-count\" data-method=\"post\" data-url=\"/api/companies/29246/reference\">\n",
       "<i class=\"ic-thumbup-outline icon\"></i>\n",
       "<span class=\"count\">22</span>\n",
       "</a></div>\n",
       "<div class=\"description\">유튜브 인플루언서와 광고주 브랜드를 연결하는 마케팅 플랫폼, \"유커넥\" </div>\n",
       "<div class=\"nowrap meta\">      웹서비스 ∙ 마케팅 ∙ 소프트웨어 ∙ 데이터 ∙ 디지털마케팅 ∙ 빅데이터분석 ∙ 광고플랫폼 ∙ MCN ∙ 유튜브 ∙ 디지털마케팅(컨텐츠/SNS) ∙ 신한퓨처스랩5기 ∙ 크리에이터 ∙ 미디어커머스 ∙ 온라인광고 ∙ MCN/비디오커머스 ∙ 인플루언서마케팅 ∙ MCN/모델/마케팅/커머스 ∙ 인플루언서마케팅플랫폼 ∙ 인플루언서커머스 ∙ Youtube ∙ 유튜브마케팅 ∙ 인플루언서플랫폼 ∙ 유튜브크리에이터 ∙ 미디어랩 ∙ 유튜버 ∙ 유튜브커머스\n",
       "</div><div class=\"applicants\">\n",
       "<div class=\"avatar-list\">\n",
       "<a href=\"/@fromleaf\">\n",
       "<img alt=\"\" class=\"ui mini circular image\" src=\"https://image.rocketpunch.com/user/5488/5488_1467194464.jpg?s=35x35&amp;t=cover\"/>\n",
       "</a><a href=\"/@iam_0714\">\n",
       "<img alt=\"\" class=\"ui mini circular image\" src=\"https://image.rocketpunch.com/user/205544/205544_1556426309.jpg?s=35x35&amp;t=cover\"/>\n",
       "</a><a href=\"/@yyoring\">\n",
       "<img alt=\"\" class=\"ui mini circular image\" src=\"https://image.rocketpunch.com/user/232071/232071_1564044710.jpg?s=35x35&amp;t=cover\"/>\n",
       "</a><div class=\"mini masked item\">?</div>\n",
       "<div class=\"more item mini\"><span>+346</span></div>\n",
       "</div>\n",
       "<span><a href=\"/companies/uconnec/jobs/applicants\">350명 이상이 로켓펀치를 통해 지원</a></span>\n",
       "</div><div class=\"ui divider\"></div>\n",
       "<div class=\"company-jobs-detail\">\n",
       "<div class=\"job-detail\">\n",
       "<div>\n",
       "<a class=\"nowrap job-title primary link\" href=\"/jobs/48050/%EC%96%B4%EB%B2%A4%EC%A0%B8%EC%8A%A4-%ED%92%80%EC%8A%A4%ED%83%9D-%EA%B0%9C%EB%B0%9C%EC%9E%90-DjangoReact\" target=\"_blank\">\"어벤져스\" 풀스택 개발자 (Django/React)</a>\n",
       "<span class=\"job-stat-info\">3,600 - 10,000만원 / 최대 2.0% / 경력</span>\n",
       "<a data-modal=\"login\" style=\"float:right\"><i class=\"ic-bookmark_outline icon\"></i></a>\n",
       "</div>\n",
       "<div class=\"job-dates\">\n",
       "<span>\n",
       "<i class=\"ic-calendar_new icon\"></i>                03/31 마감\n",
       "</span><span>                03/06 수정\n",
       "</span></div>\n",
       "</div>\n",
       "<div class=\"ui divider\"></div> <div class=\"job-detail\">\n",
       "<div>\n",
       "<a class=\"nowrap job-title primary link\" href=\"/jobs/68119/%EC%96%B4%EB%B2%A4%EC%A0%B8%EC%8A%A4-%EB%B0%B1%EC%97%94%EB%93%9C-%EA%B0%9C%EB%B0%9C%EC%9E%90\" target=\"_blank\">\"어벤져스\" 백엔드 개발자</a>\n",
       "<span class=\"job-stat-info\">4,000 - 10,000만원 / 최대 3.0% / 경력</span>\n",
       "<a data-modal=\"login\" style=\"float:right\"><i class=\"ic-bookmark_outline icon\"></i></a>\n",
       "</div>\n",
       "<div class=\"job-dates\">\n",
       "<span>\n",
       "<i class=\"ic-calendar_new icon\"></i>                03/31 마감\n",
       "</span><span>                03/06 수정\n",
       "</span></div>\n",
       "</div>\n",
       "</div>\n",
       "</div>\n",
       "</div>\n",
       "<div class=\"ui inverted divider\"></div><div class=\"company item\" data-company_id=\"87128\">\n",
       "<div class=\"logo image\">\n",
       "<a href=\"/companies/astera/jobs\" target=\"_blank\">\n",
       "<div class=\"ui logo\">\n",
       "<img alt=\"아스테라 logo\" class=\"ui image\" src=\"https://image.rocketpunch.com/company/87128/astera_logo_1567742668.png?s=100x100&amp;t=inside\"/>\n",
       "</div>\n",
       "</a>\n",
       "</div>\n",
       "<div class=\"content\">\n",
       "<div class=\"ui right floated skip header\">\n",
       "<a data-modal=\"signup\">✕</a>\n",
       "</div>\n",
       "<div class=\"company-name\">\n",
       "<a href=\"/companies/astera/jobs\" target=\"_blank\">\n",
       "<h4 class=\"header name\"> <strong>아스테라</strong>\n",
       "<small>(ASTERA)</small>\n",
       "</h4>\n",
       "</a><span class=\"ui small basic response label\"><div data-content=\"7일 이내 지원 결과를 알려줄 확률이 90% 이상인 기업입니다.\" data-variation=\"inverted mini\">응답률 우수</div></span><a class=\"reference-count\" data-method=\"post\" data-url=\"/api/companies/87128/reference\">\n",
       "<i class=\"ic-thumbup-outline icon\"></i>\n",
       "<span class=\"count\">10</span>\n",
       "</a></div>\n",
       "<div class=\"description\">사용할 수록 사용자에게 더 나은 가치를 선사하는 음식 테이크아웃 서비스 \"잇플\"을 개발하는 대한민국 최고의 푸드테크 스타트업. </div>\n",
       "<div class=\"nowrap meta\">      O2O ∙ IoT ∙ 빅데이터 ∙ 공유경제 ∙ 푸드테크 ∙ 챗봇 ∙ 모바일결제 ∙ 음식 ∙ 푸드스타트업\n",
       "</div><div class=\"applicants\">\n",
       "<div class=\"avatar-list\">\n",
       "<a href=\"/@daniellim\">\n",
       "<img alt=\"\" class=\"ui mini circular image\" src=\"https://image.rocketpunch.com/user/70759/70759_1545976524.jpg?s=35x35&amp;t=cover\"/>\n",
       "</a><div class=\"mini masked item\">?</div><div class=\"mini masked item\">?</div><div class=\"mini masked item\">?</div>\n",
       "<div class=\"more item mini\"><span>+143</span></div>\n",
       "</div>\n",
       "<span><a href=\"/companies/astera/jobs/applicants\">145명 이상이 로켓펀치를 통해 지원</a></span>\n",
       "</div><div class=\"ui divider\"></div>\n",
       "<div class=\"company-jobs-detail\">\n",
       "<div class=\"job-detail\">\n",
       "<div>\n",
       "<a class=\"nowrap job-title primary link\" href=\"/jobs/69410/%EB%B0%B1%EC%97%94%EB%93%9C-%ED%8C%8C%EC%9D%B4%EC%8D%AC-%EC%84%9C%EB%B2%84-%EA%B0%9C%EB%B0%9C%EC%9E%90\" target=\"_blank\">백엔드 파이썬 서버 개발자</a>\n",
       "<span class=\"job-stat-info\">3,000 - 5,500만원 / 최대 3.0% / 경력</span>\n",
       "<a data-modal=\"login\" style=\"float:right\"><i class=\"ic-bookmark_outline icon\"></i></a>\n",
       "</div>\n",
       "<div class=\"job-dates\">\n",
       "<span>\n",
       "<i class=\"ic-calendar_new icon\"></i>                03/15 마감\n",
       "</span><span>                03/06 수정\n",
       "</span></div>\n",
       "</div>\n",
       "</div>\n",
       "</div>\n",
       "</div>\n",
       "<div class=\"ui inverted divider\"></div><div class=\"company item\" data-company_id=\"5504\">\n",
       "<div class=\"logo image\">\n",
       "<a href=\"/companies/loplat/jobs\" target=\"_blank\">\n",
       "<div class=\"ui logo\">\n",
       "<img alt=\"로플랫 logo\" class=\"ui image\" src=\"https://image.rocketpunch.com/company/5504/loplat_logo_1524725183.png?s=100x100&amp;t=inside\"/>\n",
       "</div>\n",
       "</a>\n",
       "</div>\n",
       "<div class=\"content\">\n",
       "<div class=\"ui right floated skip header\">\n",
       "<a data-modal=\"signup\">✕</a>\n",
       "</div>\n",
       "<div class=\"company-name\">\n",
       "<a href=\"/companies/loplat/jobs\" target=\"_blank\">\n",
       "<h4 class=\"header name\"> <strong>로플랫</strong>\n",
       "<small>(loplat)</small>\n",
       "</h4>\n",
       "</a><a class=\"reference-count\" data-method=\"post\" data-url=\"/api/companies/5504/reference\">\n",
       "<i class=\"ic-thumbup-outline icon\"></i>\n",
       "<span class=\"count\">13</span>\n",
       "</a></div>\n",
       "<div class=\"description\">로플랫은 오프라인 데이터의 핵심인 사용자의 실내위치정보 플랫폼을 만들어 갑니다. </div>\n",
       "<div class=\"nowrap meta\">      모바일서비스 ∙ 웹서비스 ∙ 소프트웨어 ∙ 데이터 ∙ 플랫폼 ∙ AI ∙ 안드로이드 ∙ 빅데이터분석 ∙ 클라우드 ∙ MachineLearning ∙ 위치인식 ∙ OfflinetoOnline\n",
       "</div><div class=\"applicants\">\n",
       "<div class=\"avatar-list\">\n",
       "<a href=\"/@hwaminson\">\n",
       "<img alt=\"\" class=\"ui mini circular image\" src=\"https://image.rocketpunch.com/user/14588/14588_1538378004.jpg?s=35x35&amp;t=cover\"/>\n",
       "</a><a href=\"/@jinjungi\">\n",
       "<img alt=\"\" class=\"ui mini circular image\" src=\"https://image.rocketpunch.com/user/34879/34879_1498014817.png?s=35x35&amp;t=cover\"/>\n",
       "</a><a href=\"/@3080kjs\">\n",
       "<img alt=\"\" class=\"ui mini circular image\" src=\"https://image.rocketpunch.com/user/23612/23612_1533472224.jpg?s=35x35&amp;t=cover\"/>\n",
       "</a><div class=\"mini masked item\">?</div>\n",
       "<div class=\"more item mini\"><span>+146</span></div>\n",
       "</div>\n",
       "<span><a href=\"/companies/loplat/jobs/applicants\">150명 이상이 로켓펀치를 통해 지원</a></span>\n",
       "</div><div class=\"ui divider\"></div>\n",
       "<div class=\"company-jobs-detail\">\n",
       "<div class=\"job-detail\">\n",
       "<div>\n",
       "<a class=\"nowrap job-title primary link\" href=\"/jobs/61620/%EB%A1%9C%ED%94%8C%EB%9E%AB-%EB%B9%85%EB%8D%B0%EC%9D%B4%ED%84%B0-%EC%97%94%EC%A7%80%EB%8B%88%EC%96%B4-%EC%B1%84%EC%9A%A9-%EC%8B%A0%EC%9E%85%EA%B2%BD%EB%A0%A5\" target=\"_blank\">[로플랫] 빅데이터 엔지니어 채용 (신입/경력)</a>\n",
       "<span class=\"job-stat-info\">3,400 - 5,000만원 / 신입, 경력</span>\n",
       "<a data-modal=\"login\" style=\"float:right\"><i class=\"ic-bookmark_outline icon\"></i></a>\n",
       "</div>\n",
       "<div class=\"job-dates\">\n",
       "<span>\n",
       "<i class=\"ic-calendar_new icon\"></i>                03/31 마감\n",
       "</span><span>                03/06 수정\n",
       "</span></div>\n",
       "</div>\n",
       "</div>\n",
       "</div>\n",
       "</div>\n",
       "<div class=\"ui inverted divider\"></div><div class=\"company item\" data-company_id=\"115878\">\n",
       "<div class=\"logo image\">\n",
       "<a href=\"/companies/aiea/jobs\" target=\"_blank\">\n",
       "<div class=\"ui logo\">\n",
       "<img alt=\"한국인공지능기업협회 logo\" class=\"ui image\" src=\"https://image.rocketpunch.com/company/115878/aiea_logo_1582523438.jpg?s=100x100&amp;t=inside\"/>\n",
       "</div>\n",
       "</a>\n",
       "</div>\n",
       "<div class=\"content\">\n",
       "<div class=\"ui right floated skip header\">\n",
       "<a data-modal=\"signup\">✕</a>\n",
       "</div>\n",
       "<div class=\"company-name\">\n",
       "<a href=\"/companies/aiea/jobs\" target=\"_blank\">\n",
       "<h4 class=\"header name\"> <strong>한국인공지능기업협회</strong>\n",
       "<small>(AIEA)</small>\n",
       "</h4>\n",
       "</a><a class=\"reference-count\" data-method=\"post\" data-url=\"/api/companies/115878/reference\">\n",
       "<i class=\"ic-thumbup-outline icon\"></i>\n",
       "<span class=\"count\">1</span>\n",
       "</a></div>\n",
       "<div class=\"description\">한국인공지능기업협회는 LabABC, 포럼FIRST, 교육분과 등 인공기능 및 블록체인 융합을 위한 협회입니다. </div>\n",
       "<div class=\"nowrap meta\">      블록체인 ∙ 인공지능 ∙ 교육/강연\n",
       "</div><div class=\"ui divider\"></div>\n",
       "<div class=\"company-jobs-detail\">\n",
       "<div class=\"job-detail\">\n",
       "<div>\n",
       "<a class=\"nowrap job-title primary link\" href=\"/jobs/70556/%EA%B8%B0%EC%97%85%EC%A3%BC%EB%8F%84%ED%98%95-%EB%B8%94%EB%A1%9D%EC%B2%B4%EC%9D%B8-%ED%94%84%EB%A1%9C%EC%A0%9D%ED%8A%B8-%EA%B0%9C%EB%B0%9C%EC%9E%90-%EC%96%91%EC%84%B1%EA%B3%BC%EC%A0%95%EB%8C%80%EC%A0%84\" target=\"_blank\">기업주도형 블록체인 프로젝트 개발자 양성과정(대전)</a>\n",
       "<span class=\"job-stat-info\">인턴</span>\n",
       "<a data-modal=\"login\" style=\"float:right\"><i class=\"ic-bookmark_outline icon\"></i></a>\n",
       "</div>\n",
       "<div class=\"job-dates\">\n",
       "<span>\n",
       "<i class=\"ic-calendar_new icon\"></i>                04/24 마감\n",
       "</span><span>\n",
       "<i class=\"feed icon\"></i>\n",
       "                원격근무\n",
       "              </span><span>                03/06 등록\n",
       "</span></div>\n",
       "</div>\n",
       "</div>\n",
       "</div>\n",
       "</div>\n",
       "<div class=\"ui inverted divider\"></div><div class=\"company item\" data-company_id=\"5803\">\n",
       "<div class=\"logo image\">\n",
       "<a href=\"/companies/pandoratv/jobs\" target=\"_blank\">\n",
       "<div class=\"ui logo\">\n",
       "<img alt=\"판도라TV logo\" class=\"ui image\" src=\"https://image.rocketpunch.com/company/5803/pandoratv_logo_1450328141.png?s=100x100&amp;t=inside\"/>\n",
       "</div>\n",
       "</a>\n",
       "</div>\n",
       "<div class=\"content\">\n",
       "<div class=\"ui right floated skip header\">\n",
       "<a data-modal=\"signup\">✕</a>\n",
       "</div>\n",
       "<div class=\"company-name\">\n",
       "<a href=\"/companies/pandoratv/jobs\" target=\"_blank\">\n",
       "<h4 class=\"header name\"> <strong>판도라TV</strong>\n",
       "<small>(PandoraTV)</small>\n",
       "</h4>\n",
       "</a><a class=\"reference-count\" data-method=\"post\" data-url=\"/api/companies/5803/reference\">\n",
       "<i class=\"ic-thumbup-outline icon\"></i>\n",
       "<span class=\"count\"></span>\n",
       "</a></div>\n",
       "<div class=\"description\">암호화폐 시장의 기준을 함께 만들어나갈 분을 찾습니다 </div>\n",
       "<div class=\"nowrap meta\">      IT\n",
       "</div><div class=\"ui divider\"></div>\n",
       "<div class=\"company-jobs-detail\">\n",
       "<div class=\"job-detail\">\n",
       "<div>\n",
       "<a class=\"nowrap job-title primary link\" href=\"/jobs/70544/Cobak-Back-end-%EA%B0%9C%EB%B0%9C%EC%9E%90\" target=\"_blank\">Cobak Back-end 개발자</a>\n",
       "<span class=\"job-stat-info\">경력</span>\n",
       "<a data-modal=\"login\" style=\"float:right\"><i class=\"ic-bookmark_outline icon\"></i></a>\n",
       "</div>\n",
       "<div class=\"job-dates\">\n",
       "<span>\n",
       "<i class=\"ic-calendar_new icon\"></i>                04/05 마감\n",
       "</span><span>                03/06 등록\n",
       "</span></div>\n",
       "</div>\n",
       "</div>\n",
       "</div>\n",
       "</div>\n",
       "<div class=\"ui inverted divider\"></div><div class=\"company item\" data-company_id=\"103847\">\n",
       "<div class=\"logo image\">\n",
       "<a href=\"/companies/finports-1/jobs\" target=\"_blank\">\n",
       "<div class=\"ui logo\">\n",
       "<img alt=\"핀포츠 logo\" class=\"ui image\" src=\"https://image.rocketpunch.com/company/103847/finports-1_logo_1568083024.jpg?s=100x100&amp;t=inside\"/>\n",
       "</div>\n",
       "</a>\n",
       "</div>\n",
       "<div class=\"content\">\n",
       "<div class=\"ui right floated skip header\">\n",
       "<a data-modal=\"signup\">✕</a>\n",
       "</div>\n",
       "<div class=\"company-name\">\n",
       "<a href=\"/companies/finports-1/jobs\" target=\"_blank\">\n",
       "<h4 class=\"header name\"> <strong>핀포츠</strong>\n",
       "<small>(Finports)</small>\n",
       "</h4>\n",
       "</a><a class=\"reference-count\" data-method=\"post\" data-url=\"/api/companies/103847/reference\">\n",
       "<i class=\"ic-thumbup-outline icon\"></i>\n",
       "<span class=\"count\"></span>\n",
       "</a></div>\n",
       "<div class=\"description\">대한민국 최대 쇼핑 결제 시스템 </div>\n",
       "<div class=\"nowrap meta\">      전자결제 ∙ 모바일결제서비스 ∙ 온라인결제\n",
       "</div><div class=\"applicants\">\n",
       "<div class=\"avatar-list\">\n",
       "<div class=\"mini masked item\">?</div><div class=\"mini masked item\">?</div><div class=\"mini masked item\">?</div><div class=\"mini masked item\">?</div>\n",
       "<div class=\"more item mini\"><span>+19</span></div>\n",
       "</div>\n",
       "<span><a href=\"/companies/finports-1/jobs/applicants\">20명 이상이 로켓펀치를 통해 지원</a></span>\n",
       "</div><div class=\"ui divider\"></div>\n",
       "<div class=\"company-jobs-detail\">\n",
       "<div class=\"job-detail\">\n",
       "<div>\n",
       "<a class=\"nowrap job-title primary link\" href=\"/jobs/70543/%EA%B0%9C%EB%B0%9C%ED%8C%80%EC%9E%A5-%EB%B0%B1%EC%97%94%EB%93%9C-%EC%84%9C%EB%B2%84-%EA%B0%9C%EB%B0%9C%EC%9E%90-%EC%B1%84%EC%9A%A9\" target=\"_blank\">[개발팀장] 백엔드 서버 개발자 채용</a>\n",
       "<span class=\"job-stat-info\">5,000 - 8,000만원 / 경력</span>\n",
       "<a data-modal=\"login\" style=\"float:right\"><i class=\"ic-bookmark_outline icon\"></i></a>\n",
       "</div>\n",
       "<div class=\"job-dates\">\n",
       "<span>\n",
       "<i class=\"ic-calendar_new icon\"></i>                수시채용\n",
       "</span><span>                03/06 등록\n",
       "</span></div>\n",
       "</div>\n",
       "</div>\n",
       "</div>\n",
       "</div>\n",
       "<div class=\"ui inverted divider\"></div><div class=\"company item\" data-company_id=\"80711\">\n",
       "<div class=\"logo image\">\n",
       "<a href=\"/companies/canclemarket/jobs\" target=\"_blank\">\n",
       "<div class=\"ui logo\">\n",
       "<img alt=\"캔슬마켓 logo\" class=\"ui image\" src=\"https://image.rocketpunch.com/company/80711/canclemarket_logo_1558090160.png?s=100x100&amp;t=inside\"/>\n",
       "</div>\n",
       "</a>\n",
       "</div>\n",
       "<div class=\"content\">\n",
       "<div class=\"ui right floated skip header\">\n",
       "<a data-modal=\"signup\">✕</a>\n",
       "</div>\n",
       "<div class=\"company-name\">\n",
       "<a href=\"/companies/canclemarket/jobs\" target=\"_blank\">\n",
       "<h4 class=\"header name\"> <strong>캔슬마켓</strong>\n",
       "<small>(Cancel Market)</small>\n",
       "</h4>\n",
       "</a><span class=\"ui small basic response recruit label\"><div data-content=\"7일 이내 지원 결과를 알려줄 확률이 90% 이상인 기업입니다.\" data-variation=\"inverted mini\">응답률 우수</div><div data-content=\"로켓펀치를 통해 채용한 기록이 있는 기업입니다.\" data-variation=\"inverted mini\">채용 우수</div></span><a class=\"reference-count\" data-method=\"post\" data-url=\"/api/companies/80711/reference\">\n",
       "<i class=\"ic-thumbup-outline icon\"></i>\n",
       "<span class=\"count\">4</span>\n",
       "</a></div>\n",
       "<div class=\"description\">못가는 호텔 펜션 리조트 빨리 팔고 싸게 사자 여행갈땐 가장먼저, 캔슬마켓 </div>\n",
       "<div class=\"nowrap meta\">      모바일서비스 ∙ 웹서비스 ∙ 스타트업 ∙ 전자상거래 ∙ 안드로이드 ∙ 앱/웹서비스 ∙ php ∙ 앱/웹개발 ∙ p2p플랫폼 ∙ Front-end\n",
       "</div><div class=\"applicants\">\n",
       "<div class=\"avatar-list\">\n",
       "<div class=\"mini masked item\">?</div><div class=\"mini masked item\">?</div><div class=\"mini masked item\">?</div><div class=\"mini masked item\">?</div>\n",
       "<div class=\"more item mini\"><span>+12</span></div>\n",
       "</div>\n",
       "<span><a href=\"/companies/canclemarket/jobs/applicants\">15명 이상이 로켓펀치를 통해 지원</a></span>\n",
       "</div><div class=\"ui divider\"></div>\n",
       "<div class=\"company-jobs-detail\">\n",
       "<div class=\"job-detail\">\n",
       "<div>\n",
       "<a class=\"nowrap job-title primary link\" href=\"/jobs/70538/PHP-%EB%B0%B1%EC%97%94%EB%93%9C-%EA%B0%9C%EB%B0%9C%EC%9E%90\" target=\"_blank\">PHP 백엔드 개발자</a>\n",
       "<span class=\"job-stat-info\">최대 5,000만원 / 최대 3.0% / 신입, 경력</span>\n",
       "<a data-modal=\"login\" style=\"float:right\"><i class=\"ic-bookmark_outline icon\"></i></a>\n",
       "</div>\n",
       "<div class=\"job-dates\">\n",
       "<span>\n",
       "<i class=\"ic-calendar_new icon\"></i>                04/10 마감\n",
       "</span><span>                03/06 등록\n",
       "</span></div>\n",
       "</div>\n",
       "</div>\n",
       "</div>\n",
       "</div>\n",
       "<div class=\"ui inverted divider\"></div><div class=\"company item\" data-company_id=\"1654\">\n",
       "<div class=\"logo image\">\n",
       "<a href=\"/companies/mtov/jobs\" target=\"_blank\">\n",
       "<div class=\"ui logo\">\n",
       "<img alt=\"엠투브 logo\" class=\"ui image\" src=\"https://image.rocketpunch.com/company/1654/10/mtov_logo.png?s=100x100&amp;t=inside\"/>\n",
       "</div>\n",
       "</a>\n",
       "</div>\n",
       "<div class=\"content\">\n",
       "<div class=\"ui right floated skip header\">\n",
       "<a data-modal=\"signup\">✕</a>\n",
       "</div>\n",
       "<div class=\"company-name\">\n",
       "<a href=\"/companies/mtov/jobs\" target=\"_blank\">\n",
       "<h4 class=\"header name\"> <strong>엠투브</strong>\n",
       "<small>(MtoV)</small>\n",
       "</h4>\n",
       "</a><span class=\"ui small basic recruit label\"><div data-content=\"로켓펀치를 통해 채용한 기록이 있는 기업입니다.\" data-variation=\"inverted mini\">채용 우수</div></span><a class=\"reference-count\" data-method=\"post\" data-url=\"/api/companies/1654/reference\">\n",
       "<i class=\"ic-thumbup-outline icon\"></i>\n",
       "<span class=\"count\">4</span>\n",
       "</a></div>\n",
       "<div class=\"description\">강력한 기술과 재미있는 생각으로 드라이빙 라이프를 혁신하는 기업 </div>\n",
       "<div class=\"nowrap meta\">      모바일서비스 ∙ 웹서비스 ∙ 마케팅 ∙ 소프트웨어 ∙ 모바일게임 ∙ 데이터 ∙ 게임 ∙ 하드웨어 ∙ 앱 ∙ 자동차 ∙ 안드로이드 ∙ 개발 ∙ 소셜 ∙ SW ∙ 네트워크 ∙ HW ∙ 커넥티드카 ∙ 스마트카 ∙ 애플\n",
       "</div><div class=\"applicants\">\n",
       "<div class=\"avatar-list\">\n",
       "<div class=\"mini masked item\">?</div><div class=\"mini masked item\">?</div><div class=\"mini masked item\">?</div><div class=\"mini masked item\">?</div>\n",
       "<div class=\"more item mini\"><span>+297</span></div>\n",
       "</div>\n",
       "<span><a href=\"/companies/mtov/jobs/applicants\">300명 이상이 로켓펀치를 통해 지원</a></span>\n",
       "</div><div class=\"ui divider\"></div>\n",
       "<div class=\"company-jobs-detail\">\n",
       "<div class=\"job-detail\">\n",
       "<div>\n",
       "<a class=\"nowrap job-title primary link\" href=\"/jobs/57749/%EC%98%81%EC%83%81%EC%B2%98%EB%A6%AC%EB%B9%85%EB%8D%B0%EC%9D%B4%ED%84%B0%EC%95%88%EB%93%9C%EB%A1%9C%EC%9D%B4%EB%93%9CIOS%EC%84%9C%EB%B2%84-%EB%B6%84%EC%95%BC-%EA%B0%9C%EB%B0%9C%EC%9E%90-%EB%AA%A8%EC%A7%91\" target=\"_blank\">영상처리/빅데이터/안드로이드/IOS/서버 분야 개발자 모집</a>\n",
       "<span class=\"job-stat-info\">2,400 - 10,000만원 / 인턴, 신입, 경력</span>\n",
       "<a data-modal=\"login\" style=\"float:right\"><i class=\"ic-bookmark_outline icon\"></i></a>\n",
       "</div>\n",
       "<div class=\"job-dates\">\n",
       "<span>\n",
       "<i class=\"ic-calendar_new icon\"></i>                03/31 마감\n",
       "</span><span>                03/06 수정\n",
       "</span></div>\n",
       "</div>\n",
       "</div>\n",
       "</div>\n",
       "</div>\n",
       "<div class=\"ui inverted divider\"></div><div class=\"company item\" data-company_id=\"32852\">\n",
       "<div class=\"logo image\">\n",
       "<a href=\"/companies/codingrobotlab/jobs\" target=\"_blank\">\n",
       "<div class=\"ui logo\">\n",
       "<img alt=\"코딩로봇연구소 logo\" class=\"ui image\" src=\"https://image.rocketpunch.com/company/32852/codingrobotlab_logo_1563261478.png?s=100x100&amp;t=inside\"/>\n",
       "</div>\n",
       "</a>\n",
       "</div>\n",
       "<div class=\"content\">\n",
       "<div class=\"ui right floated skip header\">\n",
       "<a data-modal=\"signup\">✕</a>\n",
       "</div>\n",
       "<div class=\"company-name\">\n",
       "<a href=\"/companies/codingrobotlab/jobs\" target=\"_blank\">\n",
       "<h4 class=\"header name\"> <strong>코딩로봇연구소</strong>\n",
       "<small>(Coding Robot Lab)</small>\n",
       "</h4>\n",
       "</a><span class=\"ui small basic response label\"><div data-content=\"7일 이내 지원 결과를 알려줄 확률이 90% 이상인 기업입니다.\" data-variation=\"inverted mini\">응답률 우수</div></span><a class=\"reference-count\" data-method=\"post\" data-url=\"/api/companies/32852/reference\">\n",
       "<i class=\"ic-thumbup-outline icon\"></i>\n",
       "<span class=\"count\">4</span>\n",
       "</a></div>\n",
       "<div class=\"description\">AI-Powered Coding Education Services for Tech Careers를 제공하는 에듀테크 플랫폼 스타트업입니다. </div>\n",
       "<div class=\"nowrap meta\">      IT서비스 ∙ 플랫폼 ∙ 교육 ∙ 모바일플랫폼 ∙ 교육콘텐츠 ∙ 인공지능 ∙ 코딩교육 ∙ 응용소프트웨어 ∙ 데이터마이닝 ∙ 온라인코딩테스트\n",
       "</div><div class=\"applicants\">\n",
       "<div class=\"avatar-list\">\n",
       "<a href=\"/@opnay\">\n",
       "<img alt=\"\" class=\"ui mini circular image\" src=\"https://image.rocketpunch.com/user/148178/148178_1559270499.jpg?s=35x35&amp;t=cover\"/>\n",
       "</a><div class=\"mini masked item\">?</div><div class=\"mini masked item\">?</div><div class=\"mini masked item\">?</div>\n",
       "<div class=\"more item mini\"><span>+39</span></div>\n",
       "</div>\n",
       "<span><a href=\"/companies/codingrobotlab/jobs/applicants\">40명 이상이 로켓펀치를 통해 지원</a></span>\n",
       "</div><div class=\"ui divider\"></div>\n",
       "<div class=\"company-jobs-detail\">\n",
       "<div class=\"job-detail\">\n",
       "<div>\n",
       "<a class=\"nowrap job-title primary link\" href=\"/jobs/66749/%ED%8C%8C%ED%8A%B8%ED%83%80%EC%9E%84%EC%9C%BC%EB%A1%9C-%EC%8B%9C%EA%B0%84%EB%82%A0-%EB%95%8C-%EC%BD%94%EB%94%A9-%EA%B3%BC%EC%99%B8%ED%95%98%EC%8B%A4-%EA%B0%9C%EB%B0%9C%EC%9E%90%EB%93%A4%EC%9D%84-%EC%82%AC%EC%A0%84-%EB%AA%A8%EC%A7%91-%EC%A4%91%EC%9E%85%EB%8B%88%EB%8B%A4\" target=\"_blank\">파트타임으로 시간날 때 코딩 과외하실 개발자들을 사전 모집 중입니다.</a>\n",
       "<span class=\"job-stat-info\">인턴, 신입, 경력</span>\n",
       "<a data-modal=\"login\" style=\"float:right\"><i class=\"ic-bookmark_outline icon\"></i></a>\n",
       "</div>\n",
       "<div class=\"job-dates\">\n",
       "<span>\n",
       "<i class=\"ic-calendar_new icon\"></i>                수시채용\n",
       "</span><span>\n",
       "<i class=\"feed icon\"></i>\n",
       "                원격근무\n",
       "              </span><span>                03/06 수정\n",
       "</span></div>\n",
       "</div>\n",
       "</div>\n",
       "</div>\n",
       "</div>\n",
       "<div class=\"ui inverted divider\"></div><div class=\"company item\" data-company_id=\"20367\">\n",
       "<div class=\"logo image\">\n",
       "<a href=\"/companies/laftel-inc/jobs\" target=\"_blank\">\n",
       "<div class=\"ui logo\">\n",
       "<img alt=\"리디(주) - 라프텔 사업본부 logo\" class=\"ui image\" src=\"https://image.rocketpunch.com/company/20367/laftel-inc_logo_1542782651.png?s=100x100&amp;t=inside\"/>\n",
       "</div>\n",
       "</a>\n",
       "</div>\n",
       "<div class=\"content\">\n",
       "<div class=\"ui right floated skip header\">\n",
       "<a data-modal=\"signup\">✕</a>\n",
       "</div>\n",
       "<div class=\"company-name\">\n",
       "<a href=\"/companies/laftel-inc/jobs\" target=\"_blank\">\n",
       "<h4 class=\"header name\"> <strong>리디(주) - 라프텔 사업본부</strong>\n",
       "<small>(Ridi Corporation - Laftel dept.)</small>\n",
       "</h4>\n",
       "</a><span class=\"ui small basic response recruit label\"><div data-content=\"7일 이내 지원 결과를 알려줄 확률이 90% 이상인 기업입니다.\" data-variation=\"inverted mini\">응답률 우수</div><div data-content=\"로켓펀치를 통해 채용한 기록이 있는 기업입니다.\" data-variation=\"inverted mini\">채용 우수</div></span><a class=\"reference-count\" data-method=\"post\" data-url=\"/api/companies/20367/reference\">\n",
       "<i class=\"ic-thumbup-outline icon\"></i>\n",
       "<span class=\"count\">25</span>\n",
       "</a></div>\n",
       "<div class=\"description\">애니메이션을 합법적으로 무료로 감상할 수 있는 서비스 </div>\n",
       "<div class=\"nowrap meta\">      모바일서비스 ∙ 웹서비스 ∙ 마케팅 ∙ 데이터 ∙ 빅데이터 ∙ BigData ∙ 애니메이션 ∙ 컨텐츠.스트리밍.방송 ∙ 동영상스트리밍 ∙ 개인화추천 ∙ 스트리밍 ∙ 만화추천 ∙ 애니추천 ∙ AnimationRecommenda ∙ PersonalDrawingsRe\n",
       "</div><div class=\"applicants\">\n",
       "<div class=\"avatar-list\">\n",
       "<a href=\"/@hanvitkang\">\n",
       "<img alt=\"\" class=\"ui mini circular image\" src=\"https://image.rocketpunch.com/user/31009/31009_4813985b43da.jpg?s=35x35&amp;t=cover\"/>\n",
       "</a><a href=\"/@wayhome25\">\n",
       "<img alt=\"\" class=\"ui mini circular image\" src=\"https://image.rocketpunch.com/user/49622/49622_1494122317.jpg?s=35x35&amp;t=cover\"/>\n",
       "</a><a href=\"/@merong0704\">\n",
       "<img alt=\"\" class=\"ui mini circular image\" src=\"https://image.rocketpunch.com/images/user/user.png?s=35x35&amp;t=cover\"/>\n",
       "</a><a href=\"/@withsangseung\">\n",
       "<img alt=\"\" class=\"ui mini circular image\" src=\"https://image.rocketpunch.com/user/184921/184921_1542945163.jpg?s=35x35&amp;t=cover\"/>\n",
       "</a>\n",
       "<div class=\"more item mini\"><span>+329</span></div>\n",
       "</div>\n",
       "<span><a href=\"/companies/laftel-inc/jobs/applicants\">330명 이상이 로켓펀치를 통해 지원</a></span>\n",
       "</div><div class=\"ui divider\"></div>\n",
       "<div class=\"company-jobs-detail\">\n",
       "<div class=\"job-detail\">\n",
       "<div>\n",
       "<a class=\"nowrap job-title primary link\" href=\"/jobs/63669/%EC%84%9C%EB%B2%84%EB%B0%B1%EC%97%94%EB%93%9C-%EA%B0%9C%EB%B0%9C%EC%9E%90\" target=\"_blank\">서버(백엔드) 개발자</a>\n",
       "<span class=\"job-stat-info\">4,000 - 10,000만원 / 경력</span>\n",
       "<a data-modal=\"login\" style=\"float:right\"><i class=\"ic-bookmark_outline icon\"></i></a>\n",
       "</div>\n",
       "<div class=\"job-dates\">\n",
       "<span>\n",
       "<i class=\"ic-calendar_new icon\"></i>                12/31 마감\n",
       "</span><span>                03/06 수정\n",
       "</span></div>\n",
       "</div>\n",
       "</div>\n",
       "</div>\n",
       "</div>\n",
       "<div class=\"ui inverted divider\"></div><div class=\"company item\" data-company_id=\"25\">\n",
       "<div class=\"logo image\">\n",
       "<a href=\"/companies/bunjang/jobs\" target=\"_blank\">\n",
       "<div class=\"ui logo\">\n",
       "<img alt=\"번개장터 주식회사 logo\" class=\"ui image\" src=\"https://image.rocketpunch.com/company/25/quicket_logo_1532393297.png?s=100x100&amp;t=inside\"/>\n",
       "</div>\n",
       "</a>\n",
       "</div>\n",
       "<div class=\"content\">\n",
       "<div class=\"ui right floated skip header\">\n",
       "<a data-modal=\"signup\">✕</a>\n",
       "</div>\n",
       "<div class=\"company-name\">\n",
       "<a href=\"/companies/bunjang/jobs\" target=\"_blank\">\n",
       "<h4 class=\"header name\"> <strong>번개장터 주식회사</strong>\n",
       "<small>(Bungaejangter Inc.)</small>\n",
       "</h4>\n",
       "</a><span class=\"ui small basic response recruit label\"><div data-content=\"7일 이내 지원 결과를 알려줄 확률이 90% 이상인 기업입니다.\" data-variation=\"inverted mini\">응답률 우수</div><div data-content=\"로켓펀치를 통해 채용한 기록이 있는 기업입니다.\" data-variation=\"inverted mini\">채용 우수</div></span><a class=\"reference-count\" data-method=\"post\" data-url=\"/api/companies/25/reference\">\n",
       "<i class=\"ic-thumbup-outline icon\"></i>\n",
       "<span class=\"count\">17</span>\n",
       "</a></div>\n",
       "<div class=\"description\">1,400만 다운로드, 월 450만명 이상이 이용하는 모바일 중고거래 No.1 플랫폼 번개장터와 중고거래 컨시어지 No.1 셀잇을 서비스하고 있습니다. </div>\n",
       "<div class=\"nowrap meta\">      모바일서비스 ∙ 웹서비스 ∙ 소프트웨어 ∙ 모바일앱 ∙ 커머스 ∙ 공유경제 ∙ 오픈마켓 ∙ eCommerce ∙ 마켓플레이스 ∙ 중고거래 ∙ 지역정보\n",
       "</div><div class=\"applicants\">\n",
       "<div class=\"avatar-list\">\n",
       "<a href=\"/@ddkddk35\">\n",
       "<img alt=\"\" class=\"ui mini circular image\" src=\"https://image.rocketpunch.com/user/21701/21701_9f40327382ca.jpg?s=35x35&amp;t=cover\"/>\n",
       "</a><a href=\"/@eddy.sangwon\">\n",
       "<img alt=\"\" class=\"ui mini circular image\" src=\"https://image.rocketpunch.com/user/11687/11687_1499049641.jpg?s=35x35&amp;t=cover\"/>\n",
       "</a><a href=\"/@e1ffe08dab554819\">\n",
       "<img alt=\"\" class=\"ui mini circular image\" src=\"https://image.rocketpunch.com/user/145898/145898_1537542409.jpg?s=35x35&amp;t=cover\"/>\n",
       "</a><a href=\"/@bagdongug\">\n",
       "<img alt=\"\" class=\"ui mini circular image\" src=\"https://image.rocketpunch.com/user/27662/27662_42216f74a3ac.jpg?s=35x35&amp;t=cover\"/>\n",
       "</a>\n",
       "<div class=\"more item mini\"><span>+500</span></div>\n",
       "</div>\n",
       "<span><a href=\"/companies/bunjang/jobs/applicants\">500명 이상이 로켓펀치를 통해 지원</a></span>\n",
       "</div><div class=\"ui divider\"></div>\n",
       "<div class=\"company-jobs-detail\">\n",
       "<div class=\"job-detail\">\n",
       "<div>\n",
       "<a class=\"nowrap job-title primary link\" href=\"/jobs/65114/%EB%B0%B1%EC%97%94%EB%93%9CBack-end-%EA%B0%9C%EB%B0%9C%EC%9E%90\" target=\"_blank\">백엔드(Back-end) 개발자</a>\n",
       "<span class=\"job-stat-info\">3,000 - 10,000만원 / 경력</span>\n",
       "<a data-modal=\"login\" style=\"float:right\"><i class=\"ic-bookmark_outline icon\"></i></a>\n",
       "</div>\n",
       "<div class=\"job-dates\">\n",
       "<span>\n",
       "<i class=\"ic-calendar_new icon\"></i>                수시채용\n",
       "</span><span>                03/06 수정\n",
       "</span></div>\n",
       "</div>\n",
       "<div class=\"ui divider\"></div> <div class=\"job-detail\">\n",
       "<div>\n",
       "<a class=\"nowrap job-title primary link\" href=\"/jobs/62912/Devops-Enginner\" target=\"_blank\">Devops Enginner</a>\n",
       "<span class=\"job-stat-info\">4,000 - 9,000만원 / 경력</span>\n",
       "<a data-modal=\"login\" style=\"float:right\"><i class=\"ic-bookmark_outline icon\"></i></a>\n",
       "</div>\n",
       "<div class=\"job-dates\">\n",
       "<span>\n",
       "<i class=\"ic-calendar_new icon\"></i>                수시채용\n",
       "</span><span>                02/14 수정\n",
       "</span></div>\n",
       "</div>\n",
       "</div>\n",
       "</div>\n",
       "</div>\n",
       "<div class=\"ui inverted divider\"></div><div class=\"company item\" data-company_id=\"85641\">\n",
       "<div class=\"logo image\">\n",
       "<a href=\"/companies/myro/jobs\" target=\"_blank\">\n",
       "<div class=\"ui logo\">\n",
       "<img alt=\"미로 logo\" class=\"ui image\" src=\"https://image.rocketpunch.com/company/85641/myro_logo_1582046164.png?s=100x100&amp;t=inside\"/>\n",
       "</div>\n",
       "</a>\n",
       "</div>\n",
       "<div class=\"content\">\n",
       "<div class=\"ui right floated skip header\">\n",
       "<a data-modal=\"signup\">✕</a>\n",
       "</div>\n",
       "<div class=\"company-name\">\n",
       "<a href=\"/companies/myro/jobs\" target=\"_blank\">\n",
       "<h4 class=\"header name\"> <strong>미로</strong>\n",
       "<small>(MYRO)</small>\n",
       "</h4>\n",
       "</a><a class=\"reference-count\" data-method=\"post\" data-url=\"/api/companies/85641/reference\">\n",
       "<i class=\"ic-thumbup-outline icon\"></i>\n",
       "<span class=\"count\">7</span>\n",
       "</a></div>\n",
       "<div class=\"description\">국내최초 데일리 마감할인 플랫폼 라스트오더를 운영하고 있습니다 </div>\n",
       "<div class=\"nowrap meta\">      IT/서비스\n",
       "</div><div class=\"applicants\">\n",
       "<div class=\"avatar-list\">\n",
       "<div class=\"mini masked item\">?</div><div class=\"mini masked item\">?</div><div class=\"mini masked item\">?</div><div class=\"mini masked item\">?</div>\n",
       "<div class=\"more item mini\"><span>+86</span></div>\n",
       "</div>\n",
       "<span><a href=\"/companies/myro/jobs/applicants\">90명 이상이 로켓펀치를 통해 지원</a></span>\n",
       "</div><div class=\"ui divider\"></div>\n",
       "<div class=\"company-jobs-detail\">\n",
       "<div class=\"job-detail\">\n",
       "<div>\n",
       "<a class=\"nowrap job-title primary link\" href=\"/jobs/65433/%EB%9D%BC%EC%8A%A4%ED%8A%B8%EC%98%A4%EB%8D%94-Restful-API-%EB%8B%B4%EB%8B%B9-%EA%B0%9C%EB%B0%9C%EC%9E%90\" target=\"_blank\">[라스트오더] Restful API 담당 개발자</a>\n",
       "<span class=\"job-stat-info\">4,000 - 7,000만원 / 경력</span>\n",
       "<a data-modal=\"login\" style=\"float:right\"><i class=\"ic-bookmark_outline icon\"></i></a>\n",
       "</div>\n",
       "<div class=\"job-dates\">\n",
       "<span>\n",
       "<i class=\"ic-calendar_new icon\"></i>                04/10 마감\n",
       "</span><span>                03/02 수정\n",
       "</span></div>\n",
       "</div>\n",
       "<div class=\"ui divider\"></div> <div class=\"job-detail\">\n",
       "<div>\n",
       "<a class=\"nowrap job-title primary link\" href=\"/jobs/67569/%EB%9D%BC%EC%8A%A4%ED%8A%B8%EC%98%A4%EB%8D%94-%EB%B0%B1%EC%97%94%EB%93%9C-%EC%9B%B9%ED%94%84%EB%A1%9C%EA%B7%B8%EB%9E%98%EB%A8%B8\" target=\"_blank\">[라스트오더] 백엔드 웹프로그래머</a>\n",
       "<span class=\"job-stat-info\">3,000 - 7,000만원 / 경력</span>\n",
       "<a data-modal=\"login\" style=\"float:right\"><i class=\"ic-bookmark_outline icon\"></i></a>\n",
       "</div>\n",
       "<div class=\"job-dates\">\n",
       "<span>\n",
       "<i class=\"ic-calendar_new icon\"></i>                03/31 마감\n",
       "</span><span>                03/06 수정\n",
       "</span></div>\n",
       "</div>\n",
       "</div>\n",
       "</div>\n",
       "</div>\n",
       "<div class=\"ui inverted divider\"></div><div class=\"company item\" data-company_id=\"6544\">\n",
       "<div class=\"logo image\">\n",
       "<a href=\"/companies/lendit/jobs\" target=\"_blank\">\n",
       "<div class=\"ui logo\">\n",
       "<img alt=\"렌딧 logo\" class=\"ui image\" src=\"https://image.rocketpunch.com/company/6544/lendit_logo_1479286890.jpg?s=100x100&amp;t=inside\"/>\n",
       "</div>\n",
       "</a>\n",
       "</div>\n",
       "<div class=\"content\">\n",
       "<div class=\"ui right floated skip header\">\n",
       "<a data-modal=\"signup\">✕</a>\n",
       "</div>\n",
       "<div class=\"company-name\">\n",
       "<a href=\"/companies/lendit/jobs\" target=\"_blank\">\n",
       "<h4 class=\"header name\"> <strong>렌딧</strong>\n",
       "<small>(LENDIT)</small>\n",
       "</h4>\n",
       "</a><a class=\"reference-count\" data-method=\"post\" data-url=\"/api/companies/6544/reference\">\n",
       "<i class=\"ic-thumbup-outline icon\"></i>\n",
       "<span class=\"count\"></span>\n",
       "</a></div>\n",
       "<div class=\"description\">P2P금융 전문기업 </div>\n",
       "<div class=\"nowrap meta\">      모바일서비스 ∙ 웹서비스 ∙ 마케팅 ∙ 소프트웨어 ∙ 핀테크 ∙ 투자 ∙ p2p금융 ∙ 대출 ∙ 포트폴리오\n",
       "</div><div class=\"applicants\">\n",
       "<div class=\"avatar-list\">\n",
       "<div class=\"mini masked item\">?</div><div class=\"mini masked item\">?</div><div class=\"mini masked item\">?</div><div class=\"mini masked item\">?</div>\n",
       "<div class=\"more item mini\"><span>+39</span></div>\n",
       "</div>\n",
       "<span><a href=\"/companies/lendit/jobs/applicants\">40명 이상이 로켓펀치를 통해 지원</a></span>\n",
       "</div><div class=\"ui divider\"></div>\n",
       "<div class=\"company-jobs-detail\">\n",
       "<div class=\"job-detail\">\n",
       "<div>\n",
       "<a class=\"nowrap job-title primary link\" href=\"/jobs/69041/Backend-Engineer-%EC%A3%BC%EB%8B%88%EC%96%B4\" target=\"_blank\">Backend Engineer 주니어</a>\n",
       "<span class=\"job-stat-info\">신입, 경력</span>\n",
       "<a data-modal=\"login\" style=\"float:right\"><i class=\"ic-bookmark_outline icon\"></i></a>\n",
       "</div>\n",
       "<div class=\"job-dates\">\n",
       "<span>\n",
       "<i class=\"ic-calendar_new icon\"></i>                03/31 마감\n",
       "</span><span>                03/06 수정\n",
       "</span></div>\n",
       "</div>\n",
       "</div>\n",
       "</div>\n",
       "</div>\n",
       "<div class=\"ui inverted divider\"></div></div>\n",
       "<div class=\"ui blank right floated segment\">\n",
       "<div class=\"ui pagination menu\">\n",
       "<a class=\"disabled item\">\n",
       "<i class=\"angle double left icon\"></i>\n",
       "</a>\n",
       "<div class=\"tablet computer large screen widescreen only\">\n",
       "<a class=\"active item\" data-query-add=\"page=1\" href=\"?page=1&amp;q=&amp;specialty=Python&amp;tag=%EB%8D%B0%EC%9D%B4%ED%84%B0%3E\">1</a>\n",
       "<a class=\"item\" data-query-add=\"page=2\" href=\"?page=2&amp;q=&amp;specialty=Python&amp;tag=%EB%8D%B0%EC%9D%B4%ED%84%B0%3E\">2</a>\n",
       "<a class=\"item\" data-query-add=\"page=3\" href=\"?page=3&amp;q=&amp;specialty=Python&amp;tag=%EB%8D%B0%EC%9D%B4%ED%84%B0%3E\">3</a>\n",
       "<a class=\"item\" data-query-add=\"page=4\" href=\"?page=4&amp;q=&amp;specialty=Python&amp;tag=%EB%8D%B0%EC%9D%B4%ED%84%B0%3E\">4</a>\n",
       "<a class=\"item\" data-query-add=\"page=5\" href=\"?page=5&amp;q=&amp;specialty=Python&amp;tag=%EB%8D%B0%EC%9D%B4%ED%84%B0%3E\">5</a>\n",
       "<div class=\"disabled item\">...</div>\n",
       "<a class=\"item\" data-query-add=\"page=12\" href=\"?page=12&amp;q=&amp;specialty=Python&amp;tag=%EB%8D%B0%EC%9D%B4%ED%84%B0%3E\">12</a>\n",
       "</div>\n",
       "<div class=\"mobile only\">\n",
       "<a class=\"active item\" data-query-add=\"page=1\" href=\"?page=1&amp;q=&amp;specialty=Python&amp;tag=%EB%8D%B0%EC%9D%B4%ED%84%B0%3E\">1</a>\n",
       "<a class=\"item\" data-query-add=\"page=2\" href=\"?page=2&amp;q=&amp;specialty=Python&amp;tag=%EB%8D%B0%EC%9D%B4%ED%84%B0%3E\">2</a>\n",
       "<a class=\"item\" data-query-add=\"page=3\" href=\"?page=3&amp;q=&amp;specialty=Python&amp;tag=%EB%8D%B0%EC%9D%B4%ED%84%B0%3E\">3</a>\n",
       "</div>\n",
       "<a class=\"item\" data-query-add=\"page=2\" href=\"?page=2&amp;q=&amp;specialty=Python&amp;tag=%EB%8D%B0%EC%9D%B4%ED%84%B0%3E\">\n",
       "<i class=\"angle double right icon\"></i>\n",
       "</a>\n",
       "</div></div>"
      ]
     },
     "execution_count": 49,
     "metadata": {},
     "output_type": "execute_result"
    }
   ],
   "source": [
    "dom"
   ]
  },
  {
   "cell_type": "code",
   "execution_count": null,
   "metadata": {},
   "outputs": [],
   "source": []
  },
  {
   "cell_type": "code",
   "execution_count": null,
   "metadata": {},
   "outputs": [],
   "source": []
  },
  {
   "cell_type": "code",
   "execution_count": null,
   "metadata": {},
   "outputs": [],
   "source": []
  },
  {
   "cell_type": "code",
   "execution_count": null,
   "metadata": {},
   "outputs": [],
   "source": []
  },
  {
   "cell_type": "code",
   "execution_count": null,
   "metadata": {},
   "outputs": [],
   "source": []
  },
  {
   "cell_type": "code",
   "execution_count": null,
   "metadata": {},
   "outputs": [],
   "source": []
  },
  {
   "cell_type": "code",
   "execution_count": null,
   "metadata": {},
   "outputs": [],
   "source": []
  },
  {
   "cell_type": "code",
   "execution_count": 720,
   "metadata": {
    "scrolled": true
   },
   "outputs": [
    {
     "data": {
      "text/plain": [
       "bs4.BeautifulSoup"
      ]
     },
     "execution_count": 720,
     "metadata": {},
     "output_type": "execute_result"
    }
   ],
   "source": [
    "type(dom)"
   ]
  },
  {
   "cell_type": "code",
   "execution_count": 721,
   "metadata": {},
   "outputs": [
    {
     "data": {
      "text/plain": [
       "scrapy.http.response.text.TextResponse"
      ]
     },
     "execution_count": 721,
     "metadata": {},
     "output_type": "execute_result"
    }
   ],
   "source": [
    "type(response)"
   ]
  },
  {
   "cell_type": "code",
   "execution_count": 708,
   "metadata": {},
   "outputs": [
    {
     "ename": "NotSupported",
     "evalue": "Response content isn't text",
     "output_type": "error",
     "traceback": [
      "\u001b[0;31m---------------------------------------------------------------------------\u001b[0m",
      "\u001b[0;31mNotSupported\u001b[0m                              Traceback (most recent call last)",
      "\u001b[0;32m<ipython-input-708-96c43ffa7365>\u001b[0m in \u001b[0;36m<module>\u001b[0;34m\u001b[0m\n\u001b[0;32m----> 1\u001b[0;31m \u001b[0mresponse\u001b[0m\u001b[0;34m.\u001b[0m\u001b[0mxpath\u001b[0m\u001b[0;34m(\u001b[0m\u001b[0;34m'#company-list > div.company.item.active > div.content.active > div.company-name > a:nth-child(1) > h4'\u001b[0m\u001b[0;34m)\u001b[0m\u001b[0;34m\u001b[0m\u001b[0;34m\u001b[0m\u001b[0m\n\u001b[0m",
      "\u001b[0;32m~/opt/anaconda3/envs/fastcampus/lib/python3.7/site-packages/scrapy/http/response/__init__.py\u001b[0m in \u001b[0;36mxpath\u001b[0;34m(self, *a, **kw)\u001b[0m\n\u001b[1;32m    103\u001b[0m         \u001b[0;32mis\u001b[0m \u001b[0mtext\u001b[0m \u001b[0;34m(\u001b[0m\u001b[0msubclasses\u001b[0m \u001b[0mof\u001b[0m \u001b[0mTextResponse\u001b[0m\u001b[0;34m)\u001b[0m\u001b[0;34m.\u001b[0m\u001b[0;34m\u001b[0m\u001b[0;34m\u001b[0m\u001b[0m\n\u001b[1;32m    104\u001b[0m         \"\"\"\n\u001b[0;32m--> 105\u001b[0;31m         \u001b[0;32mraise\u001b[0m \u001b[0mNotSupported\u001b[0m\u001b[0;34m(\u001b[0m\u001b[0;34m\"Response content isn't text\"\u001b[0m\u001b[0;34m)\u001b[0m\u001b[0;34m\u001b[0m\u001b[0;34m\u001b[0m\u001b[0m\n\u001b[0m\u001b[1;32m    106\u001b[0m \u001b[0;34m\u001b[0m\u001b[0m\n\u001b[1;32m    107\u001b[0m     def follow(self, url, callback=None, method='GET', headers=None, body=None,\n",
      "\u001b[0;31mNotSupported\u001b[0m: Response content isn't text"
     ]
    }
   ],
   "source": [
    "response.xpath('#company-list > div.company.item.active > div.content.active > div.company-name > a:nth-child(1) > h4')"
   ]
  },
  {
   "cell_type": "code",
   "execution_count": 691,
   "metadata": {},
   "outputs": [
    {
     "data": {
      "text/plain": [
       "[<Selector xpath='//*' data='<html><body><p>{\"meta\":{\"code\":200},\"...'>,\n",
       " <Selector xpath='//*' data='<body><p>{\"meta\":{\"code\":200},\"data\":...'>,\n",
       " <Selector xpath='//*' data='<p>{\"meta\":{\"code\":200},\"data\":{\"temp...'>,\n",
       " <Selector xpath='//*' data='<div id=\\'\\\\\"company-list\\\\\"\\' class=\\'\\\\\"u...'>,\n",
       " <Selector xpath='//*' data='<div class=\\'\\\\\"header\\\\\"\\'>\\\\n    <div cl...'>,\n",
       " <Selector xpath='//*' data='<div class=\\'\\\\\"ui\\' right floated heade...'>,\n",
       " <Selector xpath='//*' data='<a data-query-add=\\'\\\\\"sort=recent\\\\\"\\' h...'>,\n",
       " <Selector xpath='//*' data='<div class=\\'\\\\\"separator\\\\\"\\'></div>'>,\n",
       " <Selector xpath='//*' data='<a data-query-add=\\'\\\\\"sort=ranking\\\\\"\\' ...'>,\n",
       " <Selector xpath='//*' data='<div class=\\'\\\\\"separator\\\\\"\\'></div>'>,\n",
       " <Selector xpath='//*' data='<a data-query-add=\\'\\\\\"sort=salary\\\\\"\\' h...'>,\n",
       " <Selector xpath='//*' data='<h2 class=\\'\\\\\"ui\\' left header style=\\'\\\\...'>,\n",
       " <Selector xpath='//*' data='<span class=\\'\\\\\"desc\\\\\"\\'>검색 결과</span>'>,\n",
       " <Selector xpath='//*' data='<span class=\\'\\\\\"count\\\\\"\\'>311</span>'>,\n",
       " <Selector xpath='//*' data='<div class=\\'\\\\\"separator\\\\\"\\'></div>'>,\n",
       " <Selector xpath='//*' data='<span class=\\'\\\\\"filter-summary\\\\\"\\'>데이터&...'>,\n",
       " <Selector xpath='//*' data='<div class=\\'\\\\\"ui\\' inverted divider></...'>,\n",
       " <Selector xpath='//*' data='<div style=\\'\\\\\"text-align:center;\\\\\"\\'>조...'>,\n",
       " <Selector xpath='//*' data='<br>'>,\n",
       " <Selector xpath='//*' data='<div class=\\'\\\\\"ui\\' inverted divider></...'>,\n",
       " <Selector xpath='//*' data='<div class=\\'\\\\\"ui\\' blank right floated...'>,\n",
       " <Selector xpath='//*' data='<div class=\\'\\\\\"ui\\' pagination menu>\\\\n ...'>,\n",
       " <Selector xpath='//*' data='<a class=\\'\\\\\"disabled\\' item>\\\\n      <i...'>,\n",
       " <Selector xpath='//*' data='<i class=\\'\\\\\"angle\\' double left icon></i>'>,\n",
       " <Selector xpath='//*' data='<div class=\\'\\\\\"tablet\\' computer large ...'>,\n",
       " <Selector xpath='//*' data='<a class=\\'\\\\\"item\\\\\"\\' data-query-add=\\'\\\\...'>,\n",
       " <Selector xpath='//*' data='<a class=\\'\\\\\"item\\\\\"\\' data-query-add=\\'\\\\...'>,\n",
       " <Selector xpath='//*' data='<a class=\\'\\\\\"item\\\\\"\\' data-query-add=\\'\\\\...'>,\n",
       " <Selector xpath='//*' data='<a class=\\'\\\\\"item\\\\\"\\' data-query-add=\\'\\\\...'>,\n",
       " <Selector xpath='//*' data='<a class=\\'\\\\\"item\\\\\"\\' data-query-add=\\'\\\\...'>,\n",
       " <Selector xpath='//*' data='<div class=\\'\\\\\"disabled\\' item>...</div>'>,\n",
       " <Selector xpath='//*' data='<a class=\\'\\\\\"item\\\\\"\\' data-query-add=\\'\\\\...'>,\n",
       " <Selector xpath='//*' data='<div class=\\'\\\\\"mobile\\' only>\\\\n      <a...'>,\n",
       " <Selector xpath='//*' data='<a class=\\'\\\\\"active\\' item data-query-a...'>,\n",
       " <Selector xpath='//*' data='<a class=\\'\\\\\"item\\\\\"\\' data-query-add=\\'\\\\...'>,\n",
       " <Selector xpath='//*' data='<a class=\\'\\\\\"item\\\\\"\\' data-query-add=\\'\\\\...'>,\n",
       " <Selector xpath='//*' data='<a class=\\'\\\\\"disabled\\' item>\\\\n      <i...'>,\n",
       " <Selector xpath='//*' data='<i class=\\'\\\\\"angle\\' double right icon>...'>]"
      ]
     },
     "execution_count": 691,
     "metadata": {},
     "output_type": "execute_result"
    }
   ],
   "source": [
    "response.xpath('//*')"
   ]
  },
  {
   "cell_type": "code",
   "execution_count": 1,
   "metadata": {},
   "outputs": [],
   "source": [
    "data = pd.read_csv('test.csv')"
   ]
  },
  {
   "cell_type": "code",
   "execution_count": 2,
   "metadata": {},
   "outputs": [
    {
     "data": {
      "text/html": [
       "<div>\n",
       "<style scoped>\n",
       "    .dataframe tbody tr th:only-of-type {\n",
       "        vertical-align: middle;\n",
       "    }\n",
       "\n",
       "    .dataframe tbody tr th {\n",
       "        vertical-align: top;\n",
       "    }\n",
       "\n",
       "    .dataframe thead th {\n",
       "        text-align: right;\n",
       "    }\n",
       "</style>\n",
       "<table border=\"1\" class=\"dataframe\">\n",
       "  <thead>\n",
       "    <tr style=\"text-align: right;\">\n",
       "      <th></th>\n",
       "      <th>company</th>\n",
       "      <th>deadline</th>\n",
       "      <th>description</th>\n",
       "      <th>link</th>\n",
       "      <th>position</th>\n",
       "      <th>salary</th>\n",
       "      <th>service</th>\n",
       "    </tr>\n",
       "  </thead>\n",
       "  <tbody>\n",
       "    <tr>\n",
       "      <td>0</td>\n",
       "      <td>투블럭Ai</td>\n",
       "      <td>수시채용</td>\n",
       "      <td>말을 알아듣는 Ai가 만들어 가는 편리한 세상</td>\n",
       "      <td>https://www.rocketpunch.com/jobs/70083/%EC%84%...</td>\n",
       "      <td>서버 개발자</td>\n",
       "      <td>4,500 - 6,000만원 / 0.1% - 1.0% / 경력</td>\n",
       "      <td>SW/AI/대화서비스</td>\n",
       "    </tr>\n",
       "    <tr>\n",
       "      <td>1</td>\n",
       "      <td>울랄라랩</td>\n",
       "      <td>03/19 마감</td>\n",
       "      <td>산업IoT 및 빅데이터 기반 스마트팩토리를 개발합니다. H/W와 S/W 융합 플랫폼...</td>\n",
       "      <td>https://www.rocketpunch.com/jobs/69735/%EC%9A%...</td>\n",
       "      <td>[울랄라랩] 스마트팩토리 백엔드 개발자를 기다립니다.(경력 2년이상)</td>\n",
       "      <td>4,000 - 8,000만원 / 0.3% - 0.5% / 경력</td>\n",
       "      <td>모바일서비스 ∙ 웹서비스 ∙ 마케팅 ∙ 소프트웨어 ∙ 데이터 ∙ 하드웨어 ∙ IoT...</td>\n",
       "    </tr>\n",
       "    <tr>\n",
       "      <td>2</td>\n",
       "      <td>딥네츄럴</td>\n",
       "      <td>03/08 마감</td>\n",
       "      <td>DeepNatural AI 플랫폼으로 사람의 지식을 인공지능에게 전달합니다 👫</td>\n",
       "      <td>https://www.rocketpunch.com/jobs/69218/%EB%B0%...</td>\n",
       "      <td>백엔드 엔지니어</td>\n",
       "      <td>4,000 - 7,000만원 / 경력</td>\n",
       "      <td>딥러닝 ∙ 자연어처리 ∙ 학습데이터 ∙ 코퍼스</td>\n",
       "    </tr>\n",
       "    <tr>\n",
       "      <td>3</td>\n",
       "      <td>스퍼셀(SpurSell)</td>\n",
       "      <td>수시채용</td>\n",
       "      <td>글로벌셀러를 위한 통합 솔루션, 스퍼셀</td>\n",
       "      <td>https://www.rocketpunch.com/jobs/69951/%EC%A0%...</td>\n",
       "      <td>[정규직] PHP 개발자를 모십니다.</td>\n",
       "      <td>경력</td>\n",
       "      <td>이커머스</td>\n",
       "    </tr>\n",
       "    <tr>\n",
       "      <td>4</td>\n",
       "      <td>아티스테크 주식회사</td>\n",
       "      <td>03/26 마감</td>\n",
       "      <td>교통분야 O2O Platform Service 구축</td>\n",
       "      <td>https://www.rocketpunch.com/jobs/70057/%EA%B5%...</td>\n",
       "      <td>교통분야 공유경제 플랫폼 구축 : Android / Navigation / HTML...</td>\n",
       "      <td>4,000 - 4,000만원 / 경력</td>\n",
       "      <td>IT서비스 ∙ O2O ∙ AI ∙ Mobile ∙ ios ∙ android ∙ Bi...</td>\n",
       "    </tr>\n",
       "    <tr>\n",
       "      <td>...</td>\n",
       "      <td>...</td>\n",
       "      <td>...</td>\n",
       "      <td>...</td>\n",
       "      <td>...</td>\n",
       "      <td>...</td>\n",
       "      <td>...</td>\n",
       "      <td>...</td>\n",
       "    </tr>\n",
       "    <tr>\n",
       "      <td>298</td>\n",
       "      <td>한빗코</td>\n",
       "      <td>수시채용</td>\n",
       "      <td>심플한 크립토 금융, 암호화폐 거래소</td>\n",
       "      <td>https://www.rocketpunch.com/jobs/67128/DeFi-%E...</td>\n",
       "      <td>DeFi 개발자, 블록체인 개발자</td>\n",
       "      <td>경력</td>\n",
       "      <td>IT서비스 ∙ 핀테크 ∙ 블록체인 ∙ 전자상거래 ∙ 개발자 ∙ 암호화폐 ∙ 가상화폐...</td>\n",
       "    </tr>\n",
       "    <tr>\n",
       "      <td>299</td>\n",
       "      <td>놀공</td>\n",
       "      <td>수시채용</td>\n",
       "      <td>Make it matter! Play, What we do. Play, What w...</td>\n",
       "      <td>https://www.rocketpunch.com/jobs/67180/%EA%B8%...</td>\n",
       "      <td>글로벌 프로젝트들에 함께할 개발자를 찾습니다. Digitally Distributa...</td>\n",
       "      <td>신입, 경력</td>\n",
       "      <td>게임개발 ∙ 문화콘텐츠 ∙ 교육/문화컨텐츠 ∙ 게임기획 ∙ 빅게임</td>\n",
       "    </tr>\n",
       "    <tr>\n",
       "      <td>300</td>\n",
       "      <td>시소</td>\n",
       "      <td>수시채용</td>\n",
       "      <td>아웃소싱을 넘어서, 미래의 ‘일’을 만듭니다.</td>\n",
       "      <td>https://www.rocketpunch.com/jobs/62387/%EC%8B%...</td>\n",
       "      <td>시소(seeso) 서비스 백엔드 개발</td>\n",
       "      <td>최소 3,600만원 / 경력</td>\n",
       "      <td>PM ∙ outsourcing</td>\n",
       "    </tr>\n",
       "    <tr>\n",
       "      <td>301</td>\n",
       "      <td>에이티에스컴퍼니</td>\n",
       "      <td>수시채용</td>\n",
       "      <td>Quant Solutions</td>\n",
       "      <td>https://www.rocketpunch.com/jobs/67148/%EC%9B%...</td>\n",
       "      <td>웹&amp;모바일 개발/기획 PM 당담자 채용</td>\n",
       "      <td>최소 3,600만원 / 경력</td>\n",
       "      <td>IT/금융</td>\n",
       "    </tr>\n",
       "    <tr>\n",
       "      <td>302</td>\n",
       "      <td>코어라인소프트</td>\n",
       "      <td>수시채용</td>\n",
       "      <td>의료 영상 소프트웨어를 개발하는 회사입니다.</td>\n",
       "      <td>https://www.rocketpunch.com/jobs/67038/%EC%9D%...</td>\n",
       "      <td>의료 영상 처리 및 인공지능 개발자</td>\n",
       "      <td>신입, 경력</td>\n",
       "      <td>소프트웨어 ∙ IT ∙ 의료영상</td>\n",
       "    </tr>\n",
       "  </tbody>\n",
       "</table>\n",
       "<p>303 rows × 7 columns</p>\n",
       "</div>"
      ],
      "text/plain": [
       "           company  deadline  \\\n",
       "0            투블럭Ai      수시채용   \n",
       "1             울랄라랩  03/19 마감   \n",
       "2             딥네츄럴  03/08 마감   \n",
       "3    스퍼셀(SpurSell)      수시채용   \n",
       "4       아티스테크 주식회사  03/26 마감   \n",
       "..             ...       ...   \n",
       "298            한빗코      수시채용   \n",
       "299             놀공      수시채용   \n",
       "300             시소      수시채용   \n",
       "301       에이티에스컴퍼니      수시채용   \n",
       "302        코어라인소프트      수시채용   \n",
       "\n",
       "                                           description  \\\n",
       "0                            말을 알아듣는 Ai가 만들어 가는 편리한 세상   \n",
       "1    산업IoT 및 빅데이터 기반 스마트팩토리를 개발합니다. H/W와 S/W 융합 플랫폼...   \n",
       "2          DeepNatural AI 플랫폼으로 사람의 지식을 인공지능에게 전달합니다 👫   \n",
       "3                                글로벌셀러를 위한 통합 솔루션, 스퍼셀   \n",
       "4                         교통분야 O2O Platform Service 구축   \n",
       "..                                                 ...   \n",
       "298                               심플한 크립토 금융, 암호화폐 거래소   \n",
       "299  Make it matter! Play, What we do. Play, What w...   \n",
       "300                          아웃소싱을 넘어서, 미래의 ‘일’을 만듭니다.   \n",
       "301                                    Quant Solutions   \n",
       "302                           의료 영상 소프트웨어를 개발하는 회사입니다.   \n",
       "\n",
       "                                                  link  \\\n",
       "0    https://www.rocketpunch.com/jobs/70083/%EC%84%...   \n",
       "1    https://www.rocketpunch.com/jobs/69735/%EC%9A%...   \n",
       "2    https://www.rocketpunch.com/jobs/69218/%EB%B0%...   \n",
       "3    https://www.rocketpunch.com/jobs/69951/%EC%A0%...   \n",
       "4    https://www.rocketpunch.com/jobs/70057/%EA%B5%...   \n",
       "..                                                 ...   \n",
       "298  https://www.rocketpunch.com/jobs/67128/DeFi-%E...   \n",
       "299  https://www.rocketpunch.com/jobs/67180/%EA%B8%...   \n",
       "300  https://www.rocketpunch.com/jobs/62387/%EC%8B%...   \n",
       "301  https://www.rocketpunch.com/jobs/67148/%EC%9B%...   \n",
       "302  https://www.rocketpunch.com/jobs/67038/%EC%9D%...   \n",
       "\n",
       "                                              position  \\\n",
       "0                                               서버 개발자   \n",
       "1               [울랄라랩] 스마트팩토리 백엔드 개발자를 기다립니다.(경력 2년이상)   \n",
       "2                                             백엔드 엔지니어   \n",
       "3                                 [정규직] PHP 개발자를 모십니다.   \n",
       "4    교통분야 공유경제 플랫폼 구축 : Android / Navigation / HTML...   \n",
       "..                                                 ...   \n",
       "298                                 DeFi 개발자, 블록체인 개발자   \n",
       "299  글로벌 프로젝트들에 함께할 개발자를 찾습니다. Digitally Distributa...   \n",
       "300                               시소(seeso) 서비스 백엔드 개발   \n",
       "301                              웹&모바일 개발/기획 PM 당담자 채용   \n",
       "302                                의료 영상 처리 및 인공지능 개발자   \n",
       "\n",
       "                                 salary  \\\n",
       "0    4,500 - 6,000만원 / 0.1% - 1.0% / 경력   \n",
       "1    4,000 - 8,000만원 / 0.3% - 0.5% / 경력   \n",
       "2                  4,000 - 7,000만원 / 경력   \n",
       "3                                    경력   \n",
       "4                  4,000 - 4,000만원 / 경력   \n",
       "..                                  ...   \n",
       "298                                  경력   \n",
       "299                              신입, 경력   \n",
       "300                     최소 3,600만원 / 경력   \n",
       "301                     최소 3,600만원 / 경력   \n",
       "302                              신입, 경력   \n",
       "\n",
       "                                               service  \n",
       "0                                          SW/AI/대화서비스  \n",
       "1    모바일서비스 ∙ 웹서비스 ∙ 마케팅 ∙ 소프트웨어 ∙ 데이터 ∙ 하드웨어 ∙ IoT...  \n",
       "2                            딥러닝 ∙ 자연어처리 ∙ 학습데이터 ∙ 코퍼스  \n",
       "3                                                 이커머스  \n",
       "4    IT서비스 ∙ O2O ∙ AI ∙ Mobile ∙ ios ∙ android ∙ Bi...  \n",
       "..                                                 ...  \n",
       "298  IT서비스 ∙ 핀테크 ∙ 블록체인 ∙ 전자상거래 ∙ 개발자 ∙ 암호화폐 ∙ 가상화폐...  \n",
       "299               게임개발 ∙ 문화콘텐츠 ∙ 교육/문화컨텐츠 ∙ 게임기획 ∙ 빅게임  \n",
       "300                                   PM ∙ outsourcing  \n",
       "301                                              IT/금융  \n",
       "302                                  소프트웨어 ∙ IT ∙ 의료영상  \n",
       "\n",
       "[303 rows x 7 columns]"
      ]
     },
     "execution_count": 2,
     "metadata": {},
     "output_type": "execute_result"
    }
   ],
   "source": [
    "data"
   ]
  },
  {
   "cell_type": "code",
   "execution_count": null,
   "metadata": {},
   "outputs": [],
   "source": [
    "import time\n",
    "from datetime import date,timedelta\n",
    "today = date.today()\n",
    "deadline_date = today + timedelta(5)\n",
    "\"{}/{}마감\".format(deadline_date.month,deadline_date.day)"
   ]
  },
  {
   "cell_type": "code",
   "execution_count": null,
   "metadata": {},
   "outputs": [],
   "source": []
  },
  {
   "cell_type": "code",
   "execution_count": null,
   "metadata": {},
   "outputs": [],
   "source": []
  },
  {
   "cell_type": "code",
   "execution_count": null,
   "metadata": {},
   "outputs": [],
   "source": []
  },
  {
   "cell_type": "code",
   "execution_count": null,
   "metadata": {},
   "outputs": [],
   "source": []
  },
  {
   "cell_type": "code",
   "execution_count": null,
   "metadata": {},
   "outputs": [],
   "source": []
  },
  {
   "cell_type": "code",
   "execution_count": null,
   "metadata": {},
   "outputs": [],
   "source": []
  },
  {
   "cell_type": "code",
   "execution_count": null,
   "metadata": {},
   "outputs": [],
   "source": []
  },
  {
   "cell_type": "code",
   "execution_count": null,
   "metadata": {},
   "outputs": [],
   "source": []
  },
  {
   "cell_type": "code",
   "execution_count": null,
   "metadata": {},
   "outputs": [],
   "source": []
  }
 ],
 "metadata": {
  "kernelspec": {
   "display_name": "Python 3",
   "language": "python",
   "name": "python3"
  },
  "language_info": {
   "codemirror_mode": {
    "name": "ipython",
    "version": 3
   },
   "file_extension": ".py",
   "mimetype": "text/x-python",
   "name": "python",
   "nbconvert_exporter": "python",
   "pygments_lexer": "ipython3",
   "version": "3.7.4"
  }
 },
 "nbformat": 4,
 "nbformat_minor": 2
}
