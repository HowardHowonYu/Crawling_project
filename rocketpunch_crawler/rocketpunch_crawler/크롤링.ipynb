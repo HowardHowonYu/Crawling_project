{
 "cells": [
  {
   "cell_type": "markdown",
   "metadata": {},
   "source": [
    "# 롸켓펀치 크롤링"
   ]
  },
  {
   "cell_type": "code",
   "execution_count": 336,
   "metadata": {},
   "outputs": [
    {
     "data": {
      "text/plain": [
       "40"
      ]
     },
     "execution_count": 336,
     "metadata": {},
     "output_type": "execute_result"
    }
   ],
   "source": [
    "len(dom.select('#company-list > div.company.item > div.content > div.company-jobs-detail > div:nth-child(1) > div:nth-child(1) > a'))"
   ]
  },
  {
   "cell_type": "code",
   "execution_count": 337,
   "metadata": {},
   "outputs": [
    {
     "data": {
      "text/plain": [
       "56"
      ]
     },
     "execution_count": 337,
     "metadata": {},
     "output_type": "execute_result"
    }
   ],
   "source": [
    "len(dom.select('#company-list > div.company.item > div.content > div.company-jobs-detail > div.job-detail > div:nth-child(1) > a'))"
   ]
  },
  {
   "cell_type": "code",
   "execution_count": 290,
   "metadata": {},
   "outputs": [
    {
     "data": {
      "text/plain": [
       "'아이디브'"
      ]
     },
     "execution_count": 290,
     "metadata": {},
     "output_type": "execute_result"
    }
   ],
   "source": [
    "dom.select('#company-list > div.company.item > div.content')[2].select('div.company-name > a > h4 > strong')[0].text"
   ]
  },
  {
   "cell_type": "code",
   "execution_count": 294,
   "metadata": {},
   "outputs": [
    {
     "data": {
      "text/plain": [
       "'페칭 - 테크 기반의 문화와 자유로운 분위기를 지향하는 회사'"
      ]
     },
     "execution_count": 294,
     "metadata": {},
     "output_type": "execute_result"
    }
   ],
   "source": [
    "dom.select('#company-list > div.company.item > div.content')[1].select('div.description')[0].text.strip('\\xa0')"
   ]
  },
  {
   "cell_type": "code",
   "execution_count": 497,
   "metadata": {},
   "outputs": [],
   "source": [
    "def rocketpunch_crawler2(pages):\n",
    "    datas = []\n",
    "    for page in range(1,pages+1):\n",
    "        print(page)\n",
    "        url = \"https://www.rocketpunch.com/api/jobs/template?page={}&q=&specialty=Python&tag=%EB%8D%B0%EC%9D%B4%ED%84%B0%3E\".format(page)\n",
    "        response = requests.get(url)\n",
    "        data = response.json()['data']['template']\n",
    "        dom = BeautifulSoup(data, \"html.parser\")\n",
    "        root = dom.select('#company-list > div.company.item > div.content')\n",
    "        for i in range(20):\n",
    "            datas.append({\n",
    "                \"company\" : root[i].select('div.company-name > a > h4 > strong')[0].text,\n",
    "                \"description\" : root[i].select('div.description')[0].text.strip('\\xa0'),\n",
    "                \"service\" : root[i].select('div.nowrap.meta')[0].text.strip(),\n",
    "                \"position\" : root[i].select('div.company-jobs-detail > div:nth-child(1) > div:nth-child(1) > a')[0].text,\n",
    "                \"link\" : \"https://www.rocketpunch.com\"+ root[i].select('div.company-jobs-detail > div:nth-child(1) > div:nth-child(1) > a')[0].get('href'),\n",
    "                \"salary\" : root[i].select('div.company-jobs-detail > div:nth-child(1) > div:nth-child(1) > span')[0].text,\n",
    "                \"deadline\" : root[i].select('div.company-jobs-detail > div.job-detail > div.job-dates > span:nth-child(1)')[0].text.strip(' \\n'),\n",
    "            })\n",
    "            \n",
    "    return pd.DataFrame(datas)"
   ]
  },
  {
   "cell_type": "code",
   "execution_count": 270,
   "metadata": {},
   "outputs": [],
   "source": [
    "def rocketpunch_crawler(pages):\n",
    "    datas = []\n",
    "    for page in range(1,pages+1):\n",
    "        print(page)\n",
    "        url = \"https://www.rocketpunch.com/api/jobs/template?page={}&q=&specialty=Python&tag=%EB%8D%B0%EC%9D%B4%ED%84%B0%3E\".format(page)\n",
    "        response = requests.get(url)\n",
    "        data = response.json()['data']['template']\n",
    "        dom = BeautifulSoup(data, \"html.parser\")\n",
    "        for i in range(20):\n",
    "            datas.append({\n",
    "                \"company\" : dom.select('#company-list > div.company.item > div.content > div.company-name > a > h4 > strong')[i].text,\n",
    "                \"description\" : dom.select('#company-list > div.company.item > div.content > div.description')[i].text.strip('\\xa0'),\n",
    "                \"service\" : dom.select('#company-list > div.company.item > div.content > div.nowrap.meta')[i].text.strip(),\n",
    "                \"position\" : dom.select('#company-list > div.company.item > div.content > div.company-jobs-detail > div:nth-child(1) > div:nth-child(1) > a')[i].text,\n",
    "                \"link\" : \"https://www.rocketpunch.com\"+ dom.select('#company-list > div.company.item > div.content > div.company-jobs-detail > div:nth-child(1) > div:nth-child(1) > a')[0].get('href'),\n",
    "                \"salary\" : dom.select('#company-list > div.company.item > div.content > div.company-jobs-detail > div:nth-child(1) > div:nth-child(1) > span')[i].text,\n",
    "                \"deadline\" : dom.select('#company-list > div.company.item > div.content > div.company-jobs-detail > div.job-detail > div.job-dates > span:nth-child(1)')[i].text.strip(' \\n'),\n",
    "            })\n",
    "            \n",
    "    return pd.DataFrame(datas)"
   ]
  },
  {
   "cell_type": "code",
   "execution_count": null,
   "metadata": {},
   "outputs": [],
   "source": []
  },
  {
   "cell_type": "code",
   "execution_count": null,
   "metadata": {},
   "outputs": [],
   "source": []
  },
  {
   "cell_type": "code",
   "execution_count": null,
   "metadata": {},
   "outputs": [],
   "source": []
  },
  {
   "cell_type": "code",
   "execution_count": null,
   "metadata": {},
   "outputs": [],
   "source": []
  },
  {
   "cell_type": "code",
   "execution_count": null,
   "metadata": {},
   "outputs": [],
   "source": []
  },
  {
   "cell_type": "code",
   "execution_count": null,
   "metadata": {},
   "outputs": [],
   "source": []
  },
  {
   "cell_type": "code",
   "execution_count": 253,
   "metadata": {},
   "outputs": [],
   "source": [
    "url = \"https://www.rocketpunch.com/api/jobs/template?page={}&q=&specialty=Python&tag=%EB%8D%B0%EC%9D%B4%ED%84%B0%3E\".format(1)"
   ]
  },
  {
   "cell_type": "code",
   "execution_count": 254,
   "metadata": {
    "scrolled": true
   },
   "outputs": [
    {
     "data": {
      "text/plain": [
       "<Response [200]>"
      ]
     },
     "execution_count": 254,
     "metadata": {},
     "output_type": "execute_result"
    }
   ],
   "source": [
    "response = requests.get(url)\n",
    "response"
   ]
  },
  {
   "cell_type": "code",
   "execution_count": 255,
   "metadata": {},
   "outputs": [
    {
     "data": {
      "text/plain": [
       "'{\"meta\":{\"code\":200},\"data\":{\"template\":\"<div id=\\\\\"job-ad-list\\\\\" class=\\\\\"ui job-ad items segment\\\\\">\\\\n<div class=\\\\\"header\\\\\">\\\\n채용 광고<a href=\\\\\"/pricing\\\\\" target=\\\\\"_blank\\\\\" data-click=\\\\\"pricing\\\\\"><i class=\\\\\"ic-info2 icon\\\\\"></i></a>\\\\n</div>\\\\n<div class=\\\\\"ui inverted divider\\\\\"></div>\\\\n<div class=\\\\\"company active job-ad-group item\\\\\">\\\\n  <div class=\\\\\"logo image\\\\\">\\\\n    <a href=\\\\\"/companies/turing/jobs?utm_source=rocketpunch&utm_medium=advertisement&utm_campaign=job_ad&utm_content=job_page_logo\\\\\" target=\\\\\"_blank\\\\\" data-job_id=\\\\\"turing, logo\\\\\">\\\\n      <div class=\\\\\"ui logo\\\\\">\\\\n        <img src=\\\\\"https://image.rocketpunch.com/company/113474/turing_logo_1579582194.png?s=100x100&amp;t=inside\\\\\" alt=\\\\\"튜링 logo\\\\\" class=\\\\\"ui image\\\\\">\\\\n      </div>\\\\n    </a>\\\\n  </div>\\\\n  <div class=\\\\\"content active\\\\\">\\\\n    <div class=\\\\\"company-name\\\\\">\\\\n      <a href=\\\\\"/companies/turing/jobs?utm_source=rocketpunch&utm_medium=advertisement&utm_campaign=job_ad&utm_content=job_page_title\\\\\" target=\\\\\"_blank\\\\\" data-job_id=\\\\\"turing, company-name\\\\\">\\\\n        <h4 class=\\\\\"header name\\\\\">          <strong>튜링</strong>\\\\n          <small>(Turing)</small>\\\\n</h4>\\\\n      </a><a class=\\\\\"reference-count\\\\\" data-url=\\\\\"/api/companies/113474/reference\\\\\" data-method=\\\\\"post\\\\\">\\\\n        <i class=\\\\\"ic-thumbup-outline icon\\\\\"></i>\\\\n        <span class=\\\\\"count\\\\\">7</span>\\\\n      </a></div>\\\\n    <div class=\\\\\"description\\\\\">인공지능 수학공부 앱 : 수학대왕을 운영중입니다. :)&nbsp;</div>\\\\n    <div class=\\\\\"company-jobs-detail\\\\\" style=\\\\\"margin-top: 8px;\\\\\">\\\\n          <div class=\\\\\"job-ad-item\\\\\" data-job_id=\\\\\"70593\\\\\" data-banner_id=\\\\\"turing-job-list-top-20200307-70593\\\\\">\\\\n            <a href=\\\\\"/jobs/70593/%EC%9D%B8%EA%B3%B5%EC%A7%80%EB%8A%A5-%EC%88%98%ED%95%99-%EA%B5%90%EC%9C%A1-%EC%8A%A4%ED%83%80%ED%8A%B8%EC%97%85%EC%97%90%EC%84%9C-%ED%8C%80%EC%9B%90%EC%9C%BC%EB%A1%9C-%EC%84%9C%EB%B2%84%EA%B0%9C%EB%B0%9C%EC%9E%90%EB%A5%BC-%EB%AA%A8%EC%8B%AD%EB%8B%88%EB%8B%A4-django?utm_source=rocketpunch&utm_medium=advertisement&utm_campaign=job_ad&utm_content=job_detail\\\\\" target=\\\\\"_blank\\\\\" class=\\\\\"nowrap job-title primary link\\\\\" data-job_id=\\\\\"70593\\\\\">인공지능 수학 교육 스타트업에서 팀원으로 서버개발자를 모십니다. (django)</a><span class=\\\\\"job-stat-info\\\\\">7,000 - 9,000만원 / 최대 2.5% / 경력</span>\\\\n            <a data-modal=\\\\\"login\\\\\" style=\\\\\"float:right\\\\\"><i class=\\\\\"ic-bookmark_outline icon\\\\\"></i></a>\\\\n          </div>\\\\n          <div class=\\\\\"job-dates\\\\\">\\\\n            <span>\\\\n              <i class=\\\\\"ic-calendar_new icon\\\\\"></i>              수시채용\\\\n</span>\\\\n            <span>              03/08 등록\\\\n</span></div>\\\\n</div>\\\\n  </div>\\\\n</div>\\\\n<div class=\\\\\"ui divider\\\\\"></div></div><div id=\\\\\"company-list\\\\\" class=\\\\\"ui job items segment\\\\\">\\\\n\\\\n  <div class=\\\\\"header\\\\\">\\\\n    <div class=\\\\\"ui right floated header sort-types\\\\\"><a data-query-add=\\\\\"sort=recent\\\\\" href=\\\\\"/jobs?q=&amp;specialty=Python&amp;tag=%EB%8D%B0%EC%9D%B4%ED%84%B0%3E&amp;sort=recent\\\\\"class=\\\\\"checked\\\\\">\\\\n        최신순\\\\n      </a>\\\\n<div class=\\\\\"separator\\\\\"></div><a data-query-add=\\\\\"sort=ranking\\\\\" href=\\\\\"/jobs?q=&amp;specialty=Python&amp;tag=%EB%8D%B0%EC%9D%B4%ED%84%B0%3E&amp;sort=ranking\\\\\">\\\\n        인기순\\\\n      </a>\\\\n<div class=\\\\\"separator\\\\\"></div><a data-query-add=\\\\\"sort=salary\\\\\" href=\\\\\"/jobs?q=&amp;specialty=Python&amp;tag=%EB%8D%B0%EC%9D%B4%ED%84%B0%3E&amp;sort=salary\\\\\">\\\\n        연봉순\\\\n      </a>\\\\n</div>\\\\n\\\\n    <h2 class=\\\\\"ui left header\\\\\" style=\\\\\"font-size:16px\\\\\">\\\\n      <span class=\\\\\"desc\\\\\">검색 결과</span>\\\\n      <span class=\\\\\"count\\\\\">324</span>\\\\n        <div class=\\\\\"separator\\\\\"></div>\\\\n        <span class=\\\\\"filter-summary\\\\\">데이터&gt;, Python</span>\\\\n    </h2>\\\\n  </div>\\\\n\\\\n  <div class=\\\\\"ui inverted divider\\\\\"></div><div class=\\\\\"company item active\\\\\" data-company_id=\\\\\"106551\\\\\">\\\\n  <div class=\\\\\"logo image\\\\\">\\\\n    <a href=\\\\\"/companies/roaconsulting/jobs\\\\\" target=\\\\\"_blank\\\\\">\\\\n      <div class=\\\\\"ui logo\\\\\">\\\\n        <img src=\\\\\"https://static.rocketpunch.com/images/company/company.png\\\\\" alt=\\\\\"(주)로아컨설팅 logo\\\\\" class=\\\\\"ui image\\\\\">\\\\n      </div>\\\\n    </a>\\\\n  </div>\\\\n  <div class=\\\\\"content active\\\\\">\\\\n\\\\n    <div class=\\\\\"ui right floated skip header\\\\\">\\\\n      <a data-modal=\\\\\"signup\\\\\">✕</a>\\\\n    </div>\\\\n    <div class=\\\\\"company-name\\\\\">\\\\n      <a href=\\\\\"/companies/roaconsulting/jobs\\\\\" target=\\\\\"_blank\\\\\">\\\\n        <h4 class=\\\\\"header name\\\\\">          <strong>(주)로아컨설팅</strong>\\\\n          <small>(RoaConsulting)</small>\\\\n</h4>\\\\n      </a><a class=\\\\\"reference-count\\\\\" data-url=\\\\\"/api/companies/106551/reference\\\\\" data-method=\\\\\"post\\\\\">\\\\n        <i class=\\\\\"ic-thumbup-outline icon\\\\\"></i>\\\\n        <span class=\\\\\"count\\\\\">1</span>\\\\n      </a></div>\\\\n    <div class=\\\\\"description\\\\\">- 로아컨설팅은 2003년부터 일본에 본사를 두고 &#34;한중일&#34; 각 국가별 IT대기업을 대상으로 기술전략 및 사업전략 컨설팅을 수행해 왔습니다.&nbsp;</div>\\\\n    <div class=\\\\\"nowrap meta\\\\\">      컨설팅,데이터베이스,플랫폼,로아컨설팅,로아,DB,ICT,IT,인공지능,AI,\\\\n</div><div class=\\\\\"applicants\\\\\">\\\\n  <div class=\\\\\"avatar-list\\\\\">\\\\n\\\\n<div class=\\\\\"mini masked item\\\\\">?</div><div class=\\\\\"mini masked item\\\\\">?</div><div class=\\\\\"mini masked item\\\\\">?</div><div class=\\\\\"mini masked item\\\\\">?</div>\\\\n  <div class=\\\\\"more item mini\\\\\"><span>+3</span></div>\\\\n\\\\n  </div>\\\\n\\\\n<span><a href=\\\\\"/companies/roaconsulting/jobs/applicants\\\\\">5명 이상이 로켓펀치를 통해 지원</a></span>\\\\n    </div><div class=\\\\\"ui divider\\\\\"></div>\\\\n    <div class=\\\\\"company-jobs-detail\\\\\">\\\\n          <div class=\\\\\"job-detail\\\\\">\\\\n            <div>\\\\n              <a href=\\\\\"/jobs/70748/%ED%94%84%EB%A1%9C%EA%B7%B8%EB%9E%98%EB%A8%B8-%EB%B6%80%EB%B6%84-%EB%AA%A8%EC%A7%91%EB%8D%B0%EC%9D%B4%ED%84%B0%EC%82%AC%EC%9D%B4%EC%96%B8%ED%8B%B0%EC%8A%A4%ED%8A%B8\\\\\" target=\\\\\"_blank\\\\\" class=\\\\\"nowrap job-title primary link\\\\\">프로그래머 부분 모집(데이터사이언티스트)</a>\\\\n              <span class=\\\\\"job-stat-info\\\\\">경력</span>\\\\n              <a data-modal=\\\\\"login\\\\\" style=\\\\\"float:right\\\\\"><i class=\\\\\"ic-bookmark_outline icon\\\\\"></i></a>\\\\n            </div>\\\\n            <div class=\\\\\"job-dates\\\\\">\\\\n              <span>\\\\n                <i class=\\\\\"ic-calendar_new icon\\\\\"></i>                04/30 마감\\\\n</span><span>\\\\n                <i class=\\\\\"feed icon\\\\\"></i>\\\\n                원격근무\\\\n              </span><span>                03/11 등록\\\\n</span></div>\\\\n          </div>\\\\n<div class=\\\\\"ui divider\\\\\" ></div>          <div class=\\\\\"job-detail\\\\\">\\\\n            <div>\\\\n              <a href=\\\\\"/jobs/70749/%ED%94%84%EB%A1%9C%EA%B7%B8%EB%9E%98%EB%A8%B8-%EB%B6%80%EB%B6%84-%EB%AA%A8%EC%A7%91%ED%94%84%EB%A1%A0%ED%8A%B8%EC%95%A4%EB%93%9C%EA%B0%9C%EB%B0%9C%EC%9E%90\\\\\" target=\\\\\"_blank\\\\\" class=\\\\\"nowrap job-title primary link\\\\\">프로그래머 부분 모집(프론트앤드개발자)</a>\\\\n              <span class=\\\\\"job-stat-info\\\\\">4,000 - 8,000만원 / 경력</span>\\\\n              <a data-modal=\\\\\"login\\\\\" style=\\\\\"float:right\\\\\"><i class=\\\\\"ic-bookmark_outline icon\\\\\"></i></a>\\\\n            </div>\\\\n            <div class=\\\\\"job-dates\\\\\">\\\\n              <span>\\\\n                <i class=\\\\\"ic-calendar_new icon\\\\\"></i>                04/30 마감\\\\n</span><span>\\\\n                <i class=\\\\\"feed icon\\\\\"></i>\\\\n                원격근무\\\\n              </span><span>                03/11 등록\\\\n</span></div>\\\\n          </div>\\\\n<div class=\\\\\"ui divider\\\\\" ></div>          <div class=\\\\\"job-detail\\\\\">\\\\n            <div>\\\\n              <a href=\\\\\"/jobs/70750/%ED%94%84%EB%A1%9C%EA%B7%B8%EB%9E%98%EB%A8%B8-%EB%B6%80%EB%B6%84-%EB%AA%A8%EC%A7%91%EB%B0%B1%EC%97%94%EB%93%9C%EA%B0%9C%EB%B0%9C%EC%9E%90\\\\\" target=\\\\\"_blank\\\\\" class=\\\\\"nowrap job-title primary link\\\\\">프로그래머 부분 모집(백엔드개발자)</a>\\\\n              <span class=\\\\\"job-stat-info\\\\\">4,000 - 8,000만원 / 경력</span>\\\\n              <a data-modal=\\\\\"login\\\\\" style=\\\\\"float:right\\\\\"><i class=\\\\\"ic-bookmark_outline icon\\\\\"></i></a>\\\\n            </div>\\\\n            <div class=\\\\\"job-dates\\\\\">\\\\n              <span>\\\\n                <i class=\\\\\"ic-calendar_new icon\\\\\"></i>                04/30 마감\\\\n</span><span>\\\\n                <i class=\\\\\"feed icon\\\\\"></i>\\\\n                원격근무\\\\n              </span><span>                03/11 등록\\\\n</span></div>\\\\n          </div>\\\\n</div>\\\\n  </div>\\\\n</div>\\\\n<div class=\\\\\"ui inverted divider\\\\\"></div><div class=\\\\\"company item\\\\\" data-company_id=\\\\\"81634\\\\\">\\\\n  <div class=\\\\\"logo image\\\\\">\\\\n    <a href=\\\\\"/companies/biock/jobs\\\\\" target=\\\\\"_blank\\\\\">\\\\n      <div class=\\\\\"ui logo\\\\\">\\\\n        <img src=\\\\\"https://image.rocketpunch.com/company/81634/biock_logo_1533094236.png?s=100x100&amp;t=inside\\\\\" alt=\\\\\"바이오크 logo\\\\\" class=\\\\\"ui image\\\\\">\\\\n      </div>\\\\n    </a>\\\\n  </div>\\\\n  <div class=\\\\\"content\\\\\">\\\\n\\\\n    <div class=\\\\\"ui right floated skip header\\\\\">\\\\n      <a data-modal=\\\\\"signup\\\\\">✕</a>\\\\n    </div>\\\\n    <div class=\\\\\"company-name\\\\\">\\\\n      <a href=\\\\\"/companies/biock/jobs\\\\\" target=\\\\\"_blank\\\\\">\\\\n        <h4 class=\\\\\"header name\\\\\">          <strong>바이오크</strong>\\\\n          <small>(Biock)</small>\\\\n</h4>\\\\n      </a><span class=\\\\\"ui small basic response recruit label\\\\\"><div data-content=\\\\\"7일 이내 지원 결과를 알려줄 확률이 90% 이상인 기업입니다.\\\\\" data-variation=\\\\\"inverted mini\\\\\">응답률 우수</div><div data-content=\\\\\"로켓펀치를 통해 채용한 기록이 있는 기업입니다.\\\\\" data-variation=\\\\\"inverted mini\\\\\">채용 우수</div></span><a class=\\\\\"reference-count\\\\\" data-url=\\\\\"/api/companies/81634/reference\\\\\" data-method=\\\\\"post\\\\\">\\\\n        <i class=\\\\\"ic-thumbup-outline icon\\\\\"></i>\\\\n        <span class=\\\\\"count\\\\\">7</span>\\\\n      </a></div>\\\\n    <div class=\\\\\"description\\\\\">바이오크는 암 환자가 자발적으로 참여하는 의료 데이터 플랫폼을 구축합니다.&nbsp;</div>\\\\n    <div class=\\\\\"nowrap meta\\\\\">      소프트웨어개발 ∙ 모바일/웹 ∙ IT/Mobile ∙ 건강/의료/제약/바이오 ∙ 임상시험솔루션 ∙ 의료데이터 ∙ 생물정보학 ∙ 임상시험데이터관리\\\\n</div><div class=\\\\\"applicants\\\\\">\\\\n  <div class=\\\\\"avatar-list\\\\\">\\\\n\\\\n<a href=\\\\\"/@beingtyson\\\\\">\\\\n      <img src=\\\\\"https://image.rocketpunch.com/user/192433/192433_1557122824.jpg?s=35x35&amp;t=cover\\\\\" alt=\\\\\"\\\\\" class=\\\\\"ui mini circular image\\\\\">\\\\n    </a><div class=\\\\\"mini masked item\\\\\">?</div><div class=\\\\\"mini masked item\\\\\">?</div><div class=\\\\\"mini masked item\\\\\">?</div>\\\\n  <div class=\\\\\"more item mini\\\\\"><span>+64</span></div>\\\\n\\\\n  </div>\\\\n\\\\n<span><a href=\\\\\"/companies/biock/jobs/applicants\\\\\">65명 이상이 로켓펀치를 통해 지원</a></span>\\\\n    </div><div class=\\\\\"ui divider\\\\\"></div>\\\\n    <div class=\\\\\"company-jobs-detail\\\\\">\\\\n          <div class=\\\\\"job-detail\\\\\">\\\\n            <div>\\\\n              <a href=\\\\\"/jobs/70738/%EC%95%94cancer-%EB%8D%B0%EC%9D%B4%ED%84%B0-%ED%94%8C%EB%9E%AB%ED%8F%BC%EC%9D%84-%EA%B0%9C%EB%B0%9C%ED%95%A0-%EC%9B%B9-%EA%B0%9C%EB%B0%9C%EC%9E%90%EB%A5%BC-%EB%AA%A8%EC%8B%AD%EB%8B%88%EB%8B%A4\\\\\" target=\\\\\"_blank\\\\\" class=\\\\\"nowrap job-title primary link\\\\\">암(cancer) 데이터 플랫폼을 개발할 웹 개발자를 모십니다!</a>\\\\n              <span class=\\\\\"job-stat-info\\\\\">3,000 - 8,000만원 / 경력</span>\\\\n              <a data-modal=\\\\\"login\\\\\" style=\\\\\"float:right\\\\\"><i class=\\\\\"ic-bookmark_outline icon\\\\\"></i></a>\\\\n            </div>\\\\n            <div class=\\\\\"job-dates\\\\\">\\\\n              <span>\\\\n                <i class=\\\\\"ic-calendar_new icon\\\\\"></i>                04/10 마감\\\\n</span><span>\\\\n                <i class=\\\\\"feed icon\\\\\"></i>\\\\n                원격근무\\\\n              </span><span>                03/11 등록\\\\n</span></div>\\\\n          </div>\\\\n</div>\\\\n  </div>\\\\n</div>\\\\n<div class=\\\\\"ui inverted divider\\\\\"></div><div class=\\\\\"company item\\\\\" data-company_id=\\\\\"77055\\\\\">\\\\n  <div class=\\\\\"logo image\\\\\">\\\\n    <a href=\\\\\"/companies/OrbisAI/jobs\\\\\" target=\\\\\"_blank\\\\\">\\\\n      <div class=\\\\\"ui logo\\\\\">\\\\n        <img src=\\\\\"https://image.rocketpunch.com/company/77055/oreubiseueiai_logo_1572830411.png?s=100x100&amp;t=inside\\\\\" alt=\\\\\"오르비스AI logo\\\\\" class=\\\\\"ui image\\\\\">\\\\n      </div>\\\\n    </a>\\\\n  </div>\\\\n  <div class=\\\\\"content\\\\\">\\\\n\\\\n    <div class=\\\\\"ui right floated skip header\\\\\">\\\\n      <a data-modal=\\\\\"signup\\\\\">✕</a>\\\\n    </div>\\\\n    <div class=\\\\\"company-name\\\\\">\\\\n      <a href=\\\\\"/companies/OrbisAI/jobs\\\\\" target=\\\\\"_blank\\\\\">\\\\n        <h4 class=\\\\\"header name\\\\\">          <strong>오르비스AI</strong>\\\\n          <small>(Orbis AI)</small>\\\\n</h4>\\\\n      </a><span class=\\\\\"ui small basic response recruit label\\\\\"><div data-content=\\\\\"7일 이내 지원 결과를 알려줄 확률이 90% 이상인 기업입니다.\\\\\" data-variation=\\\\\"inverted mini\\\\\">응답률 우수</div><div data-content=\\\\\"로켓펀치를 통해 채용한 기록이 있는 기업입니다.\\\\\" data-variation=\\\\\"inverted mini\\\\\">채용 우수</div></span><a class=\\\\\"reference-count\\\\\" data-url=\\\\\"/api/companies/77055/reference\\\\\" data-method=\\\\\"post\\\\\">\\\\n        <i class=\\\\\"ic-thumbup-outline icon\\\\\"></i>\\\\n        <span class=\\\\\"count\\\\\">3</span>\\\\n      </a></div>\\\\n    <div class=\\\\\"description\\\\\">영어권 컨텐츠 및 광고 크리에이터를 위한 AI 성우를 개발합니다.&nbsp;</div>\\\\n    <div class=\\\\\"nowrap meta\\\\\">      IT ∙ 교육 ∙ 인공지능 ∙ 머신러닝 ∙ 딥러닝 ∙ MachineLearning ∙ Deeplearning ∙ 데이터과학 ∙ 감정지능\\\\n</div><div class=\\\\\"applicants\\\\\">\\\\n  <div class=\\\\\"avatar-list\\\\\">\\\\n\\\\n<a href=\\\\\"/@afd5904044814633\\\\\">\\\\n      <img src=\\\\\"https://image.rocketpunch.com/user/156892/156892_1526631366.jpg?s=35x35&amp;t=cover\\\\\" alt=\\\\\"\\\\\" class=\\\\\"ui mini circular image\\\\\">\\\\n    </a><a href=\\\\\"/@yhlivefor\\\\\">\\\\n      <img src=\\\\\"https://image.rocketpunch.com/user/96681/96681_1576022314.jpg?s=35x35&amp;t=cover\\\\\" alt=\\\\\"\\\\\" class=\\\\\"ui mini circular image\\\\\">\\\\n    </a><a href=\\\\\"/@kidneybeans100\\\\\">\\\\n      <img src=\\\\\"https://image.rocketpunch.com/images/user/user.png?s=35x35&amp;t=cover\\\\\" alt=\\\\\"\\\\\" class=\\\\\"ui mini circular image\\\\\">\\\\n    </a><div class=\\\\\"mini masked item\\\\\">?</div>\\\\n  <div class=\\\\\"more item mini\\\\\"><span>+85</span></div>\\\\n\\\\n  </div>\\\\n\\\\n<span><a href=\\\\\"/companies/OrbisAI/jobs/applicants\\\\\">85명 이상이 로켓펀치를 통해 지원</a></span>\\\\n    </div><div class=\\\\\"ui divider\\\\\"></div>\\\\n    <div class=\\\\\"company-jobs-detail\\\\\">\\\\n          <div class=\\\\\"job-detail\\\\\">\\\\n            <div>\\\\n              <a href=\\\\\"/jobs/47245/%EA%B2%BD%EB%A0%A5-Data-Scientist\\\\\" target=\\\\\"_blank\\\\\" class=\\\\\"nowrap job-title primary link\\\\\">(경력) Data Scientist</a>\\\\n              <span class=\\\\\"job-stat-info\\\\\">5,000 - 6,000만원 / 최소 0.1% / 경력</span>\\\\n              <a data-modal=\\\\\"login\\\\\" style=\\\\\"float:right\\\\\"><i class=\\\\\"ic-bookmark_outline icon\\\\\"></i></a>\\\\n            </div>\\\\n            <div class=\\\\\"job-dates\\\\\">\\\\n              <span>\\\\n                <i class=\\\\\"ic-calendar_new icon\\\\\"></i>                04/30 마감\\\\n</span><span>                03/11 수정\\\\n</span></div>\\\\n          </div>\\\\n</div>\\\\n  </div>\\\\n</div>\\\\n<div class=\\\\\"ui inverted divider\\\\\"></div><div class=\\\\\"item brand-message\\\\\">\\\\n        <div class=\\\\\"logo image\\\\\"></div>\\\\n        <div class=\\\\\"content\\\\\">\\\\n          <img src=\\\\\"https://static.rocketpunch.com/images/main/landing/space_lounge_chat_nobg.svg\\\\\" alt=\\\\\"image\\\\\">\\\\n          <div class=\\\\\"description\\\\\">\\\\n            <h2>\\\\n              당신에게 필요한 좋은 일자리!\\\\n            </h2>\\\\n            <h3>\\\\n              대한민국의 비즈니스 인맥이 모두 모여있는 곳, 로켓펀치에서 만나보세요.\\\\n            </h3>\\\\n            <a href=\\\\\"/signup\\\\\" class=\\\\\"ui basic primary button\\\\\">\\\\n              무료가입\\\\n            </a>\\\\n          </div>\\\\n        </div>\\\\n      </div>\\\\n      <div class=\\\\\"ui inverted divider\\\\\"></div><div class=\\\\\"company item\\\\\" data-company_id=\\\\\"29257\\\\\">\\\\n  <div class=\\\\\"logo image\\\\\">\\\\n    <a href=\\\\\"/companies/moornmo/jobs\\\\\" target=\\\\\"_blank\\\\\">\\\\n      <div class=\\\\\"ui logo\\\\\">\\\\n        <img src=\\\\\"https://image.rocketpunch.com/company/29257/moornmo_logo_1492682099.png?s=100x100&amp;t=inside\\\\\" alt=\\\\\"무른모 logo\\\\\" class=\\\\\"ui image\\\\\">\\\\n      </div>\\\\n    </a>\\\\n  </div>\\\\n  <div class=\\\\\"content\\\\\">\\\\n\\\\n    <div class=\\\\\"ui right floated skip header\\\\\">\\\\n      <a data-modal=\\\\\"signup\\\\\">✕</a>\\\\n    </div>\\\\n    <div class=\\\\\"company-name\\\\\">\\\\n      <a href=\\\\\"/companies/moornmo/jobs\\\\\" target=\\\\\"_blank\\\\\">\\\\n        <h4 class=\\\\\"header name\\\\\">          <strong>무른모</strong>\\\\n          <small>(MOORNMO)</small>\\\\n</h4>\\\\n      </a><span class=\\\\\"ui small basic response recruit label\\\\\"><div data-content=\\\\\"7일 이내 지원 결과를 알려줄 확률이 90% 이상인 기업입니다.\\\\\" data-variation=\\\\\"inverted mini\\\\\">응답률 우수</div><div data-content=\\\\\"로켓펀치를 통해 채용한 기록이 있는 기업입니다.\\\\\" data-variation=\\\\\"inverted mini\\\\\">채용 우수</div></span><a class=\\\\\"reference-count\\\\\" data-url=\\\\\"/api/companies/29257/reference\\\\\" data-method=\\\\\"post\\\\\">\\\\n        <i class=\\\\\"ic-thumbup-outline icon\\\\\"></i>\\\\n        <span class=\\\\\"count\\\\\">2</span>\\\\n      </a></div>\\\\n    <div class=\\\\\"description\\\\\">4차산업 혁명을 이끌 ICT, IOT 기반 자동차 부품제조업 MES 솔루션 개발업체&nbsp;</div>\\\\n    <div class=\\\\\"nowrap meta\\\\\">      ICT ∙ 클라우드서비스 ∙ IoT플랫폼 ∙ MES ∙ 스마트공장운영시스템 ∙ IoT스마트팩토리 ∙ 품질관리시스템 ∙ 생산관리시스템 ∙ 로트추적시스템 ∙ LOT추적시스템\\\\n</div><div class=\\\\\"applicants\\\\\">\\\\n  <div class=\\\\\"avatar-list\\\\\">\\\\n\\\\n<div class=\\\\\"mini masked item\\\\\">?</div><div class=\\\\\"mini masked item\\\\\">?</div><div class=\\\\\"mini masked item\\\\\">?</div><div class=\\\\\"mini masked item\\\\\">?</div>\\\\n  <div class=\\\\\"more item mini\\\\\"><span>+11</span></div>\\\\n\\\\n  </div>\\\\n\\\\n<span><a href=\\\\\"/companies/moornmo/jobs/applicants\\\\\">15명 이상이 로켓펀치를 통해 지원</a></span>\\\\n    </div><div class=\\\\\"ui divider\\\\\"></div>\\\\n    <div class=\\\\\"company-jobs-detail\\\\\">\\\\n          <div class=\\\\\"job-detail\\\\\">\\\\n            <div>\\\\n              <a href=\\\\\"/jobs/70735/C-%EA%B0%9C%EB%B0%9C%EC%9E%90%EA%B2%BD%EB%A0%A5%EC%8B%A0%EC%9E%85\\\\\" target=\\\\\"_blank\\\\\" class=\\\\\"nowrap job-title primary link\\\\\">C# 개발자(경력/신입)</a>\\\\n              <span class=\\\\\"job-stat-info\\\\\">신입, 경력</span>\\\\n              <a data-modal=\\\\\"login\\\\\" style=\\\\\"float:right\\\\\"><i class=\\\\\"ic-bookmark_outline icon\\\\\"></i></a>\\\\n            </div>\\\\n            <div class=\\\\\"job-dates\\\\\">\\\\n              <span>\\\\n                <i class=\\\\\"ic-calendar_new icon\\\\\"></i>                수시채용\\\\n</span><span>                03/11 등록\\\\n</span></div>\\\\n          </div>\\\\n</div>\\\\n  </div>\\\\n</div>\\\\n<div class=\\\\\"ui inverted divider\\\\\"></div><div class=\\\\\"company item\\\\\" data-company_id=\\\\\"116490\\\\\">\\\\n  <div class=\\\\\"logo image\\\\\">\\\\n    <a href=\\\\\"/companies/neicon/jobs\\\\\" target=\\\\\"_blank\\\\\">\\\\n      <div class=\\\\\"ui logo\\\\\">\\\\n        <img src=\\\\\"https://image.rocketpunch.com/company/116490/neicon_logo_1583221876.jpg?s=100x100&amp;t=inside\\\\\" alt=\\\\\"네이콘 logo\\\\\" class=\\\\\"ui image\\\\\">\\\\n      </div>\\\\n    </a>\\\\n  </div>\\\\n  <div class=\\\\\"content\\\\\">\\\\n\\\\n    <div class=\\\\\"ui right floated skip header\\\\\">\\\\n      <a data-modal=\\\\\"signup\\\\\">✕</a>\\\\n    </div>\\\\n    <div class=\\\\\"company-name\\\\\">\\\\n      <a href=\\\\\"/companies/neicon/jobs\\\\\" target=\\\\\"_blank\\\\\">\\\\n        <h4 class=\\\\\"header name\\\\\">          <strong>네이콘</strong>\\\\n          <small>(Neicon)</small>\\\\n</h4>\\\\n      </a><a class=\\\\\"reference-count\\\\\" data-url=\\\\\"/api/companies/116490/reference\\\\\" data-method=\\\\\"post\\\\\">\\\\n        <i class=\\\\\"ic-thumbup-outline icon\\\\\"></i>\\\\n        <span class=\\\\\"count\\\\\">1</span>\\\\n      </a></div>\\\\n    <div class=\\\\\"description\\\\\">글로벌 퍼포먼스 및 인플루언서 마케팅 플랫폼 회사&nbsp;</div>\\\\n    <div class=\\\\\"nowrap meta\\\\\">      모바일광고 ∙ 퍼포먼스마케팅 ∙ 인플루언서마케팅 ∙ 동영상광고플랫폼 ∙ 애드네트웍크\\\\n</div><div class=\\\\\"ui divider\\\\\"></div>\\\\n    <div class=\\\\\"company-jobs-detail\\\\\">\\\\n          <div class=\\\\\"job-detail\\\\\">\\\\n            <div>\\\\n              <a href=\\\\\"/jobs/70733/PHPMY-SQL-%EC%9B%B9%ED%94%84%EB%A1%9C%EA%B7%B8%EB%9E%98%EB%A8%B8-%EA%B0%9C%EB%B0%9C%EC%9E%90\\\\\" target=\\\\\"_blank\\\\\" class=\\\\\"nowrap job-title primary link\\\\\">PHP/MY-SQL 웹프로그래머 개발자</a>\\\\n              <span class=\\\\\"job-stat-info\\\\\">인턴, 신입, 경력</span>\\\\n              <a data-modal=\\\\\"login\\\\\" style=\\\\\"float:right\\\\\"><i class=\\\\\"ic-bookmark_outline icon\\\\\"></i></a>\\\\n            </div>\\\\n            <div class=\\\\\"job-dates\\\\\">\\\\n              <span>\\\\n                <i class=\\\\\"ic-calendar_new icon\\\\\"></i>                04/10 마감\\\\n</span><span>\\\\n                <i class=\\\\\"feed icon\\\\\"></i>\\\\n                원격근무\\\\n              </span><span>                03/11 등록\\\\n</span></div>\\\\n          </div>\\\\n</div>\\\\n  </div>\\\\n</div>\\\\n<div class=\\\\\"ui inverted divider\\\\\"></div><div class=\\\\\"company item\\\\\" data-company_id=\\\\\"116066\\\\\">\\\\n  <div class=\\\\\"logo image\\\\\">\\\\n    <a href=\\\\\"/companies/aimaker/jobs\\\\\" target=\\\\\"_blank\\\\\">\\\\n      <div class=\\\\\"ui logo\\\\\">\\\\n        <img src=\\\\\"https://image.rocketpunch.com/company/116066/aimaker_logo_1582766214.png?s=100x100&amp;t=inside\\\\\" alt=\\\\\"에이아이메이커 logo\\\\\" class=\\\\\"ui image\\\\\">\\\\n      </div>\\\\n    </a>\\\\n  </div>\\\\n  <div class=\\\\\"content\\\\\">\\\\n\\\\n    <div class=\\\\\"ui right floated skip header\\\\\">\\\\n      <a data-modal=\\\\\"signup\\\\\">✕</a>\\\\n    </div>\\\\n    <div class=\\\\\"company-name\\\\\">\\\\n      <a href=\\\\\"/companies/aimaker/jobs\\\\\" target=\\\\\"_blank\\\\\">\\\\n        <h4 class=\\\\\"header name\\\\\">          <strong>에이아이메이커</strong>\\\\n          <small>(AIMaker)</small>\\\\n</h4>\\\\n      </a><span class=\\\\\"ui small basic response label\\\\\"><div data-content=\\\\\"7일 이내 지원 결과를 알려줄 확률이 90% 이상인 기업입니다.\\\\\" data-variation=\\\\\"inverted mini\\\\\">응답률 우수</div></span><a class=\\\\\"reference-count\\\\\" data-url=\\\\\"/api/companies/116066/reference\\\\\" data-method=\\\\\"post\\\\\">\\\\n        <i class=\\\\\"ic-thumbup-outline icon\\\\\"></i>\\\\n        <span class=\\\\\"count\\\\\"></span>\\\\n      </a></div>\\\\n    <div class=\\\\\"description\\\\\">데이터 라벨링 기업&nbsp;</div>\\\\n    <div class=\\\\\"nowrap meta\\\\\">      개발 ∙ IT/영상 ∙ 정보통신업/ ∙ 정보통신업/소프트웨어개발및공급업\\\\n</div><div class=\\\\\"ui divider\\\\\"></div>\\\\n    <div class=\\\\\"company-jobs-detail\\\\\">\\\\n          <div class=\\\\\"job-detail\\\\\">\\\\n            <div>\\\\n              <a href=\\\\\"/jobs/70163/java-python-%EC%98%81%EC%83%81-Tool-%EA%B0%9C%EB%B0%9C\\\\\" target=\\\\\"_blank\\\\\" class=\\\\\"nowrap job-title primary link\\\\\">[java, python] 영상 Tool 개발</a>\\\\n              <span class=\\\\\"job-stat-info\\\\\">신입, 경력</span>\\\\n              <a data-modal=\\\\\"login\\\\\" style=\\\\\"float:right\\\\\"><i class=\\\\\"ic-bookmark_outline icon\\\\\"></i></a>\\\\n            </div>\\\\n            <div class=\\\\\"job-dates\\\\\">\\\\n              <span>\\\\n                <i class=\\\\\"ic-calendar_new icon\\\\\"></i>                수시채용\\\\n</span><span>                03/11 수정\\\\n</span></div>\\\\n          </div>\\\\n</div>\\\\n  </div>\\\\n</div>\\\\n<div class=\\\\\"ui inverted divider\\\\\"></div><div class=\\\\\"company item\\\\\" data-company_id=\\\\\"4921\\\\\">\\\\n  <div class=\\\\\"logo image\\\\\">\\\\n    <a href=\\\\\"/companies/tridge/jobs\\\\\" target=\\\\\"_blank\\\\\">\\\\n      <div class=\\\\\"ui logo\\\\\">\\\\n        <img src=\\\\\"https://image.rocketpunch.com/company/4921/tridge_logo_1582610549.png?s=100x100&amp;t=inside\\\\\" alt=\\\\\"트릿지 logo\\\\\" class=\\\\\"ui image\\\\\">\\\\n      </div>\\\\n    </a>\\\\n  </div>\\\\n  <div class=\\\\\"content\\\\\">\\\\n\\\\n    <div class=\\\\\"ui right floated skip header\\\\\">\\\\n      <a data-modal=\\\\\"signup\\\\\">✕</a>\\\\n    </div>\\\\n    <div class=\\\\\"company-name\\\\\">\\\\n      <a href=\\\\\"/companies/tridge/jobs\\\\\" target=\\\\\"_blank\\\\\">\\\\n        <h4 class=\\\\\"header name\\\\\">          <strong>트릿지</strong>\\\\n          <small>(Tridge)</small>\\\\n</h4>\\\\n      </a><a class=\\\\\"reference-count\\\\\" data-url=\\\\\"/api/companies/4921/reference\\\\\" data-method=\\\\\"post\\\\\">\\\\n        <i class=\\\\\"ic-thumbup-outline icon\\\\\"></i>\\\\n        <span class=\\\\\"count\\\\\">56</span>\\\\n      </a></div>\\\\n    <div class=\\\\\"description\\\\\">Disrupting the $1.5 Trillion global trading industry&nbsp;</div>\\\\n    <div class=\\\\\"nowrap meta\\\\\">      모바일서비스 ∙ 웹서비스 ∙ 마케팅 ∙ 스타트업 ∙ e-commerce ∙ 공유경제 ∙ 무역 ∙ B2B ∙ 글로벌 ∙ Big-Data ∙ B2B2C ∙ Data-Visualization\\\\n</div><div class=\\\\\"applicants\\\\\">\\\\n  <div class=\\\\\"avatar-list\\\\\">\\\\n\\\\n<div class=\\\\\"mini masked item\\\\\">?</div><div class=\\\\\"mini masked item\\\\\">?</div><div class=\\\\\"mini masked item\\\\\">?</div><div class=\\\\\"mini masked item\\\\\">?</div>\\\\n  <div class=\\\\\"more item mini\\\\\"><span>+719</span></div>\\\\n\\\\n  </div>\\\\n\\\\n<span><a href=\\\\\"/companies/tridge/jobs/applicants\\\\\">720명 이상이 로켓펀치를 통해 지원</a></span>\\\\n    </div><div class=\\\\\"ui divider\\\\\"></div>\\\\n    <div class=\\\\\"company-jobs-detail\\\\\">\\\\n          <div class=\\\\\"job-detail\\\\\">\\\\n            <div>\\\\n              <a href=\\\\\"/jobs/70411/Front-End-Software-Engineer-at-Tridge\\\\\" target=\\\\\"_blank\\\\\" class=\\\\\"nowrap job-title primary link\\\\\">Front-End Software Engineer at Tridge</a>\\\\n              <span class=\\\\\"job-stat-info\\\\\">4,000 - 10,000만원 / 인턴, 신입, 경력</span>\\\\n              <a data-modal=\\\\\"login\\\\\" style=\\\\\"float:right\\\\\"><i class=\\\\\"ic-bookmark_outline icon\\\\\"></i></a>\\\\n            </div>\\\\n            <div class=\\\\\"job-dates\\\\\">\\\\n              <span>\\\\n                <i class=\\\\\"ic-calendar_new icon\\\\\"></i>                수시채용\\\\n</span><span>                03/09 수정\\\\n</span></div>\\\\n          </div>\\\\n<div class=\\\\\"ui divider\\\\\" ></div>          <div class=\\\\\"job-detail\\\\\">\\\\n            <div>\\\\n              <a href=\\\\\"/jobs/9504/Back-End-Software-Engineer-at-Tridge\\\\\" target=\\\\\"_blank\\\\\" class=\\\\\"nowrap job-title primary link\\\\\">Back-End Software Engineer at Tridge</a>\\\\n              <span class=\\\\\"job-stat-info\\\\\">4,000 - 10,000만원 / 인턴, 신입, 경력</span>\\\\n              <a data-modal=\\\\\"login\\\\\" style=\\\\\"float:right\\\\\"><i class=\\\\\"ic-bookmark_outline icon\\\\\"></i></a>\\\\n            </div>\\\\n            <div class=\\\\\"job-dates\\\\\">\\\\n              <span>\\\\n                <i class=\\\\\"ic-calendar_new icon\\\\\"></i>                수시채용\\\\n</span><span>                03/11 수정\\\\n</span></div>\\\\n          </div>\\\\n<div class=\\\\\"ui divider\\\\\" ></div>          <div class=\\\\\"job-detail\\\\\">\\\\n            <div>\\\\n              <a href=\\\\\"/jobs/70412/Lead-Software-Engineer-at-Tridge\\\\\" target=\\\\\"_blank\\\\\" class=\\\\\"nowrap job-title primary link\\\\\">Lead Software Engineer at Tridge</a>\\\\n              <span class=\\\\\"job-stat-info\\\\\">4,000 - 10,000만원 / 경력</span>\\\\n              <a data-modal=\\\\\"login\\\\\" style=\\\\\"float:right\\\\\"><i class=\\\\\"ic-bookmark_outline icon\\\\\"></i></a>\\\\n            </div>\\\\n            <div class=\\\\\"job-dates\\\\\">\\\\n              <span>\\\\n                <i class=\\\\\"ic-calendar_new icon\\\\\"></i>                수시채용\\\\n</span><span>                03/05 수정\\\\n</span></div>\\\\n          </div>\\\\n</div>\\\\n  </div>\\\\n</div>\\\\n<div class=\\\\\"ui inverted divider\\\\\"></div><div class=\\\\\"company item\\\\\" data-company_id=\\\\\"40473\\\\\">\\\\n  <div class=\\\\\"logo image\\\\\">\\\\n    <a href=\\\\\"/companies/dudaji/jobs\\\\\" target=\\\\\"_blank\\\\\">\\\\n      <div class=\\\\\"ui logo\\\\\">\\\\n        <img src=\\\\\"https://image.rocketpunch.com/company/40473/dudaji_logo_1515796389.jpg?s=100x100&amp;t=inside\\\\\" alt=\\\\\"두다지 logo\\\\\" class=\\\\\"ui image\\\\\">\\\\n      </div>\\\\n    </a>\\\\n  </div>\\\\n  <div class=\\\\\"content\\\\\">\\\\n\\\\n    <div class=\\\\\"ui right floated skip header\\\\\">\\\\n      <a data-modal=\\\\\"signup\\\\\">✕</a>\\\\n    </div>\\\\n    <div class=\\\\\"company-name\\\\\">\\\\n      <a href=\\\\\"/companies/dudaji/jobs\\\\\" target=\\\\\"_blank\\\\\">\\\\n        <h4 class=\\\\\"header name\\\\\">          <strong>두다지</strong>\\\\n</h4>\\\\n      </a><span class=\\\\\"ui small basic response label\\\\\"><div data-content=\\\\\"7일 이내 지원 결과를 알려줄 확률이 90% 이상인 기업입니다.\\\\\" data-variation=\\\\\"inverted mini\\\\\">응답률 우수</div></span><a class=\\\\\"reference-count\\\\\" data-url=\\\\\"/api/companies/40473/reference\\\\\" data-method=\\\\\"post\\\\\">\\\\n        <i class=\\\\\"ic-thumbup-outline icon\\\\\"></i>\\\\n        <span class=\\\\\"count\\\\\">1</span>\\\\n      </a></div>\\\\n    <div class=\\\\\"description\\\\\">머신러닝(딥러닝) 플랫폼 개발 (Kubernetes, Kubeflow, AIOps)&nbsp;</div>\\\\n    <div class=\\\\\"nowrap meta\\\\\">      ITservice ∙ Deeplearning ∙ programming\\\\n</div><div class=\\\\\"applicants\\\\\">\\\\n  <div class=\\\\\"avatar-list\\\\\">\\\\n\\\\n<div class=\\\\\"mini masked item\\\\\">?</div><div class=\\\\\"mini masked item\\\\\">?</div><div class=\\\\\"mini masked item\\\\\">?</div><div class=\\\\\"mini masked item\\\\\">?</div>\\\\n  <div class=\\\\\"more item mini\\\\\"><span>+33</span></div>\\\\n\\\\n  </div>\\\\n\\\\n<span><a href=\\\\\"/companies/dudaji/jobs/applicants\\\\\">35명 이상이 로켓펀치를 통해 지원</a></span>\\\\n    </div><div class=\\\\\"ui divider\\\\\"></div>\\\\n    <div class=\\\\\"company-jobs-detail\\\\\">\\\\n          <div class=\\\\\"job-detail\\\\\">\\\\n            <div>\\\\n              <a href=\\\\\"/jobs/70047/AIOps-%EA%B0%9C%EB%B0%9C\\\\\" target=\\\\\"_blank\\\\\" class=\\\\\"nowrap job-title primary link\\\\\">AIOps 개발</a>\\\\n              <span class=\\\\\"job-stat-info\\\\\">3,000 - 7,000만원 / 최대 10.0% / 인턴, 신입, 경력</span>\\\\n              <a data-modal=\\\\\"login\\\\\" style=\\\\\"float:right\\\\\"><i class=\\\\\"ic-bookmark_outline icon\\\\\"></i></a>\\\\n            </div>\\\\n            <div class=\\\\\"job-dates\\\\\">\\\\n              <span>\\\\n                <i class=\\\\\"ic-calendar_new icon\\\\\"></i>                수시채용\\\\n</span><span>                03/10 수정\\\\n</span></div>\\\\n          </div>\\\\n</div>\\\\n  </div>\\\\n</div>\\\\n<div class=\\\\\"ui inverted divider\\\\\"></div><div class=\\\\\"company item\\\\\" data-company_id=\\\\\"5137\\\\\">\\\\n  <div class=\\\\\"logo image\\\\\">\\\\n    <a href=\\\\\"/companies/idve/jobs\\\\\" target=\\\\\"_blank\\\\\">\\\\n      <div class=\\\\\"ui logo\\\\\">\\\\n        <img src=\\\\\"https://image.rocketpunch.com/company/5137/idve_logo_1511959631.png?s=100x100&amp;t=inside\\\\\" alt=\\\\\"아이디브 logo\\\\\" class=\\\\\"ui image\\\\\">\\\\n      </div>\\\\n    </a>\\\\n  </div>\\\\n  <div class=\\\\\"content\\\\\">\\\\n\\\\n    <div class=\\\\\"ui right floated skip header\\\\\">\\\\n      <a data-modal=\\\\\"signup\\\\\">✕</a>\\\\n    </div>\\\\n    <div class=\\\\\"company-name\\\\\">\\\\n      <a href=\\\\\"/companies/idve/jobs\\\\\" target=\\\\\"_blank\\\\\">\\\\n        <h4 class=\\\\\"header name\\\\\">          <strong>아이디브</strong>\\\\n          <small>(IDVE)</small>\\\\n</h4>\\\\n      </a><span class=\\\\\"ui small basic response recruit label\\\\\"><div data-content=\\\\\"7일 이내 지원 결과를 알려줄 확률이 90% 이상인 기업입니다.\\\\\" data-variation=\\\\\"inverted mini\\\\\">응답률 우수</div><div data-content=\\\\\"로켓펀치를 통해 채용한 기록이 있는 기업입니다.\\\\\" data-variation=\\\\\"inverted mini\\\\\">채용 우수</div></span><a class=\\\\\"reference-count\\\\\" data-url=\\\\\"/api/companies/5137/reference\\\\\" data-method=\\\\\"post\\\\\">\\\\n        <i class=\\\\\"ic-thumbup-outline icon\\\\\"></i>\\\\n        <span class=\\\\\"count\\\\\">7</span>\\\\n      </a></div>\\\\n    <div class=\\\\\"description\\\\\">심플! 편안한 해외직구 애프터바이! 국내 오픈마켓 같은 해외직구 서비스&nbsp;</div>\\\\n    <div class=\\\\\"nowrap meta\\\\\">      모바일서비스 ∙ 웹서비스 ∙ 마케팅 ∙ 데이터 ∙ 빅데이터 ∙ 모바일앱 ∙ 데이터분석 ∙ 해외직구 ∙ 통계분석\\\\n</div><div class=\\\\\"applicants\\\\\">\\\\n  <div class=\\\\\"avatar-list\\\\\">\\\\n\\\\n<div class=\\\\\"mini masked item\\\\\">?</div><div class=\\\\\"mini masked item\\\\\">?</div><div class=\\\\\"mini masked item\\\\\">?</div><div class=\\\\\"mini masked item\\\\\">?</div>\\\\n  <div class=\\\\\"more item mini\\\\\"><span>+321</span></div>\\\\n\\\\n  </div>\\\\n\\\\n<span><a href=\\\\\"/companies/idve/jobs/applicants\\\\\">325명 이상이 로켓펀치를 통해 지원</a></span>\\\\n    </div><div class=\\\\\"ui divider\\\\\"></div>\\\\n    <div class=\\\\\"company-jobs-detail\\\\\">\\\\n          <div class=\\\\\"job-detail\\\\\">\\\\n            <div>\\\\n              <a href=\\\\\"/jobs/69882/%ED%95%B4%EC%99%B8%EC%A7%81%EA%B5%AC-%EC%95%A0%ED%94%84%ED%84%B0%EB%B0%94%EC%9D%B4-PythonReact-%EA%B0%9C%EB%B0%9C%EC%9E%90-%EB%AA%A8%EC%8B%AD%EB%8B%88%EB%8B%A4\\\\\" target=\\\\\"_blank\\\\\" class=\\\\\"nowrap job-title primary link\\\\\">해외직구 애프터바이 [Python,React 개발자] 모십니다!</a>\\\\n              <span class=\\\\\"job-stat-info\\\\\">최대 9,000만원 / 최대 3.0% / 경력</span>\\\\n              <a data-modal=\\\\\"login\\\\\" style=\\\\\"float:right\\\\\"><i class=\\\\\"ic-bookmark_outline icon\\\\\"></i></a>\\\\n            </div>\\\\n            <div class=\\\\\"job-dates\\\\\">\\\\n              <span>\\\\n                <i class=\\\\\"ic-calendar_new icon\\\\\"></i>                03/21 마감\\\\n</span><span>                03/10 수정\\\\n</span></div>\\\\n          </div>\\\\n</div>\\\\n  </div>\\\\n</div>\\\\n<div class=\\\\\"ui inverted divider\\\\\"></div><div class=\\\\\"company item\\\\\" data-company_id=\\\\\"86811\\\\\">\\\\n  <div class=\\\\\"logo image\\\\\">\\\\n    <a href=\\\\\"/companies/medium/jobs\\\\\" target=\\\\\"_blank\\\\\">\\\\n      <div class=\\\\\"ui logo\\\\\">\\\\n        <img src=\\\\\"https://image.rocketpunch.com/company/86811/medium_logo_1583227698.png?s=100x100&amp;t=inside\\\\\" alt=\\\\\"미디움 logo\\\\\" class=\\\\\"ui image\\\\\">\\\\n      </div>\\\\n    </a>\\\\n  </div>\\\\n  <div class=\\\\\"content\\\\\">\\\\n\\\\n    <div class=\\\\\"ui right floated skip header\\\\\">\\\\n      <a data-modal=\\\\\"signup\\\\\">✕</a>\\\\n    </div>\\\\n    <div class=\\\\\"company-name\\\\\">\\\\n      <a href=\\\\\"/companies/medium/jobs\\\\\" target=\\\\\"_blank\\\\\">\\\\n        <h4 class=\\\\\"header name\\\\\">          <strong>미디움</strong>\\\\n          <small>(MEDIUM)</small>\\\\n</h4>\\\\n      </a><span class=\\\\\"ui small basic recruit label\\\\\"><div data-content=\\\\\"로켓펀치를 통해 채용한 기록이 있는 기업입니다.\\\\\" data-variation=\\\\\"inverted mini\\\\\">채용 우수</div></span><a class=\\\\\"reference-count\\\\\" data-url=\\\\\"/api/companies/86811/reference\\\\\" data-method=\\\\\"post\\\\\">\\\\n        <i class=\\\\\"ic-thumbup-outline icon\\\\\"></i>\\\\n        <span class=\\\\\"count\\\\\">7</span>\\\\n      </a></div>\\\\n    <div class=\\\\\"description\\\\\">Chain the faith, 믿음을 연결하다. 사람과 세상의 가치를 연결하는 가장 빠르고 안전한 블록체인 생태계를 연구합니다.&nbsp;</div>\\\\n    <div class=\\\\\"nowrap meta\\\\\">      IT ∙ 블록체인 ∙ 블록체인/소프트웨어 ∙ 암호화폐 ∙ 정보보안 ∙ 보안솔루션 ∙ 블록체인/비트코인/소프트웨어 ∙ 블럭체인/블록체인 ∙ 생체인식 ∙ 백신 ∙ 랜섬웨어복구 ∙ 안티바이러스 ∙ 암호화폐하드웨어지갑\\\\n</div><div class=\\\\\"applicants\\\\\">\\\\n  <div class=\\\\\"avatar-list\\\\\">\\\\n\\\\n<a href=\\\\\"/@hansung080\\\\\">\\\\n      <img src=\\\\\"https://image.rocketpunch.com/images/user/user.png?s=35x35&amp;t=cover\\\\\" alt=\\\\\"\\\\\" class=\\\\\"ui mini circular image\\\\\">\\\\n    </a><div class=\\\\\"mini masked item\\\\\">?</div><div class=\\\\\"mini masked item\\\\\">?</div><div class=\\\\\"mini masked item\\\\\">?</div>\\\\n  <div class=\\\\\"more item mini\\\\\"><span>+140</span></div>\\\\n\\\\n  </div>\\\\n\\\\n<span><a href=\\\\\"/companies/medium/jobs/applicants\\\\\">140명 이상이 로켓펀치를 통해 지원</a></span>\\\\n    </div><div class=\\\\\"ui divider\\\\\"></div>\\\\n    <div class=\\\\\"company-jobs-detail\\\\\">\\\\n          <div class=\\\\\"job-detail\\\\\">\\\\n            <div>\\\\n              <a href=\\\\\"/jobs/70719/%EC%A3%BC-%EB%AF%B8%EB%94%94%EC%9B%80-2020%EB%85%84-%EC%83%81%EB%B0%98%EA%B8%B0-Business-Design-%EA%B2%BD%EB%A0%A5-%EC%B1%84%EC%9A%A9%EA%B3%B5%EA%B3%A0\\\\\" target=\\\\\"_blank\\\\\" class=\\\\\"nowrap job-title primary link\\\\\">(주) 미디움 2020년 상반기 Business Design 경력 채용공고</a>\\\\n              <span class=\\\\\"job-stat-info\\\\\">경력</span>\\\\n              <a data-modal=\\\\\"login\\\\\" style=\\\\\"float:right\\\\\"><i class=\\\\\"ic-bookmark_outline icon\\\\\"></i></a>\\\\n            </div>\\\\n            <div class=\\\\\"job-dates\\\\\">\\\\n              <span>\\\\n                <i class=\\\\\"ic-calendar_new icon\\\\\"></i>                03/24 마감\\\\n</span><span>                03/10 등록\\\\n</span></div>\\\\n          </div>\\\\n</div>\\\\n  </div>\\\\n</div>\\\\n<div class=\\\\\"ui inverted divider\\\\\"></div><div class=\\\\\"company item\\\\\" data-company_id=\\\\\"116944\\\\\">\\\\n  <div class=\\\\\"logo image\\\\\">\\\\n    <a href=\\\\\"/companies/chaicorporation/jobs\\\\\" target=\\\\\"_blank\\\\\">\\\\n      <div class=\\\\\"ui logo\\\\\">\\\\n        <img src=\\\\\"https://image.rocketpunch.com/company/116944/chaicorporation_logo_1583824318.png?s=100x100&amp;t=inside\\\\\" alt=\\\\\"차이코퍼레이션 logo\\\\\" class=\\\\\"ui image\\\\\">\\\\n      </div>\\\\n    </a>\\\\n  </div>\\\\n  <div class=\\\\\"content\\\\\">\\\\n\\\\n    <div class=\\\\\"ui right floated skip header\\\\\">\\\\n      <a data-modal=\\\\\"signup\\\\\">✕</a>\\\\n    </div>\\\\n    <div class=\\\\\"company-name\\\\\">\\\\n      <a href=\\\\\"/companies/chaicorporation/jobs\\\\\" target=\\\\\"_blank\\\\\">\\\\n        <h4 class=\\\\\"header name\\\\\">          <strong>차이코퍼레이션</strong>\\\\n          <small>(Chai Corporation)</small>\\\\n</h4>\\\\n      </a><a class=\\\\\"reference-count\\\\\" data-url=\\\\\"/api/companies/116944/reference\\\\\" data-method=\\\\\"post\\\\\">\\\\n        <i class=\\\\\"ic-thumbup-outline icon\\\\\"></i>\\\\n        <span class=\\\\\"count\\\\\">1</span>\\\\n      </a></div>\\\\n    <div class=\\\\\"description\\\\\">CHAI는 국내외 약 40조원의 거래액, 4,000만명 규모의 유저를 가진 Global Alliance를 보유하고 있는 블록체인 기반 간편결제 서비스를 제공합니다.&nbsp;</div>\\\\n    <div class=\\\\\"nowrap meta\\\\\">      핀테크 ∙ 블록체인 ∙ 간편결제 ∙ 직불카드\\\\n</div><div class=\\\\\"ui divider\\\\\"></div>\\\\n    <div class=\\\\\"company-jobs-detail\\\\\">\\\\n          <div class=\\\\\"job-detail\\\\\">\\\\n            <div>\\\\n              <a href=\\\\\"/jobs/70712/Back-end-Engineer\\\\\" target=\\\\\"_blank\\\\\" class=\\\\\"nowrap job-title primary link\\\\\">Back-end Engineer</a>\\\\n              <span class=\\\\\"job-stat-info\\\\\">경력</span>\\\\n              <a data-modal=\\\\\"login\\\\\" style=\\\\\"float:right\\\\\"><i class=\\\\\"ic-bookmark_outline icon\\\\\"></i></a>\\\\n            </div>\\\\n            <div class=\\\\\"job-dates\\\\\">\\\\n              <span>\\\\n                <i class=\\\\\"ic-calendar_new icon\\\\\"></i>                03/16 마감\\\\n</span><span>                03/10 등록\\\\n</span></div>\\\\n          </div>\\\\n</div>\\\\n  </div>\\\\n</div>\\\\n<div class=\\\\\"ui inverted divider\\\\\"></div><div class=\\\\\"company item\\\\\" data-company_id=\\\\\"104133\\\\\">\\\\n  <div class=\\\\\"logo image\\\\\">\\\\n    <a href=\\\\\"/companies/databank/jobs\\\\\" target=\\\\\"_blank\\\\\">\\\\n      <div class=\\\\\"ui logo\\\\\">\\\\n        <img src=\\\\\"https://image.rocketpunch.com/company/104133/databank_logo_1569823497.jpg?s=100x100&amp;t=inside\\\\\" alt=\\\\\"데이터뱅크 logo\\\\\" class=\\\\\"ui image\\\\\">\\\\n      </div>\\\\n    </a>\\\\n  </div>\\\\n  <div class=\\\\\"content\\\\\">\\\\n\\\\n    <div class=\\\\\"ui right floated skip header\\\\\">\\\\n      <a data-modal=\\\\\"signup\\\\\">✕</a>\\\\n    </div>\\\\n    <div class=\\\\\"company-name\\\\\">\\\\n      <a href=\\\\\"/companies/databank/jobs\\\\\" target=\\\\\"_blank\\\\\">\\\\n        <h4 class=\\\\\"header name\\\\\">          <strong>데이터뱅크</strong>\\\\n          <small>(DATABANK)</small>\\\\n</h4>\\\\n      </a><span class=\\\\\"ui small basic response label\\\\\"><div data-content=\\\\\"7일 이내 지원 결과를 알려줄 확률이 90% 이상인 기업입니다.\\\\\" data-variation=\\\\\"inverted mini\\\\\">응답률 우수</div></span><a class=\\\\\"reference-count\\\\\" data-url=\\\\\"/api/companies/104133/reference\\\\\" data-method=\\\\\"post\\\\\">\\\\n        <i class=\\\\\"ic-thumbup-outline icon\\\\\"></i>\\\\n        <span class=\\\\\"count\\\\\">7</span>\\\\n      </a></div>\\\\n    <div class=\\\\\"description\\\\\">AI 튜터를 통해 전통 사교육시장의 문제를 해결하려는 (주) 데이터뱅크 입니다.&nbsp;</div>\\\\n    <div class=\\\\\"nowrap meta\\\\\">      웹서비스 ∙ 빅데이터 ∙ 에듀테크 ∙ MachineLearning ∙ Deeplearning ∙ NLP ∙ A.I. ∙ AdaptiveLearning\\\\n</div><div class=\\\\\"ui divider\\\\\"></div>\\\\n    <div class=\\\\\"company-jobs-detail\\\\\">\\\\n          <div class=\\\\\"job-detail\\\\\">\\\\n            <div>\\\\n              <a href=\\\\\"/jobs/70709/%EB%8D%B0%EC%9D%B4%ED%84%B0%EB%B1%85%ED%81%AC%EC%97%90%EC%84%9C-%EB%B0%B1%EC%95%A4%EB%93%9C-%EA%B0%9C%EB%B0%9C%EC%9E%90%EB%A5%BC-%EB%AA%A8%EC%8B%AD%EB%8B%88%EB%8B%A4\\\\\" target=\\\\\"_blank\\\\\" class=\\\\\"nowrap job-title primary link\\\\\">데이터뱅크에서 백앤드 개발자를 모십니다</a>\\\\n              <span class=\\\\\"job-stat-info\\\\\">3,000 - 5,000만원 / 경력</span>\\\\n              <a data-modal=\\\\\"login\\\\\" style=\\\\\"float:right\\\\\"><i class=\\\\\"ic-bookmark_outline icon\\\\\"></i></a>\\\\n            </div>\\\\n            <div class=\\\\\"job-dates\\\\\">\\\\n              <span>\\\\n                <i class=\\\\\"ic-calendar_new icon\\\\\"></i>                수시채용\\\\n</span><span>                03/10 등록\\\\n</span></div>\\\\n          </div>\\\\n</div>\\\\n  </div>\\\\n</div>\\\\n<div class=\\\\\"ui inverted divider\\\\\"></div><div class=\\\\\"company item\\\\\" data-company_id=\\\\\"25066\\\\\">\\\\n  <div class=\\\\\"logo image\\\\\">\\\\n    <a href=\\\\\"/companies/athenaslab/jobs\\\\\" target=\\\\\"_blank\\\\\">\\\\n      <div class=\\\\\"ui logo\\\\\">\\\\n        <img src=\\\\\"https://image.rocketpunch.com/company/25066/athenaslab_logo_1564019389.png?s=100x100&amp;t=inside\\\\\" alt=\\\\\"아테나스랩 logo\\\\\" class=\\\\\"ui image\\\\\">\\\\n      </div>\\\\n    </a>\\\\n  </div>\\\\n  <div class=\\\\\"content\\\\\">\\\\n\\\\n    <div class=\\\\\"ui right floated skip header\\\\\">\\\\n      <a data-modal=\\\\\"signup\\\\\">✕</a>\\\\n    </div>\\\\n    <div class=\\\\\"company-name\\\\\">\\\\n      <a href=\\\\\"/companies/athenaslab/jobs\\\\\" target=\\\\\"_blank\\\\\">\\\\n        <h4 class=\\\\\"header name\\\\\">          <strong>아테나스랩</strong>\\\\n          <small>(Athena&#39;s Lab)</small>\\\\n</h4>\\\\n      </a><span class=\\\\\"ui small basic response recruit label\\\\\"><div data-content=\\\\\"7일 이내 지원 결과를 알려줄 확률이 90% 이상인 기업입니다.\\\\\" data-variation=\\\\\"inverted mini\\\\\">응답률 우수</div><div data-content=\\\\\"로켓펀치를 통해 채용한 기록이 있는 기업입니다.\\\\\" data-variation=\\\\\"inverted mini\\\\\">채용 우수</div></span><a class=\\\\\"reference-count\\\\\" data-url=\\\\\"/api/companies/25066/reference\\\\\" data-method=\\\\\"post\\\\\">\\\\n        <i class=\\\\\"ic-thumbup-outline icon\\\\\"></i>\\\\n        <span class=\\\\\"count\\\\\">12</span>\\\\n      </a></div>\\\\n    <div class=\\\\\"description\\\\\">‘We Create Valuable Connections’&nbsp;</div>\\\\n    <div class=\\\\\"nowrap meta\\\\\">      모바일서비스 ∙ 웹서비스 ∙ 마케팅 ∙ 소프트웨어 ∙ 모바일게임 ∙ IT ∙ O2O ∙ 디자인 ∙ 소프트웨어개발 ∙ OnDemand ∙ 프리랜서 ∙ 취미 ∙ 레슨 ∙ 연결서비스\\\\n</div><div class=\\\\\"applicants\\\\\">\\\\n  <div class=\\\\\"avatar-list\\\\\">\\\\n\\\\n<a href=\\\\\"/@bing9013\\\\\">\\\\n      <img src=\\\\\"https://image.rocketpunch.com/user/162299/162299_1536557987.jpg?s=35x35&amp;t=cover\\\\\" alt=\\\\\"\\\\\" class=\\\\\"ui mini circular image\\\\\">\\\\n    </a><div class=\\\\\"mini masked item\\\\\">?</div><div class=\\\\\"mini masked item\\\\\">?</div><div class=\\\\\"mini masked item\\\\\">?</div>\\\\n  <div class=\\\\\"more item mini\\\\\"><span>+211</span></div>\\\\n\\\\n  </div>\\\\n\\\\n<span><a href=\\\\\"/companies/athenaslab/jobs/applicants\\\\\">215명 이상이 로켓펀치를 통해 지원</a></span>\\\\n    </div><div class=\\\\\"ui divider\\\\\"></div>\\\\n    <div class=\\\\\"company-jobs-detail\\\\\">\\\\n          <div class=\\\\\"job-detail\\\\\">\\\\n            <div>\\\\n              <a href=\\\\\"/jobs/36237/PythonDjango-%EA%B0%9C%EB%B0%9C%EC%9E%90-%EA%B2%BD%EB%A0%A5\\\\\" target=\\\\\"_blank\\\\\" class=\\\\\"nowrap job-title primary link\\\\\">Python(Django) 개발자 (경력)</a>\\\\n              <span class=\\\\\"job-stat-info\\\\\">3,000 - 5,000만원 / 최대 5.0% / 경력</span>\\\\n              <a data-modal=\\\\\"login\\\\\" style=\\\\\"float:right\\\\\"><i class=\\\\\"ic-bookmark_outline icon\\\\\"></i></a>\\\\n            </div>\\\\n            <div class=\\\\\"job-dates\\\\\">\\\\n              <span>\\\\n                <i class=\\\\\"ic-calendar_new icon\\\\\"></i>                04/30 마감\\\\n</span><span>                03/10 수정\\\\n</span></div>\\\\n          </div>\\\\n</div>\\\\n  </div>\\\\n</div>\\\\n<div class=\\\\\"ui inverted divider\\\\\"></div><div class=\\\\\"company item\\\\\" data-company_id=\\\\\"36747\\\\\">\\\\n  <div class=\\\\\"logo image\\\\\">\\\\n    <a href=\\\\\"/companies/arkfactory/jobs\\\\\" target=\\\\\"_blank\\\\\">\\\\n      <div class=\\\\\"ui logo\\\\\">\\\\n        <img src=\\\\\"https://image.rocketpunch.com/company/36747/arkfactory_logo_1583815536.jpg?s=100x100&amp;t=inside\\\\\" alt=\\\\\"(주) 휴브리스 logo\\\\\" class=\\\\\"ui image\\\\\">\\\\n      </div>\\\\n    </a>\\\\n  </div>\\\\n  <div class=\\\\\"content\\\\\">\\\\n\\\\n    <div class=\\\\\"ui right floated skip header\\\\\">\\\\n      <a data-modal=\\\\\"signup\\\\\">✕</a>\\\\n    </div>\\\\n    <div class=\\\\\"company-name\\\\\">\\\\n      <a href=\\\\\"/companies/arkfactory/jobs\\\\\" target=\\\\\"_blank\\\\\">\\\\n        <h4 class=\\\\\"header name\\\\\">          <strong>(주) 휴브리스</strong>\\\\n          <small>(hubriz)</small>\\\\n</h4>\\\\n      </a><a class=\\\\\"reference-count\\\\\" data-url=\\\\\"/api/companies/36747/reference\\\\\" data-method=\\\\\"post\\\\\">\\\\n        <i class=\\\\\"ic-thumbup-outline icon\\\\\"></i>\\\\n        <span class=\\\\\"count\\\\\">2</span>\\\\n      </a></div>\\\\n    <div class=\\\\\"description\\\\\">베이비시터 매칭 서비스 돌봄플러스를 운영하고 있는 회사입니다.&nbsp;</div>\\\\n    <div class=\\\\\"nowrap meta\\\\\">      IT ∙ 디자인\\\\n</div><div class=\\\\\"applicants\\\\\">\\\\n  <div class=\\\\\"avatar-list\\\\\">\\\\n\\\\n<a href=\\\\\"/@jhson9304\\\\\">\\\\n      <img src=\\\\\"https://image.rocketpunch.com/user/225106/225106_1583812937.png?s=35x35&amp;t=cover\\\\\" alt=\\\\\"\\\\\" class=\\\\\"ui mini circular image\\\\\">\\\\n    </a><div class=\\\\\"mini masked item\\\\\">?</div><div class=\\\\\"mini masked item\\\\\">?</div><div class=\\\\\"mini masked item\\\\\">?</div>\\\\n  <div class=\\\\\"more item mini\\\\\"><span>+54</span></div>\\\\n\\\\n  </div>\\\\n\\\\n<span><a href=\\\\\"/companies/arkfactory/jobs/applicants\\\\\">55명 이상이 로켓펀치를 통해 지원</a></span>\\\\n    </div><div class=\\\\\"ui divider\\\\\"></div>\\\\n    <div class=\\\\\"company-jobs-detail\\\\\">\\\\n          <div class=\\\\\"job-detail\\\\\">\\\\n            <div>\\\\n              <a href=\\\\\"/jobs/66928/Back-End-HUBRIZ-Find-Back-End-Developer\\\\\" target=\\\\\"_blank\\\\\" class=\\\\\"nowrap job-title primary link\\\\\">[Back-End] HUBRIZ Find  Back-End Developer !!</a>\\\\n              <span class=\\\\\"job-stat-info\\\\\">3,000 - 3,300만원 / 신입, 경력</span>\\\\n              <a data-modal=\\\\\"login\\\\\" style=\\\\\"float:right\\\\\"><i class=\\\\\"ic-bookmark_outline icon\\\\\"></i></a>\\\\n            </div>\\\\n            <div class=\\\\\"job-dates\\\\\">\\\\n              <span>\\\\n                <i class=\\\\\"ic-calendar_new icon\\\\\"></i>                수시채용\\\\n</span><span>                03/10 수정\\\\n</span></div>\\\\n          </div>\\\\n</div>\\\\n  </div>\\\\n</div>\\\\n<div class=\\\\\"ui inverted divider\\\\\"></div><div class=\\\\\"company item\\\\\" data-company_id=\\\\\"37273\\\\\">\\\\n  <div class=\\\\\"logo image\\\\\">\\\\n    <a href=\\\\\"/companies/bemypet/jobs\\\\\" target=\\\\\"_blank\\\\\">\\\\n      <div class=\\\\\"ui logo\\\\\">\\\\n        <img src=\\\\\"https://image.rocketpunch.com/company/37273/bemypet_logo_1509949894.jpg?s=100x100&amp;t=inside\\\\\" alt=\\\\\"비마이펫 logo\\\\\" class=\\\\\"ui image\\\\\">\\\\n      </div>\\\\n    </a>\\\\n  </div>\\\\n  <div class=\\\\\"content\\\\\">\\\\n\\\\n    <div class=\\\\\"ui right floated skip header\\\\\">\\\\n      <a data-modal=\\\\\"signup\\\\\">✕</a>\\\\n    </div>\\\\n    <div class=\\\\\"company-name\\\\\">\\\\n      <a href=\\\\\"/companies/bemypet/jobs\\\\\" target=\\\\\"_blank\\\\\">\\\\n        <h4 class=\\\\\"header name\\\\\">          <strong>비마이펫</strong>\\\\n          <small>(Be My Pet)</small>\\\\n</h4>\\\\n      </a><span class=\\\\\"ui small basic response recruit label\\\\\"><div data-content=\\\\\"7일 이내 지원 결과를 알려줄 확률이 90% 이상인 기업입니다.\\\\\" data-variation=\\\\\"inverted mini\\\\\">응답률 우수</div><div data-content=\\\\\"로켓펀치를 통해 채용한 기록이 있는 기업입니다.\\\\\" data-variation=\\\\\"inverted mini\\\\\">채용 우수</div></span><a class=\\\\\"reference-count\\\\\" data-url=\\\\\"/api/companies/37273/reference\\\\\" data-method=\\\\\"post\\\\\">\\\\n        <i class=\\\\\"ic-thumbup-outline icon\\\\\"></i>\\\\n        <span class=\\\\\"count\\\\\">8</span>\\\\n      </a></div>\\\\n    <div class=\\\\\"description\\\\\">&#39;우리 아이&#39;의 시간을 더 행복하게&nbsp;</div>\\\\n    <div class=\\\\\"nowrap meta\\\\\">      반려동물 ∙ 반려동물앱서비스 ∙ PetCommerce\\\\n</div><div class=\\\\\"applicants\\\\\">\\\\n  <div class=\\\\\"avatar-list\\\\\">\\\\n\\\\n<div class=\\\\\"mini masked item\\\\\">?</div><div class=\\\\\"mini masked item\\\\\">?</div><div class=\\\\\"mini masked item\\\\\">?</div><div class=\\\\\"mini masked item\\\\\">?</div>\\\\n  <div class=\\\\\"more item mini\\\\\"><span>+12</span></div>\\\\n\\\\n  </div>\\\\n\\\\n<span><a href=\\\\\"/companies/bemypet/jobs/applicants\\\\\">15명 이상이 로켓펀치를 통해 지원</a></span>\\\\n    </div><div class=\\\\\"ui divider\\\\\"></div>\\\\n    <div class=\\\\\"company-jobs-detail\\\\\">\\\\n          <div class=\\\\\"job-detail\\\\\">\\\\n            <div>\\\\n              <a href=\\\\\"/jobs/70689/%EB%B0%B1%EC%97%94%EB%93%9C-%EA%B0%9C%EB%B0%9C%EC%9E%90\\\\\" target=\\\\\"_blank\\\\\" class=\\\\\"nowrap job-title primary link\\\\\">백엔드 개발자</a>\\\\n              <span class=\\\\\"job-stat-info\\\\\">3,500 - 4,500만원 / 0.1% - 1.0% / 경력</span>\\\\n              <a data-modal=\\\\\"login\\\\\" style=\\\\\"float:right\\\\\"><i class=\\\\\"ic-bookmark_outline icon\\\\\"></i></a>\\\\n            </div>\\\\n            <div class=\\\\\"job-dates\\\\\">\\\\n              <span>\\\\n                <i class=\\\\\"ic-calendar_new icon\\\\\"></i>                04/24 마감\\\\n</span><span>\\\\n                <i class=\\\\\"feed icon\\\\\"></i>\\\\n                원격근무\\\\n              </span><span>                03/10 등록\\\\n</span></div>\\\\n          </div>\\\\n</div>\\\\n  </div>\\\\n</div>\\\\n<div class=\\\\\"ui inverted divider\\\\\"></div><div class=\\\\\"company item\\\\\" data-company_id=\\\\\"29246\\\\\">\\\\n  <div class=\\\\\"logo image\\\\\">\\\\n    <a href=\\\\\"/companies/uconnec/jobs\\\\\" target=\\\\\"_blank\\\\\">\\\\n      <div class=\\\\\"ui logo\\\\\">\\\\n        <img src=\\\\\"https://image.rocketpunch.com/company/29246/uconnec_logo_1582000741.png?s=100x100&amp;t=inside\\\\\" alt=\\\\\"유커넥 logo\\\\\" class=\\\\\"ui image\\\\\">\\\\n      </div>\\\\n    </a>\\\\n  </div>\\\\n  <div class=\\\\\"content\\\\\">\\\\n\\\\n    <div class=\\\\\"ui right floated skip header\\\\\">\\\\n      <a data-modal=\\\\\"signup\\\\\">✕</a>\\\\n    </div>\\\\n    <div class=\\\\\"company-name\\\\\">\\\\n      <a href=\\\\\"/companies/uconnec/jobs\\\\\" target=\\\\\"_blank\\\\\">\\\\n        <h4 class=\\\\\"header name\\\\\">          <strong>유커넥</strong>\\\\n          <small>(Uconnec)</small>\\\\n</h4>\\\\n      </a><span class=\\\\\"ui small basic recruit label\\\\\"><div data-content=\\\\\"로켓펀치를 통해 채용한 기록이 있는 기업입니다.\\\\\" data-variation=\\\\\"inverted mini\\\\\">채용 우수</div></span><a class=\\\\\"reference-count\\\\\" data-url=\\\\\"/api/companies/29246/reference\\\\\" data-method=\\\\\"post\\\\\">\\\\n        <i class=\\\\\"ic-thumbup-outline icon\\\\\"></i>\\\\n        <span class=\\\\\"count\\\\\">22</span>\\\\n      </a></div>\\\\n    <div class=\\\\\"description\\\\\">유튜브 인플루언서와 광고주 브랜드를 연결하는 마케팅 플랫폼, &#34;유커넥&#34;&nbsp;</div>\\\\n    <div class=\\\\\"nowrap meta\\\\\">      웹서비스 ∙ 마케팅 ∙ 소프트웨어 ∙ 데이터 ∙ 디지털마케팅 ∙ 빅데이터분석 ∙ 광고플랫폼 ∙ MCN ∙ 유튜브 ∙ 디지털마케팅(컨텐츠/SNS) ∙ 신한퓨처스랩5기 ∙ 크리에이터 ∙ 미디어커머스 ∙ 온라인광고 ∙ MCN/비디오커머스 ∙ 인플루언서마케팅 ∙ MCN/모델/마케팅/커머스 ∙ 인플루언서마케팅플랫폼 ∙ 인플루언서커머스 ∙ Youtube ∙ 유튜브마케팅 ∙ 인플루언서플랫폼 ∙ 유튜브크리에이터 ∙ 미디어랩 ∙ 유튜버 ∙ 유튜브커머스\\\\n</div><div class=\\\\\"applicants\\\\\">\\\\n  <div class=\\\\\"avatar-list\\\\\">\\\\n\\\\n<a href=\\\\\"/@fromleaf\\\\\">\\\\n      <img src=\\\\\"https://image.rocketpunch.com/user/5488/5488_1467194464.jpg?s=35x35&amp;t=cover\\\\\" alt=\\\\\"\\\\\" class=\\\\\"ui mini circular image\\\\\">\\\\n    </a><a href=\\\\\"/@iam_0714\\\\\">\\\\n      <img src=\\\\\"https://image.rocketpunch.com/user/205544/205544_1556426309.jpg?s=35x35&amp;t=cover\\\\\" alt=\\\\\"\\\\\" class=\\\\\"ui mini circular image\\\\\">\\\\n    </a><a href=\\\\\"/@yyoring\\\\\">\\\\n      <img src=\\\\\"https://image.rocketpunch.com/user/232071/232071_1564044710.jpg?s=35x35&amp;t=cover\\\\\" alt=\\\\\"\\\\\" class=\\\\\"ui mini circular image\\\\\">\\\\n    </a><div class=\\\\\"mini masked item\\\\\">?</div>\\\\n  <div class=\\\\\"more item mini\\\\\"><span>+346</span></div>\\\\n\\\\n  </div>\\\\n\\\\n<span><a href=\\\\\"/companies/uconnec/jobs/applicants\\\\\">350명 이상이 로켓펀치를 통해 지원</a></span>\\\\n    </div><div class=\\\\\"ui divider\\\\\"></div>\\\\n    <div class=\\\\\"company-jobs-detail\\\\\">\\\\n          <div class=\\\\\"job-detail\\\\\">\\\\n            <div>\\\\n              <a href=\\\\\"/jobs/48050/%EC%96%B4%EB%B2%A4%EC%A0%B8%EC%8A%A4-%ED%92%80%EC%8A%A4%ED%83%9D-%EA%B0%9C%EB%B0%9C%EC%9E%90-DjangoReact\\\\\" target=\\\\\"_blank\\\\\" class=\\\\\"nowrap job-title primary link\\\\\">&#34;어벤져스&#34; 풀스택 개발자 (Django/React)</a>\\\\n              <span class=\\\\\"job-stat-info\\\\\">3,600 - 10,000만원 / 최대 2.0% / 경력</span>\\\\n              <a data-modal=\\\\\"login\\\\\" style=\\\\\"float:right\\\\\"><i class=\\\\\"ic-bookmark_outline icon\\\\\"></i></a>\\\\n            </div>\\\\n            <div class=\\\\\"job-dates\\\\\">\\\\n              <span>\\\\n                <i class=\\\\\"ic-calendar_new icon\\\\\"></i>                03/31 마감\\\\n</span><span>                03/10 수정\\\\n</span></div>\\\\n          </div>\\\\n<div class=\\\\\"ui divider\\\\\" ></div>          <div class=\\\\\"job-detail\\\\\">\\\\n            <div>\\\\n              <a href=\\\\\"/jobs/68119/%EC%96%B4%EB%B2%A4%EC%A0%B8%EC%8A%A4-%EB%B0%B1%EC%97%94%EB%93%9C-%EA%B0%9C%EB%B0%9C%EC%9E%90\\\\\" target=\\\\\"_blank\\\\\" class=\\\\\"nowrap job-title primary link\\\\\">&#34;어벤져스&#34; 백엔드 개발자</a>\\\\n              <span class=\\\\\"job-stat-info\\\\\">4,000 - 10,000만원 / 최대 3.0% / 경력</span>\\\\n              <a data-modal=\\\\\"login\\\\\" style=\\\\\"float:right\\\\\"><i class=\\\\\"ic-bookmark_outline icon\\\\\"></i></a>\\\\n            </div>\\\\n            <div class=\\\\\"job-dates\\\\\">\\\\n              <span>\\\\n                <i class=\\\\\"ic-calendar_new icon\\\\\"></i>                03/31 마감\\\\n</span><span>                03/10 수정\\\\n</span></div>\\\\n          </div>\\\\n</div>\\\\n  </div>\\\\n</div>\\\\n<div class=\\\\\"ui inverted divider\\\\\"></div><div class=\\\\\"company item\\\\\" data-company_id=\\\\\"82642\\\\\">\\\\n  <div class=\\\\\"logo image\\\\\">\\\\n    <a href=\\\\\"/companies/voithru/jobs\\\\\" target=\\\\\"_blank\\\\\">\\\\n      <div class=\\\\\"ui logo\\\\\">\\\\n        <img src=\\\\\"https://image.rocketpunch.com/company/82642/voithru_logo_1542624402.png?s=100x100&amp;t=inside\\\\\" alt=\\\\\"보이스루 logo\\\\\" class=\\\\\"ui image\\\\\">\\\\n      </div>\\\\n    </a>\\\\n  </div>\\\\n  <div class=\\\\\"content\\\\\">\\\\n\\\\n    <div class=\\\\\"ui right floated skip header\\\\\">\\\\n      <a data-modal=\\\\\"signup\\\\\">✕</a>\\\\n    </div>\\\\n    <div class=\\\\\"company-name\\\\\">\\\\n      <a href=\\\\\"/companies/voithru/jobs\\\\\" target=\\\\\"_blank\\\\\">\\\\n        <h4 class=\\\\\"header name\\\\\">          <strong>보이스루</strong>\\\\n          <small>(voithru)</small>\\\\n</h4>\\\\n      </a><span class=\\\\\"ui small basic response recruit label\\\\\"><div data-content=\\\\\"7일 이내 지원 결과를 알려줄 확률이 90% 이상인 기업입니다.\\\\\" data-variation=\\\\\"inverted mini\\\\\">응답률 우수</div><div data-content=\\\\\"로켓펀치를 통해 채용한 기록이 있는 기업입니다.\\\\\" data-variation=\\\\\"inverted mini\\\\\">채용 우수</div></span><a class=\\\\\"reference-count\\\\\" data-url=\\\\\"/api/companies/82642/reference\\\\\" data-method=\\\\\"post\\\\\">\\\\n        <i class=\\\\\"ic-thumbup-outline icon\\\\\"></i>\\\\n        <span class=\\\\\"count\\\\\">8</span>\\\\n      </a></div>\\\\n    <div class=\\\\\"description\\\\\">언어와 소리의 장벽을 넘어서&nbsp;</div>\\\\n    <div class=\\\\\"nowrap meta\\\\\">      AI ∙ MCN ∙ Youtube ∙ crowdsource\\\\n</div><div class=\\\\\"applicants\\\\\">\\\\n  <div class=\\\\\"avatar-list\\\\\">\\\\n\\\\n<a href=\\\\\"/@janghyoin0930\\\\\">\\\\n      <img src=\\\\\"https://image.rocketpunch.com/images/user/user.png?s=35x35&amp;t=cover\\\\\" alt=\\\\\"\\\\\" class=\\\\\"ui mini circular image\\\\\">\\\\n    </a><a href=\\\\\"/@anrobin719\\\\\">\\\\n      <img src=\\\\\"https://image.rocketpunch.com/user/193713/193713_1570767382.png?s=35x35&amp;t=cover\\\\\" alt=\\\\\"\\\\\" class=\\\\\"ui mini circular image\\\\\">\\\\n    </a><div class=\\\\\"mini masked item\\\\\">?</div><div class=\\\\\"mini masked item\\\\\">?</div>\\\\n  <div class=\\\\\"more item mini\\\\\"><span>+63</span></div>\\\\n\\\\n  </div>\\\\n\\\\n<span><a href=\\\\\"/companies/voithru/jobs/applicants\\\\\">65명 이상이 로켓펀치를 통해 지원</a></span>\\\\n    </div><div class=\\\\\"ui divider\\\\\"></div>\\\\n    <div class=\\\\\"company-jobs-detail\\\\\">\\\\n          <div class=\\\\\"job-detail\\\\\">\\\\n            <div>\\\\n              <a href=\\\\\"/jobs/63065/%EB%B3%B4%EC%9D%B4%EC%8A%A4%EB%A3%A8-%EC%9E%90%EB%A9%94%EC%9D%B4%ED%81%AC%EC%97%90%EC%84%9C-AI%EA%B8%B0%EB%B0%98-%EC%9E%90%EB%A7%89-%EC%9B%B9-Editor-Backend-Server-%EA%B0%9C%EB%B0%9C%EC%9D%84-%ED%95%B4%EB%82%98%EA%B0%80%EC%8B%A4-%EB%B6%84%EC%9D%84-%EC%B0%BE%EC%8A%B5%EB%8B%88%EB%8B%A4\\\\\" target=\\\\\"_blank\\\\\" class=\\\\\"nowrap job-title primary link\\\\\">[보이스루] 자메이크에서 AI기반 자막 웹 Editor Backend Server 개발을 해나가실 분을 찾습니다.</a>\\\\n              <span class=\\\\\"job-stat-info\\\\\">3,600 - 6,000만원 / 신입, 경력</span>\\\\n              <a data-modal=\\\\\"login\\\\\" style=\\\\\"float:right\\\\\"><i class=\\\\\"ic-bookmark_outline icon\\\\\"></i></a>\\\\n            </div>\\\\n            <div class=\\\\\"job-dates\\\\\">\\\\n              <span>\\\\n                <i class=\\\\\"ic-calendar_new icon\\\\\"></i>                03/16 마감\\\\n</span><span>                03/10 수정\\\\n</span></div>\\\\n          </div>\\\\n</div>\\\\n  </div>\\\\n</div>\\\\n<div class=\\\\\"ui inverted divider\\\\\"></div><div class=\\\\\"company item\\\\\" data-company_id=\\\\\"90395\\\\\">\\\\n  <div class=\\\\\"logo image\\\\\">\\\\n    <a href=\\\\\"/companies/algorima/jobs\\\\\" target=\\\\\"_blank\\\\\">\\\\n      <div class=\\\\\"ui logo\\\\\">\\\\n        <img src=\\\\\"https://image.rocketpunch.com/company/90395/algorima_logo_1573477261.jpg?s=100x100&amp;t=inside\\\\\" alt=\\\\\"알고리마 logo\\\\\" class=\\\\\"ui image\\\\\">\\\\n      </div>\\\\n    </a>\\\\n  </div>\\\\n  <div class=\\\\\"content\\\\\">\\\\n\\\\n    <div class=\\\\\"ui right floated skip header\\\\\">\\\\n      <a data-modal=\\\\\"signup\\\\\">✕</a>\\\\n    </div>\\\\n    <div class=\\\\\"company-name\\\\\">\\\\n      <a href=\\\\\"/companies/algorima/jobs\\\\\" target=\\\\\"_blank\\\\\">\\\\n        <h4 class=\\\\\"header name\\\\\">          <strong>알고리마</strong>\\\\n          <small>(Algorima)</small>\\\\n</h4>\\\\n      </a><span class=\\\\\"ui small basic response recruit label\\\\\"><div data-content=\\\\\"7일 이내 지원 결과를 알려줄 확률이 90% 이상인 기업입니다.\\\\\" data-variation=\\\\\"inverted mini\\\\\">응답률 우수</div><div data-content=\\\\\"로켓펀치를 통해 채용한 기록이 있는 기업입니다.\\\\\" data-variation=\\\\\"inverted mini\\\\\">채용 우수</div></span><a class=\\\\\"reference-count\\\\\" data-url=\\\\\"/api/companies/90395/reference\\\\\" data-method=\\\\\"post\\\\\">\\\\n        <i class=\\\\\"ic-thumbup-outline icon\\\\\"></i>\\\\n        <span class=\\\\\"count\\\\\">20</span>\\\\n      </a></div>\\\\n    <div class=\\\\\"description\\\\\">&#34;모두를 위한 AI&#34; 학습/개발 도구를 만듭니다. &#34;Make AI work for the rest of us&#34;&nbsp;</div>\\\\n    <div class=\\\\\"nowrap meta\\\\\">      웹서비스 ∙ 소프트웨어 ∙ 블록체인 ∙ AI ∙ 인공지능 ∙ 머신러닝 ∙ 웹 ∙ 딥러닝 ∙ 에듀테크 ∙ 신한퓨처스랩5기 ∙ Edutech ∙ API ∙ 기계학습\\\\n</div><div class=\\\\\"applicants\\\\\">\\\\n  <div class=\\\\\"avatar-list\\\\\">\\\\n\\\\n<a href=\\\\\"/@rabin994839\\\\\">\\\\n      <img src=\\\\\"https://image.rocketpunch.com/images/user/user.png?s=35x35&amp;t=cover\\\\\" alt=\\\\\"\\\\\" class=\\\\\"ui mini circular image\\\\\">\\\\n    </a><a href=\\\\\"/@hsn1017\\\\\">\\\\n      <img src=\\\\\"https://image.rocketpunch.com/user/212232/212232_1565332186.jpg?s=35x35&amp;t=cover\\\\\" alt=\\\\\"\\\\\" class=\\\\\"ui mini circular image\\\\\">\\\\n    </a><a href=\\\\\"/@quentinlee\\\\\">\\\\n      <img src=\\\\\"https://image.rocketpunch.com/user/26285/26285_1558685329.jpg?s=35x35&amp;t=cover\\\\\" alt=\\\\\"\\\\\" class=\\\\\"ui mini circular image\\\\\">\\\\n    </a><a href=\\\\\"/@xenos96111\\\\\">\\\\n      <img src=\\\\\"https://image.rocketpunch.com/user/221799/221799_8facb370821b.jpg?s=35x35&amp;t=cover\\\\\" alt=\\\\\"\\\\\" class=\\\\\"ui mini circular image\\\\\">\\\\n    </a>\\\\n  <div class=\\\\\"more item mini\\\\\"><span>+212</span></div>\\\\n\\\\n  </div>\\\\n\\\\n<span><a href=\\\\\"/companies/algorima/jobs/applicants\\\\\">215명 이상이 로켓펀치를 통해 지원</a></span>\\\\n    </div><div class=\\\\\"ui divider\\\\\"></div>\\\\n    <div class=\\\\\"company-jobs-detail\\\\\">\\\\n          <div class=\\\\\"job-detail\\\\\">\\\\n            <div>\\\\n              <a href=\\\\\"/jobs/53485/%EA%B2%BD%EB%A0%A5%C2%B7%EC%8B%A0%EC%9E%85%C2%B7%EC%9D%B8%ED%84%B4-Software-Engineer-Machine-Learning\\\\\" target=\\\\\"_blank\\\\\" class=\\\\\"nowrap job-title primary link\\\\\">[경력·신입·인턴] Software Engineer, Machine Learning</a>\\\\n              <span class=\\\\\"job-stat-info\\\\\">인턴, 신입, 경력</span>\\\\n              <a data-modal=\\\\\"login\\\\\" style=\\\\\"float:right\\\\\"><i class=\\\\\"ic-bookmark_outline icon\\\\\"></i></a>\\\\n            </div>\\\\n            <div class=\\\\\"job-dates\\\\\">\\\\n              <span>\\\\n                <i class=\\\\\"ic-calendar_new icon\\\\\"></i>                수시채용\\\\n</span><span>                03/10 수정\\\\n</span></div>\\\\n          </div>\\\\n</div>\\\\n  </div>\\\\n</div>\\\\n<div class=\\\\\"ui inverted divider\\\\\"></div><div class=\\\\\"company item\\\\\" data-company_id=\\\\\"7791\\\\\">\\\\n  <div class=\\\\\"logo image\\\\\">\\\\n    <a href=\\\\\"/companies/pxd/jobs\\\\\" target=\\\\\"_blank\\\\\">\\\\n      <div class=\\\\\"ui logo\\\\\">\\\\n        <img src=\\\\\"https://image.rocketpunch.com/company/7791/pxd_logo.gif?s=100x100&amp;t=inside\\\\\" alt=\\\\\"피엑스디 logo\\\\\" class=\\\\\"ui image\\\\\">\\\\n      </div>\\\\n    </a>\\\\n  </div>\\\\n  <div class=\\\\\"content\\\\\">\\\\n\\\\n    <div class=\\\\\"ui right floated skip header\\\\\">\\\\n      <a data-modal=\\\\\"signup\\\\\">✕</a>\\\\n    </div>\\\\n    <div class=\\\\\"company-name\\\\\">\\\\n      <a href=\\\\\"/companies/pxd/jobs\\\\\" target=\\\\\"_blank\\\\\">\\\\n        <h4 class=\\\\\"header name\\\\\">          <strong>피엑스디</strong>\\\\n          <small>(PXD)</small>\\\\n</h4>\\\\n      </a><span class=\\\\\"ui small basic response label\\\\\"><div data-content=\\\\\"7일 이내 지원 결과를 알려줄 확률이 90% 이상인 기업입니다.\\\\\" data-variation=\\\\\"inverted mini\\\\\">응답률 우수</div></span><a class=\\\\\"reference-count\\\\\" data-url=\\\\\"/api/companies/7791/reference\\\\\" data-method=\\\\\"post\\\\\">\\\\n        <i class=\\\\\"ic-thumbup-outline icon\\\\\"></i>\\\\n        <span class=\\\\\"count\\\\\">4</span>\\\\n      </a></div>\\\\n    <div class=\\\\\"description\\\\\">UX Design Consultancy&nbsp;</div>\\\\n    <div class=\\\\\"nowrap meta\\\\\">      디자인 ∙ 디자인에이전시\\\\n</div><div class=\\\\\"ui divider\\\\\"></div>\\\\n    <div class=\\\\\"company-jobs-detail\\\\\">\\\\n          <div class=\\\\\"job-detail\\\\\">\\\\n            <div>\\\\n              <a href=\\\\\"/jobs/70680/Data-Scientist-%EA%B2%BD%EB%A0%A5%EC%A7%81-%EC%B1%84%EC%9A%A9-%EA%B3%B5%EA%B3%A0\\\\\" target=\\\\\"_blank\\\\\" class=\\\\\"nowrap job-title primary link\\\\\">Data Scientist 경력직 채용 공고</a>\\\\n              <span class=\\\\\"job-stat-info\\\\\">경력</span>\\\\n              <a data-modal=\\\\\"login\\\\\" style=\\\\\"float:right\\\\\"><i class=\\\\\"ic-bookmark_outline icon\\\\\"></i></a>\\\\n            </div>\\\\n            <div class=\\\\\"job-dates\\\\\">\\\\n              <span>\\\\n                <i class=\\\\\"ic-calendar_new icon\\\\\"></i>                수시채용\\\\n</span><span>                03/10 등록\\\\n</span></div>\\\\n          </div>\\\\n</div>\\\\n  </div>\\\\n</div>\\\\n<div class=\\\\\"ui inverted divider\\\\\"></div><div class=\\\\\"company item\\\\\" data-company_id=\\\\\"81782\\\\\">\\\\n  <div class=\\\\\"logo image\\\\\">\\\\n    <a href=\\\\\"/companies/lomin/jobs\\\\\" target=\\\\\"_blank\\\\\">\\\\n      <div class=\\\\\"ui logo\\\\\">\\\\n        <img src=\\\\\"https://image.rocketpunch.com/company/81782/romin_logo_1532501524.png?s=100x100&amp;t=inside\\\\\" alt=\\\\\"로민 logo\\\\\" class=\\\\\"ui image\\\\\">\\\\n      </div>\\\\n    </a>\\\\n  </div>\\\\n  <div class=\\\\\"content\\\\\">\\\\n\\\\n    <div class=\\\\\"ui right floated skip header\\\\\">\\\\n      <a data-modal=\\\\\"signup\\\\\">✕</a>\\\\n    </div>\\\\n    <div class=\\\\\"company-name\\\\\">\\\\n      <a href=\\\\\"/companies/lomin/jobs\\\\\" target=\\\\\"_blank\\\\\">\\\\n        <h4 class=\\\\\"header name\\\\\">          <strong>로민</strong>\\\\n</h4>\\\\n      </a><span class=\\\\\"ui small basic response recruit label\\\\\"><div data-content=\\\\\"7일 이내 지원 결과를 알려줄 확률이 90% 이상인 기업입니다.\\\\\" data-variation=\\\\\"inverted mini\\\\\">응답률 우수</div><div data-content=\\\\\"로켓펀치를 통해 채용한 기록이 있는 기업입니다.\\\\\" data-variation=\\\\\"inverted mini\\\\\">채용 우수</div></span><a class=\\\\\"reference-count\\\\\" data-url=\\\\\"/api/companies/81782/reference\\\\\" data-method=\\\\\"post\\\\\">\\\\n        <i class=\\\\\"ic-thumbup-outline icon\\\\\"></i>\\\\n        <span class=\\\\\"count\\\\\">6</span>\\\\n      </a></div>\\\\n    <div class=\\\\\"description\\\\\">컴퓨터비전 연구 전문 스타트업 Lomin 입니다.&nbsp;</div>\\\\n    <div class=\\\\\"nowrap meta\\\\\">      빅데이터 ∙ 머신러닝 ∙ 딥러닝 ∙ MachineLearning ∙ Deeplearning ∙ 신한퓨처스랩6기 ∙ 컴퓨터비전 ∙ 영상처리 ∙ Computervision ∙ 기계학습 ∙ 머신비전 ∙ ImageProcessing ∙ MachineVisionSytem\\\\n</div><div class=\\\\\"applicants\\\\\">\\\\n  <div class=\\\\\"avatar-list\\\\\">\\\\n\\\\n<a href=\\\\\"/@83e4774228824d9f\\\\\">\\\\n      <img src=\\\\\"https://image.rocketpunch.com/user/89083/89083_95dcc2f0ad5e.jpg?s=35x35&amp;t=cover\\\\\" alt=\\\\\"\\\\\" class=\\\\\"ui mini circular image\\\\\">\\\\n    </a><div class=\\\\\"mini masked item\\\\\">?</div><div class=\\\\\"mini masked item\\\\\">?</div><div class=\\\\\"mini masked item\\\\\">?</div>\\\\n  <div class=\\\\\"more item mini\\\\\"><span>+70</span></div>\\\\n\\\\n  </div>\\\\n\\\\n<span><a href=\\\\\"/companies/lomin/jobs/applicants\\\\\">70명 이상이 로켓펀치를 통해 지원</a></span>\\\\n    </div><div class=\\\\\"ui divider\\\\\"></div>\\\\n    <div class=\\\\\"company-jobs-detail\\\\\">\\\\n          <div class=\\\\\"job-detail\\\\\">\\\\n            <div>\\\\n              <a href=\\\\\"/jobs/67065/%EB%B0%B1%EC%97%94%EB%93%9C-%EC%97%94%EC%A7%80%EB%8B%88%EC%96%B4-%EC%A0%84%EB%AC%B8%EC%97%B0%EA%B5%AC%EC%9A%94%EC%9B%90-%EA%B0%80%EB%8A%A5\\\\\" target=\\\\\"_blank\\\\\" class=\\\\\"nowrap job-title primary link\\\\\">백엔드 엔지니어 (전문연구요원 가능)</a>\\\\n              <span class=\\\\\"job-stat-info\\\\\">최소 5,000만원 / 경력</span>\\\\n              <a data-modal=\\\\\"login\\\\\" style=\\\\\"float:right\\\\\"><i class=\\\\\"ic-bookmark_outline icon\\\\\"></i></a>\\\\n            </div>\\\\n            <div class=\\\\\"job-dates\\\\\">\\\\n              <span>\\\\n                <i class=\\\\\"ic-calendar_new icon\\\\\"></i>                03/31 마감\\\\n</span><span>                03/10 수정\\\\n</span></div>\\\\n          </div>\\\\n</div>\\\\n  </div>\\\\n</div>\\\\n<div class=\\\\\"ui inverted divider\\\\\"></div></div>\\\\n\\\\n\\\\n<div class=\\\\\"ui blank right floated segment\\\\\">\\\\n  <div class=\\\\\"ui pagination menu\\\\\">\\\\n    <a        class=\\\\\"disabled item\\\\\">\\\\n      <i class=\\\\\"angle double left icon\\\\\"></i>\\\\n    </a>\\\\n\\\\n    <div class=\\\\\"tablet computer large screen widescreen only\\\\\">\\\\n        <a class=\\\\\"active item\\\\\" data-query-add=\\\\\"page=1\\\\\" href=\\\\\"?page=1&amp;q=&amp;specialty=Python&amp;tag=%EB%8D%B0%EC%9D%B4%ED%84%B0%3E\\\\\">1</a>\\\\n        <a class=\\\\\"item\\\\\" data-query-add=\\\\\"page=2\\\\\" href=\\\\\"?page=2&amp;q=&amp;specialty=Python&amp;tag=%EB%8D%B0%EC%9D%B4%ED%84%B0%3E\\\\\">2</a>\\\\n        <a class=\\\\\"item\\\\\" data-query-add=\\\\\"page=3\\\\\" href=\\\\\"?page=3&amp;q=&amp;specialty=Python&amp;tag=%EB%8D%B0%EC%9D%B4%ED%84%B0%3E\\\\\">3</a>\\\\n        <a class=\\\\\"item\\\\\" data-query-add=\\\\\"page=4\\\\\" href=\\\\\"?page=4&amp;q=&amp;specialty=Python&amp;tag=%EB%8D%B0%EC%9D%B4%ED%84%B0%3E\\\\\">4</a>\\\\n        <a class=\\\\\"item\\\\\" data-query-add=\\\\\"page=5\\\\\" href=\\\\\"?page=5&amp;q=&amp;specialty=Python&amp;tag=%EB%8D%B0%EC%9D%B4%ED%84%B0%3E\\\\\">5</a>\\\\n        <div class=\\\\\"disabled item\\\\\">...</div>\\\\n        <a class=\\\\\"item\\\\\" data-query-add=\\\\\"page=13\\\\\" href=\\\\\"?page=13&amp;q=&amp;specialty=Python&amp;tag=%EB%8D%B0%EC%9D%B4%ED%84%B0%3E\\\\\">13</a>\\\\n    </div>\\\\n    <div class=\\\\\"mobile only\\\\\">\\\\n      <a class=\\\\\"active item\\\\\" data-query-add=\\\\\"page=1\\\\\" href=\\\\\"?page=1&amp;q=&amp;specialty=Python&amp;tag=%EB%8D%B0%EC%9D%B4%ED%84%B0%3E\\\\\">1</a>\\\\n          <a class=\\\\\"item\\\\\" data-query-add=\\\\\"page=2\\\\\" href=\\\\\"?page=2&amp;q=&amp;specialty=Python&amp;tag=%EB%8D%B0%EC%9D%B4%ED%84%B0%3E\\\\\">2</a>\\\\n          <a class=\\\\\"item\\\\\" data-query-add=\\\\\"page=3\\\\\" href=\\\\\"?page=3&amp;q=&amp;specialty=Python&amp;tag=%EB%8D%B0%EC%9D%B4%ED%84%B0%3E\\\\\">3</a>\\\\n    </div>\\\\n\\\\n    <a        class=\\\\\"item\\\\\" data-query-add=\\\\\"page=2\\\\\" href=\\\\\"?page=2&amp;q=&amp;specialty=Python&amp;tag=%EB%8D%B0%EC%9D%B4%ED%84%B0%3E\\\\\">\\\\n      <i class=\\\\\"angle double right icon\\\\\"></i>\\\\n    </a>\\\\n  </div></div>\\\\n\",\"title\":\"Python 채용 정보\",\"seo_url\":\"https://rocketpunch.com/jobs/tags/python\"}}'"
      ]
     },
     "execution_count": 255,
     "metadata": {},
     "output_type": "execute_result"
    }
   ],
   "source": [
    "response.text"
   ]
  },
  {
   "cell_type": "code",
   "execution_count": 541,
   "metadata": {},
   "outputs": [],
   "source": [
    "# json으로 파싱후, data안 template 안에 들어있는 애들을 BrautifulSoup으로 html로 파싱\n",
    "data = response.json()['data']['template']\n",
    "dom = BeautifulSoup(data, \"html.parser\")"
   ]
  },
  {
   "cell_type": "code",
   "execution_count": 542,
   "metadata": {},
   "outputs": [],
   "source": [
    "root = dom.select('#company-list > div.company.item > div.content')"
   ]
  },
  {
   "cell_type": "code",
   "execution_count": 543,
   "metadata": {
    "scrolled": true
   },
   "outputs": [
    {
     "data": {
      "text/plain": [
       "'매스프레소'"
      ]
     },
     "execution_count": 543,
     "metadata": {},
     "output_type": "execute_result"
    }
   ],
   "source": [
    "# 회사명\n",
    "dom.select('#company-list > div.company.item > div.content > div.company-name > a > h4 > strong')[0].text"
   ]
  },
  {
   "cell_type": "code",
   "execution_count": 544,
   "metadata": {},
   "outputs": [
    {
     "data": {
      "text/plain": [
       "'매스프레소'"
      ]
     },
     "execution_count": 544,
     "metadata": {},
     "output_type": "execute_result"
    }
   ],
   "source": [
    "root[0].select('div.company-name > a > h4 > strong')[0].text"
   ]
  },
  {
   "cell_type": "code",
   "execution_count": 521,
   "metadata": {
    "scrolled": true
   },
   "outputs": [
    {
     "data": {
      "text/plain": [
       "'We Rebuild Education'"
      ]
     },
     "execution_count": 521,
     "metadata": {},
     "output_type": "execute_result"
    }
   ],
   "source": [
    "# 회사 설명\n",
    "dom.select('#company-list > div.company.item > div.content > div.description')[0].text.strip('\\xa0')"
   ]
  },
  {
   "cell_type": "code",
   "execution_count": 545,
   "metadata": {},
   "outputs": [
    {
     "data": {
      "text/plain": [
       "'We Rebuild Education'"
      ]
     },
     "execution_count": 545,
     "metadata": {},
     "output_type": "execute_result"
    }
   ],
   "source": [
    "root[0].select('div.description')[0].text.strip('\\xa0')"
   ]
  },
  {
   "cell_type": "code",
   "execution_count": 523,
   "metadata": {},
   "outputs": [
    {
     "data": {
      "text/plain": [
       "'모바일서비스 ∙ 소프트웨어 ∙ 데이터 ∙ 교육 ∙ 모바일앱 ∙ AI ∙ 앱개발 ∙ 머신러닝 ∙ IT/인공지능 ∙ 딥러닝 ∙ 에듀테크 ∙ 수학 ∙ OCR'"
      ]
     },
     "execution_count": 523,
     "metadata": {},
     "output_type": "execute_result"
    }
   ],
   "source": [
    "# 분야\n",
    "dom.select('#company-list > div.company.item > div.content > div.nowrap.meta')[0].text.strip()"
   ]
  },
  {
   "cell_type": "code",
   "execution_count": 546,
   "metadata": {},
   "outputs": [
    {
     "data": {
      "text/plain": [
       "'모바일서비스 ∙ 소프트웨어 ∙ 데이터 ∙ 교육 ∙ 모바일앱 ∙ AI ∙ 앱개발 ∙ 머신러닝 ∙ IT/인공지능 ∙ 딥러닝 ∙ 에듀테크 ∙ 수학 ∙ OCR'"
      ]
     },
     "execution_count": 546,
     "metadata": {},
     "output_type": "execute_result"
    }
   ],
   "source": [
    "root[0].select('div.nowrap.meta')[0].text.strip()"
   ]
  },
  {
   "cell_type": "code",
   "execution_count": 566,
   "metadata": {},
   "outputs": [
    {
     "data": {
      "text/plain": [
       "20"
      ]
     },
     "execution_count": 566,
     "metadata": {},
     "output_type": "execute_result"
    }
   ],
   "source": [
    "len(root)"
   ]
  },
  {
   "cell_type": "code",
   "execution_count": 525,
   "metadata": {},
   "outputs": [],
   "source": [
    "# 중복 있음"
   ]
  },
  {
   "cell_type": "code",
   "execution_count": 556,
   "metadata": {},
   "outputs": [],
   "source": [
    "positions = dom.select('#company-list > div.company.item > div.content > div.company-jobs-detail')"
   ]
  },
  {
   "cell_type": "code",
   "execution_count": 558,
   "metadata": {},
   "outputs": [],
   "source": [
    "len_of_positions = len(positions[0].select('div:nth-child(1) > a.nowrap'))"
   ]
  },
  {
   "cell_type": "code",
   "execution_count": 559,
   "metadata": {},
   "outputs": [
    {
     "data": {
      "text/plain": [
       "1"
      ]
     },
     "execution_count": 559,
     "metadata": {},
     "output_type": "execute_result"
    }
   ],
   "source": [
    "len_of_positions"
   ]
  },
  {
   "cell_type": "code",
   "execution_count": 587,
   "metadata": {},
   "outputs": [
    {
     "data": {
      "text/plain": [
       "'해외직구 애프터바이 [Python,React 개발자] 모십니다!'"
      ]
     },
     "execution_count": 587,
     "metadata": {},
     "output_type": "execute_result"
    }
   ],
   "source": [
    "# position\n",
    "positions[3].select('div:nth-child(1) > a.nowrap')[0].text"
   ]
  },
  {
   "cell_type": "code",
   "execution_count": 561,
   "metadata": {
    "scrolled": true
   },
   "outputs": [
    {
     "data": {
      "text/plain": [
       "'https://www.rocketpunch.com/jobs/70589/Math-Engine-Developer'"
      ]
     },
     "execution_count": 561,
     "metadata": {},
     "output_type": "execute_result"
    }
   ],
   "source": [
    "# 링크\n",
    "\"https://www.rocketpunch.com\" + positions[0].select('div:nth-child(1) > a.nowrap')[0].get('href')"
   ]
  },
  {
   "cell_type": "code",
   "execution_count": 562,
   "metadata": {},
   "outputs": [
    {
     "data": {
      "text/plain": [
       "'3,500 - 6,000만원 / 인턴, 신입, 경력'"
      ]
     },
     "execution_count": 562,
     "metadata": {},
     "output_type": "execute_result"
    }
   ],
   "source": [
    "# 연봉 / 스톡옵션 / 경력 여부\n",
    "positions[0].select('div.job-detail > div:nth-child(1) > span')[0].text"
   ]
  },
  {
   "cell_type": "code",
   "execution_count": 563,
   "metadata": {
    "scrolled": true
   },
   "outputs": [
    {
     "data": {
      "text/plain": [
       "'03/31 마감'"
      ]
     },
     "execution_count": 563,
     "metadata": {},
     "output_type": "execute_result"
    }
   ],
   "source": [
    "# 채용 기간\n",
    "positions[0].select('div.job-detail > div.job-dates > span:nth-child(1)')[0].text.strip(' \\n')"
   ]
  },
  {
   "cell_type": "code",
   "execution_count": 581,
   "metadata": {},
   "outputs": [
    {
     "data": {
      "text/plain": [
       "[0]"
      ]
     },
     "execution_count": 581,
     "metadata": {},
     "output_type": "execute_result"
    }
   ],
   "source": [
    "list(range(len_of_positions))"
   ]
  },
  {
   "cell_type": "code",
   "execution_count": 594,
   "metadata": {},
   "outputs": [
    {
     "data": {
      "text/plain": [
       "'Backend Engineer 주니어'"
      ]
     },
     "execution_count": 594,
     "metadata": {},
     "output_type": "execute_result"
    }
   ],
   "source": [
    "positions[18].select('div:nth-child(1) > a.nowrap')[0].text"
   ]
  },
  {
   "cell_type": "code",
   "execution_count": 613,
   "metadata": {},
   "outputs": [
    {
     "data": {
      "text/plain": [
       "'디에스랩글로벌'"
      ]
     },
     "execution_count": 613,
     "metadata": {},
     "output_type": "execute_result"
    }
   ],
   "source": [
    "root[4].select('div.company-name > a > h4 > strong')[0].text"
   ]
  },
  {
   "cell_type": "code",
   "execution_count": 614,
   "metadata": {},
   "outputs": [
    {
     "data": {
      "text/plain": [
       "'데이터 분석가'"
      ]
     },
     "execution_count": 614,
     "metadata": {},
     "output_type": "execute_result"
    }
   ],
   "source": [
    "positions[4].select('div:nth-child(1) > a.nowrap')[0].text"
   ]
  },
  {
   "cell_type": "code",
   "execution_count": 631,
   "metadata": {},
   "outputs": [],
   "source": [
    "len_of_positions = len(positions[1].select('div:nth-child(1) > a.nowrap'))"
   ]
  },
  {
   "cell_type": "code",
   "execution_count": 632,
   "metadata": {},
   "outputs": [
    {
     "data": {
      "text/plain": [
       "[0, 1, 2]"
      ]
     },
     "execution_count": 632,
     "metadata": {},
     "output_type": "execute_result"
    }
   ],
   "source": [
    "list(range(len_of_positions))"
   ]
  },
  {
   "cell_type": "code",
   "execution_count": 636,
   "metadata": {},
   "outputs": [
    {
     "data": {
      "text/plain": [
       "('트릿지',)"
      ]
     },
     "execution_count": 636,
     "metadata": {},
     "output_type": "execute_result"
    }
   ],
   "source": [
    "root[1].select('div.company-name > a > h4 > strong')[0].text,"
   ]
  },
  {
   "cell_type": "code",
   "execution_count": 8,
   "metadata": {},
   "outputs": [],
   "source": [
    "url = \"https://www.rocketpunch.com/api/jobs/template?&page=1&q=&specialty=Python&tag=%EB%8D%B0%EC%9D%B4%ED%84%B0\"\n",
    "response = requests.get(url)\n",
    "data = response.json()['data']['template']\n",
    "dom = BeautifulSoup(data, \"html.parser\")\n",
    "total_pages = dom.select(\"div.ui.pagination.menu > div.tablet.computer.large.screen.widescreen.only > a\")[-1].text"
   ]
  },
  {
   "cell_type": "code",
   "execution_count": 9,
   "metadata": {},
   "outputs": [
    {
     "data": {
      "text/plain": [
       "'3'"
      ]
     },
     "execution_count": 9,
     "metadata": {},
     "output_type": "execute_result"
    }
   ],
   "source": [
    "total_pages"
   ]
  },
  {
   "cell_type": "code",
   "execution_count": null,
   "metadata": {},
   "outputs": [],
   "source": []
  },
  {
   "cell_type": "code",
   "execution_count": 827,
   "metadata": {},
   "outputs": [],
   "source": [
    "# 크롤링 완성"
   ]
  },
  {
   "cell_type": "code",
   "execution_count": 2,
   "metadata": {},
   "outputs": [],
   "source": [
    "import time\n",
    "from datetime import date, timedelta"
   ]
  },
  {
   "cell_type": "code",
   "execution_count": 3,
   "metadata": {
    "scrolled": true
   },
   "outputs": [
    {
     "name": "stdout",
     "output_type": "stream",
     "text": [
      "1\n",
      "2\n",
      "3\n",
      "4\n",
      "5\n",
      "6\n",
      "7\n",
      "8\n",
      "9\n",
      "10\n",
      "11\n",
      "12\n",
      "13\n",
      "14\n",
      "15\n",
      "16\n",
      "17\n",
      "18\n",
      "19\n",
      "20\n",
      "21\n",
      "22\n",
      "23\n",
      "24\n",
      "1\n",
      "2\n",
      "3\n",
      "4\n",
      "5\n",
      "6\n",
      "7\n",
      "8\n",
      "9\n",
      "10\n",
      "11\n",
      "12\n",
      "13\n",
      "14\n",
      "15\n",
      "16\n",
      "17\n",
      "18\n",
      "19\n",
      "20\n",
      "21\n",
      "22\n",
      "23\n",
      "24\n",
      "25\n",
      "26\n",
      "27\n",
      "28\n",
      "29\n",
      "30\n",
      "1\n",
      "2\n",
      "3\n",
      "4\n",
      "5\n",
      "6\n",
      "7\n",
      "8\n",
      "9\n",
      "10\n",
      "11\n",
      "12\n",
      "13\n",
      "14\n",
      "15\n",
      "16\n",
      "17\n",
      "18\n",
      "19\n",
      "20\n",
      "21\n",
      "22\n",
      "23\n",
      "24\n",
      "25\n",
      "26\n",
      "1\n",
      "2\n",
      "3\n",
      "4\n",
      "5\n",
      "6\n",
      "7\n",
      "8\n",
      "9\n",
      "10\n",
      "11\n",
      "12\n",
      "13\n",
      "14\n",
      "15\n",
      "16\n",
      "17\n",
      "18\n",
      "19\n",
      "20\n",
      "21\n",
      "22\n",
      "23\n",
      "24\n",
      "25\n",
      "26\n",
      "27\n",
      "28\n",
      "29\n",
      "30\n",
      "31\n",
      "32\n",
      "1\n",
      "2\n",
      "3\n",
      "4\n",
      "5\n",
      "6\n",
      "7\n",
      "8\n",
      "9\n",
      "10\n",
      "11\n",
      "12\n",
      "13\n",
      "14\n",
      "15\n",
      "16\n",
      "17\n",
      "18\n",
      "19\n",
      "20\n",
      "21\n",
      "22\n",
      "23\n",
      "24\n",
      "25\n",
      "26\n",
      "27\n",
      "28\n",
      "29\n",
      "30\n",
      "31\n",
      "32\n",
      "33\n",
      "1\n",
      "2\n",
      "3\n",
      "4\n",
      "5\n",
      "6\n",
      "7\n",
      "8\n",
      "9\n",
      "10\n",
      "11\n",
      "12\n",
      "13\n",
      "14\n",
      "15\n",
      "16\n",
      "17\n",
      "18\n",
      "19\n",
      "20\n",
      "21\n",
      "22\n",
      "23\n",
      "1\n",
      "2\n",
      "3\n",
      "4\n",
      "5\n",
      "6\n",
      "7\n",
      "8\n",
      "9\n",
      "10\n",
      "11\n",
      "12\n",
      "13\n",
      "14\n",
      "15\n",
      "16\n",
      "17\n",
      "18\n",
      "19\n",
      "20\n",
      "21\n",
      "22\n",
      "23\n",
      "24\n",
      "25\n",
      "1\n",
      "2\n",
      "3\n",
      "4\n",
      "5\n",
      "6\n",
      "7\n",
      "8\n",
      "9\n",
      "10\n",
      "11\n",
      "12\n",
      "13\n",
      "14\n",
      "15\n",
      "16\n",
      "17\n",
      "18\n",
      "19\n",
      "20\n",
      "21\n",
      "22\n",
      "23\n",
      "24\n",
      "25\n",
      "26\n",
      "1\n",
      "2\n",
      "3\n",
      "4\n",
      "5\n",
      "6\n",
      "7\n",
      "8\n",
      "9\n",
      "10\n",
      "11\n",
      "12\n",
      "13\n",
      "14\n",
      "15\n",
      "16\n",
      "17\n",
      "18\n",
      "19\n",
      "20\n",
      "21\n",
      "22\n",
      "1\n",
      "2\n",
      "3\n",
      "4\n",
      "5\n",
      "6\n",
      "7\n",
      "8\n",
      "9\n",
      "10\n",
      "11\n",
      "12\n",
      "13\n",
      "14\n",
      "15\n",
      "16\n",
      "17\n",
      "18\n",
      "19\n",
      "20\n",
      "21\n",
      "22\n",
      "1\n",
      "2\n",
      "3\n",
      "4\n",
      "5\n",
      "6\n",
      "7\n",
      "8\n",
      "9\n",
      "10\n",
      "11\n",
      "12\n",
      "13\n",
      "14\n",
      "15\n",
      "16\n",
      "17\n",
      "18\n",
      "19\n",
      "20\n",
      "21\n",
      "22\n",
      "23\n",
      "24\n",
      "25\n",
      "1\n",
      "2\n",
      "3\n",
      "4\n",
      "5\n",
      "6\n",
      "7\n",
      "8\n",
      "9\n",
      "10\n",
      "11\n",
      "12\n",
      "13\n",
      "14\n",
      "15\n",
      "16\n",
      "17\n",
      "18\n",
      "19\n",
      "20\n",
      "21\n",
      "22\n",
      "1\n",
      "2\n",
      "3\n",
      "4\n",
      "5\n",
      "6\n",
      "7\n",
      "8\n",
      "9\n"
     ]
    },
    {
     "data": {
      "text/html": [
       "<div>\n",
       "<style scoped>\n",
       "    .dataframe tbody tr th:only-of-type {\n",
       "        vertical-align: middle;\n",
       "    }\n",
       "\n",
       "    .dataframe tbody tr th {\n",
       "        vertical-align: top;\n",
       "    }\n",
       "\n",
       "    .dataframe thead th {\n",
       "        text-align: right;\n",
       "    }\n",
       "</style>\n",
       "<table border=\"1\" class=\"dataframe\">\n",
       "  <thead>\n",
       "    <tr style=\"text-align: right;\">\n",
       "      <th></th>\n",
       "      <th>date</th>\n",
       "      <th>company</th>\n",
       "      <th>position</th>\n",
       "      <th>salary</th>\n",
       "      <th>deadline</th>\n",
       "      <th>description</th>\n",
       "      <th>service</th>\n",
       "      <th>link</th>\n",
       "      <th>skills</th>\n",
       "    </tr>\n",
       "  </thead>\n",
       "  <tbody>\n",
       "    <tr>\n",
       "      <td>0</td>\n",
       "      <td>2020-03-11</td>\n",
       "      <td>오르비스AI</td>\n",
       "      <td>(경력) Data Scientist</td>\n",
       "      <td>5,000 - 6,000만원 / 최소 0.1% / 경력</td>\n",
       "      <td>04/30 마감</td>\n",
       "      <td>영어권 컨텐츠 및 광고 크리에이터를 위한 AI 성우를 개발합니다.</td>\n",
       "      <td>IT ∙ 교육 ∙ 인공지능 ∙ 머신러닝 ∙ 딥러닝 ∙ MachineLearning ...</td>\n",
       "      <td>https://www.rocketpunch.com/jobs/47245/%EA%B2%...</td>\n",
       "      <td>[]</td>\n",
       "    </tr>\n",
       "    <tr>\n",
       "      <td>1</td>\n",
       "      <td>2020-03-11</td>\n",
       "      <td>무른모</td>\n",
       "      <td>C# 개발자(경력/신입)</td>\n",
       "      <td>신입, 경력</td>\n",
       "      <td>수시채용</td>\n",
       "      <td>4차산업 혁명을 이끌 ICT, IOT 기반 자동차 부품제조업 MES 솔루션 개발업체</td>\n",
       "      <td>ICT ∙ 클라우드서비스 ∙ IoT플랫폼 ∙ MES ∙ 스마트공장운영시스템 ∙ LO...</td>\n",
       "      <td>https://www.rocketpunch.com/jobs/70735/C-%EA%B...</td>\n",
       "      <td>[MySQL, plc, PHP, aws, GitLab, Python]</td>\n",
       "    </tr>\n",
       "    <tr>\n",
       "      <td>2</td>\n",
       "      <td>2020-03-11</td>\n",
       "      <td>네이콘</td>\n",
       "      <td>PHP/MY-SQL 웹프로그래머 개발자</td>\n",
       "      <td>인턴, 신입, 경력</td>\n",
       "      <td>04/10 마감</td>\n",
       "      <td>글로벌 퍼포먼스 및 인플루언서 마케팅 플랫폼 회사</td>\n",
       "      <td>모바일광고 ∙ 퍼포먼스마케팅 ∙ 인플루언서마케팅 ∙ 동영상광고플랫폼 ∙ 애드네트웍크</td>\n",
       "      <td>https://www.rocketpunch.com/jobs/70733/PHPMY-S...</td>\n",
       "      <td>[Android, Java, JavaScript, PHP, Python, Amazo...</td>\n",
       "    </tr>\n",
       "    <tr>\n",
       "      <td>3</td>\n",
       "      <td>2020-03-11</td>\n",
       "      <td>에이아이메이커</td>\n",
       "      <td>[java, python] 영상 Tool 개발</td>\n",
       "      <td>신입, 경력</td>\n",
       "      <td>수시채용</td>\n",
       "      <td>데이터 라벨링 기업</td>\n",
       "      <td>개발 ∙ IT/영상 ∙ 정보통신업/ ∙ 정보통신업/소프트웨어개발및공급업</td>\n",
       "      <td>https://www.rocketpunch.com/jobs/70163/java-py...</td>\n",
       "      <td>[Python, Java, Amazon AWS, JavaScript, GitHub]</td>\n",
       "    </tr>\n",
       "    <tr>\n",
       "      <td>4</td>\n",
       "      <td>2020-03-11</td>\n",
       "      <td>트릿지</td>\n",
       "      <td>Front-End Software Engineer at Tridge</td>\n",
       "      <td>4,000 - 10,000만원 / 인턴, 신입, 경력</td>\n",
       "      <td>수시채용</td>\n",
       "      <td>Disrupting the $1.5 Trillion global trading in...</td>\n",
       "      <td>모바일서비스 ∙ 웹서비스 ∙ 마케팅 ∙ 스타트업 ∙ e-commerce ∙ 공유경제...</td>\n",
       "      <td>https://www.rocketpunch.com/jobs/70411/Front-E...</td>\n",
       "      <td>[AngularJS, jQuery, PostgreSQL, nginx, Python,...</td>\n",
       "    </tr>\n",
       "    <tr>\n",
       "      <td>...</td>\n",
       "      <td>...</td>\n",
       "      <td>...</td>\n",
       "      <td>...</td>\n",
       "      <td>...</td>\n",
       "      <td>...</td>\n",
       "      <td>...</td>\n",
       "      <td>...</td>\n",
       "      <td>...</td>\n",
       "      <td>...</td>\n",
       "    </tr>\n",
       "    <tr>\n",
       "      <td>314</td>\n",
       "      <td>2020-03-11</td>\n",
       "      <td>키인사이드</td>\n",
       "      <td>[상시채용] 키인사이드와 함께 할 블록체인 Web Service 개발자 모집</td>\n",
       "      <td>3,000 - 10,000만원 / 경력</td>\n",
       "      <td>수시채용</td>\n",
       "      <td>Leading the way inside to enterprise blockchain</td>\n",
       "      <td>블록체인 ∙ blockchain ∙ 블록체인플랫폼</td>\n",
       "      <td>https://www.rocketpunch.com/jobs/66224/%EC%83%...</td>\n",
       "      <td>[Android, iOS, Node.js, Java, golang, C#, Pyth...</td>\n",
       "    </tr>\n",
       "    <tr>\n",
       "      <td>315</td>\n",
       "      <td>2020-03-11</td>\n",
       "      <td>플랜아이</td>\n",
       "      <td>너드팩토리 AI 추천시스템 엔지니어 영입</td>\n",
       "      <td>경력</td>\n",
       "      <td>수시채용</td>\n",
       "      <td></td>\n",
       "      <td>IT ∙ 솔루션,인공지능,데이터마이닝 ∙ B2G</td>\n",
       "      <td>https://www.rocketpunch.com/jobs/65167/%EB%84%...</td>\n",
       "      <td>[Python, Flask, TensorFlow, PyTorch, 머신러닝, 인공지...</td>\n",
       "    </tr>\n",
       "    <tr>\n",
       "      <td>316</td>\n",
       "      <td>2020-03-11</td>\n",
       "      <td>힐링사운드</td>\n",
       "      <td>연구원</td>\n",
       "      <td>1.0% - 5.0% / 인턴, 신입, 경력</td>\n",
       "      <td>수시채용</td>\n",
       "      <td>의료용 의사소통 증진 시스템</td>\n",
       "      <td>의료 ∙ 치과</td>\n",
       "      <td>https://www.rocketpunch.com/jobs/65932/%EC%97%...</td>\n",
       "      <td>[더 보기]</td>\n",
       "    </tr>\n",
       "    <tr>\n",
       "      <td>317</td>\n",
       "      <td>2020-03-11</td>\n",
       "      <td>링크샵스</td>\n",
       "      <td>[링크샵스] 플랫폼 개발</td>\n",
       "      <td>신입, 경력</td>\n",
       "      <td>수시채용</td>\n",
       "      <td>Global Fashion B2B Online Marketplace</td>\n",
       "      <td>모바일서비스 ∙ 웹서비스 ∙ 소프트웨어 ∙ 이커머스 ∙ B2B ∙ 이커머스/패션뷰티...</td>\n",
       "      <td>https://www.rocketpunch.com/jobs/65771/%EB%A7%...</td>\n",
       "      <td>[플랫폼, 웹 어플리케이션 설계/개발 (Java/JSP), 데이터분석, 알고리즘, ...</td>\n",
       "    </tr>\n",
       "    <tr>\n",
       "      <td>318</td>\n",
       "      <td>2020-03-11</td>\n",
       "      <td>클로버추얼패션</td>\n",
       "      <td>Software Engineer (MacOS)</td>\n",
       "      <td>경력</td>\n",
       "      <td>수시채용</td>\n",
       "      <td>패션 Tech를 선도하는 프로그램 CLO 를 만들고 있는 (주)클로버추얼패션 입니다</td>\n",
       "      <td>웹서비스 ∙ 마케팅 ∙ 소프트웨어 ∙ IT ∙ 디자인 ∙ 소프트웨어개발 ∙ 소프트웨...</td>\n",
       "      <td>https://www.rocketpunch.com/jobs/65502/Softwar...</td>\n",
       "      <td>[C, C++, Mac OS X, Qt, 3D CAD, Python, Xcode, ...</td>\n",
       "    </tr>\n",
       "  </tbody>\n",
       "</table>\n",
       "<p>319 rows × 9 columns</p>\n",
       "</div>"
      ],
      "text/plain": [
       "           date  company                                    position  \\\n",
       "0    2020-03-11   오르비스AI                         (경력) Data Scientist   \n",
       "1    2020-03-11      무른모                               C# 개발자(경력/신입)   \n",
       "2    2020-03-11      네이콘                       PHP/MY-SQL 웹프로그래머 개발자   \n",
       "3    2020-03-11  에이아이메이커                   [java, python] 영상 Tool 개발   \n",
       "4    2020-03-11      트릿지       Front-End Software Engineer at Tridge   \n",
       "..          ...      ...                                         ...   \n",
       "314  2020-03-11    키인사이드  [상시채용] 키인사이드와 함께 할 블록체인 Web Service 개발자 모집   \n",
       "315  2020-03-11     플랜아이                      너드팩토리 AI 추천시스템 엔지니어 영입   \n",
       "316  2020-03-11    힐링사운드                                         연구원   \n",
       "317  2020-03-11     링크샵스                               [링크샵스] 플랫폼 개발   \n",
       "318  2020-03-11  클로버추얼패션                   Software Engineer (MacOS)   \n",
       "\n",
       "                             salary  deadline  \\\n",
       "0    5,000 - 6,000만원 / 최소 0.1% / 경력  04/30 마감   \n",
       "1                            신입, 경력      수시채용   \n",
       "2                        인턴, 신입, 경력  04/10 마감   \n",
       "3                            신입, 경력      수시채용   \n",
       "4     4,000 - 10,000만원 / 인턴, 신입, 경력      수시채용   \n",
       "..                              ...       ...   \n",
       "314           3,000 - 10,000만원 / 경력      수시채용   \n",
       "315                              경력      수시채용   \n",
       "316        1.0% - 5.0% / 인턴, 신입, 경력      수시채용   \n",
       "317                          신입, 경력      수시채용   \n",
       "318                              경력      수시채용   \n",
       "\n",
       "                                           description  \\\n",
       "0                 영어권 컨텐츠 및 광고 크리에이터를 위한 AI 성우를 개발합니다.   \n",
       "1       4차산업 혁명을 이끌 ICT, IOT 기반 자동차 부품제조업 MES 솔루션 개발업체   \n",
       "2                          글로벌 퍼포먼스 및 인플루언서 마케팅 플랫폼 회사   \n",
       "3                                           데이터 라벨링 기업   \n",
       "4    Disrupting the $1.5 Trillion global trading in...   \n",
       "..                                                 ...   \n",
       "314    Leading the way inside to enterprise blockchain   \n",
       "315                                                      \n",
       "316                                    의료용 의사소통 증진 시스템   \n",
       "317              Global Fashion B2B Online Marketplace   \n",
       "318     패션 Tech를 선도하는 프로그램 CLO 를 만들고 있는 (주)클로버추얼패션 입니다   \n",
       "\n",
       "                                               service  \\\n",
       "0    IT ∙ 교육 ∙ 인공지능 ∙ 머신러닝 ∙ 딥러닝 ∙ MachineLearning ...   \n",
       "1    ICT ∙ 클라우드서비스 ∙ IoT플랫폼 ∙ MES ∙ 스마트공장운영시스템 ∙ LO...   \n",
       "2       모바일광고 ∙ 퍼포먼스마케팅 ∙ 인플루언서마케팅 ∙ 동영상광고플랫폼 ∙ 애드네트웍크   \n",
       "3              개발 ∙ IT/영상 ∙ 정보통신업/ ∙ 정보통신업/소프트웨어개발및공급업   \n",
       "4    모바일서비스 ∙ 웹서비스 ∙ 마케팅 ∙ 스타트업 ∙ e-commerce ∙ 공유경제...   \n",
       "..                                                 ...   \n",
       "314                        블록체인 ∙ blockchain ∙ 블록체인플랫폼   \n",
       "315                         IT ∙ 솔루션,인공지능,데이터마이닝 ∙ B2G   \n",
       "316                                            의료 ∙ 치과   \n",
       "317  모바일서비스 ∙ 웹서비스 ∙ 소프트웨어 ∙ 이커머스 ∙ B2B ∙ 이커머스/패션뷰티...   \n",
       "318  웹서비스 ∙ 마케팅 ∙ 소프트웨어 ∙ IT ∙ 디자인 ∙ 소프트웨어개발 ∙ 소프트웨...   \n",
       "\n",
       "                                                  link  \\\n",
       "0    https://www.rocketpunch.com/jobs/47245/%EA%B2%...   \n",
       "1    https://www.rocketpunch.com/jobs/70735/C-%EA%B...   \n",
       "2    https://www.rocketpunch.com/jobs/70733/PHPMY-S...   \n",
       "3    https://www.rocketpunch.com/jobs/70163/java-py...   \n",
       "4    https://www.rocketpunch.com/jobs/70411/Front-E...   \n",
       "..                                                 ...   \n",
       "314  https://www.rocketpunch.com/jobs/66224/%EC%83%...   \n",
       "315  https://www.rocketpunch.com/jobs/65167/%EB%84%...   \n",
       "316  https://www.rocketpunch.com/jobs/65932/%EC%97%...   \n",
       "317  https://www.rocketpunch.com/jobs/65771/%EB%A7%...   \n",
       "318  https://www.rocketpunch.com/jobs/65502/Softwar...   \n",
       "\n",
       "                                                skills  \n",
       "0                                                   []  \n",
       "1               [MySQL, plc, PHP, aws, GitLab, Python]  \n",
       "2    [Android, Java, JavaScript, PHP, Python, Amazo...  \n",
       "3       [Python, Java, Amazon AWS, JavaScript, GitHub]  \n",
       "4    [AngularJS, jQuery, PostgreSQL, nginx, Python,...  \n",
       "..                                                 ...  \n",
       "314  [Android, iOS, Node.js, Java, golang, C#, Pyth...  \n",
       "315  [Python, Flask, TensorFlow, PyTorch, 머신러닝, 인공지...  \n",
       "316                                             [더 보기]  \n",
       "317  [플랫폼, 웹 어플리케이션 설계/개발 (Java/JSP), 데이터분석, 알고리즘, ...  \n",
       "318  [C, C++, Mac OS X, Qt, 3D CAD, Python, Xcode, ...  \n",
       "\n",
       "[319 rows x 9 columns]"
      ]
     },
     "execution_count": 3,
     "metadata": {},
     "output_type": "execute_result"
    }
   ],
   "source": [
    "# 전체 페이지의 개수를 알아내기 위한 과정\n",
    "url = \"https://www.rocketpunch.com/api/jobs/template?&page=1&q=&specialty=Python&tag=%EB%8D%B0%EC%9D%B4%ED%84%B0\"\n",
    "response = requests.get(url)\n",
    "data = response.json()['data']['template']\n",
    "dom = BeautifulSoup(data, \"html.parser\")\n",
    "total_pages = dom.select(\"div.ui.pagination.menu > div.tablet.computer.large.screen.widescreen.only > a\")[-1].text\n",
    "\n",
    "datas = []\n",
    "for page in range(1,int(total_pages)+1):\n",
    "    url = \"https://www.rocketpunch.com/api/jobs/template?page={}&q=&specialty=Python&tag=%EB%8D%B0%EC%9D%B4%ED%84%B0%\".format(page)\n",
    "    response = requests.get(url)\n",
    "    data = response.json()['data']['template']\n",
    "    dom = BeautifulSoup(data, \"html.parser\")\n",
    "    root = dom.select('#company-list > div.company.item > div.content')\n",
    "    positions = dom.select('#company-list > div.company.item > div.content > div.company-jobs-detail')\n",
    "    a = 0\n",
    "    for i in range(len(root)):\n",
    "        len_of_positions = len(positions[i].select('div:nth-child(1) > a.nowrap'))   \n",
    "        a +=1\n",
    "        print(a)\n",
    "        for j in range(len_of_positions):\n",
    "            link = \"https://www.rocketpunch.com\" + positions[i].select('div:nth-child(1) > a.nowrap')[j].get('href') \n",
    "            response = requests.get(link)\n",
    "            dom_for_skills = BeautifulSoup(response.text,\"html.parser\")      \n",
    "            datas.append({\n",
    "                \"date\" : date.today(),\n",
    "                \"company\" : root[i].select('div.company-name > a > h4 > strong')[0].text,\n",
    "                \"position\" : positions[i].select('div:nth-child(1) > a.nowrap')[j].text,\n",
    "                \"salary\" : positions[i].select('div.job-detail > div:nth-child(1) > span')[j].text,\n",
    "                \"deadline\" : positions[i].select('div.job-detail > div.job-dates > span:nth-child(1)')[j].text.strip(' \\n'),\n",
    "                \"description\" : root[i].select('div.description')[0].text.strip('\\xa0'),\n",
    "                \"service\" : root[i].select('div.nowrap.meta')[0].text.strip(),  \n",
    "                \"link\" : link,\n",
    "                \"skills\" : str([a.text for a in dom_for_skills.select('div .job-specialties > a ')]).strip(\"[]\")\n",
    "            })\n",
    "result = pd.DataFrame(datas)"
   ]
  },
  {
   "cell_type": "code",
   "execution_count": 86,
   "metadata": {
    "scrolled": true
   },
   "outputs": [
    {
     "data": {
      "text/plain": [
       "['C',\n",
       " 'C++',\n",
       " 'Mac OS X',\n",
       " 'Qt',\n",
       " '3D CAD',\n",
       " 'Python',\n",
       " 'Xcode',\n",
       " 'Visual Studio',\n",
       " 'SVN',\n",
       " 'Git',\n",
       " 'TeamCity']"
      ]
     },
     "execution_count": 86,
     "metadata": {},
     "output_type": "execute_result"
    }
   ],
   "source": [
    "[a.text for a in dom_for_skills.select('#wrap > div.eight.wide.job-content.column > section:nth-child(3) > div > a')] "
   ]
  },
  {
   "cell_type": "code",
   "execution_count": 87,
   "metadata": {
    "scrolled": true
   },
   "outputs": [
    {
     "data": {
      "text/plain": [
       "['\\nC\\nC++\\nMac OS X\\nQt\\n3D CAD\\nPython\\nXcode\\nVisual Studio\\nSVN\\nGit\\nTeamCity\\n',\n",
       " '\\n          Front-end ∙ JavaScript ∙ jQuery ∙ MySQL ∙ Java ∙ Node.js ∙ React ∙ CSS3 ∙ Android ∙ iOS\\n        ',\n",
       " '\\n          jQuery ∙ JavaScript ∙ CSS3 ∙ AngularJS ∙ React ∙ Front-end ∙ HTML5 ∙ CSS ∙ HTML ∙ Node.js ∙ MySQL ∙ Java\\n        ',\n",
       " '\\n          unity ∙ Unity 3D ∙ Unreal ∙ 유니티 ∙ shader ∙ 3D ∙ Unreal Engine 4 ∙ ar ∙ vr\\n        ',\n",
       " '\\n          3D디자인 ∙ 3d MAYA ∙ 패션디자인 ∙ 패션 ∙ 프로덕트디자인\\n        ']"
      ]
     },
     "execution_count": 87,
     "metadata": {},
     "output_type": "execute_result"
    }
   ],
   "source": [
    "[a.text for a in dom_for_skills.select('div .job-specialties')]"
   ]
  },
  {
   "cell_type": "code",
   "execution_count": 286,
   "metadata": {},
   "outputs": [],
   "source": [
    "response = requests.get(\"https://www.rocketpunch.com/jobs/57705/Back-end-Developer-%EB%B0%B1%EC%97%94%EB%93%9C-%EC%84%9C%EB%B2%84-%EA%B0%9C%EB%B0%9C%EC%9E%90\")\n",
    "dom = BeautifulSoup(response.text,\"html.parser\")"
   ]
  },
  {
   "cell_type": "code",
   "execution_count": 920,
   "metadata": {},
   "outputs": [],
   "source": [
    "response = requests.get(\"https://www.rocketpunch.com/jobs/70804/%EC%B2%AD%EB%85%84SW%EC%95%84%EC%B9%B4%EB%8D%B0%EB%AF%B8SSAFY-%EC%B7%A8%EC%97%85%EC%83%81%EB%8B%B4%EC%82%AC-%EA%B3%84%EC%95%BD%EC%A7%81-%EB%8C%80%EC%A0%84-%EA%B4%91%EC%A3%BC\")\n",
    "dom_for_skills = BeautifulSoup(response.text,\"html.parser\")      "
   ]
  },
  {
   "cell_type": "code",
   "execution_count": 992,
   "metadata": {},
   "outputs": [
    {
     "data": {
      "text/plain": [
       "'취업상담사, 취업상담'"
      ]
     },
     "execution_count": 992,
     "metadata": {},
     "output_type": "execute_result"
    }
   ],
   "source": [
    "\", \".join([a.text for a in dom_for_skills.select('div .job-specialties > a ')])"
   ]
  },
  {
   "cell_type": "code",
   "execution_count": 995,
   "metadata": {},
   "outputs": [
    {
     "data": {
      "text/plain": [
       "'광주광역시 광산구, 대전광역시 유성구'"
      ]
     },
     "execution_count": 995,
     "metadata": {},
     "output_type": "execute_result"
    }
   ],
   "source": [
    "# <br\\>로 나누어져 있기 때문에, 처음부터 끝까지 1칸씩 간격을 두고 찾아내면 지역이 몇개건 상관없이 가져올수 있음\n",
    "\", \".join(dom_for_skills.select('#wrap > div.four.wide.job-infoset.column > div > div:nth-child(3) > div > div:nth-child(2) > div.content')[0].contents[::2]).strip()"
   ]
  },
  {
   "cell_type": "code",
   "execution_count": 996,
   "metadata": {},
   "outputs": [
    {
     "data": {
      "text/plain": [
       "'광주광역시'"
      ]
     },
     "execution_count": 996,
     "metadata": {},
     "output_type": "execute_result"
    }
   ],
   "source": [
    "\"\\n       광주광역시                 \\n\".strip()"
   ]
  },
  {
   "cell_type": "code",
   "execution_count": null,
   "metadata": {},
   "outputs": [],
   "source": []
  },
  {
   "cell_type": "code",
   "execution_count": null,
   "metadata": {},
   "outputs": [],
   "source": []
  },
  {
   "cell_type": "code",
   "execution_count": null,
   "metadata": {},
   "outputs": [],
   "source": []
  },
  {
   "cell_type": "code",
   "execution_count": null,
   "metadata": {},
   "outputs": [],
   "source": []
  },
  {
   "cell_type": "code",
   "execution_count": 40,
   "metadata": {},
   "outputs": [],
   "source": [
    "from scrapy.http import TextResponse\n",
    "url = \"https://www.rocketpunch.com/api/jobs/template?page=1&q=&specialty=Python&tag=데이터\""
   ]
  },
  {
   "cell_type": "code",
   "execution_count": 82,
   "metadata": {
    "scrolled": true
   },
   "outputs": [
    {
     "data": {
      "text/plain": [
       "<200 https://www.rocketpunch.com/api/jobs/template?page=1&q=&specialty=Python&tag=%EB%8D%B0%EC%9D%B4%ED%84%B0%3E>"
      ]
     },
     "execution_count": 82,
     "metadata": {},
     "output_type": "execute_result"
    }
   ],
   "source": [
    "req = requests.get(url)\n",
    "response = TextResponse(req.url, body=req.text, encoding=\"utf-8\")\n",
    "response"
   ]
  },
  {
   "cell_type": "code",
   "execution_count": 83,
   "metadata": {},
   "outputs": [],
   "source": [
    "jsonresponse = json.loads(response.body)"
   ]
  },
  {
   "cell_type": "code",
   "execution_count": 72,
   "metadata": {},
   "outputs": [],
   "source": [
    "soup = BeautifulSoup(response.body, \"html.parser\") "
   ]
  },
  {
   "cell_type": "code",
   "execution_count": 75,
   "metadata": {},
   "outputs": [
    {
     "ename": "TypeError",
     "evalue": "'NoneType' object is not callable",
     "output_type": "error",
     "traceback": [
      "\u001b[0;31m---------------------------------------------------------------------------\u001b[0m",
      "\u001b[0;31mTypeError\u001b[0m                                 Traceback (most recent call last)",
      "\u001b[0;32m<ipython-input-75-368028e24cc7>\u001b[0m in \u001b[0;36m<module>\u001b[0;34m\u001b[0m\n\u001b[0;32m----> 1\u001b[0;31m \u001b[0msoup\u001b[0m\u001b[0;34m.\u001b[0m\u001b[0mjson\u001b[0m\u001b[0;34m(\u001b[0m\u001b[0;34m)\u001b[0m\u001b[0;34m\u001b[0m\u001b[0;34m\u001b[0m\u001b[0m\n\u001b[0m",
      "\u001b[0;31mTypeError\u001b[0m: 'NoneType' object is not callable"
     ]
    }
   ],
   "source": [
    "soup"
   ]
  },
  {
   "cell_type": "code",
   "execution_count": 48,
   "metadata": {},
   "outputs": [],
   "source": [
    "url = \"https://www.rocketpunch.com/api/jobs/template?page=1&q=&specialty=Python&tag=%EB%8D%B0%EC%9D%B4%ED%84%B0%3E\"\n",
    "response = requests.get(url)\n",
    "data = response.json()['data']['template']\n",
    "dom = BeautifulSoup(data, \"html.parser\")\n"
   ]
  },
  {
   "cell_type": "code",
   "execution_count": 49,
   "metadata": {},
   "outputs": [
    {
     "data": {
      "text/plain": [
       "<div class=\"ui job items segment\" id=\"company-list\">\n",
       "<div class=\"header\">\n",
       "<div class=\"ui right floated header sort-types\"><a class=\"checked\" data-query-add=\"sort=recent\" href=\"/jobs?q=&amp;specialty=Python&amp;tag=%EB%8D%B0%EC%9D%B4%ED%84%B0%3E&amp;sort=recent\">\n",
       "        최신순\n",
       "      </a>\n",
       "<div class=\"separator\"></div><a data-query-add=\"sort=ranking\" href=\"/jobs?q=&amp;specialty=Python&amp;tag=%EB%8D%B0%EC%9D%B4%ED%84%B0%3E&amp;sort=ranking\">\n",
       "        인기순\n",
       "      </a>\n",
       "<div class=\"separator\"></div><a data-query-add=\"sort=salary\" href=\"/jobs?q=&amp;specialty=Python&amp;tag=%EB%8D%B0%EC%9D%B4%ED%84%B0%3E&amp;sort=salary\">\n",
       "        연봉순\n",
       "      </a>\n",
       "</div>\n",
       "<h2 class=\"ui left header\" style=\"font-size:16px\">\n",
       "<span class=\"desc\">검색 결과</span>\n",
       "<span class=\"count\">304</span>\n",
       "<div class=\"separator\"></div>\n",
       "<span class=\"filter-summary\">데이터&gt;, Python</span>\n",
       "</h2>\n",
       "</div>\n",
       "<div class=\"ui inverted divider\"></div><div class=\"company item active\" data-company_id=\"113474\">\n",
       "<div class=\"logo image\">\n",
       "<a href=\"/companies/turing/jobs\" target=\"_blank\">\n",
       "<div class=\"ui logo\">\n",
       "<img alt=\"튜링 logo\" class=\"ui image\" src=\"https://image.rocketpunch.com/company/113474/turing_logo_1579582194.png?s=100x100&amp;t=inside\"/>\n",
       "</div>\n",
       "</a>\n",
       "</div>\n",
       "<div class=\"content active\">\n",
       "<div class=\"ui right floated skip header\">\n",
       "<a data-modal=\"signup\">✕</a>\n",
       "</div>\n",
       "<div class=\"company-name\">\n",
       "<a href=\"/companies/turing/jobs\" target=\"_blank\">\n",
       "<h4 class=\"header name\"> <strong>튜링</strong>\n",
       "<small>(Turing)</small>\n",
       "</h4>\n",
       "</a><a class=\"reference-count\" data-method=\"post\" data-url=\"/api/companies/113474/reference\">\n",
       "<i class=\"ic-thumbup-outline icon\"></i>\n",
       "<span class=\"count\">5</span>\n",
       "</a></div>\n",
       "<div class=\"description\">인공지능 수학공부 앱 : 수학대왕을 운영중입니다. :) </div>\n",
       "<div class=\"nowrap meta\">      모바일 ∙ 빅데이터 ∙ 인공지능 ∙ 머신러닝 ∙ IT/인공지능 ∙ 딥러닝 ∙ 모바일/웹 ∙ 에듀테크 ∙ 교육/이러닝 ∙ 추천 ∙ 수학 ∙ 교육산업 ∙ 교육산업/IT ∙ 수학교육 ∙ 추천알고리즘\n",
       "</div><div class=\"ui divider\"></div>\n",
       "<div class=\"company-jobs-detail\">\n",
       "<div class=\"job-detail\">\n",
       "<div>\n",
       "<a class=\"nowrap job-title primary link\" href=\"/jobs/70593/%EC%9D%B8%EA%B3%B5%EC%A7%80%EB%8A%A5-%EC%88%98%ED%95%99-%EA%B5%90%EC%9C%A1-%EC%8A%A4%ED%83%80%ED%8A%B8%EC%97%85%EC%97%90%EC%84%9C-%ED%8C%80%EC%9B%90%EC%9C%BC%EB%A1%9C-%EC%84%9C%EB%B2%84%EA%B0%9C%EB%B0%9C%EC%9E%90%EB%A5%BC-%EB%AA%A8%EC%8B%AD%EB%8B%88%EB%8B%A4-django\" target=\"_blank\">인공지능 수학 교육 스타트업에서 팀원으로 서버개발자를 모십니다. (django)</a>\n",
       "<span class=\"job-stat-info\">7,000 - 9,000만원 / 최대 2.5% / 경력</span>\n",
       "<a data-modal=\"login\" style=\"float:right\"><i class=\"ic-bookmark_outline icon\"></i></a>\n",
       "</div>\n",
       "<div class=\"job-dates\">\n",
       "<span>\n",
       "<i class=\"ic-calendar_new icon\"></i>                수시채용\n",
       "</span><span>                03/08 등록\n",
       "</span></div>\n",
       "</div>\n",
       "</div>\n",
       "</div>\n",
       "</div>\n",
       "<div class=\"ui inverted divider\"></div><div class=\"company item\" data-company_id=\"6047\">\n",
       "<div class=\"logo image\">\n",
       "<a href=\"/companies/mathpresso/jobs\" target=\"_blank\">\n",
       "<div class=\"ui logo\">\n",
       "<img alt=\"매스프레소 logo\" class=\"ui image\" src=\"https://image.rocketpunch.com/company/6047/mathpresso_logo_1502252970.jpg?s=100x100&amp;t=inside\"/>\n",
       "</div>\n",
       "</a>\n",
       "</div>\n",
       "<div class=\"content\">\n",
       "<div class=\"ui right floated skip header\">\n",
       "<a data-modal=\"signup\">✕</a>\n",
       "</div>\n",
       "<div class=\"company-name\">\n",
       "<a href=\"/companies/mathpresso/jobs\" target=\"_blank\">\n",
       "<h4 class=\"header name\"> <strong>매스프레소</strong>\n",
       "<small>(Mathpresso)</small>\n",
       "</h4>\n",
       "</a><span class=\"ui small basic response recruit label\"><div data-content=\"7일 이내 지원 결과를 알려줄 확률이 90% 이상인 기업입니다.\" data-variation=\"inverted mini\">응답률 우수</div><div data-content=\"로켓펀치를 통해 채용한 기록이 있는 기업입니다.\" data-variation=\"inverted mini\">채용 우수</div></span><a class=\"reference-count\" data-method=\"post\" data-url=\"/api/companies/6047/reference\">\n",
       "<i class=\"ic-thumbup-outline icon\"></i>\n",
       "<span class=\"count\">27</span>\n",
       "</a></div>\n",
       "<div class=\"description\">We Rebuild Education </div>\n",
       "<div class=\"nowrap meta\">      모바일서비스 ∙ 소프트웨어 ∙ 데이터 ∙ 교육 ∙ 모바일앱 ∙ AI ∙ 앱개발 ∙ 머신러닝 ∙ IT/인공지능 ∙ 딥러닝 ∙ 에듀테크 ∙ 수학 ∙ OCR\n",
       "</div><div class=\"applicants\">\n",
       "<div class=\"avatar-list\">\n",
       "<a href=\"/@l1218yj2\">\n",
       "<img alt=\"\" class=\"ui mini circular image\" src=\"https://image.rocketpunch.com/user/14199/14199_1544617878.jpg?s=35x35&amp;t=cover\"/>\n",
       "</a><div class=\"mini masked item\">?</div><div class=\"mini masked item\">?</div><div class=\"mini masked item\">?</div>\n",
       "<div class=\"more item mini\"><span>+319</span></div>\n",
       "</div>\n",
       "<span><a href=\"/companies/mathpresso/jobs/applicants\">320명 이상이 로켓펀치를 통해 지원</a></span>\n",
       "</div><div class=\"ui divider\"></div>\n",
       "<div class=\"company-jobs-detail\">\n",
       "<div class=\"job-detail\">\n",
       "<div>\n",
       "<a class=\"nowrap job-title primary link\" href=\"/jobs/70589/Math-Engine-Developer\" target=\"_blank\">Math Engine Developer</a>\n",
       "<span class=\"job-stat-info\">3,500 - 6,000만원 / 인턴, 신입, 경력</span>\n",
       "<a data-modal=\"login\" style=\"float:right\"><i class=\"ic-bookmark_outline icon\"></i></a>\n",
       "</div>\n",
       "<div class=\"job-dates\">\n",
       "<span>\n",
       "<i class=\"ic-calendar_new icon\"></i>                03/31 마감\n",
       "</span><span>                03/07 등록\n",
       "</span></div>\n",
       "</div>\n",
       "</div>\n",
       "</div>\n",
       "</div>\n",
       "<div class=\"ui inverted divider\"></div><div class=\"company item\" data-company_id=\"4921\">\n",
       "<div class=\"logo image\">\n",
       "<a href=\"/companies/tridge/jobs\" target=\"_blank\">\n",
       "<div class=\"ui logo\">\n",
       "<img alt=\"트릿지 logo\" class=\"ui image\" src=\"https://image.rocketpunch.com/company/4921/tridge_logo_1582610549.png?s=100x100&amp;t=inside\"/>\n",
       "</div>\n",
       "</a>\n",
       "</div>\n",
       "<div class=\"content\">\n",
       "<div class=\"ui right floated skip header\">\n",
       "<a data-modal=\"signup\">✕</a>\n",
       "</div>\n",
       "<div class=\"company-name\">\n",
       "<a href=\"/companies/tridge/jobs\" target=\"_blank\">\n",
       "<h4 class=\"header name\"> <strong>트릿지</strong>\n",
       "<small>(Tridge)</small>\n",
       "</h4>\n",
       "</a><a class=\"reference-count\" data-method=\"post\" data-url=\"/api/companies/4921/reference\">\n",
       "<i class=\"ic-thumbup-outline icon\"></i>\n",
       "<span class=\"count\">56</span>\n",
       "</a></div>\n",
       "<div class=\"description\">Disrupting the $1.5 Trillion global trading industry </div>\n",
       "<div class=\"nowrap meta\">      모바일서비스 ∙ 웹서비스 ∙ 마케팅 ∙ 스타트업 ∙ e-commerce ∙ 공유경제 ∙ 무역 ∙ B2B ∙ 글로벌 ∙ Big-Data ∙ B2B2C ∙ Data-Visualization\n",
       "</div><div class=\"applicants\">\n",
       "<div class=\"avatar-list\">\n",
       "<div class=\"mini masked item\">?</div><div class=\"mini masked item\">?</div><div class=\"mini masked item\">?</div><div class=\"mini masked item\">?</div>\n",
       "<div class=\"more item mini\"><span>+717</span></div>\n",
       "</div>\n",
       "<span><a href=\"/companies/tridge/jobs/applicants\">720명 이상이 로켓펀치를 통해 지원</a></span>\n",
       "</div><div class=\"ui divider\"></div>\n",
       "<div class=\"company-jobs-detail\">\n",
       "<div class=\"job-detail\">\n",
       "<div>\n",
       "<a class=\"nowrap job-title primary link\" href=\"/jobs/70411/Front-End-Software-Engineer-at-Tridge\" target=\"_blank\">Front-End Software Engineer at Tridge</a>\n",
       "<span class=\"job-stat-info\">4,000 - 10,000만원 / 인턴, 신입, 경력</span>\n",
       "<a data-modal=\"login\" style=\"float:right\"><i class=\"ic-bookmark_outline icon\"></i></a>\n",
       "</div>\n",
       "<div class=\"job-dates\">\n",
       "<span>\n",
       "<i class=\"ic-calendar_new icon\"></i>                수시채용\n",
       "</span><span>                03/05 수정\n",
       "</span></div>\n",
       "</div>\n",
       "<div class=\"ui divider\"></div> <div class=\"job-detail\">\n",
       "<div>\n",
       "<a class=\"nowrap job-title primary link\" href=\"/jobs/9504/Back-End-Software-Engineer-at-Tridge\" target=\"_blank\">Back-End Software Engineer at Tridge</a>\n",
       "<span class=\"job-stat-info\">4,000 - 10,000만원 / 인턴, 신입, 경력</span>\n",
       "<a data-modal=\"login\" style=\"float:right\"><i class=\"ic-bookmark_outline icon\"></i></a>\n",
       "</div>\n",
       "<div class=\"job-dates\">\n",
       "<span>\n",
       "<i class=\"ic-calendar_new icon\"></i>                수시채용\n",
       "</span><span>                03/07 수정\n",
       "</span></div>\n",
       "</div>\n",
       "<div class=\"ui divider\"></div> <div class=\"job-detail\">\n",
       "<div>\n",
       "<a class=\"nowrap job-title primary link\" href=\"/jobs/70412/Lead-Software-Engineer-at-Tridge\" target=\"_blank\">Lead Software Engineer at Tridge</a>\n",
       "<span class=\"job-stat-info\">4,000 - 10,000만원 / 경력</span>\n",
       "<a data-modal=\"login\" style=\"float:right\"><i class=\"ic-bookmark_outline icon\"></i></a>\n",
       "</div>\n",
       "<div class=\"job-dates\">\n",
       "<span>\n",
       "<i class=\"ic-calendar_new icon\"></i>                수시채용\n",
       "</span><span>                03/05 수정\n",
       "</span></div>\n",
       "</div>\n",
       "</div>\n",
       "</div>\n",
       "</div>\n",
       "<div class=\"ui inverted divider\"></div><div class=\"item brand-message\">\n",
       "<div class=\"logo image\"></div>\n",
       "<div class=\"content\">\n",
       "<img alt=\"image\" src=\"https://static.rocketpunch.com/images/main/landing/space_lounge_chat_nobg.svg\"/>\n",
       "<div class=\"description\">\n",
       "<h2>\n",
       "              당신에게 필요한 좋은 일자리!\n",
       "            </h2>\n",
       "<h3>\n",
       "              대한민국의 비즈니스 인맥이 모두 모여있는 곳, 로켓펀치에서 만나보세요.\n",
       "            </h3>\n",
       "<a class=\"ui basic primary button\" href=\"/signup\">\n",
       "              무료가입\n",
       "            </a>\n",
       "</div>\n",
       "</div>\n",
       "</div>\n",
       "<div class=\"ui inverted divider\"></div><div class=\"company item\" data-company_id=\"110749\">\n",
       "<div class=\"logo image\">\n",
       "<a href=\"/companies/fetching/jobs\" target=\"_blank\">\n",
       "<div class=\"ui logo\">\n",
       "<img alt=\"FETCHING logo\" class=\"ui image\" src=\"https://image.rocketpunch.com/company/110749/fetching_logo_1576173568.jpg?s=100x100&amp;t=inside\"/>\n",
       "</div>\n",
       "</a>\n",
       "</div>\n",
       "<div class=\"content\">\n",
       "<div class=\"ui right floated skip header\">\n",
       "<a data-modal=\"signup\">✕</a>\n",
       "</div>\n",
       "<div class=\"company-name\">\n",
       "<a href=\"/companies/fetching/jobs\" target=\"_blank\">\n",
       "<h4 class=\"header name\"> <strong>FETCHING</strong>\n",
       "</h4>\n",
       "</a><a class=\"reference-count\" data-method=\"post\" data-url=\"/api/companies/110749/reference\">\n",
       "<i class=\"ic-thumbup-outline icon\"></i>\n",
       "<span class=\"count\">7</span>\n",
       "</a></div>\n",
       "<div class=\"description\">페칭 - 테크 기반의 문화와 자유로운 분위기를 지향하는 회사 </div>\n",
       "<div class=\"nowrap meta\">      IT/서비스 ∙ 앱 ∙ ICT\n",
       "</div><div class=\"applicants\">\n",
       "<div class=\"avatar-list\">\n",
       "<div class=\"mini masked item\">?</div><div class=\"mini masked item\">?</div><div class=\"mini masked item\">?</div><div class=\"mini masked item\">?</div>\n",
       "<div class=\"more item mini\"><span>+2</span></div>\n",
       "</div>\n",
       "<span><a href=\"/companies/fetching/jobs/applicants\">5명 이상이 로켓펀치를 통해 지원</a></span>\n",
       "</div><div class=\"ui divider\"></div>\n",
       "<div class=\"company-jobs-detail\">\n",
       "<div class=\"job-detail\">\n",
       "<div>\n",
       "<a class=\"nowrap job-title primary link\" href=\"/jobs/66855/Python-Back-end-%EA%B0%9C%EB%B0%9C%EC%9E%90-%ED%8C%80%EC%9B%90%EC%9D%84-%EA%B5%AC%ED%95%B4%EC%9A%94\" target=\"_blank\">Python Back-end 개발자 팀원을 구해요</a>\n",
       "<span class=\"job-stat-info\">3,000 - 6,000만원 / 1.0% - 5.0% / 신입, 경력</span>\n",
       "<a data-modal=\"login\" style=\"float:right\"><i class=\"ic-bookmark_outline icon\"></i></a>\n",
       "</div>\n",
       "<div class=\"job-dates\">\n",
       "<span>\n",
       "<i class=\"ic-calendar_new icon\"></i>                03/27 마감\n",
       "</span><span>\n",
       "<i class=\"feed icon\"></i>\n",
       "                원격근무\n",
       "              </span><span>                03/07 수정\n",
       "</span></div>\n",
       "</div>\n",
       "</div>\n",
       "</div>\n",
       "</div>\n",
       "<div class=\"ui inverted divider\"></div><div class=\"company item\" data-company_id=\"5137\">\n",
       "<div class=\"logo image\">\n",
       "<a href=\"/companies/idve/jobs\" target=\"_blank\">\n",
       "<div class=\"ui logo\">\n",
       "<img alt=\"아이디브 logo\" class=\"ui image\" src=\"https://image.rocketpunch.com/company/5137/idve_logo_1511959631.png?s=100x100&amp;t=inside\"/>\n",
       "</div>\n",
       "</a>\n",
       "</div>\n",
       "<div class=\"content\">\n",
       "<div class=\"ui right floated skip header\">\n",
       "<a data-modal=\"signup\">✕</a>\n",
       "</div>\n",
       "<div class=\"company-name\">\n",
       "<a href=\"/companies/idve/jobs\" target=\"_blank\">\n",
       "<h4 class=\"header name\"> <strong>아이디브</strong>\n",
       "<small>(IDVE)</small>\n",
       "</h4>\n",
       "</a><span class=\"ui small basic response recruit label\"><div data-content=\"7일 이내 지원 결과를 알려줄 확률이 90% 이상인 기업입니다.\" data-variation=\"inverted mini\">응답률 우수</div><div data-content=\"로켓펀치를 통해 채용한 기록이 있는 기업입니다.\" data-variation=\"inverted mini\">채용 우수</div></span><a class=\"reference-count\" data-method=\"post\" data-url=\"/api/companies/5137/reference\">\n",
       "<i class=\"ic-thumbup-outline icon\"></i>\n",
       "<span class=\"count\">7</span>\n",
       "</a></div>\n",
       "<div class=\"description\">심플! 편안한 해외직구 애프터바이! 국내 오픈마켓 같은 해외직구 서비스 </div>\n",
       "<div class=\"nowrap meta\">      모바일서비스 ∙ 웹서비스 ∙ 마케팅 ∙ 데이터 ∙ 빅데이터 ∙ 모바일앱 ∙ 데이터분석 ∙ 해외직구 ∙ 통계분석\n",
       "</div><div class=\"applicants\">\n",
       "<div class=\"avatar-list\">\n",
       "<div class=\"mini masked item\">?</div><div class=\"mini masked item\">?</div><div class=\"mini masked item\">?</div><div class=\"mini masked item\">?</div>\n",
       "<div class=\"more item mini\"><span>+321</span></div>\n",
       "</div>\n",
       "<span><a href=\"/companies/idve/jobs/applicants\">325명 이상이 로켓펀치를 통해 지원</a></span>\n",
       "</div><div class=\"ui divider\"></div>\n",
       "<div class=\"company-jobs-detail\">\n",
       "<div class=\"job-detail\">\n",
       "<div>\n",
       "<a class=\"nowrap job-title primary link\" href=\"/jobs/69882/%ED%95%B4%EC%99%B8%EC%A7%81%EA%B5%AC-%EC%95%A0%ED%94%84%ED%84%B0%EB%B0%94%EC%9D%B4-PythonReact-%EA%B0%9C%EB%B0%9C%EC%9E%90-%EB%AA%A8%EC%8B%AD%EB%8B%88%EB%8B%A4\" target=\"_blank\">해외직구 애프터바이 [Python,React 개발자] 모십니다!</a>\n",
       "<span class=\"job-stat-info\">최대 9,000만원 / 최대 3.0% / 경력</span>\n",
       "<a data-modal=\"login\" style=\"float:right\"><i class=\"ic-bookmark_outline icon\"></i></a>\n",
       "</div>\n",
       "<div class=\"job-dates\">\n",
       "<span>\n",
       "<i class=\"ic-calendar_new icon\"></i>                03/21 마감\n",
       "</span><span>                03/07 수정\n",
       "</span></div>\n",
       "</div>\n",
       "</div>\n",
       "</div>\n",
       "</div>\n",
       "<div class=\"ui inverted divider\"></div><div class=\"company item\" data-company_id=\"94059\">\n",
       "<div class=\"logo image\">\n",
       "<a href=\"/companies/dslabglobal/jobs\" target=\"_blank\">\n",
       "<div class=\"ui logo\">\n",
       "<img alt=\"디에스랩글로벌 logo\" class=\"ui image\" src=\"https://image.rocketpunch.com/company/94059/skyhub_logo_1580273903.jpg?s=100x100&amp;t=inside\"/>\n",
       "</div>\n",
       "</a>\n",
       "</div>\n",
       "<div class=\"content\">\n",
       "<div class=\"ui right floated skip header\">\n",
       "<a data-modal=\"signup\">✕</a>\n",
       "</div>\n",
       "<div class=\"company-name\">\n",
       "<a href=\"/companies/dslabglobal/jobs\" target=\"_blank\">\n",
       "<h4 class=\"header name\"> <strong>디에스랩글로벌</strong>\n",
       "<small>(DSLAB GLOBAL)</small>\n",
       "</h4>\n",
       "</a><span class=\"ui small basic response label\"><div data-content=\"7일 이내 지원 결과를 알려줄 확률이 90% 이상인 기업입니다.\" data-variation=\"inverted mini\">응답률 우수</div></span><a class=\"reference-count\" data-method=\"post\" data-url=\"/api/companies/94059/reference\">\n",
       "<i class=\"ic-thumbup-outline icon\"></i>\n",
       "<span class=\"count\">2</span>\n",
       "</a></div>\n",
       "<div class=\"description\">인공지능 자동화 솔루션 전문 기업 </div>\n",
       "<div class=\"nowrap meta\">      소프트웨어 ∙ IT ∙ 인공지능 ∙ IT/서비스 ∙ 컨설팅 ∙ 머신러닝 ∙ 서비스/소프트웨어개발및공급업 ∙ IT/인공지능 ∙ 딥러닝 ∙ SaaS\n",
       "</div><div class=\"applicants\">\n",
       "<div class=\"avatar-list\">\n",
       "<div class=\"mini masked item\">?</div><div class=\"mini masked item\">?</div><div class=\"mini masked item\">?</div><div class=\"mini masked item\">?</div>\n",
       "<div class=\"more item mini\"><span>+65</span></div>\n",
       "</div>\n",
       "<span><a href=\"/companies/dslabglobal/jobs/applicants\">65명 이상이 로켓펀치를 통해 지원</a></span>\n",
       "</div><div class=\"ui divider\"></div>\n",
       "<div class=\"company-jobs-detail\">\n",
       "<div class=\"job-detail\">\n",
       "<div>\n",
       "<a class=\"nowrap job-title primary link\" href=\"/jobs/69431/%EB%8D%B0%EC%9D%B4%ED%84%B0-%EB%B6%84%EC%84%9D%EA%B0%80\" target=\"_blank\">데이터 분석가</a>\n",
       "<span class=\"job-stat-info\">신입, 경력</span>\n",
       "<a data-modal=\"login\" style=\"float:right\"><i class=\"ic-bookmark_outline icon\"></i></a>\n",
       "</div>\n",
       "<div class=\"job-dates\">\n",
       "<span>\n",
       "<i class=\"ic-calendar_new icon\"></i>                03/13 마감\n",
       "</span><span>                02/12 등록\n",
       "</span></div>\n",
       "</div>\n",
       "<div class=\"ui divider\"></div> <div class=\"job-detail\">\n",
       "<div>\n",
       "<a class=\"nowrap job-title primary link\" href=\"/jobs/69429/%EB%B0%B1%EC%97%94%EB%93%9C-%EA%B0%9C%EB%B0%9C%EC%9E%90\" target=\"_blank\">백엔드 개발자</a>\n",
       "<span class=\"job-stat-info\">신입, 경력</span>\n",
       "<a data-modal=\"login\" style=\"float:right\"><i class=\"ic-bookmark_outline icon\"></i></a>\n",
       "</div>\n",
       "<div class=\"job-dates\">\n",
       "<span>\n",
       "<i class=\"ic-calendar_new icon\"></i>                수시채용\n",
       "</span><span>                03/06 수정\n",
       "</span></div>\n",
       "</div>\n",
       "</div>\n",
       "</div>\n",
       "</div>\n",
       "<div class=\"ui inverted divider\"></div><div class=\"company item\" data-company_id=\"29834\">\n",
       "<div class=\"logo image\">\n",
       "<a href=\"/companies/paletteco/jobs\" target=\"_blank\">\n",
       "<div class=\"ui logo\">\n",
       "<img alt=\"에이블리코퍼레이션 logo\" class=\"ui image\" src=\"https://image.rocketpunch.com/company/29834/paletteco_logo_1556522541.png?s=100x100&amp;t=inside\"/>\n",
       "</div>\n",
       "</a>\n",
       "</div>\n",
       "<div class=\"content\">\n",
       "<div class=\"ui right floated skip header\">\n",
       "<a data-modal=\"signup\">✕</a>\n",
       "</div>\n",
       "<div class=\"company-name\">\n",
       "<a href=\"/companies/paletteco/jobs\" target=\"_blank\">\n",
       "<h4 class=\"header name\"> <strong>에이블리코퍼레이션</strong>\n",
       "<small>(ABLY)</small>\n",
       "</h4>\n",
       "</a><span class=\"ui small basic response label\"><div data-content=\"7일 이내 지원 결과를 알려줄 확률이 90% 이상인 기업입니다.\" data-variation=\"inverted mini\">응답률 우수</div></span><a class=\"reference-count\" data-method=\"post\" data-url=\"/api/companies/29834/reference\">\n",
       "<i class=\"ic-thumbup-outline icon\"></i>\n",
       "<span class=\"count\">14</span>\n",
       "</a></div>\n",
       "<div class=\"description\">이커머스를 혁신해나가는 커머스 플랫폼, 에이블리 입니다. </div>\n",
       "<div class=\"nowrap meta\">      모바일서비스 ∙ 웹서비스 ∙ 소프트웨어개발/서비스 ∙ 모바일플랫폼 ∙ 온라인플랫폼 ∙ 이커머스 ∙ 전자상거래\n",
       "</div><div class=\"applicants\">\n",
       "<div class=\"avatar-list\">\n",
       "<a href=\"/@dhguswns23\">\n",
       "<img alt=\"\" class=\"ui mini circular image\" src=\"https://image.rocketpunch.com/images/user/user.png?s=35x35&amp;t=cover\"/>\n",
       "</a><div class=\"mini masked item\">?</div><div class=\"mini masked item\">?</div><div class=\"mini masked item\">?</div>\n",
       "<div class=\"more item mini\"><span>+249</span></div>\n",
       "</div>\n",
       "<span><a href=\"/companies/paletteco/jobs/applicants\">250명 이상이 로켓펀치를 통해 지원</a></span>\n",
       "</div><div class=\"ui divider\"></div>\n",
       "<div class=\"company-jobs-detail\">\n",
       "<div class=\"job-detail\">\n",
       "<div>\n",
       "<a class=\"nowrap job-title primary link\" href=\"/jobs/64321/%EB%A8%B8%EC%8B%A0%EB%9F%AC%EB%8B%9D-%EC%97%94%EC%A7%80%EB%8B%88%EC%96%B4-%EC%BB%A4%EB%A8%B8%EC%8A%A4%ED%94%8C%EB%9E%AB%ED%8F%BC\" target=\"_blank\">머신러닝 엔지니어 (커머스플랫폼)</a>\n",
       "<span class=\"job-stat-info\">경력</span>\n",
       "<a data-modal=\"login\" style=\"float:right\"><i class=\"ic-bookmark_outline icon\"></i></a>\n",
       "</div>\n",
       "<div class=\"job-dates\">\n",
       "<span>\n",
       "<i class=\"ic-calendar_new icon\"></i>                수시채용\n",
       "</span><span>                03/06 수정\n",
       "</span></div>\n",
       "</div>\n",
       "<div class=\"ui divider\"></div> <div class=\"job-detail\">\n",
       "<div>\n",
       "<a class=\"nowrap job-title primary link\" href=\"/jobs/53396/%EB%B0%B1%EC%97%94%EB%93%9C-%EA%B0%9C%EB%B0%9C%EC%9E%90-%EB%B3%91%EC%97%AD%ED%8A%B9%EB%A1%80%EA%B0%80%EB%8A%A5\" target=\"_blank\">백엔드 개발자 (병역특례가능)</a>\n",
       "<span class=\"job-stat-info\">경력</span>\n",
       "<a data-modal=\"login\" style=\"float:right\"><i class=\"ic-bookmark_outline icon\"></i></a>\n",
       "</div>\n",
       "<div class=\"job-dates\">\n",
       "<span>\n",
       "<i class=\"ic-calendar_new icon\"></i>                수시채용\n",
       "</span><span>                03/06 수정\n",
       "</span></div>\n",
       "</div>\n",
       "</div>\n",
       "</div>\n",
       "</div>\n",
       "<div class=\"ui inverted divider\"></div><div class=\"company item\" data-company_id=\"29246\">\n",
       "<div class=\"logo image\">\n",
       "<a href=\"/companies/uconnec/jobs\" target=\"_blank\">\n",
       "<div class=\"ui logo\">\n",
       "<img alt=\"유커넥 logo\" class=\"ui image\" src=\"https://image.rocketpunch.com/company/29246/uconnec_logo_1582000741.png?s=100x100&amp;t=inside\"/>\n",
       "</div>\n",
       "</a>\n",
       "</div>\n",
       "<div class=\"content\">\n",
       "<div class=\"ui right floated skip header\">\n",
       "<a data-modal=\"signup\">✕</a>\n",
       "</div>\n",
       "<div class=\"company-name\">\n",
       "<a href=\"/companies/uconnec/jobs\" target=\"_blank\">\n",
       "<h4 class=\"header name\"> <strong>유커넥</strong>\n",
       "<small>(Uconnec)</small>\n",
       "</h4>\n",
       "</a><span class=\"ui small basic recruit label\"><div data-content=\"로켓펀치를 통해 채용한 기록이 있는 기업입니다.\" data-variation=\"inverted mini\">채용 우수</div></span><a class=\"reference-count\" data-method=\"post\" data-url=\"/api/companies/29246/reference\">\n",
       "<i class=\"ic-thumbup-outline icon\"></i>\n",
       "<span class=\"count\">22</span>\n",
       "</a></div>\n",
       "<div class=\"description\">유튜브 인플루언서와 광고주 브랜드를 연결하는 마케팅 플랫폼, \"유커넥\" </div>\n",
       "<div class=\"nowrap meta\">      웹서비스 ∙ 마케팅 ∙ 소프트웨어 ∙ 데이터 ∙ 디지털마케팅 ∙ 빅데이터분석 ∙ 광고플랫폼 ∙ MCN ∙ 유튜브 ∙ 디지털마케팅(컨텐츠/SNS) ∙ 신한퓨처스랩5기 ∙ 크리에이터 ∙ 미디어커머스 ∙ 온라인광고 ∙ MCN/비디오커머스 ∙ 인플루언서마케팅 ∙ MCN/모델/마케팅/커머스 ∙ 인플루언서마케팅플랫폼 ∙ 인플루언서커머스 ∙ Youtube ∙ 유튜브마케팅 ∙ 인플루언서플랫폼 ∙ 유튜브크리에이터 ∙ 미디어랩 ∙ 유튜버 ∙ 유튜브커머스\n",
       "</div><div class=\"applicants\">\n",
       "<div class=\"avatar-list\">\n",
       "<a href=\"/@fromleaf\">\n",
       "<img alt=\"\" class=\"ui mini circular image\" src=\"https://image.rocketpunch.com/user/5488/5488_1467194464.jpg?s=35x35&amp;t=cover\"/>\n",
       "</a><a href=\"/@iam_0714\">\n",
       "<img alt=\"\" class=\"ui mini circular image\" src=\"https://image.rocketpunch.com/user/205544/205544_1556426309.jpg?s=35x35&amp;t=cover\"/>\n",
       "</a><a href=\"/@yyoring\">\n",
       "<img alt=\"\" class=\"ui mini circular image\" src=\"https://image.rocketpunch.com/user/232071/232071_1564044710.jpg?s=35x35&amp;t=cover\"/>\n",
       "</a><div class=\"mini masked item\">?</div>\n",
       "<div class=\"more item mini\"><span>+346</span></div>\n",
       "</div>\n",
       "<span><a href=\"/companies/uconnec/jobs/applicants\">350명 이상이 로켓펀치를 통해 지원</a></span>\n",
       "</div><div class=\"ui divider\"></div>\n",
       "<div class=\"company-jobs-detail\">\n",
       "<div class=\"job-detail\">\n",
       "<div>\n",
       "<a class=\"nowrap job-title primary link\" href=\"/jobs/48050/%EC%96%B4%EB%B2%A4%EC%A0%B8%EC%8A%A4-%ED%92%80%EC%8A%A4%ED%83%9D-%EA%B0%9C%EB%B0%9C%EC%9E%90-DjangoReact\" target=\"_blank\">\"어벤져스\" 풀스택 개발자 (Django/React)</a>\n",
       "<span class=\"job-stat-info\">3,600 - 10,000만원 / 최대 2.0% / 경력</span>\n",
       "<a data-modal=\"login\" style=\"float:right\"><i class=\"ic-bookmark_outline icon\"></i></a>\n",
       "</div>\n",
       "<div class=\"job-dates\">\n",
       "<span>\n",
       "<i class=\"ic-calendar_new icon\"></i>                03/31 마감\n",
       "</span><span>                03/06 수정\n",
       "</span></div>\n",
       "</div>\n",
       "<div class=\"ui divider\"></div> <div class=\"job-detail\">\n",
       "<div>\n",
       "<a class=\"nowrap job-title primary link\" href=\"/jobs/68119/%EC%96%B4%EB%B2%A4%EC%A0%B8%EC%8A%A4-%EB%B0%B1%EC%97%94%EB%93%9C-%EA%B0%9C%EB%B0%9C%EC%9E%90\" target=\"_blank\">\"어벤져스\" 백엔드 개발자</a>\n",
       "<span class=\"job-stat-info\">4,000 - 10,000만원 / 최대 3.0% / 경력</span>\n",
       "<a data-modal=\"login\" style=\"float:right\"><i class=\"ic-bookmark_outline icon\"></i></a>\n",
       "</div>\n",
       "<div class=\"job-dates\">\n",
       "<span>\n",
       "<i class=\"ic-calendar_new icon\"></i>                03/31 마감\n",
       "</span><span>                03/06 수정\n",
       "</span></div>\n",
       "</div>\n",
       "</div>\n",
       "</div>\n",
       "</div>\n",
       "<div class=\"ui inverted divider\"></div><div class=\"company item\" data-company_id=\"87128\">\n",
       "<div class=\"logo image\">\n",
       "<a href=\"/companies/astera/jobs\" target=\"_blank\">\n",
       "<div class=\"ui logo\">\n",
       "<img alt=\"아스테라 logo\" class=\"ui image\" src=\"https://image.rocketpunch.com/company/87128/astera_logo_1567742668.png?s=100x100&amp;t=inside\"/>\n",
       "</div>\n",
       "</a>\n",
       "</div>\n",
       "<div class=\"content\">\n",
       "<div class=\"ui right floated skip header\">\n",
       "<a data-modal=\"signup\">✕</a>\n",
       "</div>\n",
       "<div class=\"company-name\">\n",
       "<a href=\"/companies/astera/jobs\" target=\"_blank\">\n",
       "<h4 class=\"header name\"> <strong>아스테라</strong>\n",
       "<small>(ASTERA)</small>\n",
       "</h4>\n",
       "</a><span class=\"ui small basic response label\"><div data-content=\"7일 이내 지원 결과를 알려줄 확률이 90% 이상인 기업입니다.\" data-variation=\"inverted mini\">응답률 우수</div></span><a class=\"reference-count\" data-method=\"post\" data-url=\"/api/companies/87128/reference\">\n",
       "<i class=\"ic-thumbup-outline icon\"></i>\n",
       "<span class=\"count\">10</span>\n",
       "</a></div>\n",
       "<div class=\"description\">사용할 수록 사용자에게 더 나은 가치를 선사하는 음식 테이크아웃 서비스 \"잇플\"을 개발하는 대한민국 최고의 푸드테크 스타트업. </div>\n",
       "<div class=\"nowrap meta\">      O2O ∙ IoT ∙ 빅데이터 ∙ 공유경제 ∙ 푸드테크 ∙ 챗봇 ∙ 모바일결제 ∙ 음식 ∙ 푸드스타트업\n",
       "</div><div class=\"applicants\">\n",
       "<div class=\"avatar-list\">\n",
       "<a href=\"/@daniellim\">\n",
       "<img alt=\"\" class=\"ui mini circular image\" src=\"https://image.rocketpunch.com/user/70759/70759_1545976524.jpg?s=35x35&amp;t=cover\"/>\n",
       "</a><div class=\"mini masked item\">?</div><div class=\"mini masked item\">?</div><div class=\"mini masked item\">?</div>\n",
       "<div class=\"more item mini\"><span>+143</span></div>\n",
       "</div>\n",
       "<span><a href=\"/companies/astera/jobs/applicants\">145명 이상이 로켓펀치를 통해 지원</a></span>\n",
       "</div><div class=\"ui divider\"></div>\n",
       "<div class=\"company-jobs-detail\">\n",
       "<div class=\"job-detail\">\n",
       "<div>\n",
       "<a class=\"nowrap job-title primary link\" href=\"/jobs/69410/%EB%B0%B1%EC%97%94%EB%93%9C-%ED%8C%8C%EC%9D%B4%EC%8D%AC-%EC%84%9C%EB%B2%84-%EA%B0%9C%EB%B0%9C%EC%9E%90\" target=\"_blank\">백엔드 파이썬 서버 개발자</a>\n",
       "<span class=\"job-stat-info\">3,000 - 5,500만원 / 최대 3.0% / 경력</span>\n",
       "<a data-modal=\"login\" style=\"float:right\"><i class=\"ic-bookmark_outline icon\"></i></a>\n",
       "</div>\n",
       "<div class=\"job-dates\">\n",
       "<span>\n",
       "<i class=\"ic-calendar_new icon\"></i>                03/15 마감\n",
       "</span><span>                03/06 수정\n",
       "</span></div>\n",
       "</div>\n",
       "</div>\n",
       "</div>\n",
       "</div>\n",
       "<div class=\"ui inverted divider\"></div><div class=\"company item\" data-company_id=\"5504\">\n",
       "<div class=\"logo image\">\n",
       "<a href=\"/companies/loplat/jobs\" target=\"_blank\">\n",
       "<div class=\"ui logo\">\n",
       "<img alt=\"로플랫 logo\" class=\"ui image\" src=\"https://image.rocketpunch.com/company/5504/loplat_logo_1524725183.png?s=100x100&amp;t=inside\"/>\n",
       "</div>\n",
       "</a>\n",
       "</div>\n",
       "<div class=\"content\">\n",
       "<div class=\"ui right floated skip header\">\n",
       "<a data-modal=\"signup\">✕</a>\n",
       "</div>\n",
       "<div class=\"company-name\">\n",
       "<a href=\"/companies/loplat/jobs\" target=\"_blank\">\n",
       "<h4 class=\"header name\"> <strong>로플랫</strong>\n",
       "<small>(loplat)</small>\n",
       "</h4>\n",
       "</a><a class=\"reference-count\" data-method=\"post\" data-url=\"/api/companies/5504/reference\">\n",
       "<i class=\"ic-thumbup-outline icon\"></i>\n",
       "<span class=\"count\">13</span>\n",
       "</a></div>\n",
       "<div class=\"description\">로플랫은 오프라인 데이터의 핵심인 사용자의 실내위치정보 플랫폼을 만들어 갑니다. </div>\n",
       "<div class=\"nowrap meta\">      모바일서비스 ∙ 웹서비스 ∙ 소프트웨어 ∙ 데이터 ∙ 플랫폼 ∙ AI ∙ 안드로이드 ∙ 빅데이터분석 ∙ 클라우드 ∙ MachineLearning ∙ 위치인식 ∙ OfflinetoOnline\n",
       "</div><div class=\"applicants\">\n",
       "<div class=\"avatar-list\">\n",
       "<a href=\"/@hwaminson\">\n",
       "<img alt=\"\" class=\"ui mini circular image\" src=\"https://image.rocketpunch.com/user/14588/14588_1538378004.jpg?s=35x35&amp;t=cover\"/>\n",
       "</a><a href=\"/@jinjungi\">\n",
       "<img alt=\"\" class=\"ui mini circular image\" src=\"https://image.rocketpunch.com/user/34879/34879_1498014817.png?s=35x35&amp;t=cover\"/>\n",
       "</a><a href=\"/@3080kjs\">\n",
       "<img alt=\"\" class=\"ui mini circular image\" src=\"https://image.rocketpunch.com/user/23612/23612_1533472224.jpg?s=35x35&amp;t=cover\"/>\n",
       "</a><div class=\"mini masked item\">?</div>\n",
       "<div class=\"more item mini\"><span>+146</span></div>\n",
       "</div>\n",
       "<span><a href=\"/companies/loplat/jobs/applicants\">150명 이상이 로켓펀치를 통해 지원</a></span>\n",
       "</div><div class=\"ui divider\"></div>\n",
       "<div class=\"company-jobs-detail\">\n",
       "<div class=\"job-detail\">\n",
       "<div>\n",
       "<a class=\"nowrap job-title primary link\" href=\"/jobs/61620/%EB%A1%9C%ED%94%8C%EB%9E%AB-%EB%B9%85%EB%8D%B0%EC%9D%B4%ED%84%B0-%EC%97%94%EC%A7%80%EB%8B%88%EC%96%B4-%EC%B1%84%EC%9A%A9-%EC%8B%A0%EC%9E%85%EA%B2%BD%EB%A0%A5\" target=\"_blank\">[로플랫] 빅데이터 엔지니어 채용 (신입/경력)</a>\n",
       "<span class=\"job-stat-info\">3,400 - 5,000만원 / 신입, 경력</span>\n",
       "<a data-modal=\"login\" style=\"float:right\"><i class=\"ic-bookmark_outline icon\"></i></a>\n",
       "</div>\n",
       "<div class=\"job-dates\">\n",
       "<span>\n",
       "<i class=\"ic-calendar_new icon\"></i>                03/31 마감\n",
       "</span><span>                03/06 수정\n",
       "</span></div>\n",
       "</div>\n",
       "</div>\n",
       "</div>\n",
       "</div>\n",
       "<div class=\"ui inverted divider\"></div><div class=\"company item\" data-company_id=\"115878\">\n",
       "<div class=\"logo image\">\n",
       "<a href=\"/companies/aiea/jobs\" target=\"_blank\">\n",
       "<div class=\"ui logo\">\n",
       "<img alt=\"한국인공지능기업협회 logo\" class=\"ui image\" src=\"https://image.rocketpunch.com/company/115878/aiea_logo_1582523438.jpg?s=100x100&amp;t=inside\"/>\n",
       "</div>\n",
       "</a>\n",
       "</div>\n",
       "<div class=\"content\">\n",
       "<div class=\"ui right floated skip header\">\n",
       "<a data-modal=\"signup\">✕</a>\n",
       "</div>\n",
       "<div class=\"company-name\">\n",
       "<a href=\"/companies/aiea/jobs\" target=\"_blank\">\n",
       "<h4 class=\"header name\"> <strong>한국인공지능기업협회</strong>\n",
       "<small>(AIEA)</small>\n",
       "</h4>\n",
       "</a><a class=\"reference-count\" data-method=\"post\" data-url=\"/api/companies/115878/reference\">\n",
       "<i class=\"ic-thumbup-outline icon\"></i>\n",
       "<span class=\"count\">1</span>\n",
       "</a></div>\n",
       "<div class=\"description\">한국인공지능기업협회는 LabABC, 포럼FIRST, 교육분과 등 인공기능 및 블록체인 융합을 위한 협회입니다. </div>\n",
       "<div class=\"nowrap meta\">      블록체인 ∙ 인공지능 ∙ 교육/강연\n",
       "</div><div class=\"ui divider\"></div>\n",
       "<div class=\"company-jobs-detail\">\n",
       "<div class=\"job-detail\">\n",
       "<div>\n",
       "<a class=\"nowrap job-title primary link\" href=\"/jobs/70556/%EA%B8%B0%EC%97%85%EC%A3%BC%EB%8F%84%ED%98%95-%EB%B8%94%EB%A1%9D%EC%B2%B4%EC%9D%B8-%ED%94%84%EB%A1%9C%EC%A0%9D%ED%8A%B8-%EA%B0%9C%EB%B0%9C%EC%9E%90-%EC%96%91%EC%84%B1%EA%B3%BC%EC%A0%95%EB%8C%80%EC%A0%84\" target=\"_blank\">기업주도형 블록체인 프로젝트 개발자 양성과정(대전)</a>\n",
       "<span class=\"job-stat-info\">인턴</span>\n",
       "<a data-modal=\"login\" style=\"float:right\"><i class=\"ic-bookmark_outline icon\"></i></a>\n",
       "</div>\n",
       "<div class=\"job-dates\">\n",
       "<span>\n",
       "<i class=\"ic-calendar_new icon\"></i>                04/24 마감\n",
       "</span><span>\n",
       "<i class=\"feed icon\"></i>\n",
       "                원격근무\n",
       "              </span><span>                03/06 등록\n",
       "</span></div>\n",
       "</div>\n",
       "</div>\n",
       "</div>\n",
       "</div>\n",
       "<div class=\"ui inverted divider\"></div><div class=\"company item\" data-company_id=\"5803\">\n",
       "<div class=\"logo image\">\n",
       "<a href=\"/companies/pandoratv/jobs\" target=\"_blank\">\n",
       "<div class=\"ui logo\">\n",
       "<img alt=\"판도라TV logo\" class=\"ui image\" src=\"https://image.rocketpunch.com/company/5803/pandoratv_logo_1450328141.png?s=100x100&amp;t=inside\"/>\n",
       "</div>\n",
       "</a>\n",
       "</div>\n",
       "<div class=\"content\">\n",
       "<div class=\"ui right floated skip header\">\n",
       "<a data-modal=\"signup\">✕</a>\n",
       "</div>\n",
       "<div class=\"company-name\">\n",
       "<a href=\"/companies/pandoratv/jobs\" target=\"_blank\">\n",
       "<h4 class=\"header name\"> <strong>판도라TV</strong>\n",
       "<small>(PandoraTV)</small>\n",
       "</h4>\n",
       "</a><a class=\"reference-count\" data-method=\"post\" data-url=\"/api/companies/5803/reference\">\n",
       "<i class=\"ic-thumbup-outline icon\"></i>\n",
       "<span class=\"count\"></span>\n",
       "</a></div>\n",
       "<div class=\"description\">암호화폐 시장의 기준을 함께 만들어나갈 분을 찾습니다 </div>\n",
       "<div class=\"nowrap meta\">      IT\n",
       "</div><div class=\"ui divider\"></div>\n",
       "<div class=\"company-jobs-detail\">\n",
       "<div class=\"job-detail\">\n",
       "<div>\n",
       "<a class=\"nowrap job-title primary link\" href=\"/jobs/70544/Cobak-Back-end-%EA%B0%9C%EB%B0%9C%EC%9E%90\" target=\"_blank\">Cobak Back-end 개발자</a>\n",
       "<span class=\"job-stat-info\">경력</span>\n",
       "<a data-modal=\"login\" style=\"float:right\"><i class=\"ic-bookmark_outline icon\"></i></a>\n",
       "</div>\n",
       "<div class=\"job-dates\">\n",
       "<span>\n",
       "<i class=\"ic-calendar_new icon\"></i>                04/05 마감\n",
       "</span><span>                03/06 등록\n",
       "</span></div>\n",
       "</div>\n",
       "</div>\n",
       "</div>\n",
       "</div>\n",
       "<div class=\"ui inverted divider\"></div><div class=\"company item\" data-company_id=\"103847\">\n",
       "<div class=\"logo image\">\n",
       "<a href=\"/companies/finports-1/jobs\" target=\"_blank\">\n",
       "<div class=\"ui logo\">\n",
       "<img alt=\"핀포츠 logo\" class=\"ui image\" src=\"https://image.rocketpunch.com/company/103847/finports-1_logo_1568083024.jpg?s=100x100&amp;t=inside\"/>\n",
       "</div>\n",
       "</a>\n",
       "</div>\n",
       "<div class=\"content\">\n",
       "<div class=\"ui right floated skip header\">\n",
       "<a data-modal=\"signup\">✕</a>\n",
       "</div>\n",
       "<div class=\"company-name\">\n",
       "<a href=\"/companies/finports-1/jobs\" target=\"_blank\">\n",
       "<h4 class=\"header name\"> <strong>핀포츠</strong>\n",
       "<small>(Finports)</small>\n",
       "</h4>\n",
       "</a><a class=\"reference-count\" data-method=\"post\" data-url=\"/api/companies/103847/reference\">\n",
       "<i class=\"ic-thumbup-outline icon\"></i>\n",
       "<span class=\"count\"></span>\n",
       "</a></div>\n",
       "<div class=\"description\">대한민국 최대 쇼핑 결제 시스템 </div>\n",
       "<div class=\"nowrap meta\">      전자결제 ∙ 모바일결제서비스 ∙ 온라인결제\n",
       "</div><div class=\"applicants\">\n",
       "<div class=\"avatar-list\">\n",
       "<div class=\"mini masked item\">?</div><div class=\"mini masked item\">?</div><div class=\"mini masked item\">?</div><div class=\"mini masked item\">?</div>\n",
       "<div class=\"more item mini\"><span>+19</span></div>\n",
       "</div>\n",
       "<span><a href=\"/companies/finports-1/jobs/applicants\">20명 이상이 로켓펀치를 통해 지원</a></span>\n",
       "</div><div class=\"ui divider\"></div>\n",
       "<div class=\"company-jobs-detail\">\n",
       "<div class=\"job-detail\">\n",
       "<div>\n",
       "<a class=\"nowrap job-title primary link\" href=\"/jobs/70543/%EA%B0%9C%EB%B0%9C%ED%8C%80%EC%9E%A5-%EB%B0%B1%EC%97%94%EB%93%9C-%EC%84%9C%EB%B2%84-%EA%B0%9C%EB%B0%9C%EC%9E%90-%EC%B1%84%EC%9A%A9\" target=\"_blank\">[개발팀장] 백엔드 서버 개발자 채용</a>\n",
       "<span class=\"job-stat-info\">5,000 - 8,000만원 / 경력</span>\n",
       "<a data-modal=\"login\" style=\"float:right\"><i class=\"ic-bookmark_outline icon\"></i></a>\n",
       "</div>\n",
       "<div class=\"job-dates\">\n",
       "<span>\n",
       "<i class=\"ic-calendar_new icon\"></i>                수시채용\n",
       "</span><span>                03/06 등록\n",
       "</span></div>\n",
       "</div>\n",
       "</div>\n",
       "</div>\n",
       "</div>\n",
       "<div class=\"ui inverted divider\"></div><div class=\"company item\" data-company_id=\"80711\">\n",
       "<div class=\"logo image\">\n",
       "<a href=\"/companies/canclemarket/jobs\" target=\"_blank\">\n",
       "<div class=\"ui logo\">\n",
       "<img alt=\"캔슬마켓 logo\" class=\"ui image\" src=\"https://image.rocketpunch.com/company/80711/canclemarket_logo_1558090160.png?s=100x100&amp;t=inside\"/>\n",
       "</div>\n",
       "</a>\n",
       "</div>\n",
       "<div class=\"content\">\n",
       "<div class=\"ui right floated skip header\">\n",
       "<a data-modal=\"signup\">✕</a>\n",
       "</div>\n",
       "<div class=\"company-name\">\n",
       "<a href=\"/companies/canclemarket/jobs\" target=\"_blank\">\n",
       "<h4 class=\"header name\"> <strong>캔슬마켓</strong>\n",
       "<small>(Cancel Market)</small>\n",
       "</h4>\n",
       "</a><span class=\"ui small basic response recruit label\"><div data-content=\"7일 이내 지원 결과를 알려줄 확률이 90% 이상인 기업입니다.\" data-variation=\"inverted mini\">응답률 우수</div><div data-content=\"로켓펀치를 통해 채용한 기록이 있는 기업입니다.\" data-variation=\"inverted mini\">채용 우수</div></span><a class=\"reference-count\" data-method=\"post\" data-url=\"/api/companies/80711/reference\">\n",
       "<i class=\"ic-thumbup-outline icon\"></i>\n",
       "<span class=\"count\">4</span>\n",
       "</a></div>\n",
       "<div class=\"description\">못가는 호텔 펜션 리조트 빨리 팔고 싸게 사자 여행갈땐 가장먼저, 캔슬마켓 </div>\n",
       "<div class=\"nowrap meta\">      모바일서비스 ∙ 웹서비스 ∙ 스타트업 ∙ 전자상거래 ∙ 안드로이드 ∙ 앱/웹서비스 ∙ php ∙ 앱/웹개발 ∙ p2p플랫폼 ∙ Front-end\n",
       "</div><div class=\"applicants\">\n",
       "<div class=\"avatar-list\">\n",
       "<div class=\"mini masked item\">?</div><div class=\"mini masked item\">?</div><div class=\"mini masked item\">?</div><div class=\"mini masked item\">?</div>\n",
       "<div class=\"more item mini\"><span>+12</span></div>\n",
       "</div>\n",
       "<span><a href=\"/companies/canclemarket/jobs/applicants\">15명 이상이 로켓펀치를 통해 지원</a></span>\n",
       "</div><div class=\"ui divider\"></div>\n",
       "<div class=\"company-jobs-detail\">\n",
       "<div class=\"job-detail\">\n",
       "<div>\n",
       "<a class=\"nowrap job-title primary link\" href=\"/jobs/70538/PHP-%EB%B0%B1%EC%97%94%EB%93%9C-%EA%B0%9C%EB%B0%9C%EC%9E%90\" target=\"_blank\">PHP 백엔드 개발자</a>\n",
       "<span class=\"job-stat-info\">최대 5,000만원 / 최대 3.0% / 신입, 경력</span>\n",
       "<a data-modal=\"login\" style=\"float:right\"><i class=\"ic-bookmark_outline icon\"></i></a>\n",
       "</div>\n",
       "<div class=\"job-dates\">\n",
       "<span>\n",
       "<i class=\"ic-calendar_new icon\"></i>                04/10 마감\n",
       "</span><span>                03/06 등록\n",
       "</span></div>\n",
       "</div>\n",
       "</div>\n",
       "</div>\n",
       "</div>\n",
       "<div class=\"ui inverted divider\"></div><div class=\"company item\" data-company_id=\"1654\">\n",
       "<div class=\"logo image\">\n",
       "<a href=\"/companies/mtov/jobs\" target=\"_blank\">\n",
       "<div class=\"ui logo\">\n",
       "<img alt=\"엠투브 logo\" class=\"ui image\" src=\"https://image.rocketpunch.com/company/1654/10/mtov_logo.png?s=100x100&amp;t=inside\"/>\n",
       "</div>\n",
       "</a>\n",
       "</div>\n",
       "<div class=\"content\">\n",
       "<div class=\"ui right floated skip header\">\n",
       "<a data-modal=\"signup\">✕</a>\n",
       "</div>\n",
       "<div class=\"company-name\">\n",
       "<a href=\"/companies/mtov/jobs\" target=\"_blank\">\n",
       "<h4 class=\"header name\"> <strong>엠투브</strong>\n",
       "<small>(MtoV)</small>\n",
       "</h4>\n",
       "</a><span class=\"ui small basic recruit label\"><div data-content=\"로켓펀치를 통해 채용한 기록이 있는 기업입니다.\" data-variation=\"inverted mini\">채용 우수</div></span><a class=\"reference-count\" data-method=\"post\" data-url=\"/api/companies/1654/reference\">\n",
       "<i class=\"ic-thumbup-outline icon\"></i>\n",
       "<span class=\"count\">4</span>\n",
       "</a></div>\n",
       "<div class=\"description\">강력한 기술과 재미있는 생각으로 드라이빙 라이프를 혁신하는 기업 </div>\n",
       "<div class=\"nowrap meta\">      모바일서비스 ∙ 웹서비스 ∙ 마케팅 ∙ 소프트웨어 ∙ 모바일게임 ∙ 데이터 ∙ 게임 ∙ 하드웨어 ∙ 앱 ∙ 자동차 ∙ 안드로이드 ∙ 개발 ∙ 소셜 ∙ SW ∙ 네트워크 ∙ HW ∙ 커넥티드카 ∙ 스마트카 ∙ 애플\n",
       "</div><div class=\"applicants\">\n",
       "<div class=\"avatar-list\">\n",
       "<div class=\"mini masked item\">?</div><div class=\"mini masked item\">?</div><div class=\"mini masked item\">?</div><div class=\"mini masked item\">?</div>\n",
       "<div class=\"more item mini\"><span>+297</span></div>\n",
       "</div>\n",
       "<span><a href=\"/companies/mtov/jobs/applicants\">300명 이상이 로켓펀치를 통해 지원</a></span>\n",
       "</div><div class=\"ui divider\"></div>\n",
       "<div class=\"company-jobs-detail\">\n",
       "<div class=\"job-detail\">\n",
       "<div>\n",
       "<a class=\"nowrap job-title primary link\" href=\"/jobs/57749/%EC%98%81%EC%83%81%EC%B2%98%EB%A6%AC%EB%B9%85%EB%8D%B0%EC%9D%B4%ED%84%B0%EC%95%88%EB%93%9C%EB%A1%9C%EC%9D%B4%EB%93%9CIOS%EC%84%9C%EB%B2%84-%EB%B6%84%EC%95%BC-%EA%B0%9C%EB%B0%9C%EC%9E%90-%EB%AA%A8%EC%A7%91\" target=\"_blank\">영상처리/빅데이터/안드로이드/IOS/서버 분야 개발자 모집</a>\n",
       "<span class=\"job-stat-info\">2,400 - 10,000만원 / 인턴, 신입, 경력</span>\n",
       "<a data-modal=\"login\" style=\"float:right\"><i class=\"ic-bookmark_outline icon\"></i></a>\n",
       "</div>\n",
       "<div class=\"job-dates\">\n",
       "<span>\n",
       "<i class=\"ic-calendar_new icon\"></i>                03/31 마감\n",
       "</span><span>                03/06 수정\n",
       "</span></div>\n",
       "</div>\n",
       "</div>\n",
       "</div>\n",
       "</div>\n",
       "<div class=\"ui inverted divider\"></div><div class=\"company item\" data-company_id=\"32852\">\n",
       "<div class=\"logo image\">\n",
       "<a href=\"/companies/codingrobotlab/jobs\" target=\"_blank\">\n",
       "<div class=\"ui logo\">\n",
       "<img alt=\"코딩로봇연구소 logo\" class=\"ui image\" src=\"https://image.rocketpunch.com/company/32852/codingrobotlab_logo_1563261478.png?s=100x100&amp;t=inside\"/>\n",
       "</div>\n",
       "</a>\n",
       "</div>\n",
       "<div class=\"content\">\n",
       "<div class=\"ui right floated skip header\">\n",
       "<a data-modal=\"signup\">✕</a>\n",
       "</div>\n",
       "<div class=\"company-name\">\n",
       "<a href=\"/companies/codingrobotlab/jobs\" target=\"_blank\">\n",
       "<h4 class=\"header name\"> <strong>코딩로봇연구소</strong>\n",
       "<small>(Coding Robot Lab)</small>\n",
       "</h4>\n",
       "</a><span class=\"ui small basic response label\"><div data-content=\"7일 이내 지원 결과를 알려줄 확률이 90% 이상인 기업입니다.\" data-variation=\"inverted mini\">응답률 우수</div></span><a class=\"reference-count\" data-method=\"post\" data-url=\"/api/companies/32852/reference\">\n",
       "<i class=\"ic-thumbup-outline icon\"></i>\n",
       "<span class=\"count\">4</span>\n",
       "</a></div>\n",
       "<div class=\"description\">AI-Powered Coding Education Services for Tech Careers를 제공하는 에듀테크 플랫폼 스타트업입니다. </div>\n",
       "<div class=\"nowrap meta\">      IT서비스 ∙ 플랫폼 ∙ 교육 ∙ 모바일플랫폼 ∙ 교육콘텐츠 ∙ 인공지능 ∙ 코딩교육 ∙ 응용소프트웨어 ∙ 데이터마이닝 ∙ 온라인코딩테스트\n",
       "</div><div class=\"applicants\">\n",
       "<div class=\"avatar-list\">\n",
       "<a href=\"/@opnay\">\n",
       "<img alt=\"\" class=\"ui mini circular image\" src=\"https://image.rocketpunch.com/user/148178/148178_1559270499.jpg?s=35x35&amp;t=cover\"/>\n",
       "</a><div class=\"mini masked item\">?</div><div class=\"mini masked item\">?</div><div class=\"mini masked item\">?</div>\n",
       "<div class=\"more item mini\"><span>+39</span></div>\n",
       "</div>\n",
       "<span><a href=\"/companies/codingrobotlab/jobs/applicants\">40명 이상이 로켓펀치를 통해 지원</a></span>\n",
       "</div><div class=\"ui divider\"></div>\n",
       "<div class=\"company-jobs-detail\">\n",
       "<div class=\"job-detail\">\n",
       "<div>\n",
       "<a class=\"nowrap job-title primary link\" href=\"/jobs/66749/%ED%8C%8C%ED%8A%B8%ED%83%80%EC%9E%84%EC%9C%BC%EB%A1%9C-%EC%8B%9C%EA%B0%84%EB%82%A0-%EB%95%8C-%EC%BD%94%EB%94%A9-%EA%B3%BC%EC%99%B8%ED%95%98%EC%8B%A4-%EA%B0%9C%EB%B0%9C%EC%9E%90%EB%93%A4%EC%9D%84-%EC%82%AC%EC%A0%84-%EB%AA%A8%EC%A7%91-%EC%A4%91%EC%9E%85%EB%8B%88%EB%8B%A4\" target=\"_blank\">파트타임으로 시간날 때 코딩 과외하실 개발자들을 사전 모집 중입니다.</a>\n",
       "<span class=\"job-stat-info\">인턴, 신입, 경력</span>\n",
       "<a data-modal=\"login\" style=\"float:right\"><i class=\"ic-bookmark_outline icon\"></i></a>\n",
       "</div>\n",
       "<div class=\"job-dates\">\n",
       "<span>\n",
       "<i class=\"ic-calendar_new icon\"></i>                수시채용\n",
       "</span><span>\n",
       "<i class=\"feed icon\"></i>\n",
       "                원격근무\n",
       "              </span><span>                03/06 수정\n",
       "</span></div>\n",
       "</div>\n",
       "</div>\n",
       "</div>\n",
       "</div>\n",
       "<div class=\"ui inverted divider\"></div><div class=\"company item\" data-company_id=\"20367\">\n",
       "<div class=\"logo image\">\n",
       "<a href=\"/companies/laftel-inc/jobs\" target=\"_blank\">\n",
       "<div class=\"ui logo\">\n",
       "<img alt=\"리디(주) - 라프텔 사업본부 logo\" class=\"ui image\" src=\"https://image.rocketpunch.com/company/20367/laftel-inc_logo_1542782651.png?s=100x100&amp;t=inside\"/>\n",
       "</div>\n",
       "</a>\n",
       "</div>\n",
       "<div class=\"content\">\n",
       "<div class=\"ui right floated skip header\">\n",
       "<a data-modal=\"signup\">✕</a>\n",
       "</div>\n",
       "<div class=\"company-name\">\n",
       "<a href=\"/companies/laftel-inc/jobs\" target=\"_blank\">\n",
       "<h4 class=\"header name\"> <strong>리디(주) - 라프텔 사업본부</strong>\n",
       "<small>(Ridi Corporation - Laftel dept.)</small>\n",
       "</h4>\n",
       "</a><span class=\"ui small basic response recruit label\"><div data-content=\"7일 이내 지원 결과를 알려줄 확률이 90% 이상인 기업입니다.\" data-variation=\"inverted mini\">응답률 우수</div><div data-content=\"로켓펀치를 통해 채용한 기록이 있는 기업입니다.\" data-variation=\"inverted mini\">채용 우수</div></span><a class=\"reference-count\" data-method=\"post\" data-url=\"/api/companies/20367/reference\">\n",
       "<i class=\"ic-thumbup-outline icon\"></i>\n",
       "<span class=\"count\">25</span>\n",
       "</a></div>\n",
       "<div class=\"description\">애니메이션을 합법적으로 무료로 감상할 수 있는 서비스 </div>\n",
       "<div class=\"nowrap meta\">      모바일서비스 ∙ 웹서비스 ∙ 마케팅 ∙ 데이터 ∙ 빅데이터 ∙ BigData ∙ 애니메이션 ∙ 컨텐츠.스트리밍.방송 ∙ 동영상스트리밍 ∙ 개인화추천 ∙ 스트리밍 ∙ 만화추천 ∙ 애니추천 ∙ AnimationRecommenda ∙ PersonalDrawingsRe\n",
       "</div><div class=\"applicants\">\n",
       "<div class=\"avatar-list\">\n",
       "<a href=\"/@hanvitkang\">\n",
       "<img alt=\"\" class=\"ui mini circular image\" src=\"https://image.rocketpunch.com/user/31009/31009_4813985b43da.jpg?s=35x35&amp;t=cover\"/>\n",
       "</a><a href=\"/@wayhome25\">\n",
       "<img alt=\"\" class=\"ui mini circular image\" src=\"https://image.rocketpunch.com/user/49622/49622_1494122317.jpg?s=35x35&amp;t=cover\"/>\n",
       "</a><a href=\"/@merong0704\">\n",
       "<img alt=\"\" class=\"ui mini circular image\" src=\"https://image.rocketpunch.com/images/user/user.png?s=35x35&amp;t=cover\"/>\n",
       "</a><a href=\"/@withsangseung\">\n",
       "<img alt=\"\" class=\"ui mini circular image\" src=\"https://image.rocketpunch.com/user/184921/184921_1542945163.jpg?s=35x35&amp;t=cover\"/>\n",
       "</a>\n",
       "<div class=\"more item mini\"><span>+329</span></div>\n",
       "</div>\n",
       "<span><a href=\"/companies/laftel-inc/jobs/applicants\">330명 이상이 로켓펀치를 통해 지원</a></span>\n",
       "</div><div class=\"ui divider\"></div>\n",
       "<div class=\"company-jobs-detail\">\n",
       "<div class=\"job-detail\">\n",
       "<div>\n",
       "<a class=\"nowrap job-title primary link\" href=\"/jobs/63669/%EC%84%9C%EB%B2%84%EB%B0%B1%EC%97%94%EB%93%9C-%EA%B0%9C%EB%B0%9C%EC%9E%90\" target=\"_blank\">서버(백엔드) 개발자</a>\n",
       "<span class=\"job-stat-info\">4,000 - 10,000만원 / 경력</span>\n",
       "<a data-modal=\"login\" style=\"float:right\"><i class=\"ic-bookmark_outline icon\"></i></a>\n",
       "</div>\n",
       "<div class=\"job-dates\">\n",
       "<span>\n",
       "<i class=\"ic-calendar_new icon\"></i>                12/31 마감\n",
       "</span><span>                03/06 수정\n",
       "</span></div>\n",
       "</div>\n",
       "</div>\n",
       "</div>\n",
       "</div>\n",
       "<div class=\"ui inverted divider\"></div><div class=\"company item\" data-company_id=\"25\">\n",
       "<div class=\"logo image\">\n",
       "<a href=\"/companies/bunjang/jobs\" target=\"_blank\">\n",
       "<div class=\"ui logo\">\n",
       "<img alt=\"번개장터 주식회사 logo\" class=\"ui image\" src=\"https://image.rocketpunch.com/company/25/quicket_logo_1532393297.png?s=100x100&amp;t=inside\"/>\n",
       "</div>\n",
       "</a>\n",
       "</div>\n",
       "<div class=\"content\">\n",
       "<div class=\"ui right floated skip header\">\n",
       "<a data-modal=\"signup\">✕</a>\n",
       "</div>\n",
       "<div class=\"company-name\">\n",
       "<a href=\"/companies/bunjang/jobs\" target=\"_blank\">\n",
       "<h4 class=\"header name\"> <strong>번개장터 주식회사</strong>\n",
       "<small>(Bungaejangter Inc.)</small>\n",
       "</h4>\n",
       "</a><span class=\"ui small basic response recruit label\"><div data-content=\"7일 이내 지원 결과를 알려줄 확률이 90% 이상인 기업입니다.\" data-variation=\"inverted mini\">응답률 우수</div><div data-content=\"로켓펀치를 통해 채용한 기록이 있는 기업입니다.\" data-variation=\"inverted mini\">채용 우수</div></span><a class=\"reference-count\" data-method=\"post\" data-url=\"/api/companies/25/reference\">\n",
       "<i class=\"ic-thumbup-outline icon\"></i>\n",
       "<span class=\"count\">17</span>\n",
       "</a></div>\n",
       "<div class=\"description\">1,400만 다운로드, 월 450만명 이상이 이용하는 모바일 중고거래 No.1 플랫폼 번개장터와 중고거래 컨시어지 No.1 셀잇을 서비스하고 있습니다. </div>\n",
       "<div class=\"nowrap meta\">      모바일서비스 ∙ 웹서비스 ∙ 소프트웨어 ∙ 모바일앱 ∙ 커머스 ∙ 공유경제 ∙ 오픈마켓 ∙ eCommerce ∙ 마켓플레이스 ∙ 중고거래 ∙ 지역정보\n",
       "</div><div class=\"applicants\">\n",
       "<div class=\"avatar-list\">\n",
       "<a href=\"/@ddkddk35\">\n",
       "<img alt=\"\" class=\"ui mini circular image\" src=\"https://image.rocketpunch.com/user/21701/21701_9f40327382ca.jpg?s=35x35&amp;t=cover\"/>\n",
       "</a><a href=\"/@eddy.sangwon\">\n",
       "<img alt=\"\" class=\"ui mini circular image\" src=\"https://image.rocketpunch.com/user/11687/11687_1499049641.jpg?s=35x35&amp;t=cover\"/>\n",
       "</a><a href=\"/@e1ffe08dab554819\">\n",
       "<img alt=\"\" class=\"ui mini circular image\" src=\"https://image.rocketpunch.com/user/145898/145898_1537542409.jpg?s=35x35&amp;t=cover\"/>\n",
       "</a><a href=\"/@bagdongug\">\n",
       "<img alt=\"\" class=\"ui mini circular image\" src=\"https://image.rocketpunch.com/user/27662/27662_42216f74a3ac.jpg?s=35x35&amp;t=cover\"/>\n",
       "</a>\n",
       "<div class=\"more item mini\"><span>+500</span></div>\n",
       "</div>\n",
       "<span><a href=\"/companies/bunjang/jobs/applicants\">500명 이상이 로켓펀치를 통해 지원</a></span>\n",
       "</div><div class=\"ui divider\"></div>\n",
       "<div class=\"company-jobs-detail\">\n",
       "<div class=\"job-detail\">\n",
       "<div>\n",
       "<a class=\"nowrap job-title primary link\" href=\"/jobs/65114/%EB%B0%B1%EC%97%94%EB%93%9CBack-end-%EA%B0%9C%EB%B0%9C%EC%9E%90\" target=\"_blank\">백엔드(Back-end) 개발자</a>\n",
       "<span class=\"job-stat-info\">3,000 - 10,000만원 / 경력</span>\n",
       "<a data-modal=\"login\" style=\"float:right\"><i class=\"ic-bookmark_outline icon\"></i></a>\n",
       "</div>\n",
       "<div class=\"job-dates\">\n",
       "<span>\n",
       "<i class=\"ic-calendar_new icon\"></i>                수시채용\n",
       "</span><span>                03/06 수정\n",
       "</span></div>\n",
       "</div>\n",
       "<div class=\"ui divider\"></div> <div class=\"job-detail\">\n",
       "<div>\n",
       "<a class=\"nowrap job-title primary link\" href=\"/jobs/62912/Devops-Enginner\" target=\"_blank\">Devops Enginner</a>\n",
       "<span class=\"job-stat-info\">4,000 - 9,000만원 / 경력</span>\n",
       "<a data-modal=\"login\" style=\"float:right\"><i class=\"ic-bookmark_outline icon\"></i></a>\n",
       "</div>\n",
       "<div class=\"job-dates\">\n",
       "<span>\n",
       "<i class=\"ic-calendar_new icon\"></i>                수시채용\n",
       "</span><span>                02/14 수정\n",
       "</span></div>\n",
       "</div>\n",
       "</div>\n",
       "</div>\n",
       "</div>\n",
       "<div class=\"ui inverted divider\"></div><div class=\"company item\" data-company_id=\"85641\">\n",
       "<div class=\"logo image\">\n",
       "<a href=\"/companies/myro/jobs\" target=\"_blank\">\n",
       "<div class=\"ui logo\">\n",
       "<img alt=\"미로 logo\" class=\"ui image\" src=\"https://image.rocketpunch.com/company/85641/myro_logo_1582046164.png?s=100x100&amp;t=inside\"/>\n",
       "</div>\n",
       "</a>\n",
       "</div>\n",
       "<div class=\"content\">\n",
       "<div class=\"ui right floated skip header\">\n",
       "<a data-modal=\"signup\">✕</a>\n",
       "</div>\n",
       "<div class=\"company-name\">\n",
       "<a href=\"/companies/myro/jobs\" target=\"_blank\">\n",
       "<h4 class=\"header name\"> <strong>미로</strong>\n",
       "<small>(MYRO)</small>\n",
       "</h4>\n",
       "</a><a class=\"reference-count\" data-method=\"post\" data-url=\"/api/companies/85641/reference\">\n",
       "<i class=\"ic-thumbup-outline icon\"></i>\n",
       "<span class=\"count\">7</span>\n",
       "</a></div>\n",
       "<div class=\"description\">국내최초 데일리 마감할인 플랫폼 라스트오더를 운영하고 있습니다 </div>\n",
       "<div class=\"nowrap meta\">      IT/서비스\n",
       "</div><div class=\"applicants\">\n",
       "<div class=\"avatar-list\">\n",
       "<div class=\"mini masked item\">?</div><div class=\"mini masked item\">?</div><div class=\"mini masked item\">?</div><div class=\"mini masked item\">?</div>\n",
       "<div class=\"more item mini\"><span>+86</span></div>\n",
       "</div>\n",
       "<span><a href=\"/companies/myro/jobs/applicants\">90명 이상이 로켓펀치를 통해 지원</a></span>\n",
       "</div><div class=\"ui divider\"></div>\n",
       "<div class=\"company-jobs-detail\">\n",
       "<div class=\"job-detail\">\n",
       "<div>\n",
       "<a class=\"nowrap job-title primary link\" href=\"/jobs/65433/%EB%9D%BC%EC%8A%A4%ED%8A%B8%EC%98%A4%EB%8D%94-Restful-API-%EB%8B%B4%EB%8B%B9-%EA%B0%9C%EB%B0%9C%EC%9E%90\" target=\"_blank\">[라스트오더] Restful API 담당 개발자</a>\n",
       "<span class=\"job-stat-info\">4,000 - 7,000만원 / 경력</span>\n",
       "<a data-modal=\"login\" style=\"float:right\"><i class=\"ic-bookmark_outline icon\"></i></a>\n",
       "</div>\n",
       "<div class=\"job-dates\">\n",
       "<span>\n",
       "<i class=\"ic-calendar_new icon\"></i>                04/10 마감\n",
       "</span><span>                03/02 수정\n",
       "</span></div>\n",
       "</div>\n",
       "<div class=\"ui divider\"></div> <div class=\"job-detail\">\n",
       "<div>\n",
       "<a class=\"nowrap job-title primary link\" href=\"/jobs/67569/%EB%9D%BC%EC%8A%A4%ED%8A%B8%EC%98%A4%EB%8D%94-%EB%B0%B1%EC%97%94%EB%93%9C-%EC%9B%B9%ED%94%84%EB%A1%9C%EA%B7%B8%EB%9E%98%EB%A8%B8\" target=\"_blank\">[라스트오더] 백엔드 웹프로그래머</a>\n",
       "<span class=\"job-stat-info\">3,000 - 7,000만원 / 경력</span>\n",
       "<a data-modal=\"login\" style=\"float:right\"><i class=\"ic-bookmark_outline icon\"></i></a>\n",
       "</div>\n",
       "<div class=\"job-dates\">\n",
       "<span>\n",
       "<i class=\"ic-calendar_new icon\"></i>                03/31 마감\n",
       "</span><span>                03/06 수정\n",
       "</span></div>\n",
       "</div>\n",
       "</div>\n",
       "</div>\n",
       "</div>\n",
       "<div class=\"ui inverted divider\"></div><div class=\"company item\" data-company_id=\"6544\">\n",
       "<div class=\"logo image\">\n",
       "<a href=\"/companies/lendit/jobs\" target=\"_blank\">\n",
       "<div class=\"ui logo\">\n",
       "<img alt=\"렌딧 logo\" class=\"ui image\" src=\"https://image.rocketpunch.com/company/6544/lendit_logo_1479286890.jpg?s=100x100&amp;t=inside\"/>\n",
       "</div>\n",
       "</a>\n",
       "</div>\n",
       "<div class=\"content\">\n",
       "<div class=\"ui right floated skip header\">\n",
       "<a data-modal=\"signup\">✕</a>\n",
       "</div>\n",
       "<div class=\"company-name\">\n",
       "<a href=\"/companies/lendit/jobs\" target=\"_blank\">\n",
       "<h4 class=\"header name\"> <strong>렌딧</strong>\n",
       "<small>(LENDIT)</small>\n",
       "</h4>\n",
       "</a><a class=\"reference-count\" data-method=\"post\" data-url=\"/api/companies/6544/reference\">\n",
       "<i class=\"ic-thumbup-outline icon\"></i>\n",
       "<span class=\"count\"></span>\n",
       "</a></div>\n",
       "<div class=\"description\">P2P금융 전문기업 </div>\n",
       "<div class=\"nowrap meta\">      모바일서비스 ∙ 웹서비스 ∙ 마케팅 ∙ 소프트웨어 ∙ 핀테크 ∙ 투자 ∙ p2p금융 ∙ 대출 ∙ 포트폴리오\n",
       "</div><div class=\"applicants\">\n",
       "<div class=\"avatar-list\">\n",
       "<div class=\"mini masked item\">?</div><div class=\"mini masked item\">?</div><div class=\"mini masked item\">?</div><div class=\"mini masked item\">?</div>\n",
       "<div class=\"more item mini\"><span>+39</span></div>\n",
       "</div>\n",
       "<span><a href=\"/companies/lendit/jobs/applicants\">40명 이상이 로켓펀치를 통해 지원</a></span>\n",
       "</div><div class=\"ui divider\"></div>\n",
       "<div class=\"company-jobs-detail\">\n",
       "<div class=\"job-detail\">\n",
       "<div>\n",
       "<a class=\"nowrap job-title primary link\" href=\"/jobs/69041/Backend-Engineer-%EC%A3%BC%EB%8B%88%EC%96%B4\" target=\"_blank\">Backend Engineer 주니어</a>\n",
       "<span class=\"job-stat-info\">신입, 경력</span>\n",
       "<a data-modal=\"login\" style=\"float:right\"><i class=\"ic-bookmark_outline icon\"></i></a>\n",
       "</div>\n",
       "<div class=\"job-dates\">\n",
       "<span>\n",
       "<i class=\"ic-calendar_new icon\"></i>                03/31 마감\n",
       "</span><span>                03/06 수정\n",
       "</span></div>\n",
       "</div>\n",
       "</div>\n",
       "</div>\n",
       "</div>\n",
       "<div class=\"ui inverted divider\"></div></div>\n",
       "<div class=\"ui blank right floated segment\">\n",
       "<div class=\"ui pagination menu\">\n",
       "<a class=\"disabled item\">\n",
       "<i class=\"angle double left icon\"></i>\n",
       "</a>\n",
       "<div class=\"tablet computer large screen widescreen only\">\n",
       "<a class=\"active item\" data-query-add=\"page=1\" href=\"?page=1&amp;q=&amp;specialty=Python&amp;tag=%EB%8D%B0%EC%9D%B4%ED%84%B0%3E\">1</a>\n",
       "<a class=\"item\" data-query-add=\"page=2\" href=\"?page=2&amp;q=&amp;specialty=Python&amp;tag=%EB%8D%B0%EC%9D%B4%ED%84%B0%3E\">2</a>\n",
       "<a class=\"item\" data-query-add=\"page=3\" href=\"?page=3&amp;q=&amp;specialty=Python&amp;tag=%EB%8D%B0%EC%9D%B4%ED%84%B0%3E\">3</a>\n",
       "<a class=\"item\" data-query-add=\"page=4\" href=\"?page=4&amp;q=&amp;specialty=Python&amp;tag=%EB%8D%B0%EC%9D%B4%ED%84%B0%3E\">4</a>\n",
       "<a class=\"item\" data-query-add=\"page=5\" href=\"?page=5&amp;q=&amp;specialty=Python&amp;tag=%EB%8D%B0%EC%9D%B4%ED%84%B0%3E\">5</a>\n",
       "<div class=\"disabled item\">...</div>\n",
       "<a class=\"item\" data-query-add=\"page=12\" href=\"?page=12&amp;q=&amp;specialty=Python&amp;tag=%EB%8D%B0%EC%9D%B4%ED%84%B0%3E\">12</a>\n",
       "</div>\n",
       "<div class=\"mobile only\">\n",
       "<a class=\"active item\" data-query-add=\"page=1\" href=\"?page=1&amp;q=&amp;specialty=Python&amp;tag=%EB%8D%B0%EC%9D%B4%ED%84%B0%3E\">1</a>\n",
       "<a class=\"item\" data-query-add=\"page=2\" href=\"?page=2&amp;q=&amp;specialty=Python&amp;tag=%EB%8D%B0%EC%9D%B4%ED%84%B0%3E\">2</a>\n",
       "<a class=\"item\" data-query-add=\"page=3\" href=\"?page=3&amp;q=&amp;specialty=Python&amp;tag=%EB%8D%B0%EC%9D%B4%ED%84%B0%3E\">3</a>\n",
       "</div>\n",
       "<a class=\"item\" data-query-add=\"page=2\" href=\"?page=2&amp;q=&amp;specialty=Python&amp;tag=%EB%8D%B0%EC%9D%B4%ED%84%B0%3E\">\n",
       "<i class=\"angle double right icon\"></i>\n",
       "</a>\n",
       "</div></div>"
      ]
     },
     "execution_count": 49,
     "metadata": {},
     "output_type": "execute_result"
    }
   ],
   "source": [
    "dom"
   ]
  },
  {
   "cell_type": "code",
   "execution_count": null,
   "metadata": {},
   "outputs": [],
   "source": []
  },
  {
   "cell_type": "code",
   "execution_count": null,
   "metadata": {},
   "outputs": [],
   "source": []
  },
  {
   "cell_type": "code",
   "execution_count": null,
   "metadata": {},
   "outputs": [],
   "source": []
  },
  {
   "cell_type": "code",
   "execution_count": null,
   "metadata": {},
   "outputs": [],
   "source": []
  },
  {
   "cell_type": "code",
   "execution_count": null,
   "metadata": {},
   "outputs": [],
   "source": []
  },
  {
   "cell_type": "code",
   "execution_count": null,
   "metadata": {},
   "outputs": [],
   "source": []
  },
  {
   "cell_type": "code",
   "execution_count": null,
   "metadata": {},
   "outputs": [],
   "source": []
  },
  {
   "cell_type": "code",
   "execution_count": 720,
   "metadata": {
    "scrolled": true
   },
   "outputs": [
    {
     "data": {
      "text/plain": [
       "bs4.BeautifulSoup"
      ]
     },
     "execution_count": 720,
     "metadata": {},
     "output_type": "execute_result"
    }
   ],
   "source": [
    "type(dom)"
   ]
  },
  {
   "cell_type": "code",
   "execution_count": 721,
   "metadata": {},
   "outputs": [
    {
     "data": {
      "text/plain": [
       "scrapy.http.response.text.TextResponse"
      ]
     },
     "execution_count": 721,
     "metadata": {},
     "output_type": "execute_result"
    }
   ],
   "source": [
    "type(response)"
   ]
  },
  {
   "cell_type": "code",
   "execution_count": 708,
   "metadata": {},
   "outputs": [
    {
     "ename": "NotSupported",
     "evalue": "Response content isn't text",
     "output_type": "error",
     "traceback": [
      "\u001b[0;31m---------------------------------------------------------------------------\u001b[0m",
      "\u001b[0;31mNotSupported\u001b[0m                              Traceback (most recent call last)",
      "\u001b[0;32m<ipython-input-708-96c43ffa7365>\u001b[0m in \u001b[0;36m<module>\u001b[0;34m\u001b[0m\n\u001b[0;32m----> 1\u001b[0;31m \u001b[0mresponse\u001b[0m\u001b[0;34m.\u001b[0m\u001b[0mxpath\u001b[0m\u001b[0;34m(\u001b[0m\u001b[0;34m'#company-list > div.company.item.active > div.content.active > div.company-name > a:nth-child(1) > h4'\u001b[0m\u001b[0;34m)\u001b[0m\u001b[0;34m\u001b[0m\u001b[0;34m\u001b[0m\u001b[0m\n\u001b[0m",
      "\u001b[0;32m~/opt/anaconda3/envs/fastcampus/lib/python3.7/site-packages/scrapy/http/response/__init__.py\u001b[0m in \u001b[0;36mxpath\u001b[0;34m(self, *a, **kw)\u001b[0m\n\u001b[1;32m    103\u001b[0m         \u001b[0;32mis\u001b[0m \u001b[0mtext\u001b[0m \u001b[0;34m(\u001b[0m\u001b[0msubclasses\u001b[0m \u001b[0mof\u001b[0m \u001b[0mTextResponse\u001b[0m\u001b[0;34m)\u001b[0m\u001b[0;34m.\u001b[0m\u001b[0;34m\u001b[0m\u001b[0;34m\u001b[0m\u001b[0m\n\u001b[1;32m    104\u001b[0m         \"\"\"\n\u001b[0;32m--> 105\u001b[0;31m         \u001b[0;32mraise\u001b[0m \u001b[0mNotSupported\u001b[0m\u001b[0;34m(\u001b[0m\u001b[0;34m\"Response content isn't text\"\u001b[0m\u001b[0;34m)\u001b[0m\u001b[0;34m\u001b[0m\u001b[0;34m\u001b[0m\u001b[0m\n\u001b[0m\u001b[1;32m    106\u001b[0m \u001b[0;34m\u001b[0m\u001b[0m\n\u001b[1;32m    107\u001b[0m     def follow(self, url, callback=None, method='GET', headers=None, body=None,\n",
      "\u001b[0;31mNotSupported\u001b[0m: Response content isn't text"
     ]
    }
   ],
   "source": [
    "response.xpath('#company-list > div.company.item.active > div.content.active > div.company-name > a:nth-child(1) > h4')"
   ]
  },
  {
   "cell_type": "code",
   "execution_count": null,
   "metadata": {},
   "outputs": [],
   "source": []
  },
  {
   "cell_type": "code",
   "execution_count": 691,
   "metadata": {},
   "outputs": [
    {
     "data": {
      "text/plain": [
       "[<Selector xpath='//*' data='<html><body><p>{\"meta\":{\"code\":200},\"...'>,\n",
       " <Selector xpath='//*' data='<body><p>{\"meta\":{\"code\":200},\"data\":...'>,\n",
       " <Selector xpath='//*' data='<p>{\"meta\":{\"code\":200},\"data\":{\"temp...'>,\n",
       " <Selector xpath='//*' data='<div id=\\'\\\\\"company-list\\\\\"\\' class=\\'\\\\\"u...'>,\n",
       " <Selector xpath='//*' data='<div class=\\'\\\\\"header\\\\\"\\'>\\\\n    <div cl...'>,\n",
       " <Selector xpath='//*' data='<div class=\\'\\\\\"ui\\' right floated heade...'>,\n",
       " <Selector xpath='//*' data='<a data-query-add=\\'\\\\\"sort=recent\\\\\"\\' h...'>,\n",
       " <Selector xpath='//*' data='<div class=\\'\\\\\"separator\\\\\"\\'></div>'>,\n",
       " <Selector xpath='//*' data='<a data-query-add=\\'\\\\\"sort=ranking\\\\\"\\' ...'>,\n",
       " <Selector xpath='//*' data='<div class=\\'\\\\\"separator\\\\\"\\'></div>'>,\n",
       " <Selector xpath='//*' data='<a data-query-add=\\'\\\\\"sort=salary\\\\\"\\' h...'>,\n",
       " <Selector xpath='//*' data='<h2 class=\\'\\\\\"ui\\' left header style=\\'\\\\...'>,\n",
       " <Selector xpath='//*' data='<span class=\\'\\\\\"desc\\\\\"\\'>검색 결과</span>'>,\n",
       " <Selector xpath='//*' data='<span class=\\'\\\\\"count\\\\\"\\'>311</span>'>,\n",
       " <Selector xpath='//*' data='<div class=\\'\\\\\"separator\\\\\"\\'></div>'>,\n",
       " <Selector xpath='//*' data='<span class=\\'\\\\\"filter-summary\\\\\"\\'>데이터&...'>,\n",
       " <Selector xpath='//*' data='<div class=\\'\\\\\"ui\\' inverted divider></...'>,\n",
       " <Selector xpath='//*' data='<div style=\\'\\\\\"text-align:center;\\\\\"\\'>조...'>,\n",
       " <Selector xpath='//*' data='<br>'>,\n",
       " <Selector xpath='//*' data='<div class=\\'\\\\\"ui\\' inverted divider></...'>,\n",
       " <Selector xpath='//*' data='<div class=\\'\\\\\"ui\\' blank right floated...'>,\n",
       " <Selector xpath='//*' data='<div class=\\'\\\\\"ui\\' pagination menu>\\\\n ...'>,\n",
       " <Selector xpath='//*' data='<a class=\\'\\\\\"disabled\\' item>\\\\n      <i...'>,\n",
       " <Selector xpath='//*' data='<i class=\\'\\\\\"angle\\' double left icon></i>'>,\n",
       " <Selector xpath='//*' data='<div class=\\'\\\\\"tablet\\' computer large ...'>,\n",
       " <Selector xpath='//*' data='<a class=\\'\\\\\"item\\\\\"\\' data-query-add=\\'\\\\...'>,\n",
       " <Selector xpath='//*' data='<a class=\\'\\\\\"item\\\\\"\\' data-query-add=\\'\\\\...'>,\n",
       " <Selector xpath='//*' data='<a class=\\'\\\\\"item\\\\\"\\' data-query-add=\\'\\\\...'>,\n",
       " <Selector xpath='//*' data='<a class=\\'\\\\\"item\\\\\"\\' data-query-add=\\'\\\\...'>,\n",
       " <Selector xpath='//*' data='<a class=\\'\\\\\"item\\\\\"\\' data-query-add=\\'\\\\...'>,\n",
       " <Selector xpath='//*' data='<div class=\\'\\\\\"disabled\\' item>...</div>'>,\n",
       " <Selector xpath='//*' data='<a class=\\'\\\\\"item\\\\\"\\' data-query-add=\\'\\\\...'>,\n",
       " <Selector xpath='//*' data='<div class=\\'\\\\\"mobile\\' only>\\\\n      <a...'>,\n",
       " <Selector xpath='//*' data='<a class=\\'\\\\\"active\\' item data-query-a...'>,\n",
       " <Selector xpath='//*' data='<a class=\\'\\\\\"item\\\\\"\\' data-query-add=\\'\\\\...'>,\n",
       " <Selector xpath='//*' data='<a class=\\'\\\\\"item\\\\\"\\' data-query-add=\\'\\\\...'>,\n",
       " <Selector xpath='//*' data='<a class=\\'\\\\\"disabled\\' item>\\\\n      <i...'>,\n",
       " <Selector xpath='//*' data='<i class=\\'\\\\\"angle\\' double right icon>...'>]"
      ]
     },
     "execution_count": 691,
     "metadata": {},
     "output_type": "execute_result"
    }
   ],
   "source": [
    "response.xpath('//*')"
   ]
  },
  {
   "cell_type": "code",
   "execution_count": 1,
   "metadata": {},
   "outputs": [],
   "source": [
    "data = pd.read_csv('test.csv')"
   ]
  },
  {
   "cell_type": "code",
   "execution_count": null,
   "metadata": {},
   "outputs": [],
   "source": []
  },
  {
   "cell_type": "code",
   "execution_count": null,
   "metadata": {},
   "outputs": [],
   "source": []
  },
  {
   "cell_type": "code",
   "execution_count": null,
   "metadata": {},
   "outputs": [],
   "source": []
  },
  {
   "cell_type": "code",
   "execution_count": null,
   "metadata": {},
   "outputs": [],
   "source": []
  },
  {
   "cell_type": "markdown",
   "metadata": {},
   "source": [
    "# 잡코리아 크롤링\n",
    "- 무조건 xpath 사용해서!!\n"
   ]
  },
  {
   "cell_type": "markdown",
   "metadata": {},
   "source": [
    "조건 : 신입"
   ]
  },
  {
   "cell_type": "code",
   "execution_count": 259,
   "metadata": {},
   "outputs": [],
   "source": [
    "import scrapy\n",
    "from scrapy.http import TextResponse"
   ]
  },
  {
   "cell_type": "code",
   "execution_count": 260,
   "metadata": {},
   "outputs": [
    {
     "data": {
      "text/plain": [
       "'3/16마감'"
      ]
     },
     "execution_count": 260,
     "metadata": {},
     "output_type": "execute_result"
    }
   ],
   "source": [
    "# deadline 계산기 : 노 필요\n",
    "import time\n",
    "from datetime import date,timedelta\n",
    "today = date.today()\n",
    "deadline_date = today + timedelta(5)\n",
    "\"{}/{}마감\".format(deadline_date.month,deadline_date.day)"
   ]
  },
  {
   "cell_type": "code",
   "execution_count": null,
   "metadata": {},
   "outputs": [],
   "source": [
    "http://www.jobkorea.co.kr/Search/?stext=데이터%분석&careerType=1"
   ]
  },
  {
   "cell_type": "code",
   "execution_count": 581,
   "metadata": {},
   "outputs": [],
   "source": [
    "# 전체 리스트 페이지 가져오기\n",
    "req = requests.get(\"http://www.jobkorea.co.kr/Search/?stext=%EB%8D%B0%EC%9D%B4%ED%84%B0&careerType=1&tabType=recruit&Page_No=1\")\n",
    "response = TextResponse(req.url, body=req.text, encoding=\"utf-8\")"
   ]
  },
  {
   "cell_type": "code",
   "execution_count": 571,
   "metadata": {},
   "outputs": [
    {
     "data": {
      "text/plain": [
       "['http://www.jobkorea.co.kr//Recruit/GI_Read/31276276?Oem_Code=C1&logpath=1',\n",
       " 'http://www.jobkorea.co.kr//Recruit/GI_Read/31239233?Oem_Code=C1&logpath=1',\n",
       " 'http://www.jobkorea.co.kr//Recruit/GI_Read/31239183?Oem_Code=C1&logpath=1',\n",
       " 'http://www.jobkorea.co.kr//Recruit/GI_Read/31223077?Oem_Code=C1&logpath=1',\n",
       " 'http://www.jobkorea.co.kr//Recruit/GI_Read/31286087?Oem_Code=C1&logpath=1',\n",
       " 'http://www.jobkorea.co.kr//Recruit/GI_Read/31286070?Oem_Code=C1&logpath=1',\n",
       " 'http://www.jobkorea.co.kr//Recruit/GI_Read/31238614?Oem_Code=C1&logpath=1',\n",
       " 'http://www.jobkorea.co.kr//Recruit/GI_Read/31226576?Oem_Code=C1&logpath=1',\n",
       " 'http://www.jobkorea.co.kr//Recruit/GI_Read/31106168?Oem_Code=C1&logpath=1',\n",
       " 'http://www.jobkorea.co.kr//Recruit/GI_Read/31060718?Oem_Code=C1&logpath=1',\n",
       " 'http://www.jobkorea.co.kr//Recruit/GI_Read/31043160?Oem_Code=C1&logpath=1',\n",
       " 'http://www.jobkorea.co.kr//Recruit/GI_Read/31030008?Oem_Code=C1&logpath=1',\n",
       " 'http://www.jobkorea.co.kr//Recruit/GI_Read/31260776?Oem_Code=C1&logpath=1',\n",
       " 'http://www.jobkorea.co.kr//Recruit/GI_Read/31151056?Oem_Code=C1&logpath=1',\n",
       " 'http://www.jobkorea.co.kr//Recruit/GI_Read/31150326?Oem_Code=C1&logpath=1',\n",
       " 'http://www.jobkorea.co.kr//Recruit/GI_Read/31284335?Oem_Code=C1&logpath=1',\n",
       " 'http://www.jobkorea.co.kr//Recruit/GI_Read/31280897?Oem_Code=C1&logpath=1',\n",
       " 'http://www.jobkorea.co.kr//Recruit/GI_Read/31202014?Oem_Code=C1&logpath=1',\n",
       " 'http://www.jobkorea.co.kr//Recruit/GI_Read/31263075?Oem_Code=C1&logpath=1',\n",
       " 'http://www.jobkorea.co.kr//Recruit/GI_Read/31204423?Oem_Code=C1&logpath=1']"
      ]
     },
     "execution_count": 571,
     "metadata": {},
     "output_type": "execute_result"
    }
   ],
   "source": [
    "links = response.xpath('//*[@id=\"content\"]/div/div/div[1]/div/div[2]/div[2]/div/div[1]/ul/li/div/div[2]/a/@href').extract()\n",
    "links = [\"http://www.jobkorea.co.kr/\" + link for link in links]\n",
    "links"
   ]
  },
  {
   "cell_type": "code",
   "execution_count": 564,
   "metadata": {},
   "outputs": [
    {
     "data": {
      "text/plain": [
       "['http://www.jobkorea.co.kr//Recruit/GI_Read/31276276?Oem_Code=C1&logpath=1',\n",
       " 'http://www.jobkorea.co.kr//Recruit/GI_Read/31239233?Oem_Code=C1&logpath=1',\n",
       " 'http://www.jobkorea.co.kr//Recruit/GI_Read/31239183?Oem_Code=C1&logpath=1',\n",
       " 'http://www.jobkorea.co.kr//Recruit/GI_Read/31223077?Oem_Code=C1&logpath=1',\n",
       " 'http://www.jobkorea.co.kr//Recruit/GI_Read/31286087?Oem_Code=C1&logpath=1',\n",
       " 'http://www.jobkorea.co.kr//Recruit/GI_Read/31286070?Oem_Code=C1&logpath=1',\n",
       " 'http://www.jobkorea.co.kr//Recruit/GI_Read/31238614?Oem_Code=C1&logpath=1',\n",
       " 'http://www.jobkorea.co.kr//Recruit/GI_Read/31226576?Oem_Code=C1&logpath=1',\n",
       " 'http://www.jobkorea.co.kr//Recruit/GI_Read/31106168?Oem_Code=C1&logpath=1',\n",
       " 'http://www.jobkorea.co.kr//Recruit/GI_Read/31060718?Oem_Code=C1&logpath=1',\n",
       " 'http://www.jobkorea.co.kr//Recruit/GI_Read/31043160?Oem_Code=C1&logpath=1',\n",
       " 'http://www.jobkorea.co.kr//Recruit/GI_Read/31030008?Oem_Code=C1&logpath=1',\n",
       " 'http://www.jobkorea.co.kr//Recruit/GI_Read/31260776?Oem_Code=C1&logpath=1',\n",
       " 'http://www.jobkorea.co.kr//Recruit/GI_Read/31151056?Oem_Code=C1&logpath=1',\n",
       " 'http://www.jobkorea.co.kr//Recruit/GI_Read/31150326?Oem_Code=C1&logpath=1',\n",
       " 'http://www.jobkorea.co.kr//Recruit/GI_Read/31284335?Oem_Code=C1&logpath=1',\n",
       " 'http://www.jobkorea.co.kr//Recruit/GI_Read/31280897?Oem_Code=C1&logpath=1',\n",
       " 'http://www.jobkorea.co.kr//Recruit/GI_Read/31202014?Oem_Code=C1&logpath=1',\n",
       " 'http://www.jobkorea.co.kr//Recruit/GI_Read/31263075?Oem_Code=C1&logpath=1',\n",
       " 'http://www.jobkorea.co.kr//Recruit/GI_Read/31204423?Oem_Code=C1&logpath=1']"
      ]
     },
     "execution_count": 564,
     "metadata": {},
     "output_type": "execute_result"
    }
   ],
   "source": [
    "# 각 공고별 링크 불러오기\n",
    "links = [ \"http://www.jobkorea.co.kr/\" + link for link in response.xpath('//*[@id=\"content\"]/div/div/div[1]/div/div[2]/div[2]/div/div[1]/ul/li/div/div[2]/a/@href').extract()]\n",
    "links"
   ]
  },
  {
   "cell_type": "code",
   "execution_count": 551,
   "metadata": {},
   "outputs": [],
   "source": [
    "# 링크에서 공고하나 선택\n",
    "url = links[0]\n",
    "req = requests.get(url)\n",
    "response = TextResponse(req.url,body=req.text,encoding='utf-8')"
   ]
  },
  {
   "cell_type": "code",
   "execution_count": 552,
   "metadata": {},
   "outputs": [
    {
     "data": {
      "text/plain": [
       "'㈜NAVER'"
      ]
     },
     "execution_count": 552,
     "metadata": {},
     "output_type": "execute_result"
    }
   ],
   "source": [
    "# 1. company name\n",
    "company_name = response.xpath('//*[@id=\"container\"]/section/div/article/div[1]/h3/span/text()')[0].extract().strip()\n",
    "company_name"
   ]
  },
  {
   "cell_type": "code",
   "execution_count": 553,
   "metadata": {},
   "outputs": [
    {
     "name": "stdout",
     "output_type": "stream",
     "text": [
      "03.31 마감\n"
     ]
    }
   ],
   "source": [
    "# 2. deadline\n",
    "try:\n",
    "    dead_line = response.xpath('//*[@id=\"tab02\"]/div/article[1]/div/dl[2]/dd[2]/span/text()')[0].extract()[5:] + \" 마감\"\n",
    "    print(dead_line)\n",
    "except:\n",
    "    print(\"상시 채용\")"
   ]
  },
  {
   "cell_type": "code",
   "execution_count": 554,
   "metadata": {},
   "outputs": [
    {
     "data": {
      "text/plain": [
       "'서비스/온라인정보제공업'"
      ]
     },
     "execution_count": 554,
     "metadata": {},
     "output_type": "execute_result"
    }
   ],
   "source": [
    "# 3. business\n",
    "url = \"http://www.jobkorea.co.kr\" + response.xpath('//*/article[contains(@class, \"artReadCoInfo\") and contains(@class, \"divReadBx\")]/div/div/p/a/@href')[0].extract()\n",
    "req = requests.get(url)\n",
    "response_detail_page = TextResponse(req.url,body=req.text,encoding='utf-8')\n",
    "response_detail_page.xpath('//*[@id=\"company-body\"]/div[1]/div[1]/div/div/div[9]/div[2]/div/div/text()')[0].extract()"
   ]
  },
  {
   "cell_type": "code",
   "execution_count": 555,
   "metadata": {},
   "outputs": [
    {
     "data": {
      "text/plain": [
       "'http://www.jobkorea.co.kr//Recruit/GI_Read/31276276?Oem_Code=C1&logpath=1'"
      ]
     },
     "execution_count": 555,
     "metadata": {},
     "output_type": "execute_result"
    }
   ],
   "source": [
    "# 4. link\n",
    "links[0]"
   ]
  },
  {
   "cell_type": "code",
   "execution_count": 556,
   "metadata": {},
   "outputs": [
    {
     "data": {
      "text/plain": [
       "'Global Music 데이터 분석가 채용연계형 인턴십 모집'"
      ]
     },
     "execution_count": 556,
     "metadata": {},
     "output_type": "execute_result"
    }
   ],
   "source": [
    "# 5. position\n",
    "response.xpath('//*[@id=\"container\"]/section/div/article/div[1]/h3/text()')[1].extract().strip()"
   ]
  },
  {
   "cell_type": "code",
   "execution_count": 557,
   "metadata": {},
   "outputs": [
    {
     "name": "stdout",
     "output_type": "stream",
     "text": [
      "3,500만원\n"
     ]
    }
   ],
   "source": [
    "# 6. job_condition\n",
    "try:\n",
    "    job_condition = response_detail_page.xpath('//*[@id=\"company-body\"]/div[1]/div[1]/div/div/div[8]/div[2]/div/div/div/div/text()')[0].extract()\n",
    "    print(job_condition)\n",
    "except:\n",
    "    print(0)"
   ]
  },
  {
   "cell_type": "code",
   "execution_count": 558,
   "metadata": {},
   "outputs": [
    {
     "data": {
      "text/plain": [
       "['기획·전략·경영',\n",
       " '기획',\n",
       " '응용프로그래머',\n",
       " 'Python',\n",
       " 'SQL',\n",
       " '빅데이터·AI(인공지능)',\n",
       " '데이터분석',\n",
       " '지표',\n",
       " '통계',\n",
       " '포털·컨텐츠·커뮤니티']"
      ]
     },
     "execution_count": 558,
     "metadata": {},
     "output_type": "execute_result"
    }
   ],
   "source": [
    "# 7. keyword\n",
    "keyword = response.xpath('//*[@id=\"artKeywordSearch\"]/ul/li/button/text()').extract()[:-1]\n",
    "keyword"
   ]
  },
  {
   "cell_type": "code",
   "execution_count": null,
   "metadata": {},
   "outputs": [],
   "source": []
  },
  {
   "cell_type": "code",
   "execution_count": null,
   "metadata": {},
   "outputs": [],
   "source": []
  },
  {
   "cell_type": "code",
   "execution_count": null,
   "metadata": {},
   "outputs": [],
   "source": []
  },
  {
   "cell_type": "code",
   "execution_count": null,
   "metadata": {},
   "outputs": [],
   "source": []
  },
  {
   "cell_type": "code",
   "execution_count": null,
   "metadata": {},
   "outputs": [],
   "source": []
  },
  {
   "cell_type": "code",
   "execution_count": null,
   "metadata": {},
   "outputs": [],
   "source": []
  },
  {
   "cell_type": "code",
   "execution_count": null,
   "metadata": {},
   "outputs": [],
   "source": []
  },
  {
   "cell_type": "code",
   "execution_count": null,
   "metadata": {},
   "outputs": [],
   "source": []
  },
  {
   "cell_type": "code",
   "execution_count": null,
   "metadata": {},
   "outputs": [],
   "source": []
  },
  {
   "cell_type": "code",
   "execution_count": null,
   "metadata": {},
   "outputs": [],
   "source": []
  },
  {
   "cell_type": "code",
   "execution_count": null,
   "metadata": {},
   "outputs": [],
   "source": []
  },
  {
   "cell_type": "code",
   "execution_count": 258,
   "metadata": {},
   "outputs": [],
   "source": [
    "# BeautifulSoup dom"
   ]
  },
  {
   "cell_type": "code",
   "execution_count": 21,
   "metadata": {},
   "outputs": [],
   "source": [
    "# page_no를 돌려라\n",
    "req = requests.get(\"http://www.jobkorea.co.kr/Search/?stext=%EB%8D%B0%EC%9D%B4%ED%84%B0&careerType=1&tabType=recruit&Page_No=1\")\n",
    "dom = BeautifulSoup(req.text, \"html.parser\")"
   ]
  },
  {
   "cell_type": "code",
   "execution_count": 282,
   "metadata": {
    "scrolled": false
   },
   "outputs": [
    {
     "data": {
      "text/plain": [
       "'㈜NAVER'"
      ]
     },
     "execution_count": 282,
     "metadata": {},
     "output_type": "execute_result"
    }
   ],
   "source": [
    "# company \n",
    "dom.select('.name.dev_view')[0].get(\"title\")"
   ]
  },
  {
   "cell_type": "code",
   "execution_count": 250,
   "metadata": {},
   "outputs": [],
   "source": [
    "# description\n",
    "response = requests.get(link)\n",
    "dom_for_pages = BeautifulSoup(response.text, \"html.parser\")"
   ]
  },
  {
   "cell_type": "code",
   "execution_count": 251,
   "metadata": {
    "scrolled": true
   },
   "outputs": [
    {
     "data": {
      "text/plain": [
       "'경력\\n\\n신입·경력\\n\\n학력\\n\\n학력무관 \\n우대\\n\\n\\n기본우대\\n\\n유관업무 경험자(인턴·알바)'"
      ]
     },
     "execution_count": 251,
     "metadata": {},
     "output_type": "execute_result"
    }
   ],
   "source": [
    "dom_for_pages.select_one('.hd_4 ~ dl.tbList').text.strip('\\n ')"
   ]
  },
  {
   "cell_type": "code",
   "execution_count": 252,
   "metadata": {},
   "outputs": [
    {
     "data": {
      "text/plain": [
       "['', '기업명', '11번가 주식회사', '기업형태', '대기업 계열사·자회사', '상장여부', '비상장', '']"
      ]
     },
     "execution_count": 252,
     "metadata": {},
     "output_type": "execute_result"
    }
   ],
   "source": [
    "# service\n",
    "dom_for_pages.select_one(\"#container > section > div > article > div.tbRow.clear > div.tbCol.tbCoInfo > dl.tbList\").text.split('\\n')"
   ]
  },
  {
   "cell_type": "code",
   "execution_count": 36,
   "metadata": {},
   "outputs": [
    {
     "data": {
      "text/plain": [
       "'Global Music 데이터 분석가 채용연계형 인턴십 모집'"
      ]
     },
     "execution_count": 36,
     "metadata": {},
     "output_type": "execute_result"
    }
   ],
   "source": [
    "# position\n",
    "dom.select('.post-list-info > a')[0].get('title')"
   ]
  },
  {
   "cell_type": "code",
   "execution_count": 249,
   "metadata": {},
   "outputs": [],
   "source": [
    "# link\n",
    "link = \"http://www.jobkorea.co.kr\" + dom.select('.post-list-info > a')[15].get('href')"
   ]
  },
  {
   "cell_type": "code",
   "execution_count": 284,
   "metadata": {
    "scrolled": true
   },
   "outputs": [
    {
     "data": {
      "text/plain": [
       "'03/31마감'"
      ]
     },
     "execution_count": 284,
     "metadata": {},
     "output_type": "execute_result"
    }
   ],
   "source": [
    "# deadline\n",
    "dom.select('.post-list-info > p[class=\"option\"]')[0].select_one('span[class=date]').text.strip('(~)월화수목금토일')+\"마감\""
   ]
  },
  {
   "cell_type": "code",
   "execution_count": 47,
   "metadata": {},
   "outputs": [
    {
     "data": {
      "text/plain": [
       "'데이터분석, 통계, 지표, 기획, Python, SQL'"
      ]
     },
     "execution_count": 47,
     "metadata": {},
     "output_type": "execute_result"
    }
   ],
   "source": [
    "# task & skills\n",
    "dom.select('p.etc')[0].text"
   ]
  },
  {
   "cell_type": "code",
   "execution_count": 95,
   "metadata": {
    "scrolled": false
   },
   "outputs": [
    {
     "data": {
      "text/plain": [
       "'3,500'"
      ]
     },
     "execution_count": 95,
     "metadata": {},
     "output_type": "execute_result"
    }
   ],
   "source": [
    "# jon_condition\n",
    "req2 = requests.get(\"http://www.jobkorea.co.kr/Salary/SearchOfSalary/671394\")\n",
    "dom = BeautifulSoup(req2.text, \"html.parser\")\n",
    "salary = dom.select_one('div.salary-table-item.salary-table-newcomer > div.salary > div.value').text\n",
    "salary"
   ]
  },
  {
   "cell_type": "code",
   "execution_count": null,
   "metadata": {},
   "outputs": [],
   "source": []
  },
  {
   "cell_type": "markdown",
   "metadata": {},
   "source": [
    "# 사람인"
   ]
  },
  {
   "cell_type": "code",
   "execution_count": 734,
   "metadata": {},
   "outputs": [],
   "source": [
    "req = requests.get(\"http://m.saramin.co.kr/search?searchType=search&searchword=%EB%8D%B0%EC%9D%B4%ED%84%B0+%EC%82%AC%EC%9D%B4%EC%96%B8%EC%8A%A4&q=%EB%8D%B0%EC%9D%B4%ED%84%B0+%EC%82%AC%EC%9D%B4%EC%96%B8%EC%8A%A4\")\n",
    "response = TextResponse(req.url, body=req.text, encoding=\"utf-8\")"
   ]
  },
  {
   "cell_type": "code",
   "execution_count": 735,
   "metadata": {},
   "outputs": [],
   "source": [
    "links = response.xpath('//*[@id=\"recruit_result\"]/ul/li/div/a/@href').extract()\n",
    "links = [\"http://m.saramin.co.kr\" + link for link in links]"
   ]
  },
  {
   "cell_type": "code",
   "execution_count": 821,
   "metadata": {},
   "outputs": [
    {
     "data": {
      "text/plain": [
       "<200 http://m.saramin.co.kr/job-search/view?rec_idx=37603442&cn=search&cns=index&t_category=search&t_content=generic&searchword=%EB%8D%B0%EC%9D%B4%ED%84%B0+%EC%82%AC%EC%9D%B4%EC%96%B8%EC%8A%A4&searchType=search&paid_fl=n>"
      ]
     },
     "execution_count": 821,
     "metadata": {},
     "output_type": "execute_result"
    }
   ],
   "source": [
    "req = requests.get(links[10])\n",
    "response = TextResponse(req.url,body=req.text,encoding='utf8')\n",
    "response"
   ]
  },
  {
   "cell_type": "code",
   "execution_count": 822,
   "metadata": {},
   "outputs": [
    {
     "data": {
      "text/plain": [
       "'(주)라이언앤코'"
      ]
     },
     "execution_count": 822,
     "metadata": {},
     "output_type": "execute_result"
    }
   ],
   "source": [
    "# company_name \n",
    "company_name = response.xpath('//*[@id=\"card_set\"]/div[1]/div/div[1]/div/span/a/text()')[0].extract()\n",
    "company_name"
   ]
  },
  {
   "cell_type": "code",
   "execution_count": 823,
   "metadata": {
    "scrolled": false
   },
   "outputs": [
    {
     "data": {
      "text/plain": [
       "[]"
      ]
     },
     "execution_count": 823,
     "metadata": {},
     "output_type": "execute_result"
    }
   ],
   "source": [
    "# business : 미해결\n",
    "response.xpath('//*[@id=\"card_set\"]/div[1]/div/section[2]/div[1]/div[1]/div/dl[1]/dd/span').extract()"
   ]
  },
  {
   "cell_type": "code",
   "execution_count": 824,
   "metadata": {},
   "outputs": [
    {
     "data": {
      "text/plain": [
       "'[경력/신입] 경영컨설턴트 모집 [주 4일 근무제 도입 회사]'"
      ]
     },
     "execution_count": 824,
     "metadata": {},
     "output_type": "execute_result"
    }
   ],
   "source": [
    "# position\n",
    "response.xpath('//*[@id=\"card_set\"]/div[1]/div/div[1]/div/h2/text()')[0].extract().strip()"
   ]
  },
  {
   "cell_type": "code",
   "execution_count": 825,
   "metadata": {},
   "outputs": [
    {
     "name": "stdout",
     "output_type": "stream",
     "text": [
      "http://m.saramin.co.kr/job-search/view?rec_idx=37603442&cn=search&cns=index&t_category=search&t_content=generic&searchword=%EB%8D%B0%EC%9D%B4%ED%84%B0+%EC%82%AC%EC%9D%B4%EC%96%B8%EC%8A%A4&searchType=search&paid_fl=n\n"
     ]
    }
   ],
   "source": [
    "# link\n",
    "link = links[10]\n",
    "print(link)"
   ]
  },
  {
   "cell_type": "code",
   "execution_count": 849,
   "metadata": {},
   "outputs": [
    {
     "data": {
      "text/plain": [
       "\"면접 후 결정', '성과급 30% ~ 100% 별도\""
      ]
     },
     "execution_count": 849,
     "metadata": {},
     "output_type": "execute_result"
    }
   ],
   "source": [
    "# salary_condition\n",
    "# 아래에 추가 항목이 있어서 전체 리스트로 받아와서 str변환\n",
    "salary_condition = str(response.xpath('//*[@class=\"card_cont wrap_recruit_view\"]/section[@class=\"section_view section_basic_view\"]/div[@class=\"wrap_info_job\"]/dl[2]/dd/*/text()').extract()).strip(\"[]''\")\n",
    "salary_condition"
   ]
  },
  {
   "cell_type": "code",
   "execution_count": 862,
   "metadata": {},
   "outputs": [
    {
     "data": {
      "text/plain": [
       "'서울 강남구'"
      ]
     },
     "execution_count": 862,
     "metadata": {},
     "output_type": "execute_result"
    }
   ],
   "source": [
    "# location\n",
    "location = response.xpath('//*[@class=\"card_cont wrap_recruit_view\"]/section[@class=\"section_view section_basic_view\"]/div[@class=\"wrap_info_job\"]/dl[3]/dd/div/text()')[0].extract().strip()\n",
    "location"
   ]
  },
  {
   "cell_type": "code",
   "execution_count": 827,
   "metadata": {},
   "outputs": [
    {
     "data": {
      "text/plain": [
       "'~03/16(월)'"
      ]
     },
     "execution_count": 827,
     "metadata": {},
     "output_type": "execute_result"
    }
   ],
   "source": [
    "# deadline\n",
    "deadline = response.xpath('//*[@class=\"card_cont wrap_recruit_view\"]/section[@class=\"section_view section_basic_view\"]/div[@class=\"wrap_info_job\"]/dl[1]/dd/span[1]/text()')[0].extract().strip()\n",
    "deadline"
   ]
  },
  {
   "cell_type": "code",
   "execution_count": 828,
   "metadata": {},
   "outputs": [
    {
     "data": {
      "text/plain": [
       "\"전문직', '경영분석·컨설턴트', '컨설턴트', '경영컨설팅', 'HR컨설팅', '서울', '강남구\""
      ]
     },
     "execution_count": 828,
     "metadata": {},
     "output_type": "execute_result"
    }
   ],
   "source": [
    "# keyword\n",
    "keyword = str(response.xpath('//*[@class=\"list_relation_tag\"]/li/a/text()').extract()).strip(\"[]''\")\n",
    "keyword"
   ]
  }
 ],
 "metadata": {
  "kernelspec": {
   "display_name": "Python 3",
   "language": "python",
   "name": "python3"
  },
  "language_info": {
   "codemirror_mode": {
    "name": "ipython",
    "version": 3
   },
   "file_extension": ".py",
   "mimetype": "text/x-python",
   "name": "python",
   "nbconvert_exporter": "python",
   "pygments_lexer": "ipython3",
   "version": "3.7.4"
  }
 },
 "nbformat": 4,
 "nbformat_minor": 2
}
