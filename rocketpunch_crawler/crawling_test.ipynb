{
 "cells": [
  {
   "cell_type": "markdown",
   "metadata": {},
   "source": [
    "# 롸켓펀치 크롤링"
   ]
  },
  {
   "cell_type": "code",
   "execution_count": 4,
   "metadata": {},
   "outputs": [],
   "source": [
    "import scrapy\n",
    "from scrapy.http import TextResponse"
   ]
  },
  {
   "cell_type": "code",
   "execution_count": 46,
   "metadata": {},
   "outputs": [
    {
     "data": {
      "text/plain": [
       "<200 https://www.rocketpunch.com/api/jobs/template?&page=1&q=&specialty=Python&tag=%EB%8D%B0%EC%9D%B4%ED%84%B0>"
      ]
     },
     "execution_count": 46,
     "metadata": {},
     "output_type": "execute_result"
    }
   ],
   "source": [
    "# __init__\n",
    "# start url\n",
    "url = \"https://www.rocketpunch.com/api/jobs/template?&page=1&q=&specialty=Python&tag=%EB%8D%B0%EC%9D%B4%ED%84%B0\"\n",
    "\n",
    "# get_pages 함수\n",
    "req = requests.get(url)\n",
    "response = TextResponse(req.url, body=req.text, encoding='utf-8')\n",
    "response"
   ]
  },
  {
   "cell_type": "markdown",
   "metadata": {},
   "source": [
    "  company_name = scrapy.Field()\n",
    "    business = scrapy.Field()\n",
    "    position = scrapy.Field()\n",
    "    link = scrapy.Field()\n",
    "    salary_condition = scrapy.Field()\n",
    "    deadline = scrapy.Field()\n",
    "    keyword = scrapy.Field()\n",
    "    location = scrapy.Field()"
   ]
  },
  {
   "cell_type": "code",
   "execution_count": 48,
   "metadata": {},
   "outputs": [
    {
     "data": {
      "text/plain": [
       "'{\"meta\":{\"code\":200},\"data\":{\"template\":\"<div id=\\\\\"company-list\\\\\" class=\\\\\"ui job items segment\\\\\">\\\\n\\\\n  <div class=\\\\\"header\\\\\">\\\\n    <div class=\\\\\"ui right floated header sort-types\\\\\"><a data-query-add=\\\\\"sort=recent\\\\\" href=\\\\\"/jobs?q=&amp;specialty=Python&amp;tag=%EB%8D%B0%EC%9D%B4%ED%84%B0&amp;sort=recent\\\\\"class=\\\\\"checked\\\\\">\\\\n        최신순\\\\n      </a>\\\\n<div class=\\\\\"separator\\\\\"></div><a data-query-add=\\\\\"sort=ranking\\\\\" href=\\\\\"/jobs?q=&amp;specialty=Python&amp;tag=%EB%8D%B0%EC%9D%B4%ED%84%B0&amp;sort=ranking\\\\\">\\\\n        인기순\\\\n      </a>\\\\n<div class=\\\\\"separator\\\\\"></div><a data-query-add=\\\\\"sort=salary\\\\\" href=\\\\\"/jobs?q=&amp;specialty=Python&amp;tag=%EB%8D%B0%EC%9D%B4%ED%84%B0&amp;sort=salary\\\\\">\\\\n        연봉순\\\\n      </a>\\\\n</div>\\\\n\\\\n    <h2 class=\\\\\"ui left header\\\\\" style=\\\\\"font-size:16px\\\\\">\\\\n      <span class=\\\\\"desc\\\\\">검색 결과</span>\\\\n      <span class=\\\\\"count\\\\\">58</span>\\\\n        <div class=\\\\\"separator\\\\\"></div>\\\\n        <span class=\\\\\"filter-summary\\\\\">데이터, Python</span>\\\\n    </h2>\\\\n  </div>\\\\n\\\\n  <div class=\\\\\"ui inverted divider\\\\\"></div><div class=\\\\\"company item active\\\\\" data-company_id=\\\\\"27228\\\\\">\\\\n  <div class=\\\\\"logo image\\\\\">\\\\n    <a href=\\\\\"/companies/08liter/jobs\\\\\" target=\\\\\"_blank\\\\\">\\\\n      <div class=\\\\\"ui logo\\\\\">\\\\n        <img src=\\\\\"https://image.rocketpunch.com/company/27228/08liter_logo_1553220398.jpg?s=100x100&amp;t=inside\\\\\" alt=\\\\\"공팔리터 logo\\\\\" class=\\\\\"ui image\\\\\">\\\\n      </div>\\\\n    </a>\\\\n  </div>\\\\n  <div class=\\\\\"content active\\\\\">\\\\n\\\\n    <div class=\\\\\"ui right floated skip header\\\\\">\\\\n      <a data-modal=\\\\\"signup\\\\\">✕</a>\\\\n    </div>\\\\n    <div class=\\\\\"company-name\\\\\">\\\\n      <a href=\\\\\"/companies/08liter/jobs\\\\\" target=\\\\\"_blank\\\\\">\\\\n        <h4 class=\\\\\"header name\\\\\">          <strong>공팔리터</strong>\\\\n          <small>(08liter)</small>\\\\n</h4>\\\\n      </a><a class=\\\\\"reference-count\\\\\" data-url=\\\\\"/api/companies/27228/reference\\\\\" data-method=\\\\\"post\\\\\">\\\\n        <i class=\\\\\"ic-thumbup-outline icon\\\\\"></i>\\\\n        <span class=\\\\\"count\\\\\">8</span>\\\\n      </a></div>\\\\n    <div class=\\\\\"description\\\\\">즐거운경험 0.8L(공팔리터) - 즐거운 경험, 리뷰를 즐기세요.&nbsp;</div>\\\\n    <div class=\\\\\"nowrap meta\\\\\">      모바일서비스 ∙ 마케팅 ∙ 데이터 ∙ 전자상거래 ∙ SNS마케팅 ∙ B2B ∙ 소셜커머스 ∙ 영업 ∙ e-커머스\\\\n</div><div class=\\\\\"applicants\\\\\">\\\\n  <div class=\\\\\"avatar-list\\\\\">\\\\n\\\\n<a href=\\\\\"/@jeongseoklee\\\\\">\\\\n      <img src=\\\\\"https://image.rocketpunch.com/user/78994/78994_df791b2caaa5.jpg?s=35x35&amp;t=cover\\\\\" alt=\\\\\"\\\\\" class=\\\\\"ui mini circular image\\\\\">\\\\n    </a><div class=\\\\\"mini masked item\\\\\">?</div><div class=\\\\\"mini masked item\\\\\">?</div><div class=\\\\\"mini masked item\\\\\">?</div>\\\\n  <div class=\\\\\"more item mini\\\\\"><span>+652</span></div>\\\\n\\\\n  </div>\\\\n\\\\n<span><a href=\\\\\"/companies/08liter/jobs/applicants\\\\\">655명 이상이 로켓펀치를 통해 지원</a></span>\\\\n    </div><div class=\\\\\"ui divider\\\\\"></div>\\\\n    <div class=\\\\\"company-jobs-detail\\\\\">\\\\n          <div class=\\\\\"job-detail\\\\\">\\\\n            <div>\\\\n              <a href=\\\\\"/jobs/70473/%EB%8D%B0%EC%9D%B4%ED%84%B0-%EC%97%94%EC%A7%80%EB%8B%88%EC%96%B4-%EC%B1%84%EC%9A%A9\\\\\" target=\\\\\"_blank\\\\\" class=\\\\\"nowrap job-title primary link\\\\\">데이터 엔지니어 채용</a>\\\\n              <span class=\\\\\"job-stat-info\\\\\">3,000 - 6,000만원 / 경력</span>\\\\n              <a data-modal=\\\\\"login\\\\\" style=\\\\\"float:right\\\\\"><i class=\\\\\"ic-bookmark_outline icon\\\\\"></i></a>\\\\n            </div>\\\\n            <div class=\\\\\"job-dates\\\\\">\\\\n              <span>\\\\n                <i class=\\\\\"ic-calendar_new icon\\\\\"></i>                03/31 마감\\\\n</span><span>                03/05 등록\\\\n</span></div>\\\\n          </div>\\\\n<div class=\\\\\"ui divider\\\\\" ></div>          <div class=\\\\\"job-detail\\\\\">\\\\n            <div>\\\\n              <a href=\\\\\"/jobs/70826/%EB%B0%B1%EC%97%94%EB%93%9C%EA%B0%9C%EB%B0%9C%EC%9E%90-%EC%B1%84%EC%9A%A9\\\\\" target=\\\\\"_blank\\\\\" class=\\\\\"nowrap job-title primary link\\\\\">백엔드개발자 채용</a>\\\\n              <span class=\\\\\"job-stat-info\\\\\">3,000 - 8,000만원 / 1.0% - 5.0% / 경력</span>\\\\n              <a data-modal=\\\\\"login\\\\\" style=\\\\\"float:right\\\\\"><i class=\\\\\"ic-bookmark_outline icon\\\\\"></i></a>\\\\n            </div>\\\\n            <div class=\\\\\"job-dates\\\\\">\\\\n              <span>\\\\n                <i class=\\\\\"ic-calendar_new icon\\\\\"></i>                03/22 마감\\\\n</span><span>                03/12 등록\\\\n</span></div>\\\\n          </div>\\\\n</div>\\\\n  </div>\\\\n</div>\\\\n<div class=\\\\\"ui inverted divider\\\\\"></div><div class=\\\\\"company item\\\\\" data-company_id=\\\\\"19064\\\\\">\\\\n  <div class=\\\\\"logo image\\\\\">\\\\n    <a href=\\\\\"/companies/aimmo/jobs\\\\\" target=\\\\\"_blank\\\\\">\\\\n      <div class=\\\\\"ui logo\\\\\">\\\\n        <img src=\\\\\"https://image.rocketpunch.com/company/19064/bluewhale_logo_1571795074.png?s=100x100&amp;t=inside\\\\\" alt=\\\\\"(주)에이모 logo\\\\\" class=\\\\\"ui image\\\\\">\\\\n      </div>\\\\n    </a>\\\\n  </div>\\\\n  <div class=\\\\\"content\\\\\">\\\\n\\\\n    <div class=\\\\\"ui right floated skip header\\\\\">\\\\n      <a data-modal=\\\\\"signup\\\\\">✕</a>\\\\n    </div>\\\\n    <div class=\\\\\"company-name\\\\\">\\\\n      <a href=\\\\\"/companies/aimmo/jobs\\\\\" target=\\\\\"_blank\\\\\">\\\\n        <h4 class=\\\\\"header name\\\\\">          <strong>(주)에이모</strong>\\\\n          <small>(AIMMO Co., Ltd.)</small>\\\\n</h4>\\\\n      </a><span class=\\\\\"ui small basic recruit label\\\\\"><div data-content=\\\\\"로켓펀치를 통해 채용한 기록이 있는 기업입니다.\\\\\" data-variation=\\\\\"inverted mini\\\\\">채용 우수</div></span><a class=\\\\\"reference-count\\\\\" data-url=\\\\\"/api/companies/19064/reference\\\\\" data-method=\\\\\"post\\\\\">\\\\n        <i class=\\\\\"ic-thumbup-outline icon\\\\\"></i>\\\\n        <span class=\\\\\"count\\\\\">5</span>\\\\n      </a></div>\\\\n    <div class=\\\\\"description\\\\\">Intelligence Farming Company&nbsp;</div>\\\\n    <div class=\\\\\"nowrap meta\\\\\">      데이터 ∙ AI ∙ 머신러닝 ∙ LIDAR ∙ DataAnnotation\\\\n</div><div class=\\\\\"applicants\\\\\">\\\\n  <div class=\\\\\"avatar-list\\\\\">\\\\n\\\\n<a href=\\\\\"/@shinys825\\\\\">\\\\n      <img src=\\\\\"https://image.rocketpunch.com/user/25153/25153_1540733307.png?s=35x35&amp;t=cover\\\\\" alt=\\\\\"\\\\\" class=\\\\\"ui mini circular image\\\\\">\\\\n    </a><div class=\\\\\"mini masked item\\\\\">?</div><div class=\\\\\"mini masked item\\\\\">?</div><div class=\\\\\"mini masked item\\\\\">?</div>\\\\n  <div class=\\\\\"more item mini\\\\\"><span>+174</span></div>\\\\n\\\\n  </div>\\\\n\\\\n<span><a href=\\\\\"/companies/aimmo/jobs/applicants\\\\\">175명 이상이 로켓펀치를 통해 지원</a></span>\\\\n    </div><div class=\\\\\"ui divider\\\\\"></div>\\\\n    <div class=\\\\\"company-jobs-detail\\\\\">\\\\n          <div class=\\\\\"job-detail\\\\\">\\\\n            <div>\\\\n              <a href=\\\\\"/jobs/26953/Machine-Learning-Deep-Learning-Engineer-ResearcherComputer-Vision\\\\\" target=\\\\\"_blank\\\\\" class=\\\\\"nowrap job-title primary link\\\\\">Machine Learning, Deep Learning Engineer &amp; Researcher(Computer Vision)</a>\\\\n              <span class=\\\\\"job-stat-info\\\\\">신입, 경력</span>\\\\n              <a data-modal=\\\\\"login\\\\\" style=\\\\\"float:right\\\\\"><i class=\\\\\"ic-bookmark_outline icon\\\\\"></i></a>\\\\n            </div>\\\\n            <div class=\\\\\"job-dates\\\\\">\\\\n              <span>\\\\n                <i class=\\\\\"ic-calendar_new icon\\\\\"></i>                03/31 마감\\\\n</span><span>                03/12 수정\\\\n</span></div>\\\\n          </div>\\\\n<div class=\\\\\"ui divider\\\\\" ></div>          <div class=\\\\\"job-detail\\\\\">\\\\n            <div>\\\\n              <a href=\\\\\"/jobs/46515/Backend-Software-Engineer\\\\\" target=\\\\\"_blank\\\\\" class=\\\\\"nowrap job-title primary link\\\\\">Backend Software Engineer</a>\\\\n              <span class=\\\\\"job-stat-info\\\\\">경력</span>\\\\n              <a data-modal=\\\\\"login\\\\\" style=\\\\\"float:right\\\\\"><i class=\\\\\"ic-bookmark_outline icon\\\\\"></i></a>\\\\n            </div>\\\\n            <div class=\\\\\"job-dates\\\\\">\\\\n              <span>\\\\n                <i class=\\\\\"ic-calendar_new icon\\\\\"></i>                03/31 마감\\\\n</span><span>                02/06 수정\\\\n</span></div>\\\\n          </div>\\\\n</div>\\\\n  </div>\\\\n</div>\\\\n<div class=\\\\\"ui inverted divider\\\\\"></div><div class=\\\\\"company item\\\\\" data-company_id=\\\\\"29246\\\\\">\\\\n  <div class=\\\\\"logo image\\\\\">\\\\n    <a href=\\\\\"/companies/uconnec/jobs\\\\\" target=\\\\\"_blank\\\\\">\\\\n      <div class=\\\\\"ui logo\\\\\">\\\\n        <img src=\\\\\"https://image.rocketpunch.com/company/29246/uconnec_logo_1582000741.png?s=100x100&amp;t=inside\\\\\" alt=\\\\\"유커넥 logo\\\\\" class=\\\\\"ui image\\\\\">\\\\n      </div>\\\\n    </a>\\\\n  </div>\\\\n  <div class=\\\\\"content\\\\\">\\\\n\\\\n    <div class=\\\\\"ui right floated skip header\\\\\">\\\\n      <a data-modal=\\\\\"signup\\\\\">✕</a>\\\\n    </div>\\\\n    <div class=\\\\\"company-name\\\\\">\\\\n      <a href=\\\\\"/companies/uconnec/jobs\\\\\" target=\\\\\"_blank\\\\\">\\\\n        <h4 class=\\\\\"header name\\\\\">          <strong>유커넥</strong>\\\\n          <small>(Uconnec)</small>\\\\n</h4>\\\\n      </a><span class=\\\\\"ui small basic recruit label\\\\\"><div data-content=\\\\\"로켓펀치를 통해 채용한 기록이 있는 기업입니다.\\\\\" data-variation=\\\\\"inverted mini\\\\\">채용 우수</div></span><a class=\\\\\"reference-count\\\\\" data-url=\\\\\"/api/companies/29246/reference\\\\\" data-method=\\\\\"post\\\\\">\\\\n        <i class=\\\\\"ic-thumbup-outline icon\\\\\"></i>\\\\n        <span class=\\\\\"count\\\\\">22</span>\\\\n      </a></div>\\\\n    <div class=\\\\\"description\\\\\">유튜브 인플루언서와 광고주 브랜드를 연결하는 마케팅 플랫폼, &#34;유커넥&#34;&nbsp;</div>\\\\n    <div class=\\\\\"nowrap meta\\\\\">      웹서비스 ∙ 마케팅 ∙ 소프트웨어 ∙ 데이터 ∙ 디지털마케팅 ∙ 빅데이터분석 ∙ 광고플랫폼 ∙ MCN ∙ 유튜브 ∙ 디지털마케팅(컨텐츠/SNS) ∙ 신한퓨처스랩5기 ∙ 크리에이터 ∙ 미디어커머스 ∙ 온라인광고 ∙ 인플루언서마케팅 ∙ MCN/비디오커머스 ∙ MCN/모델/마케팅/커머스 ∙ 인플루언서마케팅플랫폼 ∙ 인플루언서커머스 ∙ Youtube ∙ 유튜브마케팅 ∙ 인플루언서플랫폼 ∙ 유튜브크리에이터 ∙ 미디어랩 ∙ 유튜버 ∙ 유튜브커머스\\\\n</div><div class=\\\\\"applicants\\\\\">\\\\n  <div class=\\\\\"avatar-list\\\\\">\\\\n\\\\n<a href=\\\\\"/@fromleaf\\\\\">\\\\n      <img src=\\\\\"https://image.rocketpunch.com/user/5488/5488_1467194464.jpg?s=35x35&amp;t=cover\\\\\" alt=\\\\\"\\\\\" class=\\\\\"ui mini circular image\\\\\">\\\\n    </a><a href=\\\\\"/@iam_0714\\\\\">\\\\n      <img src=\\\\\"https://image.rocketpunch.com/user/205544/205544_1556426309.jpg?s=35x35&amp;t=cover\\\\\" alt=\\\\\"\\\\\" class=\\\\\"ui mini circular image\\\\\">\\\\n    </a><a href=\\\\\"/@yyoring\\\\\">\\\\n      <img src=\\\\\"https://image.rocketpunch.com/user/232071/232071_1564044710.jpg?s=35x35&amp;t=cover\\\\\" alt=\\\\\"\\\\\" class=\\\\\"ui mini circular image\\\\\">\\\\n    </a><div class=\\\\\"mini masked item\\\\\">?</div>\\\\n  <div class=\\\\\"more item mini\\\\\"><span>+348</span></div>\\\\n\\\\n  </div>\\\\n\\\\n<span><a href=\\\\\"/companies/uconnec/jobs/applicants\\\\\">350명 이상이 로켓펀치를 통해 지원</a></span>\\\\n    </div><div class=\\\\\"ui divider\\\\\"></div>\\\\n    <div class=\\\\\"company-jobs-detail\\\\\">\\\\n          <div class=\\\\\"job-detail\\\\\">\\\\n            <div>\\\\n              <a href=\\\\\"/jobs/48050/%EC%96%B4%EB%B2%A4%EC%A0%B8%EC%8A%A4-%ED%92%80%EC%8A%A4%ED%83%9D-%EA%B0%9C%EB%B0%9C%EC%9E%90-DjangoReact\\\\\" target=\\\\\"_blank\\\\\" class=\\\\\"nowrap job-title primary link\\\\\">&#34;어벤져스&#34; 풀스택 개발자 (Django/React)</a>\\\\n              <span class=\\\\\"job-stat-info\\\\\">3,600 - 10,000만원 / 최대 2.0% / 경력</span>\\\\n              <a data-modal=\\\\\"login\\\\\" style=\\\\\"float:right\\\\\"><i class=\\\\\"ic-bookmark_outline icon\\\\\"></i></a>\\\\n            </div>\\\\n            <div class=\\\\\"job-dates\\\\\">\\\\n              <span>\\\\n                <i class=\\\\\"ic-calendar_new icon\\\\\"></i>                03/31 마감\\\\n</span><span>                03/11 수정\\\\n</span></div>\\\\n          </div>\\\\n<div class=\\\\\"ui divider\\\\\" ></div>          <div class=\\\\\"job-detail\\\\\">\\\\n            <div>\\\\n              <a href=\\\\\"/jobs/68119/%EC%96%B4%EB%B2%A4%EC%A0%B8%EC%8A%A4-%EB%B0%B1%EC%97%94%EB%93%9C-%EA%B0%9C%EB%B0%9C%EC%9E%90\\\\\" target=\\\\\"_blank\\\\\" class=\\\\\"nowrap job-title primary link\\\\\">&#34;어벤져스&#34; 백엔드 개발자</a>\\\\n              <span class=\\\\\"job-stat-info\\\\\">4,000 - 10,000만원 / 최대 3.0% / 경력</span>\\\\n              <a data-modal=\\\\\"login\\\\\" style=\\\\\"float:right\\\\\"><i class=\\\\\"ic-bookmark_outline icon\\\\\"></i></a>\\\\n            </div>\\\\n            <div class=\\\\\"job-dates\\\\\">\\\\n              <span>\\\\n                <i class=\\\\\"ic-calendar_new icon\\\\\"></i>                03/31 마감\\\\n</span><span>                03/11 수정\\\\n</span></div>\\\\n          </div>\\\\n</div>\\\\n  </div>\\\\n</div>\\\\n<div class=\\\\\"ui inverted divider\\\\\"></div><div class=\\\\\"item brand-message\\\\\">\\\\n        <div class=\\\\\"logo image\\\\\"></div>\\\\n        <div class=\\\\\"content\\\\\">\\\\n          <img src=\\\\\"https://static.rocketpunch.com/images/main/landing/space_lounge_chat_nobg.svg\\\\\" alt=\\\\\"image\\\\\">\\\\n          <div class=\\\\\"description\\\\\">\\\\n            <h2>\\\\n              당신에게 필요한 좋은 일자리!\\\\n            </h2>\\\\n            <h3>\\\\n              대한민국의 비즈니스 인맥이 모두 모여있는 곳, 로켓펀치에서 만나보세요.\\\\n            </h3>\\\\n            <a href=\\\\\"/signup\\\\\" class=\\\\\"ui basic primary button\\\\\">\\\\n              무료가입\\\\n            </a>\\\\n          </div>\\\\n        </div>\\\\n      </div>\\\\n      <div class=\\\\\"ui inverted divider\\\\\"></div><div class=\\\\\"company item\\\\\" data-company_id=\\\\\"209\\\\\">\\\\n  <div class=\\\\\"logo image\\\\\">\\\\n    <a href=\\\\\"/companies/spoqa/jobs\\\\\" target=\\\\\"_blank\\\\\">\\\\n      <div class=\\\\\"ui logo\\\\\">\\\\n        <img src=\\\\\"https://image.rocketpunch.com/company/209/spoqa_logo_1545990867.png?s=100x100&amp;t=inside\\\\\" alt=\\\\\"스포카 logo\\\\\" class=\\\\\"ui image\\\\\">\\\\n      </div>\\\\n    </a>\\\\n  </div>\\\\n  <div class=\\\\\"content\\\\\">\\\\n\\\\n    <div class=\\\\\"ui right floated skip header\\\\\">\\\\n      <a data-modal=\\\\\"signup\\\\\">✕</a>\\\\n    </div>\\\\n    <div class=\\\\\"company-name\\\\\">\\\\n      <a href=\\\\\"/companies/spoqa/jobs\\\\\" target=\\\\\"_blank\\\\\">\\\\n        <h4 class=\\\\\"header name\\\\\">          <strong>스포카</strong>\\\\n          <small>(Spoqa)</small>\\\\n</h4>\\\\n      </a><span class=\\\\\"ui small basic response label\\\\\"><div data-content=\\\\\"7일 이내 지원 결과를 알려줄 확률이 90% 이상인 기업입니다.\\\\\" data-variation=\\\\\"inverted mini\\\\\">응답률 우수</div></span><a class=\\\\\"reference-count\\\\\" data-url=\\\\\"/api/companies/209/reference\\\\\" data-method=\\\\\"post\\\\\">\\\\n        <i class=\\\\\"ic-thumbup-outline icon\\\\\"></i>\\\\n        <span class=\\\\\"count\\\\\">5</span>\\\\n      </a></div>\\\\n    <div class=\\\\\"description\\\\\">매장 고객관리 플랫폼 &#39;도도(dodo)&#39;를 운영합니다.&nbsp;</div>\\\\n    <div class=\\\\\"nowrap meta\\\\\">      모바일서비스 ∙ 웹서비스 ∙ 마케팅 ∙ 소프트웨어 ∙ 데이터 ∙ O2O ∙ 오프라인 ∙ 고객관리 ∙ 쿠폰 ∙ 태블릿 ∙ 매장 ∙ 포인트적립 ∙ SNS광고 ∙ 문자마케팅 ∙ 자영업마케팅\\\\n</div><div class=\\\\\"applicants\\\\\">\\\\n  <div class=\\\\\"avatar-list\\\\\">\\\\n\\\\n<div class=\\\\\"mini masked item\\\\\">?</div><div class=\\\\\"mini masked item\\\\\">?</div><div class=\\\\\"mini masked item\\\\\">?</div><div class=\\\\\"mini masked item\\\\\">?</div>\\\\n  <div class=\\\\\"more item mini\\\\\"><span>+135</span></div>\\\\n\\\\n  </div>\\\\n\\\\n<span><a href=\\\\\"/companies/spoqa/jobs/applicants\\\\\">135명 이상이 로켓펀치를 통해 지원</a></span>\\\\n    </div><div class=\\\\\"ui divider\\\\\"></div>\\\\n    <div class=\\\\\"company-jobs-detail\\\\\">\\\\n          <div class=\\\\\"job-detail\\\\\">\\\\n            <div>\\\\n              <a href=\\\\\"/jobs/69688/%EC%95%88%EB%93%9C%EB%A1%9C%EC%9D%B4%EB%93%9C-%ED%94%84%EB%A1%9C%EA%B7%B8%EB%9E%98%EB%A8%B8\\\\\" target=\\\\\"_blank\\\\\" class=\\\\\"nowrap job-title primary link\\\\\">안드로이드 프로그래머</a>\\\\n              <span class=\\\\\"job-stat-info\\\\\">경력</span>\\\\n              <a data-modal=\\\\\"login\\\\\" style=\\\\\"float:right\\\\\"><i class=\\\\\"ic-bookmark_outline icon\\\\\"></i></a>\\\\n            </div>\\\\n            <div class=\\\\\"job-dates\\\\\">\\\\n              <span>\\\\n                <i class=\\\\\"ic-calendar_new icon\\\\\"></i>                수시채용\\\\n</span><span>                03/11 수정\\\\n</span></div>\\\\n          </div>\\\\n<div class=\\\\\"ui divider\\\\\" ></div>          <div class=\\\\\"job-detail\\\\\">\\\\n            <div>\\\\n              <a href=\\\\\"/jobs/69686/%EB%B0%B1%EC%97%94%EB%93%9C-%ED%94%84%EB%A1%9C%EA%B7%B8%EB%9E%98%EB%A8%B8\\\\\" target=\\\\\"_blank\\\\\" class=\\\\\"nowrap job-title primary link\\\\\">백엔드 프로그래머</a>\\\\n              <span class=\\\\\"job-stat-info\\\\\">경력</span>\\\\n              <a data-modal=\\\\\"login\\\\\" style=\\\\\"float:right\\\\\"><i class=\\\\\"ic-bookmark_outline icon\\\\\"></i></a>\\\\n            </div>\\\\n            <div class=\\\\\"job-dates\\\\\">\\\\n              <span>\\\\n                <i class=\\\\\"ic-calendar_new icon\\\\\"></i>                수시채용\\\\n</span><span>                02/17 등록\\\\n</span></div>\\\\n          </div>\\\\n</div>\\\\n  </div>\\\\n</div>\\\\n<div class=\\\\\"ui inverted divider\\\\\"></div><div class=\\\\\"company item\\\\\" data-company_id=\\\\\"72686\\\\\">\\\\n  <div class=\\\\\"logo image\\\\\">\\\\n    <a href=\\\\\"/companies/mymusictaste-3/jobs\\\\\" target=\\\\\"_blank\\\\\">\\\\n      <div class=\\\\\"ui logo\\\\\">\\\\n        <img src=\\\\\"https://image.rocketpunch.com/company/72686/mymusictaste-3_logo_1517823090.gif?s=100x100&amp;t=inside\\\\\" alt=\\\\\"마이뮤직테이스트 logo\\\\\" class=\\\\\"ui image\\\\\">\\\\n      </div>\\\\n    </a>\\\\n  </div>\\\\n  <div class=\\\\\"content\\\\\">\\\\n\\\\n    <div class=\\\\\"ui right floated skip header\\\\\">\\\\n      <a data-modal=\\\\\"signup\\\\\">✕</a>\\\\n    </div>\\\\n    <div class=\\\\\"company-name\\\\\">\\\\n      <a href=\\\\\"/companies/mymusictaste-3/jobs\\\\\" target=\\\\\"_blank\\\\\">\\\\n        <h4 class=\\\\\"header name\\\\\">          <strong>마이뮤직테이스트</strong>\\\\n          <small>(MyMusicTaste)</small>\\\\n</h4>\\\\n      </a><span class=\\\\\"ui small basic response label\\\\\"><div data-content=\\\\\"7일 이내 지원 결과를 알려줄 확률이 90% 이상인 기업입니다.\\\\\" data-variation=\\\\\"inverted mini\\\\\">응답률 우수</div></span><a class=\\\\\"reference-count\\\\\" data-url=\\\\\"/api/companies/72686/reference\\\\\" data-method=\\\\\"post\\\\\">\\\\n        <i class=\\\\\"ic-thumbup-outline icon\\\\\"></i>\\\\n        <span class=\\\\\"count\\\\\">14</span>\\\\n      </a></div>\\\\n    <div class=\\\\\"description\\\\\">마이뮤직테이스트는 IT와 음악에 대한 열정으로 전세계 공연 업계의 패러다임을 바꿀 수 있다고 믿는 사람들이 모여있습니다. 다양한 경험과 문화적 배경을 가진 직원들이 자유로운 분위기 속에서 전세계를 대상으로 능력을 발휘하고 있습니다. 이에 전세계 음악팬들을 위한 서비스를 함께 만들어갈 최고의 인재를 모시고자  노력을 아끼지 않고 있습니다.&nbsp;</div>\\\\n    <div class=\\\\\"nowrap meta\\\\\">      데이터 ∙ IT ∙ 공연 ∙ 콘서트\\\\n</div><div class=\\\\\"applicants\\\\\">\\\\n  <div class=\\\\\"avatar-list\\\\\">\\\\n\\\\n<div class=\\\\\"mini masked item\\\\\">?</div><div class=\\\\\"mini masked item\\\\\">?</div><div class=\\\\\"mini masked item\\\\\">?</div><div class=\\\\\"mini masked item\\\\\">?</div>\\\\n  <div class=\\\\\"more item mini\\\\\"><span>+147</span></div>\\\\n\\\\n  </div>\\\\n\\\\n<span><a href=\\\\\"/companies/mymusictaste-3/jobs/applicants\\\\\">150명 이상이 로켓펀치를 통해 지원</a></span>\\\\n    </div><div class=\\\\\"ui divider\\\\\"></div>\\\\n    <div class=\\\\\"company-jobs-detail\\\\\">\\\\n          <div class=\\\\\"job-detail\\\\\">\\\\n            <div>\\\\n              <a href=\\\\\"/jobs/64739/%EC%82%B0%EC%97%85%EA%B8%B0%EB%8A%A5%EC%9A%94%EC%9B%90%EB%B3%B4%EC%B6%A9%EC%97%AD-QA-Engineer\\\\\" target=\\\\\"_blank\\\\\" class=\\\\\"nowrap job-title primary link\\\\\">산업기능요원(보충역) QA Engineer</a>\\\\n              <span class=\\\\\"job-stat-info\\\\\">신입, 경력</span>\\\\n              <a data-modal=\\\\\"login\\\\\" style=\\\\\"float:right\\\\\"><i class=\\\\\"ic-bookmark_outline icon\\\\\"></i></a>\\\\n            </div>\\\\n            <div class=\\\\\"job-dates\\\\\">\\\\n              <span>\\\\n                <i class=\\\\\"ic-calendar_new icon\\\\\"></i>                04/30 마감\\\\n</span><span>                03/05 수정\\\\n</span></div>\\\\n          </div>\\\\n<div class=\\\\\"ui divider\\\\\" ></div>          <div class=\\\\\"job-detail\\\\\">\\\\n            <div>\\\\n              <a href=\\\\\"/jobs/68912/%EC%82%B0%EC%97%85%EA%B8%B0%EB%8A%A5%EC%9A%94%EC%9B%90%EB%B3%B4%EC%B6%A9%EC%97%AD-Backend-Engineer\\\\\" target=\\\\\"_blank\\\\\" class=\\\\\"nowrap job-title primary link\\\\\">산업기능요원(보충역) Backend Engineer</a>\\\\n              <span class=\\\\\"job-stat-info\\\\\">신입, 경력</span>\\\\n              <a data-modal=\\\\\"login\\\\\" style=\\\\\"float:right\\\\\"><i class=\\\\\"ic-bookmark_outline icon\\\\\"></i></a>\\\\n            </div>\\\\n            <div class=\\\\\"job-dates\\\\\">\\\\n              <span>\\\\n                <i class=\\\\\"ic-calendar_new icon\\\\\"></i>                수시채용\\\\n</span><span>                02/03 등록\\\\n</span></div>\\\\n          </div>\\\\n<div class=\\\\\"ui divider\\\\\" ></div>          <div class=\\\\\"job-detail\\\\\">\\\\n            <div>\\\\n              <a href=\\\\\"/jobs/70775/Data-Analyst\\\\\" target=\\\\\"_blank\\\\\" class=\\\\\"nowrap job-title primary link\\\\\">Data Analyst</a>\\\\n              <span class=\\\\\"job-stat-info\\\\\">경력</span>\\\\n              <a data-modal=\\\\\"login\\\\\" style=\\\\\"float:right\\\\\"><i class=\\\\\"ic-bookmark_outline icon\\\\\"></i></a>\\\\n            </div>\\\\n            <div class=\\\\\"job-dates\\\\\">\\\\n              <span>\\\\n                <i class=\\\\\"ic-calendar_new icon\\\\\"></i>                수시채용\\\\n</span><span>                03/11 등록\\\\n</span></div>\\\\n          </div>\\\\n<div class=\\\\\"ui divider\\\\\" ></div><a class=\\\\\"more-jobs\\\\\">2개 더 보기<i class=\\\\\"icon ic-chevron-down\\\\\"></i>\\\\n          </a>          <div class=\\\\\"job-detail hide\\\\\">\\\\n            <div>\\\\n              <a href=\\\\\"/jobs/70204/Data-Analyst-Intern\\\\\" target=\\\\\"_blank\\\\\" class=\\\\\"nowrap job-title primary link\\\\\">Data Analyst Intern</a>\\\\n              <span class=\\\\\"job-stat-info\\\\\">인턴</span>\\\\n              <a data-modal=\\\\\"login\\\\\" style=\\\\\"float:right\\\\\"><i class=\\\\\"ic-bookmark_outline icon\\\\\"></i></a>\\\\n            </div>\\\\n            <div class=\\\\\"job-dates\\\\\">\\\\n              <span>\\\\n                <i class=\\\\\"ic-calendar_new icon\\\\\"></i>                수시채용\\\\n</span><span>                02/28 등록\\\\n</span></div>\\\\n          </div>\\\\n<div class=\\\\\"ui divider hide\\\\\" ></div>          <div class=\\\\\"job-detail hide\\\\\">\\\\n            <div>\\\\n              <a href=\\\\\"/jobs/70349/Growth-Analyst\\\\\" target=\\\\\"_blank\\\\\" class=\\\\\"nowrap job-title primary link\\\\\">Growth Analyst</a>\\\\n              <span class=\\\\\"job-stat-info\\\\\">경력</span>\\\\n              <a data-modal=\\\\\"login\\\\\" style=\\\\\"float:right\\\\\"><i class=\\\\\"ic-bookmark_outline icon\\\\\"></i></a>\\\\n            </div>\\\\n            <div class=\\\\\"job-dates\\\\\">\\\\n              <span>\\\\n                <i class=\\\\\"ic-calendar_new icon\\\\\"></i>                수시채용\\\\n</span><span>                03/02 등록\\\\n</span></div>\\\\n          </div>\\\\n<a class=\\\\\"less-jobs hide\\\\\">간단히<i class=\\\\\"icon ic-chevron-up\\\\\"></i></a></div>\\\\n  </div>\\\\n</div>\\\\n<div class=\\\\\"ui inverted divider\\\\\"></div><div class=\\\\\"company item\\\\\" data-company_id=\\\\\"34359\\\\\">\\\\n  <div class=\\\\\"logo image\\\\\">\\\\n    <a href=\\\\\"/companies/stipop/jobs\\\\\" target=\\\\\"_blank\\\\\">\\\\n      <div class=\\\\\"ui logo\\\\\">\\\\n        <img src=\\\\\"https://image.rocketpunch.com/company/34359/stipop-1_logo_1554646280.png?s=100x100&amp;t=inside\\\\\" alt=\\\\\"스티팝 logo\\\\\" class=\\\\\"ui image\\\\\">\\\\n      </div>\\\\n    </a>\\\\n  </div>\\\\n  <div class=\\\\\"content\\\\\">\\\\n\\\\n    <div class=\\\\\"ui right floated skip header\\\\\">\\\\n      <a data-modal=\\\\\"signup\\\\\">✕</a>\\\\n    </div>\\\\n    <div class=\\\\\"company-name\\\\\">\\\\n      <a href=\\\\\"/companies/stipop/jobs\\\\\" target=\\\\\"_blank\\\\\">\\\\n        <h4 class=\\\\\"header name\\\\\">          <strong>스티팝</strong>\\\\n          <small>(Stipop Inc.)</small>\\\\n</h4>\\\\n      </a><span class=\\\\\"ui small basic response recruit label\\\\\"><div data-content=\\\\\"7일 이내 지원 결과를 알려줄 확률이 90% 이상인 기업입니다.\\\\\" data-variation=\\\\\"inverted mini\\\\\">응답률 우수</div><div data-content=\\\\\"로켓펀치를 통해 채용한 기록이 있는 기업입니다.\\\\\" data-variation=\\\\\"inverted mini\\\\\">채용 우수</div></span><a class=\\\\\"reference-count\\\\\" data-url=\\\\\"/api/companies/34359/reference\\\\\" data-method=\\\\\"post\\\\\">\\\\n        <i class=\\\\\"ic-thumbup-outline icon\\\\\"></i>\\\\n        <span class=\\\\\"count\\\\\">8</span>\\\\n      </a></div>\\\\n    <div class=\\\\\"description\\\\\">White-label sticker API solution that empowers companies to provide great functional stickers&nbsp;</div>\\\\n    <div class=\\\\\"nowrap meta\\\\\">      모바일서비스 ∙ 웹서비스 ∙ 소프트웨어 ∙ 데이터 ∙ 플랫폼 ∙ 모바일 ∙ 콘텐츠 ∙ ios ∙ 소셜네트워크 ∙ 캐릭터 ∙ 메신저\\\\n</div><div class=\\\\\"applicants\\\\\">\\\\n  <div class=\\\\\"avatar-list\\\\\">\\\\n\\\\n<a href=\\\\\"/@hanjjang18\\\\\">\\\\n      <img src=\\\\\"https://image.rocketpunch.com/user/69510/69510_624b8edeaa41.jpg?s=35x35&amp;t=cover\\\\\" alt=\\\\\"\\\\\" class=\\\\\"ui mini circular image\\\\\">\\\\n    </a><a href=\\\\\"/@yhms090\\\\\">\\\\n      <img src=\\\\\"https://image.rocketpunch.com/user/191088/191088_1572527478.jpg?s=35x35&amp;t=cover\\\\\" alt=\\\\\"\\\\\" class=\\\\\"ui mini circular image\\\\\">\\\\n    </a><a href=\\\\\"/@gayoung2882\\\\\">\\\\n      <img src=\\\\\"https://image.rocketpunch.com/user/252208/252208_1582804794.jpeg?s=35x35&amp;t=cover\\\\\" alt=\\\\\"\\\\\" class=\\\\\"ui mini circular image\\\\\">\\\\n    </a><div class=\\\\\"mini masked item\\\\\">?</div>\\\\n  <div class=\\\\\"more item mini\\\\\"><span>+122</span></div>\\\\n\\\\n  </div>\\\\n\\\\n<span><a href=\\\\\"/companies/stipop/jobs/applicants\\\\\">125명 이상이 로켓펀치를 통해 지원</a></span>\\\\n    </div><div class=\\\\\"ui divider\\\\\"></div>\\\\n    <div class=\\\\\"company-jobs-detail\\\\\">\\\\n          <div class=\\\\\"job-detail\\\\\">\\\\n            <div>\\\\n              <a href=\\\\\"/jobs/68976/Data-Scientist\\\\\" target=\\\\\"_blank\\\\\" class=\\\\\"nowrap job-title primary link\\\\\">Data Scientist</a>\\\\n              <span class=\\\\\"job-stat-info\\\\\">경력</span>\\\\n              <a data-modal=\\\\\"login\\\\\" style=\\\\\"float:right\\\\\"><i class=\\\\\"ic-bookmark_outline icon\\\\\"></i></a>\\\\n            </div>\\\\n            <div class=\\\\\"job-dates\\\\\">\\\\n              <span>\\\\n                <i class=\\\\\"ic-calendar_new icon\\\\\"></i>                수시채용\\\\n</span><span>                03/11 수정\\\\n</span></div>\\\\n          </div>\\\\n</div>\\\\n  </div>\\\\n</div>\\\\n<div class=\\\\\"ui inverted divider\\\\\"></div><div class=\\\\\"company item\\\\\" data-company_id=\\\\\"6297\\\\\">\\\\n  <div class=\\\\\"logo image\\\\\">\\\\n    <a href=\\\\\"/companies/ryecatchers/jobs\\\\\" target=\\\\\"_blank\\\\\">\\\\n      <div class=\\\\\"ui logo\\\\\">\\\\n        <img src=\\\\\"https://image.rocketpunch.com/company/6297/ryecatchers_logo_1544176006.png?s=100x100&amp;t=inside\\\\\" alt=\\\\\"라이앤캐처스 logo\\\\\" class=\\\\\"ui image\\\\\">\\\\n      </div>\\\\n    </a>\\\\n  </div>\\\\n  <div class=\\\\\"content\\\\\">\\\\n\\\\n    <div class=\\\\\"ui right floated skip header\\\\\">\\\\n      <a data-modal=\\\\\"signup\\\\\">✕</a>\\\\n    </div>\\\\n    <div class=\\\\\"company-name\\\\\">\\\\n      <a href=\\\\\"/companies/ryecatchers/jobs\\\\\" target=\\\\\"_blank\\\\\">\\\\n        <h4 class=\\\\\"header name\\\\\">          <strong>라이앤캐처스</strong>\\\\n          <small>(Rye&amp;Catchers)</small>\\\\n</h4>\\\\n      </a><span class=\\\\\"ui small basic response recruit label\\\\\"><div data-content=\\\\\"7일 이내 지원 결과를 알려줄 확률이 90% 이상인 기업입니다.\\\\\" data-variation=\\\\\"inverted mini\\\\\">응답률 우수</div><div data-content=\\\\\"로켓펀치를 통해 채용한 기록이 있는 기업입니다.\\\\\" data-variation=\\\\\"inverted mini\\\\\">채용 우수</div></span><a class=\\\\\"reference-count\\\\\" data-url=\\\\\"/api/companies/6297/reference\\\\\" data-method=\\\\\"post\\\\\">\\\\n        <i class=\\\\\"ic-thumbup-outline icon\\\\\"></i>\\\\n        <span class=\\\\\"count\\\\\">16</span>\\\\n      </a></div>\\\\n    <div class=\\\\\"description\\\\\">머신러닝/인공지능을 활용한 개인화 취향 분석 및 컨텐츠 추천 기술을 연구합니다.&nbsp;</div>\\\\n    <div class=\\\\\"nowrap meta\\\\\">      모바일서비스 ∙ 웹서비스 ∙ 소프트웨어 ∙ 데이터 ∙ 모바일 ∙ 빅데이터 ∙ 인공지능 ∙ 머신러닝 ∙ 데이터분석 ∙ 큐레이션 ∙ 서버 ∙ 데이터마이닝 ∙ 추천 ∙ 컨텐츠유통 ∙ 도서추천서비스\\\\n</div><div class=\\\\\"applicants\\\\\">\\\\n  <div class=\\\\\"avatar-list\\\\\">\\\\n\\\\n<a href=\\\\\"/@yerang040231\\\\\">\\\\n      <img src=\\\\\"https://image.rocketpunch.com/images/user/user.png?s=35x35&amp;t=cover\\\\\" alt=\\\\\"\\\\\" class=\\\\\"ui mini circular image\\\\\">\\\\n    </a><a href=\\\\\"/@limdh3325\\\\\">\\\\n      <img src=\\\\\"https://image.rocketpunch.com/user/208257/208257_1554126578.jpg?s=35x35&amp;t=cover\\\\\" alt=\\\\\"\\\\\" class=\\\\\"ui mini circular image\\\\\">\\\\n    </a><a href=\\\\\"/@hjk8918\\\\\">\\\\n      <img src=\\\\\"https://image.rocketpunch.com/user/76733/76733_bee77774c4be.jpg?s=35x35&amp;t=cover\\\\\" alt=\\\\\"\\\\\" class=\\\\\"ui mini circular image\\\\\">\\\\n    </a><a href=\\\\\"/@superpeace\\\\\">\\\\n      <img src=\\\\\"https://image.rocketpunch.com/user/9631/9631_1530514824.jpg?s=35x35&amp;t=cover\\\\\" alt=\\\\\"\\\\\" class=\\\\\"ui mini circular image\\\\\">\\\\n    </a>\\\\n  <div class=\\\\\"more item mini\\\\\"><span>+193</span></div>\\\\n\\\\n  </div>\\\\n\\\\n<span><a href=\\\\\"/companies/ryecatchers/jobs/applicants\\\\\">195명 이상이 로켓펀치를 통해 지원</a></span>\\\\n    </div><div class=\\\\\"ui divider\\\\\"></div>\\\\n    <div class=\\\\\"company-jobs-detail\\\\\">\\\\n          <div class=\\\\\"job-detail\\\\\">\\\\n            <div>\\\\n              <a href=\\\\\"/jobs/39479/%EB%8D%B0%EC%9D%B4%ED%84%B0-%EC%97%94%EC%A7%80%EB%8B%88%EC%96%B4-%EB%8D%B0%EC%9D%B4%ED%84%B0-PM-%EC%9C%BC%EB%A1%9C-%EC%84%B1%EC%9E%A5%ED%95%98%EA%B3%A0-%EC%8B%B6%EC%9D%80-%EA%B0%9C%EB%B0%9C%EC%9E%90-%EC%A7%80%EB%B6%84-%EC%B0%B8%EC%97%AC\\\\\" target=\\\\\"_blank\\\\\" class=\\\\\"nowrap job-title primary link\\\\\">데이터 엔지니어 / 데이터 PM 으로 성장하고 싶은 개발자 (지분 참여)</a>\\\\n              <span class=\\\\\"job-stat-info\\\\\">최대 6,000만원 / 3.0% - 7.0% / 경력</span>\\\\n              <a data-modal=\\\\\"login\\\\\" style=\\\\\"float:right\\\\\"><i class=\\\\\"ic-bookmark_outline icon\\\\\"></i></a>\\\\n            </div>\\\\n            <div class=\\\\\"job-dates\\\\\">\\\\n              <span>\\\\n                <i class=\\\\\"ic-calendar_new icon\\\\\"></i>                03/31 마감\\\\n</span><span>                03/11 수정\\\\n</span></div>\\\\n          </div>\\\\n<div class=\\\\\"ui divider\\\\\" ></div>          <div class=\\\\\"job-detail\\\\\">\\\\n            <div>\\\\n              <a href=\\\\\"/jobs/4308/%EC%B6%94%EC%B2%9C%EC%97%94%EC%A7%84-Backend-%EA%B0%9C%EB%B0%9C-%EC%A7%80%EB%B6%84-%EC%B0%B8%EC%97%AC\\\\\" target=\\\\\"_blank\\\\\" class=\\\\\"nowrap job-title primary link\\\\\">추천엔진, Backend 개발 (지분 참여)</a>\\\\n              <span class=\\\\\"job-stat-info\\\\\">최소 5,000만원 / 1.0% - 3.0% / 경력</span>\\\\n              <a data-modal=\\\\\"login\\\\\" style=\\\\\"float:right\\\\\"><i class=\\\\\"ic-bookmark_outline icon\\\\\"></i></a>\\\\n            </div>\\\\n            <div class=\\\\\"job-dates\\\\\">\\\\n              <span>\\\\n                <i class=\\\\\"ic-calendar_new icon\\\\\"></i>                수시채용\\\\n</span><span>                02/07 수정\\\\n</span></div>\\\\n          </div>\\\\n</div>\\\\n  </div>\\\\n</div>\\\\n<div class=\\\\\"ui inverted divider\\\\\"></div><div class=\\\\\"company item\\\\\" data-company_id=\\\\\"5137\\\\\">\\\\n  <div class=\\\\\"logo image\\\\\">\\\\n    <a href=\\\\\"/companies/idve/jobs\\\\\" target=\\\\\"_blank\\\\\">\\\\n      <div class=\\\\\"ui logo\\\\\">\\\\n        <img src=\\\\\"https://image.rocketpunch.com/company/5137/idve_logo_1511959631.png?s=100x100&amp;t=inside\\\\\" alt=\\\\\"아이디브 logo\\\\\" class=\\\\\"ui image\\\\\">\\\\n      </div>\\\\n    </a>\\\\n  </div>\\\\n  <div class=\\\\\"content\\\\\">\\\\n\\\\n    <div class=\\\\\"ui right floated skip header\\\\\">\\\\n      <a data-modal=\\\\\"signup\\\\\">✕</a>\\\\n    </div>\\\\n    <div class=\\\\\"company-name\\\\\">\\\\n      <a href=\\\\\"/companies/idve/jobs\\\\\" target=\\\\\"_blank\\\\\">\\\\n        <h4 class=\\\\\"header name\\\\\">          <strong>아이디브</strong>\\\\n          <small>(IDVE)</small>\\\\n</h4>\\\\n      </a><span class=\\\\\"ui small basic response recruit label\\\\\"><div data-content=\\\\\"7일 이내 지원 결과를 알려줄 확률이 90% 이상인 기업입니다.\\\\\" data-variation=\\\\\"inverted mini\\\\\">응답률 우수</div><div data-content=\\\\\"로켓펀치를 통해 채용한 기록이 있는 기업입니다.\\\\\" data-variation=\\\\\"inverted mini\\\\\">채용 우수</div></span><a class=\\\\\"reference-count\\\\\" data-url=\\\\\"/api/companies/5137/reference\\\\\" data-method=\\\\\"post\\\\\">\\\\n        <i class=\\\\\"ic-thumbup-outline icon\\\\\"></i>\\\\n        <span class=\\\\\"count\\\\\">7</span>\\\\n      </a></div>\\\\n    <div class=\\\\\"description\\\\\">심플! 편안한 해외직구 애프터바이! 국내 오픈마켓 같은 해외직구 서비스&nbsp;</div>\\\\n    <div class=\\\\\"nowrap meta\\\\\">      모바일서비스 ∙ 웹서비스 ∙ 마케팅 ∙ 데이터 ∙ 빅데이터 ∙ 모바일앱 ∙ 데이터분석 ∙ 해외직구 ∙ 통계분석\\\\n</div><div class=\\\\\"applicants\\\\\">\\\\n  <div class=\\\\\"avatar-list\\\\\">\\\\n\\\\n<div class=\\\\\"mini masked item\\\\\">?</div><div class=\\\\\"mini masked item\\\\\">?</div><div class=\\\\\"mini masked item\\\\\">?</div><div class=\\\\\"mini masked item\\\\\">?</div>\\\\n  <div class=\\\\\"more item mini\\\\\"><span>+321</span></div>\\\\n\\\\n  </div>\\\\n\\\\n<span><a href=\\\\\"/companies/idve/jobs/applicants\\\\\">325명 이상이 로켓펀치를 통해 지원</a></span>\\\\n    </div><div class=\\\\\"ui divider\\\\\"></div>\\\\n    <div class=\\\\\"company-jobs-detail\\\\\">\\\\n          <div class=\\\\\"job-detail\\\\\">\\\\n            <div>\\\\n              <a href=\\\\\"/jobs/69882/%ED%95%B4%EC%99%B8%EC%A7%81%EA%B5%AC-%EC%95%A0%ED%94%84%ED%84%B0%EB%B0%94%EC%9D%B4-PythonReact-%EA%B0%9C%EB%B0%9C%EC%9E%90-%EB%AA%A8%EC%8B%AD%EB%8B%88%EB%8B%A4\\\\\" target=\\\\\"_blank\\\\\" class=\\\\\"nowrap job-title primary link\\\\\">해외직구 애프터바이 [Python,React 개발자] 모십니다!</a>\\\\n              <span class=\\\\\"job-stat-info\\\\\">최대 9,000만원 / 최대 3.0% / 경력</span>\\\\n              <a data-modal=\\\\\"login\\\\\" style=\\\\\"float:right\\\\\"><i class=\\\\\"ic-bookmark_outline icon\\\\\"></i></a>\\\\n            </div>\\\\n            <div class=\\\\\"job-dates\\\\\">\\\\n              <span>\\\\n                <i class=\\\\\"ic-calendar_new icon\\\\\"></i>                03/21 마감\\\\n</span><span>                03/10 수정\\\\n</span></div>\\\\n          </div>\\\\n</div>\\\\n  </div>\\\\n</div>\\\\n<div class=\\\\\"ui inverted divider\\\\\"></div><div class=\\\\\"company item\\\\\" data-company_id=\\\\\"1654\\\\\">\\\\n  <div class=\\\\\"logo image\\\\\">\\\\n    <a href=\\\\\"/companies/mtov/jobs\\\\\" target=\\\\\"_blank\\\\\">\\\\n      <div class=\\\\\"ui logo\\\\\">\\\\n        <img src=\\\\\"https://image.rocketpunch.com/company/1654/10/mtov_logo.png?s=100x100&amp;t=inside\\\\\" alt=\\\\\"엠투브 logo\\\\\" class=\\\\\"ui image\\\\\">\\\\n      </div>\\\\n    </a>\\\\n  </div>\\\\n  <div class=\\\\\"content\\\\\">\\\\n\\\\n    <div class=\\\\\"ui right floated skip header\\\\\">\\\\n      <a data-modal=\\\\\"signup\\\\\">✕</a>\\\\n    </div>\\\\n    <div class=\\\\\"company-name\\\\\">\\\\n      <a href=\\\\\"/companies/mtov/jobs\\\\\" target=\\\\\"_blank\\\\\">\\\\n        <h4 class=\\\\\"header name\\\\\">          <strong>엠투브</strong>\\\\n          <small>(MtoV)</small>\\\\n</h4>\\\\n      </a><span class=\\\\\"ui small basic recruit label\\\\\"><div data-content=\\\\\"로켓펀치를 통해 채용한 기록이 있는 기업입니다.\\\\\" data-variation=\\\\\"inverted mini\\\\\">채용 우수</div></span><a class=\\\\\"reference-count\\\\\" data-url=\\\\\"/api/companies/1654/reference\\\\\" data-method=\\\\\"post\\\\\">\\\\n        <i class=\\\\\"ic-thumbup-outline icon\\\\\"></i>\\\\n        <span class=\\\\\"count\\\\\">4</span>\\\\n      </a></div>\\\\n    <div class=\\\\\"description\\\\\">강력한 기술과 재미있는 생각으로 드라이빙 라이프를 혁신하는 기업&nbsp;</div>\\\\n    <div class=\\\\\"nowrap meta\\\\\">      모바일서비스 ∙ 웹서비스 ∙ 마케팅 ∙ 소프트웨어 ∙ 모바일게임 ∙ 데이터 ∙ 게임 ∙ 하드웨어 ∙ 앱 ∙ 자동차 ∙ 안드로이드 ∙ 개발 ∙ 소셜 ∙ SW ∙ 네트워크 ∙ HW ∙ 커넥티드카 ∙ 스마트카 ∙ 애플\\\\n</div><div class=\\\\\"applicants\\\\\">\\\\n  <div class=\\\\\"avatar-list\\\\\">\\\\n\\\\n<div class=\\\\\"mini masked item\\\\\">?</div><div class=\\\\\"mini masked item\\\\\">?</div><div class=\\\\\"mini masked item\\\\\">?</div><div class=\\\\\"mini masked item\\\\\">?</div>\\\\n  <div class=\\\\\"more item mini\\\\\"><span>+300</span></div>\\\\n\\\\n  </div>\\\\n\\\\n<span><a href=\\\\\"/companies/mtov/jobs/applicants\\\\\">300명 이상이 로켓펀치를 통해 지원</a></span>\\\\n    </div><div class=\\\\\"ui divider\\\\\"></div>\\\\n    <div class=\\\\\"company-jobs-detail\\\\\">\\\\n          <div class=\\\\\"job-detail\\\\\">\\\\n            <div>\\\\n              <a href=\\\\\"/jobs/57749/%EC%98%81%EC%83%81%EC%B2%98%EB%A6%AC%EB%B9%85%EB%8D%B0%EC%9D%B4%ED%84%B0%EC%95%88%EB%93%9C%EB%A1%9C%EC%9D%B4%EB%93%9CIOS%EC%84%9C%EB%B2%84-%EB%B6%84%EC%95%BC-%EA%B0%9C%EB%B0%9C%EC%9E%90-%EB%AA%A8%EC%A7%91\\\\\" target=\\\\\"_blank\\\\\" class=\\\\\"nowrap job-title primary link\\\\\">영상처리/빅데이터/안드로이드/IOS/서버 분야 개발자 모집</a>\\\\n              <span class=\\\\\"job-stat-info\\\\\">2,400 - 10,000만원 / 인턴, 신입, 경력</span>\\\\n              <a data-modal=\\\\\"login\\\\\" style=\\\\\"float:right\\\\\"><i class=\\\\\"ic-bookmark_outline icon\\\\\"></i></a>\\\\n            </div>\\\\n            <div class=\\\\\"job-dates\\\\\">\\\\n              <span>\\\\n                <i class=\\\\\"ic-calendar_new icon\\\\\"></i>                03/31 마감\\\\n</span><span>                03/09 수정\\\\n</span></div>\\\\n          </div>\\\\n</div>\\\\n  </div>\\\\n</div>\\\\n<div class=\\\\\"ui inverted divider\\\\\"></div><div class=\\\\\"company item\\\\\" data-company_id=\\\\\"6047\\\\\">\\\\n  <div class=\\\\\"logo image\\\\\">\\\\n    <a href=\\\\\"/companies/mathpresso/jobs\\\\\" target=\\\\\"_blank\\\\\">\\\\n      <div class=\\\\\"ui logo\\\\\">\\\\n        <img src=\\\\\"https://image.rocketpunch.com/company/6047/mathpresso_logo_1502252970.jpg?s=100x100&amp;t=inside\\\\\" alt=\\\\\"매스프레소 logo\\\\\" class=\\\\\"ui image\\\\\">\\\\n      </div>\\\\n    </a>\\\\n  </div>\\\\n  <div class=\\\\\"content\\\\\">\\\\n\\\\n    <div class=\\\\\"ui right floated skip header\\\\\">\\\\n      <a data-modal=\\\\\"signup\\\\\">✕</a>\\\\n    </div>\\\\n    <div class=\\\\\"company-name\\\\\">\\\\n      <a href=\\\\\"/companies/mathpresso/jobs\\\\\" target=\\\\\"_blank\\\\\">\\\\n        <h4 class=\\\\\"header name\\\\\">          <strong>매스프레소</strong>\\\\n          <small>(Mathpresso)</small>\\\\n</h4>\\\\n      </a><span class=\\\\\"ui small basic response recruit label\\\\\"><div data-content=\\\\\"7일 이내 지원 결과를 알려줄 확률이 90% 이상인 기업입니다.\\\\\" data-variation=\\\\\"inverted mini\\\\\">응답률 우수</div><div data-content=\\\\\"로켓펀치를 통해 채용한 기록이 있는 기업입니다.\\\\\" data-variation=\\\\\"inverted mini\\\\\">채용 우수</div></span><a class=\\\\\"reference-count\\\\\" data-url=\\\\\"/api/companies/6047/reference\\\\\" data-method=\\\\\"post\\\\\">\\\\n        <i class=\\\\\"ic-thumbup-outline icon\\\\\"></i>\\\\n        <span class=\\\\\"count\\\\\">29</span>\\\\n      </a></div>\\\\n    <div class=\\\\\"description\\\\\">We Rebuild Education&nbsp;</div>\\\\n    <div class=\\\\\"nowrap meta\\\\\">      모바일서비스 ∙ 소프트웨어 ∙ 데이터 ∙ 교육 ∙ 모바일앱 ∙ AI ∙ 앱개발 ∙ 머신러닝 ∙ IT/인공지능 ∙ 딥러닝 ∙ 에듀테크 ∙ 수학 ∙ OCR\\\\n</div><div class=\\\\\"applicants\\\\\">\\\\n  <div class=\\\\\"avatar-list\\\\\">\\\\n\\\\n<a href=\\\\\"/@l1218yj2\\\\\">\\\\n      <img src=\\\\\"https://image.rocketpunch.com/user/14199/14199_1544617878.jpg?s=35x35&amp;t=cover\\\\\" alt=\\\\\"\\\\\" class=\\\\\"ui mini circular image\\\\\">\\\\n    </a><div class=\\\\\"mini masked item\\\\\">?</div><div class=\\\\\"mini masked item\\\\\">?</div><div class=\\\\\"mini masked item\\\\\">?</div>\\\\n  <div class=\\\\\"more item mini\\\\\"><span>+319</span></div>\\\\n\\\\n  </div>\\\\n\\\\n<span><a href=\\\\\"/companies/mathpresso/jobs/applicants\\\\\">320명 이상이 로켓펀치를 통해 지원</a></span>\\\\n    </div><div class=\\\\\"ui divider\\\\\"></div>\\\\n    <div class=\\\\\"company-jobs-detail\\\\\">\\\\n          <div class=\\\\\"job-detail\\\\\">\\\\n            <div>\\\\n              <a href=\\\\\"/jobs/70589/Math-Engine-Developer\\\\\" target=\\\\\"_blank\\\\\" class=\\\\\"nowrap job-title primary link\\\\\">Math Engine Developer</a>\\\\n              <span class=\\\\\"job-stat-info\\\\\">3,500 - 6,000만원 / 인턴, 신입, 경력</span>\\\\n              <a data-modal=\\\\\"login\\\\\" style=\\\\\"float:right\\\\\"><i class=\\\\\"ic-bookmark_outline icon\\\\\"></i></a>\\\\n            </div>\\\\n            <div class=\\\\\"job-dates\\\\\">\\\\n              <span>\\\\n                <i class=\\\\\"ic-calendar_new icon\\\\\"></i>                03/31 마감\\\\n</span><span>                03/07 등록\\\\n</span></div>\\\\n          </div>\\\\n</div>\\\\n  </div>\\\\n</div>\\\\n<div class=\\\\\"ui inverted divider\\\\\"></div><div class=\\\\\"company item\\\\\" data-company_id=\\\\\"20367\\\\\">\\\\n  <div class=\\\\\"logo image\\\\\">\\\\n    <a href=\\\\\"/companies/laftel-inc/jobs\\\\\" target=\\\\\"_blank\\\\\">\\\\n      <div class=\\\\\"ui logo\\\\\">\\\\n        <img src=\\\\\"https://image.rocketpunch.com/company/20367/laftel-inc_logo_1542782651.png?s=100x100&amp;t=inside\\\\\" alt=\\\\\"리디(주) - 라프텔 사업본부 logo\\\\\" class=\\\\\"ui image\\\\\">\\\\n      </div>\\\\n    </a>\\\\n  </div>\\\\n  <div class=\\\\\"content\\\\\">\\\\n\\\\n    <div class=\\\\\"ui right floated skip header\\\\\">\\\\n      <a data-modal=\\\\\"signup\\\\\">✕</a>\\\\n    </div>\\\\n    <div class=\\\\\"company-name\\\\\">\\\\n      <a href=\\\\\"/companies/laftel-inc/jobs\\\\\" target=\\\\\"_blank\\\\\">\\\\n        <h4 class=\\\\\"header name\\\\\">          <strong>리디(주) - 라프텔 사업본부</strong>\\\\n          <small>(Ridi Corporation - Laftel dept.)</small>\\\\n</h4>\\\\n      </a><span class=\\\\\"ui small basic response recruit label\\\\\"><div data-content=\\\\\"7일 이내 지원 결과를 알려줄 확률이 90% 이상인 기업입니다.\\\\\" data-variation=\\\\\"inverted mini\\\\\">응답률 우수</div><div data-content=\\\\\"로켓펀치를 통해 채용한 기록이 있는 기업입니다.\\\\\" data-variation=\\\\\"inverted mini\\\\\">채용 우수</div></span><a class=\\\\\"reference-count\\\\\" data-url=\\\\\"/api/companies/20367/reference\\\\\" data-method=\\\\\"post\\\\\">\\\\n        <i class=\\\\\"ic-thumbup-outline icon\\\\\"></i>\\\\n        <span class=\\\\\"count\\\\\">25</span>\\\\n      </a></div>\\\\n    <div class=\\\\\"description\\\\\">애니메이션을 합법적으로 무료로 감상할 수 있는 서비스&nbsp;</div>\\\\n    <div class=\\\\\"nowrap meta\\\\\">      모바일서비스 ∙ 웹서비스 ∙ 마케팅 ∙ 데이터 ∙ 빅데이터 ∙ BigData ∙ 애니메이션 ∙ 컨텐츠.스트리밍.방송 ∙ 동영상스트리밍 ∙ 개인화추천 ∙ 스트리밍 ∙ 만화추천 ∙ 애니추천 ∙ AnimationRecommenda ∙ PersonalDrawingsRe\\\\n</div><div class=\\\\\"applicants\\\\\">\\\\n  <div class=\\\\\"avatar-list\\\\\">\\\\n\\\\n<a href=\\\\\"/@hanvitkang\\\\\">\\\\n      <img src=\\\\\"https://image.rocketpunch.com/user/31009/31009_4813985b43da.jpg?s=35x35&amp;t=cover\\\\\" alt=\\\\\"\\\\\" class=\\\\\"ui mini circular image\\\\\">\\\\n    </a><a href=\\\\\"/@wayhome25\\\\\">\\\\n      <img src=\\\\\"https://image.rocketpunch.com/user/49622/49622_1494122317.jpg?s=35x35&amp;t=cover\\\\\" alt=\\\\\"\\\\\" class=\\\\\"ui mini circular image\\\\\">\\\\n    </a><a href=\\\\\"/@merong0704\\\\\">\\\\n      <img src=\\\\\"https://image.rocketpunch.com/images/user/user.png?s=35x35&amp;t=cover\\\\\" alt=\\\\\"\\\\\" class=\\\\\"ui mini circular image\\\\\">\\\\n    </a><a href=\\\\\"/@withsangseung\\\\\">\\\\n      <img src=\\\\\"https://image.rocketpunch.com/user/184921/184921_1542945163.jpg?s=35x35&amp;t=cover\\\\\" alt=\\\\\"\\\\\" class=\\\\\"ui mini circular image\\\\\">\\\\n    </a>\\\\n  <div class=\\\\\"more item mini\\\\\"><span>+330</span></div>\\\\n\\\\n  </div>\\\\n\\\\n<span><a href=\\\\\"/companies/laftel-inc/jobs/applicants\\\\\">330명 이상이 로켓펀치를 통해 지원</a></span>\\\\n    </div><div class=\\\\\"ui divider\\\\\"></div>\\\\n    <div class=\\\\\"company-jobs-detail\\\\\">\\\\n          <div class=\\\\\"job-detail\\\\\">\\\\n            <div>\\\\n              <a href=\\\\\"/jobs/63669/%EC%84%9C%EB%B2%84%EB%B0%B1%EC%97%94%EB%93%9C-%EA%B0%9C%EB%B0%9C%EC%9E%90\\\\\" target=\\\\\"_blank\\\\\" class=\\\\\"nowrap job-title primary link\\\\\">서버(백엔드) 개발자</a>\\\\n              <span class=\\\\\"job-stat-info\\\\\">4,000 - 10,000만원 / 경력</span>\\\\n              <a data-modal=\\\\\"login\\\\\" style=\\\\\"float:right\\\\\"><i class=\\\\\"ic-bookmark_outline icon\\\\\"></i></a>\\\\n            </div>\\\\n            <div class=\\\\\"job-dates\\\\\">\\\\n              <span>\\\\n                <i class=\\\\\"ic-calendar_new icon\\\\\"></i>                12/31 마감\\\\n</span><span>                03/06 수정\\\\n</span></div>\\\\n          </div>\\\\n</div>\\\\n  </div>\\\\n</div>\\\\n<div class=\\\\\"ui inverted divider\\\\\"></div><div class=\\\\\"company item\\\\\" data-company_id=\\\\\"12588\\\\\">\\\\n  <div class=\\\\\"logo image\\\\\">\\\\n    <a href=\\\\\"/companies/ab180/jobs\\\\\" target=\\\\\"_blank\\\\\">\\\\n      <div class=\\\\\"ui logo\\\\\">\\\\n        <img src=\\\\\"https://image.rocketpunch.com/company/12588/ab180_logo_1576477485.png?s=100x100&amp;t=inside\\\\\" alt=\\\\\"에이비일팔공 logo\\\\\" class=\\\\\"ui image\\\\\">\\\\n      </div>\\\\n    </a>\\\\n  </div>\\\\n  <div class=\\\\\"content\\\\\">\\\\n\\\\n    <div class=\\\\\"ui right floated skip header\\\\\">\\\\n      <a data-modal=\\\\\"signup\\\\\">✕</a>\\\\n    </div>\\\\n    <div class=\\\\\"company-name\\\\\">\\\\n      <a href=\\\\\"/companies/ab180/jobs\\\\\" target=\\\\\"_blank\\\\\">\\\\n        <h4 class=\\\\\"header name\\\\\">          <strong>에이비일팔공</strong>\\\\n          <small>(AB180)</small>\\\\n</h4>\\\\n      </a><span class=\\\\\"ui small basic recruit label\\\\\"><div data-content=\\\\\"로켓펀치를 통해 채용한 기록이 있는 기업입니다.\\\\\" data-variation=\\\\\"inverted mini\\\\\">채용 우수</div></span><a class=\\\\\"reference-count\\\\\" data-url=\\\\\"/api/companies/12588/reference\\\\\" data-method=\\\\\"post\\\\\">\\\\n        <i class=\\\\\"ic-thumbup-outline icon\\\\\"></i>\\\\n        <span class=\\\\\"count\\\\\">31</span>\\\\n      </a></div>\\\\n    <div class=\\\\\"description\\\\\">Maximizing Data. Maximizing Performance.&nbsp;</div>\\\\n    <div class=\\\\\"nowrap meta\\\\\">      웹서비스 ∙ 마케팅 ∙ 소프트웨어 ∙ 데이터 ∙ 모바일 ∙ 빅데이터 ∙ 블록체인 ∙ 광고 ∙ 블록체인/소프트웨어 ∙ 빅데이터분석 ∙ 모바일광고 ∙ 광고플랫폼 ∙ 빅데이터솔루션 ∙ 블록체인/비트코인/소프트웨어 ∙ 블럭체인/블록체인 ∙ 검색엔진 ∙ 빅데이터처리 ∙ SDK ∙ analytics ∙ 검색엔진최적화\\\\n</div><div class=\\\\\"applicants\\\\\">\\\\n  <div class=\\\\\"avatar-list\\\\\">\\\\n\\\\n<a href=\\\\\"/@jaemoon\\\\\">\\\\n      <img src=\\\\\"https://image.rocketpunch.com/user/62399/62399_1492502984.jpg?s=35x35&amp;t=cover\\\\\" alt=\\\\\"\\\\\" class=\\\\\"ui mini circular image\\\\\">\\\\n    </a><div class=\\\\\"mini masked item\\\\\">?</div><div class=\\\\\"mini masked item\\\\\">?</div><div class=\\\\\"mini masked item\\\\\">?</div>\\\\n  <div class=\\\\\"more item mini\\\\\"><span>+244</span></div>\\\\n\\\\n  </div>\\\\n\\\\n<span><a href=\\\\\"/companies/ab180/jobs/applicants\\\\\">245명 이상이 로켓펀치를 통해 지원</a></span>\\\\n    </div><div class=\\\\\"ui divider\\\\\"></div>\\\\n    <div class=\\\\\"company-jobs-detail\\\\\">\\\\n          <div class=\\\\\"job-detail\\\\\">\\\\n            <div>\\\\n              <a href=\\\\\"/jobs/42600/%EB%8D%B0%EC%9D%B4%ED%84%B0-%EC%97%94%EC%A7%80%EB%8B%88%EC%96%B4\\\\\" target=\\\\\"_blank\\\\\" class=\\\\\"nowrap job-title primary link\\\\\">데이터 엔지니어</a>\\\\n              <span class=\\\\\"job-stat-info\\\\\">6,000 - 120,000만원 / 경력</span>\\\\n              <a data-modal=\\\\\"login\\\\\" style=\\\\\"float:right\\\\\"><i class=\\\\\"ic-bookmark_outline icon\\\\\"></i></a>\\\\n            </div>\\\\n            <div class=\\\\\"job-dates\\\\\">\\\\n              <span>\\\\n                <i class=\\\\\"ic-calendar_new icon\\\\\"></i>                07/31 마감\\\\n</span><span>                03/04 수정\\\\n</span></div>\\\\n          </div>\\\\n</div>\\\\n  </div>\\\\n</div>\\\\n<div class=\\\\\"ui inverted divider\\\\\"></div><div class=\\\\\"company item\\\\\" data-company_id=\\\\\"20527\\\\\">\\\\n  <div class=\\\\\"logo image\\\\\">\\\\n    <a href=\\\\\"/companies/elice/jobs\\\\\" target=\\\\\"_blank\\\\\">\\\\n      <div class=\\\\\"ui logo\\\\\">\\\\n        <img src=\\\\\"https://image.rocketpunch.com/company/20527/elice_logo_1551772820.png?s=100x100&amp;t=inside\\\\\" alt=\\\\\"엘리스 logo\\\\\" class=\\\\\"ui image\\\\\">\\\\n      </div>\\\\n    </a>\\\\n  </div>\\\\n  <div class=\\\\\"content\\\\\">\\\\n\\\\n    <div class=\\\\\"ui right floated skip header\\\\\">\\\\n      <a data-modal=\\\\\"signup\\\\\">✕</a>\\\\n    </div>\\\\n    <div class=\\\\\"company-name\\\\\">\\\\n      <a href=\\\\\"/companies/elice/jobs\\\\\" target=\\\\\"_blank\\\\\">\\\\n        <h4 class=\\\\\"header name\\\\\">          <strong>엘리스</strong>\\\\n          <small>(Elice)</small>\\\\n</h4>\\\\n      </a><span class=\\\\\"ui small basic response recruit label\\\\\"><div data-content=\\\\\"7일 이내 지원 결과를 알려줄 확률이 90% 이상인 기업입니다.\\\\\" data-variation=\\\\\"inverted mini\\\\\">응답률 우수</div><div data-content=\\\\\"로켓펀치를 통해 채용한 기록이 있는 기업입니다.\\\\\" data-variation=\\\\\"inverted mini\\\\\">채용 우수</div></span><a class=\\\\\"reference-count\\\\\" data-url=\\\\\"/api/companies/20527/reference\\\\\" data-method=\\\\\"post\\\\\">\\\\n        <i class=\\\\\"ic-thumbup-outline icon\\\\\"></i>\\\\n        <span class=\\\\\"count\\\\\">22</span>\\\\n      </a></div>\\\\n    <div class=\\\\\"description\\\\\">엘리스는 온라인 프로그래밍 교육 플랫폼입니다&nbsp;</div>\\\\n    <div class=\\\\\"nowrap meta\\\\\">      웹서비스 ∙ 소프트웨어 ∙ 데이터 ∙ 소프트웨어개발/서비스 ∙ 온라인플랫폼 ∙ 웹디자인 ∙ 머신러닝 ∙ IT/인공지능 ∙ 앱/웹서비스 ∙ 모바일/웹 ∙ 코딩교육 ∙ SW플랫폼 ∙ 데이터사이언스 ∙ 소프트웨어코딩교육 ∙ 취업교육 ∙ 온라인코딩테스트 ∙ 개발자채용\\\\n</div><div class=\\\\\"applicants\\\\\">\\\\n  <div class=\\\\\"avatar-list\\\\\">\\\\n\\\\n<a href=\\\\\"/@letsco0206\\\\\">\\\\n      <img src=\\\\\"https://image.rocketpunch.com/user/106582/106582_1534504136.jpg?s=35x35&amp;t=cover\\\\\" alt=\\\\\"\\\\\" class=\\\\\"ui mini circular image\\\\\">\\\\n    </a><a href=\\\\\"/@018d9ee87cb04ede\\\\\">\\\\n      <img src=\\\\\"https://image.rocketpunch.com/user/146602/146602_1524222735.jpg?s=35x35&amp;t=cover\\\\\" alt=\\\\\"\\\\\" class=\\\\\"ui mini circular image\\\\\">\\\\n    </a><a href=\\\\\"/@cddc466cc138400f\\\\\">\\\\n      <img src=\\\\\"https://image.rocketpunch.com/user/140520/140520_1552223120.jpg?s=35x35&amp;t=cover\\\\\" alt=\\\\\"\\\\\" class=\\\\\"ui mini circular image\\\\\">\\\\n    </a><a href=\\\\\"/@sulki914\\\\\">\\\\n      <img src=\\\\\"https://image.rocketpunch.com/user/55544/55544_1547443177.jpg?s=35x35&amp;t=cover\\\\\" alt=\\\\\"\\\\\" class=\\\\\"ui mini circular image\\\\\">\\\\n    </a>\\\\n  <div class=\\\\\"more item mini\\\\\"><span>+364</span></div>\\\\n\\\\n  </div>\\\\n\\\\n<span><a href=\\\\\"/companies/elice/jobs/applicants\\\\\">365명 이상이 로켓펀치를 통해 지원</a></span>\\\\n    </div><div class=\\\\\"ui divider\\\\\"></div>\\\\n    <div class=\\\\\"company-jobs-detail\\\\\">\\\\n          <div class=\\\\\"job-detail\\\\\">\\\\n            <div>\\\\n              <a href=\\\\\"/jobs/44644/%EC%BB%A8%ED%85%90%EC%B8%A0-%EA%B0%9C%EB%B0%9C%EC%9E%90Contents-SW-Engineer%EC%A0%84%EB%AC%B8%EC%97%B0%EA%B5%AC%EC%9A%94%EC%9B%90-%EC%A7%80%EC%9B%90%EA%B0%80%EB%8A%A5\\\\\" target=\\\\\"_blank\\\\\" class=\\\\\"nowrap job-title primary link\\\\\">컨텐츠 개발자(Contents SW Engineer/전문연구요원 지원가능)</a>\\\\n              <span class=\\\\\"job-stat-info\\\\\">2,800 - 5,500만원 / 신입, 경력</span>\\\\n              <a data-modal=\\\\\"login\\\\\" style=\\\\\"float:right\\\\\"><i class=\\\\\"ic-bookmark_outline icon\\\\\"></i></a>\\\\n            </div>\\\\n            <div class=\\\\\"job-dates\\\\\">\\\\n              <span>\\\\n                <i class=\\\\\"ic-calendar_new icon\\\\\"></i>                12/31 마감\\\\n</span><span>                02/27 수정\\\\n</span></div>\\\\n          </div>\\\\n<div class=\\\\\"ui divider\\\\\" ></div>          <div class=\\\\\"job-detail\\\\\">\\\\n            <div>\\\\n              <a href=\\\\\"/jobs/30704/%EB%B0%B1%EC%97%94%EB%93%9C-%EA%B0%9C%EB%B0%9C%EC%9E%90Backend-Software-Engineer%EC%A0%84%EB%AC%B8%EC%97%B0%EA%B5%AC%EC%9A%94%EC%9B%90-%EC%A7%80%EC%9B%90%EA%B0%80%EB%8A%A5\\\\\" target=\\\\\"_blank\\\\\" class=\\\\\"nowrap job-title primary link\\\\\">백엔드 개발자(Backend Software Engineer/전문연구요원 지원가능)</a>\\\\n              <span class=\\\\\"job-stat-info\\\\\">3,200 - 6,000만원 / 최대 1.0% / 신입, 경력</span>\\\\n              <a data-modal=\\\\\"login\\\\\" style=\\\\\"float:right\\\\\"><i class=\\\\\"ic-bookmark_outline icon\\\\\"></i></a>\\\\n            </div>\\\\n            <div class=\\\\\"job-dates\\\\\">\\\\n              <span>\\\\n                <i class=\\\\\"ic-calendar_new icon\\\\\"></i>                03/28 마감\\\\n</span><span>                03/03 수정\\\\n</span></div>\\\\n          </div>\\\\n</div>\\\\n  </div>\\\\n</div>\\\\n<div class=\\\\\"ui inverted divider\\\\\"></div><div class=\\\\\"company item\\\\\" data-company_id=\\\\\"13158\\\\\">\\\\n  <div class=\\\\\"logo image\\\\\">\\\\n    <a href=\\\\\"/companies/dataking/jobs\\\\\" target=\\\\\"_blank\\\\\">\\\\n      <div class=\\\\\"ui logo\\\\\">\\\\n        <img src=\\\\\"https://image.rocketpunch.com/company/13158/dataking_logo_1554911997.png?s=100x100&amp;t=inside\\\\\" alt=\\\\\"데이터킹 logo\\\\\" class=\\\\\"ui image\\\\\">\\\\n      </div>\\\\n    </a>\\\\n  </div>\\\\n  <div class=\\\\\"content\\\\\">\\\\n\\\\n    <div class=\\\\\"ui right floated skip header\\\\\">\\\\n      <a data-modal=\\\\\"signup\\\\\">✕</a>\\\\n    </div>\\\\n    <div class=\\\\\"company-name\\\\\">\\\\n      <a href=\\\\\"/companies/dataking/jobs\\\\\" target=\\\\\"_blank\\\\\">\\\\n        <h4 class=\\\\\"header name\\\\\">          <strong>데이터킹</strong>\\\\n          <small>(DATAKING)</small>\\\\n</h4>\\\\n      </a><span class=\\\\\"ui small basic response label\\\\\"><div data-content=\\\\\"7일 이내 지원 결과를 알려줄 확률이 90% 이상인 기업입니다.\\\\\" data-variation=\\\\\"inverted mini\\\\\">응답률 우수</div></span><a class=\\\\\"reference-count\\\\\" data-url=\\\\\"/api/companies/13158/reference\\\\\" data-method=\\\\\"post\\\\\">\\\\n        <i class=\\\\\"ic-thumbup-outline icon\\\\\"></i>\\\\n        <span class=\\\\\"count\\\\\">2</span>\\\\n      </a></div>\\\\n    <div class=\\\\\"description\\\\\">데이터킹(주)은 360°VR 및 빅데이터 융합기술벤처기업입니다&nbsp;</div>\\\\n    <div class=\\\\\"nowrap meta\\\\\">      모바일서비스 ∙ 웹서비스 ∙ 마케팅 ∙ 소프트웨어 ∙ 데이터 ∙ 빅데이터 ∙ 전자상거래 ∙ VR/AR ∙ 360vr\\\\n</div><div class=\\\\\"applicants\\\\\">\\\\n  <div class=\\\\\"avatar-list\\\\\">\\\\n\\\\n<div class=\\\\\"mini masked item\\\\\">?</div><div class=\\\\\"mini masked item\\\\\">?</div><div class=\\\\\"mini masked item\\\\\">?</div><div class=\\\\\"mini masked item\\\\\">?</div>\\\\n  <div class=\\\\\"more item mini\\\\\"><span>+42</span></div>\\\\n\\\\n  </div>\\\\n\\\\n<span><a href=\\\\\"/companies/dataking/jobs/applicants\\\\\">45명 이상이 로켓펀치를 통해 지원</a></span>\\\\n    </div><div class=\\\\\"ui divider\\\\\"></div>\\\\n    <div class=\\\\\"company-jobs-detail\\\\\">\\\\n          <div class=\\\\\"job-detail\\\\\">\\\\n            <div>\\\\n              <a href=\\\\\"/jobs/55061/%EB%B0%B1%EC%95%A4%EB%93%9C-SW%EA%B0%9C%EB%B0%9C%EC%9E%90%EC%A0%95%EA%B7%9C%EC%A7%81\\\\\" target=\\\\\"_blank\\\\\" class=\\\\\"nowrap job-title primary link\\\\\">백앤드  S/W개발자(정규직)</a>\\\\n              <span class=\\\\\"job-stat-info\\\\\">신입, 경력</span>\\\\n              <a data-modal=\\\\\"login\\\\\" style=\\\\\"float:right\\\\\"><i class=\\\\\"ic-bookmark_outline icon\\\\\"></i></a>\\\\n            </div>\\\\n            <div class=\\\\\"job-dates\\\\\">\\\\n              <span>\\\\n                <i class=\\\\\"ic-calendar_new icon\\\\\"></i>                04/30 마감\\\\n</span><span>                03/03 수정\\\\n</span></div>\\\\n          </div>\\\\n<div class=\\\\\"ui divider\\\\\" ></div>          <div class=\\\\\"job-detail\\\\\">\\\\n            <div>\\\\n              <a href=\\\\\"/jobs/25780/AdonisJS-ReactJS-%EB%B0%8F-%EA%B8%B0%ED%83%80-%EB%8F%84%EA%B5%AC-%EB%B0%8F-%ED%94%84%EB%A0%88%EC%9E%84-%EC%9B%8C%ED%81%AC%EB%A5%BC-%EA%B8%B0%EB%B0%98%EC%9C%BC%EB%A1%9C-%EC%9B%B9-%ED%94%84%EB%A1%9C%EC%A0%9D%ED%8A%B8%EB%A5%BC-%EC%88%98%ED%96%89-%ED%95%A0-%EC%86%8C%ED%94%84%ED%8A%B8%EC%9B%A8%EC%96%B4-%EC%97%94%EC%A7%80%EB%8B%88%EC%96%B4%EB%A5%BC-%EC%B0%BE%EA%B3%A0-%EC%9E%88%EC%8A%B5%EB%8B%88%EB%8B%A4\\\\\" target=\\\\\"_blank\\\\\" class=\\\\\"nowrap job-title primary link\\\\\">- AdonisJS, ReactJS 및 기타 도구 및 프레임 워크를 기반으로 웹 프로젝트를 수행 할 소프트웨어 엔지니어를 찾고 있습니다</a>\\\\n              <span class=\\\\\"job-stat-info\\\\\">신입, 경력</span>\\\\n              <a data-modal=\\\\\"login\\\\\" style=\\\\\"float:right\\\\\"><i class=\\\\\"ic-bookmark_outline icon\\\\\"></i></a>\\\\n            </div>\\\\n            <div class=\\\\\"job-dates\\\\\">\\\\n              <span>\\\\n                <i class=\\\\\"ic-calendar_new icon\\\\\"></i>                03/15 마감\\\\n</span><span>                02/26 수정\\\\n</span></div>\\\\n          </div>\\\\n</div>\\\\n  </div>\\\\n</div>\\\\n<div class=\\\\\"ui inverted divider\\\\\"></div><div class=\\\\\"company item\\\\\" data-company_id=\\\\\"8726\\\\\">\\\\n  <div class=\\\\\"logo image\\\\\">\\\\n    <a href=\\\\\"/companies/doomoolmori/jobs\\\\\" target=\\\\\"_blank\\\\\">\\\\n      <div class=\\\\\"ui logo\\\\\">\\\\n        <img src=\\\\\"https://image.rocketpunch.com/company/8726/doomoolmori_logo_1460699595.png?s=100x100&amp;t=inside\\\\\" alt=\\\\\"두물머리 logo\\\\\" class=\\\\\"ui image\\\\\">\\\\n      </div>\\\\n    </a>\\\\n  </div>\\\\n  <div class=\\\\\"content\\\\\">\\\\n\\\\n    <div class=\\\\\"ui right floated skip header\\\\\">\\\\n      <a data-modal=\\\\\"signup\\\\\">✕</a>\\\\n    </div>\\\\n    <div class=\\\\\"company-name\\\\\">\\\\n      <a href=\\\\\"/companies/doomoolmori/jobs\\\\\" target=\\\\\"_blank\\\\\">\\\\n        <h4 class=\\\\\"header name\\\\\">          <strong>두물머리</strong>\\\\n          <small>(doomoolmori)</small>\\\\n</h4>\\\\n      </a><span class=\\\\\"ui small basic response recruit label\\\\\"><div data-content=\\\\\"7일 이내 지원 결과를 알려줄 확률이 90% 이상인 기업입니다.\\\\\" data-variation=\\\\\"inverted mini\\\\\">응답률 우수</div><div data-content=\\\\\"로켓펀치를 통해 채용한 기록이 있는 기업입니다.\\\\\" data-variation=\\\\\"inverted mini\\\\\">채용 우수</div></span><a class=\\\\\"reference-count\\\\\" data-url=\\\\\"/api/companies/8726/reference\\\\\" data-method=\\\\\"post\\\\\">\\\\n        <i class=\\\\\"ic-thumbup-outline icon\\\\\"></i>\\\\n        <span class=\\\\\"count\\\\\">10</span>\\\\n      </a></div>\\\\n    <div class=\\\\\"description\\\\\">중산층을 위한 자산관리의 혁명&nbsp;</div>\\\\n    <div class=\\\\\"nowrap meta\\\\\">      모바일서비스 ∙ 웹서비스 ∙ 마케팅 ∙ 소프트웨어 ∙ 데이터 ∙ 금융 ∙ 핀테크 ∙ 금융서비스 ∙ 자산관리 ∙ 로보어드바이저 ∙ 증권 ∙ 신한퓨처스랩3기 ∙ 맞춤형자산관리 ∙ 맞춤형 ∙ 파생상품 ∙ 금융상품 ∙ 뱅킹\\\\n</div><div class=\\\\\"applicants\\\\\">\\\\n  <div class=\\\\\"avatar-list\\\\\">\\\\n\\\\n<div class=\\\\\"mini masked item\\\\\">?</div><div class=\\\\\"mini masked item\\\\\">?</div><div class=\\\\\"mini masked item\\\\\">?</div><div class=\\\\\"mini masked item\\\\\">?</div>\\\\n  <div class=\\\\\"more item mini\\\\\"><span>+39</span></div>\\\\n\\\\n  </div>\\\\n\\\\n<span><a href=\\\\\"/companies/doomoolmori/jobs/applicants\\\\\">40명 이상이 로켓펀치를 통해 지원</a></span>\\\\n    </div><div class=\\\\\"ui divider\\\\\"></div>\\\\n    <div class=\\\\\"company-jobs-detail\\\\\">\\\\n          <div class=\\\\\"job-detail\\\\\">\\\\n            <div>\\\\n              <a href=\\\\\"/jobs/63964/%ED%80%80%ED%8A%B8-data-scientist\\\\\" target=\\\\\"_blank\\\\\" class=\\\\\"nowrap job-title primary link\\\\\">퀀트 / data scientist</a>\\\\n              <span class=\\\\\"job-stat-info\\\\\">인턴, 신입, 경력</span>\\\\n              <a data-modal=\\\\\"login\\\\\" style=\\\\\"float:right\\\\\"><i class=\\\\\"ic-bookmark_outline icon\\\\\"></i></a>\\\\n            </div>\\\\n            <div class=\\\\\"job-dates\\\\\">\\\\n              <span>\\\\n                <i class=\\\\\"ic-calendar_new icon\\\\\"></i>                04/15 마감\\\\n</span><span>                03/02 수정\\\\n</span></div>\\\\n          </div>\\\\n</div>\\\\n  </div>\\\\n</div>\\\\n<div class=\\\\\"ui inverted divider\\\\\"></div><div class=\\\\\"company item\\\\\" data-company_id=\\\\\"22360\\\\\">\\\\n  <div class=\\\\\"logo image\\\\\">\\\\n    <a href=\\\\\"/companies/trive/jobs\\\\\" target=\\\\\"_blank\\\\\">\\\\n      <div class=\\\\\"ui logo\\\\\">\\\\n        <img src=\\\\\"https://image.rocketpunch.com/company/22360/trive_logo_1582770771.png?s=100x100&amp;t=inside\\\\\" alt=\\\\\"더트라이브 logo\\\\\" class=\\\\\"ui image\\\\\">\\\\n      </div>\\\\n    </a>\\\\n  </div>\\\\n  <div class=\\\\\"content\\\\\">\\\\n\\\\n    <div class=\\\\\"ui right floated skip header\\\\\">\\\\n      <a data-modal=\\\\\"signup\\\\\">✕</a>\\\\n    </div>\\\\n    <div class=\\\\\"company-name\\\\\">\\\\n      <a href=\\\\\"/companies/trive/jobs\\\\\" target=\\\\\"_blank\\\\\">\\\\n        <h4 class=\\\\\"header name\\\\\">          <strong>더트라이브</strong>\\\\n          <small>(The Trive)</small>\\\\n</h4>\\\\n      </a><span class=\\\\\"ui small basic recruit label\\\\\"><div data-content=\\\\\"로켓펀치를 통해 채용한 기록이 있는 기업입니다.\\\\\" data-variation=\\\\\"inverted mini\\\\\">채용 우수</div></span><a class=\\\\\"reference-count\\\\\" data-url=\\\\\"/api/companies/22360/reference\\\\\" data-method=\\\\\"post\\\\\">\\\\n        <i class=\\\\\"ic-thumbup-outline icon\\\\\"></i>\\\\n        <span class=\\\\\"count\\\\\">3</span>\\\\n      </a></div>\\\\n    <div class=\\\\\"description\\\\\">대한민국 최초의 중고차 구독 서비스&nbsp;</div>\\\\n    <div class=\\\\\"nowrap meta\\\\\">      모바일서비스 ∙ 소프트웨어 ∙ 데이터 ∙ 자동차 ∙ mobileApp ∙ 모빌리티 ∙ OnDemand ∙ 자동차구독\\\\n</div><div class=\\\\\"applicants\\\\\">\\\\n  <div class=\\\\\"avatar-list\\\\\">\\\\n\\\\n<div class=\\\\\"mini masked item\\\\\">?</div><div class=\\\\\"mini masked item\\\\\">?</div><div class=\\\\\"mini masked item\\\\\">?</div><div class=\\\\\"mini masked item\\\\\">?</div>\\\\n  <div class=\\\\\"more item mini\\\\\"><span>+19</span></div>\\\\n\\\\n  </div>\\\\n\\\\n<span><a href=\\\\\"/companies/trive/jobs/applicants\\\\\">20명 이상이 로켓펀치를 통해 지원</a></span>\\\\n    </div><div class=\\\\\"ui divider\\\\\"></div>\\\\n    <div class=\\\\\"company-jobs-detail\\\\\">\\\\n          <div class=\\\\\"job-detail\\\\\">\\\\n            <div>\\\\n              <a href=\\\\\"/jobs/70230/APP-%EA%B0%9C%EB%B0%9C%EC%9E%90react-native\\\\\" target=\\\\\"_blank\\\\\" class=\\\\\"nowrap job-title primary link\\\\\">APP 개발자(react native)</a>\\\\n              <span class=\\\\\"job-stat-info\\\\\">경력</span>\\\\n              <a data-modal=\\\\\"login\\\\\" style=\\\\\"float:right\\\\\"><i class=\\\\\"ic-bookmark_outline icon\\\\\"></i></a>\\\\n            </div>\\\\n            <div class=\\\\\"job-dates\\\\\">\\\\n              <span>\\\\n                <i class=\\\\\"ic-calendar_new icon\\\\\"></i>                03/29 마감\\\\n</span><span>                02/28 등록\\\\n</span></div>\\\\n          </div>\\\\n</div>\\\\n  </div>\\\\n</div>\\\\n<div class=\\\\\"ui inverted divider\\\\\"></div><div class=\\\\\"company item\\\\\" data-company_id=\\\\\"14392\\\\\">\\\\n  <div class=\\\\\"logo image\\\\\">\\\\n    <a href=\\\\\"/companies/drkitchen/jobs\\\\\" target=\\\\\"_blank\\\\\">\\\\n      <div class=\\\\\"ui logo\\\\\">\\\\n        <img src=\\\\\"https://image.rocketpunch.com/company/14392/drkitchen_logo_1503384134.jpg?s=100x100&amp;t=inside\\\\\" alt=\\\\\"닥터키친 logo\\\\\" class=\\\\\"ui image\\\\\">\\\\n      </div>\\\\n    </a>\\\\n  </div>\\\\n  <div class=\\\\\"content\\\\\">\\\\n\\\\n    <div class=\\\\\"ui right floated skip header\\\\\">\\\\n      <a data-modal=\\\\\"signup\\\\\">✕</a>\\\\n    </div>\\\\n    <div class=\\\\\"company-name\\\\\">\\\\n      <a href=\\\\\"/companies/drkitchen/jobs\\\\\" target=\\\\\"_blank\\\\\">\\\\n        <h4 class=\\\\\"header name\\\\\">          <strong>닥터키친</strong>\\\\n          <small>(Dr.Kitchen)</small>\\\\n</h4>\\\\n      </a><span class=\\\\\"ui small basic response recruit label\\\\\"><div data-content=\\\\\"7일 이내 지원 결과를 알려줄 확률이 90% 이상인 기업입니다.\\\\\" data-variation=\\\\\"inverted mini\\\\\">응답률 우수</div><div data-content=\\\\\"로켓펀치를 통해 채용한 기록이 있는 기업입니다.\\\\\" data-variation=\\\\\"inverted mini\\\\\">채용 우수</div></span><a class=\\\\\"reference-count\\\\\" data-url=\\\\\"/api/companies/14392/reference\\\\\" data-method=\\\\\"post\\\\\">\\\\n        <i class=\\\\\"ic-thumbup-outline icon\\\\\"></i>\\\\n        <span class=\\\\\"count\\\\\">14</span>\\\\n      </a></div>\\\\n    <div class=\\\\\"description\\\\\">&#39;당뇨환자도 맛있게 먹을 권리가 있다&#39;는 비전 아래, 당뇨 환자를 위한 식이요법을 연구하고 또 제공하고 있는 식이요법 연구기업입니다.&nbsp;</div>\\\\n    <div class=\\\\\"nowrap meta\\\\\">      모바일서비스 ∙ 웹서비스 ∙ 마케팅 ∙ 데이터 ∙ 헬스케어 ∙ e-commerce ∙ 이커머스 ∙ Healthcare ∙ Medical ∙ 운영 ∙ 비즈니스\\\\n</div><div class=\\\\\"applicants\\\\\">\\\\n  <div class=\\\\\"avatar-list\\\\\">\\\\n\\\\n<a href=\\\\\"/@eunhyepark\\\\\">\\\\n      <img src=\\\\\"https://image.rocketpunch.com/user/79229/79229_1497589730.jpg?s=35x35&amp;t=cover\\\\\" alt=\\\\\"\\\\\" class=\\\\\"ui mini circular image\\\\\">\\\\n    </a><div class=\\\\\"mini masked item\\\\\">?</div><div class=\\\\\"mini masked item\\\\\">?</div><div class=\\\\\"mini masked item\\\\\">?</div>\\\\n  <div class=\\\\\"more item mini\\\\\"><span>+291</span></div>\\\\n\\\\n  </div>\\\\n\\\\n<span><a href=\\\\\"/companies/drkitchen/jobs/applicants\\\\\">295명 이상이 로켓펀치를 통해 지원</a></span>\\\\n    </div><div class=\\\\\"ui divider\\\\\"></div>\\\\n    <div class=\\\\\"company-jobs-detail\\\\\">\\\\n          <div class=\\\\\"job-detail\\\\\">\\\\n            <div>\\\\n              <a href=\\\\\"/jobs/61776/%EB%B0%B1%EC%97%94%EB%93%9C-%EA%B0%9C%EB%B0%9C%EC%9E%90\\\\\" target=\\\\\"_blank\\\\\" class=\\\\\"nowrap job-title primary link\\\\\">백엔드 개발자</a>\\\\n              <span class=\\\\\"job-stat-info\\\\\">경력</span>\\\\n              <a data-modal=\\\\\"login\\\\\" style=\\\\\"float:right\\\\\"><i class=\\\\\"ic-bookmark_outline icon\\\\\"></i></a>\\\\n            </div>\\\\n            <div class=\\\\\"job-dates\\\\\">\\\\n              <span>\\\\n                <i class=\\\\\"ic-calendar_new icon\\\\\"></i>                03/15 마감\\\\n</span><span>                02/28 수정\\\\n</span></div>\\\\n          </div>\\\\n</div>\\\\n  </div>\\\\n</div>\\\\n<div class=\\\\\"ui inverted divider\\\\\"></div><div class=\\\\\"company item\\\\\" data-company_id=\\\\\"40200\\\\\">\\\\n  <div class=\\\\\"logo image\\\\\">\\\\n    <a href=\\\\\"/companies/r2v/jobs\\\\\" target=\\\\\"_blank\\\\\">\\\\n      <div class=\\\\\"ui logo\\\\\">\\\\n        <img src=\\\\\"https://image.rocketpunch.com/company/40200/r2v_logo_1558579562.png?s=100x100&amp;t=inside\\\\\" alt=\\\\\"알투브이 logo\\\\\" class=\\\\\"ui image\\\\\">\\\\n      </div>\\\\n    </a>\\\\n  </div>\\\\n  <div class=\\\\\"content\\\\\">\\\\n\\\\n    <div class=\\\\\"ui right floated skip header\\\\\">\\\\n      <a data-modal=\\\\\"signup\\\\\">✕</a>\\\\n    </div>\\\\n    <div class=\\\\\"company-name\\\\\">\\\\n      <a href=\\\\\"/companies/r2v/jobs\\\\\" target=\\\\\"_blank\\\\\">\\\\n        <h4 class=\\\\\"header name\\\\\">          <strong>알투브이</strong>\\\\n          <small>(R2V)</small>\\\\n</h4>\\\\n      </a><span class=\\\\\"ui small basic response recruit label\\\\\"><div data-content=\\\\\"7일 이내 지원 결과를 알려줄 확률이 90% 이상인 기업입니다.\\\\\" data-variation=\\\\\"inverted mini\\\\\">응답률 우수</div><div data-content=\\\\\"로켓펀치를 통해 채용한 기록이 있는 기업입니다.\\\\\" data-variation=\\\\\"inverted mini\\\\\">채용 우수</div></span><a class=\\\\\"reference-count\\\\\" data-url=\\\\\"/api/companies/40200/reference\\\\\" data-method=\\\\\"post\\\\\">\\\\n        <i class=\\\\\"ic-thumbup-outline icon\\\\\"></i>\\\\n        <span class=\\\\\"count\\\\\">24</span>\\\\n      </a></div>\\\\n    <div class=\\\\\"description\\\\\">새로운 시대를 향한 위대한 여정을 같이 할 당신을 기다립니다.&nbsp;</div>\\\\n    <div class=\\\\\"nowrap meta\\\\\">      소프트웨어 ∙ 데이터 ∙ IT ∙ 핀테크 ∙ 블록체인 ∙ 데이터분석 ∙ platform ∙ BigData ∙ UX/UI ∙ Design ∙ Fintech ∙ blockchain ∙ SW ∙ 가상화폐 ∙ UX ∙ 비트코인 ∙ Big-Data ∙ P2P ∙ 이더리움 ∙ cryptocurrency ∙ bitcoin ∙ ICO ∙ data ∙ 거래소 ∙ ICT/DATA ∙ 파생상품 ∙ Bigdata/Datamining ∙ #모바일서비스#웹서비스#데이터#빅데이터#e-commerce#패션#개인화추천#개인화데이터분석 ∙ DATA-DrivenMarketing ∙ 암호화화폐 ∙ Cryptoeconomy ∙ remittance ∙ 이그드라시 ∙ D-SATION ∙ BITDATA\\\\n</div><div class=\\\\\"applicants\\\\\">\\\\n  <div class=\\\\\"avatar-list\\\\\">\\\\n\\\\n<a href=\\\\\"/@sy2ssg\\\\\">\\\\n      <img src=\\\\\"https://image.rocketpunch.com/images/user/user.png?s=35x35&amp;t=cover\\\\\" alt=\\\\\"\\\\\" class=\\\\\"ui mini circular image\\\\\">\\\\n    </a><a href=\\\\\"/@ifeesix\\\\\">\\\\n      <img src=\\\\\"https://image.rocketpunch.com/user/194543/194543_1547823768.jpg?s=35x35&amp;t=cover\\\\\" alt=\\\\\"\\\\\" class=\\\\\"ui mini circular image\\\\\">\\\\n    </a><a href=\\\\\"/@engus93\\\\\">\\\\n      <img src=\\\\\"https://image.rocketpunch.com/user/199233/199233_1563284235.jpg?s=35x35&amp;t=cover\\\\\" alt=\\\\\"\\\\\" class=\\\\\"ui mini circular image\\\\\">\\\\n    </a><div class=\\\\\"mini masked item\\\\\">?</div>\\\\n  <div class=\\\\\"more item mini\\\\\"><span>+260</span></div>\\\\n\\\\n  </div>\\\\n\\\\n<span><a href=\\\\\"/companies/r2v/jobs/applicants\\\\\">260명 이상이 로켓펀치를 통해 지원</a></span>\\\\n    </div><div class=\\\\\"ui divider\\\\\"></div>\\\\n    <div class=\\\\\"company-jobs-detail\\\\\">\\\\n          <div class=\\\\\"job-detail\\\\\">\\\\n            <div>\\\\n              <a href=\\\\\"/jobs/70001/%EB%8D%B0%EC%9D%B4%ED%84%B0-%EC%97%94%EC%A7%80%EB%8B%88%EC%96%B4\\\\\" target=\\\\\"_blank\\\\\" class=\\\\\"nowrap job-title primary link\\\\\">데이터 엔지니어</a>\\\\n              <span class=\\\\\"job-stat-info\\\\\">3,000 - 9,000만원 / 1.0% - 1.0% / 경력</span>\\\\n              <a data-modal=\\\\\"login\\\\\" style=\\\\\"float:right\\\\\"><i class=\\\\\"ic-bookmark_outline icon\\\\\"></i></a>\\\\n            </div>\\\\n            <div class=\\\\\"job-dates\\\\\">\\\\n              <span>\\\\n                <i class=\\\\\"ic-calendar_new icon\\\\\"></i>                03/31 마감\\\\n</span><span>                02/28 수정\\\\n</span></div>\\\\n          </div>\\\\n</div>\\\\n  </div>\\\\n</div>\\\\n<div class=\\\\\"ui inverted divider\\\\\"></div><div class=\\\\\"company item\\\\\" data-company_id=\\\\\"25838\\\\\">\\\\n  <div class=\\\\\"logo image\\\\\">\\\\n    <a href=\\\\\"/companies/wildvc/jobs\\\\\" target=\\\\\"_blank\\\\\">\\\\n      <div class=\\\\\"ui logo\\\\\">\\\\n        <img src=\\\\\"https://image.rocketpunch.com/company/25838/wildvc_logo_1484938698.png?s=100x100&amp;t=inside\\\\\" alt=\\\\\"와일드벤처스 logo\\\\\" class=\\\\\"ui image\\\\\">\\\\n      </div>\\\\n    </a>\\\\n  </div>\\\\n  <div class=\\\\\"content\\\\\">\\\\n\\\\n    <div class=\\\\\"ui right floated skip header\\\\\">\\\\n      <a data-modal=\\\\\"signup\\\\\">✕</a>\\\\n    </div>\\\\n    <div class=\\\\\"company-name\\\\\">\\\\n      <a href=\\\\\"/companies/wildvc/jobs\\\\\" target=\\\\\"_blank\\\\\">\\\\n        <h4 class=\\\\\"header name\\\\\">          <strong>와일드벤처스</strong>\\\\n          <small>(Wildvc)</small>\\\\n</h4>\\\\n      </a><a class=\\\\\"reference-count\\\\\" data-url=\\\\\"/api/companies/25838/reference\\\\\" data-method=\\\\\"post\\\\\">\\\\n        <i class=\\\\\"ic-thumbup-outline icon\\\\\"></i>\\\\n        <span class=\\\\\"count\\\\\"></span>\\\\n      </a></div>\\\\n    <div class=\\\\\"description\\\\\">야생에서 살아남을수 있는 스타트업을 구축&amp;육성.&nbsp;</div>\\\\n    <div class=\\\\\"nowrap meta\\\\\">      모바일서비스 ∙ 웹서비스 ∙ 마케팅 ∙ 소프트웨어 ∙ 모바일게임 ∙ 데이터 ∙ O2O ∙ 교육 ∙ 부동산 ∙ 멘토링 ∙ 취업 ∙ 매장관리 ∙ incubator ∙ companybuilding\\\\n</div><div class=\\\\\"applicants\\\\\">\\\\n  <div class=\\\\\"avatar-list\\\\\">\\\\n\\\\n<div class=\\\\\"mini masked item\\\\\">?</div><div class=\\\\\"mini masked item\\\\\">?</div><div class=\\\\\"mini masked item\\\\\">?</div><div class=\\\\\"mini masked item\\\\\">?</div>\\\\n  <div class=\\\\\"more item mini\\\\\"><span>+23</span></div>\\\\n\\\\n  </div>\\\\n\\\\n<span><a href=\\\\\"/companies/wildvc/jobs/applicants\\\\\">25명 이상이 로켓펀치를 통해 지원</a></span>\\\\n    </div><div class=\\\\\"ui divider\\\\\"></div>\\\\n    <div class=\\\\\"company-jobs-detail\\\\\">\\\\n          <div class=\\\\\"job-detail\\\\\">\\\\n            <div>\\\\n              <a href=\\\\\"/jobs/70191/%EA%B0%9C%EB%B0%9C%EC%9E%90-%EC%A0%84%EA%B2%A9-%EB%AA%A8%EC%A7%91-%EC%97%B4%EC%A0%95-%ED%98%B9%EC%9D%80-%EC%8B%A4%EB%A0%A5-%EB%B3%B4%EC%9C%A0%ED%95%98%EC%8B%A0%EB%B6%84\\\\\" target=\\\\\"_blank\\\\\" class=\\\\\"nowrap job-title primary link\\\\\">개발자 전격 모집. 열정 혹은 실력 보유하신분</a>\\\\n              <span class=\\\\\"job-stat-info\\\\\">0.1% - 20.0% / 인턴, 신입, 경력</span>\\\\n              <a data-modal=\\\\\"login\\\\\" style=\\\\\"float:right\\\\\"><i class=\\\\\"ic-bookmark_outline icon\\\\\"></i></a>\\\\n            </div>\\\\n            <div class=\\\\\"job-dates\\\\\">\\\\n              <span>\\\\n                <i class=\\\\\"ic-calendar_new icon\\\\\"></i>                03/28 마감\\\\n</span><span>\\\\n                <i class=\\\\\"feed icon\\\\\"></i>\\\\n                원격근무\\\\n              </span><span>                02/27 등록\\\\n</span></div>\\\\n          </div>\\\\n</div>\\\\n  </div>\\\\n</div>\\\\n<div class=\\\\\"ui inverted divider\\\\\"></div><div class=\\\\\"company item\\\\\" data-company_id=\\\\\"4989\\\\\">\\\\n  <div class=\\\\\"logo image\\\\\">\\\\n    <a href=\\\\\"/companies/dorsia/jobs\\\\\" target=\\\\\"_blank\\\\\">\\\\n      <div class=\\\\\"ui logo\\\\\">\\\\n        <img src=\\\\\"https://image.rocketpunch.com/company/4989/dorsia_logo_1477646644.png?s=100x100&amp;t=inside\\\\\" alt=\\\\\"넥스트매치 logo\\\\\" class=\\\\\"ui image\\\\\">\\\\n      </div>\\\\n    </a>\\\\n  </div>\\\\n  <div class=\\\\\"content\\\\\">\\\\n\\\\n    <div class=\\\\\"ui right floated skip header\\\\\">\\\\n      <a data-modal=\\\\\"signup\\\\\">✕</a>\\\\n    </div>\\\\n    <div class=\\\\\"company-name\\\\\">\\\\n      <a href=\\\\\"/companies/dorsia/jobs\\\\\" target=\\\\\"_blank\\\\\">\\\\n        <h4 class=\\\\\"header name\\\\\">          <strong>넥스트매치</strong>\\\\n          <small>(nextmatch)</small>\\\\n</h4>\\\\n      </a><a class=\\\\\"reference-count\\\\\" data-url=\\\\\"/api/companies/4989/reference\\\\\" data-method=\\\\\"post\\\\\">\\\\n        <i class=\\\\\"ic-thumbup-outline icon\\\\\"></i>\\\\n        <span class=\\\\\"count\\\\\">2</span>\\\\n      </a></div>\\\\n    <div class=\\\\\"description\\\\\">프리미엄 모바일 소개팅 &#39;아만다: 아무나 만나지 않는 당신을 위한 소개팅&#39;, &#39;너랑나랑 - 매일 16명 소개팅&#39; 개발 및 서비스사&nbsp;</div>\\\\n    <div class=\\\\\"nowrap meta\\\\\">      모바일서비스 ∙ 웹서비스 ∙ 마케팅 ∙ 소프트웨어 ∙ 데이터 ∙ 모바일 ∙ 앱 ∙ 글로벌 ∙ 데이팅 ∙ 어플\\\\n</div><div class=\\\\\"applicants\\\\\">\\\\n  <div class=\\\\\"avatar-list\\\\\">\\\\n\\\\n<div class=\\\\\"mini masked item\\\\\">?</div><div class=\\\\\"mini masked item\\\\\">?</div><div class=\\\\\"mini masked item\\\\\">?</div><div class=\\\\\"mini masked item\\\\\">?</div>\\\\n  <div class=\\\\\"more item mini\\\\\"><span>+126</span></div>\\\\n\\\\n  </div>\\\\n\\\\n<span><a href=\\\\\"/companies/dorsia/jobs/applicants\\\\\">130명 이상이 로켓펀치를 통해 지원</a></span>\\\\n    </div><div class=\\\\\"ui divider\\\\\"></div>\\\\n    <div class=\\\\\"company-jobs-detail\\\\\">\\\\n          <div class=\\\\\"job-detail\\\\\">\\\\n            <div>\\\\n              <a href=\\\\\"/jobs/70146/%EC%A0%95%EA%B7%9C%EC%A7%81-%EC%A3%BC%EC%8B%9D%ED%9A%8C%EC%82%AC-%EB%84%A5%EC%8A%A4%ED%8A%B8%EB%A7%A4%EC%B9%98-%EC%84%9C%EB%B2%84-%EA%B0%9C%EB%B0%9C%EC%9E%90-%EB%AA%A8%EC%A7%91\\\\\" target=\\\\\"_blank\\\\\" class=\\\\\"nowrap job-title primary link\\\\\">[정규직] 주식회사 넥스트매치 - 서버 개발자 모집</a>\\\\n              <span class=\\\\\"job-stat-info\\\\\">경력</span>\\\\n              <a data-modal=\\\\\"login\\\\\" style=\\\\\"float:right\\\\\"><i class=\\\\\"ic-bookmark_outline icon\\\\\"></i></a>\\\\n            </div>\\\\n            <div class=\\\\\"job-dates\\\\\">\\\\n              <span>\\\\n                <i class=\\\\\"ic-calendar_new icon\\\\\"></i>                03/27 마감\\\\n</span><span>                02/26 등록\\\\n</span></div>\\\\n          </div>\\\\n</div>\\\\n  </div>\\\\n</div>\\\\n<div class=\\\\\"ui inverted divider\\\\\"></div></div>\\\\n\\\\n\\\\n<div class=\\\\\"ui blank right floated segment\\\\\">\\\\n  <div class=\\\\\"ui pagination menu\\\\\">\\\\n    <a        class=\\\\\"disabled item\\\\\">\\\\n      <i class=\\\\\"angle double left icon\\\\\"></i>\\\\n    </a>\\\\n\\\\n    <div class=\\\\\"tablet computer large screen widescreen only\\\\\">\\\\n        <a class=\\\\\"active item\\\\\" data-query-add=\\\\\"page=1\\\\\" href=\\\\\"?page=1&amp;q=&amp;specialty=Python&amp;tag=%EB%8D%B0%EC%9D%B4%ED%84%B0\\\\\">1</a>\\\\n        <a class=\\\\\"item\\\\\" data-query-add=\\\\\"page=2\\\\\" href=\\\\\"?page=2&amp;q=&amp;specialty=Python&amp;tag=%EB%8D%B0%EC%9D%B4%ED%84%B0\\\\\">2</a>\\\\n        <a class=\\\\\"item\\\\\" data-query-add=\\\\\"page=3\\\\\" href=\\\\\"?page=3&amp;q=&amp;specialty=Python&amp;tag=%EB%8D%B0%EC%9D%B4%ED%84%B0\\\\\">3</a>\\\\n    </div>\\\\n    <div class=\\\\\"mobile only\\\\\">\\\\n      <a class=\\\\\"active item\\\\\" data-query-add=\\\\\"page=1\\\\\" href=\\\\\"?page=1&amp;q=&amp;specialty=Python&amp;tag=%EB%8D%B0%EC%9D%B4%ED%84%B0\\\\\">1</a>\\\\n          <a class=\\\\\"item\\\\\" data-query-add=\\\\\"page=2\\\\\" href=\\\\\"?page=2&amp;q=&amp;specialty=Python&amp;tag=%EB%8D%B0%EC%9D%B4%ED%84%B0\\\\\">2</a>\\\\n          <a class=\\\\\"item\\\\\" data-query-add=\\\\\"page=3\\\\\" href=\\\\\"?page=3&amp;q=&amp;specialty=Python&amp;tag=%EB%8D%B0%EC%9D%B4%ED%84%B0\\\\\">3</a>\\\\n    </div>\\\\n\\\\n    <a        class=\\\\\"item\\\\\" data-query-add=\\\\\"page=2\\\\\" href=\\\\\"?page=2&amp;q=&amp;specialty=Python&amp;tag=%EB%8D%B0%EC%9D%B4%ED%84%B0\\\\\">\\\\n      <i class=\\\\\"angle double right icon\\\\\"></i>\\\\n    </a>\\\\n  </div></div>\\\\n\",\"title\":\"Python, 데이터 채용 정보\",\"seo_url\":\"https://rocketpunch.com/jobs/tags/python\"}}'"
      ]
     },
     "execution_count": 48,
     "metadata": {},
     "output_type": "execute_result"
    }
   ],
   "source": [
    "# company_name\n",
    "response.text"
   ]
  },
  {
   "cell_type": "code",
   "execution_count": 31,
   "metadata": {},
   "outputs": [
    {
     "data": {
      "text/plain": [
       "[<Selector xpath='//*' data='<html><body><div id=\"company-list\" cl...'>,\n",
       " <Selector xpath='//*' data='<body><div id=\"company-list\" class=\"u...'>,\n",
       " <Selector xpath='//*' data='<div id=\"company-list\" class=\"ui job ...'>,\n",
       " <Selector xpath='//*' data='<div class=\"header\">\\n    <div class=\"...'>,\n",
       " <Selector xpath='//*' data='<div class=\"ui right floated header s...'>,\n",
       " <Selector xpath='//*' data='<a data-query-add=\"sort=recent\" href=...'>,\n",
       " <Selector xpath='//*' data='<div class=\"separator\"></div>'>,\n",
       " <Selector xpath='//*' data='<a data-query-add=\"sort=ranking\" href...'>,\n",
       " <Selector xpath='//*' data='<div class=\"separator\"></div>'>,\n",
       " <Selector xpath='//*' data='<a data-query-add=\"sort=salary\" href=...'>,\n",
       " <Selector xpath='//*' data='<h2 class=\"ui left header\" style=\"fon...'>,\n",
       " <Selector xpath='//*' data='<span class=\"desc\">검색 결과</span>'>,\n",
       " <Selector xpath='//*' data='<span class=\"count\">58</span>'>,\n",
       " <Selector xpath='//*' data='<div class=\"separator\"></div>'>,\n",
       " <Selector xpath='//*' data='<span class=\"filter-summary\">데이터, Pyt...'>,\n",
       " <Selector xpath='//*' data='<div class=\"ui inverted divider\"></div>'>,\n",
       " <Selector xpath='//*' data='<div class=\"company item active\" data...'>,\n",
       " <Selector xpath='//*' data='<div class=\"logo image\">\\n    <a href=...'>,\n",
       " <Selector xpath='//*' data='<a href=\"/companies/ulalalab/jobs\" ta...'>,\n",
       " <Selector xpath='//*' data='<div class=\"ui logo\">\\n        <img sr...'>,\n",
       " <Selector xpath='//*' data='<img src=\"https://image.rocketpunch.c...'>,\n",
       " <Selector xpath='//*' data='<div class=\"content active\">\\n\\n    <di...'>,\n",
       " <Selector xpath='//*' data='<div class=\"ui right floated skip hea...'>,\n",
       " <Selector xpath='//*' data='<a data-modal=\"signup\">✕</a>'>,\n",
       " <Selector xpath='//*' data='<div class=\"company-name\">\\n      <a h...'>,\n",
       " <Selector xpath='//*' data='<a href=\"/companies/ulalalab/jobs\" ta...'>,\n",
       " <Selector xpath='//*' data='<h4 class=\"header name\">          <st...'>,\n",
       " <Selector xpath='//*' data='<strong>울랄라랩</strong>'>,\n",
       " <Selector xpath='//*' data='<small>(UlalaLAB)</small>'>,\n",
       " <Selector xpath='//*' data='<span class=\"ui small basic recruit l...'>,\n",
       " <Selector xpath='//*' data='<div data-content=\"로켓펀치를 통해 채용한 기록이 있...'>,\n",
       " <Selector xpath='//*' data='<a class=\"reference-count\" data-url=\"...'>,\n",
       " <Selector xpath='//*' data='<i class=\"ic-thumbup-outline icon\"></i>'>,\n",
       " <Selector xpath='//*' data='<span class=\"count\">5</span>'>,\n",
       " <Selector xpath='//*' data='<div class=\"description\">산업IoT 및 빅데이터...'>,\n",
       " <Selector xpath='//*' data='<div class=\"nowrap meta\">      모바일서비스...'>,\n",
       " <Selector xpath='//*' data='<div class=\"applicants\">\\n  <div class...'>,\n",
       " <Selector xpath='//*' data='<div class=\"avatar-list\">\\n\\n<a href=\"/...'>,\n",
       " <Selector xpath='//*' data='<a href=\"/@aibekamandanov\">\\n      <im...'>,\n",
       " <Selector xpath='//*' data='<img src=\"https://image.rocketpunch.c...'>,\n",
       " <Selector xpath='//*' data='<div class=\"mini masked item\">?</div>'>,\n",
       " <Selector xpath='//*' data='<div class=\"mini masked item\">?</div>'>,\n",
       " <Selector xpath='//*' data='<div class=\"mini masked item\">?</div>'>,\n",
       " <Selector xpath='//*' data='<div class=\"more item mini\"><span>+11...'>,\n",
       " <Selector xpath='//*' data='<span>+110</span>'>,\n",
       " <Selector xpath='//*' data='<span><a href=\"/companies/ulalalab/jo...'>,\n",
       " <Selector xpath='//*' data='<a href=\"/companies/ulalalab/jobs/app...'>,\n",
       " <Selector xpath='//*' data='<div class=\"ui divider\"></div>'>,\n",
       " <Selector xpath='//*' data='<div class=\"company-jobs-detail\">\\n   ...'>,\n",
       " <Selector xpath='//*' data='<div class=\"job-detail\">\\n            ...'>,\n",
       " <Selector xpath='//*' data='<div>\\n              <a href=\"/jobs/69...'>,\n",
       " <Selector xpath='//*' data='<a href=\"/jobs/69735/%EC%9A%B8%EB%9E%...'>,\n",
       " <Selector xpath='//*' data='<span class=\"job-stat-info\">4,000 - 8...'>,\n",
       " <Selector xpath='//*' data='<a data-modal=\"login\" style=\"float:ri...'>,\n",
       " <Selector xpath='//*' data='<i class=\"ic-bookmark_outline icon\"></i>'>,\n",
       " <Selector xpath='//*' data='<div class=\"job-dates\">\\n             ...'>,\n",
       " <Selector xpath='//*' data='<span>\\n                <i class=\"ic-c...'>,\n",
       " <Selector xpath='//*' data='<i class=\"ic-calendar_new icon\"></i>'>,\n",
       " <Selector xpath='//*' data='<span>                02/25 수정\\n</span>'>,\n",
       " <Selector xpath='//*' data='<div class=\"ui inverted divider\"></div>'>,\n",
       " <Selector xpath='//*' data='<div class=\"company item\" data-compan...'>,\n",
       " <Selector xpath='//*' data='<div class=\"logo image\">\\n    <a href=...'>,\n",
       " <Selector xpath='//*' data='<a href=\"/companies/aidentify/jobs\" t...'>,\n",
       " <Selector xpath='//*' data='<div class=\"ui logo\">\\n        <img sr...'>,\n",
       " <Selector xpath='//*' data='<img src=\"https://image.rocketpunch.c...'>,\n",
       " <Selector xpath='//*' data='<div class=\"content\">\\n\\n    <div class...'>,\n",
       " <Selector xpath='//*' data='<div class=\"ui right floated skip hea...'>,\n",
       " <Selector xpath='//*' data='<a data-modal=\"signup\">✕</a>'>,\n",
       " <Selector xpath='//*' data='<div class=\"company-name\">\\n      <a h...'>,\n",
       " <Selector xpath='//*' data='<a href=\"/companies/aidentify/jobs\" t...'>,\n",
       " <Selector xpath='//*' data='<h4 class=\"header name\">          <st...'>,\n",
       " <Selector xpath='//*' data='<strong>아이덴티파이</strong>'>,\n",
       " <Selector xpath='//*' data='<small>(aidentify)</small>'>,\n",
       " <Selector xpath='//*' data='<span class=\"ui small basic response ...'>,\n",
       " <Selector xpath='//*' data='<div data-content=\"7일 이내 지원 결과를 알려줄 확...'>,\n",
       " <Selector xpath='//*' data='<div data-content=\"로켓펀치를 통해 채용한 기록이 있...'>,\n",
       " <Selector xpath='//*' data='<a class=\"reference-count\" data-url=\"...'>,\n",
       " <Selector xpath='//*' data='<i class=\"ic-thumbup-outline icon\"></i>'>,\n",
       " <Selector xpath='//*' data='<span class=\"count\">5</span>'>,\n",
       " <Selector xpath='//*' data='<div class=\"description\">딥러닝 기술을 이용한 ...'>,\n",
       " <Selector xpath='//*' data='<div class=\"nowrap meta\">      소프트웨어 ...'>,\n",
       " <Selector xpath='//*' data='<div class=\"applicants\">\\n  <div class...'>,\n",
       " <Selector xpath='//*' data='<div class=\"avatar-list\">\\n\\n<div class...'>,\n",
       " <Selector xpath='//*' data='<div class=\"mini masked item\">?</div>'>,\n",
       " <Selector xpath='//*' data='<div class=\"mini masked item\">?</div>'>,\n",
       " <Selector xpath='//*' data='<div class=\"mini masked item\">?</div>'>,\n",
       " <Selector xpath='//*' data='<div class=\"mini masked item\">?</div>'>,\n",
       " <Selector xpath='//*' data='<div class=\"more item mini\"><span>+88...'>,\n",
       " <Selector xpath='//*' data='<span>+88</span>'>,\n",
       " <Selector xpath='//*' data='<span><a href=\"/companies/aidentify/j...'>,\n",
       " <Selector xpath='//*' data='<a href=\"/companies/aidentify/jobs/ap...'>,\n",
       " <Selector xpath='//*' data='<div class=\"ui divider\"></div>'>,\n",
       " <Selector xpath='//*' data='<div class=\"company-jobs-detail\">\\n   ...'>,\n",
       " <Selector xpath='//*' data='<div class=\"job-detail\">\\n            ...'>,\n",
       " <Selector xpath='//*' data='<div>\\n              <a href=\"/jobs/69...'>,\n",
       " <Selector xpath='//*' data='<a href=\"/jobs/69287/%EB%A8%B8%EC%8B%...'>,\n",
       " <Selector xpath='//*' data='<span class=\"job-stat-info\">5,000 - 6...'>,\n",
       " <Selector xpath='//*' data='<a data-modal=\"login\" style=\"float:ri...'>,\n",
       " <Selector xpath='//*' data='<i class=\"ic-bookmark_outline icon\"></i>'>,\n",
       " <Selector xpath='//*' data='<div class=\"job-dates\">\\n             ...'>,\n",
       " <Selector xpath='//*' data='<span>\\n                <i class=\"ic-c...'>,\n",
       " <Selector xpath='//*' data='<i class=\"ic-calendar_new icon\"></i>'>,\n",
       " <Selector xpath='//*' data='<span>                02/25 수정\\n</span>'>,\n",
       " <Selector xpath='//*' data='<div class=\"ui divider\"></div>'>,\n",
       " <Selector xpath='//*' data='<div class=\"job-detail\">\\n            ...'>,\n",
       " <Selector xpath='//*' data='<div>\\n              <a href=\"/jobs/69...'>,\n",
       " <Selector xpath='//*' data='<a href=\"/jobs/69282/%EC%9D%B8%EA%B3%...'>,\n",
       " <Selector xpath='//*' data='<span class=\"job-stat-info\">4,000 - 5...'>,\n",
       " <Selector xpath='//*' data='<a data-modal=\"login\" style=\"float:ri...'>,\n",
       " <Selector xpath='//*' data='<i class=\"ic-bookmark_outline icon\"></i>'>,\n",
       " <Selector xpath='//*' data='<div class=\"job-dates\">\\n             ...'>,\n",
       " <Selector xpath='//*' data='<span>\\n                <i class=\"ic-c...'>,\n",
       " <Selector xpath='//*' data='<i class=\"ic-calendar_new icon\"></i>'>,\n",
       " <Selector xpath='//*' data='<span>                02/25 수정\\n</span>'>,\n",
       " <Selector xpath='//*' data='<div class=\"ui inverted divider\"></div>'>,\n",
       " <Selector xpath='//*' data='<div class=\"company item\" data-compan...'>,\n",
       " <Selector xpath='//*' data='<div class=\"logo image\">\\n    <a href=...'>,\n",
       " <Selector xpath='//*' data='<a href=\"/companies/aitrics/jobs\" tar...'>,\n",
       " <Selector xpath='//*' data='<div class=\"ui logo\">\\n        <img sr...'>,\n",
       " <Selector xpath='//*' data='<img src=\"https://image.rocketpunch.c...'>,\n",
       " <Selector xpath='//*' data='<div class=\"content\">\\n\\n    <div class...'>,\n",
       " <Selector xpath='//*' data='<div class=\"ui right floated skip hea...'>,\n",
       " <Selector xpath='//*' data='<a data-modal=\"signup\">✕</a>'>,\n",
       " <Selector xpath='//*' data='<div class=\"company-name\">\\n      <a h...'>,\n",
       " <Selector xpath='//*' data='<a href=\"/companies/aitrics/jobs\" tar...'>,\n",
       " <Selector xpath='//*' data='<h4 class=\"header name\">          <st...'>,\n",
       " <Selector xpath='//*' data='<strong>에이아이트릭스</strong>'>,\n",
       " <Selector xpath='//*' data='<small>(AITRICS)</small>'>,\n",
       " <Selector xpath='//*' data='<span class=\"ui small basic response ...'>,\n",
       " <Selector xpath='//*' data='<div data-content=\"7일 이내 지원 결과를 알려줄 확...'>,\n",
       " <Selector xpath='//*' data='<div data-content=\"로켓펀치를 통해 채용한 기록이 있...'>,\n",
       " <Selector xpath='//*' data='<a class=\"reference-count\" data-url=\"...'>,\n",
       " <Selector xpath='//*' data='<i class=\"ic-thumbup-outline icon\"></i>'>,\n",
       " <Selector xpath='//*' data='<span class=\"count\">7</span>'>,\n",
       " <Selector xpath='//*' data='<div class=\"description\">The Next Gen...'>,\n",
       " <Selector xpath='//*' data='<div class=\"nowrap meta\">      모바일서비스...'>,\n",
       " <Selector xpath='//*' data='<div class=\"applicants\">\\n  <div class...'>,\n",
       " <Selector xpath='//*' data='<div class=\"avatar-list\">\\n\\n<div class...'>,\n",
       " <Selector xpath='//*' data='<div class=\"mini masked item\">?</div>'>,\n",
       " <Selector xpath='//*' data='<div class=\"mini masked item\">?</div>'>,\n",
       " <Selector xpath='//*' data='<div class=\"mini masked item\">?</div>'>,\n",
       " <Selector xpath='//*' data='<div class=\"mini masked item\">?</div>'>,\n",
       " <Selector xpath='//*' data='<div class=\"more item mini\"><span>+14...'>,\n",
       " <Selector xpath='//*' data='<span>+149</span>'>,\n",
       " <Selector xpath='//*' data='<span><a href=\"/companies/aitrics/job...'>,\n",
       " <Selector xpath='//*' data='<a href=\"/companies/aitrics/jobs/appl...'>,\n",
       " <Selector xpath='//*' data='<div class=\"ui divider\"></div>'>,\n",
       " <Selector xpath='//*' data='<div class=\"company-jobs-detail\">\\n   ...'>,\n",
       " <Selector xpath='//*' data='<div class=\"job-detail\">\\n            ...'>,\n",
       " <Selector xpath='//*' data='<div>\\n              <a href=\"/jobs/44...'>,\n",
       " <Selector xpath='//*' data='<a href=\"/jobs/44937/Back-end-Softwar...'>,\n",
       " <Selector xpath='//*' data='<span class=\"job-stat-info\">연봉 미기재 / ...'>,\n",
       " <Selector xpath='//*' data='<a data-modal=\"login\" style=\"float:ri...'>,\n",
       " <Selector xpath='//*' data='<i class=\"ic-bookmark_outline icon\"></i>'>,\n",
       " <Selector xpath='//*' data='<div class=\"job-dates\">\\n             ...'>,\n",
       " <Selector xpath='//*' data='<span>\\n                <i class=\"ic-c...'>,\n",
       " <Selector xpath='//*' data='<i class=\"ic-calendar_new icon\"></i>'>,\n",
       " <Selector xpath='//*' data='<span>                02/24 수정\\n</span>'>,\n",
       " <Selector xpath='//*' data='<div class=\"ui inverted divider\"></div>'>,\n",
       " <Selector xpath='//*' data='<div class=\"item brand-message\">\\n    ...'>,\n",
       " <Selector xpath='//*' data='<div class=\"logo image\"></div>'>,\n",
       " <Selector xpath='//*' data='<div class=\"content\">\\n          <img ...'>,\n",
       " <Selector xpath='//*' data='<img src=\"https://static.rocketpunch....'>,\n",
       " <Selector xpath='//*' data='<div class=\"description\">\\n           ...'>,\n",
       " <Selector xpath='//*' data='<h2>\\n              당신에게 필요한 좋은 일자리!\\n ...'>,\n",
       " <Selector xpath='//*' data='<h3>\\n              대한민국의 비즈니스 인맥이 모두 ...'>,\n",
       " <Selector xpath='//*' data='<a href=\"/signup\" class=\"ui basic pri...'>,\n",
       " <Selector xpath='//*' data='<div class=\"ui inverted divider\"></div>'>,\n",
       " <Selector xpath='//*' data='<div class=\"company item\" data-compan...'>,\n",
       " <Selector xpath='//*' data='<div class=\"logo image\">\\n    <a href=...'>,\n",
       " <Selector xpath='//*' data='<a href=\"/companies/purplenest/jobs\" ...'>,\n",
       " <Selector xpath='//*' data='<div class=\"ui logo\">\\n        <img sr...'>,\n",
       " <Selector xpath='//*' data='<img src=\"https://image.rocketpunch.c...'>,\n",
       " <Selector xpath='//*' data='<div class=\"content\">\\n\\n    <div class...'>,\n",
       " <Selector xpath='//*' data='<div class=\"ui right floated skip hea...'>,\n",
       " <Selector xpath='//*' data='<a data-modal=\"signup\">✕</a>'>,\n",
       " <Selector xpath='//*' data='<div class=\"company-name\">\\n      <a h...'>,\n",
       " <Selector xpath='//*' data='<a href=\"/companies/purplenest/jobs\" ...'>,\n",
       " <Selector xpath='//*' data='<h4 class=\"header name\">          <st...'>,\n",
       " <Selector xpath='//*' data='<strong>퍼플네스트</strong>'>,\n",
       " <Selector xpath='//*' data='<small>(PurpleNest)</small>'>,\n",
       " <Selector xpath='//*' data='<span class=\"ui small basic response ...'>,\n",
       " <Selector xpath='//*' data='<div data-content=\"7일 이내 지원 결과를 알려줄 확...'>,\n",
       " <Selector xpath='//*' data='<div data-content=\"로켓펀치를 통해 채용한 기록이 있...'>,\n",
       " <Selector xpath='//*' data='<a class=\"reference-count\" data-url=\"...'>,\n",
       " <Selector xpath='//*' data='<i class=\"ic-thumbup-outline icon\"></i>'>,\n",
       " <Selector xpath='//*' data='<span class=\"count\">19</span>'>,\n",
       " <Selector xpath='//*' data='<div class=\"description\">반려동물과 반려인을 위...'>,\n",
       " <Selector xpath='//*' data='<div class=\"nowrap meta\">      모바일서비스...'>,\n",
       " <Selector xpath='//*' data='<div class=\"applicants\">\\n  <div class...'>,\n",
       " <Selector xpath='//*' data='<div class=\"avatar-list\">\\n\\n<a href=\"/...'>,\n",
       " <Selector xpath='//*' data='<a href=\"/@choinashil\">\\n      <img sr...'>,\n",
       " <Selector xpath='//*' data='<img src=\"https://image.rocketpunch.c...'>,\n",
       " <Selector xpath='//*' data='<a href=\"/@playnstop.s\">\\n      <img s...'>,\n",
       " <Selector xpath='//*' data='<img src=\"https://image.rocketpunch.c...'>,\n",
       " <Selector xpath='//*' data='<div class=\"mini masked item\">?</div>'>,\n",
       " <Selector xpath='//*' data='<div class=\"mini masked item\">?</div>'>,\n",
       " <Selector xpath='//*' data='<div class=\"more item mini\"><span>+17...'>,\n",
       " <Selector xpath='//*' data='<span>+173</span>'>,\n",
       " <Selector xpath='//*' data='<span><a href=\"/companies/purplenest/...'>,\n",
       " <Selector xpath='//*' data='<a href=\"/companies/purplenest/jobs/a...'>,\n",
       " <Selector xpath='//*' data='<div class=\"ui divider\"></div>'>,\n",
       " <Selector xpath='//*' data='<div class=\"company-jobs-detail\">\\n   ...'>,\n",
       " <Selector xpath='//*' data='<div class=\"job-detail\">\\n            ...'>,\n",
       " <Selector xpath='//*' data='<div>\\n              <a href=\"/jobs/69...'>,\n",
       " <Selector xpath='//*' data='<a href=\"/jobs/69968/%EB%B0%B1%EC%97%...'>,\n",
       " <Selector xpath='//*' data='<span class=\"job-stat-info\">최소 5,500만...'>,\n",
       " <Selector xpath='//*' data='<a data-modal=\"login\" style=\"float:ri...'>,\n",
       " <Selector xpath='//*' data='<i class=\"ic-bookmark_outline icon\"></i>'>,\n",
       " <Selector xpath='//*' data='<div class=\"job-dates\">\\n             ...'>,\n",
       " <Selector xpath='//*' data='<span>\\n                <i class=\"ic-c...'>,\n",
       " <Selector xpath='//*' data='<i class=\"ic-calendar_new icon\"></i>'>,\n",
       " <Selector xpath='//*' data='<span>                02/22 수정\\n</span>'>,\n",
       " <Selector xpath='//*' data='<div class=\"ui inverted divider\"></div>'>,\n",
       " <Selector xpath='//*' data='<div class=\"company item\" data-compan...'>,\n",
       " <Selector xpath='//*' data='<div class=\"logo image\">\\n    <a href=...'>,\n",
       " <Selector xpath='//*' data='<a href=\"/companies/crocusenergy/jobs...'>,\n",
       " <Selector xpath='//*' data='<div class=\"ui logo\">\\n        <img sr...'>,\n",
       " <Selector xpath='//*' data='<img src=\"https://image.rocketpunch.c...'>,\n",
       " <Selector xpath='//*' data='<div class=\"content\">\\n\\n    <div class...'>,\n",
       " <Selector xpath='//*' data='<div class=\"ui right floated skip hea...'>,\n",
       " <Selector xpath='//*' data='<a data-modal=\"signup\">✕</a>'>,\n",
       " <Selector xpath='//*' data='<div class=\"company-name\">\\n      <a h...'>,\n",
       " <Selector xpath='//*' data='<a href=\"/companies/crocusenergy/jobs...'>,\n",
       " <Selector xpath='//*' data='<h4 class=\"header name\">          <st...'>,\n",
       " <Selector xpath='//*' data='<strong>크로커스 에너지 코리아</strong>'>,\n",
       " <Selector xpath='//*' data='<small>(Crocus Energy Korea)</small>'>,\n",
       " <Selector xpath='//*' data='<a class=\"reference-count\" data-url=\"...'>,\n",
       " <Selector xpath='//*' data='<i class=\"ic-thumbup-outline icon\"></i>'>,\n",
       " <Selector xpath='//*' data='<span class=\"count\">2</span>'>,\n",
       " <Selector xpath='//*' data='<div class=\"description\">에너지데이터를 활용한 ...'>,\n",
       " <Selector xpath='//*' data='<div class=\"nowrap meta\">      데이터 ∙ ...'>,\n",
       " <Selector xpath='//*' data='<div class=\"applicants\">\\n  <div class...'>,\n",
       " <Selector xpath='//*' data='<div class=\"avatar-list\">\\n\\n<div class...'>,\n",
       " <Selector xpath='//*' data='<div class=\"mini masked item\">?</div>'>,\n",
       " <Selector xpath='//*' data='<div class=\"mini masked item\">?</div>'>,\n",
       " <Selector xpath='//*' data='<div class=\"mini masked item\">?</div>'>,\n",
       " <Selector xpath='//*' data='<div class=\"mini masked item\">?</div>'>,\n",
       " <Selector xpath='//*' data='<div class=\"more item mini\"><span>+26...'>,\n",
       " <Selector xpath='//*' data='<span>+26</span>'>,\n",
       " <Selector xpath='//*' data='<span><a href=\"/companies/crocusenerg...'>,\n",
       " <Selector xpath='//*' data='<a href=\"/companies/crocusenergy/jobs...'>,\n",
       " <Selector xpath='//*' data='<div class=\"ui divider\"></div>'>,\n",
       " <Selector xpath='//*' data='<div class=\"company-jobs-detail\">\\n   ...'>,\n",
       " <Selector xpath='//*' data='<div class=\"job-detail\">\\n            ...'>,\n",
       " <Selector xpath='//*' data='<div>\\n              <a href=\"/jobs/68...'>,\n",
       " <Selector xpath='//*' data='<a href=\"/jobs/68465/%EC%97%90%EB%84%...'>,\n",
       " <Selector xpath='//*' data='<span class=\"job-stat-info\">4,000 - 4...'>,\n",
       " <Selector xpath='//*' data='<a data-modal=\"login\" style=\"float:ri...'>,\n",
       " <Selector xpath='//*' data='<i class=\"ic-bookmark_outline icon\"></i>'>,\n",
       " <Selector xpath='//*' data='<div class=\"job-dates\">\\n             ...'>,\n",
       " <Selector xpath='//*' data='<span>\\n                <i class=\"ic-c...'>,\n",
       " <Selector xpath='//*' data='<i class=\"ic-calendar_new icon\"></i>'>,\n",
       " <Selector xpath='//*' data='<span>                02/21 수정\\n</span>'>,\n",
       " <Selector xpath='//*' data='<div class=\"ui inverted divider\"></div>'>,\n",
       " <Selector xpath='//*' data='<div class=\"company item\" data-compan...'>,\n",
       " <Selector xpath='//*' data='<div class=\"logo image\">\\n    <a href=...'>,\n",
       " <Selector xpath='//*' data='<a href=\"/companies/pdxen/jobs\" targe...'>,\n",
       " <Selector xpath='//*' data='<div class=\"ui logo\">\\n        <img sr...'>,\n",
       " <Selector xpath='//*' data='<img src=\"https://image.rocketpunch.c...'>,\n",
       " <Selector xpath='//*' data='<div class=\"content\">\\n\\n    <div class...'>,\n",
       " <Selector xpath='//*' data='<div class=\"ui right floated skip hea...'>,\n",
       " <Selector xpath='//*' data='<a data-modal=\"signup\">✕</a>'>,\n",
       " <Selector xpath='//*' data='<div class=\"company-name\">\\n      <a h...'>,\n",
       " <Selector xpath='//*' data='<a href=\"/companies/pdxen/jobs\" targe...'>,\n",
       " <Selector xpath='//*' data='<h4 class=\"header name\">          <st...'>,\n",
       " <Selector xpath='//*' data='<strong>피디젠</strong>'>,\n",
       " <Selector xpath='//*' data='<small>(PDXen)</small>'>,\n",
       " <Selector xpath='//*' data='<a class=\"reference-count\" data-url=\"...'>,\n",
       " <Selector xpath='//*' data='<i class=\"ic-thumbup-outline icon\"></i>'>,\n",
       " <Selector xpath='//*' data='<span class=\"count\"></span>'>,\n",
       " <Selector xpath='//*' data='<div class=\"description\">딥러닝을 통한 의료빅데...'>,\n",
       " <Selector xpath='//*' data='<div class=\"nowrap meta\">      소프트웨어 ...'>,\n",
       " <Selector xpath='//*' data='<div class=\"ui divider\"></div>'>,\n",
       " <Selector xpath='//*' data='<div class=\"company-jobs-detail\">\\n   ...'>,\n",
       " <Selector xpath='//*' data='<div class=\"job-detail\">\\n            ...'>,\n",
       " <Selector xpath='//*' data='<div>\\n              <a href=\"/jobs/69...'>,\n",
       " <Selector xpath='//*' data='<a href=\"/jobs/69728/Deep-learing%EC%...'>,\n",
       " <Selector xpath='//*' data='<span class=\"job-stat-info\">3,000 - 4...'>,\n",
       " <Selector xpath='//*' data='<a data-modal=\"login\" style=\"float:ri...'>,\n",
       " <Selector xpath='//*' data='<i class=\"ic-bookmark_outline icon\"></i>'>,\n",
       " <Selector xpath='//*' data='<div class=\"job-dates\">\\n             ...'>,\n",
       " <Selector xpath='//*' data='<span>\\n                <i class=\"ic-c...'>,\n",
       " <Selector xpath='//*' data='<i class=\"ic-calendar_new icon\"></i>'>,\n",
       " <Selector xpath='//*' data='<span>                02/18 등록\\n</span>'>,\n",
       " <Selector xpath='//*' data='<div class=\"ui inverted divider\"></div>'>,\n",
       " <Selector xpath='//*' data='<div class=\"company item\" data-compan...'>,\n",
       " <Selector xpath='//*' data='<div class=\"logo image\">\\n    <a href=...'>,\n",
       " <Selector xpath='//*' data='<a href=\"/companies/nuvent/jobs\" targ...'>,\n",
       " <Selector xpath='//*' data='<div class=\"ui logo\">\\n        <img sr...'>,\n",
       " <Selector xpath='//*' data='<img src=\"https://image.rocketpunch.c...'>,\n",
       " <Selector xpath='//*' data='<div class=\"content\">\\n\\n    <div class...'>,\n",
       " <Selector xpath='//*' data='<div class=\"ui right floated skip hea...'>,\n",
       " <Selector xpath='//*' data='<a data-modal=\"signup\">✕</a>'>,\n",
       " <Selector xpath='//*' data='<div class=\"company-name\">\\n      <a h...'>,\n",
       " <Selector xpath='//*' data='<a href=\"/companies/nuvent/jobs\" targ...'>,\n",
       " <Selector xpath='//*' data='<h4 class=\"header name\">          <st...'>,\n",
       " <Selector xpath='//*' data='<strong>누벤트</strong>'>,\n",
       " <Selector xpath='//*' data='<small>(Nuvent)</small>'>,\n",
       " <Selector xpath='//*' data='<span class=\"ui small basic response ...'>,\n",
       " <Selector xpath='//*' data='<div data-content=\"7일 이내 지원 결과를 알려줄 확...'>,\n",
       " <Selector xpath='//*' data='<a class=\"reference-count\" data-url=\"...'>,\n",
       " <Selector xpath='//*' data='<i class=\"ic-thumbup-outline icon\"></i>'>,\n",
       " <Selector xpath='//*' data='<span class=\"count\"></span>'>,\n",
       " <Selector xpath='//*' data='<div class=\"description\">결제데이터를 실시간 수...'>,\n",
       " <Selector xpath='//*' data='<div class=\"nowrap meta\">      모바일서비스...'>,\n",
       " <Selector xpath='//*' data='<div class=\"applicants\">\\n  <div class...'>,\n",
       " <Selector xpath='//*' data='<div class=\"avatar-list\">\\n\\n<div class...'>,\n",
       " <Selector xpath='//*' data='<div class=\"mini masked item\">?</div>'>,\n",
       " <Selector xpath='//*' data='<div class=\"mini masked item\">?</div>'>,\n",
       " <Selector xpath='//*' data='<div class=\"mini masked item\">?</div>'>,\n",
       " <Selector xpath='//*' data='<div class=\"mini masked item\">?</div>'>,\n",
       " <Selector xpath='//*' data='<div class=\"more item mini\"><span>+17...'>,\n",
       " <Selector xpath='//*' data='<span>+17</span>'>,\n",
       " <Selector xpath='//*' data='<span><a href=\"/companies/nuvent/jobs...'>,\n",
       " <Selector xpath='//*' data='<a href=\"/companies/nuvent/jobs/appli...'>,\n",
       " <Selector xpath='//*' data='<div class=\"ui divider\"></div>'>,\n",
       " <Selector xpath='//*' data='<div class=\"company-jobs-detail\">\\n   ...'>,\n",
       " <Selector xpath='//*' data='<div class=\"job-detail\">\\n            ...'>,\n",
       " <Selector xpath='//*' data='<div>\\n              <a href=\"/jobs/69...'>,\n",
       " <Selector xpath='//*' data='<a href=\"/jobs/69726/%EB%B0%B1%EC%97%...'>,\n",
       " <Selector xpath='//*' data='<span class=\"job-stat-info\">최소 3,500만...'>,\n",
       " <Selector xpath='//*' data='<a data-modal=\"login\" style=\"float:ri...'>,\n",
       " <Selector xpath='//*' data='<i class=\"ic-bookmark_outline icon\"></i>'>,\n",
       " <Selector xpath='//*' data='<div class=\"job-dates\">\\n             ...'>,\n",
       " <Selector xpath='//*' data='<span>\\n                <i class=\"ic-c...'>,\n",
       " <Selector xpath='//*' data='<i class=\"ic-calendar_new icon\"></i>'>,\n",
       " <Selector xpath='//*' data='<span>                02/18 등록\\n</span>'>,\n",
       " <Selector xpath='//*' data='<div class=\"ui inverted divider\"></div>'>,\n",
       " <Selector xpath='//*' data='<div class=\"company item\" data-compan...'>,\n",
       " <Selector xpath='//*' data='<div class=\"logo image\">\\n    <a href=...'>,\n",
       " <Selector xpath='//*' data='<a href=\"/companies/visualcamp/jobs\" ...'>,\n",
       " <Selector xpath='//*' data='<div class=\"ui logo\">\\n        <img sr...'>,\n",
       " <Selector xpath='//*' data='<img src=\"https://image.rocketpunch.c...'>,\n",
       " <Selector xpath='//*' data='<div class=\"content\">\\n\\n    <div class...'>,\n",
       " <Selector xpath='//*' data='<div class=\"ui right floated skip hea...'>,\n",
       " <Selector xpath='//*' data='<a data-modal=\"signup\">✕</a>'>,\n",
       " <Selector xpath='//*' data='<div class=\"company-name\">\\n      <a h...'>,\n",
       " <Selector xpath='//*' data='<a href=\"/companies/visualcamp/jobs\" ...'>,\n",
       " <Selector xpath='//*' data='<h4 class=\"header name\">          <st...'>,\n",
       " <Selector xpath='//*' data='<strong>비주얼캠프</strong>'>,\n",
       " <Selector xpath='//*' data='<small>(VisualCamp)</small>'>,\n",
       " <Selector xpath='//*' data='<span class=\"ui small basic response ...'>,\n",
       " <Selector xpath='//*' data='<div data-content=\"7일 이내 지원 결과를 알려줄 확...'>,\n",
       " <Selector xpath='//*' data='<div data-content=\"로켓펀치를 통해 채용한 기록이 있...'>,\n",
       " <Selector xpath='//*' data='<a class=\"reference-count\" data-url=\"...'>,\n",
       " <Selector xpath='//*' data='<i class=\"ic-thumbup-outline icon\"></i>'>,\n",
       " <Selector xpath='//*' data='<span class=\"count\">15</span>'>,\n",
       " <Selector xpath='//*' data='<div class=\"description\">Eye-tracking...'>,\n",
       " <Selector xpath='//*' data='<div class=\"nowrap meta\">      소프트웨어 ...'>,\n",
       " <Selector xpath='//*' data='<div class=\"applicants\">\\n  <div class...'>,\n",
       " <Selector xpath='//*' data='<div class=\"avatar-list\">\\n\\n<a href=\"/...'>,\n",
       " <Selector xpath='//*' data='<a href=\"/@sejongid\">\\n      <img src=...'>,\n",
       " <Selector xpath='//*' data='<img src=\"https://image.rocketpunch.c...'>,\n",
       " <Selector xpath='//*' data='<a href=\"/@yongeunlee\">\\n      <img sr...'>,\n",
       " <Selector xpath='//*' data='<img src=\"https://image.rocketpunch.c...'>,\n",
       " <Selector xpath='//*' data='<a href=\"/@thinkronize\">\\n      <img s...'>,\n",
       " <Selector xpath='//*' data='<img src=\"https://image.rocketpunch.c...'>,\n",
       " <Selector xpath='//*' data='<a href=\"/@asfrom30\">\\n      <img src=...'>,\n",
       " <Selector xpath='//*' data='<img src=\"https://image.rocketpunch.c...'>,\n",
       " <Selector xpath='//*' data='<div class=\"more item mini\"><span>+11...'>,\n",
       " <Selector xpath='//*' data='<span>+117</span>'>,\n",
       " <Selector xpath='//*' data='<span><a href=\"/companies/visualcamp/...'>,\n",
       " <Selector xpath='//*' data='<a href=\"/companies/visualcamp/jobs/a...'>,\n",
       " <Selector xpath='//*' data='<div class=\"ui divider\"></div>'>,\n",
       " <Selector xpath='//*' data='<div class=\"company-jobs-detail\">\\n   ...'>,\n",
       " <Selector xpath='//*' data='<div class=\"job-detail\">\\n            ...'>,\n",
       " <Selector xpath='//*' data='<div>\\n              <a href=\"/jobs/69...'>,\n",
       " <Selector xpath='//*' data='<a href=\"/jobs/69659/%ED%98%84%EC%97%...'>,\n",
       " <Selector xpath='//*' data='<span class=\"job-stat-info\">3,600 - 7...'>,\n",
       " <Selector xpath='//*' data='<a data-modal=\"login\" style=\"float:ri...'>,\n",
       " <Selector xpath='//*' data='<i class=\"ic-bookmark_outline icon\"></i>'>,\n",
       " <Selector xpath='//*' data='<div class=\"job-dates\">\\n             ...'>,\n",
       " <Selector xpath='//*' data='<span>\\n                <i class=\"ic-c...'>,\n",
       " <Selector xpath='//*' data='<i class=\"ic-calendar_new icon\"></i>'>,\n",
       " <Selector xpath='//*' data='<span>                02/17 등록\\n</span>'>,\n",
       " <Selector xpath='//*' data='<div class=\"ui inverted divider\"></div>'>,\n",
       " <Selector xpath='//*' data='<div class=\"company item\" data-compan...'>,\n",
       " <Selector xpath='//*' data='<div class=\"logo image\">\\n    <a href=...'>,\n",
       " <Selector xpath='//*' data='<a href=\"/companies/x_x/jobs\" target=...'>,\n",
       " <Selector xpath='//*' data='<div class=\"ui logo\">\\n        <img sr...'>,\n",
       " <Selector xpath='//*' data='<img src=\"https://image.rocketpunch.c...'>,\n",
       " <Selector xpath='//*' data='<div class=\"content\">\\n\\n    <div class...'>,\n",
       " <Selector xpath='//*' data='<div class=\"ui right floated skip hea...'>,\n",
       " <Selector xpath='//*' data='<a data-modal=\"signup\">✕</a>'>,\n",
       " <Selector xpath='//*' data='<div class=\"company-name\">\\n      <a h...'>,\n",
       " <Selector xpath='//*' data='<a href=\"/companies/x_x/jobs\" target=...'>,\n",
       " <Selector xpath='//*' data='<h4 class=\"header name\">          <st...'>,\n",
       " <Selector xpath='//*' data='<strong>(주)엑스바엑스</strong>'>,\n",
       " <Selector xpath='//*' data='<small>(XbarX)</small>'>,\n",
       " <Selector xpath='//*' data='<span class=\"ui small basic response ...'>,\n",
       " <Selector xpath='//*' data='<div data-content=\"7일 이내 지원 결과를 알려줄 확...'>,\n",
       " <Selector xpath='//*' data='<div data-content=\"로켓펀치를 통해 채용한 기록이 있...'>,\n",
       " <Selector xpath='//*' data='<a class=\"reference-count\" data-url=\"...'>,\n",
       " <Selector xpath='//*' data='<i class=\"ic-thumbup-outline icon\"></i>'>,\n",
       " <Selector xpath='//*' data='<span class=\"count\">6</span>'>,\n",
       " <Selector xpath='//*' data='<div class=\"description\">외식 사업자를 위한, ...'>,\n",
       " <Selector xpath='//*' data='<div class=\"nowrap meta\">      모바일서비스...'>,\n",
       " <Selector xpath='//*' data='<div class=\"applicants\">\\n  <div class...'>,\n",
       " <Selector xpath='//*' data='<div class=\"avatar-list\">\\n\\n<a href=\"/...'>,\n",
       " <Selector xpath='//*' data='<a href=\"/@saebyol42\">\\n      <img src...'>,\n",
       " <Selector xpath='//*' data='<img src=\"https://image.rocketpunch.c...'>,\n",
       " <Selector xpath='//*' data='<a href=\"/@hojinjung58d5527966c440be\"...'>,\n",
       " <Selector xpath='//*' data='<img src=\"https://image.rocketpunch.c...'>,\n",
       " <Selector xpath='//*' data='<div class=\"mini masked item\">?</div>'>,\n",
       " <Selector xpath='//*' data='<div class=\"mini masked item\">?</div>'>,\n",
       " <Selector xpath='//*' data='<div class=\"more item mini\"><span>+34...'>,\n",
       " <Selector xpath='//*' data='<span>+349</span>'>,\n",
       " <Selector xpath='//*' data='<span><a href=\"/companies/x_x/jobs/ap...'>,\n",
       " <Selector xpath='//*' data='<a href=\"/companies/x_x/jobs/applican...'>,\n",
       " <Selector xpath='//*' data='<div class=\"ui divider\"></div>'>,\n",
       " <Selector xpath='//*' data='<div class=\"company-jobs-detail\">\\n   ...'>,\n",
       " <Selector xpath='//*' data='<div class=\"job-detail\">\\n            ...'>,\n",
       " <Selector xpath='//*' data='<div>\\n              <a href=\"/jobs/47...'>,\n",
       " <Selector xpath='//*' data='<a href=\"/jobs/47553/%ED%95%B5%EC%8B%...'>,\n",
       " <Selector xpath='//*' data='<span class=\"job-stat-info\">3,600 - 8...'>,\n",
       " <Selector xpath='//*' data='<a data-modal=\"login\" style=\"float:ri...'>,\n",
       " <Selector xpath='//*' data='<i class=\"ic-bookmark_outline icon\"></i>'>,\n",
       " <Selector xpath='//*' data='<div class=\"job-dates\">\\n             ...'>,\n",
       " <Selector xpath='//*' data='<span>\\n                <i class=\"ic-c...'>,\n",
       " <Selector xpath='//*' data='<i class=\"ic-calendar_new icon\"></i>'>,\n",
       " <Selector xpath='//*' data='<span>\\n                <i class=\"feed...'>,\n",
       " <Selector xpath='//*' data='<i class=\"feed icon\"></i>'>,\n",
       " <Selector xpath='//*' data='<span>                02/12 수정\\n</span>'>,\n",
       " <Selector xpath='//*' data='<div class=\"ui divider\"></div>'>,\n",
       " <Selector xpath='//*' data='<div class=\"job-detail\">\\n            ...'>,\n",
       " <Selector xpath='//*' data='<div>\\n              <a href=\"/jobs/47...'>,\n",
       " <Selector xpath='//*' data='<a href=\"/jobs/47552/Back-End-%EA%B0%...'>,\n",
       " <Selector xpath='//*' data='<span class=\"job-stat-info\">4,500 - 8...'>,\n",
       " <Selector xpath='//*' data='<a data-modal=\"login\" style=\"float:ri...'>,\n",
       " <Selector xpath='//*' data='<i class=\"ic-bookmark_outline icon\"></i>'>,\n",
       " <Selector xpath='//*' data='<div class=\"job-dates\">\\n             ...'>,\n",
       " <Selector xpath='//*' data='<span>\\n                <i class=\"ic-c...'>,\n",
       " <Selector xpath='//*' data='<i class=\"ic-calendar_new icon\"></i>'>,\n",
       " <Selector xpath='//*' data='<span>\\n                <i class=\"feed...'>,\n",
       " <Selector xpath='//*' data='<i class=\"feed icon\"></i>'>,\n",
       " <Selector xpath='//*' data='<span>                12/27 수정\\n</span>'>,\n",
       " <Selector xpath='//*' data='<div class=\"ui inverted divider\"></div>'>,\n",
       " <Selector xpath='//*' data='<div class=\"company item\" data-compan...'>,\n",
       " <Selector xpath='//*' data='<div class=\"logo image\">\\n    <a href=...'>,\n",
       " <Selector xpath='//*' data='<a href=\"/companies/theclozet/jobs\" t...'>,\n",
       " <Selector xpath='//*' data='<div class=\"ui logo\">\\n        <img sr...'>,\n",
       " <Selector xpath='//*' data='<img src=\"https://image.rocketpunch.c...'>,\n",
       " <Selector xpath='//*' data='<div class=\"content\">\\n\\n    <div class...'>,\n",
       " <Selector xpath='//*' data='<div class=\"ui right floated skip hea...'>,\n",
       " <Selector xpath='//*' data='<a data-modal=\"signup\">✕</a>'>,\n",
       " <Selector xpath='//*' data='<div class=\"company-name\">\\n      <a h...'>,\n",
       " <Selector xpath='//*' data='<a href=\"/companies/theclozet/jobs\" t...'>,\n",
       " <Selector xpath='//*' data='<h4 class=\"header name\">          <st...'>,\n",
       " <Selector xpath='//*' data='<strong>(주)더클로젯컴퍼니</strong>'>,\n",
       " <Selector xpath='//*' data='<small>(The Clozet)</small>'>,\n",
       " <Selector xpath='//*' data='<span class=\"ui small basic recruit l...'>,\n",
       " <Selector xpath='//*' data='<div data-content=\"로켓펀치를 통해 채용한 기록이 있...'>,\n",
       " <Selector xpath='//*' data='<a class=\"reference-count\" data-url=\"...'>,\n",
       " <Selector xpath='//*' data='<i class=\"ic-thumbup-outline icon\"></i>'>,\n",
       " <Selector xpath='//*' data='<span class=\"count\">18</span>'>,\n",
       " <Selector xpath='//*' data='<div class=\"description\">온디맨드 패션 셰어링 ...'>,\n",
       " <Selector xpath='//*' data='<div class=\"nowrap meta\">      모바일서비스...'>,\n",
       " <Selector xpath='//*' data='<div class=\"applicants\">\\n  <div class...'>,\n",
       " <Selector xpath='//*' data='<div class=\"avatar-list\">\\n\\n<div class...'>,\n",
       " <Selector xpath='//*' data='<div class=\"mini masked item\">?</div>'>,\n",
       " <Selector xpath='//*' data='<div class=\"mini masked item\">?</div>'>,\n",
       " <Selector xpath='//*' data='<div class=\"mini masked item\">?</div>'>,\n",
       " <Selector xpath='//*' data='<div class=\"mini masked item\">?</div>'>,\n",
       " <Selector xpath='//*' data='<div class=\"more item mini\"><span>+19...'>,\n",
       " <Selector xpath='//*' data='<span>+199</span>'>,\n",
       " <Selector xpath='//*' data='<span><a href=\"/companies/theclozet/j...'>,\n",
       " <Selector xpath='//*' data='<a href=\"/companies/theclozet/jobs/ap...'>,\n",
       " <Selector xpath='//*' data='<div class=\"ui divider\"></div>'>,\n",
       " <Selector xpath='//*' data='<div class=\"company-jobs-detail\">\\n   ...'>,\n",
       " <Selector xpath='//*' data='<div class=\"job-detail\">\\n            ...'>,\n",
       " <Selector xpath='//*' data='<div>\\n              <a href=\"/jobs/50...'>,\n",
       " <Selector xpath='//*' data='<a href=\"/jobs/50447/%EA%B2%BD%EB%A0%...'>,\n",
       " <Selector xpath='//*' data='<span class=\"job-stat-info\">4,000 - 6...'>,\n",
       " <Selector xpath='//*' data='<a data-modal=\"login\" style=\"float:ri...'>,\n",
       " <Selector xpath='//*' data='<i class=\"ic-bookmark_outline icon\"></i>'>,\n",
       " <Selector xpath='//*' data='<div class=\"job-dates\">\\n             ...'>,\n",
       " <Selector xpath='//*' data='<span>\\n                <i class=\"ic-c...'>,\n",
       " <Selector xpath='//*' data='<i class=\"ic-calendar_new icon\"></i>'>,\n",
       " <Selector xpath='//*' data='<span>                02/11 수정\\n</span>'>,\n",
       " <Selector xpath='//*' data='<div class=\"ui inverted divider\"></div>'>,\n",
       " <Selector xpath='//*' data='<div class=\"company item\" data-compan...'>,\n",
       " <Selector xpath='//*' data='<div class=\"logo image\">\\n    <a href=...'>,\n",
       " <Selector xpath='//*' data='<a href=\"/companies/finda/jobs\" targe...'>,\n",
       " <Selector xpath='//*' data='<div class=\"ui logo\">\\n        <img sr...'>,\n",
       " <Selector xpath='//*' data='<img src=\"https://image.rocketpunch.c...'>,\n",
       " <Selector xpath='//*' data='<div class=\"content\">\\n\\n    <div class...'>,\n",
       " <Selector xpath='//*' data='<div class=\"ui right floated skip hea...'>,\n",
       " <Selector xpath='//*' data='<a data-modal=\"signup\">✕</a>'>,\n",
       " <Selector xpath='//*' data='<div class=\"company-name\">\\n      <a h...'>,\n",
       " <Selector xpath='//*' data='<a href=\"/companies/finda/jobs\" targe...'>,\n",
       " <Selector xpath='//*' data='<h4 class=\"header name\">          <st...'>,\n",
       " <Selector xpath='//*' data='<strong>핀다</strong>'>,\n",
       " <Selector xpath='//*' data='<small>(FINDA)</small>'>,\n",
       " <Selector xpath='//*' data='<span class=\"ui small basic recruit l...'>,\n",
       " <Selector xpath='//*' data='<div data-content=\"로켓펀치를 통해 채용한 기록이 있...'>,\n",
       " <Selector xpath='//*' data='<a class=\"reference-count\" data-url=\"...'>,\n",
       " <Selector xpath='//*' data='<i class=\"ic-thumbup-outline icon\"></i>'>,\n",
       " <Selector xpath='//*' data='<span class=\"count\">4</span>'>,\n",
       " <Selector xpath='//*' data='<div class=\"description\">금융을 쇼핑하다, 핀다...'>,\n",
       " <Selector xpath='//*' data='<div class=\"nowrap meta\">      마케팅 ∙ ...'>,\n",
       " <Selector xpath='//*' data='<div class=\"applicants\">\\n  <div class...'>,\n",
       " <Selector xpath='//*' data='<div class=\"avatar-list\">\\n\\n<div class...'>,\n",
       " <Selector xpath='//*' data='<div class=\"mini masked item\">?</div>'>,\n",
       " <Selector xpath='//*' data='<div class=\"mini masked item\">?</div>'>,\n",
       " <Selector xpath='//*' data='<div class=\"mini masked item\">?</div>'>,\n",
       " <Selector xpath='//*' data='<div class=\"mini masked item\">?</div>'>,\n",
       " <Selector xpath='//*' data='<div class=\"more item mini\"><span>+26...'>,\n",
       " <Selector xpath='//*' data='<span>+267</span>'>,\n",
       " <Selector xpath='//*' data='<span><a href=\"/companies/finda/jobs/...'>,\n",
       " <Selector xpath='//*' data='<a href=\"/companies/finda/jobs/applic...'>,\n",
       " <Selector xpath='//*' data='<div class=\"ui divider\"></div>'>,\n",
       " <Selector xpath='//*' data='<div class=\"company-jobs-detail\">\\n   ...'>,\n",
       " <Selector xpath='//*' data='<div class=\"job-detail\">\\n            ...'>,\n",
       " <Selector xpath='//*' data='<div>\\n              <a href=\"/jobs/69...'>,\n",
       " <Selector xpath='//*' data='<a href=\"/jobs/69133/Frontend-Develop...'>,\n",
       " <Selector xpath='//*' data='<span class=\"job-stat-info\">경력</span>'>,\n",
       " <Selector xpath='//*' data='<a data-modal=\"login\" style=\"float:ri...'>,\n",
       " <Selector xpath='//*' data='<i class=\"ic-bookmark_outline icon\"></i>'>,\n",
       " <Selector xpath='//*' data='<div class=\"job-dates\">\\n             ...'>,\n",
       " <Selector xpath='//*' data='<span>\\n                <i class=\"ic-c...'>,\n",
       " <Selector xpath='//*' data='<i class=\"ic-calendar_new icon\"></i>'>,\n",
       " <Selector xpath='//*' data='<span>                02/06 등록\\n</span>'>,\n",
       " <Selector xpath='//*' data='<div class=\"ui inverted divider\"></div>'>,\n",
       " <Selector xpath='//*' data='<div class=\"company item\" data-compan...'>,\n",
       " <Selector xpath='//*' data='<div class=\"logo image\">\\n    <a href=...'>,\n",
       " <Selector xpath='//*' data='<a href=\"/companies/userhabit/jobs\" t...'>,\n",
       " <Selector xpath='//*' data='<div class=\"ui logo\">\\n        <img sr...'>,\n",
       " <Selector xpath='//*' data='<img src=\"https://image.rocketpunch.c...'>,\n",
       " <Selector xpath='//*' data='<div class=\"content\">\\n\\n    <div class...'>,\n",
       " <Selector xpath='//*' data='<div class=\"ui right floated skip hea...'>,\n",
       " <Selector xpath='//*' data='<a data-modal=\"signup\">✕</a>'>,\n",
       " <Selector xpath='//*' data='<div class=\"company-name\">\\n      <a h...'>,\n",
       " <Selector xpath='//*' data='<a href=\"/companies/userhabit/jobs\" t...'>,\n",
       " <Selector xpath='//*' data='<h4 class=\"header name\">          <st...'>,\n",
       " <Selector xpath='//*' data='<strong>유저해빗</strong>'>,\n",
       " <Selector xpath='//*' data='<small>(UserHabit)</small>'>,\n",
       " <Selector xpath='//*' data='<a class=\"reference-count\" data-url=\"...'>,\n",
       " <Selector xpath='//*' data='<i class=\"ic-thumbup-outline icon\"></i>'>,\n",
       " <Selector xpath='//*' data='<span class=\"count\">7</span>'>,\n",
       " <Selector xpath='//*' data='<div class=\"description\">모바일 앱 사용자 행동...'>,\n",
       " <Selector xpath='//*' data='<div class=\"nowrap meta\">      모바일서비스...'>,\n",
       " <Selector xpath='//*' data='<div class=\"applicants\">\\n  <div class...'>,\n",
       " <Selector xpath='//*' data='<div class=\"avatar-list\">\\n\\n<a href=\"/...'>,\n",
       " <Selector xpath='//*' data='<a href=\"/@chiyoung571\">\\n      <img s...'>,\n",
       " <Selector xpath='//*' data='<img src=\"https://image.rocketpunch.c...'>,\n",
       " <Selector xpath='//*' data='<a href=\"/@junghyuncho70ab70f695e3454...'>,\n",
       " <Selector xpath='//*' data='<img src=\"https://image.rocketpunch.c...'>,\n",
       " <Selector xpath='//*' data='<div class=\"mini masked item\">?</div>'>,\n",
       " <Selector xpath='//*' data='<div class=\"mini masked item\">?</div>'>,\n",
       " <Selector xpath='//*' data='<div class=\"more item mini\"><span>+92...'>,\n",
       " <Selector xpath='//*' data='<span>+92</span>'>,\n",
       " <Selector xpath='//*' data='<span><a href=\"/companies/userhabit/j...'>,\n",
       " <Selector xpath='//*' data='<a href=\"/companies/userhabit/jobs/ap...'>,\n",
       " <Selector xpath='//*' data='<div class=\"ui divider\"></div>'>,\n",
       " <Selector xpath='//*' data='<div class=\"company-jobs-detail\">\\n   ...'>,\n",
       " <Selector xpath='//*' data='<div class=\"job-detail\">\\n            ...'>,\n",
       " <Selector xpath='//*' data='<div>\\n              <a href=\"/jobs/68...'>,\n",
       " <Selector xpath='//*' data='<a href=\"/jobs/68986/%EB%AA%A8%EB%B0%...'>,\n",
       " <Selector xpath='//*' data='<span class=\"job-stat-info\">5,000 - 6...'>,\n",
       " <Selector xpath='//*' data='<a data-modal=\"login\" style=\"float:ri...'>,\n",
       " <Selector xpath='//*' data='<i class=\"ic-bookmark_outline icon\"></i>'>,\n",
       " <Selector xpath='//*' data='<div class=\"job-dates\">\\n             ...'>,\n",
       " <Selector xpath='//*' data='<span>\\n                <i class=\"ic-c...'>,\n",
       " <Selector xpath='//*' data='<i class=\"ic-calendar_new icon\"></i>'>,\n",
       " <Selector xpath='//*' data='<span>                02/04 등록\\n</span>'>,\n",
       " <Selector xpath='//*' data='<div class=\"ui inverted divider\"></div>'>,\n",
       " <Selector xpath='//*' data='<div class=\"company item\" data-compan...'>,\n",
       " <Selector xpath='//*' data='<div class=\"logo image\">\\n    <a href=...'>,\n",
       " <Selector xpath='//*' data='<a href=\"/companies/xbrain/jobs\" targ...'>,\n",
       " <Selector xpath='//*' data='<div class=\"ui logo\">\\n        <img sr...'>,\n",
       " <Selector xpath='//*' data='<img src=\"https://image.rocketpunch.c...'>,\n",
       " <Selector xpath='//*' data='<div class=\"content\">\\n\\n    <div class...'>,\n",
       " <Selector xpath='//*' data='<div class=\"ui right floated skip hea...'>,\n",
       " <Selector xpath='//*' data='<a data-modal=\"signup\">✕</a>'>,\n",
       " <Selector xpath='//*' data='<div class=\"company-name\">\\n      <a h...'>,\n",
       " <Selector xpath='//*' data='<a href=\"/companies/xbrain/jobs\" targ...'>,\n",
       " <Selector xpath='//*' data='<h4 class=\"header name\">          <st...'>,\n",
       " <Selector xpath='//*' data='<strong>엑스브레인</strong>'>,\n",
       " <Selector xpath='//*' data='<small>(XBrain)</small>'>,\n",
       " <Selector xpath='//*' data='<span class=\"ui small basic response ...'>,\n",
       " <Selector xpath='//*' data='<div data-content=\"7일 이내 지원 결과를 알려줄 확...'>,\n",
       " <Selector xpath='//*' data='<a class=\"reference-count\" data-url=\"...'>,\n",
       " <Selector xpath='//*' data='<i class=\"ic-thumbup-outline icon\"></i>'>,\n",
       " <Selector xpath='//*' data='<span class=\"count\">7</span>'>,\n",
       " <Selector xpath='//*' data='<div class=\"description\">Machine Lear...'>,\n",
       " <Selector xpath='//*' data='<div class=\"nowrap meta\">      웹서비스 ∙...'>,\n",
       " <Selector xpath='//*' data='<div class=\"applicants\">\\n  <div class...'>,\n",
       " <Selector xpath='//*' data='<div class=\"avatar-list\">\\n\\n<div class...'>,\n",
       " <Selector xpath='//*' data='<div class=\"mini masked item\">?</div>'>,\n",
       " <Selector xpath='//*' data='<div class=\"mini masked item\">?</div>'>,\n",
       " <Selector xpath='//*' data='<div class=\"mini masked item\">?</div>'>,\n",
       " <Selector xpath='//*' data='<div class=\"mini masked item\">?</div>'>,\n",
       " <Selector xpath='//*' data='<div class=\"more item mini\"><span>+70...'>,\n",
       " <Selector xpath='//*' data='<span>+70</span>'>,\n",
       " <Selector xpath='//*' data='<span><a href=\"/companies/xbrain/jobs...'>,\n",
       " <Selector xpath='//*' data='<a href=\"/companies/xbrain/jobs/appli...'>,\n",
       " <Selector xpath='//*' data='<div class=\"ui divider\"></div>'>,\n",
       " <Selector xpath='//*' data='<div class=\"company-jobs-detail\">\\n   ...'>,\n",
       " <Selector xpath='//*' data='<div class=\"job-detail\">\\n            ...'>,\n",
       " <Selector xpath='//*' data='<div>\\n              <a href=\"/jobs/67...'>,\n",
       " <Selector xpath='//*' data='<a href=\"/jobs/67479/Software-Enginee...'>,\n",
       " <Selector xpath='//*' data='<span class=\"job-stat-info\">3,000 - 1...'>,\n",
       " <Selector xpath='//*' data='<a data-modal=\"login\" style=\"float:ri...'>,\n",
       " <Selector xpath='//*' data='<i class=\"ic-bookmark_outline icon\"></i>'>,\n",
       " <Selector xpath='//*' data='<div class=\"job-dates\">\\n             ...'>,\n",
       " <Selector xpath='//*' data='<span>\\n                <i class=\"ic-c...'>,\n",
       " <Selector xpath='//*' data='<i class=\"ic-calendar_new icon\"></i>'>,\n",
       " <Selector xpath='//*' data='<span>                02/04 수정\\n</span>'>,\n",
       " <Selector xpath='//*' data='<div class=\"ui divider\"></div>'>,\n",
       " <Selector xpath='//*' data='<div class=\"job-detail\">\\n            ...'>,\n",
       " <Selector xpath='//*' data='<div>\\n              <a href=\"/jobs/67...'>,\n",
       " <Selector xpath='//*' data='<a href=\"/jobs/67477/Software-Enginee...'>,\n",
       " <Selector xpath='//*' data='<span class=\"job-stat-info\">3,000 - 1...'>,\n",
       " <Selector xpath='//*' data='<a data-modal=\"login\" style=\"float:ri...'>,\n",
       " <Selector xpath='//*' data='<i class=\"ic-bookmark_outline icon\"></i>'>,\n",
       " <Selector xpath='//*' data='<div class=\"job-dates\">\\n             ...'>,\n",
       " <Selector xpath='//*' data='<span>\\n                <i class=\"ic-c...'>,\n",
       " <Selector xpath='//*' data='<i class=\"ic-calendar_new icon\"></i>'>,\n",
       " <Selector xpath='//*' data='<span>                12/30 등록\\n</span>'>,\n",
       " <Selector xpath='//*' data='<div class=\"ui inverted divider\"></div>'>,\n",
       " <Selector xpath='//*' data='<div class=\"company item\" data-compan...'>,\n",
       " <Selector xpath='//*' data='<div class=\"logo image\">\\n    <a href=...'>,\n",
       " <Selector xpath='//*' data='<a href=\"/companies/brandi/jobs\" targ...'>,\n",
       " <Selector xpath='//*' data='<div class=\"ui logo\">\\n        <img sr...'>,\n",
       " <Selector xpath='//*' data='<img src=\"https://image.rocketpunch.c...'>,\n",
       " <Selector xpath='//*' data='<div class=\"content\">\\n\\n    <div class...'>,\n",
       " <Selector xpath='//*' data='<div class=\"ui right floated skip hea...'>,\n",
       " <Selector xpath='//*' data='<a data-modal=\"signup\">✕</a>'>,\n",
       " <Selector xpath='//*' data='<div class=\"company-name\">\\n      <a h...'>,\n",
       " <Selector xpath='//*' data='<a href=\"/companies/brandi/jobs\" targ...'>,\n",
       " <Selector xpath='//*' data='<h4 class=\"header name\">          <st...'>,\n",
       " <Selector xpath='//*' data='<strong>브랜디</strong>'>,\n",
       " <Selector xpath='//*' data='<small>(BRANDI)</small>'>,\n",
       " <Selector xpath='//*' data='<a class=\"reference-count\" data-url=\"...'>,\n",
       " <Selector xpath='//*' data='<i class=\"ic-thumbup-outline icon\"></i>'>,\n",
       " <Selector xpath='//*' data='<span class=\"count\">20</span>'>,\n",
       " <Selector xpath='//*' data='<div class=\"description\">No.1 모바일 패션 ...'>,\n",
       " <Selector xpath='//*' data='<div class=\"nowrap meta\">      모바일서비스...'>,\n",
       " <Selector xpath='//*' data='<div class=\"applicants\">\\n  <div class...'>,\n",
       " <Selector xpath='//*' data='<div class=\"avatar-list\">\\n\\n<a href=\"/...'>,\n",
       " <Selector xpath='//*' data='<a href=\"/@janghj\">\\n      <img src=\"h...'>,\n",
       " <Selector xpath='//*' data='<img src=\"https://image.rocketpunch.c...'>,\n",
       " <Selector xpath='//*' data='<div class=\"mini masked item\">?</div>'>,\n",
       " <Selector xpath='//*' data='<div class=\"mini masked item\">?</div>'>,\n",
       " <Selector xpath='//*' data='<div class=\"mini masked item\">?</div>'>,\n",
       " <Selector xpath='//*' data='<div class=\"more item mini\"><span>+32...'>,\n",
       " <Selector xpath='//*' data='<span>+320</span>'>,\n",
       " <Selector xpath='//*' data='<span><a href=\"/companies/brandi/jobs...'>,\n",
       " <Selector xpath='//*' data='<a href=\"/companies/brandi/jobs/appli...'>,\n",
       " <Selector xpath='//*' data='<div class=\"ui divider\"></div>'>,\n",
       " <Selector xpath='//*' data='<div class=\"company-jobs-detail\">\\n   ...'>,\n",
       " <Selector xpath='//*' data='<div class=\"job-detail\">\\n            ...'>,\n",
       " <Selector xpath='//*' data='<div>\\n              <a href=\"/jobs/63...'>,\n",
       " <Selector xpath='//*' data='<a href=\"/jobs/63994/%EB%B8%8C%EB%9E%...'>,\n",
       " <Selector xpath='//*' data='<span class=\"job-stat-info\">3,000 - 7...'>,\n",
       " <Selector xpath='//*' data='<a data-modal=\"login\" style=\"float:ri...'>,\n",
       " <Selector xpath='//*' data='<i class=\"ic-bookmark_outline icon\"></i>'>,\n",
       " <Selector xpath='//*' data='<div class=\"job-dates\">\\n             ...'>,\n",
       " <Selector xpath='//*' data='<span>\\n                <i class=\"ic-c...'>,\n",
       " <Selector xpath='//*' data='<i class=\"ic-calendar_new icon\"></i>'>,\n",
       " <Selector xpath='//*' data='<span>                02/02 수정\\n</span>'>,\n",
       " <Selector xpath='//*' data='<div class=\"ui inverted divider\"></div>'>,\n",
       " <Selector xpath='//*' data='<div class=\"company item\" data-compan...'>,\n",
       " <Selector xpath='//*' data='<div class=\"logo image\">\\n    <a href=...'>,\n",
       " <Selector xpath='//*' data='<a href=\"/companies/travelflan/jobs\" ...'>,\n",
       " <Selector xpath='//*' data='<div class=\"ui logo\">\\n        <img sr...'>,\n",
       " <Selector xpath='//*' data='<img src=\"https://image.rocketpunch.c...'>,\n",
       " <Selector xpath='//*' data='<div class=\"content\">\\n\\n    <div class...'>,\n",
       " <Selector xpath='//*' data='<div class=\"ui right floated skip hea...'>,\n",
       " <Selector xpath='//*' data='<a data-modal=\"signup\">✕</a>'>,\n",
       " <Selector xpath='//*' data='<div class=\"company-name\">\\n      <a h...'>,\n",
       " <Selector xpath='//*' data='<a href=\"/companies/travelflan/jobs\" ...'>,\n",
       " <Selector xpath='//*' data='<h4 class=\"header name\">          <st...'>,\n",
       " <Selector xpath='//*' data='<strong>트래블플랜</strong>'>,\n",
       " <Selector xpath='//*' data='<small>(TravelFlan)</small>'>,\n",
       " <Selector xpath='//*' data='<span class=\"ui small basic response ...'>,\n",
       " <Selector xpath='//*' data='<div data-content=\"7일 이내 지원 결과를 알려줄 확...'>,\n",
       " <Selector xpath='//*' data='<div data-content=\"로켓펀치를 통해 채용한 기록이 있...'>,\n",
       " <Selector xpath='//*' data='<a class=\"reference-count\" data-url=\"...'>,\n",
       " <Selector xpath='//*' data='<i class=\"ic-thumbup-outline icon\"></i>'>,\n",
       " <Selector xpath='//*' data='<span class=\"count\">7</span>'>,\n",
       " <Selector xpath='//*' data='<div class=\"description\">실리콘밸리, 홍콩에 베...'>,\n",
       " <Selector xpath='//*' data='<div class=\"nowrap meta\">      모바일서비스...'>,\n",
       " <Selector xpath='//*' data='<div class=\"applicants\">\\n  <div class...'>,\n",
       " <Selector xpath='//*' data='<div class=\"avatar-list\">\\n\\n<a href=\"/...'>,\n",
       " <Selector xpath='//*' data='<a href=\"/@gimjunhwan01505706e27149d5...'>,\n",
       " <Selector xpath='//*' data='<img src=\"https://image.rocketpunch.c...'>,\n",
       " <Selector xpath='//*' data='<a href=\"/@youngnac\">\\n      <img src=...'>,\n",
       " <Selector xpath='//*' data='<img src=\"https://image.rocketpunch.c...'>,\n",
       " <Selector xpath='//*' data='<a href=\"/@1e2811a3a7c04a09\">\\n      <...'>,\n",
       " <Selector xpath='//*' data='<img src=\"https://image.rocketpunch.c...'>,\n",
       " <Selector xpath='//*' data='<a href=\"/@gsh2448\">\\n      <img src=\"...'>,\n",
       " <Selector xpath='//*' data='<img src=\"https://image.rocketpunch.c...'>,\n",
       " <Selector xpath='//*' data='<div class=\"more item mini\"><span>+18...'>,\n",
       " <Selector xpath='//*' data='<span>+183</span>'>,\n",
       " <Selector xpath='//*' data='<span><a href=\"/companies/travelflan/...'>,\n",
       " <Selector xpath='//*' data='<a href=\"/companies/travelflan/jobs/a...'>,\n",
       " <Selector xpath='//*' data='<div class=\"ui divider\"></div>'>,\n",
       " <Selector xpath='//*' data='<div class=\"company-jobs-detail\">\\n   ...'>,\n",
       " <Selector xpath='//*' data='<div class=\"job-detail\">\\n            ...'>,\n",
       " <Selector xpath='//*' data='<div>\\n              <a href=\"/jobs/68...'>,\n",
       " <Selector xpath='//*' data='<a href=\"/jobs/68865/%EB%B0%B1%EC%97%...'>,\n",
       " <Selector xpath='//*' data='<span class=\"job-stat-info\">4,000 - 7...'>,\n",
       " <Selector xpath='//*' data='<a data-modal=\"login\" style=\"float:ri...'>,\n",
       " <Selector xpath='//*' data='<i class=\"ic-bookmark_outline icon\"></i>'>,\n",
       " <Selector xpath='//*' data='<div class=\"job-dates\">\\n             ...'>,\n",
       " <Selector xpath='//*' data='<span>\\n                <i class=\"ic-c...'>,\n",
       " <Selector xpath='//*' data='<i class=\"ic-calendar_new icon\"></i>'>,\n",
       " <Selector xpath='//*' data='<span>                02/01 등록\\n</span>'>,\n",
       " <Selector xpath='//*' data='<div class=\"ui inverted divider\"></div>'>,\n",
       " <Selector xpath='//*' data='<div class=\"company item\" data-compan...'>,\n",
       " <Selector xpath='//*' data='<div class=\"logo image\">\\n    <a href=...'>,\n",
       " <Selector xpath='//*' data='<a href=\"/companies/marketit/jobs\" ta...'>,\n",
       " <Selector xpath='//*' data='<div class=\"ui logo\">\\n        <img sr...'>,\n",
       " <Selector xpath='//*' data='<img src=\"https://image.rocketpunch.c...'>,\n",
       " <Selector xpath='//*' data='<div class=\"content\">\\n\\n    <div class...'>,\n",
       " <Selector xpath='//*' data='<div class=\"ui right floated skip hea...'>,\n",
       " <Selector xpath='//*' data='<a data-modal=\"signup\">✕</a>'>,\n",
       " <Selector xpath='//*' data='<div class=\"company-name\">\\n      <a h...'>,\n",
       " <Selector xpath='//*' data='<a href=\"/companies/marketit/jobs\" ta...'>,\n",
       " <Selector xpath='//*' data='<h4 class=\"header name\">          <st...'>,\n",
       " <Selector xpath='//*' data='<strong>마켓잇</strong>'>,\n",
       " <Selector xpath='//*' data='<small>(Marketit)</small>'>,\n",
       " <Selector xpath='//*' data='<span class=\"ui small basic recruit l...'>,\n",
       " <Selector xpath='//*' data='<div data-content=\"로켓펀치를 통해 채용한 기록이 있...'>,\n",
       " <Selector xpath='//*' data='<a class=\"reference-count\" data-url=\"...'>,\n",
       " <Selector xpath='//*' data='<i class=\"ic-thumbup-outline icon\"></i>'>,\n",
       " <Selector xpath='//*' data='<span class=\"count\">16</span>'>,\n",
       " <Selector xpath='//*' data='<div class=\"description\">We are all i...'>,\n",
       " <Selector xpath='//*' data='<div class=\"nowrap meta\">      모바일서비스...'>,\n",
       " <Selector xpath='//*' data='<div class=\"applicants\">\\n  <div class...'>,\n",
       " <Selector xpath='//*' data='<div class=\"avatar-list\">\\n\\n<a href=\"/...'>,\n",
       " <Selector xpath='//*' data='<a href=\"/@sksms20000\">\\n      <img sr...'>,\n",
       " <Selector xpath='//*' data='<img src=\"https://image.rocketpunch.c...'>,\n",
       " <Selector xpath='//*' data='<a href=\"/@bagjeonghyeon\">\\n      <img...'>,\n",
       " <Selector xpath='//*' data='<img src=\"https://image.rocketpunch.c...'>,\n",
       " <Selector xpath='//*' data='<a href=\"/@aumilkyeong\">\\n      <img s...'>,\n",
       " <Selector xpath='//*' data='<img src=\"https://image.rocketpunch.c...'>,\n",
       " <Selector xpath='//*' data='<a href=\"/@riclowoh\">\\n      <img src=...'>,\n",
       " <Selector xpath='//*' data='<img src=\"https://image.rocketpunch.c...'>,\n",
       " <Selector xpath='//*' data='<div class=\"more item mini\"><span>+30...'>,\n",
       " <Selector xpath='//*' data='<span>+305</span>'>,\n",
       " <Selector xpath='//*' data='<span><a href=\"/companies/marketit/jo...'>,\n",
       " <Selector xpath='//*' data='<a href=\"/companies/marketit/jobs/app...'>,\n",
       " <Selector xpath='//*' data='<div class=\"ui divider\"></div>'>,\n",
       " <Selector xpath='//*' data='<div class=\"company-jobs-detail\">\\n   ...'>,\n",
       " <Selector xpath='//*' data='<div class=\"job-detail\">\\n            ...'>,\n",
       " <Selector xpath='//*' data='<div>\\n              <a href=\"/jobs/68...'>,\n",
       " <Selector xpath='//*' data='<a href=\"/jobs/68430/%EC%9B%B9%EB%AA%...'>,\n",
       " <Selector xpath='//*' data='<span class=\"job-stat-info\">경력</span>'>,\n",
       " <Selector xpath='//*' data='<a data-modal=\"login\" style=\"float:ri...'>,\n",
       " <Selector xpath='//*' data='<i class=\"ic-bookmark_outline icon\"></i>'>,\n",
       " <Selector xpath='//*' data='<div class=\"job-dates\">\\n             ...'>,\n",
       " <Selector xpath='//*' data='<span>\\n                <i class=\"ic-c...'>,\n",
       " <Selector xpath='//*' data='<i class=\"ic-calendar_new icon\"></i>'>,\n",
       " <Selector xpath='//*' data='<span>                01/21 등록\\n</span>'>,\n",
       " <Selector xpath='//*' data='<div class=\"ui inverted divider\"></div>'>,\n",
       " <Selector xpath='//*' data='<div class=\"company item\" data-compan...'>,\n",
       " <Selector xpath='//*' data='<div class=\"logo image\">\\n    <a href=...'>,\n",
       " <Selector xpath='//*' data='<a href=\"/companies/classting/jobs\" t...'>,\n",
       " <Selector xpath='//*' data='<div class=\"ui logo\">\\n        <img sr...'>,\n",
       " <Selector xpath='//*' data='<img src=\"https://image.rocketpunch.c...'>,\n",
       " <Selector xpath='//*' data='<div class=\"content\">\\n\\n    <div class...'>,\n",
       " <Selector xpath='//*' data='<div class=\"ui right floated skip hea...'>,\n",
       " <Selector xpath='//*' data='<a data-modal=\"signup\">✕</a>'>,\n",
       " <Selector xpath='//*' data='<div class=\"company-name\">\\n      <a h...'>,\n",
       " <Selector xpath='//*' data='<a href=\"/companies/classting/jobs\" t...'>,\n",
       " <Selector xpath='//*' data='<h4 class=\"header name\">          <st...'>,\n",
       " <Selector xpath='//*' data='<strong>클래스팅</strong>'>,\n",
       " <Selector xpath='//*' data='<small>(Classting)</small>'>,\n",
       " <Selector xpath='//*' data='<a class=\"reference-count\" data-url=\"...'>,\n",
       " <Selector xpath='//*' data='<i class=\"ic-thumbup-outline icon\"></i>'>,\n",
       " <Selector xpath='//*' data='<span class=\"count\">12</span>'>,\n",
       " <Selector xpath='//*' data='<div class=\"description\">기술을 통해 더 나은 ...'>,\n",
       " <Selector xpath='//*' data='<div class=\"nowrap meta\">      모바일서비스...'>,\n",
       " <Selector xpath='//*' data='<div class=\"applicants\">\\n  <div class...'>,\n",
       " <Selector xpath='//*' data='<div class=\"avatar-list\">\\n\\n<div class...'>,\n",
       " <Selector xpath='//*' data='<div class=\"mini masked item\">?</div>'>,\n",
       " <Selector xpath='//*' data='<div class=\"mini masked item\">?</div>'>,\n",
       " <Selector xpath='//*' data='<div class=\"mini masked item\">?</div>'>,\n",
       " <Selector xpath='//*' data='<div class=\"mini masked item\">?</div>'>,\n",
       " <Selector xpath='//*' data='<div class=\"more item mini\"><span>+12...'>,\n",
       " <Selector xpath='//*' data='<span>+127</span>'>,\n",
       " <Selector xpath='//*' data='<span><a href=\"/companies/classting/j...'>,\n",
       " <Selector xpath='//*' data='<a href=\"/companies/classting/jobs/ap...'>,\n",
       " <Selector xpath='//*' data='<div class=\"ui divider\"></div>'>,\n",
       " <Selector xpath='//*' data='<div class=\"company-jobs-detail\">\\n   ...'>,\n",
       " <Selector xpath='//*' data='<div class=\"job-detail\">\\n            ...'>,\n",
       " <Selector xpath='//*' data='<div>\\n              <a href=\"/jobs/52...'>,\n",
       " <Selector xpath='//*' data='<a href=\"/jobs/5206/React-Native-Engi...'>,\n",
       " <Selector xpath='//*' data='<span class=\"job-stat-info\">6,000 - 1...'>,\n",
       " <Selector xpath='//*' data='<a data-modal=\"login\" style=\"float:ri...'>,\n",
       " <Selector xpath='//*' data='<i class=\"ic-bookmark_outline icon\"></i>'>,\n",
       " <Selector xpath='//*' data='<div class=\"job-dates\">\\n             ...'>,\n",
       " <Selector xpath='//*' data='<span>\\n                <i class=\"ic-c...'>,\n",
       " <Selector xpath='//*' data='<i class=\"ic-calendar_new icon\"></i>'>,\n",
       " <Selector xpath='//*' data='<span>                01/15 수정\\n</span>'>,\n",
       " <Selector xpath='//*' data='<div class=\"ui inverted divider\"></div>'>,\n",
       " <Selector xpath='//*' data='<div class=\"company item\" data-compan...'>,\n",
       " <Selector xpath='//*' data='<div class=\"logo image\">\\n    <a href=...'>,\n",
       " <Selector xpath='//*' data='<a href=\"/companies/angelswing/jobs\" ...'>,\n",
       " <Selector xpath='//*' data='<div class=\"ui logo\">\\n        <img sr...'>,\n",
       " <Selector xpath='//*' data='<img src=\"https://image.rocketpunch.c...'>,\n",
       " <Selector xpath='//*' data='<div class=\"content\">\\n\\n    <div class...'>,\n",
       " <Selector xpath='//*' data='<div class=\"ui right floated skip hea...'>,\n",
       " <Selector xpath='//*' data='<a data-modal=\"signup\">✕</a>'>,\n",
       " <Selector xpath='//*' data='<div class=\"company-name\">\\n      <a h...'>,\n",
       " <Selector xpath='//*' data='<a href=\"/companies/angelswing/jobs\" ...'>,\n",
       " <Selector xpath='//*' data='<h4 class=\"header name\">          <st...'>,\n",
       " <Selector xpath='//*' data='<strong>엔젤스윙</strong>'>,\n",
       " <Selector xpath='//*' data='<small>(ANGELSWING)</small>'>,\n",
       " <Selector xpath='//*' data='<span class=\"ui small basic response ...'>,\n",
       " <Selector xpath='//*' data='<div data-content=\"7일 이내 지원 결과를 알려줄 확...'>,\n",
       " <Selector xpath='//*' data='<a class=\"reference-count\" data-url=\"...'>,\n",
       " <Selector xpath='//*' data='<i class=\"ic-thumbup-outline icon\"></i>'>,\n",
       " <Selector xpath='//*' data='<span class=\"count\">9</span>'>,\n",
       " <Selector xpath='//*' data='<div class=\"description\">세상에서 가장 큰 제품...'>,\n",
       " <Selector xpath='//*' data='<div class=\"nowrap meta\">      데이터 ∙ ...'>,\n",
       " <Selector xpath='//*' data='<div class=\"applicants\">\\n  <div class...'>,\n",
       " <Selector xpath='//*' data='<div class=\"avatar-list\">\\n\\n<a href=\"/...'>,\n",
       " <Selector xpath='//*' data='<a href=\"/@whitemaro818\">\\n      <img ...'>,\n",
       " <Selector xpath='//*' data='<img src=\"https://image.rocketpunch.c...'>,\n",
       " <Selector xpath='//*' data='<div class=\"mini masked item\">?</div>'>,\n",
       " <Selector xpath='//*' data='<div class=\"mini masked item\">?</div>'>,\n",
       " <Selector xpath='//*' data='<div class=\"mini masked item\">?</div>'>,\n",
       " <Selector xpath='//*' data='<div class=\"more item mini\"><span>+99...'>,\n",
       " <Selector xpath='//*' data='<span>+99</span>'>,\n",
       " <Selector xpath='//*' data='<span><a href=\"/companies/angelswing/...'>,\n",
       " <Selector xpath='//*' data='<a href=\"/companies/angelswing/jobs/a...'>,\n",
       " <Selector xpath='//*' data='<div class=\"ui divider\"></div>'>,\n",
       " <Selector xpath='//*' data='<div class=\"company-jobs-detail\">\\n   ...'>,\n",
       " <Selector xpath='//*' data='<div class=\"job-detail\">\\n            ...'>,\n",
       " <Selector xpath='//*' data='<div>\\n              <a href=\"/jobs/65...'>,\n",
       " <Selector xpath='//*' data='<a href=\"/jobs/65294/%EB%B0%B1%EC%97%...'>,\n",
       " <Selector xpath='//*' data='<span class=\"job-stat-info\">신입, 경력</s...'>,\n",
       " <Selector xpath='//*' data='<a data-modal=\"login\" style=\"float:ri...'>,\n",
       " <Selector xpath='//*' data='<i class=\"ic-bookmark_outline icon\"></i>'>,\n",
       " <Selector xpath='//*' data='<div class=\"job-dates\">\\n             ...'>,\n",
       " <Selector xpath='//*' data='<span>\\n                <i class=\"ic-c...'>,\n",
       " <Selector xpath='//*' data='<i class=\"ic-calendar_new icon\"></i>'>,\n",
       " <Selector xpath='//*' data='<span>                01/14 수정\\n</span>'>,\n",
       " <Selector xpath='//*' data='<div class=\"ui inverted divider\"></div>'>,\n",
       " <Selector xpath='//*' data='<div class=\"company item\" data-compan...'>,\n",
       " <Selector xpath='//*' data='<div class=\"logo image\">\\n    <a href=...'>,\n",
       " <Selector xpath='//*' data='<a href=\"/companies/8percent/jobs\" ta...'>,\n",
       " <Selector xpath='//*' data='<div class=\"ui logo\">\\n        <img sr...'>,\n",
       " <Selector xpath='//*' data='<img src=\"https://image.rocketpunch.c...'>,\n",
       " <Selector xpath='//*' data='<div class=\"content\">\\n\\n    <div class...'>,\n",
       " <Selector xpath='//*' data='<div class=\"ui right floated skip hea...'>,\n",
       " <Selector xpath='//*' data='<a data-modal=\"signup\">✕</a>'>,\n",
       " <Selector xpath='//*' data='<div class=\"company-name\">\\n      <a h...'>,\n",
       " <Selector xpath='//*' data='<a href=\"/companies/8percent/jobs\" ta...'>,\n",
       " <Selector xpath='//*' data='<h4 class=\"header name\">          <st...'>,\n",
       " <Selector xpath='//*' data='<strong>에잇퍼센트</strong>'>,\n",
       " <Selector xpath='//*' data='<small>(8PERCENT)</small>'>,\n",
       " <Selector xpath='//*' data='<a class=\"reference-count\" data-url=\"...'>,\n",
       " <Selector xpath='//*' data='<i class=\"ic-thumbup-outline icon\"></i>'>,\n",
       " <Selector xpath='//*' data='<span class=\"count\">3</span>'>,\n",
       " <Selector xpath='//*' data='<div class=\"description\">P2P금융 국내 대표기...'>,\n",
       " <Selector xpath='//*' data='<div class=\"nowrap meta\">      모바일서비스...'>,\n",
       " <Selector xpath='//*' data='<div class=\"applicants\">\\n  <div class...'>,\n",
       " <Selector xpath='//*' data='<div class=\"avatar-list\">\\n\\n<div class...'>,\n",
       " <Selector xpath='//*' data='<div class=\"mini masked item\">?</div>'>,\n",
       " <Selector xpath='//*' data='<div class=\"mini masked item\">?</div>'>,\n",
       " <Selector xpath='//*' data='<div class=\"mini masked item\">?</div>'>,\n",
       " <Selector xpath='//*' data='<div class=\"mini masked item\">?</div>'>,\n",
       " <Selector xpath='//*' data='<div class=\"more item mini\"><span>+22...'>,\n",
       " <Selector xpath='//*' data='<span>+224</span>'>,\n",
       " <Selector xpath='//*' data='<span><a href=\"/companies/8percent/jo...'>,\n",
       " <Selector xpath='//*' data='<a href=\"/companies/8percent/jobs/app...'>,\n",
       " <Selector xpath='//*' data='<div class=\"ui divider\"></div>'>,\n",
       " <Selector xpath='//*' data='<div class=\"company-jobs-detail\">\\n   ...'>,\n",
       " <Selector xpath='//*' data='<div class=\"job-detail\">\\n            ...'>,\n",
       " <Selector xpath='//*' data='<div>\\n              <a href=\"/jobs/68...'>,\n",
       " <Selector xpath='//*' data='<a href=\"/jobs/68088/8%ED%8D%BC%EC%84...'>,\n",
       " <Selector xpath='//*' data='<span class=\"job-stat-info\">신입, 경력</s...'>,\n",
       " <Selector xpath='//*' data='<a data-modal=\"login\" style=\"float:ri...'>,\n",
       " <Selector xpath='//*' data='<i class=\"ic-bookmark_outline icon\"></i>'>,\n",
       " <Selector xpath='//*' data='<div class=\"job-dates\">\\n             ...'>,\n",
       " <Selector xpath='//*' data='<span>\\n                <i class=\"ic-c...'>,\n",
       " <Selector xpath='//*' data='<i class=\"ic-calendar_new icon\"></i>'>,\n",
       " <Selector xpath='//*' data='<span>                01/14 등록\\n</span>'>,\n",
       " <Selector xpath='//*' data='<div class=\"ui divider\"></div>'>,\n",
       " <Selector xpath='//*' data='<div class=\"job-detail\">\\n            ...'>,\n",
       " <Selector xpath='//*' data='<div>\\n              <a href=\"/jobs/67...'>,\n",
       " <Selector xpath='//*' data='<a href=\"/jobs/67439/8%ED%8D%BC%EC%84...'>,\n",
       " <Selector xpath='//*' data='<span class=\"job-stat-info\">신입, 경력</s...'>,\n",
       " <Selector xpath='//*' data='<a data-modal=\"login\" style=\"float:ri...'>,\n",
       " <Selector xpath='//*' data='<i class=\"ic-bookmark_outline icon\"></i>'>,\n",
       " <Selector xpath='//*' data='<div class=\"job-dates\">\\n             ...'>,\n",
       " <Selector xpath='//*' data='<span>\\n                <i class=\"ic-c...'>,\n",
       " <Selector xpath='//*' data='<i class=\"ic-calendar_new icon\"></i>'>,\n",
       " <Selector xpath='//*' data='<span>                12/30 등록\\n</span>'>,\n",
       " <Selector xpath='//*' data='<div class=\"ui inverted divider\"></div>'>,\n",
       " <Selector xpath='//*' data='<div class=\"company item\" data-compan...'>,\n",
       " <Selector xpath='//*' data='<div class=\"logo image\">\\n    <a href=...'>,\n",
       " <Selector xpath='//*' data='<a href=\"/companies/hblife/jobs\" targ...'>,\n",
       " <Selector xpath='//*' data='<div class=\"ui logo\">\\n        <img sr...'>,\n",
       " <Selector xpath='//*' data='<img src=\"https://image.rocketpunch.c...'>,\n",
       " <Selector xpath='//*' data='<div class=\"content\">\\n\\n    <div class...'>,\n",
       " <Selector xpath='//*' data='<div class=\"ui right floated skip hea...'>,\n",
       " <Selector xpath='//*' data='<a data-modal=\"signup\">✕</a>'>,\n",
       " <Selector xpath='//*' data='<div class=\"company-name\">\\n      <a h...'>,\n",
       " <Selector xpath='//*' data='<a href=\"/companies/hblife/jobs\" targ...'>,\n",
       " <Selector xpath='//*' data='<h4 class=\"header name\">          <st...'>,\n",
       " <Selector xpath='//*' data='<strong>에이치앤비라이프</strong>'>,\n",
       " <Selector xpath='//*' data='<small>(H&amp;B LIFE)</small>'>,\n",
       " <Selector xpath='//*' data='<span class=\"ui small basic response ...'>,\n",
       " <Selector xpath='//*' data='<div data-content=\"7일 이내 지원 결과를 알려줄 확...'>,\n",
       " <Selector xpath='//*' data='<div data-content=\"로켓펀치를 통해 채용한 기록이 있...'>,\n",
       " <Selector xpath='//*' data='<a class=\"reference-count\" data-url=\"...'>,\n",
       " <Selector xpath='//*' data='<i class=\"ic-thumbup-outline icon\"></i>'>,\n",
       " <Selector xpath='//*' data='<span class=\"count\">4</span>'>,\n",
       " <Selector xpath='//*' data='<div class=\"description\">기업 복지 B2C 플랫...'>,\n",
       " <Selector xpath='//*' data='<div class=\"nowrap meta\">      모바일서비스...'>,\n",
       " <Selector xpath='//*' data='<div class=\"applicants\">\\n  <div class...'>,\n",
       " <Selector xpath='//*' data='<div class=\"avatar-list\">\\n\\n<a href=\"/...'>,\n",
       " <Selector xpath='//*' data='<a href=\"/@a31cff5691d248da\">\\n      <...'>,\n",
       " <Selector xpath='//*' data='<img src=\"https://image.rocketpunch.c...'>,\n",
       " <Selector xpath='//*' data='<div class=\"mini masked item\">?</div>'>,\n",
       " <Selector xpath='//*' data='<div class=\"mini masked item\">?</div>'>,\n",
       " <Selector xpath='//*' data='<div class=\"mini masked item\">?</div>'>,\n",
       " <Selector xpath='//*' data='<div class=\"more item mini\"><span>+36...'>,\n",
       " <Selector xpath='//*' data='<span>+36</span>'>,\n",
       " <Selector xpath='//*' data='<span><a href=\"/companies/hblife/jobs...'>,\n",
       " <Selector xpath='//*' data='<a href=\"/companies/hblife/jobs/appli...'>,\n",
       " <Selector xpath='//*' data='<div class=\"ui divider\"></div>'>,\n",
       " <Selector xpath='//*' data='<div class=\"company-jobs-detail\">\\n   ...'>,\n",
       " <Selector xpath='//*' data='<div class=\"job-detail\">\\n            ...'>,\n",
       " <Selector xpath='//*' data='<div>\\n              <a href=\"/jobs/62...'>,\n",
       " <Selector xpath='//*' data='<a href=\"/jobs/62050/Python-Django-%E...'>,\n",
       " <Selector xpath='//*' data='<span class=\"job-stat-info\">3,000 - 5...'>,\n",
       " <Selector xpath='//*' data='<a data-modal=\"login\" style=\"float:ri...'>,\n",
       " <Selector xpath='//*' data='<i class=\"ic-bookmark_outline icon\"></i>'>,\n",
       " <Selector xpath='//*' data='<div class=\"job-dates\">\\n             ...'>,\n",
       " <Selector xpath='//*' data='<span>\\n                <i class=\"ic-c...'>,\n",
       " <Selector xpath='//*' data='<i class=\"ic-calendar_new icon\"></i>'>,\n",
       " <Selector xpath='//*' data='<span>                01/02 수정\\n</span>'>,\n",
       " <Selector xpath='//*' data='<div class=\"ui inverted divider\"></div>'>,\n",
       " <Selector xpath='//*' data='<div class=\"ui blank right floated se...'>,\n",
       " <Selector xpath='//*' data='<div class=\"ui pagination menu\">\\n    ...'>,\n",
       " <Selector xpath='//*' data='<a class=\"item\" data-query-add=\"page=...'>,\n",
       " <Selector xpath='//*' data='<i class=\"angle double left icon\"></i>'>,\n",
       " <Selector xpath='//*' data='<div class=\"tablet computer large scr...'>,\n",
       " <Selector xpath='//*' data='<a class=\"item\" data-query-add=\"page=...'>,\n",
       " <Selector xpath='//*' data='<a class=\"active item\" data-query-add...'>,\n",
       " <Selector xpath='//*' data='<a class=\"item\" data-query-add=\"page=...'>,\n",
       " <Selector xpath='//*' data='<div class=\"mobile only\">\\n          <...'>,\n",
       " <Selector xpath='//*' data='<a class=\"item\" data-query-add=\"page=...'>,\n",
       " <Selector xpath='//*' data='<a class=\"active item\" data-query-add...'>,\n",
       " <Selector xpath='//*' data='<a class=\"item\" data-query-add=\"page=...'>,\n",
       " <Selector xpath='//*' data='<a class=\"item\" data-query-add=\"page=...'>,\n",
       " <Selector xpath='//*' data='<i class=\"angle double right icon\"></i>'>]"
      ]
     },
     "execution_count": 31,
     "metadata": {},
     "output_type": "execute_result"
    }
   ],
   "source": [
    "# business\n",
    "response.xpath('//*')"
   ]
  },
  {
   "cell_type": "code",
   "execution_count": null,
   "metadata": {},
   "outputs": [],
   "source": []
  },
  {
   "cell_type": "code",
   "execution_count": null,
   "metadata": {},
   "outputs": [],
   "source": []
  },
  {
   "cell_type": "code",
   "execution_count": null,
   "metadata": {},
   "outputs": [],
   "source": []
  },
  {
   "cell_type": "code",
   "execution_count": null,
   "metadata": {},
   "outputs": [],
   "source": []
  },
  {
   "cell_type": "code",
   "execution_count": null,
   "metadata": {},
   "outputs": [],
   "source": []
  },
  {
   "cell_type": "code",
   "execution_count": null,
   "metadata": {},
   "outputs": [],
   "source": []
  },
  {
   "cell_type": "code",
   "execution_count": null,
   "metadata": {},
   "outputs": [],
   "source": []
  },
  {
   "cell_type": "code",
   "execution_count": null,
   "metadata": {},
   "outputs": [],
   "source": []
  },
  {
   "cell_type": "code",
   "execution_count": null,
   "metadata": {},
   "outputs": [],
   "source": []
  },
  {
   "cell_type": "code",
   "execution_count": null,
   "metadata": {},
   "outputs": [],
   "source": []
  },
  {
   "cell_type": "code",
   "execution_count": null,
   "metadata": {},
   "outputs": [],
   "source": []
  },
  {
   "cell_type": "code",
   "execution_count": null,
   "metadata": {},
   "outputs": [],
   "source": []
  },
  {
   "cell_type": "code",
   "execution_count": null,
   "metadata": {},
   "outputs": [],
   "source": []
  },
  {
   "cell_type": "code",
   "execution_count": null,
   "metadata": {},
   "outputs": [],
   "source": []
  },
  {
   "cell_type": "code",
   "execution_count": null,
   "metadata": {},
   "outputs": [],
   "source": []
  },
  {
   "cell_type": "code",
   "execution_count": null,
   "metadata": {},
   "outputs": [],
   "source": []
  },
  {
   "cell_type": "code",
   "execution_count": 336,
   "metadata": {
    "scrolled": true
   },
   "outputs": [
    {
     "data": {
      "text/plain": [
       "40"
      ]
     },
     "execution_count": 336,
     "metadata": {},
     "output_type": "execute_result"
    }
   ],
   "source": [
    "len(dom.select('#company-list > div.company.item > div.content > div.company-jobs-detail > div:nth-child(1) > div:nth-child(1) > a'))"
   ]
  },
  {
   "cell_type": "code",
   "execution_count": 337,
   "metadata": {},
   "outputs": [
    {
     "data": {
      "text/plain": [
       "56"
      ]
     },
     "execution_count": 337,
     "metadata": {},
     "output_type": "execute_result"
    }
   ],
   "source": [
    "len(dom.select('#company-list > div.company.item > div.content > div.company-jobs-detail > div.job-detail > div:nth-child(1) > a'))"
   ]
  },
  {
   "cell_type": "code",
   "execution_count": 290,
   "metadata": {},
   "outputs": [
    {
     "data": {
      "text/plain": [
       "'아이디브'"
      ]
     },
     "execution_count": 290,
     "metadata": {},
     "output_type": "execute_result"
    }
   ],
   "source": [
    "dom.select('#company-list > div.company.item > div.content')[2].select('div.company-name > a > h4 > strong')[0].text"
   ]
  },
  {
   "cell_type": "code",
   "execution_count": 294,
   "metadata": {},
   "outputs": [
    {
     "data": {
      "text/plain": [
       "'페칭 - 테크 기반의 문화와 자유로운 분위기를 지향하는 회사'"
      ]
     },
     "execution_count": 294,
     "metadata": {},
     "output_type": "execute_result"
    }
   ],
   "source": [
    "dom.select('#company-list > div.company.item > div.content')[1].select('div.description')[0].text.strip('\\xa0')"
   ]
  },
  {
   "cell_type": "code",
   "execution_count": 497,
   "metadata": {},
   "outputs": [],
   "source": [
    "def rocketpunch_crawler2(pages):\n",
    "    datas = []\n",
    "    for page in range(1,pages+1):\n",
    "        print(page)\n",
    "        url = \"https://www.rocketpunch.com/api/jobs/template?page={}&q=&specialty=Python&tag=%EB%8D%B0%EC%9D%B4%ED%84%B0%3E\".format(page)\n",
    "        response = requests.get(url)\n",
    "        data = response.json()['data']['template']\n",
    "        dom = BeautifulSoup(data, \"html.parser\")\n",
    "        root = dom.select('#company-list > div.company.item > div.content')\n",
    "        for i in range(20):\n",
    "            datas.append({\n",
    "                \"company\" : root[i].select('div.company-name > a > h4 > strong')[0].text,\n",
    "                \"description\" : root[i].select('div.description')[0].text.strip('\\xa0'),\n",
    "                \"service\" : root[i].select('div.nowrap.meta')[0].text.strip(),\n",
    "                \"position\" : root[i].select('div.company-jobs-detail > div:nth-child(1) > div:nth-child(1) > a')[0].text,\n",
    "                \"link\" : \"https://www.rocketpunch.com\"+ root[i].select('div.company-jobs-detail > div:nth-child(1) > div:nth-child(1) > a')[0].get('href'),\n",
    "                \"salary\" : root[i].select('div.company-jobs-detail > div:nth-child(1) > div:nth-child(1) > span')[0].text,\n",
    "                \"deadline\" : root[i].select('div.company-jobs-detail > div.job-detail > div.job-dates > span:nth-child(1)')[0].text.strip(' \\n'),\n",
    "            })\n",
    "            \n",
    "    return pd.DataFrame(datas)"
   ]
  },
  {
   "cell_type": "code",
   "execution_count": 270,
   "metadata": {},
   "outputs": [],
   "source": [
    "def rocketpunch_crawler(pages):\n",
    "    datas = []\n",
    "    for page in range(1,pages+1):\n",
    "        print(page)\n",
    "        url = \"https://www.rocketpunch.com/api/jobs/template?page={}&q=&specialty=Python&tag=%EB%8D%B0%EC%9D%B4%ED%84%B0%3E\".format(page)\n",
    "        response = requests.get(url)\n",
    "        data = response.json()['data']['template']\n",
    "        dom = BeautifulSoup(data, \"html.parser\")\n",
    "        for i in range(20):\n",
    "            datas.append({\n",
    "                \"company\" : dom.select('#company-list > div.company.item > div.content > div.company-name > a > h4 > strong')[i].text,\n",
    "                \"description\" : dom.select('#company-list > div.company.item > div.content > div.description')[i].text.strip('\\xa0'),\n",
    "                \"service\" : dom.select('#company-list > div.company.item > div.content > div.nowrap.meta')[i].text.strip(),\n",
    "                \"position\" : dom.select('#company-list > div.company.item > div.content > div.company-jobs-detail > div:nth-child(1) > div:nth-child(1) > a')[i].text,\n",
    "                \"link\" : \"https://www.rocketpunch.com\"+ dom.select('#company-list > div.company.item > div.content > div.company-jobs-detail > div:nth-child(1) > div:nth-child(1) > a')[0].get('href'),\n",
    "                \"salary\" : dom.select('#company-list > div.company.item > div.content > div.company-jobs-detail > div:nth-child(1) > div:nth-child(1) > span')[i].text,\n",
    "                \"deadline\" : dom.select('#company-list > div.company.item > div.content > div.company-jobs-detail > div.job-detail > div.job-dates > span:nth-child(1)')[i].text.strip(' \\n'),\n",
    "            })\n",
    "            \n",
    "    return pd.DataFrame(datas)"
   ]
  },
  {
   "cell_type": "code",
   "execution_count": null,
   "metadata": {},
   "outputs": [],
   "source": []
  },
  {
   "cell_type": "code",
   "execution_count": null,
   "metadata": {},
   "outputs": [],
   "source": []
  },
  {
   "cell_type": "code",
   "execution_count": null,
   "metadata": {},
   "outputs": [],
   "source": []
  },
  {
   "cell_type": "code",
   "execution_count": null,
   "metadata": {},
   "outputs": [],
   "source": []
  },
  {
   "cell_type": "code",
   "execution_count": null,
   "metadata": {},
   "outputs": [],
   "source": []
  },
  {
   "cell_type": "code",
   "execution_count": null,
   "metadata": {},
   "outputs": [],
   "source": []
  },
  {
   "cell_type": "code",
   "execution_count": 32,
   "metadata": {},
   "outputs": [],
   "source": [
    "url = \"https://www.rocketpunch.com/jobs?specialty=Python&tag=%EB%8D%B0%EC%9D%B4%ED%84%B0\""
   ]
  },
  {
   "cell_type": "code",
   "execution_count": null,
   "metadata": {},
   "outputs": [],
   "source": []
  },
  {
   "cell_type": "code",
   "execution_count": 33,
   "metadata": {
    "scrolled": true
   },
   "outputs": [
    {
     "data": {
      "text/plain": [
       "<Response [200]>"
      ]
     },
     "execution_count": 33,
     "metadata": {},
     "output_type": "execute_result"
    }
   ],
   "source": [
    "response = requests.get(url)\n",
    "response"
   ]
  },
  {
   "cell_type": "code",
   "execution_count": 34,
   "metadata": {},
   "outputs": [
    {
     "data": {
      "text/plain": [
       "'<!DOCTYPE html>\\n<!--[if IE 9]>\\n<html xmlns:fb=\"http://ogp.me/ns/fb#\" class=\"ie ie9\">\\n<![endif]-->\\n<!--[if (gt IE 9)|!(IE)]><!-->\\n<html xmlns:fb=\"http://ogp.me/ns/fb#\">\\n<!--<![endif]-->\\n<head>\\n  <meta http-equiv=\"content-type\" content=\"text/html; charset=utf-8\">\\n  <meta http-equiv=\"X-UA-Compatible\" content=\"IE=Edge\">\\n  <title>Python, 데이터 채용 정보\\n | 로켓펀치 - 비즈니스 네트워크</title>\\n<meta name=\"viewport\" content=\"width=device-width,minimum-scale=1.0,initial-scale=1.0,maximum-scale=1.0,user-scalable=no\">  <meta name=\"description\" content=\"Python, 데이터 관련 채용 정보를 찾아보세요. \\'로켓펀치\\'는 비즈니스와 커리어를 성장시킬 수 있는 국내 최대 비즈니스 네트워크입니다.\">\\n<link rel=\"canonical\" href=\"https://www.rocketpunch.com/jobs/tags/python\" />\\n<link rel=\"icon\" href=\"/favicon.ico\" type=\"image/x-icon\">\\n  <link rel=\"shortcut icon\" href=\"/favicon.ico\" type=\"image/x-icon\">\\n  <link rel=\"icon\" type=\"image/png\" href=\"/favicon-16x16.png\" sizes=\"16x16\">\\n  <link rel=\"icon\" type=\"image/png\" href=\"/favicon-32x32.png\" sizes=\"32x32\">\\n  <link rel=\"icon\" type=\"image/png\" href=\"/favicon-96x96.png\" sizes=\"96x96\">\\n  <link rel=\"apple-touch-icon\" href=\"/apple-touch-icon.png\">\\n  <link rel=\"apple-touch-icon\" sizes=\"58x58\" href=\"/apple-touch-icon-58x58.png\" />\\n  <link rel=\"apple-touch-icon\" sizes=\"60x60\" href=\"/apple-touch-icon-60x60.png\" />\\n  <link rel=\"apple-touch-icon\" sizes=\"72x72\" href=\"/apple-touch-icon-72x72.png\" />\\n  <link rel=\"apple-touch-icon\" sizes=\"76x76\" href=\"/apple-touch-icon-76x76.png\" />\\n  <link rel=\"apple-touch-icon\" sizes=\"114x114\" href=\"/apple-touch-icon-114x114.png\" />\\n  <link rel=\"apple-touch-icon\" sizes=\"120x120\" href=\"/apple-touch-icon-120x120.png\" />\\n  <link rel=\"apple-touch-icon\" sizes=\"144x144\" href=\"/apple-touch-icon-144x144.png\" />\\n  <link rel=\"apple-touch-icon\" sizes=\"152x152\" href=\"/apple-touch-icon-152x152.png\" />\\n  <link rel=\"apple-touch-icon\" sizes=\"180x180\" href=\"/apple-touch-icon-180x180.png\" />\\n  <link rel=\"manifest\" href=\"/site.webmanifest\">  <link type=\"text/css\" href=\"https://static.rocketpunch.com/bundle/rocketpunch.71a197c17df42330a832.css\" rel=\"stylesheet\">\\n  <link rel=\"stylesheet\" href=\"https://cdnjs.cloudflare.com/ajax/libs/slick-carousel/1.9.0/slick.min.css\" />  <link type=\"text/css\" href=\"https://static.rocketpunch.com/bundle/search.71a197c17df42330a832.css\" rel=\"stylesheet\">\\n  <link type=\"text/css\" href=\"https://static.rocketpunch.com/bundle/job.71a197c17df42330a832.css\" rel=\"stylesheet\">\\n\\n  <link type=\"text/css\" rel=\"stylesheet\" href=\"https://cdnjs.cloudflare.com/ajax/libs/cropper/0.9.3/cropper.min.css\">\\n  <script>addEventListener(\\'error\\', window.__e=function f(e){f.q=f.q||[];f.q.push(e)});</script><script>window.ga=window.ga||function(){(ga.q=ga.q||[]).push(arguments)};ga.l=+new Date;</script>\\n  \\n    <style>.async-hide { opacity: 0 !important} </style>\\n<script>(function(a,s,y,n,c,h,i,d,e){s.className+=\\' \\'+y;h.start=1*new Date;\\nh.end=i=function(){s.className=s.className.replace(RegExp(\\' ?\\'+y),\\'\\')};\\n(a[n]=a[n]||[]).hide=h;setTimeout(function(){i();h.end=null},c);h.timeout=c;\\n})(window,document.documentElement,\\'async-hide\\',\\'dataLayer\\',4000,\\n{\\'GTM-NMJNJ4X\\':true});</script><script async src=\"https://www.google-analytics.com/analytics.js\"></script><script async type=\"text/javascript\" src=\"https://static.rocketpunch.com/bundle/autotrack.564ffde88a3a396fb772.js\"></script><script>\\n  !function(f,b,e,v,n,t,s)\\n  {if(f.fbq)return;n=f.fbq=function(){n.callMethod?\\n  n.callMethod.apply(n,arguments):n.queue.push(arguments)};\\n  if(!f._fbq)f._fbq=n;n.push=n;n.loaded=!0;n.version=\\'2.0\\';\\n  n.queue=[];t=b.createElement(e);t.async=!0;\\n  t.src=v;s=b.getElementsByTagName(e)[0];\\n  s.parentNode.insertBefore(t,s)}(window, document,\\'script\\',\\n  \\'https://connect.facebook.net/en_US/fbevents.js\\');fbq(\\'init\\', \\'302703360263988\\');fbq(\\'track\\', \\'PageView\\');</script>\\n<noscript>\\n<img height=\"1\" width=\"1\" style=\"display:none\" src=\"https://www.facebook.com/tr?id=302703360263988&ev=PageView&noscript=1\"/>\\n</noscript></head>\\n<body class=\"pushable\"><div id=\"global-messages\"></div>\\n<div id=\"old_alert\"></div>\\n<script>\\n  UserVoice=window.UserVoice||[];\\n  (function(){\\n    var uv=document.createElement(\\'script\\');\\n    uv.type=\\'text/javascript\\';\\n    uv.async=true;\\n    uv.src=\\'//widget.uservoice.com/AimAPibQeGuNzX3w7vJ7Q.js\\';\\n    var s=document.getElementsByTagName(\\'script\\')[0];\\n    s.parentNode.insertBefore(uv,s)\\n  })();\\n  window.fbAsyncInit = function() {\\n    FB.init({\\n      appId            : \\'440667109316276\\',\\n      autoLogAppEvents : true,\\n      xfbml            : true,\\n      version          : \\'v5.0\\'\\n    });\\n  };\\n  WebFontConfig = {\\n    google: { families: [\\'Roboto\\', \\'Nanum Gothic\\', \\'Nanum Myeongjo\\'] }\\n  };\\n  (function(d) {\\n    var wf = d.createElement(\\'script\\'), s = d.scripts[0];\\n    wf.src = \\'https://ajax.googleapis.com/ajax/libs/webfont/1.6.26/webfont.js\\';\\n    wf.async = true;\\n    s.parentNode.insertBefore(wf, s);\\n  })(document);\\n</script>\\n<script async defer src=\"https://connect.facebook.net/ko_KR/sdk.js\"></script>\\n<div id=\"main-sidebar\" class=\"ui vertical menu left sidebar\">\\n  <div class=\"sidebar-header clearfix\">\\n    <a id=\"close-main-sidebar\"><i class=\"big ic-close icon\" title=\"RocketPunch\"></i></a>\\n    <a href=\"/\"><img src=\"https://static.rocketpunch.com/images/rocketpunch_logo.svg\" alt=\"RocketPunch\"></a>\\n  </div>\\n  <a href=\"/\" class=\"item\">홈</a>\\n  <a href=\"/people\" class=\"item\">인맥</a>\\n  <a href=\"/companies\" class=\"item\">기업</a>\\n  <a href=\"/jobs\" class=\"item\">채용</a>\\n  <a href=\"/jobhunts\" class=\"item\">셀프구직</a>\\n  <a href=\"/pricing\" class=\"item\">광고/채용 서비스</a>\\n  <a href=\"https://blog.rocketpunch.com\" target=\"_blank\" class=\"item\">블로그</a>\\n</div>\\n<div class=\" pusher\">\\n  <div id=\"header\" class=\"ui borderless main menu\">\\n    <div class=\"ui container\">\\n      <div id=\"mobile-menu\" class=\"tablet mobile only\">\\n        <a id=\"mobile-main-menu\" class=\"item\">\\n          <i class=\"large ic-menu icon menu-icon\"></i>\\n        </a>\\n        <a id=\"mobile-search-menu\" class=\"item\">\\n          <i class=\"large ic-magnifying-glass icon\"></i>\\n        </a><div class=\"right menu\">\\n            <div class=\"item\">\\n              <a href=\"/login?next_url=/jobs\" class=\"ui basic button\">로그인</a>\\n              <a href=\"/signup?next_url=/jobs\" class=\"ui primary button\">무료 가입</a>\\n            </div>\\n          </div></div><div class=\"computer large screen widescreen only\">\\n        <a class=\"main logo item\" href=\"/\">\\n          <img src=\"https://static.rocketpunch.com/images/rocketpunch_logo.svg\" alt=\"RocketPunch\">\\n        </a>\\n        <div class=\"divider item\"><div class=\"ui vertical divider\"></div></div>\\n        <div class=\"item\">\\n          <div id=\"header-search\" class=\"ui search\" data-url=\"/suggest?q={query}\">\\n            <div class=\"ui left icon transparent input\">\\n              <i class=\"ic-magnifying-glass icon\"></i>\\n              <input type=\"text\" class=\"prompt\" size=\"30\" placeholder=\"통합 검색\">\\n            </div>\\n          </div>\\n        </div>\\n      </div>\\n      <div id=\"main-menu\" class=\"right menu\">\\n        <a href=\"/people\" class=\"item\">인맥</a>\\n        <a href=\"/companies\" class=\"item\">기업</a>\\n        <a href=\"/jobs\" class=\"item\">채용</a>\\n        <a href=\"/jobhunts\" class=\"item\">셀프구직</a>\\n        <div class=\"ui main-divider item\"></div>\\n        <div id=\"main-menu-dropdown\" class=\"ui item inline dropdown\">\\n          <div class=\"text\">더보기&nbsp;</div>\\n          <i class=\"ic-chevron-down icon\"></i>\\n          <div class=\"menu\">\\n            <a href=\"/pricing\" class=\"item\">광고/채용 서비스</a>\\n            <a href=\"https://blog.rocketpunch.com\" target=\"_blank\" class=\"item\">블로그</a>\\n          </div>\\n        </div>\\n        <div class=\"item\">\\n          <a href=\"/login?next_url=/jobs\" class=\"ui basic button\">로그인</a>\\n          <a href=\"/signup\" class=\"ui primary button\">무료 가입</a>\\n        </div>\\n      </div></div>  </div><div id=\"text-banner\">\\n  <a href=\"http://bit.ly/2W3lyjO\" target=\"_blank\" id=\"RocketPunch-Business-DaaS-20200312-toptext\">\\n    <span>스타트업·중소기업 PC 구축</span> <span class=\"computer large screen widescreen only\">-</span> <span>하루 천원 대로 부담 없이 빌리세요!</span>\\n  </a>\\n  <a href=\"/pricing\" target=\"_blank\">광고</a>\\n</div>  <div id=\"breadcrumb\" class=\"ui container\"><div class=\"ui mini breadcrumb nowrap\">\\n  <a href=\"/\" class=\"section\">홈</a>\\n  <div class=\"divider\"> / </div>\\n  <a href=\"/jobs\" class=\"section\">채용</a>\\n</div></div>\\n  <div id=\"warning-adblock\" style=\"display:none;\">\\n    <div class=\"ui container\">\\n      <div class=\"block img\"></div>\\n      <div class=\"content\">웹 브라우저에서 광고 차단 도구를 사용중이면 광고 관련 페이지가 정상적으로 보이지 않을 수 있습니다. 광고 차단 도구를 끄거나 로켓펀치를 예외로 추가하는 것이 좋습니다. 광고 차단 도구를 끈 후에는 화면을 새로 고침해 주세요.</div>\\n      <a href=\"javascript:\" onclick=\"$(\\'#warning-adblock\\').fadeOut(300, function() { $(this).remove() });\"><i class=\"ic-close icon\"></i></a>\\n    </div>\\n  </div>\\n<div id=\"wrap\" class=\"ui container\">\\n  <div class=\"ui tablet stackable grid\">\\n    <div class=\"three wide column\">\\n      <div class=\"tablet mobile only\">\\n        <div id=\"mobile-navigation\" class=\"ui navigation selection fluid dropdown\">\\n          <i class=\"dropdown icon\"></i>\\n          <div class=\"ui default blue text\">            <i class=\"ic-envelope icon\"></i>모든 채용 (2,542)\\n</div>\\n          <div class=\"menu\">\\n            <a class=\"item\" href=\"/jobs\">\\n              <i class=\"ic-envelope icon\"></i>모든 채용 정보 (2,542)\\n            </a>\\n            <a class=\"item\" href=\"/jobs/collections\">\\n              <i class=\"ic-envelopes icon\"></i>투자사 별 채용 정보 (1,383)\\n            </a>\\n            <a class=\"item\" href=\"/jobs?rel=skipped\">\\n              <i class=\"ic-box_misc icon\"></i>\\n              Skip한 채용 정보</a>\\n          </div>\\n        </div>\\n      </div>\\n      <div id=\"desktop-navigation\" class=\"computer large screen widescreen only\"><a href=\"/signup\" class=\"ui primary fluid button\">채용 무료 등록</a><div id=\"object-list-menu\" class=\"ui fluid vertical menu\">\\n          <a href=\"/jobs\"\\n             class=\"active item\">\\n            <i class=\"ic-envelope icon\"></i>\\n            모든 채용 정보 (2,542)\\n          </a>\\n          <a href=\"/jobs/collections\" class=\"item\">\\n            <i class=\"ic-envelopes icon\"></i>투자사 별 채용 정보 (1,383)\\n          </a>\\n          <a class=\"item\"              data-modal=\"signup\" data-next=\"/jobs?rel=skipped\"\\n>\\n            <i class=\"ic-box_misc icon\"></i>\\n            Skip한 채용 정보\\n          </a>\\n        </div><div id=\"section-banner\" class=\"computer large screen widescreen only block\">\\n  <div id=\"banner-list\">\\n    <div class=\"image\">\\n      <a href=\"http://bit.ly/2wAa4da\" title=\"새창\" target=\"_blank\" id=\"RocketPunch-Business-codeit-side-500x500-20200303-service\"><img data-src=\"https://media.rocketpunch.com/side_banner/m/2020/03/07/%EB%A1%9C%EC%BC%93_250x250_4.png\" class=\"ui image lazyload\"></a>\\n    </div>\\n  </div><p class=\"banner guide\">\\n    <a href=\"/pricing\" class=\"primary link\" target=\"_blank\">배너 문의</a>\\n  </p></div></div>\\n    </div>\\n\\n    <div class=\"nine wide column\">\\n<div class=\"ui segment omnibox-filter\">\\n  <h1 class=\"ui top header\">\\n    채용 정보 검색\\n  </h1>\\n\\n  <form id=\"search-form\" action=\"/jobs\" method=\"GET\">\\n    <div class=\"ui doubling stackable menu\">\\n<div class=\"ui dropdown item\">\\n  <div class=\"ui basic  button\">\\n    채용 분야\\n    <i class=\"ic-chevron-down icon\"></i>\\n  </div>\\n  <div class=\"menu\">\\n      <a class=\"item\" data-name=\"job\" data-value=\"1\" data-caption=\"SW 개발\" href=\"/jobs?specialty=Python&amp;tag=%EB%8D%B0%EC%9D%B4%ED%84%B0&amp;job=1\">SW 개발</a>\\n      <a class=\"item\" data-name=\"job\" data-value=\"2\" data-caption=\"HW 개발\" href=\"/jobs?specialty=Python&amp;tag=%EB%8D%B0%EC%9D%B4%ED%84%B0&amp;job=2\">HW 개발</a>\\n      <a class=\"item\" data-name=\"job\" data-value=\"10\" data-caption=\"게임 개발\" href=\"/jobs?specialty=Python&amp;tag=%EB%8D%B0%EC%9D%B4%ED%84%B0&amp;job=10\">게임 개발</a>\\n      <a class=\"item\" data-name=\"job\" data-value=\"3\" data-caption=\"디자인\" href=\"/jobs?specialty=Python&amp;tag=%EB%8D%B0%EC%9D%B4%ED%84%B0&amp;job=3\">디자인</a>\\n      <a class=\"item\" data-name=\"job\" data-value=\"9\" data-caption=\"기획/PM\" href=\"/jobs?specialty=Python&amp;tag=%EB%8D%B0%EC%9D%B4%ED%84%B0&amp;job=9\">기획/PM</a>\\n      <a class=\"item\" data-name=\"job\" data-value=\"5\" data-caption=\"마케팅\" href=\"/jobs?specialty=Python&amp;tag=%EB%8D%B0%EC%9D%B4%ED%84%B0&amp;job=5\">마케팅</a>\\n      <a class=\"item\" data-name=\"job\" data-value=\"4\" data-caption=\"운영\" href=\"/jobs?specialty=Python&amp;tag=%EB%8D%B0%EC%9D%B4%ED%84%B0&amp;job=4\">운영</a>\\n      <a class=\"item\" data-name=\"job\" data-value=\"8\" data-caption=\"경영지원\" href=\"/jobs?specialty=Python&amp;tag=%EB%8D%B0%EC%9D%B4%ED%84%B0&amp;job=8\">경영지원</a>\\n      <a class=\"item\" data-name=\"job\" data-value=\"6\" data-caption=\"비즈니스\" href=\"/jobs?specialty=Python&amp;tag=%EB%8D%B0%EC%9D%B4%ED%84%B0&amp;job=6\">비즈니스</a>\\n      <a class=\"item\" data-name=\"job\" data-value=\"7\" data-caption=\"투자\" href=\"/jobs?specialty=Python&amp;tag=%EB%8D%B0%EC%9D%B4%ED%84%B0&amp;job=7\">투자</a>\\n  </div>\\n</div><div class=\"ui dropdown item\">\\n  <div class=\"ui basic  button\">\\n    산업\\n    <i class=\"ic-chevron-down icon\"></i>\\n  </div>\\n  <div class=\"menu\">\\n    <div class=\"ui search\" data-name=\"tag\" data-url=\"/api/search/companies/tags?name={query}\" data-caption=\"산업: \">\\n      <div class=\"ui icon fluid input\">\\n        <input class=\"industry prompt\" type=\"text\" placeholder=\"산업을 검색해보세요\">\\n        <i class=\"search icon\"></i>\\n      </div>\\n      <div class=\"results\">\\n      </div>\\n      <div class=\"presets\">\\n        <p class=\"search category\">인기 산업</p>\\n          <a class=\"item result\" data-name=\"tag\" data-value=\"웹서비스\" data-caption=\"웹서비스\" href=\"/jobs?specialty=Python&amp;tag=%EC%9B%B9%EC%84%9C%EB%B9%84%EC%8A%A4&amp;tag=%EB%8D%B0%EC%9D%B4%ED%84%B0\">\\n            <div class=\"content\">\\n              <div class=\"title\">\\n                웹서비스\\n              </div>\\n            </div>\\n          </a>\\n          <a class=\"item result\" data-name=\"tag\" data-value=\"모바일\" data-caption=\"모바일\" href=\"/jobs?specialty=Python&amp;tag=%EB%8D%B0%EC%9D%B4%ED%84%B0&amp;tag=%EB%AA%A8%EB%B0%94%EC%9D%BC\">\\n            <div class=\"content\">\\n              <div class=\"title\">\\n                모바일\\n              </div>\\n            </div>\\n          </a>\\n          <a class=\"item result\" data-name=\"tag\" data-value=\"e-commerce\" data-caption=\"e-commerce\" href=\"/jobs?specialty=Python&amp;tag=%EB%8D%B0%EC%9D%B4%ED%84%B0&amp;tag=e-commerce\">\\n            <div class=\"content\">\\n              <div class=\"title\">\\n                e-commerce\\n              </div>\\n            </div>\\n          </a>\\n          <a class=\"item result\" data-name=\"tag\" data-value=\"IoT\" data-caption=\"IoT\" href=\"/jobs?specialty=Python&amp;tag=%EB%8D%B0%EC%9D%B4%ED%84%B0&amp;tag=IoT\">\\n            <div class=\"content\">\\n              <div class=\"title\">\\n                IoT\\n              </div>\\n            </div>\\n          </a>\\n          <a class=\"item result\" data-name=\"tag\" data-value=\"O2O\" data-caption=\"O2O\" href=\"/jobs?specialty=Python&amp;tag=%EB%8D%B0%EC%9D%B4%ED%84%B0&amp;tag=O2O\">\\n            <div class=\"content\">\\n              <div class=\"title\">\\n                O2O\\n              </div>\\n            </div>\\n          </a>\\n          <a class=\"item result\" data-name=\"tag\" data-value=\"핀테크\" data-caption=\"핀테크\" href=\"/jobs?specialty=Python&amp;tag=%EB%8D%B0%EC%9D%B4%ED%84%B0&amp;tag=%ED%95%80%ED%85%8C%ED%81%AC\">\\n            <div class=\"content\">\\n              <div class=\"title\">\\n                핀테크\\n              </div>\\n            </div>\\n          </a>\\n      </div>\\n    </div>\\n  </div>\\n</div><div class=\"ui dropdown item\">\\n  <div class=\"ui basic  button\">\\n    활동 분야\\n    <i class=\"ic-chevron-down icon\"></i>\\n  </div>\\n  <div class=\"menu\">\\n    <div class=\"ui search\" data-name=\"tag\" data-url=\"/api/search/jobs/specialties?name={query}\" data-caption=\"활동 분야: \">\\n      <div class=\"ui icon fluid input\">\\n        <input class=\"industry prompt\" type=\"text\" placeholder=\"활동 분야를 검색해보세요\">\\n        <i class=\"search icon\"></i>\\n      </div>\\n      <div class=\"results\">\\n      </div>\\n      <div class=\"presets\">\\n          <a class=\"item result\" data-name=\"specialty\" data-value=\"Android\" data-caption=\"Android\" href=\"/jobs?specialty=Python&amp;specialty=Android&amp;tag=%EB%8D%B0%EC%9D%B4%ED%84%B0\">\\n            <div class=\"content\">\\n              <div class=\"title\">\\n                Android\\n              </div>\\n            </div>\\n          </a>\\n          <a class=\"item result\" data-name=\"specialty\" data-value=\"iOS\" data-caption=\"iOS\" href=\"/jobs?specialty=Python&amp;specialty=iOS&amp;tag=%EB%8D%B0%EC%9D%B4%ED%84%B0\">\\n            <div class=\"content\">\\n              <div class=\"title\">\\n                iOS\\n              </div>\\n            </div>\\n          </a>\\n          <a class=\"item result\" data-name=\"specialty\" data-value=\"C++\" data-caption=\"C++\" href=\"/jobs?specialty=Python&amp;specialty=C%2B%2B&amp;tag=%EB%8D%B0%EC%9D%B4%ED%84%B0\">\\n            <div class=\"content\">\\n              <div class=\"title\">\\n                C++\\n              </div>\\n            </div>\\n          </a>\\n          <a class=\"item result\" data-name=\"specialty\" data-value=\"C#\" data-caption=\"C#\" href=\"/jobs?specialty=C%23&amp;specialty=Python&amp;tag=%EB%8D%B0%EC%9D%B4%ED%84%B0\">\\n            <div class=\"content\">\\n              <div class=\"title\">\\n                C#\\n              </div>\\n            </div>\\n          </a>\\n          <a class=\"item result\" data-name=\"specialty\" data-value=\"Java\" data-caption=\"Java\" href=\"/jobs?specialty=Python&amp;specialty=Java&amp;tag=%EB%8D%B0%EC%9D%B4%ED%84%B0\">\\n            <div class=\"content\">\\n              <div class=\"title\">\\n                Java\\n              </div>\\n            </div>\\n          </a>\\n          <a class=\"item result\" data-name=\"specialty\" data-value=\"PHP\" data-caption=\"PHP\" href=\"/jobs?specialty=Python&amp;specialty=PHP&amp;tag=%EB%8D%B0%EC%9D%B4%ED%84%B0\">\\n            <div class=\"content\">\\n              <div class=\"title\">\\n                PHP\\n              </div>\\n            </div>\\n          </a>\\n          <a class=\"item result\" data-name=\"specialty\" data-value=\"Python\" data-caption=\"Python\" href=\"/jobs?specialty=Python&amp;tag=%EB%8D%B0%EC%9D%B4%ED%84%B0\">\\n            <div class=\"content\">\\n              <div class=\"title\">\\n                Python\\n              </div>\\n            </div>\\n          </a>\\n          <a class=\"item result\" data-name=\"specialty\" data-value=\"Ruby\" data-caption=\"Ruby\" href=\"/jobs?specialty=Ruby&amp;specialty=Python&amp;tag=%EB%8D%B0%EC%9D%B4%ED%84%B0\">\\n            <div class=\"content\">\\n              <div class=\"title\">\\n                Ruby\\n              </div>\\n            </div>\\n          </a>\\n          <a class=\"item result\" data-name=\"specialty\" data-value=\"JSP\" data-caption=\"JSP\" href=\"/jobs?specialty=Python&amp;specialty=JSP&amp;tag=%EB%8D%B0%EC%9D%B4%ED%84%B0\">\\n            <div class=\"content\">\\n              <div class=\"title\">\\n                JSP\\n              </div>\\n            </div>\\n          </a>\\n          <a class=\"item result\" data-name=\"specialty\" data-value=\"Node.js\" data-caption=\"Node.js\" href=\"/jobs?specialty=Node.js&amp;specialty=Python&amp;tag=%EB%8D%B0%EC%9D%B4%ED%84%B0\">\\n            <div class=\"content\">\\n              <div class=\"title\">\\n                Node.js\\n              </div>\\n            </div>\\n          </a>\\n          <a class=\"item result\" data-name=\"specialty\" data-value=\"AngularJS\" data-caption=\"AngularJS\" href=\"/jobs?specialty=Python&amp;specialty=AngularJS&amp;tag=%EB%8D%B0%EC%9D%B4%ED%84%B0\">\\n            <div class=\"content\">\\n              <div class=\"title\">\\n                AngularJS\\n              </div>\\n            </div>\\n          </a>\\n          <a class=\"item result\" data-name=\"specialty\" data-value=\"jQuery\" data-caption=\"jQuery\" href=\"/jobs?specialty=Python&amp;specialty=jQuery&amp;tag=%EB%8D%B0%EC%9D%B4%ED%84%B0\">\\n            <div class=\"content\">\\n              <div class=\"title\">\\n                jQuery\\n              </div>\\n            </div>\\n          </a>\\n          <a class=\"item result\" data-name=\"specialty\" data-value=\"ASP.NET\" data-caption=\"ASP.NET\" href=\"/jobs?specialty=Python&amp;specialty=ASP.NET&amp;tag=%EB%8D%B0%EC%9D%B4%ED%84%B0\">\\n            <div class=\"content\">\\n              <div class=\"title\">\\n                ASP.NET\\n              </div>\\n            </div>\\n          </a>\\n      </div>\\n    </div>\\n  </div>\\n</div><div class=\"ui dropdown item with-range\">\\n  <div class=\"ui basic  button\">\\n    보상\\n    <i class=\"ic-chevron-down icon\"></i>\\n  </div>\\n  <div class=\"menu\">\\n    <div class=\"ui header\" style=\"min-width: 20em; font-size: 14px;\">\\n      <div>\\n        <p>\\n          <input id=\"salary\" type=\"checkbox\" checked>\\n          <label for=\"salary\">연봉:</label>\\n        </p>\\n        <div class=\"ui range\" data-caption=\"연봉:\" data-min=\"0\" data-max=\"200\" data-format=\"format_salary\"></div>\\n        <p><span style=\"float: right\" data-name=\\'salary\\' data-value=\\'0-\\' data-caption=\\'연봉: 0-\\'>0억-2억+</span></p>\\n      </div>\\n      <div style=\"margin-top:2em; margin-bottom:2em;\">\\n        <p>\\n          <input id=\"stock\" type=\"checkbox\" checked>\\n          <label for=\"stock\">스톡옵션:</label>\\n        </p>\\n        <div class=\"ui range\" data-caption=\"스톡옵션:\" data-min=\"0\" data-max=\"50\" data-format=\"format_stock\"></div>\\n        <p><span style=\"float: right\" data-name=\\'stock\\' data-value=\\'0-\\' data-caption=\\'스톡옵션: 0-\\'>0%-5%</span></p>\\n      </div>\\n    </div>\\n    <a class=\"item button\">필터 적용하기</a>\\n  </div>\\n</div><div class=\"ui dropdown item\">\\n  <div class=\"ui basic  button\">\\n    채용 조건\\n    <i class=\"ic-chevron-down icon\"></i>\\n  </div>\\n  <div class=\"menu\">\\n    <p class=\"search category\">경력 여부</p>\\n    <a class=\"item\" data-name=\"career_type\" data-value=\"1\" data-caption=\"경력 여부: 신입\" href=\"/jobs?specialty=Python&amp;tag=%EB%8D%B0%EC%9D%B4%ED%84%B0&amp;career_type=1\">신입</a>\\n    <a class=\"item\" data-name=\"career_type\" data-value=\"2\" data-caption=\"경력 여부: 경력\" href=\"/jobs?specialty=Python&amp;tag=%EB%8D%B0%EC%9D%B4%ED%84%B0&amp;career_type=2\">경력</a>\\n    <a class=\"item\" data-name=\"career_type\" data-value=\"4\" data-caption=\"경력 여부: 인턴\" href=\"/jobs?specialty=Python&amp;tag=%EB%8D%B0%EC%9D%B4%ED%84%B0&amp;career_type=4\">인턴</a>\\n    <p class=\"search category\">고용 형태</p>\\n    <a class=\"item\" data-name=\"hiring_types\" data-value=\"0\" data-caption=\"고용 형태: 풀타임\" href=\"/jobs?specialty=Python&amp;tag=%EB%8D%B0%EC%9D%B4%ED%84%B0&amp;hiring_types=0\">풀타임</a>\\n    <a class=\"item\" data-name=\"hiring_types\" data-value=\"1\" data-caption=\"고용 형태: 파트타임\" href=\"/jobs?specialty=Python&amp;tag=%EB%8D%B0%EC%9D%B4%ED%84%B0&amp;hiring_types=1\">파트타임</a>\\n    <a class=\"item\" data-name=\"hiring_types\" data-value=\"2\" data-caption=\"고용 형태: 프리랜서\" href=\"/jobs?specialty=Python&amp;tag=%EB%8D%B0%EC%9D%B4%ED%84%B0&amp;hiring_types=2\">프리랜서</a>\\n    <a class=\"item\" data-name=\"hiring_types\" data-value=\"3\" data-caption=\"고용 형태: 병역 대체\" href=\"/jobs?specialty=Python&amp;tag=%EB%8D%B0%EC%9D%B4%ED%84%B0&amp;hiring_types=3\">병역 대체</a>\\n    <p class=\"search category\">근무 조건</p>\\n    <a class=\"item\" data-name=\"remote\" data-value=\"1\" data-caption=\"원격 근무: Y\" href=\"/jobs?specialty=Python&amp;tag=%EB%8D%B0%EC%9D%B4%ED%84%B0&amp;remote=1\">원격 근무</a>\\n    <p class=\"search category\">외국어 조건</p>\\n    <a class=\"item\" data-name=\"language\" data-value=\"영어\" data-caption=\"언어: 영어\" href=\"/jobs?specialty=Python&amp;tag=%EB%8D%B0%EC%9D%B4%ED%84%B0&amp;language=%EC%98%81%EC%96%B4\">영어</a>\\n    <a class=\"item\" data-name=\"language\" data-value=\"중국어\" data-caption=\"언어: 중국어\" href=\"/jobs?specialty=Python&amp;tag=%EB%8D%B0%EC%9D%B4%ED%84%B0&amp;language=%EC%A4%91%EA%B5%AD%EC%96%B4\">중국어</a>\\n    <a class=\"item\" data-name=\"language\" data-value=\"일본어\" data-caption=\"언어: 일본어\" href=\"/jobs?specialty=Python&amp;tag=%EB%8D%B0%EC%9D%B4%ED%84%B0&amp;language=%EC%9D%BC%EB%B3%B8%EC%96%B4\">일본어</a>\\n    <p class=\"search category\">병역대체</p>\\n    <a class=\"item\" data-name=\"military_service\" data-value=\"1\" data-caption=\"병역대체 기업: Y\" href=\"/jobs?specialty=Python&amp;tag=%EB%8D%B0%EC%9D%B4%ED%84%B0&amp;military_service=1\">병역대체 기업</a>\\n  </div>\\n</div><div class=\"ui location dropdown item\">\\n  <div class=\"ui basic  button\">\\n    지역\\n    <i class=\"ic-chevron-down icon\"></i>\\n  </div>\\n  <div class=\"menu\">\\n    <div class=\"ui search\" data-name=\"location\" data-url=\"/api/search/jobs/locations?name={query}\" data-caption=\"지역: \">\\n      <div class=\"ui icon fluid input\">\\n        <input class=\"location prompt\" type=\"text\" placeholder=\"지역을 검색해보세요\">\\n        <i class=\"search icon\"></i>\\n      </div>\\n      <div class=\"results\">\\n      </div>\\n      <div class=\"presets\">\\n        <p class=\"search category\">인기 지역</p>\\n          <a class=\"item result\" data-name=\"location\" data-value=\"서울특별시\" data-caption=\"서울특별시\" href=\"/jobs?specialty=Python&amp;tag=%EB%8D%B0%EC%9D%B4%ED%84%B0&amp;location=%EC%84%9C%EC%9A%B8%ED%8A%B9%EB%B3%84%EC%8B%9C\">\\n            <div class=\"content\">\\n              <div class=\"title\">\\n                서울특별시\\n              </div>\\n            </div>\\n          </a>\\n          <a class=\"item result\" data-name=\"location\" data-value=\"경기도\" data-caption=\"경기도\" href=\"/jobs?specialty=Python&amp;tag=%EB%8D%B0%EC%9D%B4%ED%84%B0&amp;location=%EA%B2%BD%EA%B8%B0%EB%8F%84\">\\n            <div class=\"content\">\\n              <div class=\"title\">\\n                경기도\\n              </div>\\n            </div>\\n          </a>\\n          <a class=\"item result\" data-name=\"location\" data-value=\"성남시 분당구\" data-caption=\"성남시 분당구\" href=\"/jobs?specialty=Python&amp;tag=%EB%8D%B0%EC%9D%B4%ED%84%B0&amp;location=%EC%84%B1%EB%82%A8%EC%8B%9C+%EB%B6%84%EB%8B%B9%EA%B5%AC\">\\n            <div class=\"content\">\\n              <div class=\"title\">\\n                성남시 분당구\\n              </div>\\n            </div>\\n          </a>\\n          <a class=\"item result\" data-name=\"location\" data-value=\"서울특별시 강남구\" data-caption=\"서울특별시 강남구\" href=\"/jobs?specialty=Python&amp;tag=%EB%8D%B0%EC%9D%B4%ED%84%B0&amp;location=%EC%84%9C%EC%9A%B8%ED%8A%B9%EB%B3%84%EC%8B%9C+%EA%B0%95%EB%82%A8%EA%B5%AC\">\\n            <div class=\"content\">\\n              <div class=\"title\">\\n                서울특별시 강남구\\n              </div>\\n            </div>\\n          </a>\\n      </div>\\n    </div>\\n  </div>\\n</div>    </div>\\n\\n    <input type=\"hidden\" name=\"page\" id=\"id_page\">\\n\\n    <div class=\"search-omnibox\">\\n      <div class=\"search-filters\">\\n        \\n        \\n        <a class=\"ui label\" data-short-caption=\"데이터\">산업: 데이터<input type=\"hidden\" name=\"tag\" value=\"데이터\" id=\"id_tag_0\" /><i class=\"delete icon\"></i>\\n  </a>\\n        <a class=\"ui label\" data-short-caption=\"Python\">활동 분야: Python<input type=\"hidden\" name=\"specialty\" value=\"Python\" id=\"id_specialty_0\" /><i class=\"delete icon\"></i>\\n  </a>\\n        \\n        \\n        \\n        \\n        \\n        \\n        \\n        \\n        \\n      </div>\\n      <div class=\"ui fluid input\">\\n        <input type=\"text\" name=\"q\" placeholder=\"필터, 키워드, 기업 이름 검색\" id=\"id_q\">\\n        <button id=\"search-button\" type=\"submit\" class=\"ui primary mini button search\" style=\"margin-left: -3000px\">검색</button>\\n      </div>\\n    </div>\\n  </form>\\n\\n<div class=\"ui blank segment\" id=\"user_filters\" data-url=\"/api/jobs/user_filter\">\\n\\n  <div class=\"ui menu\"><div class=\"placeholder item\">\\n      검색 조건을 저장하시면, 새로운 정보가 등록될 경우 메일로 알려드립니다.\\n    </div>\\n    <div class=\"right menu\">\\n      <div class=\"item\">\\n        <div class=\"ui form\" data-modal=\"signup\">\\n          <button class=\"ui right floated basic small button\">\\n            검색 조건 저장\\n          </button>\\n        </div>\\n      </div>\\n    </div>\\n\\n  </div>\\n\\n</div></div><div id=\"search-bottom-banner\">\\n  <div id=\"banner-list\">\\n    <div class=\"image\">\\n      <a href=\"http://bit.ly/2vQLeWb\" title=\"새창\" target=\"_blank\" id=\"RocketPunch-Business-Searchbelow-codeit-20200308-service\">\\n        <picture>\\n          <source media=\"(max-width: 767px)\" srcset=\"https://media.rocketpunch.com/search_bottom_banner/m/2020/03/07/%EB%A1%9C%EC%BC%93_328x80_4.png\">\\n          <source media=\"(min-width: 768px)\" srcset=\"https://media.rocketpunch.com/search_bottom_banner/2020/03/07/%EB%A1%9C%EC%BC%93_790x80_4.png\">\\n          <img data-src=\"https://media.rocketpunch.com/search_bottom_banner/2020/03/07/%EB%A1%9C%EC%BC%93_790x80_4.png\" style=\"width: 100%;\" class=\"ui image lazyload\">\\n        </picture>\\n      </a>\\n    </div>\\n  </div>\\n</div><div id=\"search-results\">\\n  <div class=\"ui blank segment loading\">\\n    <img src=\"https://static.rocketpunch.com/images/company/preload_company_result.png\">\\n  </div>\\n</div>\\n    </div>\\n  </div>\\n</div>\\n\\n<div class=\"ui modal fade\" id=\"request-company-admin-modal\" aria-labelledby=\"관리자 등록\" aria-hidden=\"true\">\\n  <div class=\"ui center aligned header\">\\n    <i class=\"ic-close icon\"></i>\\n    <p>관리자 등록 안내</p>\\n  </div>\\n  <div class=\"content\">\\n    <p>관리자로 등록 후 채용 정보를 등록 할 수 있습니다.</p>\\n    <p><a href=\"https://www.rocketpunch.com/help/1009\" target=\"_blank\" style=\"text-decoration:underline;\">구성원으로 등록한 기업의 관리자에게 문의하시거나, 로켓펀치 관리자에게 문의해주세요.</a></p>\\n  </div>\\n</div>\\n  <div id=\"footer\" class=\"ui footer segment\">\\n    <div class=\"ui container\">\\n      <div class=\"ui stackable mobile reversed grid\">\\n        <div class=\"left floated nine wide footer column\">\\n          <div class=\"ui horizontal small link list\">\\n            <a href=\"https://www.rocketpunch.com/companies/rocketpunch\" target=\"_blank\" class=\"item\">회사소개</a>\\n            <a href=\"/about\" class=\"item\">서비스소개</a>\\n            <a href=\"/tos\" class=\"item\">이용약관</a>\\n            <a href=\"/privacy\" class=\"item\"><strong>개인정보처리방침</strong></a>\\n            <a href=\"/security\" class=\"item\">보안 취약점 보고</a>\\n            <a href=\"/email_security\" class=\"item\">이메일 무단수집거부</a>\\n            <a href=\"/partnership\" class=\"item\">협업 제안</a>\\n            <a href=\"/help\" class=\"item\">도움말</a>\\n            <a href=\"/pricing\" class=\"item\">유료서비스 안내</a>\\n          </div>\\n        </div>\\n        <div class=\"right floated three wide sns column\">\\n          <div class=\"ui horizontal large link list\">\\n            <a href=\"https://www.facebook.com/pages/RocketPunch/155413834600029\" target=\"_blank\" title=\"로켓펀치 페이스북\" class=\"item\">\\n              <i class=\"ic-social-facebook large icon\"></i>\\n            </a>\\n            <a href=\"https://twitter.com/rocketpun_ch\" target=\"_blank\" title=\"로켓펀치 트위터\" class=\"item\">\\n              <i class=\"ic-social-twitter large icon\"></i>\\n            </a>\\n            <a href=\"https://blog.naver.com/rocketpun_ch\" target=\"_blank\" title=\"로켓펀치 블로그\" class=\"item\">\\n              <i class=\"ic-social-naver large icon\"></i>\\n            </a>\\n          </div>\\n        </div>\\n      </div>\\n      <p class=\"ui grey text company info\">\\n        <small>\\n          <span style=\"font-weight:bold;padding-bottom:4px;display:block\">&copy; Since 2012, RocketPunch, Inc.  All rights reserved.</span>\\n        </small>\\n      </p>\\n    </div>\\n  </div>\\n</div><input type=\"hidden\" id=\"next_url\" value=\"/jobs\">\\n<!-- login -->\\n<div class=\"ui modal fade login\" id=\"login-modal\" aria-labelledby=\"로켓펀치 로그인\" aria-hidden=\"true\">\\n  <i class=\"close ic-close\"></i>\\n  <div class=\"ui center aligned header\">\\n    <p>로그인</p>\\n  </div>\\n  <div class=\"content\">\\n<div class=\"ui social-login text\">\\n  SNS 계정으로 로그인\\n</div>\\n<div class=\"ui stackable social-connect grid\">\\n  <div class=\"six wide column\">\\n    <a href=\"/login/facebook/?next=/jobs%3Fspecialty=Python&amp;tag=%EB%8D%B0%EC%9D%B4%ED%84%B0\" class=\"fluid ui facebook button\"><i class=\"facebook icon\"></i><div>Facebook</div>\\n    </a>\\n  </div>\\n  <div class=\"six wide column\">\\n    <a href=\"/login/google-oauth2/?next=/jobs%3Fspecialty=Python&amp;tag=%EB%8D%B0%EC%9D%B4%ED%84%B0\" class=\"fluid ui google button\"><i class=\"ic-ico-google icon\">\\n          <span class=\"path1\"></span><span class=\"path2\"></span><span class=\"path3\"></span><span class=\"path4\"></span>\\n        </i><div>Google</div>\\n    </a>\\n  </div>\\n  <div class=\"six wide column\">\\n    <a href=\"/login/linkedin-oauth2/?next=/jobs%3Fspecialty=Python&amp;tag=%EB%8D%B0%EC%9D%B4%ED%84%B0\" class=\"fluid ui linkedin button\"><i class=\"linkedin icon\"></i><div>LinkedIn</div>\\n    </a>\\n  </div>\\n  <div class=\"six wide column\">\\n    <a href=\"/login/github/?next=/jobs%3Fspecialty=Python&amp;tag=%EB%8D%B0%EC%9D%B4%ED%84%B0\" class=\"fluid ui github button\"><i class=\"github icon\"></i><div>GitHub</div>\\n    </a>\\n  </div>\\n</div>\\n<div class=\"ui lower horizontal divider\">or</div>\\n<form id=\"form-login-inline\" name=\"login-inline\" method=\"post\" action=\"/api/users/login\" class=\"ui form\">\\n<input type=\\'hidden\\' name=\\'csrfmiddlewaretoken\\' value=\\'yI3HNwxbhITG39yu92qvkXbVk0EUc7tflTaZF1IWzCQhX2zZJxgYqIy47xKbEzJ0\\' />  <input type=\"hidden\" name=\"_method\" value=\"post\"><div class=\"field\">\\n    <label for=\"id-login-email\">이메일</label>\\n    <input type=\"email\" id=\"id-login-email\" name=\"email\" required data-required=\"E-mail을 입력해주세요\" data-validate=\"E-mail 형식을 확인해주세요.\" placeholder=\"이메일 ex) rocket@email.com\">\\n  </div>\\n  <div class=\"field\">\\n    <label for=\"id-login-password\">비밀번호</label>\\n    <input type=\"password\" id=\"id-login-password\" name=\"password\" required data-required=\"비밀번호를 입력해주세요\" placeholder=\"비밀번호\">\\n  </div>\\n  <div class=\"login-button\">\\n    <a data-modal=\"reset\">비밀번호 찾기</a>\\n    <button type=\"submit\" class=\"ui primary basic button\" data-ing=\"로그인 중...\" data-retry=\"재시도\" data-done=\"로그인 성공\">로그인</button>\\n  </div>\\n</form>\\n<div class=\"ui divider\"></div>\\n<div class=\"login-extra\">\\n  <span>아직 회원이 아니신가요?</span>\\n  <a data-modal=\"signup\">무료 가입</a></div>  </div>\\n</div><!-- reset -->\\n<div class=\"ui modal fade reset\" id=\"reset-modal\" aria-labelledby=\"로켓펀치 비밀번호 재설정\" aria-hidden=\"true\">\\n  <div class=\"ui center aligned header\">\\n    <i class=\"ic-close icon\"></i>\\n    <p>비밀번호 재설정</p>\\n  </div>\\n  <div class=\"content\">\\n<div class=\"ui basic center aligned segment\">\\n  <p>가입하신 E-mail을 입력해주세요</p>\\n</div>\\n<form id=\"form-password-reset\" name=\"password-reset\" method=\"post\" action=\"/api/password_reset\" class=\"ui form\">\\n<input type=\\'hidden\\' name=\\'csrfmiddlewaretoken\\' value=\\'yI3HNwxbhITG39yu92qvkXbVk0EUc7tflTaZF1IWzCQhX2zZJxgYqIy47xKbEzJ0\\' />  <input type=\"hidden\" name=\"_method\" value=\"post\">\\n  <div class=\"field\">\\n    <label for=\"id-email\">E-mail</label>\\n    <input type=\"email\" id=\"id-reset-email\" name=\"email\" required data-required=\"E-mail을 입력해주세요\" data-validate=\"E-mail 형식을 확인해주세요.\" placeholder=\"이메일 ex) rocket@email.com\">\\n  </div>\\n  <div style=\"text-align:center\">\\n    <button type=\"submit\" class=\"ui primary button\">비밀번호 재설정 이메일 발송</button>\\n  </div>\\n</form>  </div>\\n</div>\\n<div class=\"rp-point-popup transition fade hidden\">\\n  <div class=\"check1\"></div>\\n  <div class=\"check2\"></div>\\n  <i class=\"icon ic-android-done\"></i>\\n  <i class=\"icon ic-close\"></i>\\n  <div class=\"content\">\\n    <div class=\"added-point\"></div>\\n    <div class=\"ui divider\"></div>\\n    <div class=\"added-point-description\"></div>\\n  </div>\\n</div>\\n<div class=\"ui modal\" id=\"mobile-search-modal\"><div id=\"header-search-mobile\" class=\"ui huge fluid search\" data-url=\"/suggest?q={query}\">\\n  <div class=\"ui huge fluid input\">\\n    <i class=\"ic-chevron-left icon\"></i>\\n\\n    <input type=\"text\" class=\"prompt\" placeholder=\"통합 검색\">\\n  </div>\\n</div></div>\\n<div id=\"fb-like-modal\" class=\"ui modal\">\\n  <div style=\"position:relative;\"><i class=\"ic-close icon\"></i></div>\\n  <div class=\"content\">\\n    <div class=\"title\">페이스북에서 당신을 성장시킬 이야기를 만나보세요!</div>\\n    <img data-src=\"https://static.rocketpunch.com/images/common/popup-header%402x.jpg\" class=\"lazyload\" width=\"100%\" height=\"150px\">\\n    <div class=\"fb-page\" data-href=\"https://www.facebook.com/rocketpunch.inc/?fref=ts\" data-width=\"272px\" data-small-header=\"true\" data-adapt-container-width=\"true\" data-hide-cover=\"true\" data-show-facepile=\"true\"><blockquote cite=\"https://www.facebook.com/rocketpunch.inc/?fref=ts\" class=\"fb-xfbml-parse-ignore\"><a href=\"https://www.facebook.com/rocketpunch.inc/?fref=ts\">로켓펀치 - 비즈니스 네트워크</a></blockquote></div>\\n  </div>\\n</div>\\n<div id=\"search-blank-data\" style=\"display:none\">\\n  <div class=\"search-blank\">\\n    <div class=\"ui header\">카테고리별 검색</div>\\n    <div class=\"category\">\\n      <a href=\"/people\" class=\"ui icon basic button\"><i class=\"icon ic-person-outline\"></i> 인맥</a>\\n      <a href=\"/companies\" class=\"ui icon basic button\"><i class=\"icon ic-company-outline\"></i> 기업</a>\\n      <a href=\"/jobs\" class=\"ui icon basic button\"><i class=\"icon ic-job-outline\"></i> 채용</a>\\n    </div>\\n    <div class=\"ui header\">추천 검색</div>\\n    <div class=\"recommend-terms\"></div>\\n  </div>\\n</div>\\n<a href=\"mailto:startup@rocketpunch.com\" id=\"global-uv-link\" data-uv-trigger data-uv-mode=\"contact\" data-uv-trigger-position=\"top-left\" data-uv-menu-enabled=\"true\"><i class=\"icon ic-question\"></i></a>\\n<script>\\nvar ie8 = false, old_browser = false;if (document.createElement(\\'input\\').placeholder === undefined) { old_browser = true;}\\n</script>\\n<!--[if lt IE 9]>\\n<script>ie8 = true;</script>\\n<script src=\"https://static.rocketpunch.com/js/ie8.js\"></script>\\n<script src=\"https://cdnjs.cloudflare.com/ajax/libs/html5shiv/3.7.2/html5shiv.min.js\"></script>\\n<script src=\"https://oss.maxcdn.com/html5shiv/3.7.2/html5shiv.min.js\"></script>\\n<script src=\"https://static.rocketpunch.com/js/respond.min.js\"></script>\\n<link href=\"https://static.rocketpunch.com/js/respond-proxy.html\" id=\"respond-proxy\" rel=\"respond-proxy\" />\\n<link href=\"/static/img/respond.proxy.gif\" id=\"respond-redirect\" rel=\"respond-redirect\" />\\n<script src=\"/static/js/respond.proxy.js\"></script>\\n<![endif]-->\\n<!--[if gt IE 9]>\\nold_browser = false;\\n<![endif]-->\\n<script type=\"text/javascript\" src=\"https://static.rocketpunch.com/bundle/vendor.cbc5eb6ec9498935e08e.js\"></script>\\n<script src=\"https://developers.kakao.com/sdk/js/kakao.min.js\"></script>\\n<script src=\"https://cdnjs.cloudflare.com/ajax/libs/slick-carousel/1.9.0/slick.min.js\"></script>\\n<script src=\"https://cdnjs.cloudflare.com/ajax/libs/lazysizes/4.1.8/lazysizes.min.js\"></script><script>\\nvar signupUrl = \\'/signup\\';\\nvar notificationReadUrl = \\'/api/users/notifications/mark_read\\';\\nvar csrftoken = \\'yI3HNwxbhITG39yu92qvkXbVk0EUc7tflTaZF1IWzCQhX2zZJxgYqIy47xKbEzJ0\\';\\nvar is_mobile = false;var is_mobile_log = \\'is_mobile\\';if(!is_mobile) is_mobile_log = \\'not_mobile\\';\\nif (typeof Kakao !== \\'undefined\\') Kakao.init(\\'79663be4ff6e7ab77ad6558da7511642\\');\\n$rocket = {}, loader = \\'<div id=\"$rocketLoader\" class=\"ui active inverted dimmer\"><div class=\"ui text loader\">Loading</div></div>\\';\\nvar is_authenticated = false;\\n$rocket.is_authenticated = is_authenticated, $rocket.vote_url = \\'/api/votes\\', $rocket.vote_modal_url = \\'/api/votes/modal\\', $rocket.comment_modal_url = \\'/api/comments/modal\\', $rocket.share_url = \\'/api/share_box\\', $rocket.search_url = \\'/search\\', $rocket.relationship_url = \\'/api/relationship_message\\';\\nvar new_thread_api_url = \\'/api/messages\\';\\nSentry.init({dsn:\\'https://e3a4be77b80e4c6c8529a897404ddbc6@sentry.io/1479653\\'});$.fn.search.settings.error.noResults = \"검색 결과가 없습니다.\";\\n$.fn.search.settings.error.serverError = \"검색 결과 출력에 문제가 있습니다. 관리자에게 문의해 주세요.\";\\n</script>\\n<script type=\"text/javascript\" src=\"https://static.rocketpunch.com/bundle/base.bbde6807dcf4efdfd316.js\"></script><script>\\n$rocket.search_translations = {\\n  \\'company\\': \"기업\",\\n  \\'job\\': \"채용\",\\n  \\'school\\': \"학교\",\\n  \\'user\\': \"사람\",\\n  \\'specialty\\': \"태그\",\\n  \\'_all\\': \"전체 검색 결과\"\\n};\\n$(function(){\\n  if (!(/Android|webOS|iPhone|iPad|iPod|BlackBerry/i.test(navigator.userAgent))) {\\n    if (typeof UserVoice != \\'undefined\\') {\\n      UserVoice.push([\\'set\\', {\\n        accent_color: \\'#448dd6\\',\\n        trigger_color: \\'white\\',\\n        trigger_background_color: \\'rgba(46, 49, 51, 0.6)\\'\\n      }]);\\n      UserVoice.push([\\'identify\\', {}]);\\n      UserVoice.push([\\'autoprompt\\', {}]);\\n    }\\n  }  if (cookies.get(\\'fb_like_modal\\')) {\\n  } else {\\n    $(window).on(\\'scroll.fblikemodal\\', $rocket.fbLikeCheckScroll);\\n  }\\n});</script>\\n<script>!function(d,s,id){var js,fjs=d.getElementsByTagName(s)[0],p=/^http:/.test(d.location)?\\'http\\':\\'https\\';if(!d.getElementById(id)){js=d.createElement(s);js.id=id;js.src=p+\\'://platform.twitter.com/widgets.js\\';fjs.parentNode.insertBefore(js,fjs);}}(document, \\'script\\', \\'twitter-wjs\\');</script><script type=\"text/javascript\" src=\"https://static.rocketpunch.com/bundle/job.77d6e00914d6487b688e.js\"></script>\\n\\n<script src=\"https://cdnjs.cloudflare.com/ajax/libs/cropper/0.9.3/cropper.min.js\"></script>\\n\\n<script>\\n$rocket.initList();\\n</script>\\n<script type=\"text/javascript\" src=\"https://static.rocketpunch.com/bundle/search.4c19fd0dfbc2ebc9774b.js\"></script>\\n<script>\\nvar searchOptions = {\\n  url: {\\n    list: \"/jobs\",\\n    template: \"/api/jobs/template\"\\n  },\\n  format_salary: function(low, high) {\\n    var value = String(low * 1000000) + \\'-\\', name = \\'\\';\\n    if( high < 200 ) value += String(high * 1000000);\\n    name += ( low > 0 ) ? ($rocket.intComma(100 * low) + \\'만\\') : String(100 * low);\\n    name += \\'-\\';\\n    name += $rocket.intComma(100 * high) + \\'만\\';\\n    return {\\n      name: name,\\n      value: value\\n    };\\n  },\\n  format_stock: function(low, high) {\\n    var value = String(low / 10.) + \\'-\\', name = \\'\\';\\n    if( high < 50 ) value += String(high / 10.);\\n    name += ( low > 0 ) ? (String(low / 10.) + \\'%\\') : String(low / 10.);\\n    name += \\'-\\';\\n    name += ( high < 50 ) ? (String(high / 10.) + \\'%\\') : (String(high / 10.) + \\'%+\\');\\n    return {\\n      name: name,\\n      value: value\\n    };\\n  },\\n  templates: {},\\n  messages: {\\n    confirm_delete_user_filter: \"정말로 삭제하시겠습니까?\"\\n  },\\n  isFixedUrl: false};\\nvar rocketSearch = new $rocket.Search(\\'.omnibox-filter\\', searchOptions);\\n\\nfunction afterSearchProcess() {\\n  setTimeout(function(){\\n    if ($(\\'#job-ads-list\\').length == 0) return;\\n    var adCount = $(\\'#job-ads-list .ui.job.column\\').length;\\n    if (adCount > 3) {\\n      $(\\'#job-ads-list\\').slick({\\n        lazyLoad: \\'progressive\\',\\n        slidesToShow: 3,\\n        slidesToScroll: 3,\\n        autoplay: true,\\n        autoplaySpeed: 10000,\\n        pauseOnFocus: true,\\n        pauseOnHover: true,\\n        arrows: true,\\n        dots: true,\\n        infinite: true,\\n        prevArrow: \\'<button type=\"button\" class=\"slick-prev\"><i class=\"ic-chevron-left\"></i></button>\\',\\n        nextArrow: \\'<button type=\"button\" class=\"slick-next\"><i class=\"ic-chevron-right\"></i></button>\\',\\n        responsive: [{\\n          breakpoint: 768,\\n          settings: {\\n            slidesToShow: 1,\\n            slidesToScroll: 1,\\n            dots: false\\n          }\\n        }]\\n      });\\n\\n      var job_ids = (\\n        $(\\'.slick-slide.slick-active\\')\\n        .map(function() { return $(this).find(\\'.ui.job.column\\').data(\\'job_id\\'); })\\n        .get()\\n        .join()\\n      );\\n      if (job_ids !== \\'\\') {\\n        job_ids = \\',\\' + job_ids + \\',\\'\\n        ga(\\'send\\', \\'event\\', \\'job\\', \\'ad-load\\', job_ids, 1, {nonInteraction: true});\\n      }\\n      $(\\'#job-ads-list\\').on(\\'afterChange\\', function(event, slick, currentSlide){\\n        var job_ids = (\\n          $(\\'.slick-slide.slick-active\\')\\n          .map(function() { return $(this).find(\\'.ui.job.column\\').data(\\'job_id\\'); })\\n          .get()\\n          .join()\\n        );\\n        if (job_ids !== \\'\\') {\\n          job_ids = \\',\\' + job_ids + \\',\\'\\n          ga(\\'send\\', \\'event\\', \\'job\\', \\'ad-load\\', job_ids, 1, {nonInteraction: true});\\n        }\\n      });\\n    } else {\\n      var job_ids = (\\n        $(\\'.ui.job.column\\')\\n        .map(function() { return $(this).data(\\'job_id\\'); })\\n        .get()\\n        .join()\\n      );\\n      if (job_ids !== \\'\\') {\\n        job_ids = \\',\\' + job_ids + \\',\\'\\n        ga(\\'send\\', \\'event\\', \\'job\\', \\'ad-load\\', job_ids, 1, {nonInteraction: true});\\n      }\\n    }\\n    $(\\'#job-ads-list\\').on(\\'click\\', \\'a\\', function(e){\\n      var id = $(this).closest(\\'.ui.job.column\\').data(\\'job_id\\');\\n      if(!id) return false;\\n      ga(\\'send\\', \\'event\\', \\'job\\', \\'ad-click\\', id, 1, {nonInteraction: true});\\n    });\\n  }, 100);\\n\\n  var job_ids = (\\n    $(\\'.job-ad-item\\')\\n    .map(function() { return $(this).data(\\'job_id\\'); })\\n    .get()\\n    .join()\\n  );\\n  if (job_ids !== \\'\\') {\\n    job_ids = \\',\\' + job_ids + \\',\\'\\n    ga(\\'send\\', \\'event\\', \\'job\\', \\'ad-load\\', job_ids, 1, {nonInteraction: true});\\n  }\\n\\n  var company_ids = (\\n    $(\\'#company-list > div.company.item\\')\\n    .map(function() { return $(this).data(\\'company_id\\'); })\\n    .get()\\n    .join()\\n  );\\n  if (company_ids !== \\'\\') {\\n    company_ids = \\',\\' + company_ids + \\',\\'\\n    ga(\\'send\\', \\'event\\', \\'job\\', \\'job-load-company\\', company_ids, 1, {nonInteraction: true});\\n  }\\n}\\n\\n$().ready(function(){\\n  $(\\'#mobile-navigation\\').dropdown({delay : {touch: 300}});\\n  $(\\'#mobile-navigation\\').off(\\'touchstart touchstart.dropdown\\');\\n  if ($(\\'#manage-job\\').length) {\\n    $(\\'#manage-job\\').dropdown({delay : {touch: 300}});\\n    $(\\'#manage-job\\').off(\\'touchstart touchstart.dropdown\\');\\n  }\\n\\n  $(\\'*[data-modal=\"request-company-admin\"]\\').on(\\'click\\', function(){\\n    $(\\'#request-company-admin-modal\\').modal(\\'show\\');\\n    return false;\\n  });\\n\\n$rocket.setBanner(\\'job list\\');\\n$rocket.setSearchBottomBanner(\\'job list\\');\\n$rocket.setTextBanner(\\'job list\\');\\n\\n  $(document).on(\\'click\\', \\'.job-ad-group a\\', function(e){\\n    ga(\\'send\\', \\'event\\', \\'job\\', \\'ad-click\\', $(e.currentTarget).data(\\'job_id\\'), 1, {nonInteraction: true});\\n  });\\n});\\n</script>\\n<div id=\"job_signup_popup\" class=\"ui small modal\">\\n  <div style=\"position:relative;\"><i class=\"ic-close icon\"></i></div>\\n  <div class=\"content\">\\n    <div class=\"default-content\" style=\"text-align:center;\">\\n      <div class=\"logo image\" style=\"margin:40px 0;\">\\n        <img src=\"https://static.rocketpunch.com/images/rocketpunch_logo.svg\" alt=\"RocketPunch\" class=\"rocketpunch-logo\" style=\"width:56px;height:56px;\">\\n      </div>\\n      <div style=\"font-size:18px;margin-bottom:32px;\">\\n        로켓펀치에 가입하고 <span style=\"font-weight:700;\">2,542개가 넘는 채용 정보</span>를 만나보세요!\\n      </div>\\n      <a href=\"/login/facebook/?next=/jobs%3Fspecialty=Python&amp;tag=%EB%8D%B0%EC%9D%B4%ED%84%B0\" class=\"fluid ui facebook popup-signup button\" style=\"margin-bottom:20px;\" data-signup_type=\"facebook\">\\n        <i class=\"facebook icon\"></i>\\nFacebook으로 가입\\n      </a>\\n      <a id=\"signup_popup_option\" class=\"ui primary link\">그 외 로그인 옵션</a>\\n    </div>\\n    <div class=\"option-content\" style=\"display:none;padding-bottom:20px;\">\\n      <div class=\"logo image\" style=\"margin-bottom:5px;text-align:center;\">\\n        <img src=\"https://static.rocketpunch.com/images/rocketpunch_logo.svg\" alt=\"RocketPunch\" class=\"rocketpunch-logo\" style=\"width:56px;height:56px;\">\\n      </div>\\n      <form id=\"form-login-inline\" name=\"login-inline\" method=\"post\" action=\"/api/users/login\" class=\"ui form\">\\n<input type=\\'hidden\\' name=\\'csrfmiddlewaretoken\\' value=\\'yI3HNwxbhITG39yu92qvkXbVk0EUc7tflTaZF1IWzCQhX2zZJxgYqIy47xKbEzJ0\\' />        <input type=\"hidden\" name=\"_method\" value=\"post\">\\n        <div class=\"field\">\\n          <label for=\"id-email\">E-mail</label>\\n          <input type=\"email\" id=\"id-email\" name=\"email\" required data-required=\"E-mail을 입력해주세요\" data-validate=\"E-mail 형식을 확인해주세요.\" placeholder=\"이메일 ex) rocket@email.com\">\\n        </div>\\n        <div class=\"field\">\\n          <label for=\"id-password\">비밀번호</label>\\n          <input type=\"password\" id=\"id-password\" name=\"password\" required data-required=\"비밀번호를 입력해주세요\" placeholder=\"비밀번호\">\\n          <p class=\"support\">\\n            <a data-modal=\"reset\" class=\"primary link\">비밀번호 찾기</a>\\n          </p>\\n        </div>\\n        <div style=\"text-align:center\">\\n          <button type=\"submit\" class=\"ui primary popup-signup button\" data-ing=\"로그인 중...\" data-retry=\"재시도\" data-done=\"로그인 성공\" data-signup_type=\"login\">로그인</button>\\n        </div>\\n      </form>\\n      <div class=\"ui basic center aligned login segment\">\\n        <p>SNS 계정으로 로그인</p>\\n      </div>\\n      <div class=\"ui stackable social-connect grid\">\\n        <div class=\"six wide column\">\\n          <a href=\"/login/facebook/?next=/jobs%3Fspecialty=Python&amp;tag=%EB%8D%B0%EC%9D%B4%ED%84%B0\" class=\"fluid ui facebook popup-signup button\" data-signup_type=\"facebook\"><i class=\"facebook icon\"></i><div>Facebook</div>\\n          </a>\\n        </div>\\n        <div class=\"six wide column\">\\n          <a href=\"/login/google-oauth2/?next=/jobs%3Fspecialty=Python&amp;tag=%EB%8D%B0%EC%9D%B4%ED%84%B0\" class=\"fluid ui google popup-signup button\" data-signup_type=\"google-oauth2\"><i class=\"ic-ico-google icon\">\\n                <span class=\"path1\"></span><span class=\"path2\"></span><span class=\"path3\"></span><span class=\"path4\"></span>\\n              </i><div>Google</div>\\n          </a>\\n        </div>\\n        <div class=\"six wide column\">\\n          <a href=\"/login/linkedin-oauth2/?next=/jobs%3Fspecialty=Python&amp;tag=%EB%8D%B0%EC%9D%B4%ED%84%B0\" class=\"fluid ui linkedin popup-signup button\" data-signup_type=\"linkedin-oauth2\"><i class=\"linkedin icon\"></i><div>LinkedIn</div>\\n          </a>\\n        </div>\\n        <div class=\"six wide column\">\\n          <a href=\"/login/github/?next=/jobs%3Fspecialty=Python&amp;tag=%EB%8D%B0%EC%9D%B4%ED%84%B0\" class=\"fluid ui github popup-signup button\" data-signup_type=\"github\"><i class=\"github icon\"></i><div>GitHub</div>\\n          </a>\\n        </div>\\n      </div>\\n    </div>\\n  </div>\\n</div>\\n<script type=\"text/javascript\">\\n$(function(){\\n  $rocket.scrollSignupPopup(\\'job\\', 1);\\n});\\n</script>\\n<div id=\"old_contents\" style=\"display:none;\">\\n  <div class=\"ui error message\" role=\"alert\">\\n    <div class=\"ui container grid\">\\n      <div class=\"left floated left aligned six wide column\">안전하고 원활한 서비스 이용을 위해 브라우저를 업데이트 해주세요.</div>\\n      <div class=\"right floated right aligned six wide column\">\\n        <a href=\"https://support.google.com/chrome/answer/95346?hl=ko\" target=\"_blank\" class=\"negative ui button\">구글 크롬 안내</a>\\n        <a href=\"http://windows.microsoft.com/ko-kr/internet-explorer/download-ie\" target=\"_blank\" class=\"negative ui button\">최신 IE 안내</a>\\n      </div>\\n    </div>\\n  </div>\\n</div>\\n</body>\\n</html>'"
      ]
     },
     "execution_count": 34,
     "metadata": {},
     "output_type": "execute_result"
    }
   ],
   "source": [
    "response.text"
   ]
  },
  {
   "cell_type": "code",
   "execution_count": 541,
   "metadata": {},
   "outputs": [],
   "source": [
    "# json으로 파싱후, data안 template 안에 들어있는 애들을 BrautifulSoup으로 html로 파싱\n",
    "data = response.json()['data']['template']\n",
    "dom = BeautifulSoup(data, \"html.parser\")"
   ]
  },
  {
   "cell_type": "code",
   "execution_count": 542,
   "metadata": {},
   "outputs": [],
   "source": [
    "root = dom.select('#company-list > div.company.item > div.content')"
   ]
  },
  {
   "cell_type": "code",
   "execution_count": 543,
   "metadata": {
    "scrolled": true
   },
   "outputs": [
    {
     "data": {
      "text/plain": [
       "'매스프레소'"
      ]
     },
     "execution_count": 543,
     "metadata": {},
     "output_type": "execute_result"
    }
   ],
   "source": [
    "# 회사명\n",
    "dom.select('#company-list > div.company.item > div.content > div.company-name > a > h4 > strong')[0].text"
   ]
  },
  {
   "cell_type": "code",
   "execution_count": 544,
   "metadata": {},
   "outputs": [
    {
     "data": {
      "text/plain": [
       "'매스프레소'"
      ]
     },
     "execution_count": 544,
     "metadata": {},
     "output_type": "execute_result"
    }
   ],
   "source": [
    "root[0].select('div.company-name > a > h4 > strong')[0].text"
   ]
  },
  {
   "cell_type": "code",
   "execution_count": 521,
   "metadata": {
    "scrolled": true
   },
   "outputs": [
    {
     "data": {
      "text/plain": [
       "'We Rebuild Education'"
      ]
     },
     "execution_count": 521,
     "metadata": {},
     "output_type": "execute_result"
    }
   ],
   "source": [
    "# 회사 설명\n",
    "dom.select('#company-list > div.company.item > div.content > div.description')[0].text.strip('\\xa0')"
   ]
  },
  {
   "cell_type": "code",
   "execution_count": 545,
   "metadata": {},
   "outputs": [
    {
     "data": {
      "text/plain": [
       "'We Rebuild Education'"
      ]
     },
     "execution_count": 545,
     "metadata": {},
     "output_type": "execute_result"
    }
   ],
   "source": [
    "root[0].select('div.description')[0].text.strip('\\xa0')"
   ]
  },
  {
   "cell_type": "code",
   "execution_count": 523,
   "metadata": {},
   "outputs": [
    {
     "data": {
      "text/plain": [
       "'모바일서비스 ∙ 소프트웨어 ∙ 데이터 ∙ 교육 ∙ 모바일앱 ∙ AI ∙ 앱개발 ∙ 머신러닝 ∙ IT/인공지능 ∙ 딥러닝 ∙ 에듀테크 ∙ 수학 ∙ OCR'"
      ]
     },
     "execution_count": 523,
     "metadata": {},
     "output_type": "execute_result"
    }
   ],
   "source": [
    "# 분야\n",
    "dom.select('#company-list > div.company.item > div.content > div.nowrap.meta')[0].text.strip()"
   ]
  },
  {
   "cell_type": "code",
   "execution_count": 546,
   "metadata": {},
   "outputs": [
    {
     "data": {
      "text/plain": [
       "'모바일서비스 ∙ 소프트웨어 ∙ 데이터 ∙ 교육 ∙ 모바일앱 ∙ AI ∙ 앱개발 ∙ 머신러닝 ∙ IT/인공지능 ∙ 딥러닝 ∙ 에듀테크 ∙ 수학 ∙ OCR'"
      ]
     },
     "execution_count": 546,
     "metadata": {},
     "output_type": "execute_result"
    }
   ],
   "source": [
    "root[0].select('div.nowrap.meta')[0].text.strip()"
   ]
  },
  {
   "cell_type": "code",
   "execution_count": 566,
   "metadata": {},
   "outputs": [
    {
     "data": {
      "text/plain": [
       "20"
      ]
     },
     "execution_count": 566,
     "metadata": {},
     "output_type": "execute_result"
    }
   ],
   "source": [
    "len(root)"
   ]
  },
  {
   "cell_type": "code",
   "execution_count": 525,
   "metadata": {},
   "outputs": [],
   "source": [
    "# 중복 있음"
   ]
  },
  {
   "cell_type": "code",
   "execution_count": 556,
   "metadata": {},
   "outputs": [],
   "source": [
    "positions = dom.select('#company-list > div.company.item > div.content > div.company-jobs-detail')"
   ]
  },
  {
   "cell_type": "code",
   "execution_count": 558,
   "metadata": {},
   "outputs": [],
   "source": [
    "len_of_positions = len(positions[0].select('div:nth-child(1) > a.nowrap'))"
   ]
  },
  {
   "cell_type": "code",
   "execution_count": 559,
   "metadata": {},
   "outputs": [
    {
     "data": {
      "text/plain": [
       "1"
      ]
     },
     "execution_count": 559,
     "metadata": {},
     "output_type": "execute_result"
    }
   ],
   "source": [
    "len_of_positions"
   ]
  },
  {
   "cell_type": "code",
   "execution_count": 587,
   "metadata": {},
   "outputs": [
    {
     "data": {
      "text/plain": [
       "'해외직구 애프터바이 [Python,React 개발자] 모십니다!'"
      ]
     },
     "execution_count": 587,
     "metadata": {},
     "output_type": "execute_result"
    }
   ],
   "source": [
    "# position\n",
    "positions[3].select('div:nth-child(1) > a.nowrap')[0].text"
   ]
  },
  {
   "cell_type": "code",
   "execution_count": 561,
   "metadata": {
    "scrolled": true
   },
   "outputs": [
    {
     "data": {
      "text/plain": [
       "'https://www.rocketpunch.com/jobs/70589/Math-Engine-Developer'"
      ]
     },
     "execution_count": 561,
     "metadata": {},
     "output_type": "execute_result"
    }
   ],
   "source": [
    "# 링크\n",
    "\"https://www.rocketpunch.com\" + positions[0].select('div:nth-child(1) > a.nowrap')[0].get('href')"
   ]
  },
  {
   "cell_type": "code",
   "execution_count": 562,
   "metadata": {},
   "outputs": [
    {
     "data": {
      "text/plain": [
       "'3,500 - 6,000만원 / 인턴, 신입, 경력'"
      ]
     },
     "execution_count": 562,
     "metadata": {},
     "output_type": "execute_result"
    }
   ],
   "source": [
    "# 연봉 / 스톡옵션 / 경력 여부\n",
    "positions[0].select('div.job-detail > div:nth-child(1) > span')[0].text"
   ]
  },
  {
   "cell_type": "code",
   "execution_count": 563,
   "metadata": {
    "scrolled": true
   },
   "outputs": [
    {
     "data": {
      "text/plain": [
       "'03/31 마감'"
      ]
     },
     "execution_count": 563,
     "metadata": {},
     "output_type": "execute_result"
    }
   ],
   "source": [
    "# 채용 기간\n",
    "positions[0].select('div.job-detail > div.job-dates > span:nth-child(1)')[0].text.strip(' \\n')"
   ]
  },
  {
   "cell_type": "code",
   "execution_count": 581,
   "metadata": {},
   "outputs": [
    {
     "data": {
      "text/plain": [
       "[0]"
      ]
     },
     "execution_count": 581,
     "metadata": {},
     "output_type": "execute_result"
    }
   ],
   "source": [
    "list(range(len_of_positions))"
   ]
  },
  {
   "cell_type": "code",
   "execution_count": 594,
   "metadata": {},
   "outputs": [
    {
     "data": {
      "text/plain": [
       "'Backend Engineer 주니어'"
      ]
     },
     "execution_count": 594,
     "metadata": {},
     "output_type": "execute_result"
    }
   ],
   "source": [
    "positions[18].select('div:nth-child(1) > a.nowrap')[0].text"
   ]
  },
  {
   "cell_type": "code",
   "execution_count": 613,
   "metadata": {},
   "outputs": [
    {
     "data": {
      "text/plain": [
       "'디에스랩글로벌'"
      ]
     },
     "execution_count": 613,
     "metadata": {},
     "output_type": "execute_result"
    }
   ],
   "source": [
    "root[4].select('div.company-name > a > h4 > strong')[0].text"
   ]
  },
  {
   "cell_type": "code",
   "execution_count": 614,
   "metadata": {},
   "outputs": [
    {
     "data": {
      "text/plain": [
       "'데이터 분석가'"
      ]
     },
     "execution_count": 614,
     "metadata": {},
     "output_type": "execute_result"
    }
   ],
   "source": [
    "positions[4].select('div:nth-child(1) > a.nowrap')[0].text"
   ]
  },
  {
   "cell_type": "code",
   "execution_count": 631,
   "metadata": {},
   "outputs": [],
   "source": [
    "len_of_positions = len(positions[1].select('div:nth-child(1) > a.nowrap'))"
   ]
  },
  {
   "cell_type": "code",
   "execution_count": 632,
   "metadata": {},
   "outputs": [
    {
     "data": {
      "text/plain": [
       "[0, 1, 2]"
      ]
     },
     "execution_count": 632,
     "metadata": {},
     "output_type": "execute_result"
    }
   ],
   "source": [
    "list(range(len_of_positions))"
   ]
  },
  {
   "cell_type": "code",
   "execution_count": 636,
   "metadata": {},
   "outputs": [
    {
     "data": {
      "text/plain": [
       "('트릿지',)"
      ]
     },
     "execution_count": 636,
     "metadata": {},
     "output_type": "execute_result"
    }
   ],
   "source": [
    "root[1].select('div.company-name > a > h4 > strong')[0].text,"
   ]
  },
  {
   "cell_type": "code",
   "execution_count": 8,
   "metadata": {},
   "outputs": [],
   "source": [
    "url = \"https://www.rocketpunch.com/api/jobs/template?&page=1&q=&specialty=Python&tag=%EB%8D%B0%EC%9D%B4%ED%84%B0\"\n",
    "response = requests.get(url)\n",
    "data = response.json()['data']['template']\n",
    "dom = BeautifulSoup(data, \"html.parser\")\n",
    "total_pages = dom.select(\"div.ui.pagination.menu > div.tablet.computer.large.screen.widescreen.only > a\")[-1].text"
   ]
  },
  {
   "cell_type": "code",
   "execution_count": 9,
   "metadata": {},
   "outputs": [
    {
     "data": {
      "text/plain": [
       "'3'"
      ]
     },
     "execution_count": 9,
     "metadata": {},
     "output_type": "execute_result"
    }
   ],
   "source": [
    "total_pages"
   ]
  },
  {
   "cell_type": "code",
   "execution_count": null,
   "metadata": {},
   "outputs": [],
   "source": []
  },
  {
   "cell_type": "code",
   "execution_count": 827,
   "metadata": {},
   "outputs": [],
   "source": [
    "# 크롤링 완성"
   ]
  },
  {
   "cell_type": "code",
   "execution_count": 2,
   "metadata": {},
   "outputs": [],
   "source": [
    "import time\n",
    "from datetime import date, timedelta"
   ]
  },
  {
   "cell_type": "code",
   "execution_count": 3,
   "metadata": {
    "scrolled": true
   },
   "outputs": [
    {
     "name": "stdout",
     "output_type": "stream",
     "text": [
      "1\n",
      "2\n",
      "3\n",
      "4\n",
      "5\n",
      "6\n",
      "7\n",
      "8\n",
      "9\n",
      "10\n",
      "11\n",
      "12\n",
      "13\n",
      "14\n",
      "15\n",
      "16\n",
      "17\n",
      "18\n",
      "19\n",
      "20\n",
      "21\n",
      "22\n",
      "23\n",
      "24\n",
      "1\n",
      "2\n",
      "3\n",
      "4\n",
      "5\n",
      "6\n",
      "7\n",
      "8\n",
      "9\n",
      "10\n",
      "11\n",
      "12\n",
      "13\n",
      "14\n",
      "15\n",
      "16\n",
      "17\n",
      "18\n",
      "19\n",
      "20\n",
      "21\n",
      "22\n",
      "23\n",
      "24\n",
      "25\n",
      "26\n",
      "27\n",
      "28\n",
      "29\n",
      "30\n",
      "1\n",
      "2\n",
      "3\n",
      "4\n",
      "5\n",
      "6\n",
      "7\n",
      "8\n",
      "9\n",
      "10\n",
      "11\n",
      "12\n",
      "13\n",
      "14\n",
      "15\n",
      "16\n",
      "17\n",
      "18\n",
      "19\n",
      "20\n",
      "21\n",
      "22\n",
      "23\n",
      "24\n",
      "25\n",
      "26\n",
      "1\n",
      "2\n",
      "3\n",
      "4\n",
      "5\n",
      "6\n",
      "7\n",
      "8\n",
      "9\n",
      "10\n",
      "11\n",
      "12\n",
      "13\n",
      "14\n",
      "15\n",
      "16\n",
      "17\n",
      "18\n",
      "19\n",
      "20\n",
      "21\n",
      "22\n",
      "23\n",
      "24\n",
      "25\n",
      "26\n",
      "27\n",
      "28\n",
      "29\n",
      "30\n",
      "31\n",
      "32\n",
      "1\n",
      "2\n",
      "3\n",
      "4\n",
      "5\n",
      "6\n",
      "7\n",
      "8\n",
      "9\n",
      "10\n",
      "11\n",
      "12\n",
      "13\n",
      "14\n",
      "15\n",
      "16\n",
      "17\n",
      "18\n",
      "19\n",
      "20\n",
      "21\n",
      "22\n",
      "23\n",
      "24\n",
      "25\n",
      "26\n",
      "27\n",
      "28\n",
      "29\n",
      "30\n",
      "31\n",
      "32\n",
      "33\n",
      "1\n",
      "2\n",
      "3\n",
      "4\n",
      "5\n",
      "6\n",
      "7\n",
      "8\n",
      "9\n",
      "10\n",
      "11\n",
      "12\n",
      "13\n",
      "14\n",
      "15\n",
      "16\n",
      "17\n",
      "18\n",
      "19\n",
      "20\n",
      "21\n",
      "22\n",
      "23\n",
      "1\n",
      "2\n",
      "3\n",
      "4\n",
      "5\n",
      "6\n",
      "7\n",
      "8\n",
      "9\n",
      "10\n",
      "11\n",
      "12\n",
      "13\n",
      "14\n",
      "15\n",
      "16\n",
      "17\n",
      "18\n",
      "19\n",
      "20\n",
      "21\n",
      "22\n",
      "23\n",
      "24\n",
      "25\n",
      "1\n",
      "2\n",
      "3\n",
      "4\n",
      "5\n",
      "6\n",
      "7\n",
      "8\n",
      "9\n",
      "10\n",
      "11\n",
      "12\n",
      "13\n",
      "14\n",
      "15\n",
      "16\n",
      "17\n",
      "18\n",
      "19\n",
      "20\n",
      "21\n",
      "22\n",
      "23\n",
      "24\n",
      "25\n",
      "26\n",
      "1\n",
      "2\n",
      "3\n",
      "4\n",
      "5\n",
      "6\n",
      "7\n",
      "8\n",
      "9\n",
      "10\n",
      "11\n",
      "12\n",
      "13\n",
      "14\n",
      "15\n",
      "16\n",
      "17\n",
      "18\n",
      "19\n",
      "20\n",
      "21\n",
      "22\n",
      "1\n",
      "2\n",
      "3\n",
      "4\n",
      "5\n",
      "6\n",
      "7\n",
      "8\n",
      "9\n",
      "10\n",
      "11\n",
      "12\n",
      "13\n",
      "14\n",
      "15\n",
      "16\n",
      "17\n",
      "18\n",
      "19\n",
      "20\n",
      "21\n",
      "22\n",
      "1\n",
      "2\n",
      "3\n",
      "4\n",
      "5\n",
      "6\n",
      "7\n",
      "8\n",
      "9\n",
      "10\n",
      "11\n",
      "12\n",
      "13\n",
      "14\n",
      "15\n",
      "16\n",
      "17\n",
      "18\n",
      "19\n",
      "20\n",
      "21\n",
      "22\n",
      "23\n",
      "24\n",
      "25\n",
      "1\n",
      "2\n",
      "3\n",
      "4\n",
      "5\n",
      "6\n",
      "7\n",
      "8\n",
      "9\n",
      "10\n",
      "11\n",
      "12\n",
      "13\n",
      "14\n",
      "15\n",
      "16\n",
      "17\n",
      "18\n",
      "19\n",
      "20\n",
      "21\n",
      "22\n",
      "1\n",
      "2\n",
      "3\n",
      "4\n",
      "5\n",
      "6\n",
      "7\n",
      "8\n",
      "9\n"
     ]
    },
    {
     "data": {
      "text/html": [
       "<div>\n",
       "<style scoped>\n",
       "    .dataframe tbody tr th:only-of-type {\n",
       "        vertical-align: middle;\n",
       "    }\n",
       "\n",
       "    .dataframe tbody tr th {\n",
       "        vertical-align: top;\n",
       "    }\n",
       "\n",
       "    .dataframe thead th {\n",
       "        text-align: right;\n",
       "    }\n",
       "</style>\n",
       "<table border=\"1\" class=\"dataframe\">\n",
       "  <thead>\n",
       "    <tr style=\"text-align: right;\">\n",
       "      <th></th>\n",
       "      <th>date</th>\n",
       "      <th>company</th>\n",
       "      <th>position</th>\n",
       "      <th>salary</th>\n",
       "      <th>deadline</th>\n",
       "      <th>description</th>\n",
       "      <th>service</th>\n",
       "      <th>link</th>\n",
       "      <th>skills</th>\n",
       "    </tr>\n",
       "  </thead>\n",
       "  <tbody>\n",
       "    <tr>\n",
       "      <td>0</td>\n",
       "      <td>2020-03-11</td>\n",
       "      <td>오르비스AI</td>\n",
       "      <td>(경력) Data Scientist</td>\n",
       "      <td>5,000 - 6,000만원 / 최소 0.1% / 경력</td>\n",
       "      <td>04/30 마감</td>\n",
       "      <td>영어권 컨텐츠 및 광고 크리에이터를 위한 AI 성우를 개발합니다.</td>\n",
       "      <td>IT ∙ 교육 ∙ 인공지능 ∙ 머신러닝 ∙ 딥러닝 ∙ MachineLearning ...</td>\n",
       "      <td>https://www.rocketpunch.com/jobs/47245/%EA%B2%...</td>\n",
       "      <td>[]</td>\n",
       "    </tr>\n",
       "    <tr>\n",
       "      <td>1</td>\n",
       "      <td>2020-03-11</td>\n",
       "      <td>무른모</td>\n",
       "      <td>C# 개발자(경력/신입)</td>\n",
       "      <td>신입, 경력</td>\n",
       "      <td>수시채용</td>\n",
       "      <td>4차산업 혁명을 이끌 ICT, IOT 기반 자동차 부품제조업 MES 솔루션 개발업체</td>\n",
       "      <td>ICT ∙ 클라우드서비스 ∙ IoT플랫폼 ∙ MES ∙ 스마트공장운영시스템 ∙ LO...</td>\n",
       "      <td>https://www.rocketpunch.com/jobs/70735/C-%EA%B...</td>\n",
       "      <td>[MySQL, plc, PHP, aws, GitLab, Python]</td>\n",
       "    </tr>\n",
       "    <tr>\n",
       "      <td>2</td>\n",
       "      <td>2020-03-11</td>\n",
       "      <td>네이콘</td>\n",
       "      <td>PHP/MY-SQL 웹프로그래머 개발자</td>\n",
       "      <td>인턴, 신입, 경력</td>\n",
       "      <td>04/10 마감</td>\n",
       "      <td>글로벌 퍼포먼스 및 인플루언서 마케팅 플랫폼 회사</td>\n",
       "      <td>모바일광고 ∙ 퍼포먼스마케팅 ∙ 인플루언서마케팅 ∙ 동영상광고플랫폼 ∙ 애드네트웍크</td>\n",
       "      <td>https://www.rocketpunch.com/jobs/70733/PHPMY-S...</td>\n",
       "      <td>[Android, Java, JavaScript, PHP, Python, Amazo...</td>\n",
       "    </tr>\n",
       "    <tr>\n",
       "      <td>3</td>\n",
       "      <td>2020-03-11</td>\n",
       "      <td>에이아이메이커</td>\n",
       "      <td>[java, python] 영상 Tool 개발</td>\n",
       "      <td>신입, 경력</td>\n",
       "      <td>수시채용</td>\n",
       "      <td>데이터 라벨링 기업</td>\n",
       "      <td>개발 ∙ IT/영상 ∙ 정보통신업/ ∙ 정보통신업/소프트웨어개발및공급업</td>\n",
       "      <td>https://www.rocketpunch.com/jobs/70163/java-py...</td>\n",
       "      <td>[Python, Java, Amazon AWS, JavaScript, GitHub]</td>\n",
       "    </tr>\n",
       "    <tr>\n",
       "      <td>4</td>\n",
       "      <td>2020-03-11</td>\n",
       "      <td>트릿지</td>\n",
       "      <td>Front-End Software Engineer at Tridge</td>\n",
       "      <td>4,000 - 10,000만원 / 인턴, 신입, 경력</td>\n",
       "      <td>수시채용</td>\n",
       "      <td>Disrupting the $1.5 Trillion global trading in...</td>\n",
       "      <td>모바일서비스 ∙ 웹서비스 ∙ 마케팅 ∙ 스타트업 ∙ e-commerce ∙ 공유경제...</td>\n",
       "      <td>https://www.rocketpunch.com/jobs/70411/Front-E...</td>\n",
       "      <td>[AngularJS, jQuery, PostgreSQL, nginx, Python,...</td>\n",
       "    </tr>\n",
       "    <tr>\n",
       "      <td>...</td>\n",
       "      <td>...</td>\n",
       "      <td>...</td>\n",
       "      <td>...</td>\n",
       "      <td>...</td>\n",
       "      <td>...</td>\n",
       "      <td>...</td>\n",
       "      <td>...</td>\n",
       "      <td>...</td>\n",
       "      <td>...</td>\n",
       "    </tr>\n",
       "    <tr>\n",
       "      <td>314</td>\n",
       "      <td>2020-03-11</td>\n",
       "      <td>키인사이드</td>\n",
       "      <td>[상시채용] 키인사이드와 함께 할 블록체인 Web Service 개발자 모집</td>\n",
       "      <td>3,000 - 10,000만원 / 경력</td>\n",
       "      <td>수시채용</td>\n",
       "      <td>Leading the way inside to enterprise blockchain</td>\n",
       "      <td>블록체인 ∙ blockchain ∙ 블록체인플랫폼</td>\n",
       "      <td>https://www.rocketpunch.com/jobs/66224/%EC%83%...</td>\n",
       "      <td>[Android, iOS, Node.js, Java, golang, C#, Pyth...</td>\n",
       "    </tr>\n",
       "    <tr>\n",
       "      <td>315</td>\n",
       "      <td>2020-03-11</td>\n",
       "      <td>플랜아이</td>\n",
       "      <td>너드팩토리 AI 추천시스템 엔지니어 영입</td>\n",
       "      <td>경력</td>\n",
       "      <td>수시채용</td>\n",
       "      <td></td>\n",
       "      <td>IT ∙ 솔루션,인공지능,데이터마이닝 ∙ B2G</td>\n",
       "      <td>https://www.rocketpunch.com/jobs/65167/%EB%84%...</td>\n",
       "      <td>[Python, Flask, TensorFlow, PyTorch, 머신러닝, 인공지...</td>\n",
       "    </tr>\n",
       "    <tr>\n",
       "      <td>316</td>\n",
       "      <td>2020-03-11</td>\n",
       "      <td>힐링사운드</td>\n",
       "      <td>연구원</td>\n",
       "      <td>1.0% - 5.0% / 인턴, 신입, 경력</td>\n",
       "      <td>수시채용</td>\n",
       "      <td>의료용 의사소통 증진 시스템</td>\n",
       "      <td>의료 ∙ 치과</td>\n",
       "      <td>https://www.rocketpunch.com/jobs/65932/%EC%97%...</td>\n",
       "      <td>[더 보기]</td>\n",
       "    </tr>\n",
       "    <tr>\n",
       "      <td>317</td>\n",
       "      <td>2020-03-11</td>\n",
       "      <td>링크샵스</td>\n",
       "      <td>[링크샵스] 플랫폼 개발</td>\n",
       "      <td>신입, 경력</td>\n",
       "      <td>수시채용</td>\n",
       "      <td>Global Fashion B2B Online Marketplace</td>\n",
       "      <td>모바일서비스 ∙ 웹서비스 ∙ 소프트웨어 ∙ 이커머스 ∙ B2B ∙ 이커머스/패션뷰티...</td>\n",
       "      <td>https://www.rocketpunch.com/jobs/65771/%EB%A7%...</td>\n",
       "      <td>[플랫폼, 웹 어플리케이션 설계/개발 (Java/JSP), 데이터분석, 알고리즘, ...</td>\n",
       "    </tr>\n",
       "    <tr>\n",
       "      <td>318</td>\n",
       "      <td>2020-03-11</td>\n",
       "      <td>클로버추얼패션</td>\n",
       "      <td>Software Engineer (MacOS)</td>\n",
       "      <td>경력</td>\n",
       "      <td>수시채용</td>\n",
       "      <td>패션 Tech를 선도하는 프로그램 CLO 를 만들고 있는 (주)클로버추얼패션 입니다</td>\n",
       "      <td>웹서비스 ∙ 마케팅 ∙ 소프트웨어 ∙ IT ∙ 디자인 ∙ 소프트웨어개발 ∙ 소프트웨...</td>\n",
       "      <td>https://www.rocketpunch.com/jobs/65502/Softwar...</td>\n",
       "      <td>[C, C++, Mac OS X, Qt, 3D CAD, Python, Xcode, ...</td>\n",
       "    </tr>\n",
       "  </tbody>\n",
       "</table>\n",
       "<p>319 rows × 9 columns</p>\n",
       "</div>"
      ],
      "text/plain": [
       "           date  company                                    position  \\\n",
       "0    2020-03-11   오르비스AI                         (경력) Data Scientist   \n",
       "1    2020-03-11      무른모                               C# 개발자(경력/신입)   \n",
       "2    2020-03-11      네이콘                       PHP/MY-SQL 웹프로그래머 개발자   \n",
       "3    2020-03-11  에이아이메이커                   [java, python] 영상 Tool 개발   \n",
       "4    2020-03-11      트릿지       Front-End Software Engineer at Tridge   \n",
       "..          ...      ...                                         ...   \n",
       "314  2020-03-11    키인사이드  [상시채용] 키인사이드와 함께 할 블록체인 Web Service 개발자 모집   \n",
       "315  2020-03-11     플랜아이                      너드팩토리 AI 추천시스템 엔지니어 영입   \n",
       "316  2020-03-11    힐링사운드                                         연구원   \n",
       "317  2020-03-11     링크샵스                               [링크샵스] 플랫폼 개발   \n",
       "318  2020-03-11  클로버추얼패션                   Software Engineer (MacOS)   \n",
       "\n",
       "                             salary  deadline  \\\n",
       "0    5,000 - 6,000만원 / 최소 0.1% / 경력  04/30 마감   \n",
       "1                            신입, 경력      수시채용   \n",
       "2                        인턴, 신입, 경력  04/10 마감   \n",
       "3                            신입, 경력      수시채용   \n",
       "4     4,000 - 10,000만원 / 인턴, 신입, 경력      수시채용   \n",
       "..                              ...       ...   \n",
       "314           3,000 - 10,000만원 / 경력      수시채용   \n",
       "315                              경력      수시채용   \n",
       "316        1.0% - 5.0% / 인턴, 신입, 경력      수시채용   \n",
       "317                          신입, 경력      수시채용   \n",
       "318                              경력      수시채용   \n",
       "\n",
       "                                           description  \\\n",
       "0                 영어권 컨텐츠 및 광고 크리에이터를 위한 AI 성우를 개발합니다.   \n",
       "1       4차산업 혁명을 이끌 ICT, IOT 기반 자동차 부품제조업 MES 솔루션 개발업체   \n",
       "2                          글로벌 퍼포먼스 및 인플루언서 마케팅 플랫폼 회사   \n",
       "3                                           데이터 라벨링 기업   \n",
       "4    Disrupting the $1.5 Trillion global trading in...   \n",
       "..                                                 ...   \n",
       "314    Leading the way inside to enterprise blockchain   \n",
       "315                                                      \n",
       "316                                    의료용 의사소통 증진 시스템   \n",
       "317              Global Fashion B2B Online Marketplace   \n",
       "318     패션 Tech를 선도하는 프로그램 CLO 를 만들고 있는 (주)클로버추얼패션 입니다   \n",
       "\n",
       "                                               service  \\\n",
       "0    IT ∙ 교육 ∙ 인공지능 ∙ 머신러닝 ∙ 딥러닝 ∙ MachineLearning ...   \n",
       "1    ICT ∙ 클라우드서비스 ∙ IoT플랫폼 ∙ MES ∙ 스마트공장운영시스템 ∙ LO...   \n",
       "2       모바일광고 ∙ 퍼포먼스마케팅 ∙ 인플루언서마케팅 ∙ 동영상광고플랫폼 ∙ 애드네트웍크   \n",
       "3              개발 ∙ IT/영상 ∙ 정보통신업/ ∙ 정보통신업/소프트웨어개발및공급업   \n",
       "4    모바일서비스 ∙ 웹서비스 ∙ 마케팅 ∙ 스타트업 ∙ e-commerce ∙ 공유경제...   \n",
       "..                                                 ...   \n",
       "314                        블록체인 ∙ blockchain ∙ 블록체인플랫폼   \n",
       "315                         IT ∙ 솔루션,인공지능,데이터마이닝 ∙ B2G   \n",
       "316                                            의료 ∙ 치과   \n",
       "317  모바일서비스 ∙ 웹서비스 ∙ 소프트웨어 ∙ 이커머스 ∙ B2B ∙ 이커머스/패션뷰티...   \n",
       "318  웹서비스 ∙ 마케팅 ∙ 소프트웨어 ∙ IT ∙ 디자인 ∙ 소프트웨어개발 ∙ 소프트웨...   \n",
       "\n",
       "                                                  link  \\\n",
       "0    https://www.rocketpunch.com/jobs/47245/%EA%B2%...   \n",
       "1    https://www.rocketpunch.com/jobs/70735/C-%EA%B...   \n",
       "2    https://www.rocketpunch.com/jobs/70733/PHPMY-S...   \n",
       "3    https://www.rocketpunch.com/jobs/70163/java-py...   \n",
       "4    https://www.rocketpunch.com/jobs/70411/Front-E...   \n",
       "..                                                 ...   \n",
       "314  https://www.rocketpunch.com/jobs/66224/%EC%83%...   \n",
       "315  https://www.rocketpunch.com/jobs/65167/%EB%84%...   \n",
       "316  https://www.rocketpunch.com/jobs/65932/%EC%97%...   \n",
       "317  https://www.rocketpunch.com/jobs/65771/%EB%A7%...   \n",
       "318  https://www.rocketpunch.com/jobs/65502/Softwar...   \n",
       "\n",
       "                                                skills  \n",
       "0                                                   []  \n",
       "1               [MySQL, plc, PHP, aws, GitLab, Python]  \n",
       "2    [Android, Java, JavaScript, PHP, Python, Amazo...  \n",
       "3       [Python, Java, Amazon AWS, JavaScript, GitHub]  \n",
       "4    [AngularJS, jQuery, PostgreSQL, nginx, Python,...  \n",
       "..                                                 ...  \n",
       "314  [Android, iOS, Node.js, Java, golang, C#, Pyth...  \n",
       "315  [Python, Flask, TensorFlow, PyTorch, 머신러닝, 인공지...  \n",
       "316                                             [더 보기]  \n",
       "317  [플랫폼, 웹 어플리케이션 설계/개발 (Java/JSP), 데이터분석, 알고리즘, ...  \n",
       "318  [C, C++, Mac OS X, Qt, 3D CAD, Python, Xcode, ...  \n",
       "\n",
       "[319 rows x 9 columns]"
      ]
     },
     "execution_count": 3,
     "metadata": {},
     "output_type": "execute_result"
    }
   ],
   "source": [
    "# 전체 페이지의 개수를 알아내기 위한 과정\n",
    "url = \"https://www.rocketpunch.com/api/jobs/template?&page=1&q=&specialty=Python&tag=%EB%8D%B0%EC%9D%B4%ED%84%B0\"\n",
    "response = requests.get(url)\n",
    "data = response.json()['data']['template']\n",
    "dom = BeautifulSoup(data, \"html.parser\")\n",
    "total_pages = dom.select(\"div.ui.pagination.menu > div.tablet.computer.large.screen.widescreen.only > a\")[-1].text\n",
    "\n",
    "datas = []\n",
    "for page in range(1,int(total_pages)+1):\n",
    "    url = \"https://www.rocketpunch.com/api/jobs/template?page={}&q=&specialty=Python&tag=%EB%8D%B0%EC%9D%B4%ED%84%B0%\".format(page)\n",
    "    response = requests.get(url)\n",
    "    data = response.json()['data']['template']\n",
    "    dom = BeautifulSoup(data, \"html.parser\")\n",
    "    root = dom.select('#company-list > div.company.item > div.content')\n",
    "    positions = dom.select('#company-list > div.company.item > div.content > div.company-jobs-detail')\n",
    "    a = 0\n",
    "    for i in range(len(root)):\n",
    "        len_of_positions = len(positions[i].select('div:nth-child(1) > a.nowrap'))   \n",
    "        a +=1\n",
    "        print(a)\n",
    "        for j in range(len_of_positions):\n",
    "            link = \"https://www.rocketpunch.com\" + positions[i].select('div:nth-child(1) > a.nowrap')[j].get('href') \n",
    "            response = requests.get(link)\n",
    "            dom_for_skills = BeautifulSoup(response.text,\"html.parser\")      \n",
    "            datas.append({\n",
    "                \"date\" : date.today(),\n",
    "                \"company\" : root[i].select('div.company-name > a > h4 > strong')[0].text,\n",
    "                \"position\" : positions[i].select('div:nth-child(1) > a.nowrap')[j].text,\n",
    "                \"salary\" : positions[i].select('div.job-detail > div:nth-child(1) > span')[j].text,\n",
    "                \"deadline\" : positions[i].select('div.job-detail > div.job-dates > span:nth-child(1)')[j].text.strip(' \\n'),\n",
    "                \"description\" : root[i].select('div.description')[0].text.strip('\\xa0'),\n",
    "                \"service\" : root[i].select('div.nowrap.meta')[0].text.strip(),  \n",
    "                \"link\" : link,\n",
    "                \"skills\" : str([a.text for a in dom_for_skills.select('div .job-specialties > a ')]).strip(\"[]\")\n",
    "            })\n",
    "result = pd.DataFrame(datas)"
   ]
  },
  {
   "cell_type": "code",
   "execution_count": 86,
   "metadata": {
    "scrolled": true
   },
   "outputs": [
    {
     "data": {
      "text/plain": [
       "['C',\n",
       " 'C++',\n",
       " 'Mac OS X',\n",
       " 'Qt',\n",
       " '3D CAD',\n",
       " 'Python',\n",
       " 'Xcode',\n",
       " 'Visual Studio',\n",
       " 'SVN',\n",
       " 'Git',\n",
       " 'TeamCity']"
      ]
     },
     "execution_count": 86,
     "metadata": {},
     "output_type": "execute_result"
    }
   ],
   "source": [
    "[a.text for a in dom_for_skills.select('#wrap > div.eight.wide.job-content.column > section:nth-child(3) > div > a')] "
   ]
  },
  {
   "cell_type": "code",
   "execution_count": 87,
   "metadata": {
    "scrolled": true
   },
   "outputs": [
    {
     "data": {
      "text/plain": [
       "['\\nC\\nC++\\nMac OS X\\nQt\\n3D CAD\\nPython\\nXcode\\nVisual Studio\\nSVN\\nGit\\nTeamCity\\n',\n",
       " '\\n          Front-end ∙ JavaScript ∙ jQuery ∙ MySQL ∙ Java ∙ Node.js ∙ React ∙ CSS3 ∙ Android ∙ iOS\\n        ',\n",
       " '\\n          jQuery ∙ JavaScript ∙ CSS3 ∙ AngularJS ∙ React ∙ Front-end ∙ HTML5 ∙ CSS ∙ HTML ∙ Node.js ∙ MySQL ∙ Java\\n        ',\n",
       " '\\n          unity ∙ Unity 3D ∙ Unreal ∙ 유니티 ∙ shader ∙ 3D ∙ Unreal Engine 4 ∙ ar ∙ vr\\n        ',\n",
       " '\\n          3D디자인 ∙ 3d MAYA ∙ 패션디자인 ∙ 패션 ∙ 프로덕트디자인\\n        ']"
      ]
     },
     "execution_count": 87,
     "metadata": {},
     "output_type": "execute_result"
    }
   ],
   "source": [
    "[a.text for a in dom_for_skills.select('div .job-specialties')]"
   ]
  },
  {
   "cell_type": "code",
   "execution_count": 286,
   "metadata": {},
   "outputs": [],
   "source": [
    "response = requests.get(\"https://www.rocketpunch.com/jobs/57705/Back-end-Developer-%EB%B0%B1%EC%97%94%EB%93%9C-%EC%84%9C%EB%B2%84-%EA%B0%9C%EB%B0%9C%EC%9E%90\")\n",
    "dom = BeautifulSoup(response.text,\"html.parser\")"
   ]
  },
  {
   "cell_type": "code",
   "execution_count": 920,
   "metadata": {},
   "outputs": [],
   "source": [
    "response = requests.get(\"https://www.rocketpunch.com/jobs/70804/%EC%B2%AD%EB%85%84SW%EC%95%84%EC%B9%B4%EB%8D%B0%EB%AF%B8SSAFY-%EC%B7%A8%EC%97%85%EC%83%81%EB%8B%B4%EC%82%AC-%EA%B3%84%EC%95%BD%EC%A7%81-%EB%8C%80%EC%A0%84-%EA%B4%91%EC%A3%BC\")\n",
    "dom_for_skills = BeautifulSoup(response.text,\"html.parser\")      "
   ]
  },
  {
   "cell_type": "code",
   "execution_count": 992,
   "metadata": {},
   "outputs": [
    {
     "data": {
      "text/plain": [
       "'취업상담사, 취업상담'"
      ]
     },
     "execution_count": 992,
     "metadata": {},
     "output_type": "execute_result"
    }
   ],
   "source": [
    "\", \".join([a.text for a in dom_for_skills.select('div .job-specialties > a ')])"
   ]
  },
  {
   "cell_type": "code",
   "execution_count": 995,
   "metadata": {},
   "outputs": [
    {
     "data": {
      "text/plain": [
       "'광주광역시 광산구, 대전광역시 유성구'"
      ]
     },
     "execution_count": 995,
     "metadata": {},
     "output_type": "execute_result"
    }
   ],
   "source": [
    "# <br\\>로 나누어져 있기 때문에, 처음부터 끝까지 1칸씩 간격을 두고 찾아내면 지역이 몇개건 상관없이 가져올수 있음\n",
    "\", \".join(dom_for_skills.select('#wrap > div.four.wide.job-infoset.column > div > div:nth-child(3) > div > div:nth-child(2) > div.content')[0].contents[::2]).strip()"
   ]
  },
  {
   "cell_type": "code",
   "execution_count": 996,
   "metadata": {},
   "outputs": [
    {
     "data": {
      "text/plain": [
       "'광주광역시'"
      ]
     },
     "execution_count": 996,
     "metadata": {},
     "output_type": "execute_result"
    }
   ],
   "source": [
    "\"\\n       광주광역시                 \\n\".strip()"
   ]
  },
  {
   "cell_type": "code",
   "execution_count": null,
   "metadata": {},
   "outputs": [],
   "source": []
  },
  {
   "cell_type": "code",
   "execution_count": null,
   "metadata": {},
   "outputs": [],
   "source": []
  },
  {
   "cell_type": "code",
   "execution_count": null,
   "metadata": {},
   "outputs": [],
   "source": []
  },
  {
   "cell_type": "code",
   "execution_count": null,
   "metadata": {},
   "outputs": [],
   "source": []
  },
  {
   "cell_type": "code",
   "execution_count": 40,
   "metadata": {},
   "outputs": [],
   "source": [
    "from scrapy.http import TextResponse\n",
    "url = \"https://www.rocketpunch.com/api/jobs/template?page=1&q=&specialty=Python&tag=데이터\""
   ]
  },
  {
   "cell_type": "code",
   "execution_count": 82,
   "metadata": {
    "scrolled": true
   },
   "outputs": [
    {
     "data": {
      "text/plain": [
       "<200 https://www.rocketpunch.com/api/jobs/template?page=1&q=&specialty=Python&tag=%EB%8D%B0%EC%9D%B4%ED%84%B0%3E>"
      ]
     },
     "execution_count": 82,
     "metadata": {},
     "output_type": "execute_result"
    }
   ],
   "source": [
    "req = requests.get(url)\n",
    "response = TextResponse(req.url, body=req.text, encoding=\"utf-8\")\n",
    "response"
   ]
  },
  {
   "cell_type": "code",
   "execution_count": 83,
   "metadata": {},
   "outputs": [],
   "source": [
    "jsonresponse = json.loads(response.body)"
   ]
  },
  {
   "cell_type": "code",
   "execution_count": 72,
   "metadata": {},
   "outputs": [],
   "source": [
    "soup = BeautifulSoup(response.body, \"html.parser\") "
   ]
  },
  {
   "cell_type": "code",
   "execution_count": 75,
   "metadata": {},
   "outputs": [
    {
     "ename": "TypeError",
     "evalue": "'NoneType' object is not callable",
     "output_type": "error",
     "traceback": [
      "\u001b[0;31m---------------------------------------------------------------------------\u001b[0m",
      "\u001b[0;31mTypeError\u001b[0m                                 Traceback (most recent call last)",
      "\u001b[0;32m<ipython-input-75-368028e24cc7>\u001b[0m in \u001b[0;36m<module>\u001b[0;34m\u001b[0m\n\u001b[0;32m----> 1\u001b[0;31m \u001b[0msoup\u001b[0m\u001b[0;34m.\u001b[0m\u001b[0mjson\u001b[0m\u001b[0;34m(\u001b[0m\u001b[0;34m)\u001b[0m\u001b[0;34m\u001b[0m\u001b[0;34m\u001b[0m\u001b[0m\n\u001b[0m",
      "\u001b[0;31mTypeError\u001b[0m: 'NoneType' object is not callable"
     ]
    }
   ],
   "source": [
    "soup"
   ]
  },
  {
   "cell_type": "code",
   "execution_count": 48,
   "metadata": {},
   "outputs": [],
   "source": [
    "url = \"https://www.rocketpunch.com/api/jobs/template?page=1&q=&specialty=Python&tag=%EB%8D%B0%EC%9D%B4%ED%84%B0%3E\"\n",
    "response = requests.get(url)\n",
    "data = response.json()['data']['template']\n",
    "dom = BeautifulSoup(data, \"html.parser\")\n"
   ]
  },
  {
   "cell_type": "code",
   "execution_count": 49,
   "metadata": {},
   "outputs": [
    {
     "data": {
      "text/plain": [
       "<div class=\"ui job items segment\" id=\"company-list\">\n",
       "<div class=\"header\">\n",
       "<div class=\"ui right floated header sort-types\"><a class=\"checked\" data-query-add=\"sort=recent\" href=\"/jobs?q=&amp;specialty=Python&amp;tag=%EB%8D%B0%EC%9D%B4%ED%84%B0%3E&amp;sort=recent\">\n",
       "        최신순\n",
       "      </a>\n",
       "<div class=\"separator\"></div><a data-query-add=\"sort=ranking\" href=\"/jobs?q=&amp;specialty=Python&amp;tag=%EB%8D%B0%EC%9D%B4%ED%84%B0%3E&amp;sort=ranking\">\n",
       "        인기순\n",
       "      </a>\n",
       "<div class=\"separator\"></div><a data-query-add=\"sort=salary\" href=\"/jobs?q=&amp;specialty=Python&amp;tag=%EB%8D%B0%EC%9D%B4%ED%84%B0%3E&amp;sort=salary\">\n",
       "        연봉순\n",
       "      </a>\n",
       "</div>\n",
       "<h2 class=\"ui left header\" style=\"font-size:16px\">\n",
       "<span class=\"desc\">검색 결과</span>\n",
       "<span class=\"count\">304</span>\n",
       "<div class=\"separator\"></div>\n",
       "<span class=\"filter-summary\">데이터&gt;, Python</span>\n",
       "</h2>\n",
       "</div>\n",
       "<div class=\"ui inverted divider\"></div><div class=\"company item active\" data-company_id=\"113474\">\n",
       "<div class=\"logo image\">\n",
       "<a href=\"/companies/turing/jobs\" target=\"_blank\">\n",
       "<div class=\"ui logo\">\n",
       "<img alt=\"튜링 logo\" class=\"ui image\" src=\"https://image.rocketpunch.com/company/113474/turing_logo_1579582194.png?s=100x100&amp;t=inside\"/>\n",
       "</div>\n",
       "</a>\n",
       "</div>\n",
       "<div class=\"content active\">\n",
       "<div class=\"ui right floated skip header\">\n",
       "<a data-modal=\"signup\">✕</a>\n",
       "</div>\n",
       "<div class=\"company-name\">\n",
       "<a href=\"/companies/turing/jobs\" target=\"_blank\">\n",
       "<h4 class=\"header name\"> <strong>튜링</strong>\n",
       "<small>(Turing)</small>\n",
       "</h4>\n",
       "</a><a class=\"reference-count\" data-method=\"post\" data-url=\"/api/companies/113474/reference\">\n",
       "<i class=\"ic-thumbup-outline icon\"></i>\n",
       "<span class=\"count\">5</span>\n",
       "</a></div>\n",
       "<div class=\"description\">인공지능 수학공부 앱 : 수학대왕을 운영중입니다. :) </div>\n",
       "<div class=\"nowrap meta\">      모바일 ∙ 빅데이터 ∙ 인공지능 ∙ 머신러닝 ∙ IT/인공지능 ∙ 딥러닝 ∙ 모바일/웹 ∙ 에듀테크 ∙ 교육/이러닝 ∙ 추천 ∙ 수학 ∙ 교육산업 ∙ 교육산업/IT ∙ 수학교육 ∙ 추천알고리즘\n",
       "</div><div class=\"ui divider\"></div>\n",
       "<div class=\"company-jobs-detail\">\n",
       "<div class=\"job-detail\">\n",
       "<div>\n",
       "<a class=\"nowrap job-title primary link\" href=\"/jobs/70593/%EC%9D%B8%EA%B3%B5%EC%A7%80%EB%8A%A5-%EC%88%98%ED%95%99-%EA%B5%90%EC%9C%A1-%EC%8A%A4%ED%83%80%ED%8A%B8%EC%97%85%EC%97%90%EC%84%9C-%ED%8C%80%EC%9B%90%EC%9C%BC%EB%A1%9C-%EC%84%9C%EB%B2%84%EA%B0%9C%EB%B0%9C%EC%9E%90%EB%A5%BC-%EB%AA%A8%EC%8B%AD%EB%8B%88%EB%8B%A4-django\" target=\"_blank\">인공지능 수학 교육 스타트업에서 팀원으로 서버개발자를 모십니다. (django)</a>\n",
       "<span class=\"job-stat-info\">7,000 - 9,000만원 / 최대 2.5% / 경력</span>\n",
       "<a data-modal=\"login\" style=\"float:right\"><i class=\"ic-bookmark_outline icon\"></i></a>\n",
       "</div>\n",
       "<div class=\"job-dates\">\n",
       "<span>\n",
       "<i class=\"ic-calendar_new icon\"></i>                수시채용\n",
       "</span><span>                03/08 등록\n",
       "</span></div>\n",
       "</div>\n",
       "</div>\n",
       "</div>\n",
       "</div>\n",
       "<div class=\"ui inverted divider\"></div><div class=\"company item\" data-company_id=\"6047\">\n",
       "<div class=\"logo image\">\n",
       "<a href=\"/companies/mathpresso/jobs\" target=\"_blank\">\n",
       "<div class=\"ui logo\">\n",
       "<img alt=\"매스프레소 logo\" class=\"ui image\" src=\"https://image.rocketpunch.com/company/6047/mathpresso_logo_1502252970.jpg?s=100x100&amp;t=inside\"/>\n",
       "</div>\n",
       "</a>\n",
       "</div>\n",
       "<div class=\"content\">\n",
       "<div class=\"ui right floated skip header\">\n",
       "<a data-modal=\"signup\">✕</a>\n",
       "</div>\n",
       "<div class=\"company-name\">\n",
       "<a href=\"/companies/mathpresso/jobs\" target=\"_blank\">\n",
       "<h4 class=\"header name\"> <strong>매스프레소</strong>\n",
       "<small>(Mathpresso)</small>\n",
       "</h4>\n",
       "</a><span class=\"ui small basic response recruit label\"><div data-content=\"7일 이내 지원 결과를 알려줄 확률이 90% 이상인 기업입니다.\" data-variation=\"inverted mini\">응답률 우수</div><div data-content=\"로켓펀치를 통해 채용한 기록이 있는 기업입니다.\" data-variation=\"inverted mini\">채용 우수</div></span><a class=\"reference-count\" data-method=\"post\" data-url=\"/api/companies/6047/reference\">\n",
       "<i class=\"ic-thumbup-outline icon\"></i>\n",
       "<span class=\"count\">27</span>\n",
       "</a></div>\n",
       "<div class=\"description\">We Rebuild Education </div>\n",
       "<div class=\"nowrap meta\">      모바일서비스 ∙ 소프트웨어 ∙ 데이터 ∙ 교육 ∙ 모바일앱 ∙ AI ∙ 앱개발 ∙ 머신러닝 ∙ IT/인공지능 ∙ 딥러닝 ∙ 에듀테크 ∙ 수학 ∙ OCR\n",
       "</div><div class=\"applicants\">\n",
       "<div class=\"avatar-list\">\n",
       "<a href=\"/@l1218yj2\">\n",
       "<img alt=\"\" class=\"ui mini circular image\" src=\"https://image.rocketpunch.com/user/14199/14199_1544617878.jpg?s=35x35&amp;t=cover\"/>\n",
       "</a><div class=\"mini masked item\">?</div><div class=\"mini masked item\">?</div><div class=\"mini masked item\">?</div>\n",
       "<div class=\"more item mini\"><span>+319</span></div>\n",
       "</div>\n",
       "<span><a href=\"/companies/mathpresso/jobs/applicants\">320명 이상이 로켓펀치를 통해 지원</a></span>\n",
       "</div><div class=\"ui divider\"></div>\n",
       "<div class=\"company-jobs-detail\">\n",
       "<div class=\"job-detail\">\n",
       "<div>\n",
       "<a class=\"nowrap job-title primary link\" href=\"/jobs/70589/Math-Engine-Developer\" target=\"_blank\">Math Engine Developer</a>\n",
       "<span class=\"job-stat-info\">3,500 - 6,000만원 / 인턴, 신입, 경력</span>\n",
       "<a data-modal=\"login\" style=\"float:right\"><i class=\"ic-bookmark_outline icon\"></i></a>\n",
       "</div>\n",
       "<div class=\"job-dates\">\n",
       "<span>\n",
       "<i class=\"ic-calendar_new icon\"></i>                03/31 마감\n",
       "</span><span>                03/07 등록\n",
       "</span></div>\n",
       "</div>\n",
       "</div>\n",
       "</div>\n",
       "</div>\n",
       "<div class=\"ui inverted divider\"></div><div class=\"company item\" data-company_id=\"4921\">\n",
       "<div class=\"logo image\">\n",
       "<a href=\"/companies/tridge/jobs\" target=\"_blank\">\n",
       "<div class=\"ui logo\">\n",
       "<img alt=\"트릿지 logo\" class=\"ui image\" src=\"https://image.rocketpunch.com/company/4921/tridge_logo_1582610549.png?s=100x100&amp;t=inside\"/>\n",
       "</div>\n",
       "</a>\n",
       "</div>\n",
       "<div class=\"content\">\n",
       "<div class=\"ui right floated skip header\">\n",
       "<a data-modal=\"signup\">✕</a>\n",
       "</div>\n",
       "<div class=\"company-name\">\n",
       "<a href=\"/companies/tridge/jobs\" target=\"_blank\">\n",
       "<h4 class=\"header name\"> <strong>트릿지</strong>\n",
       "<small>(Tridge)</small>\n",
       "</h4>\n",
       "</a><a class=\"reference-count\" data-method=\"post\" data-url=\"/api/companies/4921/reference\">\n",
       "<i class=\"ic-thumbup-outline icon\"></i>\n",
       "<span class=\"count\">56</span>\n",
       "</a></div>\n",
       "<div class=\"description\">Disrupting the $1.5 Trillion global trading industry </div>\n",
       "<div class=\"nowrap meta\">      모바일서비스 ∙ 웹서비스 ∙ 마케팅 ∙ 스타트업 ∙ e-commerce ∙ 공유경제 ∙ 무역 ∙ B2B ∙ 글로벌 ∙ Big-Data ∙ B2B2C ∙ Data-Visualization\n",
       "</div><div class=\"applicants\">\n",
       "<div class=\"avatar-list\">\n",
       "<div class=\"mini masked item\">?</div><div class=\"mini masked item\">?</div><div class=\"mini masked item\">?</div><div class=\"mini masked item\">?</div>\n",
       "<div class=\"more item mini\"><span>+717</span></div>\n",
       "</div>\n",
       "<span><a href=\"/companies/tridge/jobs/applicants\">720명 이상이 로켓펀치를 통해 지원</a></span>\n",
       "</div><div class=\"ui divider\"></div>\n",
       "<div class=\"company-jobs-detail\">\n",
       "<div class=\"job-detail\">\n",
       "<div>\n",
       "<a class=\"nowrap job-title primary link\" href=\"/jobs/70411/Front-End-Software-Engineer-at-Tridge\" target=\"_blank\">Front-End Software Engineer at Tridge</a>\n",
       "<span class=\"job-stat-info\">4,000 - 10,000만원 / 인턴, 신입, 경력</span>\n",
       "<a data-modal=\"login\" style=\"float:right\"><i class=\"ic-bookmark_outline icon\"></i></a>\n",
       "</div>\n",
       "<div class=\"job-dates\">\n",
       "<span>\n",
       "<i class=\"ic-calendar_new icon\"></i>                수시채용\n",
       "</span><span>                03/05 수정\n",
       "</span></div>\n",
       "</div>\n",
       "<div class=\"ui divider\"></div> <div class=\"job-detail\">\n",
       "<div>\n",
       "<a class=\"nowrap job-title primary link\" href=\"/jobs/9504/Back-End-Software-Engineer-at-Tridge\" target=\"_blank\">Back-End Software Engineer at Tridge</a>\n",
       "<span class=\"job-stat-info\">4,000 - 10,000만원 / 인턴, 신입, 경력</span>\n",
       "<a data-modal=\"login\" style=\"float:right\"><i class=\"ic-bookmark_outline icon\"></i></a>\n",
       "</div>\n",
       "<div class=\"job-dates\">\n",
       "<span>\n",
       "<i class=\"ic-calendar_new icon\"></i>                수시채용\n",
       "</span><span>                03/07 수정\n",
       "</span></div>\n",
       "</div>\n",
       "<div class=\"ui divider\"></div> <div class=\"job-detail\">\n",
       "<div>\n",
       "<a class=\"nowrap job-title primary link\" href=\"/jobs/70412/Lead-Software-Engineer-at-Tridge\" target=\"_blank\">Lead Software Engineer at Tridge</a>\n",
       "<span class=\"job-stat-info\">4,000 - 10,000만원 / 경력</span>\n",
       "<a data-modal=\"login\" style=\"float:right\"><i class=\"ic-bookmark_outline icon\"></i></a>\n",
       "</div>\n",
       "<div class=\"job-dates\">\n",
       "<span>\n",
       "<i class=\"ic-calendar_new icon\"></i>                수시채용\n",
       "</span><span>                03/05 수정\n",
       "</span></div>\n",
       "</div>\n",
       "</div>\n",
       "</div>\n",
       "</div>\n",
       "<div class=\"ui inverted divider\"></div><div class=\"item brand-message\">\n",
       "<div class=\"logo image\"></div>\n",
       "<div class=\"content\">\n",
       "<img alt=\"image\" src=\"https://static.rocketpunch.com/images/main/landing/space_lounge_chat_nobg.svg\"/>\n",
       "<div class=\"description\">\n",
       "<h2>\n",
       "              당신에게 필요한 좋은 일자리!\n",
       "            </h2>\n",
       "<h3>\n",
       "              대한민국의 비즈니스 인맥이 모두 모여있는 곳, 로켓펀치에서 만나보세요.\n",
       "            </h3>\n",
       "<a class=\"ui basic primary button\" href=\"/signup\">\n",
       "              무료가입\n",
       "            </a>\n",
       "</div>\n",
       "</div>\n",
       "</div>\n",
       "<div class=\"ui inverted divider\"></div><div class=\"company item\" data-company_id=\"110749\">\n",
       "<div class=\"logo image\">\n",
       "<a href=\"/companies/fetching/jobs\" target=\"_blank\">\n",
       "<div class=\"ui logo\">\n",
       "<img alt=\"FETCHING logo\" class=\"ui image\" src=\"https://image.rocketpunch.com/company/110749/fetching_logo_1576173568.jpg?s=100x100&amp;t=inside\"/>\n",
       "</div>\n",
       "</a>\n",
       "</div>\n",
       "<div class=\"content\">\n",
       "<div class=\"ui right floated skip header\">\n",
       "<a data-modal=\"signup\">✕</a>\n",
       "</div>\n",
       "<div class=\"company-name\">\n",
       "<a href=\"/companies/fetching/jobs\" target=\"_blank\">\n",
       "<h4 class=\"header name\"> <strong>FETCHING</strong>\n",
       "</h4>\n",
       "</a><a class=\"reference-count\" data-method=\"post\" data-url=\"/api/companies/110749/reference\">\n",
       "<i class=\"ic-thumbup-outline icon\"></i>\n",
       "<span class=\"count\">7</span>\n",
       "</a></div>\n",
       "<div class=\"description\">페칭 - 테크 기반의 문화와 자유로운 분위기를 지향하는 회사 </div>\n",
       "<div class=\"nowrap meta\">      IT/서비스 ∙ 앱 ∙ ICT\n",
       "</div><div class=\"applicants\">\n",
       "<div class=\"avatar-list\">\n",
       "<div class=\"mini masked item\">?</div><div class=\"mini masked item\">?</div><div class=\"mini masked item\">?</div><div class=\"mini masked item\">?</div>\n",
       "<div class=\"more item mini\"><span>+2</span></div>\n",
       "</div>\n",
       "<span><a href=\"/companies/fetching/jobs/applicants\">5명 이상이 로켓펀치를 통해 지원</a></span>\n",
       "</div><div class=\"ui divider\"></div>\n",
       "<div class=\"company-jobs-detail\">\n",
       "<div class=\"job-detail\">\n",
       "<div>\n",
       "<a class=\"nowrap job-title primary link\" href=\"/jobs/66855/Python-Back-end-%EA%B0%9C%EB%B0%9C%EC%9E%90-%ED%8C%80%EC%9B%90%EC%9D%84-%EA%B5%AC%ED%95%B4%EC%9A%94\" target=\"_blank\">Python Back-end 개발자 팀원을 구해요</a>\n",
       "<span class=\"job-stat-info\">3,000 - 6,000만원 / 1.0% - 5.0% / 신입, 경력</span>\n",
       "<a data-modal=\"login\" style=\"float:right\"><i class=\"ic-bookmark_outline icon\"></i></a>\n",
       "</div>\n",
       "<div class=\"job-dates\">\n",
       "<span>\n",
       "<i class=\"ic-calendar_new icon\"></i>                03/27 마감\n",
       "</span><span>\n",
       "<i class=\"feed icon\"></i>\n",
       "                원격근무\n",
       "              </span><span>                03/07 수정\n",
       "</span></div>\n",
       "</div>\n",
       "</div>\n",
       "</div>\n",
       "</div>\n",
       "<div class=\"ui inverted divider\"></div><div class=\"company item\" data-company_id=\"5137\">\n",
       "<div class=\"logo image\">\n",
       "<a href=\"/companies/idve/jobs\" target=\"_blank\">\n",
       "<div class=\"ui logo\">\n",
       "<img alt=\"아이디브 logo\" class=\"ui image\" src=\"https://image.rocketpunch.com/company/5137/idve_logo_1511959631.png?s=100x100&amp;t=inside\"/>\n",
       "</div>\n",
       "</a>\n",
       "</div>\n",
       "<div class=\"content\">\n",
       "<div class=\"ui right floated skip header\">\n",
       "<a data-modal=\"signup\">✕</a>\n",
       "</div>\n",
       "<div class=\"company-name\">\n",
       "<a href=\"/companies/idve/jobs\" target=\"_blank\">\n",
       "<h4 class=\"header name\"> <strong>아이디브</strong>\n",
       "<small>(IDVE)</small>\n",
       "</h4>\n",
       "</a><span class=\"ui small basic response recruit label\"><div data-content=\"7일 이내 지원 결과를 알려줄 확률이 90% 이상인 기업입니다.\" data-variation=\"inverted mini\">응답률 우수</div><div data-content=\"로켓펀치를 통해 채용한 기록이 있는 기업입니다.\" data-variation=\"inverted mini\">채용 우수</div></span><a class=\"reference-count\" data-method=\"post\" data-url=\"/api/companies/5137/reference\">\n",
       "<i class=\"ic-thumbup-outline icon\"></i>\n",
       "<span class=\"count\">7</span>\n",
       "</a></div>\n",
       "<div class=\"description\">심플! 편안한 해외직구 애프터바이! 국내 오픈마켓 같은 해외직구 서비스 </div>\n",
       "<div class=\"nowrap meta\">      모바일서비스 ∙ 웹서비스 ∙ 마케팅 ∙ 데이터 ∙ 빅데이터 ∙ 모바일앱 ∙ 데이터분석 ∙ 해외직구 ∙ 통계분석\n",
       "</div><div class=\"applicants\">\n",
       "<div class=\"avatar-list\">\n",
       "<div class=\"mini masked item\">?</div><div class=\"mini masked item\">?</div><div class=\"mini masked item\">?</div><div class=\"mini masked item\">?</div>\n",
       "<div class=\"more item mini\"><span>+321</span></div>\n",
       "</div>\n",
       "<span><a href=\"/companies/idve/jobs/applicants\">325명 이상이 로켓펀치를 통해 지원</a></span>\n",
       "</div><div class=\"ui divider\"></div>\n",
       "<div class=\"company-jobs-detail\">\n",
       "<div class=\"job-detail\">\n",
       "<div>\n",
       "<a class=\"nowrap job-title primary link\" href=\"/jobs/69882/%ED%95%B4%EC%99%B8%EC%A7%81%EA%B5%AC-%EC%95%A0%ED%94%84%ED%84%B0%EB%B0%94%EC%9D%B4-PythonReact-%EA%B0%9C%EB%B0%9C%EC%9E%90-%EB%AA%A8%EC%8B%AD%EB%8B%88%EB%8B%A4\" target=\"_blank\">해외직구 애프터바이 [Python,React 개발자] 모십니다!</a>\n",
       "<span class=\"job-stat-info\">최대 9,000만원 / 최대 3.0% / 경력</span>\n",
       "<a data-modal=\"login\" style=\"float:right\"><i class=\"ic-bookmark_outline icon\"></i></a>\n",
       "</div>\n",
       "<div class=\"job-dates\">\n",
       "<span>\n",
       "<i class=\"ic-calendar_new icon\"></i>                03/21 마감\n",
       "</span><span>                03/07 수정\n",
       "</span></div>\n",
       "</div>\n",
       "</div>\n",
       "</div>\n",
       "</div>\n",
       "<div class=\"ui inverted divider\"></div><div class=\"company item\" data-company_id=\"94059\">\n",
       "<div class=\"logo image\">\n",
       "<a href=\"/companies/dslabglobal/jobs\" target=\"_blank\">\n",
       "<div class=\"ui logo\">\n",
       "<img alt=\"디에스랩글로벌 logo\" class=\"ui image\" src=\"https://image.rocketpunch.com/company/94059/skyhub_logo_1580273903.jpg?s=100x100&amp;t=inside\"/>\n",
       "</div>\n",
       "</a>\n",
       "</div>\n",
       "<div class=\"content\">\n",
       "<div class=\"ui right floated skip header\">\n",
       "<a data-modal=\"signup\">✕</a>\n",
       "</div>\n",
       "<div class=\"company-name\">\n",
       "<a href=\"/companies/dslabglobal/jobs\" target=\"_blank\">\n",
       "<h4 class=\"header name\"> <strong>디에스랩글로벌</strong>\n",
       "<small>(DSLAB GLOBAL)</small>\n",
       "</h4>\n",
       "</a><span class=\"ui small basic response label\"><div data-content=\"7일 이내 지원 결과를 알려줄 확률이 90% 이상인 기업입니다.\" data-variation=\"inverted mini\">응답률 우수</div></span><a class=\"reference-count\" data-method=\"post\" data-url=\"/api/companies/94059/reference\">\n",
       "<i class=\"ic-thumbup-outline icon\"></i>\n",
       "<span class=\"count\">2</span>\n",
       "</a></div>\n",
       "<div class=\"description\">인공지능 자동화 솔루션 전문 기업 </div>\n",
       "<div class=\"nowrap meta\">      소프트웨어 ∙ IT ∙ 인공지능 ∙ IT/서비스 ∙ 컨설팅 ∙ 머신러닝 ∙ 서비스/소프트웨어개발및공급업 ∙ IT/인공지능 ∙ 딥러닝 ∙ SaaS\n",
       "</div><div class=\"applicants\">\n",
       "<div class=\"avatar-list\">\n",
       "<div class=\"mini masked item\">?</div><div class=\"mini masked item\">?</div><div class=\"mini masked item\">?</div><div class=\"mini masked item\">?</div>\n",
       "<div class=\"more item mini\"><span>+65</span></div>\n",
       "</div>\n",
       "<span><a href=\"/companies/dslabglobal/jobs/applicants\">65명 이상이 로켓펀치를 통해 지원</a></span>\n",
       "</div><div class=\"ui divider\"></div>\n",
       "<div class=\"company-jobs-detail\">\n",
       "<div class=\"job-detail\">\n",
       "<div>\n",
       "<a class=\"nowrap job-title primary link\" href=\"/jobs/69431/%EB%8D%B0%EC%9D%B4%ED%84%B0-%EB%B6%84%EC%84%9D%EA%B0%80\" target=\"_blank\">데이터 분석가</a>\n",
       "<span class=\"job-stat-info\">신입, 경력</span>\n",
       "<a data-modal=\"login\" style=\"float:right\"><i class=\"ic-bookmark_outline icon\"></i></a>\n",
       "</div>\n",
       "<div class=\"job-dates\">\n",
       "<span>\n",
       "<i class=\"ic-calendar_new icon\"></i>                03/13 마감\n",
       "</span><span>                02/12 등록\n",
       "</span></div>\n",
       "</div>\n",
       "<div class=\"ui divider\"></div> <div class=\"job-detail\">\n",
       "<div>\n",
       "<a class=\"nowrap job-title primary link\" href=\"/jobs/69429/%EB%B0%B1%EC%97%94%EB%93%9C-%EA%B0%9C%EB%B0%9C%EC%9E%90\" target=\"_blank\">백엔드 개발자</a>\n",
       "<span class=\"job-stat-info\">신입, 경력</span>\n",
       "<a data-modal=\"login\" style=\"float:right\"><i class=\"ic-bookmark_outline icon\"></i></a>\n",
       "</div>\n",
       "<div class=\"job-dates\">\n",
       "<span>\n",
       "<i class=\"ic-calendar_new icon\"></i>                수시채용\n",
       "</span><span>                03/06 수정\n",
       "</span></div>\n",
       "</div>\n",
       "</div>\n",
       "</div>\n",
       "</div>\n",
       "<div class=\"ui inverted divider\"></div><div class=\"company item\" data-company_id=\"29834\">\n",
       "<div class=\"logo image\">\n",
       "<a href=\"/companies/paletteco/jobs\" target=\"_blank\">\n",
       "<div class=\"ui logo\">\n",
       "<img alt=\"에이블리코퍼레이션 logo\" class=\"ui image\" src=\"https://image.rocketpunch.com/company/29834/paletteco_logo_1556522541.png?s=100x100&amp;t=inside\"/>\n",
       "</div>\n",
       "</a>\n",
       "</div>\n",
       "<div class=\"content\">\n",
       "<div class=\"ui right floated skip header\">\n",
       "<a data-modal=\"signup\">✕</a>\n",
       "</div>\n",
       "<div class=\"company-name\">\n",
       "<a href=\"/companies/paletteco/jobs\" target=\"_blank\">\n",
       "<h4 class=\"header name\"> <strong>에이블리코퍼레이션</strong>\n",
       "<small>(ABLY)</small>\n",
       "</h4>\n",
       "</a><span class=\"ui small basic response label\"><div data-content=\"7일 이내 지원 결과를 알려줄 확률이 90% 이상인 기업입니다.\" data-variation=\"inverted mini\">응답률 우수</div></span><a class=\"reference-count\" data-method=\"post\" data-url=\"/api/companies/29834/reference\">\n",
       "<i class=\"ic-thumbup-outline icon\"></i>\n",
       "<span class=\"count\">14</span>\n",
       "</a></div>\n",
       "<div class=\"description\">이커머스를 혁신해나가는 커머스 플랫폼, 에이블리 입니다. </div>\n",
       "<div class=\"nowrap meta\">      모바일서비스 ∙ 웹서비스 ∙ 소프트웨어개발/서비스 ∙ 모바일플랫폼 ∙ 온라인플랫폼 ∙ 이커머스 ∙ 전자상거래\n",
       "</div><div class=\"applicants\">\n",
       "<div class=\"avatar-list\">\n",
       "<a href=\"/@dhguswns23\">\n",
       "<img alt=\"\" class=\"ui mini circular image\" src=\"https://image.rocketpunch.com/images/user/user.png?s=35x35&amp;t=cover\"/>\n",
       "</a><div class=\"mini masked item\">?</div><div class=\"mini masked item\">?</div><div class=\"mini masked item\">?</div>\n",
       "<div class=\"more item mini\"><span>+249</span></div>\n",
       "</div>\n",
       "<span><a href=\"/companies/paletteco/jobs/applicants\">250명 이상이 로켓펀치를 통해 지원</a></span>\n",
       "</div><div class=\"ui divider\"></div>\n",
       "<div class=\"company-jobs-detail\">\n",
       "<div class=\"job-detail\">\n",
       "<div>\n",
       "<a class=\"nowrap job-title primary link\" href=\"/jobs/64321/%EB%A8%B8%EC%8B%A0%EB%9F%AC%EB%8B%9D-%EC%97%94%EC%A7%80%EB%8B%88%EC%96%B4-%EC%BB%A4%EB%A8%B8%EC%8A%A4%ED%94%8C%EB%9E%AB%ED%8F%BC\" target=\"_blank\">머신러닝 엔지니어 (커머스플랫폼)</a>\n",
       "<span class=\"job-stat-info\">경력</span>\n",
       "<a data-modal=\"login\" style=\"float:right\"><i class=\"ic-bookmark_outline icon\"></i></a>\n",
       "</div>\n",
       "<div class=\"job-dates\">\n",
       "<span>\n",
       "<i class=\"ic-calendar_new icon\"></i>                수시채용\n",
       "</span><span>                03/06 수정\n",
       "</span></div>\n",
       "</div>\n",
       "<div class=\"ui divider\"></div> <div class=\"job-detail\">\n",
       "<div>\n",
       "<a class=\"nowrap job-title primary link\" href=\"/jobs/53396/%EB%B0%B1%EC%97%94%EB%93%9C-%EA%B0%9C%EB%B0%9C%EC%9E%90-%EB%B3%91%EC%97%AD%ED%8A%B9%EB%A1%80%EA%B0%80%EB%8A%A5\" target=\"_blank\">백엔드 개발자 (병역특례가능)</a>\n",
       "<span class=\"job-stat-info\">경력</span>\n",
       "<a data-modal=\"login\" style=\"float:right\"><i class=\"ic-bookmark_outline icon\"></i></a>\n",
       "</div>\n",
       "<div class=\"job-dates\">\n",
       "<span>\n",
       "<i class=\"ic-calendar_new icon\"></i>                수시채용\n",
       "</span><span>                03/06 수정\n",
       "</span></div>\n",
       "</div>\n",
       "</div>\n",
       "</div>\n",
       "</div>\n",
       "<div class=\"ui inverted divider\"></div><div class=\"company item\" data-company_id=\"29246\">\n",
       "<div class=\"logo image\">\n",
       "<a href=\"/companies/uconnec/jobs\" target=\"_blank\">\n",
       "<div class=\"ui logo\">\n",
       "<img alt=\"유커넥 logo\" class=\"ui image\" src=\"https://image.rocketpunch.com/company/29246/uconnec_logo_1582000741.png?s=100x100&amp;t=inside\"/>\n",
       "</div>\n",
       "</a>\n",
       "</div>\n",
       "<div class=\"content\">\n",
       "<div class=\"ui right floated skip header\">\n",
       "<a data-modal=\"signup\">✕</a>\n",
       "</div>\n",
       "<div class=\"company-name\">\n",
       "<a href=\"/companies/uconnec/jobs\" target=\"_blank\">\n",
       "<h4 class=\"header name\"> <strong>유커넥</strong>\n",
       "<small>(Uconnec)</small>\n",
       "</h4>\n",
       "</a><span class=\"ui small basic recruit label\"><div data-content=\"로켓펀치를 통해 채용한 기록이 있는 기업입니다.\" data-variation=\"inverted mini\">채용 우수</div></span><a class=\"reference-count\" data-method=\"post\" data-url=\"/api/companies/29246/reference\">\n",
       "<i class=\"ic-thumbup-outline icon\"></i>\n",
       "<span class=\"count\">22</span>\n",
       "</a></div>\n",
       "<div class=\"description\">유튜브 인플루언서와 광고주 브랜드를 연결하는 마케팅 플랫폼, \"유커넥\" </div>\n",
       "<div class=\"nowrap meta\">      웹서비스 ∙ 마케팅 ∙ 소프트웨어 ∙ 데이터 ∙ 디지털마케팅 ∙ 빅데이터분석 ∙ 광고플랫폼 ∙ MCN ∙ 유튜브 ∙ 디지털마케팅(컨텐츠/SNS) ∙ 신한퓨처스랩5기 ∙ 크리에이터 ∙ 미디어커머스 ∙ 온라인광고 ∙ MCN/비디오커머스 ∙ 인플루언서마케팅 ∙ MCN/모델/마케팅/커머스 ∙ 인플루언서마케팅플랫폼 ∙ 인플루언서커머스 ∙ Youtube ∙ 유튜브마케팅 ∙ 인플루언서플랫폼 ∙ 유튜브크리에이터 ∙ 미디어랩 ∙ 유튜버 ∙ 유튜브커머스\n",
       "</div><div class=\"applicants\">\n",
       "<div class=\"avatar-list\">\n",
       "<a href=\"/@fromleaf\">\n",
       "<img alt=\"\" class=\"ui mini circular image\" src=\"https://image.rocketpunch.com/user/5488/5488_1467194464.jpg?s=35x35&amp;t=cover\"/>\n",
       "</a><a href=\"/@iam_0714\">\n",
       "<img alt=\"\" class=\"ui mini circular image\" src=\"https://image.rocketpunch.com/user/205544/205544_1556426309.jpg?s=35x35&amp;t=cover\"/>\n",
       "</a><a href=\"/@yyoring\">\n",
       "<img alt=\"\" class=\"ui mini circular image\" src=\"https://image.rocketpunch.com/user/232071/232071_1564044710.jpg?s=35x35&amp;t=cover\"/>\n",
       "</a><div class=\"mini masked item\">?</div>\n",
       "<div class=\"more item mini\"><span>+346</span></div>\n",
       "</div>\n",
       "<span><a href=\"/companies/uconnec/jobs/applicants\">350명 이상이 로켓펀치를 통해 지원</a></span>\n",
       "</div><div class=\"ui divider\"></div>\n",
       "<div class=\"company-jobs-detail\">\n",
       "<div class=\"job-detail\">\n",
       "<div>\n",
       "<a class=\"nowrap job-title primary link\" href=\"/jobs/48050/%EC%96%B4%EB%B2%A4%EC%A0%B8%EC%8A%A4-%ED%92%80%EC%8A%A4%ED%83%9D-%EA%B0%9C%EB%B0%9C%EC%9E%90-DjangoReact\" target=\"_blank\">\"어벤져스\" 풀스택 개발자 (Django/React)</a>\n",
       "<span class=\"job-stat-info\">3,600 - 10,000만원 / 최대 2.0% / 경력</span>\n",
       "<a data-modal=\"login\" style=\"float:right\"><i class=\"ic-bookmark_outline icon\"></i></a>\n",
       "</div>\n",
       "<div class=\"job-dates\">\n",
       "<span>\n",
       "<i class=\"ic-calendar_new icon\"></i>                03/31 마감\n",
       "</span><span>                03/06 수정\n",
       "</span></div>\n",
       "</div>\n",
       "<div class=\"ui divider\"></div> <div class=\"job-detail\">\n",
       "<div>\n",
       "<a class=\"nowrap job-title primary link\" href=\"/jobs/68119/%EC%96%B4%EB%B2%A4%EC%A0%B8%EC%8A%A4-%EB%B0%B1%EC%97%94%EB%93%9C-%EA%B0%9C%EB%B0%9C%EC%9E%90\" target=\"_blank\">\"어벤져스\" 백엔드 개발자</a>\n",
       "<span class=\"job-stat-info\">4,000 - 10,000만원 / 최대 3.0% / 경력</span>\n",
       "<a data-modal=\"login\" style=\"float:right\"><i class=\"ic-bookmark_outline icon\"></i></a>\n",
       "</div>\n",
       "<div class=\"job-dates\">\n",
       "<span>\n",
       "<i class=\"ic-calendar_new icon\"></i>                03/31 마감\n",
       "</span><span>                03/06 수정\n",
       "</span></div>\n",
       "</div>\n",
       "</div>\n",
       "</div>\n",
       "</div>\n",
       "<div class=\"ui inverted divider\"></div><div class=\"company item\" data-company_id=\"87128\">\n",
       "<div class=\"logo image\">\n",
       "<a href=\"/companies/astera/jobs\" target=\"_blank\">\n",
       "<div class=\"ui logo\">\n",
       "<img alt=\"아스테라 logo\" class=\"ui image\" src=\"https://image.rocketpunch.com/company/87128/astera_logo_1567742668.png?s=100x100&amp;t=inside\"/>\n",
       "</div>\n",
       "</a>\n",
       "</div>\n",
       "<div class=\"content\">\n",
       "<div class=\"ui right floated skip header\">\n",
       "<a data-modal=\"signup\">✕</a>\n",
       "</div>\n",
       "<div class=\"company-name\">\n",
       "<a href=\"/companies/astera/jobs\" target=\"_blank\">\n",
       "<h4 class=\"header name\"> <strong>아스테라</strong>\n",
       "<small>(ASTERA)</small>\n",
       "</h4>\n",
       "</a><span class=\"ui small basic response label\"><div data-content=\"7일 이내 지원 결과를 알려줄 확률이 90% 이상인 기업입니다.\" data-variation=\"inverted mini\">응답률 우수</div></span><a class=\"reference-count\" data-method=\"post\" data-url=\"/api/companies/87128/reference\">\n",
       "<i class=\"ic-thumbup-outline icon\"></i>\n",
       "<span class=\"count\">10</span>\n",
       "</a></div>\n",
       "<div class=\"description\">사용할 수록 사용자에게 더 나은 가치를 선사하는 음식 테이크아웃 서비스 \"잇플\"을 개발하는 대한민국 최고의 푸드테크 스타트업. </div>\n",
       "<div class=\"nowrap meta\">      O2O ∙ IoT ∙ 빅데이터 ∙ 공유경제 ∙ 푸드테크 ∙ 챗봇 ∙ 모바일결제 ∙ 음식 ∙ 푸드스타트업\n",
       "</div><div class=\"applicants\">\n",
       "<div class=\"avatar-list\">\n",
       "<a href=\"/@daniellim\">\n",
       "<img alt=\"\" class=\"ui mini circular image\" src=\"https://image.rocketpunch.com/user/70759/70759_1545976524.jpg?s=35x35&amp;t=cover\"/>\n",
       "</a><div class=\"mini masked item\">?</div><div class=\"mini masked item\">?</div><div class=\"mini masked item\">?</div>\n",
       "<div class=\"more item mini\"><span>+143</span></div>\n",
       "</div>\n",
       "<span><a href=\"/companies/astera/jobs/applicants\">145명 이상이 로켓펀치를 통해 지원</a></span>\n",
       "</div><div class=\"ui divider\"></div>\n",
       "<div class=\"company-jobs-detail\">\n",
       "<div class=\"job-detail\">\n",
       "<div>\n",
       "<a class=\"nowrap job-title primary link\" href=\"/jobs/69410/%EB%B0%B1%EC%97%94%EB%93%9C-%ED%8C%8C%EC%9D%B4%EC%8D%AC-%EC%84%9C%EB%B2%84-%EA%B0%9C%EB%B0%9C%EC%9E%90\" target=\"_blank\">백엔드 파이썬 서버 개발자</a>\n",
       "<span class=\"job-stat-info\">3,000 - 5,500만원 / 최대 3.0% / 경력</span>\n",
       "<a data-modal=\"login\" style=\"float:right\"><i class=\"ic-bookmark_outline icon\"></i></a>\n",
       "</div>\n",
       "<div class=\"job-dates\">\n",
       "<span>\n",
       "<i class=\"ic-calendar_new icon\"></i>                03/15 마감\n",
       "</span><span>                03/06 수정\n",
       "</span></div>\n",
       "</div>\n",
       "</div>\n",
       "</div>\n",
       "</div>\n",
       "<div class=\"ui inverted divider\"></div><div class=\"company item\" data-company_id=\"5504\">\n",
       "<div class=\"logo image\">\n",
       "<a href=\"/companies/loplat/jobs\" target=\"_blank\">\n",
       "<div class=\"ui logo\">\n",
       "<img alt=\"로플랫 logo\" class=\"ui image\" src=\"https://image.rocketpunch.com/company/5504/loplat_logo_1524725183.png?s=100x100&amp;t=inside\"/>\n",
       "</div>\n",
       "</a>\n",
       "</div>\n",
       "<div class=\"content\">\n",
       "<div class=\"ui right floated skip header\">\n",
       "<a data-modal=\"signup\">✕</a>\n",
       "</div>\n",
       "<div class=\"company-name\">\n",
       "<a href=\"/companies/loplat/jobs\" target=\"_blank\">\n",
       "<h4 class=\"header name\"> <strong>로플랫</strong>\n",
       "<small>(loplat)</small>\n",
       "</h4>\n",
       "</a><a class=\"reference-count\" data-method=\"post\" data-url=\"/api/companies/5504/reference\">\n",
       "<i class=\"ic-thumbup-outline icon\"></i>\n",
       "<span class=\"count\">13</span>\n",
       "</a></div>\n",
       "<div class=\"description\">로플랫은 오프라인 데이터의 핵심인 사용자의 실내위치정보 플랫폼을 만들어 갑니다. </div>\n",
       "<div class=\"nowrap meta\">      모바일서비스 ∙ 웹서비스 ∙ 소프트웨어 ∙ 데이터 ∙ 플랫폼 ∙ AI ∙ 안드로이드 ∙ 빅데이터분석 ∙ 클라우드 ∙ MachineLearning ∙ 위치인식 ∙ OfflinetoOnline\n",
       "</div><div class=\"applicants\">\n",
       "<div class=\"avatar-list\">\n",
       "<a href=\"/@hwaminson\">\n",
       "<img alt=\"\" class=\"ui mini circular image\" src=\"https://image.rocketpunch.com/user/14588/14588_1538378004.jpg?s=35x35&amp;t=cover\"/>\n",
       "</a><a href=\"/@jinjungi\">\n",
       "<img alt=\"\" class=\"ui mini circular image\" src=\"https://image.rocketpunch.com/user/34879/34879_1498014817.png?s=35x35&amp;t=cover\"/>\n",
       "</a><a href=\"/@3080kjs\">\n",
       "<img alt=\"\" class=\"ui mini circular image\" src=\"https://image.rocketpunch.com/user/23612/23612_1533472224.jpg?s=35x35&amp;t=cover\"/>\n",
       "</a><div class=\"mini masked item\">?</div>\n",
       "<div class=\"more item mini\"><span>+146</span></div>\n",
       "</div>\n",
       "<span><a href=\"/companies/loplat/jobs/applicants\">150명 이상이 로켓펀치를 통해 지원</a></span>\n",
       "</div><div class=\"ui divider\"></div>\n",
       "<div class=\"company-jobs-detail\">\n",
       "<div class=\"job-detail\">\n",
       "<div>\n",
       "<a class=\"nowrap job-title primary link\" href=\"/jobs/61620/%EB%A1%9C%ED%94%8C%EB%9E%AB-%EB%B9%85%EB%8D%B0%EC%9D%B4%ED%84%B0-%EC%97%94%EC%A7%80%EB%8B%88%EC%96%B4-%EC%B1%84%EC%9A%A9-%EC%8B%A0%EC%9E%85%EA%B2%BD%EB%A0%A5\" target=\"_blank\">[로플랫] 빅데이터 엔지니어 채용 (신입/경력)</a>\n",
       "<span class=\"job-stat-info\">3,400 - 5,000만원 / 신입, 경력</span>\n",
       "<a data-modal=\"login\" style=\"float:right\"><i class=\"ic-bookmark_outline icon\"></i></a>\n",
       "</div>\n",
       "<div class=\"job-dates\">\n",
       "<span>\n",
       "<i class=\"ic-calendar_new icon\"></i>                03/31 마감\n",
       "</span><span>                03/06 수정\n",
       "</span></div>\n",
       "</div>\n",
       "</div>\n",
       "</div>\n",
       "</div>\n",
       "<div class=\"ui inverted divider\"></div><div class=\"company item\" data-company_id=\"115878\">\n",
       "<div class=\"logo image\">\n",
       "<a href=\"/companies/aiea/jobs\" target=\"_blank\">\n",
       "<div class=\"ui logo\">\n",
       "<img alt=\"한국인공지능기업협회 logo\" class=\"ui image\" src=\"https://image.rocketpunch.com/company/115878/aiea_logo_1582523438.jpg?s=100x100&amp;t=inside\"/>\n",
       "</div>\n",
       "</a>\n",
       "</div>\n",
       "<div class=\"content\">\n",
       "<div class=\"ui right floated skip header\">\n",
       "<a data-modal=\"signup\">✕</a>\n",
       "</div>\n",
       "<div class=\"company-name\">\n",
       "<a href=\"/companies/aiea/jobs\" target=\"_blank\">\n",
       "<h4 class=\"header name\"> <strong>한국인공지능기업협회</strong>\n",
       "<small>(AIEA)</small>\n",
       "</h4>\n",
       "</a><a class=\"reference-count\" data-method=\"post\" data-url=\"/api/companies/115878/reference\">\n",
       "<i class=\"ic-thumbup-outline icon\"></i>\n",
       "<span class=\"count\">1</span>\n",
       "</a></div>\n",
       "<div class=\"description\">한국인공지능기업협회는 LabABC, 포럼FIRST, 교육분과 등 인공기능 및 블록체인 융합을 위한 협회입니다. </div>\n",
       "<div class=\"nowrap meta\">      블록체인 ∙ 인공지능 ∙ 교육/강연\n",
       "</div><div class=\"ui divider\"></div>\n",
       "<div class=\"company-jobs-detail\">\n",
       "<div class=\"job-detail\">\n",
       "<div>\n",
       "<a class=\"nowrap job-title primary link\" href=\"/jobs/70556/%EA%B8%B0%EC%97%85%EC%A3%BC%EB%8F%84%ED%98%95-%EB%B8%94%EB%A1%9D%EC%B2%B4%EC%9D%B8-%ED%94%84%EB%A1%9C%EC%A0%9D%ED%8A%B8-%EA%B0%9C%EB%B0%9C%EC%9E%90-%EC%96%91%EC%84%B1%EA%B3%BC%EC%A0%95%EB%8C%80%EC%A0%84\" target=\"_blank\">기업주도형 블록체인 프로젝트 개발자 양성과정(대전)</a>\n",
       "<span class=\"job-stat-info\">인턴</span>\n",
       "<a data-modal=\"login\" style=\"float:right\"><i class=\"ic-bookmark_outline icon\"></i></a>\n",
       "</div>\n",
       "<div class=\"job-dates\">\n",
       "<span>\n",
       "<i class=\"ic-calendar_new icon\"></i>                04/24 마감\n",
       "</span><span>\n",
       "<i class=\"feed icon\"></i>\n",
       "                원격근무\n",
       "              </span><span>                03/06 등록\n",
       "</span></div>\n",
       "</div>\n",
       "</div>\n",
       "</div>\n",
       "</div>\n",
       "<div class=\"ui inverted divider\"></div><div class=\"company item\" data-company_id=\"5803\">\n",
       "<div class=\"logo image\">\n",
       "<a href=\"/companies/pandoratv/jobs\" target=\"_blank\">\n",
       "<div class=\"ui logo\">\n",
       "<img alt=\"판도라TV logo\" class=\"ui image\" src=\"https://image.rocketpunch.com/company/5803/pandoratv_logo_1450328141.png?s=100x100&amp;t=inside\"/>\n",
       "</div>\n",
       "</a>\n",
       "</div>\n",
       "<div class=\"content\">\n",
       "<div class=\"ui right floated skip header\">\n",
       "<a data-modal=\"signup\">✕</a>\n",
       "</div>\n",
       "<div class=\"company-name\">\n",
       "<a href=\"/companies/pandoratv/jobs\" target=\"_blank\">\n",
       "<h4 class=\"header name\"> <strong>판도라TV</strong>\n",
       "<small>(PandoraTV)</small>\n",
       "</h4>\n",
       "</a><a class=\"reference-count\" data-method=\"post\" data-url=\"/api/companies/5803/reference\">\n",
       "<i class=\"ic-thumbup-outline icon\"></i>\n",
       "<span class=\"count\"></span>\n",
       "</a></div>\n",
       "<div class=\"description\">암호화폐 시장의 기준을 함께 만들어나갈 분을 찾습니다 </div>\n",
       "<div class=\"nowrap meta\">      IT\n",
       "</div><div class=\"ui divider\"></div>\n",
       "<div class=\"company-jobs-detail\">\n",
       "<div class=\"job-detail\">\n",
       "<div>\n",
       "<a class=\"nowrap job-title primary link\" href=\"/jobs/70544/Cobak-Back-end-%EA%B0%9C%EB%B0%9C%EC%9E%90\" target=\"_blank\">Cobak Back-end 개발자</a>\n",
       "<span class=\"job-stat-info\">경력</span>\n",
       "<a data-modal=\"login\" style=\"float:right\"><i class=\"ic-bookmark_outline icon\"></i></a>\n",
       "</div>\n",
       "<div class=\"job-dates\">\n",
       "<span>\n",
       "<i class=\"ic-calendar_new icon\"></i>                04/05 마감\n",
       "</span><span>                03/06 등록\n",
       "</span></div>\n",
       "</div>\n",
       "</div>\n",
       "</div>\n",
       "</div>\n",
       "<div class=\"ui inverted divider\"></div><div class=\"company item\" data-company_id=\"103847\">\n",
       "<div class=\"logo image\">\n",
       "<a href=\"/companies/finports-1/jobs\" target=\"_blank\">\n",
       "<div class=\"ui logo\">\n",
       "<img alt=\"핀포츠 logo\" class=\"ui image\" src=\"https://image.rocketpunch.com/company/103847/finports-1_logo_1568083024.jpg?s=100x100&amp;t=inside\"/>\n",
       "</div>\n",
       "</a>\n",
       "</div>\n",
       "<div class=\"content\">\n",
       "<div class=\"ui right floated skip header\">\n",
       "<a data-modal=\"signup\">✕</a>\n",
       "</div>\n",
       "<div class=\"company-name\">\n",
       "<a href=\"/companies/finports-1/jobs\" target=\"_blank\">\n",
       "<h4 class=\"header name\"> <strong>핀포츠</strong>\n",
       "<small>(Finports)</small>\n",
       "</h4>\n",
       "</a><a class=\"reference-count\" data-method=\"post\" data-url=\"/api/companies/103847/reference\">\n",
       "<i class=\"ic-thumbup-outline icon\"></i>\n",
       "<span class=\"count\"></span>\n",
       "</a></div>\n",
       "<div class=\"description\">대한민국 최대 쇼핑 결제 시스템 </div>\n",
       "<div class=\"nowrap meta\">      전자결제 ∙ 모바일결제서비스 ∙ 온라인결제\n",
       "</div><div class=\"applicants\">\n",
       "<div class=\"avatar-list\">\n",
       "<div class=\"mini masked item\">?</div><div class=\"mini masked item\">?</div><div class=\"mini masked item\">?</div><div class=\"mini masked item\">?</div>\n",
       "<div class=\"more item mini\"><span>+19</span></div>\n",
       "</div>\n",
       "<span><a href=\"/companies/finports-1/jobs/applicants\">20명 이상이 로켓펀치를 통해 지원</a></span>\n",
       "</div><div class=\"ui divider\"></div>\n",
       "<div class=\"company-jobs-detail\">\n",
       "<div class=\"job-detail\">\n",
       "<div>\n",
       "<a class=\"nowrap job-title primary link\" href=\"/jobs/70543/%EA%B0%9C%EB%B0%9C%ED%8C%80%EC%9E%A5-%EB%B0%B1%EC%97%94%EB%93%9C-%EC%84%9C%EB%B2%84-%EA%B0%9C%EB%B0%9C%EC%9E%90-%EC%B1%84%EC%9A%A9\" target=\"_blank\">[개발팀장] 백엔드 서버 개발자 채용</a>\n",
       "<span class=\"job-stat-info\">5,000 - 8,000만원 / 경력</span>\n",
       "<a data-modal=\"login\" style=\"float:right\"><i class=\"ic-bookmark_outline icon\"></i></a>\n",
       "</div>\n",
       "<div class=\"job-dates\">\n",
       "<span>\n",
       "<i class=\"ic-calendar_new icon\"></i>                수시채용\n",
       "</span><span>                03/06 등록\n",
       "</span></div>\n",
       "</div>\n",
       "</div>\n",
       "</div>\n",
       "</div>\n",
       "<div class=\"ui inverted divider\"></div><div class=\"company item\" data-company_id=\"80711\">\n",
       "<div class=\"logo image\">\n",
       "<a href=\"/companies/canclemarket/jobs\" target=\"_blank\">\n",
       "<div class=\"ui logo\">\n",
       "<img alt=\"캔슬마켓 logo\" class=\"ui image\" src=\"https://image.rocketpunch.com/company/80711/canclemarket_logo_1558090160.png?s=100x100&amp;t=inside\"/>\n",
       "</div>\n",
       "</a>\n",
       "</div>\n",
       "<div class=\"content\">\n",
       "<div class=\"ui right floated skip header\">\n",
       "<a data-modal=\"signup\">✕</a>\n",
       "</div>\n",
       "<div class=\"company-name\">\n",
       "<a href=\"/companies/canclemarket/jobs\" target=\"_blank\">\n",
       "<h4 class=\"header name\"> <strong>캔슬마켓</strong>\n",
       "<small>(Cancel Market)</small>\n",
       "</h4>\n",
       "</a><span class=\"ui small basic response recruit label\"><div data-content=\"7일 이내 지원 결과를 알려줄 확률이 90% 이상인 기업입니다.\" data-variation=\"inverted mini\">응답률 우수</div><div data-content=\"로켓펀치를 통해 채용한 기록이 있는 기업입니다.\" data-variation=\"inverted mini\">채용 우수</div></span><a class=\"reference-count\" data-method=\"post\" data-url=\"/api/companies/80711/reference\">\n",
       "<i class=\"ic-thumbup-outline icon\"></i>\n",
       "<span class=\"count\">4</span>\n",
       "</a></div>\n",
       "<div class=\"description\">못가는 호텔 펜션 리조트 빨리 팔고 싸게 사자 여행갈땐 가장먼저, 캔슬마켓 </div>\n",
       "<div class=\"nowrap meta\">      모바일서비스 ∙ 웹서비스 ∙ 스타트업 ∙ 전자상거래 ∙ 안드로이드 ∙ 앱/웹서비스 ∙ php ∙ 앱/웹개발 ∙ p2p플랫폼 ∙ Front-end\n",
       "</div><div class=\"applicants\">\n",
       "<div class=\"avatar-list\">\n",
       "<div class=\"mini masked item\">?</div><div class=\"mini masked item\">?</div><div class=\"mini masked item\">?</div><div class=\"mini masked item\">?</div>\n",
       "<div class=\"more item mini\"><span>+12</span></div>\n",
       "</div>\n",
       "<span><a href=\"/companies/canclemarket/jobs/applicants\">15명 이상이 로켓펀치를 통해 지원</a></span>\n",
       "</div><div class=\"ui divider\"></div>\n",
       "<div class=\"company-jobs-detail\">\n",
       "<div class=\"job-detail\">\n",
       "<div>\n",
       "<a class=\"nowrap job-title primary link\" href=\"/jobs/70538/PHP-%EB%B0%B1%EC%97%94%EB%93%9C-%EA%B0%9C%EB%B0%9C%EC%9E%90\" target=\"_blank\">PHP 백엔드 개발자</a>\n",
       "<span class=\"job-stat-info\">최대 5,000만원 / 최대 3.0% / 신입, 경력</span>\n",
       "<a data-modal=\"login\" style=\"float:right\"><i class=\"ic-bookmark_outline icon\"></i></a>\n",
       "</div>\n",
       "<div class=\"job-dates\">\n",
       "<span>\n",
       "<i class=\"ic-calendar_new icon\"></i>                04/10 마감\n",
       "</span><span>                03/06 등록\n",
       "</span></div>\n",
       "</div>\n",
       "</div>\n",
       "</div>\n",
       "</div>\n",
       "<div class=\"ui inverted divider\"></div><div class=\"company item\" data-company_id=\"1654\">\n",
       "<div class=\"logo image\">\n",
       "<a href=\"/companies/mtov/jobs\" target=\"_blank\">\n",
       "<div class=\"ui logo\">\n",
       "<img alt=\"엠투브 logo\" class=\"ui image\" src=\"https://image.rocketpunch.com/company/1654/10/mtov_logo.png?s=100x100&amp;t=inside\"/>\n",
       "</div>\n",
       "</a>\n",
       "</div>\n",
       "<div class=\"content\">\n",
       "<div class=\"ui right floated skip header\">\n",
       "<a data-modal=\"signup\">✕</a>\n",
       "</div>\n",
       "<div class=\"company-name\">\n",
       "<a href=\"/companies/mtov/jobs\" target=\"_blank\">\n",
       "<h4 class=\"header name\"> <strong>엠투브</strong>\n",
       "<small>(MtoV)</small>\n",
       "</h4>\n",
       "</a><span class=\"ui small basic recruit label\"><div data-content=\"로켓펀치를 통해 채용한 기록이 있는 기업입니다.\" data-variation=\"inverted mini\">채용 우수</div></span><a class=\"reference-count\" data-method=\"post\" data-url=\"/api/companies/1654/reference\">\n",
       "<i class=\"ic-thumbup-outline icon\"></i>\n",
       "<span class=\"count\">4</span>\n",
       "</a></div>\n",
       "<div class=\"description\">강력한 기술과 재미있는 생각으로 드라이빙 라이프를 혁신하는 기업 </div>\n",
       "<div class=\"nowrap meta\">      모바일서비스 ∙ 웹서비스 ∙ 마케팅 ∙ 소프트웨어 ∙ 모바일게임 ∙ 데이터 ∙ 게임 ∙ 하드웨어 ∙ 앱 ∙ 자동차 ∙ 안드로이드 ∙ 개발 ∙ 소셜 ∙ SW ∙ 네트워크 ∙ HW ∙ 커넥티드카 ∙ 스마트카 ∙ 애플\n",
       "</div><div class=\"applicants\">\n",
       "<div class=\"avatar-list\">\n",
       "<div class=\"mini masked item\">?</div><div class=\"mini masked item\">?</div><div class=\"mini masked item\">?</div><div class=\"mini masked item\">?</div>\n",
       "<div class=\"more item mini\"><span>+297</span></div>\n",
       "</div>\n",
       "<span><a href=\"/companies/mtov/jobs/applicants\">300명 이상이 로켓펀치를 통해 지원</a></span>\n",
       "</div><div class=\"ui divider\"></div>\n",
       "<div class=\"company-jobs-detail\">\n",
       "<div class=\"job-detail\">\n",
       "<div>\n",
       "<a class=\"nowrap job-title primary link\" href=\"/jobs/57749/%EC%98%81%EC%83%81%EC%B2%98%EB%A6%AC%EB%B9%85%EB%8D%B0%EC%9D%B4%ED%84%B0%EC%95%88%EB%93%9C%EB%A1%9C%EC%9D%B4%EB%93%9CIOS%EC%84%9C%EB%B2%84-%EB%B6%84%EC%95%BC-%EA%B0%9C%EB%B0%9C%EC%9E%90-%EB%AA%A8%EC%A7%91\" target=\"_blank\">영상처리/빅데이터/안드로이드/IOS/서버 분야 개발자 모집</a>\n",
       "<span class=\"job-stat-info\">2,400 - 10,000만원 / 인턴, 신입, 경력</span>\n",
       "<a data-modal=\"login\" style=\"float:right\"><i class=\"ic-bookmark_outline icon\"></i></a>\n",
       "</div>\n",
       "<div class=\"job-dates\">\n",
       "<span>\n",
       "<i class=\"ic-calendar_new icon\"></i>                03/31 마감\n",
       "</span><span>                03/06 수정\n",
       "</span></div>\n",
       "</div>\n",
       "</div>\n",
       "</div>\n",
       "</div>\n",
       "<div class=\"ui inverted divider\"></div><div class=\"company item\" data-company_id=\"32852\">\n",
       "<div class=\"logo image\">\n",
       "<a href=\"/companies/codingrobotlab/jobs\" target=\"_blank\">\n",
       "<div class=\"ui logo\">\n",
       "<img alt=\"코딩로봇연구소 logo\" class=\"ui image\" src=\"https://image.rocketpunch.com/company/32852/codingrobotlab_logo_1563261478.png?s=100x100&amp;t=inside\"/>\n",
       "</div>\n",
       "</a>\n",
       "</div>\n",
       "<div class=\"content\">\n",
       "<div class=\"ui right floated skip header\">\n",
       "<a data-modal=\"signup\">✕</a>\n",
       "</div>\n",
       "<div class=\"company-name\">\n",
       "<a href=\"/companies/codingrobotlab/jobs\" target=\"_blank\">\n",
       "<h4 class=\"header name\"> <strong>코딩로봇연구소</strong>\n",
       "<small>(Coding Robot Lab)</small>\n",
       "</h4>\n",
       "</a><span class=\"ui small basic response label\"><div data-content=\"7일 이내 지원 결과를 알려줄 확률이 90% 이상인 기업입니다.\" data-variation=\"inverted mini\">응답률 우수</div></span><a class=\"reference-count\" data-method=\"post\" data-url=\"/api/companies/32852/reference\">\n",
       "<i class=\"ic-thumbup-outline icon\"></i>\n",
       "<span class=\"count\">4</span>\n",
       "</a></div>\n",
       "<div class=\"description\">AI-Powered Coding Education Services for Tech Careers를 제공하는 에듀테크 플랫폼 스타트업입니다. </div>\n",
       "<div class=\"nowrap meta\">      IT서비스 ∙ 플랫폼 ∙ 교육 ∙ 모바일플랫폼 ∙ 교육콘텐츠 ∙ 인공지능 ∙ 코딩교육 ∙ 응용소프트웨어 ∙ 데이터마이닝 ∙ 온라인코딩테스트\n",
       "</div><div class=\"applicants\">\n",
       "<div class=\"avatar-list\">\n",
       "<a href=\"/@opnay\">\n",
       "<img alt=\"\" class=\"ui mini circular image\" src=\"https://image.rocketpunch.com/user/148178/148178_1559270499.jpg?s=35x35&amp;t=cover\"/>\n",
       "</a><div class=\"mini masked item\">?</div><div class=\"mini masked item\">?</div><div class=\"mini masked item\">?</div>\n",
       "<div class=\"more item mini\"><span>+39</span></div>\n",
       "</div>\n",
       "<span><a href=\"/companies/codingrobotlab/jobs/applicants\">40명 이상이 로켓펀치를 통해 지원</a></span>\n",
       "</div><div class=\"ui divider\"></div>\n",
       "<div class=\"company-jobs-detail\">\n",
       "<div class=\"job-detail\">\n",
       "<div>\n",
       "<a class=\"nowrap job-title primary link\" href=\"/jobs/66749/%ED%8C%8C%ED%8A%B8%ED%83%80%EC%9E%84%EC%9C%BC%EB%A1%9C-%EC%8B%9C%EA%B0%84%EB%82%A0-%EB%95%8C-%EC%BD%94%EB%94%A9-%EA%B3%BC%EC%99%B8%ED%95%98%EC%8B%A4-%EA%B0%9C%EB%B0%9C%EC%9E%90%EB%93%A4%EC%9D%84-%EC%82%AC%EC%A0%84-%EB%AA%A8%EC%A7%91-%EC%A4%91%EC%9E%85%EB%8B%88%EB%8B%A4\" target=\"_blank\">파트타임으로 시간날 때 코딩 과외하실 개발자들을 사전 모집 중입니다.</a>\n",
       "<span class=\"job-stat-info\">인턴, 신입, 경력</span>\n",
       "<a data-modal=\"login\" style=\"float:right\"><i class=\"ic-bookmark_outline icon\"></i></a>\n",
       "</div>\n",
       "<div class=\"job-dates\">\n",
       "<span>\n",
       "<i class=\"ic-calendar_new icon\"></i>                수시채용\n",
       "</span><span>\n",
       "<i class=\"feed icon\"></i>\n",
       "                원격근무\n",
       "              </span><span>                03/06 수정\n",
       "</span></div>\n",
       "</div>\n",
       "</div>\n",
       "</div>\n",
       "</div>\n",
       "<div class=\"ui inverted divider\"></div><div class=\"company item\" data-company_id=\"20367\">\n",
       "<div class=\"logo image\">\n",
       "<a href=\"/companies/laftel-inc/jobs\" target=\"_blank\">\n",
       "<div class=\"ui logo\">\n",
       "<img alt=\"리디(주) - 라프텔 사업본부 logo\" class=\"ui image\" src=\"https://image.rocketpunch.com/company/20367/laftel-inc_logo_1542782651.png?s=100x100&amp;t=inside\"/>\n",
       "</div>\n",
       "</a>\n",
       "</div>\n",
       "<div class=\"content\">\n",
       "<div class=\"ui right floated skip header\">\n",
       "<a data-modal=\"signup\">✕</a>\n",
       "</div>\n",
       "<div class=\"company-name\">\n",
       "<a href=\"/companies/laftel-inc/jobs\" target=\"_blank\">\n",
       "<h4 class=\"header name\"> <strong>리디(주) - 라프텔 사업본부</strong>\n",
       "<small>(Ridi Corporation - Laftel dept.)</small>\n",
       "</h4>\n",
       "</a><span class=\"ui small basic response recruit label\"><div data-content=\"7일 이내 지원 결과를 알려줄 확률이 90% 이상인 기업입니다.\" data-variation=\"inverted mini\">응답률 우수</div><div data-content=\"로켓펀치를 통해 채용한 기록이 있는 기업입니다.\" data-variation=\"inverted mini\">채용 우수</div></span><a class=\"reference-count\" data-method=\"post\" data-url=\"/api/companies/20367/reference\">\n",
       "<i class=\"ic-thumbup-outline icon\"></i>\n",
       "<span class=\"count\">25</span>\n",
       "</a></div>\n",
       "<div class=\"description\">애니메이션을 합법적으로 무료로 감상할 수 있는 서비스 </div>\n",
       "<div class=\"nowrap meta\">      모바일서비스 ∙ 웹서비스 ∙ 마케팅 ∙ 데이터 ∙ 빅데이터 ∙ BigData ∙ 애니메이션 ∙ 컨텐츠.스트리밍.방송 ∙ 동영상스트리밍 ∙ 개인화추천 ∙ 스트리밍 ∙ 만화추천 ∙ 애니추천 ∙ AnimationRecommenda ∙ PersonalDrawingsRe\n",
       "</div><div class=\"applicants\">\n",
       "<div class=\"avatar-list\">\n",
       "<a href=\"/@hanvitkang\">\n",
       "<img alt=\"\" class=\"ui mini circular image\" src=\"https://image.rocketpunch.com/user/31009/31009_4813985b43da.jpg?s=35x35&amp;t=cover\"/>\n",
       "</a><a href=\"/@wayhome25\">\n",
       "<img alt=\"\" class=\"ui mini circular image\" src=\"https://image.rocketpunch.com/user/49622/49622_1494122317.jpg?s=35x35&amp;t=cover\"/>\n",
       "</a><a href=\"/@merong0704\">\n",
       "<img alt=\"\" class=\"ui mini circular image\" src=\"https://image.rocketpunch.com/images/user/user.png?s=35x35&amp;t=cover\"/>\n",
       "</a><a href=\"/@withsangseung\">\n",
       "<img alt=\"\" class=\"ui mini circular image\" src=\"https://image.rocketpunch.com/user/184921/184921_1542945163.jpg?s=35x35&amp;t=cover\"/>\n",
       "</a>\n",
       "<div class=\"more item mini\"><span>+329</span></div>\n",
       "</div>\n",
       "<span><a href=\"/companies/laftel-inc/jobs/applicants\">330명 이상이 로켓펀치를 통해 지원</a></span>\n",
       "</div><div class=\"ui divider\"></div>\n",
       "<div class=\"company-jobs-detail\">\n",
       "<div class=\"job-detail\">\n",
       "<div>\n",
       "<a class=\"nowrap job-title primary link\" href=\"/jobs/63669/%EC%84%9C%EB%B2%84%EB%B0%B1%EC%97%94%EB%93%9C-%EA%B0%9C%EB%B0%9C%EC%9E%90\" target=\"_blank\">서버(백엔드) 개발자</a>\n",
       "<span class=\"job-stat-info\">4,000 - 10,000만원 / 경력</span>\n",
       "<a data-modal=\"login\" style=\"float:right\"><i class=\"ic-bookmark_outline icon\"></i></a>\n",
       "</div>\n",
       "<div class=\"job-dates\">\n",
       "<span>\n",
       "<i class=\"ic-calendar_new icon\"></i>                12/31 마감\n",
       "</span><span>                03/06 수정\n",
       "</span></div>\n",
       "</div>\n",
       "</div>\n",
       "</div>\n",
       "</div>\n",
       "<div class=\"ui inverted divider\"></div><div class=\"company item\" data-company_id=\"25\">\n",
       "<div class=\"logo image\">\n",
       "<a href=\"/companies/bunjang/jobs\" target=\"_blank\">\n",
       "<div class=\"ui logo\">\n",
       "<img alt=\"번개장터 주식회사 logo\" class=\"ui image\" src=\"https://image.rocketpunch.com/company/25/quicket_logo_1532393297.png?s=100x100&amp;t=inside\"/>\n",
       "</div>\n",
       "</a>\n",
       "</div>\n",
       "<div class=\"content\">\n",
       "<div class=\"ui right floated skip header\">\n",
       "<a data-modal=\"signup\">✕</a>\n",
       "</div>\n",
       "<div class=\"company-name\">\n",
       "<a href=\"/companies/bunjang/jobs\" target=\"_blank\">\n",
       "<h4 class=\"header name\"> <strong>번개장터 주식회사</strong>\n",
       "<small>(Bungaejangter Inc.)</small>\n",
       "</h4>\n",
       "</a><span class=\"ui small basic response recruit label\"><div data-content=\"7일 이내 지원 결과를 알려줄 확률이 90% 이상인 기업입니다.\" data-variation=\"inverted mini\">응답률 우수</div><div data-content=\"로켓펀치를 통해 채용한 기록이 있는 기업입니다.\" data-variation=\"inverted mini\">채용 우수</div></span><a class=\"reference-count\" data-method=\"post\" data-url=\"/api/companies/25/reference\">\n",
       "<i class=\"ic-thumbup-outline icon\"></i>\n",
       "<span class=\"count\">17</span>\n",
       "</a></div>\n",
       "<div class=\"description\">1,400만 다운로드, 월 450만명 이상이 이용하는 모바일 중고거래 No.1 플랫폼 번개장터와 중고거래 컨시어지 No.1 셀잇을 서비스하고 있습니다. </div>\n",
       "<div class=\"nowrap meta\">      모바일서비스 ∙ 웹서비스 ∙ 소프트웨어 ∙ 모바일앱 ∙ 커머스 ∙ 공유경제 ∙ 오픈마켓 ∙ eCommerce ∙ 마켓플레이스 ∙ 중고거래 ∙ 지역정보\n",
       "</div><div class=\"applicants\">\n",
       "<div class=\"avatar-list\">\n",
       "<a href=\"/@ddkddk35\">\n",
       "<img alt=\"\" class=\"ui mini circular image\" src=\"https://image.rocketpunch.com/user/21701/21701_9f40327382ca.jpg?s=35x35&amp;t=cover\"/>\n",
       "</a><a href=\"/@eddy.sangwon\">\n",
       "<img alt=\"\" class=\"ui mini circular image\" src=\"https://image.rocketpunch.com/user/11687/11687_1499049641.jpg?s=35x35&amp;t=cover\"/>\n",
       "</a><a href=\"/@e1ffe08dab554819\">\n",
       "<img alt=\"\" class=\"ui mini circular image\" src=\"https://image.rocketpunch.com/user/145898/145898_1537542409.jpg?s=35x35&amp;t=cover\"/>\n",
       "</a><a href=\"/@bagdongug\">\n",
       "<img alt=\"\" class=\"ui mini circular image\" src=\"https://image.rocketpunch.com/user/27662/27662_42216f74a3ac.jpg?s=35x35&amp;t=cover\"/>\n",
       "</a>\n",
       "<div class=\"more item mini\"><span>+500</span></div>\n",
       "</div>\n",
       "<span><a href=\"/companies/bunjang/jobs/applicants\">500명 이상이 로켓펀치를 통해 지원</a></span>\n",
       "</div><div class=\"ui divider\"></div>\n",
       "<div class=\"company-jobs-detail\">\n",
       "<div class=\"job-detail\">\n",
       "<div>\n",
       "<a class=\"nowrap job-title primary link\" href=\"/jobs/65114/%EB%B0%B1%EC%97%94%EB%93%9CBack-end-%EA%B0%9C%EB%B0%9C%EC%9E%90\" target=\"_blank\">백엔드(Back-end) 개발자</a>\n",
       "<span class=\"job-stat-info\">3,000 - 10,000만원 / 경력</span>\n",
       "<a data-modal=\"login\" style=\"float:right\"><i class=\"ic-bookmark_outline icon\"></i></a>\n",
       "</div>\n",
       "<div class=\"job-dates\">\n",
       "<span>\n",
       "<i class=\"ic-calendar_new icon\"></i>                수시채용\n",
       "</span><span>                03/06 수정\n",
       "</span></div>\n",
       "</div>\n",
       "<div class=\"ui divider\"></div> <div class=\"job-detail\">\n",
       "<div>\n",
       "<a class=\"nowrap job-title primary link\" href=\"/jobs/62912/Devops-Enginner\" target=\"_blank\">Devops Enginner</a>\n",
       "<span class=\"job-stat-info\">4,000 - 9,000만원 / 경력</span>\n",
       "<a data-modal=\"login\" style=\"float:right\"><i class=\"ic-bookmark_outline icon\"></i></a>\n",
       "</div>\n",
       "<div class=\"job-dates\">\n",
       "<span>\n",
       "<i class=\"ic-calendar_new icon\"></i>                수시채용\n",
       "</span><span>                02/14 수정\n",
       "</span></div>\n",
       "</div>\n",
       "</div>\n",
       "</div>\n",
       "</div>\n",
       "<div class=\"ui inverted divider\"></div><div class=\"company item\" data-company_id=\"85641\">\n",
       "<div class=\"logo image\">\n",
       "<a href=\"/companies/myro/jobs\" target=\"_blank\">\n",
       "<div class=\"ui logo\">\n",
       "<img alt=\"미로 logo\" class=\"ui image\" src=\"https://image.rocketpunch.com/company/85641/myro_logo_1582046164.png?s=100x100&amp;t=inside\"/>\n",
       "</div>\n",
       "</a>\n",
       "</div>\n",
       "<div class=\"content\">\n",
       "<div class=\"ui right floated skip header\">\n",
       "<a data-modal=\"signup\">✕</a>\n",
       "</div>\n",
       "<div class=\"company-name\">\n",
       "<a href=\"/companies/myro/jobs\" target=\"_blank\">\n",
       "<h4 class=\"header name\"> <strong>미로</strong>\n",
       "<small>(MYRO)</small>\n",
       "</h4>\n",
       "</a><a class=\"reference-count\" data-method=\"post\" data-url=\"/api/companies/85641/reference\">\n",
       "<i class=\"ic-thumbup-outline icon\"></i>\n",
       "<span class=\"count\">7</span>\n",
       "</a></div>\n",
       "<div class=\"description\">국내최초 데일리 마감할인 플랫폼 라스트오더를 운영하고 있습니다 </div>\n",
       "<div class=\"nowrap meta\">      IT/서비스\n",
       "</div><div class=\"applicants\">\n",
       "<div class=\"avatar-list\">\n",
       "<div class=\"mini masked item\">?</div><div class=\"mini masked item\">?</div><div class=\"mini masked item\">?</div><div class=\"mini masked item\">?</div>\n",
       "<div class=\"more item mini\"><span>+86</span></div>\n",
       "</div>\n",
       "<span><a href=\"/companies/myro/jobs/applicants\">90명 이상이 로켓펀치를 통해 지원</a></span>\n",
       "</div><div class=\"ui divider\"></div>\n",
       "<div class=\"company-jobs-detail\">\n",
       "<div class=\"job-detail\">\n",
       "<div>\n",
       "<a class=\"nowrap job-title primary link\" href=\"/jobs/65433/%EB%9D%BC%EC%8A%A4%ED%8A%B8%EC%98%A4%EB%8D%94-Restful-API-%EB%8B%B4%EB%8B%B9-%EA%B0%9C%EB%B0%9C%EC%9E%90\" target=\"_blank\">[라스트오더] Restful API 담당 개발자</a>\n",
       "<span class=\"job-stat-info\">4,000 - 7,000만원 / 경력</span>\n",
       "<a data-modal=\"login\" style=\"float:right\"><i class=\"ic-bookmark_outline icon\"></i></a>\n",
       "</div>\n",
       "<div class=\"job-dates\">\n",
       "<span>\n",
       "<i class=\"ic-calendar_new icon\"></i>                04/10 마감\n",
       "</span><span>                03/02 수정\n",
       "</span></div>\n",
       "</div>\n",
       "<div class=\"ui divider\"></div> <div class=\"job-detail\">\n",
       "<div>\n",
       "<a class=\"nowrap job-title primary link\" href=\"/jobs/67569/%EB%9D%BC%EC%8A%A4%ED%8A%B8%EC%98%A4%EB%8D%94-%EB%B0%B1%EC%97%94%EB%93%9C-%EC%9B%B9%ED%94%84%EB%A1%9C%EA%B7%B8%EB%9E%98%EB%A8%B8\" target=\"_blank\">[라스트오더] 백엔드 웹프로그래머</a>\n",
       "<span class=\"job-stat-info\">3,000 - 7,000만원 / 경력</span>\n",
       "<a data-modal=\"login\" style=\"float:right\"><i class=\"ic-bookmark_outline icon\"></i></a>\n",
       "</div>\n",
       "<div class=\"job-dates\">\n",
       "<span>\n",
       "<i class=\"ic-calendar_new icon\"></i>                03/31 마감\n",
       "</span><span>                03/06 수정\n",
       "</span></div>\n",
       "</div>\n",
       "</div>\n",
       "</div>\n",
       "</div>\n",
       "<div class=\"ui inverted divider\"></div><div class=\"company item\" data-company_id=\"6544\">\n",
       "<div class=\"logo image\">\n",
       "<a href=\"/companies/lendit/jobs\" target=\"_blank\">\n",
       "<div class=\"ui logo\">\n",
       "<img alt=\"렌딧 logo\" class=\"ui image\" src=\"https://image.rocketpunch.com/company/6544/lendit_logo_1479286890.jpg?s=100x100&amp;t=inside\"/>\n",
       "</div>\n",
       "</a>\n",
       "</div>\n",
       "<div class=\"content\">\n",
       "<div class=\"ui right floated skip header\">\n",
       "<a data-modal=\"signup\">✕</a>\n",
       "</div>\n",
       "<div class=\"company-name\">\n",
       "<a href=\"/companies/lendit/jobs\" target=\"_blank\">\n",
       "<h4 class=\"header name\"> <strong>렌딧</strong>\n",
       "<small>(LENDIT)</small>\n",
       "</h4>\n",
       "</a><a class=\"reference-count\" data-method=\"post\" data-url=\"/api/companies/6544/reference\">\n",
       "<i class=\"ic-thumbup-outline icon\"></i>\n",
       "<span class=\"count\"></span>\n",
       "</a></div>\n",
       "<div class=\"description\">P2P금융 전문기업 </div>\n",
       "<div class=\"nowrap meta\">      모바일서비스 ∙ 웹서비스 ∙ 마케팅 ∙ 소프트웨어 ∙ 핀테크 ∙ 투자 ∙ p2p금융 ∙ 대출 ∙ 포트폴리오\n",
       "</div><div class=\"applicants\">\n",
       "<div class=\"avatar-list\">\n",
       "<div class=\"mini masked item\">?</div><div class=\"mini masked item\">?</div><div class=\"mini masked item\">?</div><div class=\"mini masked item\">?</div>\n",
       "<div class=\"more item mini\"><span>+39</span></div>\n",
       "</div>\n",
       "<span><a href=\"/companies/lendit/jobs/applicants\">40명 이상이 로켓펀치를 통해 지원</a></span>\n",
       "</div><div class=\"ui divider\"></div>\n",
       "<div class=\"company-jobs-detail\">\n",
       "<div class=\"job-detail\">\n",
       "<div>\n",
       "<a class=\"nowrap job-title primary link\" href=\"/jobs/69041/Backend-Engineer-%EC%A3%BC%EB%8B%88%EC%96%B4\" target=\"_blank\">Backend Engineer 주니어</a>\n",
       "<span class=\"job-stat-info\">신입, 경력</span>\n",
       "<a data-modal=\"login\" style=\"float:right\"><i class=\"ic-bookmark_outline icon\"></i></a>\n",
       "</div>\n",
       "<div class=\"job-dates\">\n",
       "<span>\n",
       "<i class=\"ic-calendar_new icon\"></i>                03/31 마감\n",
       "</span><span>                03/06 수정\n",
       "</span></div>\n",
       "</div>\n",
       "</div>\n",
       "</div>\n",
       "</div>\n",
       "<div class=\"ui inverted divider\"></div></div>\n",
       "<div class=\"ui blank right floated segment\">\n",
       "<div class=\"ui pagination menu\">\n",
       "<a class=\"disabled item\">\n",
       "<i class=\"angle double left icon\"></i>\n",
       "</a>\n",
       "<div class=\"tablet computer large screen widescreen only\">\n",
       "<a class=\"active item\" data-query-add=\"page=1\" href=\"?page=1&amp;q=&amp;specialty=Python&amp;tag=%EB%8D%B0%EC%9D%B4%ED%84%B0%3E\">1</a>\n",
       "<a class=\"item\" data-query-add=\"page=2\" href=\"?page=2&amp;q=&amp;specialty=Python&amp;tag=%EB%8D%B0%EC%9D%B4%ED%84%B0%3E\">2</a>\n",
       "<a class=\"item\" data-query-add=\"page=3\" href=\"?page=3&amp;q=&amp;specialty=Python&amp;tag=%EB%8D%B0%EC%9D%B4%ED%84%B0%3E\">3</a>\n",
       "<a class=\"item\" data-query-add=\"page=4\" href=\"?page=4&amp;q=&amp;specialty=Python&amp;tag=%EB%8D%B0%EC%9D%B4%ED%84%B0%3E\">4</a>\n",
       "<a class=\"item\" data-query-add=\"page=5\" href=\"?page=5&amp;q=&amp;specialty=Python&amp;tag=%EB%8D%B0%EC%9D%B4%ED%84%B0%3E\">5</a>\n",
       "<div class=\"disabled item\">...</div>\n",
       "<a class=\"item\" data-query-add=\"page=12\" href=\"?page=12&amp;q=&amp;specialty=Python&amp;tag=%EB%8D%B0%EC%9D%B4%ED%84%B0%3E\">12</a>\n",
       "</div>\n",
       "<div class=\"mobile only\">\n",
       "<a class=\"active item\" data-query-add=\"page=1\" href=\"?page=1&amp;q=&amp;specialty=Python&amp;tag=%EB%8D%B0%EC%9D%B4%ED%84%B0%3E\">1</a>\n",
       "<a class=\"item\" data-query-add=\"page=2\" href=\"?page=2&amp;q=&amp;specialty=Python&amp;tag=%EB%8D%B0%EC%9D%B4%ED%84%B0%3E\">2</a>\n",
       "<a class=\"item\" data-query-add=\"page=3\" href=\"?page=3&amp;q=&amp;specialty=Python&amp;tag=%EB%8D%B0%EC%9D%B4%ED%84%B0%3E\">3</a>\n",
       "</div>\n",
       "<a class=\"item\" data-query-add=\"page=2\" href=\"?page=2&amp;q=&amp;specialty=Python&amp;tag=%EB%8D%B0%EC%9D%B4%ED%84%B0%3E\">\n",
       "<i class=\"angle double right icon\"></i>\n",
       "</a>\n",
       "</div></div>"
      ]
     },
     "execution_count": 49,
     "metadata": {},
     "output_type": "execute_result"
    }
   ],
   "source": [
    "dom"
   ]
  },
  {
   "cell_type": "code",
   "execution_count": null,
   "metadata": {},
   "outputs": [],
   "source": []
  },
  {
   "cell_type": "code",
   "execution_count": null,
   "metadata": {},
   "outputs": [],
   "source": []
  },
  {
   "cell_type": "code",
   "execution_count": null,
   "metadata": {},
   "outputs": [],
   "source": []
  },
  {
   "cell_type": "code",
   "execution_count": null,
   "metadata": {},
   "outputs": [],
   "source": []
  },
  {
   "cell_type": "code",
   "execution_count": null,
   "metadata": {},
   "outputs": [],
   "source": []
  },
  {
   "cell_type": "code",
   "execution_count": null,
   "metadata": {},
   "outputs": [],
   "source": []
  },
  {
   "cell_type": "code",
   "execution_count": null,
   "metadata": {},
   "outputs": [],
   "source": []
  },
  {
   "cell_type": "code",
   "execution_count": 720,
   "metadata": {
    "scrolled": true
   },
   "outputs": [
    {
     "data": {
      "text/plain": [
       "bs4.BeautifulSoup"
      ]
     },
     "execution_count": 720,
     "metadata": {},
     "output_type": "execute_result"
    }
   ],
   "source": [
    "type(dom)"
   ]
  },
  {
   "cell_type": "code",
   "execution_count": 721,
   "metadata": {},
   "outputs": [
    {
     "data": {
      "text/plain": [
       "scrapy.http.response.text.TextResponse"
      ]
     },
     "execution_count": 721,
     "metadata": {},
     "output_type": "execute_result"
    }
   ],
   "source": [
    "type(response)"
   ]
  },
  {
   "cell_type": "code",
   "execution_count": 708,
   "metadata": {},
   "outputs": [
    {
     "ename": "NotSupported",
     "evalue": "Response content isn't text",
     "output_type": "error",
     "traceback": [
      "\u001b[0;31m---------------------------------------------------------------------------\u001b[0m",
      "\u001b[0;31mNotSupported\u001b[0m                              Traceback (most recent call last)",
      "\u001b[0;32m<ipython-input-708-96c43ffa7365>\u001b[0m in \u001b[0;36m<module>\u001b[0;34m\u001b[0m\n\u001b[0;32m----> 1\u001b[0;31m \u001b[0mresponse\u001b[0m\u001b[0;34m.\u001b[0m\u001b[0mxpath\u001b[0m\u001b[0;34m(\u001b[0m\u001b[0;34m'#company-list > div.company.item.active > div.content.active > div.company-name > a:nth-child(1) > h4'\u001b[0m\u001b[0;34m)\u001b[0m\u001b[0;34m\u001b[0m\u001b[0;34m\u001b[0m\u001b[0m\n\u001b[0m",
      "\u001b[0;32m~/opt/anaconda3/envs/fastcampus/lib/python3.7/site-packages/scrapy/http/response/__init__.py\u001b[0m in \u001b[0;36mxpath\u001b[0;34m(self, *a, **kw)\u001b[0m\n\u001b[1;32m    103\u001b[0m         \u001b[0;32mis\u001b[0m \u001b[0mtext\u001b[0m \u001b[0;34m(\u001b[0m\u001b[0msubclasses\u001b[0m \u001b[0mof\u001b[0m \u001b[0mTextResponse\u001b[0m\u001b[0;34m)\u001b[0m\u001b[0;34m.\u001b[0m\u001b[0;34m\u001b[0m\u001b[0;34m\u001b[0m\u001b[0m\n\u001b[1;32m    104\u001b[0m         \"\"\"\n\u001b[0;32m--> 105\u001b[0;31m         \u001b[0;32mraise\u001b[0m \u001b[0mNotSupported\u001b[0m\u001b[0;34m(\u001b[0m\u001b[0;34m\"Response content isn't text\"\u001b[0m\u001b[0;34m)\u001b[0m\u001b[0;34m\u001b[0m\u001b[0;34m\u001b[0m\u001b[0m\n\u001b[0m\u001b[1;32m    106\u001b[0m \u001b[0;34m\u001b[0m\u001b[0m\n\u001b[1;32m    107\u001b[0m     def follow(self, url, callback=None, method='GET', headers=None, body=None,\n",
      "\u001b[0;31mNotSupported\u001b[0m: Response content isn't text"
     ]
    }
   ],
   "source": [
    "response.xpath('#company-list > div.company.item.active > div.content.active > div.company-name > a:nth-child(1) > h4')"
   ]
  },
  {
   "cell_type": "code",
   "execution_count": null,
   "metadata": {},
   "outputs": [],
   "source": []
  },
  {
   "cell_type": "code",
   "execution_count": 691,
   "metadata": {},
   "outputs": [
    {
     "data": {
      "text/plain": [
       "[<Selector xpath='//*' data='<html><body><p>{\"meta\":{\"code\":200},\"...'>,\n",
       " <Selector xpath='//*' data='<body><p>{\"meta\":{\"code\":200},\"data\":...'>,\n",
       " <Selector xpath='//*' data='<p>{\"meta\":{\"code\":200},\"data\":{\"temp...'>,\n",
       " <Selector xpath='//*' data='<div id=\\'\\\\\"company-list\\\\\"\\' class=\\'\\\\\"u...'>,\n",
       " <Selector xpath='//*' data='<div class=\\'\\\\\"header\\\\\"\\'>\\\\n    <div cl...'>,\n",
       " <Selector xpath='//*' data='<div class=\\'\\\\\"ui\\' right floated heade...'>,\n",
       " <Selector xpath='//*' data='<a data-query-add=\\'\\\\\"sort=recent\\\\\"\\' h...'>,\n",
       " <Selector xpath='//*' data='<div class=\\'\\\\\"separator\\\\\"\\'></div>'>,\n",
       " <Selector xpath='//*' data='<a data-query-add=\\'\\\\\"sort=ranking\\\\\"\\' ...'>,\n",
       " <Selector xpath='//*' data='<div class=\\'\\\\\"separator\\\\\"\\'></div>'>,\n",
       " <Selector xpath='//*' data='<a data-query-add=\\'\\\\\"sort=salary\\\\\"\\' h...'>,\n",
       " <Selector xpath='//*' data='<h2 class=\\'\\\\\"ui\\' left header style=\\'\\\\...'>,\n",
       " <Selector xpath='//*' data='<span class=\\'\\\\\"desc\\\\\"\\'>검색 결과</span>'>,\n",
       " <Selector xpath='//*' data='<span class=\\'\\\\\"count\\\\\"\\'>311</span>'>,\n",
       " <Selector xpath='//*' data='<div class=\\'\\\\\"separator\\\\\"\\'></div>'>,\n",
       " <Selector xpath='//*' data='<span class=\\'\\\\\"filter-summary\\\\\"\\'>데이터&...'>,\n",
       " <Selector xpath='//*' data='<div class=\\'\\\\\"ui\\' inverted divider></...'>,\n",
       " <Selector xpath='//*' data='<div style=\\'\\\\\"text-align:center;\\\\\"\\'>조...'>,\n",
       " <Selector xpath='//*' data='<br>'>,\n",
       " <Selector xpath='//*' data='<div class=\\'\\\\\"ui\\' inverted divider></...'>,\n",
       " <Selector xpath='//*' data='<div class=\\'\\\\\"ui\\' blank right floated...'>,\n",
       " <Selector xpath='//*' data='<div class=\\'\\\\\"ui\\' pagination menu>\\\\n ...'>,\n",
       " <Selector xpath='//*' data='<a class=\\'\\\\\"disabled\\' item>\\\\n      <i...'>,\n",
       " <Selector xpath='//*' data='<i class=\\'\\\\\"angle\\' double left icon></i>'>,\n",
       " <Selector xpath='//*' data='<div class=\\'\\\\\"tablet\\' computer large ...'>,\n",
       " <Selector xpath='//*' data='<a class=\\'\\\\\"item\\\\\"\\' data-query-add=\\'\\\\...'>,\n",
       " <Selector xpath='//*' data='<a class=\\'\\\\\"item\\\\\"\\' data-query-add=\\'\\\\...'>,\n",
       " <Selector xpath='//*' data='<a class=\\'\\\\\"item\\\\\"\\' data-query-add=\\'\\\\...'>,\n",
       " <Selector xpath='//*' data='<a class=\\'\\\\\"item\\\\\"\\' data-query-add=\\'\\\\...'>,\n",
       " <Selector xpath='//*' data='<a class=\\'\\\\\"item\\\\\"\\' data-query-add=\\'\\\\...'>,\n",
       " <Selector xpath='//*' data='<div class=\\'\\\\\"disabled\\' item>...</div>'>,\n",
       " <Selector xpath='//*' data='<a class=\\'\\\\\"item\\\\\"\\' data-query-add=\\'\\\\...'>,\n",
       " <Selector xpath='//*' data='<div class=\\'\\\\\"mobile\\' only>\\\\n      <a...'>,\n",
       " <Selector xpath='//*' data='<a class=\\'\\\\\"active\\' item data-query-a...'>,\n",
       " <Selector xpath='//*' data='<a class=\\'\\\\\"item\\\\\"\\' data-query-add=\\'\\\\...'>,\n",
       " <Selector xpath='//*' data='<a class=\\'\\\\\"item\\\\\"\\' data-query-add=\\'\\\\...'>,\n",
       " <Selector xpath='//*' data='<a class=\\'\\\\\"disabled\\' item>\\\\n      <i...'>,\n",
       " <Selector xpath='//*' data='<i class=\\'\\\\\"angle\\' double right icon>...'>]"
      ]
     },
     "execution_count": 691,
     "metadata": {},
     "output_type": "execute_result"
    }
   ],
   "source": [
    "response.xpath('//*')"
   ]
  },
  {
   "cell_type": "code",
   "execution_count": 1,
   "metadata": {},
   "outputs": [],
   "source": [
    "data = pd.read_csv('test.csv')"
   ]
  },
  {
   "cell_type": "code",
   "execution_count": null,
   "metadata": {},
   "outputs": [],
   "source": []
  },
  {
   "cell_type": "code",
   "execution_count": null,
   "metadata": {},
   "outputs": [],
   "source": []
  },
  {
   "cell_type": "code",
   "execution_count": 51,
   "metadata": {},
   "outputs": [],
   "source": [
    "req = requests.get(\"http://www.jobkorea.co.kr/Search/?stext=%EB%8D%B0%EC%9D%B4%ED%84%B0%20%EB%B6%84%EC%84%9D&careerType=1&tabType=recruit&Page_No=1\")\n",
    "response = TextResponse(req.url, body=req.text, encoding='utf8')"
   ]
  },
  {
   "cell_type": "code",
   "execution_count": 64,
   "metadata": {},
   "outputs": [
    {
     "data": {
      "text/plain": [
       "[]"
      ]
     },
     "execution_count": 64,
     "metadata": {},
     "output_type": "execute_result"
    }
   ],
   "source": [
    "response.xpath('//*[@id=\"dev_contents\"]/div')"
   ]
  },
  {
   "cell_type": "code",
   "execution_count": null,
   "metadata": {},
   "outputs": [],
   "source": []
  },
  {
   "cell_type": "markdown",
   "metadata": {},
   "source": [
    "# 잡코리아 크롤링\n",
    "- 무조건 xpath 사용해서!!\n"
   ]
  },
  {
   "cell_type": "markdown",
   "metadata": {},
   "source": [
    "조건 : 신입"
   ]
  },
  {
   "cell_type": "code",
   "execution_count": 2,
   "metadata": {},
   "outputs": [],
   "source": [
    "import scrapy\n",
    "from scrapy.http import TextResponse"
   ]
  },
  {
   "cell_type": "code",
   "execution_count": 260,
   "metadata": {},
   "outputs": [
    {
     "data": {
      "text/plain": [
       "'3/16마감'"
      ]
     },
     "execution_count": 260,
     "metadata": {},
     "output_type": "execute_result"
    }
   ],
   "source": [
    "# deadline 계산기 : 노 필요\n",
    "import time\n",
    "from datetime import date,timedelta\n",
    "today = date.today()\n",
    "deadline_date = today + timedelta(5)\n",
    "\"{}/{}마감\".format(deadline_date.month,deadline_date.day)"
   ]
  },
  {
   "cell_type": "code",
   "execution_count": null,
   "metadata": {},
   "outputs": [],
   "source": [
    "http://www.jobkorea.co.kr/Search/?stext=데이터%분석&careerType=1"
   ]
  },
  {
   "cell_type": "code",
   "execution_count": null,
   "metadata": {},
   "outputs": [],
   "source": []
  },
  {
   "cell_type": "code",
   "execution_count": 178,
   "metadata": {},
   "outputs": [],
   "source": [
    "# 전체 리스트 페이지 가져오기\n",
    "req = requests.get(\"http://www.jobkorea.co.kr/Search/?stext=%EB%8D%B0%EC%9D%B4%ED%84%B0&careerType=1&tabType=recruit&Page_No=3\")\n",
    "response = TextResponse(req.url, body=req.text, encoding=\"utf-8\")"
   ]
  },
  {
   "cell_type": "code",
   "execution_count": 56,
   "metadata": {},
   "outputs": [
    {
     "data": {
      "text/plain": [
       "31"
      ]
     },
     "execution_count": 56,
     "metadata": {},
     "output_type": "execute_result"
    }
   ],
   "source": [
    "int(response.xpath('//*[@id=\"content\"]/div/div/div[1]/div/div[2]/div[2]/div/div[3]/ul/li[2]/span/text()')[0].extract())"
   ]
  },
  {
   "cell_type": "code",
   "execution_count": 179,
   "metadata": {
    "scrolled": true
   },
   "outputs": [
    {
     "data": {
      "text/plain": [
       "['/Recruit/GI_Read/31189315?Oem_Code=C1&logpath=1',\n",
       " '/Recruit/GI_Read/31132512?Oem_Code=C1&logpath=1',\n",
       " '/Recruit/GI_Read/31131358?Oem_Code=C1&logpath=1',\n",
       " '/Recruit/GI_Read/31122388?Oem_Code=C1&logpath=1',\n",
       " '/Recruit/GI_Read/31112346?Oem_Code=C1&logpath=1',\n",
       " '/Recruit/GI_Read/30824502?Oem_Code=C1&logpath=1',\n",
       " '/Recruit/GI_Read/31318086?Oem_Code=C1&logpath=1',\n",
       " '/Recruit/GI_Read/31306380?Oem_Code=C1&logpath=1',\n",
       " '/Recruit/GI_Read/31285220?Oem_Code=C1&logpath=1',\n",
       " '/Recruit/GI_Read/31285140?Oem_Code=C1&logpath=1',\n",
       " '/Recruit/GI_Read/31213476?Oem_Code=C1&logpath=1',\n",
       " '/Recruit/GI_Read/31266023?Oem_Code=C1&logpath=1',\n",
       " '/Recruit/GI_Read/31304844?Oem_Code=C1&logpath=1',\n",
       " '/Recruit/GI_Read/31293312?Oem_Code=C1&logpath=1',\n",
       " '/Recruit/GI_Read/31202014?Oem_Code=C1&logpath=1',\n",
       " '/Recruit/GI_Read/31284335?Oem_Code=C1&logpath=1',\n",
       " '/Recruit/GI_Read/31263075?Oem_Code=C1&logpath=1',\n",
       " '/Recruit/GI_Read/31204423?Oem_Code=C1&logpath=1',\n",
       " '/Recruit/GI_Read/30676979?Oem_Code=C1&logpath=1',\n",
       " '/Recruit/GI_Read/31320583?Oem_Code=C1&logpath=1']"
      ]
     },
     "execution_count": 179,
     "metadata": {},
     "output_type": "execute_result"
    }
   ],
   "source": [
    "# 각 공고별 링크 불러오기\n",
    "links = response.xpath('//*[@id=\"content\"]/div/div/div[1]/div/div[2]/div[2]/div/div[1]/ul/li/div/div[2]/a/@href').extract()\n",
    "links"
   ]
  },
  {
   "cell_type": "code",
   "execution_count": null,
   "metadata": {},
   "outputs": [],
   "source": []
  },
  {
   "cell_type": "code",
   "execution_count": 42,
   "metadata": {},
   "outputs": [],
   "source": [
    "# 링크에서 공고하나 선택\n",
    "url = links[]\n",
    "req = requests.get(\"http://www.jobkorea.co.kr//List_GI/GIB_Read.asp?GI_No=1739921&siteCode=WN\")\n",
    "response = TextResponse(req.url,body=req.text,encoding='utf-8')"
   ]
  },
  {
   "cell_type": "code",
   "execution_count": null,
   "metadata": {},
   "outputs": [],
   "source": []
  },
  {
   "cell_type": "code",
   "execution_count": 180,
   "metadata": {},
   "outputs": [],
   "source": [
    "links = [\"http://www.jobkorea.co.kr\" + link for link in links if \"gamejob.co.kr\" not in link if \"&siteCode=WN\" not in link]   "
   ]
  },
  {
   "cell_type": "code",
   "execution_count": 181,
   "metadata": {},
   "outputs": [
    {
     "data": {
      "text/plain": [
       "['http://www.jobkorea.co.kr/Recruit/GI_Read/31189315?Oem_Code=C1&logpath=1',\n",
       " 'http://www.jobkorea.co.kr/Recruit/GI_Read/31132512?Oem_Code=C1&logpath=1',\n",
       " 'http://www.jobkorea.co.kr/Recruit/GI_Read/31131358?Oem_Code=C1&logpath=1',\n",
       " 'http://www.jobkorea.co.kr/Recruit/GI_Read/31122388?Oem_Code=C1&logpath=1',\n",
       " 'http://www.jobkorea.co.kr/Recruit/GI_Read/31112346?Oem_Code=C1&logpath=1',\n",
       " 'http://www.jobkorea.co.kr/Recruit/GI_Read/30824502?Oem_Code=C1&logpath=1',\n",
       " 'http://www.jobkorea.co.kr/Recruit/GI_Read/31318086?Oem_Code=C1&logpath=1',\n",
       " 'http://www.jobkorea.co.kr/Recruit/GI_Read/31306380?Oem_Code=C1&logpath=1',\n",
       " 'http://www.jobkorea.co.kr/Recruit/GI_Read/31285220?Oem_Code=C1&logpath=1',\n",
       " 'http://www.jobkorea.co.kr/Recruit/GI_Read/31285140?Oem_Code=C1&logpath=1',\n",
       " 'http://www.jobkorea.co.kr/Recruit/GI_Read/31213476?Oem_Code=C1&logpath=1',\n",
       " 'http://www.jobkorea.co.kr/Recruit/GI_Read/31266023?Oem_Code=C1&logpath=1',\n",
       " 'http://www.jobkorea.co.kr/Recruit/GI_Read/31304844?Oem_Code=C1&logpath=1',\n",
       " 'http://www.jobkorea.co.kr/Recruit/GI_Read/31293312?Oem_Code=C1&logpath=1',\n",
       " 'http://www.jobkorea.co.kr/Recruit/GI_Read/31202014?Oem_Code=C1&logpath=1',\n",
       " 'http://www.jobkorea.co.kr/Recruit/GI_Read/31284335?Oem_Code=C1&logpath=1',\n",
       " 'http://www.jobkorea.co.kr/Recruit/GI_Read/31263075?Oem_Code=C1&logpath=1',\n",
       " 'http://www.jobkorea.co.kr/Recruit/GI_Read/31204423?Oem_Code=C1&logpath=1',\n",
       " 'http://www.jobkorea.co.kr/Recruit/GI_Read/30676979?Oem_Code=C1&logpath=1',\n",
       " 'http://www.jobkorea.co.kr/Recruit/GI_Read/31320583?Oem_Code=C1&logpath=1']"
      ]
     },
     "execution_count": 181,
     "metadata": {},
     "output_type": "execute_result"
    }
   ],
   "source": [
    "links"
   ]
  },
  {
   "cell_type": "code",
   "execution_count": 124,
   "metadata": {
    "scrolled": true
   },
   "outputs": [
    {
     "name": "stdout",
     "output_type": "stream",
     "text": [
      "㈜원트리즈뮤직\n",
      "국진하우징\n",
      "한국종합환경산업㈜\n",
      "㈜아톤\n",
      "㈜다름테크\n",
      "리프에이치앤에스\n",
      "리드커리어 주식회사\n",
      "㈜아이티고\n",
      "㈜수호아이티\n",
      "㈜컴일일구넷\n",
      "㈜컴일일구넷\n",
      "Dream T&S\n",
      "㈜라인플러스\n",
      "그린케미칼㈜\n",
      "㈜연합인포맥스\n",
      "현대케피코\n",
      "㈜이루온\n",
      "와디즈플랫폼㈜\n",
      "㈜쁘띠엘린\n",
      "㈜이스트소프트\n"
     ]
    }
   ],
   "source": [
    "for link in links:\n",
    "    req = requests.get(link)\n",
    "    response = TextResponse(req.url,body=req.text,encoding='utf-8')\n",
    "    try:\n",
    "        print(response.xpath('//*[@id=\"container\"]/section/div/article/div[1]/h3/span/text()')[0].extract().strip(),end=\"\\n\")\n",
    "    except:\n",
    "        print('error',end='\\n')"
   ]
  },
  {
   "cell_type": "code",
   "execution_count": 185,
   "metadata": {},
   "outputs": [],
   "source": [
    "req = requests.get(links[0])\n",
    "response = TextResponse(req.url,body=req.text,encoding='utf-8')"
   ]
  },
  {
   "cell_type": "code",
   "execution_count": 187,
   "metadata": {},
   "outputs": [
    {
     "data": {
      "text/plain": [
       "'㈜원트리즈뮤직'"
      ]
     },
     "execution_count": 187,
     "metadata": {},
     "output_type": "execute_result"
    }
   ],
   "source": [
    "# 1. company name\n",
    "company_name = response.xpath('//*[@id=\"container\"]/section/div/article/div[1]/h3/span/text()')[0].extract().strip()\n",
    "company_name"
   ]
  },
  {
   "cell_type": "code",
   "execution_count": 191,
   "metadata": {},
   "outputs": [
    {
     "name": "stdout",
     "output_type": "stream",
     "text": [
      "03.29\n",
      "03.31\n",
      "03.22\n",
      "03.21\n",
      "03.20\n",
      "상시 채용\n",
      "06.14\n",
      "06.11\n",
      "06.09\n",
      "06.09\n",
      "06.01\n",
      "03.31\n",
      "03.29\n",
      "03.17\n",
      "03.31\n",
      "03.18\n",
      "03.26\n",
      "03.31\n",
      "상시 채용\n",
      "03.22\n"
     ]
    }
   ],
   "source": [
    "for link in links:\n",
    "    req = requests.get(link)\n",
    "    response = TextResponse(req.url,body=req.text,encoding='utf-8')\n",
    "    try:\n",
    "        dead_line = response.xpath('//*[@id=\"tab02\"]/div/article[1]/div/dl[2]/dd[2]/span/text()')[0].extract()[5:]\n",
    "        print(dead_line)\n",
    "    except:\n",
    "        print(\"상시 채용\")"
   ]
  },
  {
   "cell_type": "code",
   "execution_count": 192,
   "metadata": {},
   "outputs": [],
   "source": [
    "import datetime"
   ]
  },
  {
   "cell_type": "code",
   "execution_count": 200,
   "metadata": {},
   "outputs": [
    {
     "data": {
      "text/plain": [
       "<module 'datetime' from '/Users/yoohowon/opt/anaconda3/envs/fastcampus/lib/python3.7/datetime.py'>"
      ]
     },
     "execution_count": 200,
     "metadata": {},
     "output_type": "execute_result"
    }
   ],
   "source": [
    "datetime"
   ]
  },
  {
   "cell_type": "code",
   "execution_count": 188,
   "metadata": {},
   "outputs": [
    {
     "name": "stdout",
     "output_type": "stream",
     "text": [
      "03.29\n"
     ]
    }
   ],
   "source": [
    "# 2. deadline\n",
    "try:\n",
    "    dead_line = response.xpath('//*[@id=\"tab02\"]/div/article[1]/div/dl[2]/dd[2]/span/text()')[0].extract()[5:]\n",
    "    print(dead_line)\n",
    "except:\n",
    "    print(\"상시 채용\")"
   ]
  },
  {
   "cell_type": "code",
   "execution_count": 129,
   "metadata": {},
   "outputs": [
    {
     "ename": "IndexError",
     "evalue": "list index out of range",
     "output_type": "error",
     "traceback": [
      "\u001b[0;31m---------------------------------------------------------------------------\u001b[0m",
      "\u001b[0;31mIndexError\u001b[0m                                Traceback (most recent call last)",
      "\u001b[0;32m<ipython-input-129-72e72e856e65>\u001b[0m in \u001b[0;36m<module>\u001b[0;34m\u001b[0m\n\u001b[1;32m      3\u001b[0m \u001b[0mreq\u001b[0m \u001b[0;34m=\u001b[0m \u001b[0mrequests\u001b[0m\u001b[0;34m.\u001b[0m\u001b[0mget\u001b[0m\u001b[0;34m(\u001b[0m\u001b[0murl\u001b[0m\u001b[0;34m)\u001b[0m\u001b[0;34m\u001b[0m\u001b[0;34m\u001b[0m\u001b[0m\n\u001b[1;32m      4\u001b[0m \u001b[0mresponse_detail_page\u001b[0m \u001b[0;34m=\u001b[0m \u001b[0mTextResponse\u001b[0m\u001b[0;34m(\u001b[0m\u001b[0mreq\u001b[0m\u001b[0;34m.\u001b[0m\u001b[0murl\u001b[0m\u001b[0;34m,\u001b[0m\u001b[0mbody\u001b[0m\u001b[0;34m=\u001b[0m\u001b[0mreq\u001b[0m\u001b[0;34m.\u001b[0m\u001b[0mtext\u001b[0m\u001b[0;34m,\u001b[0m\u001b[0mencoding\u001b[0m\u001b[0;34m=\u001b[0m\u001b[0;34m'utf-8'\u001b[0m\u001b[0;34m)\u001b[0m\u001b[0;34m\u001b[0m\u001b[0;34m\u001b[0m\u001b[0m\n\u001b[0;32m----> 5\u001b[0;31m \u001b[0mresponse_detail_page\u001b[0m\u001b[0;34m.\u001b[0m\u001b[0mxpath\u001b[0m\u001b[0;34m(\u001b[0m\u001b[0;34m'//*[@id=\"company-body\"]/div[1]/div[1]/div/div/div[9]/div[2]/div/div/text()'\u001b[0m\u001b[0;34m)\u001b[0m\u001b[0;34m[\u001b[0m\u001b[0;36m0\u001b[0m\u001b[0;34m]\u001b[0m\u001b[0;34m.\u001b[0m\u001b[0mextract\u001b[0m\u001b[0;34m(\u001b[0m\u001b[0;34m)\u001b[0m\u001b[0;34m\u001b[0m\u001b[0;34m\u001b[0m\u001b[0m\n\u001b[0m",
      "\u001b[0;32m~/opt/anaconda3/envs/fastcampus/lib/python3.7/site-packages/parsel/selector.py\u001b[0m in \u001b[0;36m__getitem__\u001b[0;34m(self, pos)\u001b[0m\n\u001b[1;32m     59\u001b[0m \u001b[0;34m\u001b[0m\u001b[0m\n\u001b[1;32m     60\u001b[0m     \u001b[0;32mdef\u001b[0m \u001b[0m__getitem__\u001b[0m\u001b[0;34m(\u001b[0m\u001b[0mself\u001b[0m\u001b[0;34m,\u001b[0m \u001b[0mpos\u001b[0m\u001b[0;34m)\u001b[0m\u001b[0;34m:\u001b[0m\u001b[0;34m\u001b[0m\u001b[0;34m\u001b[0m\u001b[0m\n\u001b[0;32m---> 61\u001b[0;31m         \u001b[0mo\u001b[0m \u001b[0;34m=\u001b[0m \u001b[0msuper\u001b[0m\u001b[0;34m(\u001b[0m\u001b[0mSelectorList\u001b[0m\u001b[0;34m,\u001b[0m \u001b[0mself\u001b[0m\u001b[0;34m)\u001b[0m\u001b[0;34m.\u001b[0m\u001b[0m__getitem__\u001b[0m\u001b[0;34m(\u001b[0m\u001b[0mpos\u001b[0m\u001b[0;34m)\u001b[0m\u001b[0;34m\u001b[0m\u001b[0;34m\u001b[0m\u001b[0m\n\u001b[0m\u001b[1;32m     62\u001b[0m         \u001b[0;32mreturn\u001b[0m \u001b[0mself\u001b[0m\u001b[0;34m.\u001b[0m\u001b[0m__class__\u001b[0m\u001b[0;34m(\u001b[0m\u001b[0mo\u001b[0m\u001b[0;34m)\u001b[0m \u001b[0;32mif\u001b[0m \u001b[0misinstance\u001b[0m\u001b[0;34m(\u001b[0m\u001b[0mpos\u001b[0m\u001b[0;34m,\u001b[0m \u001b[0mslice\u001b[0m\u001b[0;34m)\u001b[0m \u001b[0;32melse\u001b[0m \u001b[0mo\u001b[0m\u001b[0;34m\u001b[0m\u001b[0;34m\u001b[0m\u001b[0m\n\u001b[1;32m     63\u001b[0m \u001b[0;34m\u001b[0m\u001b[0m\n",
      "\u001b[0;31mIndexError\u001b[0m: list index out of range"
     ]
    }
   ],
   "source": [
    "# 3. business\n",
    "url = \"http://www.jobkorea.co.kr\" + response.xpath('//*/article[contains(@class, \"artReadCoInfo\") and contains(@class, \"divReadBx\")]/div/div/p/a/@href')[0].extract()\n",
    "req = requests.get(url)\n",
    "response_detail_page = TextResponse(req.url,body=req.text,encoding='utf-8')\n",
    "response_detail_page.xpath('//*[@id=\"company-body\"]/div[1]/div[1]/div/div/div[9]/div[2]/div/div/text()')[0].extract()"
   ]
  },
  {
   "cell_type": "code",
   "execution_count": 130,
   "metadata": {
    "scrolled": true
   },
   "outputs": [
    {
     "data": {
      "text/plain": [
       "'응용 소프트웨어 개발 및 공급업'"
      ]
     },
     "execution_count": 130,
     "metadata": {},
     "output_type": "execute_result"
    }
   ],
   "source": [
    "response.xpath('//*[@id=\"container\"]/section/div/article/div[2]/div[3]/dl/dd/text()')[0].extract().strip()"
   ]
  },
  {
   "cell_type": "code",
   "execution_count": 131,
   "metadata": {},
   "outputs": [
    {
     "name": "stdout",
     "output_type": "stream",
     "text": [
      "http://www.jobkorea.co.kr/Recruit/GI_Read/31189315?Oem_Code=C1&logpath=1\n"
     ]
    }
   ],
   "source": [
    "# 4. link\n",
    "print(links[0])"
   ]
  },
  {
   "cell_type": "code",
   "execution_count": 132,
   "metadata": {},
   "outputs": [
    {
     "data": {
      "text/plain": [
       "'2020 이스트소프트 상반기 온라인공채'"
      ]
     },
     "execution_count": 132,
     "metadata": {},
     "output_type": "execute_result"
    }
   ],
   "source": [
    "# 5. position\n",
    "response.xpath('//*[@id=\"container\"]/section/div/article/div[1]/h3/text()')[1].extract().strip()"
   ]
  },
  {
   "cell_type": "code",
   "execution_count": 133,
   "metadata": {},
   "outputs": [
    {
     "name": "stdout",
     "output_type": "stream",
     "text": [
      "0\n"
     ]
    }
   ],
   "source": [
    "# 6. job_condition\n",
    "try:\n",
    "    job_condition = response_detail_page.xpath('//*[@id=\"company-body\"]/div[1]/div[1]/div/div/div[8]/div[2]/div/div/div/div/text()')[0].extract()\n",
    "    print(job_condition)\n",
    "except:\n",
    "    print(0)"
   ]
  },
  {
   "cell_type": "code",
   "execution_count": 134,
   "metadata": {},
   "outputs": [
    {
     "data": {
      "text/plain": [
       "[<Selector xpath='//*[@id=\"container\"]/section/div/article/div[2]/div[2]/dl/dd[2]/text()' data='\\r\\n                                '>,\n",
       " <Selector xpath='//*[@id=\"container\"]/section/div/article/div[2]/div[2]/dl/dd[2]/text()' data=' 회사내규에 따름 \\r\\n                         ...'>]"
      ]
     },
     "execution_count": 134,
     "metadata": {},
     "output_type": "execute_result"
    }
   ],
   "source": [
    "response.xpath('//*[@id=\"container\"]/section/div/article/div[2]/div[2]/dl/dd[2]/text()')"
   ]
  },
  {
   "cell_type": "code",
   "execution_count": 135,
   "metadata": {},
   "outputs": [],
   "source": [
    "import pymongo\n",
    "\n",
    "client = pymongo.MongoClient('mongodb://15.164.136.109:27017')\n",
    "db = client.job_position_crawler\n",
    "collection = db.job_position"
   ]
  },
  {
   "cell_type": "code",
   "execution_count": 52,
   "metadata": {},
   "outputs": [
    {
     "data": {
      "text/plain": [
       "Collection(Database(MongoClient(host=['15.164.136.109:27017'], document_class=dict, tz_aware=False, connect=True), 'job_position_crawler'), 'job_position')"
      ]
     },
     "execution_count": 52,
     "metadata": {},
     "output_type": "execute_result"
    }
   ],
   "source": [
    "collection"
   ]
  },
  {
   "cell_type": "code",
   "execution_count": null,
   "metadata": {},
   "outputs": [],
   "source": []
  },
  {
   "cell_type": "code",
   "execution_count": 289,
   "metadata": {},
   "outputs": [
    {
     "data": {
      "text/plain": [
       "[]"
      ]
     },
     "execution_count": 289,
     "metadata": {},
     "output_type": "execute_result"
    }
   ],
   "source": [
    "response.xpath('//*[@id=\"dev_contents\"]/div[2]/div[1]')"
   ]
  },
  {
   "cell_type": "code",
   "execution_count": 136,
   "metadata": {},
   "outputs": [
    {
     "data": {
      "text/plain": [
       "'기획·전략·경영, 기획, 기획조사, 변화관리, 사업기획, 신규사업·BD, 전략, COO, MBA, 인사·노무·교육, 인사통합, 인재개발, 인사기획, 인사, MBO, HRD, PHR·국제인사, 제품·서비스영업, IT·솔루션·기술영업, 기술영업, 신기술영업, 솔루션영업, 기술지원, 웹사이트구축영업, 시스템영업, 네트워크영업, 법인영업, 법인영업, 납품영업, 장비영업, DBA·데이터베이스, Oracle, SQL, 데이터베이스, DB2, DBA, MySQL, OCP, OLAP, Sybase, 데이터마이닝, 네트워크·서버·보안, Linux, 네트워크엔지니어, 보안관제, 서버관리자, 서버구축, 시스템운영, 정보보안, MCSE, Windows, 웹기획·PM, 통계·로그분석, 제안·컨설팅, 웹서비스기획, 사용자평가, 모바일기획, 웹기획, 웹PD, 컨텐츠기획, UI설계, PM, 웹마케팅, 바이럴마케팅, 키워드광고, 웹마케팅, 소셜마케팅, 웹프로모션, 웹프로그래머, 웹프로그래머, AJAX, asp, ASP.NET, cgi, Java, jsp, mHTML, SCJP, VB.NET, VRML, 응용프로그래머, .NET, 아이폰, 안드로이드, 응용프로그래머, 증강현실, ActiveX, Application, C, C++, C++Builder, CTI, SAP, VoIP, WindowsMobile, 시스템프로그래머, 어셈블리, 임베디드, HMI, HTML·퍼블리싱·UI개발, 웹퍼블리셔, 웹접근성, 자바스크립트, CSS, 웹표준, UI·UX, 솔루션·SI·CRM·ERP, 서울 > 서초구'"
      ]
     },
     "execution_count": 136,
     "metadata": {},
     "output_type": "execute_result"
    }
   ],
   "source": [
    "# 7. keyword\n",
    "keyword = \", \".join(response.xpath('//*[@id=\"artKeywordSearch\"]/ul/li/button/text()').extract())\n",
    "keyword"
   ]
  },
  {
   "cell_type": "code",
   "execution_count": 137,
   "metadata": {},
   "outputs": [
    {
     "data": {
      "text/plain": [
       "'서울시 서초구'"
      ]
     },
     "execution_count": 137,
     "metadata": {},
     "output_type": "execute_result"
    }
   ],
   "source": [
    "# 8. location\n",
    "\",\".join(response.xpath('//*[@id=\"container\"]/section/div/article/div[2]/div/dl/dd/a/text()').extract())"
   ]
  },
  {
   "cell_type": "code",
   "execution_count": 138,
   "metadata": {
    "scrolled": false
   },
   "outputs": [
    {
     "name": "stdout",
     "output_type": "stream",
     "text": [
      "2,600========3,000========회사 내규에 따름========회사 내규에 따름========회사 내규에 따름========400~450========207========90,000========2,400~3,000========350~500========400~500========회사 내규에 따름========회사 내규에 따름========회사 내규에 따름========회사 내규에 따름========회사 내규에 따름========회사 내규에 따름========회사 내규에 따름========회사 내규에 따름========회사 내규에 따름========"
     ]
    }
   ],
   "source": [
    "for i in range(0,20):\n",
    "    time.sleep(2)\n",
    "    url = links[i]\n",
    "    req = requests.get(url)\n",
    "    response = TextResponse(req.url,body=req.text,encoding='utf-8')\n",
    "    result = \" \".join(response.xpath('//*[@id=\"container\"]/section/div/article/div[2]/div[2]/dl/dd/span[@class=\"tahoma\"]/text()').extract()).strip().split(\" \")[0]\n",
    "    if len(result) <= 2:\n",
    "        result = \"회사 내규에 따름\"\n",
    "        print(result, end=\"========\")\n",
    "    else:\n",
    "        print(result, end=\"========\")"
   ]
  },
  {
   "cell_type": "code",
   "execution_count": null,
   "metadata": {},
   "outputs": [],
   "source": []
  },
  {
   "cell_type": "code",
   "execution_count": 389,
   "metadata": {},
   "outputs": [
    {
     "data": {
      "text/plain": [
       "'5'"
      ]
     },
     "execution_count": 389,
     "metadata": {},
     "output_type": "execute_result"
    }
   ],
   "source": [
    "result = \" \".join(response.xpath('//*[@id=\"container\"]/section/div/article/div[2]/div[2]/dl/dd/span[@class=\"tahoma\"]/text()').extract()).strip().split(\" \")[0]\n",
    "result"
   ]
  },
  {
   "cell_type": "code",
   "execution_count": null,
   "metadata": {},
   "outputs": [],
   "source": [
    "if len(result) =< 2:\n",
    "    result = \"회사 내규에 따름\"\n",
    "else:\n",
    "    print(result)"
   ]
  },
  {
   "cell_type": "code",
   "execution_count": 380,
   "metadata": {},
   "outputs": [
    {
     "data": {
      "text/plain": [
       "'서울시 강남구 중구 5 09:30~18:30'"
      ]
     },
     "execution_count": 380,
     "metadata": {},
     "output_type": "execute_result"
    }
   ],
   "source": [
    "\" \".join(response.xpath('//*[@id=\"container\"]/section/div/article/div[2]/div[2]/dl/dd/*/text()').extract()).strip()"
   ]
  },
  {
   "cell_type": "code",
   "execution_count": 360,
   "metadata": {},
   "outputs": [],
   "source": [
    "result = \" \".join(response.xpath('//*[@id=\"container\"]/section/div/article/div[2]/div[2]/dl/dd[2]/*/text()').extract())\n",
    "if not result:\n",
    "    result = \"회사 내규에 따름\""
   ]
  },
  {
   "cell_type": "code",
   "execution_count": null,
   "metadata": {},
   "outputs": [],
   "source": []
  },
  {
   "cell_type": "code",
   "execution_count": 361,
   "metadata": {},
   "outputs": [
    {
     "data": {
      "text/plain": [
       "'회사 내규에 따름'"
      ]
     },
     "execution_count": 361,
     "metadata": {},
     "output_type": "execute_result"
    }
   ],
   "source": [
    "result"
   ]
  },
  {
   "cell_type": "code",
   "execution_count": null,
   "metadata": {},
   "outputs": [],
   "source": [
    "  try:\n",
    "            item[\"salary_condition\"] = response_detail_page.xpath('//*[@id=\"company-body\"]/div[1]/div[1]/div/div/div[8]/div[2]/div/div/div/div/text()')[0].extract()\n",
    "        except:\n",
    "            item[\"salary_condition\"] = \"회사 내규에 따름 - 연봉 협의\""
   ]
  },
  {
   "cell_type": "code",
   "execution_count": null,
   "metadata": {},
   "outputs": [],
   "source": []
  },
  {
   "cell_type": "code",
   "execution_count": null,
   "metadata": {},
   "outputs": [],
   "source": []
  },
  {
   "cell_type": "code",
   "execution_count": null,
   "metadata": {},
   "outputs": [],
   "source": []
  },
  {
   "cell_type": "code",
   "execution_count": null,
   "metadata": {},
   "outputs": [],
   "source": []
  },
  {
   "cell_type": "code",
   "execution_count": null,
   "metadata": {},
   "outputs": [],
   "source": []
  },
  {
   "cell_type": "code",
   "execution_count": 258,
   "metadata": {},
   "outputs": [],
   "source": [
    "# BeautifulSoup dom"
   ]
  },
  {
   "cell_type": "code",
   "execution_count": 21,
   "metadata": {},
   "outputs": [],
   "source": [
    "# page_no를 돌려라\n",
    "req = requests.get(\"http://www.jobkorea.co.kr/Search/?stext=%EB%8D%B0%EC%9D%B4%ED%84%B0&careerType=1&tabType=recruit&Page_No=1\")\n",
    "dom = BeautifulSoup(req.text, \"html.parser\")"
   ]
  },
  {
   "cell_type": "code",
   "execution_count": 282,
   "metadata": {
    "scrolled": false
   },
   "outputs": [
    {
     "data": {
      "text/plain": [
       "'㈜NAVER'"
      ]
     },
     "execution_count": 282,
     "metadata": {},
     "output_type": "execute_result"
    }
   ],
   "source": [
    "# company \n",
    "dom.select('.name.dev_view')[0].get(\"title\")"
   ]
  },
  {
   "cell_type": "code",
   "execution_count": 250,
   "metadata": {},
   "outputs": [],
   "source": [
    "# description\n",
    "response = requests.get(link)\n",
    "dom_for_pages = BeautifulSoup(response.text, \"html.parser\")"
   ]
  },
  {
   "cell_type": "code",
   "execution_count": 251,
   "metadata": {
    "scrolled": true
   },
   "outputs": [
    {
     "data": {
      "text/plain": [
       "'경력\\n\\n신입·경력\\n\\n학력\\n\\n학력무관 \\n우대\\n\\n\\n기본우대\\n\\n유관업무 경험자(인턴·알바)'"
      ]
     },
     "execution_count": 251,
     "metadata": {},
     "output_type": "execute_result"
    }
   ],
   "source": [
    "dom_for_pages.select_one('.hd_4 ~ dl.tbList').text.strip('\\n ')"
   ]
  },
  {
   "cell_type": "code",
   "execution_count": 252,
   "metadata": {},
   "outputs": [
    {
     "data": {
      "text/plain": [
       "['', '기업명', '11번가 주식회사', '기업형태', '대기업 계열사·자회사', '상장여부', '비상장', '']"
      ]
     },
     "execution_count": 252,
     "metadata": {},
     "output_type": "execute_result"
    }
   ],
   "source": [
    "# service\n",
    "dom_for_pages.select_one(\"#container > section > div > article > div.tbRow.clear > div.tbCol.tbCoInfo > dl.tbList\").text.split('\\n')"
   ]
  },
  {
   "cell_type": "code",
   "execution_count": 36,
   "metadata": {},
   "outputs": [
    {
     "data": {
      "text/plain": [
       "'Global Music 데이터 분석가 채용연계형 인턴십 모집'"
      ]
     },
     "execution_count": 36,
     "metadata": {},
     "output_type": "execute_result"
    }
   ],
   "source": [
    "# position\n",
    "dom.select('.post-list-info > a')[0].get('title')"
   ]
  },
  {
   "cell_type": "code",
   "execution_count": 249,
   "metadata": {},
   "outputs": [],
   "source": [
    "# link\n",
    "link = \"http://www.jobkorea.co.kr\" + dom.select('.post-list-info > a')[15].get('href')"
   ]
  },
  {
   "cell_type": "code",
   "execution_count": 284,
   "metadata": {
    "scrolled": true
   },
   "outputs": [
    {
     "data": {
      "text/plain": [
       "'03/31마감'"
      ]
     },
     "execution_count": 284,
     "metadata": {},
     "output_type": "execute_result"
    }
   ],
   "source": [
    "# deadline\n",
    "dom.select('.post-list-info > p[class=\"option\"]')[0].select_one('span[class=date]').text.strip('(~)월화수목금토일')+\"마감\""
   ]
  },
  {
   "cell_type": "code",
   "execution_count": 47,
   "metadata": {},
   "outputs": [
    {
     "data": {
      "text/plain": [
       "'데이터분석, 통계, 지표, 기획, Python, SQL'"
      ]
     },
     "execution_count": 47,
     "metadata": {},
     "output_type": "execute_result"
    }
   ],
   "source": [
    "# task & skills\n",
    "dom.select('p.etc')[0].text"
   ]
  },
  {
   "cell_type": "code",
   "execution_count": 95,
   "metadata": {
    "scrolled": false
   },
   "outputs": [
    {
     "data": {
      "text/plain": [
       "'3,500'"
      ]
     },
     "execution_count": 95,
     "metadata": {},
     "output_type": "execute_result"
    }
   ],
   "source": [
    "# jon_condition\n",
    "req2 = requests.get(\"http://www.jobkorea.co.kr/Salary/SearchOfSalary/671394\")\n",
    "dom = BeautifulSoup(req2.text, \"html.parser\")\n",
    "salary = dom.select_one('div.salary-table-item.salary-table-newcomer > div.salary > div.value').text\n",
    "salary"
   ]
  },
  {
   "cell_type": "code",
   "execution_count": null,
   "metadata": {},
   "outputs": [],
   "source": []
  },
  {
   "cell_type": "markdown",
   "metadata": {},
   "source": [
    "# 사람인\n",
    "- keyword : 데이터 사이언스\n",
    "- 모바일 페이지 탐색중"
   ]
  },
  {
   "cell_type": "code",
   "execution_count": 474,
   "metadata": {},
   "outputs": [],
   "source": [
    "import re\n",
    "import string"
   ]
  },
  {
   "cell_type": "code",
   "execution_count": 999,
   "metadata": {},
   "outputs": [],
   "source": [
    "url= \"http://www.saramin.co.kr/zf_user/search/recruit?searchType=search&company_cd=0,1,2,3,4,5,6,7,9&searchword=%EB%8D%B0%EC%9D%B4%ED%84%B0%20%EC%82%AC%EC%9D%B4%EC%96%B8%EC%8A%A4&panel_type=&search_optional_item=y&search_done=y&panel_count=y&recruitPage=2&recruitSort=relation&recruitPageCount=40&inner_com_type=\""
   ]
  },
  {
   "cell_type": "code",
   "execution_count": 1000,
   "metadata": {},
   "outputs": [],
   "source": [
    "req = requests.get(url)\n",
    "response = TextResponse(req.url, body=req.text, encoding=\"utf-8\")"
   ]
  },
  {
   "cell_type": "code",
   "execution_count": null,
   "metadata": {},
   "outputs": [],
   "source": []
  },
  {
   "cell_type": "code",
   "execution_count": null,
   "metadata": {},
   "outputs": [],
   "source": []
  },
  {
   "cell_type": "code",
   "execution_count": null,
   "metadata": {},
   "outputs": [],
   "source": []
  },
  {
   "cell_type": "code",
   "execution_count": null,
   "metadata": {},
   "outputs": [],
   "source": []
  },
  {
   "cell_type": "code",
   "execution_count": null,
   "metadata": {},
   "outputs": [],
   "source": []
  },
  {
   "cell_type": "code",
   "execution_count": 164,
   "metadata": {},
   "outputs": [
    {
     "data": {
      "text/plain": [
       "184"
      ]
     },
     "execution_count": 164,
     "metadata": {},
     "output_type": "execute_result"
    }
   ],
   "source": [
    "url = \"http://m.saramin.co.kr/search?searchType=search&searchword=데이터\"\n",
    "req = requests.get(url)\n",
    "response = TextResponse(req.url, body=req.text, encoding=\"utf-8\")\n",
    "total_page = int(response.xpath('//*[@id=\"recruit_total_count\"]/text()')[0].extract().replace(',','')) // 20\n",
    "total_page"
   ]
  },
  {
   "cell_type": "code",
   "execution_count": 163,
   "metadata": {},
   "outputs": [],
   "source": [
    "total_links =[]\n",
    "for i in range(1,int(total_page)+1):\n",
    "    url = url + \"&page={}\".format(i)\n",
    "    req = requests.get(url)\n",
    "    response = TextResponse(req.url, body=req.text, encoding=\"utf-8\")\n",
    "    links = response.xpath('//*[@id=\"recruit_result\"]/ul/li/div/a/@href').extract()\n",
    "    links = [\"http://m.saramin.co.kr\" + link + \"&t_ref=search&t_ref_content=generic\" for link in links]\n",
    "    total_links += links"
   ]
  },
  {
   "cell_type": "code",
   "execution_count": 166,
   "metadata": {},
   "outputs": [
    {
     "data": {
      "text/plain": [
       "<200 http://m.saramin.co.kr/job-search/view?rec_idx=37871593&cn=search&cns=index&t_category=search&t_content=generic&searchword=%EB%8D%B0%EC%9D%B4%ED%84%B0+%EB%B6%84%EC%84%9D&searchType=search&paid_fl=n&t_ref=search&t_ref_content=generic>"
      ]
     },
     "execution_count": 166,
     "metadata": {},
     "output_type": "execute_result"
    }
   ],
   "source": [
    "req = requests.get(total_links[2000])\n",
    "response = TextResponse(req.url,body=req.text,encoding='utf8')\n",
    "response"
   ]
  },
  {
   "cell_type": "code",
   "execution_count": 167,
   "metadata": {},
   "outputs": [
    {
     "data": {
      "text/plain": [
       "['(주)리치앤코']"
      ]
     },
     "execution_count": 167,
     "metadata": {},
     "output_type": "execute_result"
    }
   ],
   "source": [
    "# company_name \n",
    "company_name = response.xpath('//*[@id=\"card_set\"]/div[1]/div/div[1]/div/span/a/text()').extract()\n",
    "company_name"
   ]
  },
  {
   "cell_type": "code",
   "execution_count": 168,
   "metadata": {},
   "outputs": [
    {
     "ename": "IndexError",
     "evalue": "list index out of range",
     "output_type": "error",
     "traceback": [
      "\u001b[0;31m---------------------------------------------------------------------------\u001b[0m",
      "\u001b[0;31mIndexError\u001b[0m                                Traceback (most recent call last)",
      "\u001b[0;32m<ipython-input-168-8486d0d1f1fd>\u001b[0m in \u001b[0;36m<module>\u001b[0;34m\u001b[0m\n\u001b[0;32m----> 1\u001b[0;31m \u001b[0mresponse\u001b[0m\u001b[0;34m.\u001b[0m\u001b[0mxpath\u001b[0m\u001b[0;34m(\u001b[0m\u001b[0;34m'//*[@id=\"card_set\"]/div[1]/div/div[1]/div/span/span/text()'\u001b[0m\u001b[0;34m)\u001b[0m\u001b[0;34m[\u001b[0m\u001b[0;36m0\u001b[0m\u001b[0;34m]\u001b[0m\u001b[0;34m.\u001b[0m\u001b[0mextract\u001b[0m\u001b[0;34m(\u001b[0m\u001b[0;34m)\u001b[0m\u001b[0;34m\u001b[0m\u001b[0;34m\u001b[0m\u001b[0m\n\u001b[0m",
      "\u001b[0;32m~/opt/anaconda3/envs/fastcampus/lib/python3.7/site-packages/parsel/selector.py\u001b[0m in \u001b[0;36m__getitem__\u001b[0;34m(self, pos)\u001b[0m\n\u001b[1;32m     59\u001b[0m \u001b[0;34m\u001b[0m\u001b[0m\n\u001b[1;32m     60\u001b[0m     \u001b[0;32mdef\u001b[0m \u001b[0m__getitem__\u001b[0m\u001b[0;34m(\u001b[0m\u001b[0mself\u001b[0m\u001b[0;34m,\u001b[0m \u001b[0mpos\u001b[0m\u001b[0;34m)\u001b[0m\u001b[0;34m:\u001b[0m\u001b[0;34m\u001b[0m\u001b[0;34m\u001b[0m\u001b[0m\n\u001b[0;32m---> 61\u001b[0;31m         \u001b[0mo\u001b[0m \u001b[0;34m=\u001b[0m \u001b[0msuper\u001b[0m\u001b[0;34m(\u001b[0m\u001b[0mSelectorList\u001b[0m\u001b[0;34m,\u001b[0m \u001b[0mself\u001b[0m\u001b[0;34m)\u001b[0m\u001b[0;34m.\u001b[0m\u001b[0m__getitem__\u001b[0m\u001b[0;34m(\u001b[0m\u001b[0mpos\u001b[0m\u001b[0;34m)\u001b[0m\u001b[0;34m\u001b[0m\u001b[0;34m\u001b[0m\u001b[0m\n\u001b[0m\u001b[1;32m     62\u001b[0m         \u001b[0;32mreturn\u001b[0m \u001b[0mself\u001b[0m\u001b[0;34m.\u001b[0m\u001b[0m__class__\u001b[0m\u001b[0;34m(\u001b[0m\u001b[0mo\u001b[0m\u001b[0;34m)\u001b[0m \u001b[0;32mif\u001b[0m \u001b[0misinstance\u001b[0m\u001b[0;34m(\u001b[0m\u001b[0mpos\u001b[0m\u001b[0;34m,\u001b[0m \u001b[0mslice\u001b[0m\u001b[0;34m)\u001b[0m \u001b[0;32melse\u001b[0m \u001b[0mo\u001b[0m\u001b[0;34m\u001b[0m\u001b[0;34m\u001b[0m\u001b[0m\n\u001b[1;32m     63\u001b[0m \u001b[0;34m\u001b[0m\u001b[0m\n",
      "\u001b[0;31mIndexError\u001b[0m: list index out of range"
     ]
    }
   ],
   "source": [
    "response.xpath('//*[@id=\"card_set\"]/div[1]/div/div[1]/div/span/span/text()')[0].extract()"
   ]
  },
  {
   "cell_type": "code",
   "execution_count": 169,
   "metadata": {
    "scrolled": false
   },
   "outputs": [
    {
     "data": {
      "text/plain": [
       "[]"
      ]
     },
     "execution_count": 169,
     "metadata": {},
     "output_type": "execute_result"
    }
   ],
   "source": [
    "# business \n",
    "response.xpath('//*[@id=\"card_set\"]/div[1]/div/section[4]/div/div[2]/dl[2]/dd/div/text()').extract()"
   ]
  },
  {
   "cell_type": "code",
   "execution_count": null,
   "metadata": {},
   "outputs": [],
   "source": []
  },
  {
   "cell_type": "code",
   "execution_count": 170,
   "metadata": {
    "scrolled": true
   },
   "outputs": [
    {
     "data": {
      "text/plain": [
       "'[본사] 제휴마케팅 부문 사원-대리급 모집'"
      ]
     },
     "execution_count": 170,
     "metadata": {},
     "output_type": "execute_result"
    }
   ],
   "source": [
    "# position\n",
    "response.xpath('//*[@id=\"card_set\"]/div[1]/div/div[1]/div/h2/text()')[0].extract().strip()"
   ]
  },
  {
   "cell_type": "code",
   "execution_count": 171,
   "metadata": {},
   "outputs": [
    {
     "name": "stdout",
     "output_type": "stream",
     "text": [
      "http://m.saramin.co.kr/job-search/view?rec_idx=37877228&cn=search&cns=index&t_category=search&t_content=generic&searchword=%EB%8D%B0%EC%9D%B4%ED%84%B0+%EB%B6%84%EC%84%9D&searchType=search&paid_fl=n&t_ref=search&t_ref_content=generic\n"
     ]
    }
   ],
   "source": [
    "# link\n",
    "link = total_links[11]\n",
    "print(link)"
   ]
  },
  {
   "cell_type": "code",
   "execution_count": 172,
   "metadata": {
    "scrolled": true
   },
   "outputs": [
    {
     "name": "stdout",
     "output_type": "stream",
     "text": [
      "회사내규에따름\n"
     ]
    }
   ],
   "source": [
    "# salary_condition\n",
    "req = requests.get(total_links[i])\n",
    "response = TextResponse(req.url,body=req.text,encoding='utf8')\n",
    "try:\n",
    "    result = response.xpath('//*[@class=\"card_cont wrap_recruit_view\"]/section[@class=\"section_view section_basic_view\"]/div[@class=\"wrap_info_job\"]/dl[2]/dd/text()')[0].extract().strip()\n",
    "    if result:\n",
    "        print(result)\n",
    "    else:\n",
    "        print(\"면접 후 결정 (조건 상이)\")\n",
    "except:\n",
    "    print(\"연봉 조건 정보 없음\")"
   ]
  },
  {
   "cell_type": "code",
   "execution_count": 882,
   "metadata": {},
   "outputs": [
    {
     "name": "stdout",
     "output_type": "stream",
     "text": [
      "http://m.saramin.co.kr/job-search/view?rec_idx=37814241&cn=search&cns=index&t_category=search&t_content=generic&searchword=%EB%8D%B0%EC%9D%B4%ED%84%B0+%EC%82%AC%EC%9D%B4%EC%96%B8%EC%8A%A4&searchType=search&paid_fl=n\n"
     ]
    }
   ],
   "source": [
    "print(total_links[0])"
   ]
  },
  {
   "cell_type": "code",
   "execution_count": 174,
   "metadata": {},
   "outputs": [
    {
     "data": {
      "text/plain": [
       "'서울 중구'"
      ]
     },
     "execution_count": 174,
     "metadata": {},
     "output_type": "execute_result"
    }
   ],
   "source": [
    "# location\n",
    "location = response.xpath('//*[@class=\"card_cont wrap_recruit_view\"]/section[@class=\"section_view section_basic_view\"]/div[@class=\"wrap_info_job\"]/dl[3]/dd/div/text()')[0].extract().strip()\n",
    "location"
   ]
  },
  {
   "cell_type": "code",
   "execution_count": 175,
   "metadata": {},
   "outputs": [
    {
     "data": {
      "text/plain": [
       "'~04/11(토)'"
      ]
     },
     "execution_count": 175,
     "metadata": {},
     "output_type": "execute_result"
    }
   ],
   "source": [
    "# deadline\n",
    "deadline = response.xpath('//*[@class=\"card_cont wrap_recruit_view\"]/section[@class=\"section_view section_basic_view\"]/div[@class=\"wrap_info_job\"]/dl[1]/dd/span[1]/text()')[0].extract().strip()\n",
    "deadline"
   ]
  },
  {
   "cell_type": "code",
   "execution_count": 176,
   "metadata": {
    "scrolled": true
   },
   "outputs": [
    {
     "data": {
      "text/plain": [
       "\"IT·인터넷', '인공지능(AI)·빅데이터', '빅데이터', '머신러닝', 'DataAnalysis', 'R', 'Python', '서울', '중구\""
      ]
     },
     "execution_count": 176,
     "metadata": {},
     "output_type": "execute_result"
    }
   ],
   "source": [
    "# keyword\n",
    "keyword = str(response.xpath('//*[@class=\"list_relation_tag\"]/li/a/text()').extract()).strip(\"[]''\")\n",
    "keyword"
   ]
  },
  {
   "cell_type": "code",
   "execution_count": 177,
   "metadata": {},
   "outputs": [
    {
     "name": "stdout",
     "output_type": "stream",
     "text": [
      "http://m.saramin.co.kr/job-search/view?rec_idx=37652515&cn=search&cns=index&t_category=search&t_content=generic&searchword=%EB%8D%B0%EC%9D%B4%ED%84%B0+%EB%B6%84%EC%84%9D&searchType=search&paid_fl=n&t_ref=search&t_ref_content=generic\n"
     ]
    }
   ],
   "source": [
    "link = total_links[0]\n",
    "print(link)"
   ]
  },
  {
   "cell_type": "code",
   "execution_count": 932,
   "metadata": {
    "collapsed": true
   },
   "outputs": [
    {
     "name": "stdout",
     "output_type": "stream",
     "text": [
      "['(주)이음인터렉티브']\n",
      "['(주)디세이코리아']\n",
      "['(주) 컴투스']\n",
      "['(주)시몬스']\n",
      "['유사나헬스사이언스코리아(유)']\n",
      "['패스트캠퍼스']\n",
      "['MKS Korea']\n",
      "['브랭섬홀아시아(BHA)']\n",
      "['(주)파블로항공']\n",
      "['주식회사 에비드넷']\n",
      "['주식회사 대교씨엔에스']\n",
      "['(주)라이언앤코']\n",
      "['(주)라이언앤코']\n"
     ]
    },
    {
     "ename": "KeyboardInterrupt",
     "evalue": "",
     "output_type": "error",
     "traceback": [
      "\u001b[0;31m---------------------------------------------------------------------------\u001b[0m",
      "\u001b[0;31mTypeError\u001b[0m                                 Traceback (most recent call last)",
      "\u001b[0;32m~/opt/anaconda3/envs/fastcampus/lib/python3.7/site-packages/urllib3/connectionpool.py\u001b[0m in \u001b[0;36m_make_request\u001b[0;34m(self, conn, method, url, timeout, chunked, **httplib_request_kw)\u001b[0m\n\u001b[1;32m    376\u001b[0m             \u001b[0;32mtry\u001b[0m\u001b[0;34m:\u001b[0m  \u001b[0;31m# Python 2.7, use buffering of HTTP responses\u001b[0m\u001b[0;34m\u001b[0m\u001b[0;34m\u001b[0m\u001b[0m\n\u001b[0;32m--> 377\u001b[0;31m                 \u001b[0mhttplib_response\u001b[0m \u001b[0;34m=\u001b[0m \u001b[0mconn\u001b[0m\u001b[0;34m.\u001b[0m\u001b[0mgetresponse\u001b[0m\u001b[0;34m(\u001b[0m\u001b[0mbuffering\u001b[0m\u001b[0;34m=\u001b[0m\u001b[0;32mTrue\u001b[0m\u001b[0;34m)\u001b[0m\u001b[0;34m\u001b[0m\u001b[0;34m\u001b[0m\u001b[0m\n\u001b[0m\u001b[1;32m    378\u001b[0m             \u001b[0;32mexcept\u001b[0m \u001b[0mTypeError\u001b[0m\u001b[0;34m:\u001b[0m  \u001b[0;31m# Python 3\u001b[0m\u001b[0;34m\u001b[0m\u001b[0;34m\u001b[0m\u001b[0m\n",
      "\u001b[0;31mTypeError\u001b[0m: getresponse() got an unexpected keyword argument 'buffering'",
      "\nDuring handling of the above exception, another exception occurred:\n",
      "\u001b[0;31mKeyboardInterrupt\u001b[0m                         Traceback (most recent call last)",
      "\u001b[0;32m<ipython-input-932-130cf814f092>\u001b[0m in \u001b[0;36m<module>\u001b[0;34m\u001b[0m\n\u001b[1;32m      1\u001b[0m \u001b[0;32mfor\u001b[0m \u001b[0mlink\u001b[0m \u001b[0;32min\u001b[0m \u001b[0mtotal_links\u001b[0m\u001b[0;34m[\u001b[0m\u001b[0;34m:\u001b[0m\u001b[0;36m20\u001b[0m\u001b[0;34m]\u001b[0m\u001b[0;34m:\u001b[0m\u001b[0;34m\u001b[0m\u001b[0;34m\u001b[0m\u001b[0m\n\u001b[0;32m----> 2\u001b[0;31m     \u001b[0mreq\u001b[0m \u001b[0;34m=\u001b[0m \u001b[0mrequests\u001b[0m\u001b[0;34m.\u001b[0m\u001b[0mget\u001b[0m\u001b[0;34m(\u001b[0m\u001b[0mlink\u001b[0m\u001b[0;34m)\u001b[0m\u001b[0;34m\u001b[0m\u001b[0;34m\u001b[0m\u001b[0m\n\u001b[0m\u001b[1;32m      3\u001b[0m     \u001b[0mresponse\u001b[0m \u001b[0;34m=\u001b[0m \u001b[0mTextResponse\u001b[0m\u001b[0;34m(\u001b[0m\u001b[0mreq\u001b[0m\u001b[0;34m.\u001b[0m\u001b[0murl\u001b[0m\u001b[0;34m,\u001b[0m \u001b[0mbody\u001b[0m\u001b[0;34m=\u001b[0m\u001b[0mreq\u001b[0m\u001b[0;34m.\u001b[0m\u001b[0mtext\u001b[0m\u001b[0;34m,\u001b[0m \u001b[0mencoding\u001b[0m\u001b[0;34m=\u001b[0m\u001b[0;34m\"utf-8\"\u001b[0m\u001b[0;34m)\u001b[0m\u001b[0;34m\u001b[0m\u001b[0;34m\u001b[0m\u001b[0m\n\u001b[1;32m      4\u001b[0m     \u001b[0mresult\u001b[0m \u001b[0;34m=\u001b[0m \u001b[0mresponse\u001b[0m\u001b[0;34m.\u001b[0m\u001b[0mxpath\u001b[0m\u001b[0;34m(\u001b[0m\u001b[0;34m'//*[@id=\"card_set\"]/div[1]/div/div[1]/div/span/span/text()'\u001b[0m\u001b[0;34m)\u001b[0m\u001b[0;34m.\u001b[0m\u001b[0mextract\u001b[0m\u001b[0;34m(\u001b[0m\u001b[0;34m)\u001b[0m\u001b[0;34m\u001b[0m\u001b[0;34m\u001b[0m\u001b[0m\n\u001b[1;32m      5\u001b[0m     \u001b[0;32mif\u001b[0m \u001b[0mresult\u001b[0m\u001b[0;34m:\u001b[0m\u001b[0;34m\u001b[0m\u001b[0;34m\u001b[0m\u001b[0m\n",
      "\u001b[0;32m~/opt/anaconda3/envs/fastcampus/lib/python3.7/site-packages/requests/api.py\u001b[0m in \u001b[0;36mget\u001b[0;34m(url, params, **kwargs)\u001b[0m\n\u001b[1;32m     73\u001b[0m \u001b[0;34m\u001b[0m\u001b[0m\n\u001b[1;32m     74\u001b[0m     \u001b[0mkwargs\u001b[0m\u001b[0;34m.\u001b[0m\u001b[0msetdefault\u001b[0m\u001b[0;34m(\u001b[0m\u001b[0;34m'allow_redirects'\u001b[0m\u001b[0;34m,\u001b[0m \u001b[0;32mTrue\u001b[0m\u001b[0;34m)\u001b[0m\u001b[0;34m\u001b[0m\u001b[0;34m\u001b[0m\u001b[0m\n\u001b[0;32m---> 75\u001b[0;31m     \u001b[0;32mreturn\u001b[0m \u001b[0mrequest\u001b[0m\u001b[0;34m(\u001b[0m\u001b[0;34m'get'\u001b[0m\u001b[0;34m,\u001b[0m \u001b[0murl\u001b[0m\u001b[0;34m,\u001b[0m \u001b[0mparams\u001b[0m\u001b[0;34m=\u001b[0m\u001b[0mparams\u001b[0m\u001b[0;34m,\u001b[0m \u001b[0;34m**\u001b[0m\u001b[0mkwargs\u001b[0m\u001b[0;34m)\u001b[0m\u001b[0;34m\u001b[0m\u001b[0;34m\u001b[0m\u001b[0m\n\u001b[0m\u001b[1;32m     76\u001b[0m \u001b[0;34m\u001b[0m\u001b[0m\n\u001b[1;32m     77\u001b[0m \u001b[0;34m\u001b[0m\u001b[0m\n",
      "\u001b[0;32m~/opt/anaconda3/envs/fastcampus/lib/python3.7/site-packages/requests/api.py\u001b[0m in \u001b[0;36mrequest\u001b[0;34m(method, url, **kwargs)\u001b[0m\n\u001b[1;32m     58\u001b[0m     \u001b[0;31m# cases, and look like a memory leak in others.\u001b[0m\u001b[0;34m\u001b[0m\u001b[0;34m\u001b[0m\u001b[0;34m\u001b[0m\u001b[0m\n\u001b[1;32m     59\u001b[0m     \u001b[0;32mwith\u001b[0m \u001b[0msessions\u001b[0m\u001b[0;34m.\u001b[0m\u001b[0mSession\u001b[0m\u001b[0;34m(\u001b[0m\u001b[0;34m)\u001b[0m \u001b[0;32mas\u001b[0m \u001b[0msession\u001b[0m\u001b[0;34m:\u001b[0m\u001b[0;34m\u001b[0m\u001b[0;34m\u001b[0m\u001b[0m\n\u001b[0;32m---> 60\u001b[0;31m         \u001b[0;32mreturn\u001b[0m \u001b[0msession\u001b[0m\u001b[0;34m.\u001b[0m\u001b[0mrequest\u001b[0m\u001b[0;34m(\u001b[0m\u001b[0mmethod\u001b[0m\u001b[0;34m=\u001b[0m\u001b[0mmethod\u001b[0m\u001b[0;34m,\u001b[0m \u001b[0murl\u001b[0m\u001b[0;34m=\u001b[0m\u001b[0murl\u001b[0m\u001b[0;34m,\u001b[0m \u001b[0;34m**\u001b[0m\u001b[0mkwargs\u001b[0m\u001b[0;34m)\u001b[0m\u001b[0;34m\u001b[0m\u001b[0;34m\u001b[0m\u001b[0m\n\u001b[0m\u001b[1;32m     61\u001b[0m \u001b[0;34m\u001b[0m\u001b[0m\n\u001b[1;32m     62\u001b[0m \u001b[0;34m\u001b[0m\u001b[0m\n",
      "\u001b[0;32m~/opt/anaconda3/envs/fastcampus/lib/python3.7/site-packages/requests/sessions.py\u001b[0m in \u001b[0;36mrequest\u001b[0;34m(self, method, url, params, data, headers, cookies, files, auth, timeout, allow_redirects, proxies, hooks, stream, verify, cert, json)\u001b[0m\n\u001b[1;32m    531\u001b[0m         }\n\u001b[1;32m    532\u001b[0m         \u001b[0msend_kwargs\u001b[0m\u001b[0;34m.\u001b[0m\u001b[0mupdate\u001b[0m\u001b[0;34m(\u001b[0m\u001b[0msettings\u001b[0m\u001b[0;34m)\u001b[0m\u001b[0;34m\u001b[0m\u001b[0;34m\u001b[0m\u001b[0m\n\u001b[0;32m--> 533\u001b[0;31m         \u001b[0mresp\u001b[0m \u001b[0;34m=\u001b[0m \u001b[0mself\u001b[0m\u001b[0;34m.\u001b[0m\u001b[0msend\u001b[0m\u001b[0;34m(\u001b[0m\u001b[0mprep\u001b[0m\u001b[0;34m,\u001b[0m \u001b[0;34m**\u001b[0m\u001b[0msend_kwargs\u001b[0m\u001b[0;34m)\u001b[0m\u001b[0;34m\u001b[0m\u001b[0;34m\u001b[0m\u001b[0m\n\u001b[0m\u001b[1;32m    534\u001b[0m \u001b[0;34m\u001b[0m\u001b[0m\n\u001b[1;32m    535\u001b[0m         \u001b[0;32mreturn\u001b[0m \u001b[0mresp\u001b[0m\u001b[0;34m\u001b[0m\u001b[0;34m\u001b[0m\u001b[0m\n",
      "\u001b[0;32m~/opt/anaconda3/envs/fastcampus/lib/python3.7/site-packages/requests/sessions.py\u001b[0m in \u001b[0;36msend\u001b[0;34m(self, request, **kwargs)\u001b[0m\n\u001b[1;32m    644\u001b[0m \u001b[0;34m\u001b[0m\u001b[0m\n\u001b[1;32m    645\u001b[0m         \u001b[0;31m# Send the request\u001b[0m\u001b[0;34m\u001b[0m\u001b[0;34m\u001b[0m\u001b[0;34m\u001b[0m\u001b[0m\n\u001b[0;32m--> 646\u001b[0;31m         \u001b[0mr\u001b[0m \u001b[0;34m=\u001b[0m \u001b[0madapter\u001b[0m\u001b[0;34m.\u001b[0m\u001b[0msend\u001b[0m\u001b[0;34m(\u001b[0m\u001b[0mrequest\u001b[0m\u001b[0;34m,\u001b[0m \u001b[0;34m**\u001b[0m\u001b[0mkwargs\u001b[0m\u001b[0;34m)\u001b[0m\u001b[0;34m\u001b[0m\u001b[0;34m\u001b[0m\u001b[0m\n\u001b[0m\u001b[1;32m    647\u001b[0m \u001b[0;34m\u001b[0m\u001b[0m\n\u001b[1;32m    648\u001b[0m         \u001b[0;31m# Total elapsed time of the request (approximately)\u001b[0m\u001b[0;34m\u001b[0m\u001b[0;34m\u001b[0m\u001b[0;34m\u001b[0m\u001b[0m\n",
      "\u001b[0;32m~/opt/anaconda3/envs/fastcampus/lib/python3.7/site-packages/requests/adapters.py\u001b[0m in \u001b[0;36msend\u001b[0;34m(self, request, stream, timeout, verify, cert, proxies)\u001b[0m\n\u001b[1;32m    447\u001b[0m                     \u001b[0mdecode_content\u001b[0m\u001b[0;34m=\u001b[0m\u001b[0;32mFalse\u001b[0m\u001b[0;34m,\u001b[0m\u001b[0;34m\u001b[0m\u001b[0;34m\u001b[0m\u001b[0m\n\u001b[1;32m    448\u001b[0m                     \u001b[0mretries\u001b[0m\u001b[0;34m=\u001b[0m\u001b[0mself\u001b[0m\u001b[0;34m.\u001b[0m\u001b[0mmax_retries\u001b[0m\u001b[0;34m,\u001b[0m\u001b[0;34m\u001b[0m\u001b[0;34m\u001b[0m\u001b[0m\n\u001b[0;32m--> 449\u001b[0;31m                     \u001b[0mtimeout\u001b[0m\u001b[0;34m=\u001b[0m\u001b[0mtimeout\u001b[0m\u001b[0;34m\u001b[0m\u001b[0;34m\u001b[0m\u001b[0m\n\u001b[0m\u001b[1;32m    450\u001b[0m                 )\n\u001b[1;32m    451\u001b[0m \u001b[0;34m\u001b[0m\u001b[0m\n",
      "\u001b[0;32m~/opt/anaconda3/envs/fastcampus/lib/python3.7/site-packages/urllib3/connectionpool.py\u001b[0m in \u001b[0;36murlopen\u001b[0;34m(self, method, url, body, headers, retries, redirect, assert_same_host, timeout, pool_timeout, release_conn, chunked, body_pos, **response_kw)\u001b[0m\n\u001b[1;32m    598\u001b[0m                                                   \u001b[0mtimeout\u001b[0m\u001b[0;34m=\u001b[0m\u001b[0mtimeout_obj\u001b[0m\u001b[0;34m,\u001b[0m\u001b[0;34m\u001b[0m\u001b[0;34m\u001b[0m\u001b[0m\n\u001b[1;32m    599\u001b[0m                                                   \u001b[0mbody\u001b[0m\u001b[0;34m=\u001b[0m\u001b[0mbody\u001b[0m\u001b[0;34m,\u001b[0m \u001b[0mheaders\u001b[0m\u001b[0;34m=\u001b[0m\u001b[0mheaders\u001b[0m\u001b[0;34m,\u001b[0m\u001b[0;34m\u001b[0m\u001b[0;34m\u001b[0m\u001b[0m\n\u001b[0;32m--> 600\u001b[0;31m                                                   chunked=chunked)\n\u001b[0m\u001b[1;32m    601\u001b[0m \u001b[0;34m\u001b[0m\u001b[0m\n\u001b[1;32m    602\u001b[0m             \u001b[0;31m# If we're going to release the connection in ``finally:``, then\u001b[0m\u001b[0;34m\u001b[0m\u001b[0;34m\u001b[0m\u001b[0;34m\u001b[0m\u001b[0m\n",
      "\u001b[0;32m~/opt/anaconda3/envs/fastcampus/lib/python3.7/site-packages/urllib3/connectionpool.py\u001b[0m in \u001b[0;36m_make_request\u001b[0;34m(self, conn, method, url, timeout, chunked, **httplib_request_kw)\u001b[0m\n\u001b[1;32m    378\u001b[0m             \u001b[0;32mexcept\u001b[0m \u001b[0mTypeError\u001b[0m\u001b[0;34m:\u001b[0m  \u001b[0;31m# Python 3\u001b[0m\u001b[0;34m\u001b[0m\u001b[0;34m\u001b[0m\u001b[0m\n\u001b[1;32m    379\u001b[0m                 \u001b[0;32mtry\u001b[0m\u001b[0;34m:\u001b[0m\u001b[0;34m\u001b[0m\u001b[0;34m\u001b[0m\u001b[0m\n\u001b[0;32m--> 380\u001b[0;31m                     \u001b[0mhttplib_response\u001b[0m \u001b[0;34m=\u001b[0m \u001b[0mconn\u001b[0m\u001b[0;34m.\u001b[0m\u001b[0mgetresponse\u001b[0m\u001b[0;34m(\u001b[0m\u001b[0;34m)\u001b[0m\u001b[0;34m\u001b[0m\u001b[0;34m\u001b[0m\u001b[0m\n\u001b[0m\u001b[1;32m    381\u001b[0m                 \u001b[0;32mexcept\u001b[0m \u001b[0mException\u001b[0m \u001b[0;32mas\u001b[0m \u001b[0me\u001b[0m\u001b[0;34m:\u001b[0m\u001b[0;34m\u001b[0m\u001b[0;34m\u001b[0m\u001b[0m\n\u001b[1;32m    382\u001b[0m                     \u001b[0;31m# Remove the TypeError from the exception chain in Python 3;\u001b[0m\u001b[0;34m\u001b[0m\u001b[0;34m\u001b[0m\u001b[0;34m\u001b[0m\u001b[0m\n",
      "\u001b[0;32m~/opt/anaconda3/envs/fastcampus/lib/python3.7/http/client.py\u001b[0m in \u001b[0;36mgetresponse\u001b[0;34m(self)\u001b[0m\n\u001b[1;32m   1334\u001b[0m         \u001b[0;32mtry\u001b[0m\u001b[0;34m:\u001b[0m\u001b[0;34m\u001b[0m\u001b[0;34m\u001b[0m\u001b[0m\n\u001b[1;32m   1335\u001b[0m             \u001b[0;32mtry\u001b[0m\u001b[0;34m:\u001b[0m\u001b[0;34m\u001b[0m\u001b[0;34m\u001b[0m\u001b[0m\n\u001b[0;32m-> 1336\u001b[0;31m                 \u001b[0mresponse\u001b[0m\u001b[0;34m.\u001b[0m\u001b[0mbegin\u001b[0m\u001b[0;34m(\u001b[0m\u001b[0;34m)\u001b[0m\u001b[0;34m\u001b[0m\u001b[0;34m\u001b[0m\u001b[0m\n\u001b[0m\u001b[1;32m   1337\u001b[0m             \u001b[0;32mexcept\u001b[0m \u001b[0mConnectionError\u001b[0m\u001b[0;34m:\u001b[0m\u001b[0;34m\u001b[0m\u001b[0;34m\u001b[0m\u001b[0m\n\u001b[1;32m   1338\u001b[0m                 \u001b[0mself\u001b[0m\u001b[0;34m.\u001b[0m\u001b[0mclose\u001b[0m\u001b[0;34m(\u001b[0m\u001b[0;34m)\u001b[0m\u001b[0;34m\u001b[0m\u001b[0;34m\u001b[0m\u001b[0m\n",
      "\u001b[0;32m~/opt/anaconda3/envs/fastcampus/lib/python3.7/http/client.py\u001b[0m in \u001b[0;36mbegin\u001b[0;34m(self)\u001b[0m\n\u001b[1;32m    304\u001b[0m         \u001b[0;31m# read until we get a non-100 response\u001b[0m\u001b[0;34m\u001b[0m\u001b[0;34m\u001b[0m\u001b[0;34m\u001b[0m\u001b[0m\n\u001b[1;32m    305\u001b[0m         \u001b[0;32mwhile\u001b[0m \u001b[0;32mTrue\u001b[0m\u001b[0;34m:\u001b[0m\u001b[0;34m\u001b[0m\u001b[0;34m\u001b[0m\u001b[0m\n\u001b[0;32m--> 306\u001b[0;31m             \u001b[0mversion\u001b[0m\u001b[0;34m,\u001b[0m \u001b[0mstatus\u001b[0m\u001b[0;34m,\u001b[0m \u001b[0mreason\u001b[0m \u001b[0;34m=\u001b[0m \u001b[0mself\u001b[0m\u001b[0;34m.\u001b[0m\u001b[0m_read_status\u001b[0m\u001b[0;34m(\u001b[0m\u001b[0;34m)\u001b[0m\u001b[0;34m\u001b[0m\u001b[0;34m\u001b[0m\u001b[0m\n\u001b[0m\u001b[1;32m    307\u001b[0m             \u001b[0;32mif\u001b[0m \u001b[0mstatus\u001b[0m \u001b[0;34m!=\u001b[0m \u001b[0mCONTINUE\u001b[0m\u001b[0;34m:\u001b[0m\u001b[0;34m\u001b[0m\u001b[0;34m\u001b[0m\u001b[0m\n\u001b[1;32m    308\u001b[0m                 \u001b[0;32mbreak\u001b[0m\u001b[0;34m\u001b[0m\u001b[0;34m\u001b[0m\u001b[0m\n",
      "\u001b[0;32m~/opt/anaconda3/envs/fastcampus/lib/python3.7/http/client.py\u001b[0m in \u001b[0;36m_read_status\u001b[0;34m(self)\u001b[0m\n\u001b[1;32m    265\u001b[0m \u001b[0;34m\u001b[0m\u001b[0m\n\u001b[1;32m    266\u001b[0m     \u001b[0;32mdef\u001b[0m \u001b[0m_read_status\u001b[0m\u001b[0;34m(\u001b[0m\u001b[0mself\u001b[0m\u001b[0;34m)\u001b[0m\u001b[0;34m:\u001b[0m\u001b[0;34m\u001b[0m\u001b[0;34m\u001b[0m\u001b[0m\n\u001b[0;32m--> 267\u001b[0;31m         \u001b[0mline\u001b[0m \u001b[0;34m=\u001b[0m \u001b[0mstr\u001b[0m\u001b[0;34m(\u001b[0m\u001b[0mself\u001b[0m\u001b[0;34m.\u001b[0m\u001b[0mfp\u001b[0m\u001b[0;34m.\u001b[0m\u001b[0mreadline\u001b[0m\u001b[0;34m(\u001b[0m\u001b[0m_MAXLINE\u001b[0m \u001b[0;34m+\u001b[0m \u001b[0;36m1\u001b[0m\u001b[0;34m)\u001b[0m\u001b[0;34m,\u001b[0m \u001b[0;34m\"iso-8859-1\"\u001b[0m\u001b[0;34m)\u001b[0m\u001b[0;34m\u001b[0m\u001b[0;34m\u001b[0m\u001b[0m\n\u001b[0m\u001b[1;32m    268\u001b[0m         \u001b[0;32mif\u001b[0m \u001b[0mlen\u001b[0m\u001b[0;34m(\u001b[0m\u001b[0mline\u001b[0m\u001b[0;34m)\u001b[0m \u001b[0;34m>\u001b[0m \u001b[0m_MAXLINE\u001b[0m\u001b[0;34m:\u001b[0m\u001b[0;34m\u001b[0m\u001b[0;34m\u001b[0m\u001b[0m\n\u001b[1;32m    269\u001b[0m             \u001b[0;32mraise\u001b[0m \u001b[0mLineTooLong\u001b[0m\u001b[0;34m(\u001b[0m\u001b[0;34m\"status line\"\u001b[0m\u001b[0;34m)\u001b[0m\u001b[0;34m\u001b[0m\u001b[0;34m\u001b[0m\u001b[0m\n",
      "\u001b[0;32m~/opt/anaconda3/envs/fastcampus/lib/python3.7/socket.py\u001b[0m in \u001b[0;36mreadinto\u001b[0;34m(self, b)\u001b[0m\n\u001b[1;32m    587\u001b[0m         \u001b[0;32mwhile\u001b[0m \u001b[0;32mTrue\u001b[0m\u001b[0;34m:\u001b[0m\u001b[0;34m\u001b[0m\u001b[0;34m\u001b[0m\u001b[0m\n\u001b[1;32m    588\u001b[0m             \u001b[0;32mtry\u001b[0m\u001b[0;34m:\u001b[0m\u001b[0;34m\u001b[0m\u001b[0;34m\u001b[0m\u001b[0m\n\u001b[0;32m--> 589\u001b[0;31m                 \u001b[0;32mreturn\u001b[0m \u001b[0mself\u001b[0m\u001b[0;34m.\u001b[0m\u001b[0m_sock\u001b[0m\u001b[0;34m.\u001b[0m\u001b[0mrecv_into\u001b[0m\u001b[0;34m(\u001b[0m\u001b[0mb\u001b[0m\u001b[0;34m)\u001b[0m\u001b[0;34m\u001b[0m\u001b[0;34m\u001b[0m\u001b[0m\n\u001b[0m\u001b[1;32m    590\u001b[0m             \u001b[0;32mexcept\u001b[0m \u001b[0mtimeout\u001b[0m\u001b[0;34m:\u001b[0m\u001b[0;34m\u001b[0m\u001b[0;34m\u001b[0m\u001b[0m\n\u001b[1;32m    591\u001b[0m                 \u001b[0mself\u001b[0m\u001b[0;34m.\u001b[0m\u001b[0m_timeout_occurred\u001b[0m \u001b[0;34m=\u001b[0m \u001b[0;32mTrue\u001b[0m\u001b[0;34m\u001b[0m\u001b[0;34m\u001b[0m\u001b[0m\n",
      "\u001b[0;31mKeyboardInterrupt\u001b[0m: "
     ]
    }
   ],
   "source": [
    "for link in total_links[:20]:\n",
    "    req = requests.get(link)\n",
    "    response = TextResponse(req.url, body=req.text, encoding=\"utf-8\")\n",
    "    result = response.xpath('//*[@id=\"card_set\"]/div[1]/div/div[1]/div/span/span/text()').extract()\n",
    "    if result:\n",
    "        print(response.xpath('//*[@id=\"card_set\"]/div[1]/div/div[1]/div/span/span/text()').extract(),end=\"\\n\")\n",
    "    else :\n",
    "        print(response.xpath('//*[@id=\"card_set\"]/div[1]/div/div[1]/div/span/a/text()').extract(),end=\"\\n\")"
   ]
  },
  {
   "cell_type": "code",
   "execution_count": 1007,
   "metadata": {},
   "outputs": [],
   "source": [
    "total_links[3]\n",
    "req = requests.get(link)\n",
    "response = TextResponse(req.url, body=req.text, encoding=\"utf-8\")"
   ]
  },
  {
   "cell_type": "code",
   "execution_count": 1008,
   "metadata": {},
   "outputs": [
    {
     "data": {
      "text/plain": [
       "['자이랜드(주)']"
      ]
     },
     "execution_count": 1008,
     "metadata": {},
     "output_type": "execute_result"
    }
   ],
   "source": [
    "response.xpath('//*[@id=\"card_set\"]/div[1]/div/div[1]/div/span/a/text()').extract()"
   ]
  },
  {
   "cell_type": "code",
   "execution_count": null,
   "metadata": {},
   "outputs": [],
   "source": [
    "for link in total_links[:20]:\n",
    "    req = requests.get(link)\n",
    "    response = TextResponse(req.url, body=req.text, encoding=\"utf-8\")\n",
    "    result = response.xpath('//*[@id=\"card_set\"]/div[1]/div/div[1]/div/span/span/text()').extract()\n",
    "    if result:\n",
    "        print(response.xpath('//*[@id=\"card_set\"]/div[1]/div/div[1]/div/span/span/text()').extract(),end=\"\\n\")\n",
    "    else :\n",
    "        print(response.xpath('//*[@id=\"card_set\"]/div[1]/div/div[1]/div/span/a/text()').extract(),end=\"\\n\")"
   ]
  },
  {
   "cell_type": "code",
   "execution_count": 934,
   "metadata": {},
   "outputs": [],
   "source": [
    "# business"
   ]
  },
  {
   "cell_type": "code",
   "execution_count": 935,
   "metadata": {},
   "outputs": [
    {
     "name": "stdout",
     "output_type": "stream",
     "text": [
      "http://m.saramin.co.kr/job-search/view?rec_idx=37844522&cn=search&cns=index&t_category=search&t_content=generic&searchword=%EB%8D%B0%EC%9D%B4%ED%84%B0+%EC%82%AC%EC%9D%B4%EC%96%B8%EC%8A%A4&searchType=search&paid_fl=n\n"
     ]
    }
   ],
   "source": [
    "print(total_links[3])"
   ]
  },
  {
   "cell_type": "code",
   "execution_count": 940,
   "metadata": {},
   "outputs": [],
   "source": [
    "req = requests.get(total_links[0])\n",
    "response = TextResponse(req.url, body=req.text, encoding=\"utf-8\")"
   ]
  },
  {
   "cell_type": "code",
   "execution_count": 942,
   "metadata": {
    "collapsed": true
   },
   "outputs": [
    {
     "name": "stdout",
     "output_type": "stream",
     "text": [
      "error\n",
      "error\n",
      "모바일게임소프트웨어(컴투스볼링,테트리스) 제작,데이타베이스 구축,관리\n",
      "매트리스,침대,가구 제조,판매\n",
      "error\n",
      "평생직업교육학원,출판,전자상거래,통신판매, 방문판매, 전화권유,광고, 광고대행 및 기타광고,제품, 시각 및 기타디자인,민간자격시험관련\n",
      "error\n",
      "교육\n",
      "error\n",
      "error\n",
      "error\n",
      "error\n",
      "error\n",
      "error\n",
      "error\n",
      "error\n",
      "의료용영상진단장치(엑스선촬영장치,초음파영상진단기,비영상진단장치) 도매,제조,A/S\n",
      "error\n",
      "error\n",
      "error\n",
      "error\n",
      "error\n",
      "error\n",
      "error\n",
      "error\n",
      "error\n",
      "error\n",
      "error\n",
      "error\n",
      "error\n",
      "error\n",
      "error\n",
      "error\n",
      "error\n",
      "error\n",
      "error\n",
      "error\n",
      "error\n",
      "error\n",
      "error\n",
      "error\n",
      "error\n",
      "error\n",
      "생활용품,IT주변기기,탈취제(잡화),방향제,의료기기,건강기능식품 제조,도소매,무역/전자상거래(농산물)\n",
      "error\n",
      "error\n",
      "error\n",
      "error\n",
      "error\n",
      "error\n",
      "error\n",
      "error\n",
      "error\n",
      "error\n",
      "error\n",
      "error\n",
      "error\n",
      "error\n",
      "error\n",
      "error\n",
      "error\n",
      "error\n",
      "error\n",
      "error\n",
      "error\n",
      "error\n"
     ]
    }
   ],
   "source": [
    "for link in total_links:\n",
    "    req = requests.get(link)\n",
    "    response = TextResponse(req.url, body=req.text, encoding=\"utf-8\")\n",
    "    try:\n",
    "        print(response.xpath('//*[@id=\"card_set\"]/div[1]/div/section[4]/div/div[2]/dl[2]/dd/div/text()')[0].extract(),end=\"\\n\")\n",
    "    except:\n",
    "        print(\"error\",end=\"\\n\")"
   ]
  },
  {
   "cell_type": "code",
   "execution_count": 958,
   "metadata": {},
   "outputs": [
    {
     "name": "stdout",
     "output_type": "stream",
     "text": [
      "http://m.saramin.co.kr/job-search/view?rec_idx=37863553&cn=search&cns=index&t_category=search&t_content=generic&searchword=%EB%8D%B0%EC%9D%B4%ED%84%B0+%EC%82%AC%EC%9D%B4%EC%96%B8%EC%8A%A4&searchType=search&paid_fl=n&t_ref=search&t_ref_content=generic\n"
     ]
    }
   ],
   "source": [
    "print(total_links[2])"
   ]
  },
  {
   "cell_type": "code",
   "execution_count": 968,
   "metadata": {
    "scrolled": true
   },
   "outputs": [
    {
     "name": "stdout",
     "output_type": "stream",
     "text": [
      "http://m.saramin.co.kr/job-search/view?rec_idx=37863553&cn=search&cns=index&t_category=search&t_content=generic&searchword=%EB%8D%B0%EC%9D%B4%ED%84%B0+%EC%82%AC%EC%9D%B4%EC%96%B8%EC%8A%A4&searchType=search&paid_fl=n&t_ref=search&t_ref_content=generic\n"
     ]
    }
   ],
   "source": [
    "print(total_links[2])"
   ]
  },
  {
   "cell_type": "code",
   "execution_count": 967,
   "metadata": {},
   "outputs": [
    {
     "name": "stdout",
     "output_type": "stream",
     "text": [
      "http://m.saramin.co.kr/job-search/view?rec_idx=37863553&cn=search&cns=index&t_category=search&t_content=generic&searchword=%EB%8D%B0%EC%9D%B4%ED%84%B0+%EC%82%AC%EC%9D%B4%EC%96%B8%EC%8A%A4&searchType=search&paid_fl=n&t_ref=search&t_ref_content=generic\n"
     ]
    }
   ],
   "source": [
    "print(\"http://m.saramin.co.kr/job-search/view?rec_idx=37863553&cn=search&cns=index&t_category=search&t_content=generic&searchword=%EB%8D%B0%EC%9D%B4%ED%84%B0+%EC%82%AC%EC%9D%B4%EC%96%B8%EC%8A%A4&searchType=search&paid_fl=n&t_ref=search&t_ref_content=generic\")"
   ]
  },
  {
   "cell_type": "code",
   "execution_count": 990,
   "metadata": {},
   "outputs": [
    {
     "name": "stdout",
     "output_type": "stream",
     "text": [
      "http://m.saramin.co.kr/job-search/view?rec_idx=37673599&cn=search&cns=index&t_category=search&t_content=generic&searchword=%EB%8D%B0%EC%9D%B4%ED%84%B0+%EC%82%AC%EC%9D%B4%EC%96%B8%EC%8A%A4&searchType=search&paid_fl=n&t_ref=search&t_ref_content=generic\n"
     ]
    }
   ],
   "source": [
    "print(total_links[22])"
   ]
  },
  {
   "cell_type": "code",
   "execution_count": 984,
   "metadata": {
    "collapsed": true
   },
   "outputs": [
    {
     "name": "stdout",
     "output_type": "stream",
     "text": [
      "~04/10(금)\n",
      "\n",
      "~03/31(화)\n",
      "~03/15(일)\n",
      "~03/19(목)\n",
      "~03/31(화)\n",
      "~03/22(일)\n",
      "~03/22(일)\n",
      "~03/31(화)\n",
      "~04/06(월)\n",
      "~03/15(일)\n",
      "~03/16(월)\n",
      "~03/16(월)\n",
      "~03/16(월)\n",
      "~03/31(화)\n",
      "~03/15(일)\n",
      "\n",
      "~03/15(일)\n",
      "~05/11(월)\n",
      "~03/31(화)\n",
      "~03/15(일)\n",
      "~04/20(월)\n",
      "\n",
      "~04/01(수)\n",
      "\n",
      "~03/23(월)\n",
      "~04/05(일)\n",
      "~03/16(월)\n",
      "\n",
      "\n",
      "\n",
      "~04/01(수)\n",
      "~03/27(금)\n",
      "\n",
      "~04/03(금)\n",
      "~03/31(화)\n",
      "~04/20(월)\n",
      "\n",
      "\n",
      "~04/24(금)\n",
      "~05/02(토)\n",
      "\n",
      "~04/13(월)\n",
      "~03/31(화)\n",
      "~03/28(토)\n",
      "~04/21(화)\n",
      "~04/03(금)\n",
      "~03/21(토)\n",
      "~04/04(토)\n",
      "\n",
      "\n",
      "~03/20(금)\n",
      "~03/20(금)\n",
      "~03/16(월)\n",
      "\n",
      "~03/28(토)\n",
      "\n",
      "~04/13(월)\n",
      "\n",
      "~04/10(금)\n",
      "\n",
      "~04/14(화)\n",
      "~03/15(일)\n",
      "~03/15(일)\n",
      "~03/19(목)\n",
      "~03/16(월)\n"
     ]
    }
   ],
   "source": [
    "for l in total_links:\n",
    "    req = requests.get(l)\n",
    "    response = TextResponse(req.url, body=req.text, encoding=\"utf-8\")\n",
    "    try:\n",
    "        print(response.xpath('//*[@class=\"card_cont wrap_recruit_view\"]/section[@class=\"section_view section_basic_view\"]/div[@class=\"wrap_info_job\"]/dl[1]/dd/span[1]/text()')[0].extract().strip(),end='\\n')\n",
    "    except:\n",
    "        print(\"error\",end='\\n')"
   ]
  },
  {
   "cell_type": "code",
   "execution_count": 975,
   "metadata": {
    "scrolled": true
   },
   "outputs": [
    {
     "data": {
      "text/plain": [
       "'모바일게임소프트웨어(컴투스볼링,테트리스) 제작,데이타베이스 구축,관리'"
      ]
     },
     "execution_count": 975,
     "metadata": {},
     "output_type": "execute_result"
    }
   ],
   "source": [
    "response.xpath('//*[@id=\"card_set\"]/div[1]/div/section[4]/div/div[2]/dl[2]/dd/div/text()')[0].extract().strip()"
   ]
  },
  {
   "cell_type": "code",
   "execution_count": 980,
   "metadata": {},
   "outputs": [
    {
     "data": {
      "text/plain": [
       "'[일본취업] 식품·음료영업, 납품영업 경력직 정규직 모집합니다'"
      ]
     },
     "execution_count": 980,
     "metadata": {},
     "output_type": "execute_result"
    }
   ],
   "source": [
    "response.xpath('//*[@id=\"card_set\"]/div[1]/div/div[1]/div/h2/text()')[0].extract().strip()"
   ]
  },
  {
   "cell_type": "code",
   "execution_count": 991,
   "metadata": {},
   "outputs": [
    {
     "data": {
      "text/plain": [
       "[]"
      ]
     },
     "execution_count": 991,
     "metadata": {},
     "output_type": "execute_result"
    }
   ],
   "source": [
    "response.xpath('//*[@id=\"card_set\"]/div[1]/div/div[1]/div/span/span/text()').extract()"
   ]
  },
  {
   "cell_type": "code",
   "execution_count": 1019,
   "metadata": {},
   "outputs": [
    {
     "data": {
      "text/plain": [
       "'http://www.saramin.co.kr/zf_user/jobs/relay/view?rec_idx=37773491&view_type=etc&nomo=1'"
      ]
     },
     "execution_count": 1019,
     "metadata": {},
     "output_type": "execute_result"
    }
   ],
   "source": [
    "response.xpath('//*[@class=\"footer_link\"]/li/a/@href')[2].extract()"
   ]
  },
  {
   "cell_type": "code",
   "execution_count": 994,
   "metadata": {
    "collapsed": true
   },
   "outputs": [
    {
     "name": "stdout",
     "output_type": "stream",
     "text": [
      "(주)이음인터렉티브\n",
      "(주)디세이코리아\n",
      "(주) 컴투스\n",
      "(주)시몬스\n",
      "유사나헬스사이언스코리아(유)\n",
      "패스트캠퍼스\n",
      "MKS Korea\n",
      "브랭섬홀아시아(BHA)\n",
      "(주)파블로항공\n",
      "주식회사 에비드넷\n",
      "주식회사 대교씨엔에스\n",
      "(주)라이언앤코\n",
      "(주)라이언앤코\n",
      "(주)라이언앤코\n",
      "(주)SPH\n",
      "(주)러닝스푼즈\n",
      "지이헬스케어코리아(주)\n",
      "(주)레코드라인\n",
      "(주)글로벌모터서비스\n",
      "렌도코리아 \n",
      "건양대학교병원\n",
      "스마트마인드(주)\n",
      "(주)지티씨솔루션\n",
      "(주)투미유\n",
      "주식회사 강남엄마\n",
      "주식회사 에이티지\n",
      "이에이치알앤씨(주)\n",
      "입소스 주식회사(IPSOS)\n",
      "존슨앤드존슨\n",
      "(주)존슨앤드존슨\n",
      "한국피앤지판매유한회사\n",
      "트랜스퍼펙트코리아(유)\n",
      "(재)한국세계자연기금\n",
      "글로벌라이프사이언스솔루션즈코리아(유)\n",
      "엠씨지컨설팅(주)\n",
      "렌도코리아 \n",
      "밀리언웨어\n",
      "(주)동아사이언스 \n",
      "(주)동아사이언스 \n",
      "씨비에스바이오사이언스(주)\n",
      "퓨처메인(주)\n",
      "(주)엠서클\n",
      "주식회사 윙블링\n",
      "(주)제이앤케이사이언스\n",
      "(주)엠폴시스템\n",
      "(주)디케이비엠시\n",
      "(주)에필\n",
      "(주)제이엔피글로벌\n",
      "더넥스트스쿨(주)\n",
      "한국암웨이(주)\n",
      "한국암웨이(주)\n",
      "한영회계법인\n",
      "한영회계법인\n",
      "(주)파수닷컴\n",
      "인피니언테크놀로지스파워세미텍(주)\n",
      "갈더마코리아(주)\n",
      "한국테라데이타(유)\n",
      "(주)씨앤테크\n",
      "(주)레인보우브레인\t\n",
      "피피씨코리아(주)\n",
      "주식회사 강남엄마\n",
      "자이랜드(주)\n",
      "(주)에이조스바이오\n",
      "라인파이낸셜플러스(주)\n",
      "피티크래프트\n",
      "(주)글로벌트러스트네트웍스코리아\n"
     ]
    }
   ],
   "source": [
    "for l in total_links:\n",
    "    req = requests.get(l)\n",
    "    response = TextResponse(req.url, body=req.text, encoding=\"utf-8\")\n",
    "    \n",
    "    result = response.xpath('//*[@id=\"card_set\"]/div[1]/div/div[1]/div/span/span/text()').extract()\n",
    "    if result:\n",
    "        print(result[0],end=\"\\n\")\n",
    "    else :\n",
    "        print(response.xpath('//*[@id=\"card_set\"]/div[1]/div/div[1]/div/span/a/text()').extract()[0],end=\"\\n\")"
   ]
  },
  {
   "cell_type": "code",
   "execution_count": null,
   "metadata": {},
   "outputs": [],
   "source": []
  }
 ],
 "metadata": {
  "kernelspec": {
   "display_name": "Python 3",
   "language": "python",
   "name": "python3"
  },
  "language_info": {
   "codemirror_mode": {
    "name": "ipython",
    "version": 3
   },
   "file_extension": ".py",
   "mimetype": "text/x-python",
   "name": "python",
   "nbconvert_exporter": "python",
   "pygments_lexer": "ipython3",
   "version": "3.7.4"
  },
  "widgets": {
   "application/vnd.jupyter.widget-state+json": {
    "state": {},
    "version_major": 2,
    "version_minor": 0
   }
  }
 },
 "nbformat": 4,
 "nbformat_minor": 2
}
