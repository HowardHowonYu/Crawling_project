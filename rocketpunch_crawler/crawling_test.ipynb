{
 "cells": [
  {
   "cell_type": "markdown",
   "metadata": {},
   "source": [
    "# 롸켓펀치 크롤링"
   ]
  },
  {
   "cell_type": "code",
   "execution_count": 336,
   "metadata": {},
   "outputs": [
    {
     "data": {
      "text/plain": [
       "40"
      ]
     },
     "execution_count": 336,
     "metadata": {},
     "output_type": "execute_result"
    }
   ],
   "source": [
    "len(dom.select('#company-list > div.company.item > div.content > div.company-jobs-detail > div:nth-child(1) > div:nth-child(1) > a'))"
   ]
  },
  {
   "cell_type": "code",
   "execution_count": 337,
   "metadata": {},
   "outputs": [
    {
     "data": {
      "text/plain": [
       "56"
      ]
     },
     "execution_count": 337,
     "metadata": {},
     "output_type": "execute_result"
    }
   ],
   "source": [
    "len(dom.select('#company-list > div.company.item > div.content > div.company-jobs-detail > div.job-detail > div:nth-child(1) > a'))"
   ]
  },
  {
   "cell_type": "code",
   "execution_count": 290,
   "metadata": {},
   "outputs": [
    {
     "data": {
      "text/plain": [
       "'아이디브'"
      ]
     },
     "execution_count": 290,
     "metadata": {},
     "output_type": "execute_result"
    }
   ],
   "source": [
    "dom.select('#company-list > div.company.item > div.content')[2].select('div.company-name > a > h4 > strong')[0].text"
   ]
  },
  {
   "cell_type": "code",
   "execution_count": 294,
   "metadata": {},
   "outputs": [
    {
     "data": {
      "text/plain": [
       "'페칭 - 테크 기반의 문화와 자유로운 분위기를 지향하는 회사'"
      ]
     },
     "execution_count": 294,
     "metadata": {},
     "output_type": "execute_result"
    }
   ],
   "source": [
    "dom.select('#company-list > div.company.item > div.content')[1].select('div.description')[0].text.strip('\\xa0')"
   ]
  },
  {
   "cell_type": "code",
   "execution_count": 497,
   "metadata": {},
   "outputs": [],
   "source": [
    "def rocketpunch_crawler2(pages):\n",
    "    datas = []\n",
    "    for page in range(1,pages+1):\n",
    "        print(page)\n",
    "        url = \"https://www.rocketpunch.com/api/jobs/template?page={}&q=&specialty=Python&tag=%EB%8D%B0%EC%9D%B4%ED%84%B0%3E\".format(page)\n",
    "        response = requests.get(url)\n",
    "        data = response.json()['data']['template']\n",
    "        dom = BeautifulSoup(data, \"html.parser\")\n",
    "        root = dom.select('#company-list > div.company.item > div.content')\n",
    "        for i in range(20):\n",
    "            datas.append({\n",
    "                \"company\" : root[i].select('div.company-name > a > h4 > strong')[0].text,\n",
    "                \"description\" : root[i].select('div.description')[0].text.strip('\\xa0'),\n",
    "                \"service\" : root[i].select('div.nowrap.meta')[0].text.strip(),\n",
    "                \"position\" : root[i].select('div.company-jobs-detail > div:nth-child(1) > div:nth-child(1) > a')[0].text,\n",
    "                \"link\" : \"https://www.rocketpunch.com\"+ root[i].select('div.company-jobs-detail > div:nth-child(1) > div:nth-child(1) > a')[0].get('href'),\n",
    "                \"salary\" : root[i].select('div.company-jobs-detail > div:nth-child(1) > div:nth-child(1) > span')[0].text,\n",
    "                \"deadline\" : root[i].select('div.company-jobs-detail > div.job-detail > div.job-dates > span:nth-child(1)')[0].text.strip(' \\n'),\n",
    "            })\n",
    "            \n",
    "    return pd.DataFrame(datas)"
   ]
  },
  {
   "cell_type": "code",
   "execution_count": 270,
   "metadata": {},
   "outputs": [],
   "source": [
    "def rocketpunch_crawler(pages):\n",
    "    datas = []\n",
    "    for page in range(1,pages+1):\n",
    "        print(page)\n",
    "        url = \"https://www.rocketpunch.com/api/jobs/template?page={}&q=&specialty=Python&tag=%EB%8D%B0%EC%9D%B4%ED%84%B0%3E\".format(page)\n",
    "        response = requests.get(url)\n",
    "        data = response.json()['data']['template']\n",
    "        dom = BeautifulSoup(data, \"html.parser\")\n",
    "        for i in range(20):\n",
    "            datas.append({\n",
    "                \"company\" : dom.select('#company-list > div.company.item > div.content > div.company-name > a > h4 > strong')[i].text,\n",
    "                \"description\" : dom.select('#company-list > div.company.item > div.content > div.description')[i].text.strip('\\xa0'),\n",
    "                \"service\" : dom.select('#company-list > div.company.item > div.content > div.nowrap.meta')[i].text.strip(),\n",
    "                \"position\" : dom.select('#company-list > div.company.item > div.content > div.company-jobs-detail > div:nth-child(1) > div:nth-child(1) > a')[i].text,\n",
    "                \"link\" : \"https://www.rocketpunch.com\"+ dom.select('#company-list > div.company.item > div.content > div.company-jobs-detail > div:nth-child(1) > div:nth-child(1) > a')[0].get('href'),\n",
    "                \"salary\" : dom.select('#company-list > div.company.item > div.content > div.company-jobs-detail > div:nth-child(1) > div:nth-child(1) > span')[i].text,\n",
    "                \"deadline\" : dom.select('#company-list > div.company.item > div.content > div.company-jobs-detail > div.job-detail > div.job-dates > span:nth-child(1)')[i].text.strip(' \\n'),\n",
    "            })\n",
    "            \n",
    "    return pd.DataFrame(datas)"
   ]
  },
  {
   "cell_type": "code",
   "execution_count": null,
   "metadata": {},
   "outputs": [],
   "source": []
  },
  {
   "cell_type": "code",
   "execution_count": null,
   "metadata": {},
   "outputs": [],
   "source": []
  },
  {
   "cell_type": "code",
   "execution_count": null,
   "metadata": {},
   "outputs": [],
   "source": []
  },
  {
   "cell_type": "code",
   "execution_count": null,
   "metadata": {},
   "outputs": [],
   "source": []
  },
  {
   "cell_type": "code",
   "execution_count": null,
   "metadata": {},
   "outputs": [],
   "source": []
  },
  {
   "cell_type": "code",
   "execution_count": null,
   "metadata": {},
   "outputs": [],
   "source": []
  },
  {
   "cell_type": "code",
   "execution_count": 1,
   "metadata": {},
   "outputs": [],
   "source": [
    "url = \"https://www.rocketpunch.com/jobs?specialty=Python&tag=%EB%8D%B0%EC%9D%B4%ED%84%B0\""
   ]
  },
  {
   "cell_type": "code",
   "execution_count": 2,
   "metadata": {
    "scrolled": true
   },
   "outputs": [
    {
     "data": {
      "text/plain": [
       "<Response [200]>"
      ]
     },
     "execution_count": 2,
     "metadata": {},
     "output_type": "execute_result"
    }
   ],
   "source": [
    "response = requests.get(url)\n",
    "response"
   ]
  },
  {
   "cell_type": "code",
   "execution_count": 3,
   "metadata": {},
   "outputs": [
    {
     "data": {
      "text/plain": [
       "'<!DOCTYPE html>\\n<!--[if IE 9]>\\n<html xmlns:fb=\"http://ogp.me/ns/fb#\" class=\"ie ie9\">\\n<![endif]-->\\n<!--[if (gt IE 9)|!(IE)]><!-->\\n<html xmlns:fb=\"http://ogp.me/ns/fb#\">\\n<!--<![endif]-->\\n<head>\\n  <meta http-equiv=\"content-type\" content=\"text/html; charset=utf-8\">\\n  <meta http-equiv=\"X-UA-Compatible\" content=\"IE=Edge\">\\n  <title>Python, 데이터 채용 정보\\n | 로켓펀치 - 비즈니스 네트워크</title>\\n<meta name=\"viewport\" content=\"width=device-width,minimum-scale=1.0,initial-scale=1.0,maximum-scale=1.0,user-scalable=no\">  <meta name=\"description\" content=\"Python, 데이터 관련 채용 정보를 찾아보세요. \\'로켓펀치\\'는 비즈니스와 커리어를 성장시킬 수 있는 국내 최대 비즈니스 네트워크입니다.\">\\n<link rel=\"canonical\" href=\"https://www.rocketpunch.com/jobs/tags/python\" />\\n<link rel=\"icon\" href=\"/favicon.ico\" type=\"image/x-icon\">\\n  <link rel=\"shortcut icon\" href=\"/favicon.ico\" type=\"image/x-icon\">\\n  <link rel=\"icon\" type=\"image/png\" href=\"/favicon-16x16.png\" sizes=\"16x16\">\\n  <link rel=\"icon\" type=\"image/png\" href=\"/favicon-32x32.png\" sizes=\"32x32\">\\n  <link rel=\"icon\" type=\"image/png\" href=\"/favicon-96x96.png\" sizes=\"96x96\">\\n  <link rel=\"apple-touch-icon\" href=\"/apple-touch-icon.png\">\\n  <link rel=\"apple-touch-icon\" sizes=\"58x58\" href=\"/apple-touch-icon-58x58.png\" />\\n  <link rel=\"apple-touch-icon\" sizes=\"60x60\" href=\"/apple-touch-icon-60x60.png\" />\\n  <link rel=\"apple-touch-icon\" sizes=\"72x72\" href=\"/apple-touch-icon-72x72.png\" />\\n  <link rel=\"apple-touch-icon\" sizes=\"76x76\" href=\"/apple-touch-icon-76x76.png\" />\\n  <link rel=\"apple-touch-icon\" sizes=\"114x114\" href=\"/apple-touch-icon-114x114.png\" />\\n  <link rel=\"apple-touch-icon\" sizes=\"120x120\" href=\"/apple-touch-icon-120x120.png\" />\\n  <link rel=\"apple-touch-icon\" sizes=\"144x144\" href=\"/apple-touch-icon-144x144.png\" />\\n  <link rel=\"apple-touch-icon\" sizes=\"152x152\" href=\"/apple-touch-icon-152x152.png\" />\\n  <link rel=\"apple-touch-icon\" sizes=\"180x180\" href=\"/apple-touch-icon-180x180.png\" />\\n  <link rel=\"manifest\" href=\"/site.webmanifest\">  <link type=\"text/css\" href=\"https://static.rocketpunch.com/bundle/rocketpunch.71a197c17df42330a832.css\" rel=\"stylesheet\">\\n  <link rel=\"stylesheet\" href=\"https://cdnjs.cloudflare.com/ajax/libs/slick-carousel/1.9.0/slick.min.css\" />  <link type=\"text/css\" href=\"https://static.rocketpunch.com/bundle/search.71a197c17df42330a832.css\" rel=\"stylesheet\">\\n  <link type=\"text/css\" href=\"https://static.rocketpunch.com/bundle/job.71a197c17df42330a832.css\" rel=\"stylesheet\">\\n\\n  <link type=\"text/css\" rel=\"stylesheet\" href=\"https://cdnjs.cloudflare.com/ajax/libs/cropper/0.9.3/cropper.min.css\">\\n  <script>addEventListener(\\'error\\', window.__e=function f(e){f.q=f.q||[];f.q.push(e)});</script><script>window.ga=window.ga||function(){(ga.q=ga.q||[]).push(arguments)};ga.l=+new Date;</script>\\n  \\n    <style>.async-hide { opacity: 0 !important} </style>\\n<script>(function(a,s,y,n,c,h,i,d,e){s.className+=\\' \\'+y;h.start=1*new Date;\\nh.end=i=function(){s.className=s.className.replace(RegExp(\\' ?\\'+y),\\'\\')};\\n(a[n]=a[n]||[]).hide=h;setTimeout(function(){i();h.end=null},c);h.timeout=c;\\n})(window,document.documentElement,\\'async-hide\\',\\'dataLayer\\',4000,\\n{\\'GTM-NMJNJ4X\\':true});</script><script async src=\"https://www.google-analytics.com/analytics.js\"></script><script async type=\"text/javascript\" src=\"https://static.rocketpunch.com/bundle/autotrack.564ffde88a3a396fb772.js\"></script><script>\\n  !function(f,b,e,v,n,t,s)\\n  {if(f.fbq)return;n=f.fbq=function(){n.callMethod?\\n  n.callMethod.apply(n,arguments):n.queue.push(arguments)};\\n  if(!f._fbq)f._fbq=n;n.push=n;n.loaded=!0;n.version=\\'2.0\\';\\n  n.queue=[];t=b.createElement(e);t.async=!0;\\n  t.src=v;s=b.getElementsByTagName(e)[0];\\n  s.parentNode.insertBefore(t,s)}(window, document,\\'script\\',\\n  \\'https://connect.facebook.net/en_US/fbevents.js\\');fbq(\\'init\\', \\'302703360263988\\');fbq(\\'track\\', \\'PageView\\');</script>\\n<noscript>\\n<img height=\"1\" width=\"1\" style=\"display:none\" src=\"https://www.facebook.com/tr?id=302703360263988&ev=PageView&noscript=1\"/>\\n</noscript></head>\\n<body class=\"pushable\"><div id=\"global-messages\"></div>\\n<div id=\"old_alert\"></div>\\n<script>\\n  UserVoice=window.UserVoice||[];\\n  (function(){\\n    var uv=document.createElement(\\'script\\');\\n    uv.type=\\'text/javascript\\';\\n    uv.async=true;\\n    uv.src=\\'//widget.uservoice.com/AimAPibQeGuNzX3w7vJ7Q.js\\';\\n    var s=document.getElementsByTagName(\\'script\\')[0];\\n    s.parentNode.insertBefore(uv,s)\\n  })();\\n  window.fbAsyncInit = function() {\\n    FB.init({\\n      appId            : \\'440667109316276\\',\\n      autoLogAppEvents : true,\\n      xfbml            : true,\\n      version          : \\'v5.0\\'\\n    });\\n  };\\n  WebFontConfig = {\\n    google: { families: [\\'Roboto\\', \\'Nanum Gothic\\', \\'Nanum Myeongjo\\'] }\\n  };\\n  (function(d) {\\n    var wf = d.createElement(\\'script\\'), s = d.scripts[0];\\n    wf.src = \\'https://ajax.googleapis.com/ajax/libs/webfont/1.6.26/webfont.js\\';\\n    wf.async = true;\\n    s.parentNode.insertBefore(wf, s);\\n  })(document);\\n</script>\\n<script async defer src=\"https://connect.facebook.net/ko_KR/sdk.js\"></script>\\n<div id=\"main-sidebar\" class=\"ui vertical menu left sidebar\">\\n  <div class=\"sidebar-header clearfix\">\\n    <a id=\"close-main-sidebar\"><i class=\"big ic-close icon\" title=\"RocketPunch\"></i></a>\\n    <a href=\"/\"><img src=\"https://static.rocketpunch.com/images/rocketpunch_logo.svg\" alt=\"RocketPunch\"></a>\\n  </div>\\n  <a href=\"/\" class=\"item\">홈</a>\\n  <a href=\"/people\" class=\"item\">인맥</a>\\n  <a href=\"/companies\" class=\"item\">기업</a>\\n  <a href=\"/jobs\" class=\"item\">채용</a>\\n  <a href=\"/jobhunts\" class=\"item\">셀프구직</a>\\n  <a href=\"/pricing\" class=\"item\">광고/채용 서비스</a>\\n  <a href=\"https://blog.rocketpunch.com\" target=\"_blank\" class=\"item\">블로그</a>\\n</div>\\n<div class=\" pusher\">\\n  <div id=\"header\" class=\"ui borderless main menu\">\\n    <div class=\"ui container\">\\n      <div id=\"mobile-menu\" class=\"tablet mobile only\">\\n        <a id=\"mobile-main-menu\" class=\"item\">\\n          <i class=\"large ic-menu icon menu-icon\"></i>\\n        </a>\\n        <a id=\"mobile-search-menu\" class=\"item\">\\n          <i class=\"large ic-magnifying-glass icon\"></i>\\n        </a><div class=\"right menu\">\\n            <div class=\"item\">\\n              <a href=\"/login?next_url=/jobs\" class=\"ui basic button\">로그인</a>\\n              <a href=\"/signup?next_url=/jobs\" class=\"ui primary button\">무료 가입</a>\\n            </div>\\n          </div></div><div class=\"computer large screen widescreen only\">\\n        <a class=\"main logo item\" href=\"/\">\\n          <img src=\"https://static.rocketpunch.com/images/rocketpunch_logo.svg\" alt=\"RocketPunch\">\\n        </a>\\n        <div class=\"divider item\"><div class=\"ui vertical divider\"></div></div>\\n        <div class=\"item\">\\n          <div id=\"header-search\" class=\"ui search\" data-url=\"/suggest?q={query}\">\\n            <div class=\"ui left icon transparent input\">\\n              <i class=\"ic-magnifying-glass icon\"></i>\\n              <input type=\"text\" class=\"prompt\" size=\"30\" placeholder=\"통합 검색\">\\n            </div>\\n          </div>\\n        </div>\\n      </div>\\n      <div id=\"main-menu\" class=\"right menu\">\\n        <a href=\"/people\" class=\"item\">인맥</a>\\n        <a href=\"/companies\" class=\"item\">기업</a>\\n        <a href=\"/jobs\" class=\"item\">채용</a>\\n        <a href=\"/jobhunts\" class=\"item\">셀프구직</a>\\n        <div class=\"ui main-divider item\"></div>\\n        <div id=\"main-menu-dropdown\" class=\"ui item inline dropdown\">\\n          <div class=\"text\">더보기&nbsp;</div>\\n          <i class=\"ic-chevron-down icon\"></i>\\n          <div class=\"menu\">\\n            <a href=\"/pricing\" class=\"item\">광고/채용 서비스</a>\\n            <a href=\"https://blog.rocketpunch.com\" target=\"_blank\" class=\"item\">블로그</a>\\n          </div>\\n        </div>\\n        <div class=\"item\">\\n          <a href=\"/login?next_url=/jobs\" class=\"ui basic button\">로그인</a>\\n          <a href=\"/signup\" class=\"ui primary button\">무료 가입</a>\\n        </div>\\n      </div></div>  </div><div id=\"text-banner\">\\n  <a href=\"http://bit.ly/2wF8U01\" target=\"_blank\" id=\"RocketPunch-Business-codeit-20200309-toptext\">\\n    <span>실습하며 배우는 온라인 코딩 스쿨</span> <span class=\"computer large screen widescreen only\">-</span> <span>월 19,900원에 무제한 수강하기</span>\\n  </a>\\n  <a href=\"/pricing\" target=\"_blank\">광고</a>\\n</div>  <div id=\"breadcrumb\" class=\"ui container\"><div class=\"ui mini breadcrumb nowrap\">\\n  <a href=\"/\" class=\"section\">홈</a>\\n  <div class=\"divider\"> / </div>\\n  <a href=\"/jobs\" class=\"section\">채용</a>\\n</div></div>\\n  <div id=\"warning-adblock\" style=\"display:none;\">\\n    <div class=\"ui container\">\\n      <div class=\"block img\"></div>\\n      <div class=\"content\">웹 브라우저에서 광고 차단 도구를 사용중이면 광고 관련 페이지가 정상적으로 보이지 않을 수 있습니다. 광고 차단 도구를 끄거나 로켓펀치를 예외로 추가하는 것이 좋습니다. 광고 차단 도구를 끈 후에는 화면을 새로 고침해 주세요.</div>\\n      <a href=\"javascript:\" onclick=\"$(\\'#warning-adblock\\').fadeOut(300, function() { $(this).remove() });\"><i class=\"ic-close icon\"></i></a>\\n    </div>\\n  </div>\\n<div id=\"wrap\" class=\"ui container\">\\n  <div class=\"ui tablet stackable grid\">\\n    <div class=\"three wide column\">\\n      <div class=\"tablet mobile only\">\\n        <div id=\"mobile-navigation\" class=\"ui navigation selection fluid dropdown\">\\n          <i class=\"dropdown icon\"></i>\\n          <div class=\"ui default blue text\">            <i class=\"ic-envelope icon\"></i>모든 채용 (2,530)\\n</div>\\n          <div class=\"menu\">\\n            <a class=\"item\" href=\"/jobs\">\\n              <i class=\"ic-envelope icon\"></i>모든 채용 정보 (2,530)\\n            </a>\\n            <a class=\"item\" href=\"/jobs/collections\">\\n              <i class=\"ic-envelopes icon\"></i>투자사 별 채용 정보 (1,383)\\n            </a>\\n            <a class=\"item\" href=\"/jobs?rel=skipped\">\\n              <i class=\"ic-box_misc icon\"></i>\\n              Skip한 채용 정보</a>\\n          </div>\\n        </div>\\n      </div>\\n      <div id=\"desktop-navigation\" class=\"computer large screen widescreen only\"><a href=\"/signup\" class=\"ui primary fluid button\">채용 무료 등록</a><div id=\"object-list-menu\" class=\"ui fluid vertical menu\">\\n          <a href=\"/jobs\"\\n             class=\"active item\">\\n            <i class=\"ic-envelope icon\"></i>\\n            모든 채용 정보 (2,530)\\n          </a>\\n          <a href=\"/jobs/collections\" class=\"item\">\\n            <i class=\"ic-envelopes icon\"></i>투자사 별 채용 정보 (1,383)\\n          </a>\\n          <a class=\"item\"              data-modal=\"signup\" data-next=\"/jobs?rel=skipped\"\\n>\\n            <i class=\"ic-box_misc icon\"></i>\\n            Skip한 채용 정보\\n          </a>\\n        </div><div id=\"section-banner\" class=\"computer large screen widescreen only block\">\\n  <div id=\"banner-list\">\\n    <div class=\"image\">\\n      <a href=\"http://bit.ly/2wAa4da\" title=\"새창\" target=\"_blank\" id=\"RocketPunch-Business-codeit-side-500x500-20200303-service\"><img data-src=\"https://media.rocketpunch.com/side_banner/m/2020/03/07/%EB%A1%9C%EC%BC%93_250x250_4.png\" class=\"ui image lazyload\"></a>\\n    </div>\\n  </div><p class=\"banner guide\">\\n    <a href=\"/pricing\" class=\"primary link\" target=\"_blank\">배너 문의</a>\\n  </p></div></div>\\n    </div>\\n\\n    <div class=\"nine wide column\">\\n<div class=\"ui segment omnibox-filter\">\\n  <h1 class=\"ui top header\">\\n    채용 정보 검색\\n  </h1>\\n\\n  <form id=\"search-form\" action=\"/jobs\" method=\"GET\">\\n    <div class=\"ui doubling stackable menu\">\\n<div class=\"ui dropdown item\">\\n  <div class=\"ui basic  button\">\\n    채용 분야\\n    <i class=\"ic-chevron-down icon\"></i>\\n  </div>\\n  <div class=\"menu\">\\n      <a class=\"item\" data-name=\"job\" data-value=\"1\" data-caption=\"SW 개발\" href=\"/jobs?specialty=Python&amp;tag=%EB%8D%B0%EC%9D%B4%ED%84%B0&amp;job=1\">SW 개발</a>\\n      <a class=\"item\" data-name=\"job\" data-value=\"2\" data-caption=\"HW 개발\" href=\"/jobs?specialty=Python&amp;tag=%EB%8D%B0%EC%9D%B4%ED%84%B0&amp;job=2\">HW 개발</a>\\n      <a class=\"item\" data-name=\"job\" data-value=\"10\" data-caption=\"게임 개발\" href=\"/jobs?specialty=Python&amp;tag=%EB%8D%B0%EC%9D%B4%ED%84%B0&amp;job=10\">게임 개발</a>\\n      <a class=\"item\" data-name=\"job\" data-value=\"3\" data-caption=\"디자인\" href=\"/jobs?specialty=Python&amp;tag=%EB%8D%B0%EC%9D%B4%ED%84%B0&amp;job=3\">디자인</a>\\n      <a class=\"item\" data-name=\"job\" data-value=\"9\" data-caption=\"기획/PM\" href=\"/jobs?specialty=Python&amp;tag=%EB%8D%B0%EC%9D%B4%ED%84%B0&amp;job=9\">기획/PM</a>\\n      <a class=\"item\" data-name=\"job\" data-value=\"5\" data-caption=\"마케팅\" href=\"/jobs?specialty=Python&amp;tag=%EB%8D%B0%EC%9D%B4%ED%84%B0&amp;job=5\">마케팅</a>\\n      <a class=\"item\" data-name=\"job\" data-value=\"4\" data-caption=\"운영\" href=\"/jobs?specialty=Python&amp;tag=%EB%8D%B0%EC%9D%B4%ED%84%B0&amp;job=4\">운영</a>\\n      <a class=\"item\" data-name=\"job\" data-value=\"8\" data-caption=\"경영지원\" href=\"/jobs?specialty=Python&amp;tag=%EB%8D%B0%EC%9D%B4%ED%84%B0&amp;job=8\">경영지원</a>\\n      <a class=\"item\" data-name=\"job\" data-value=\"6\" data-caption=\"비즈니스\" href=\"/jobs?specialty=Python&amp;tag=%EB%8D%B0%EC%9D%B4%ED%84%B0&amp;job=6\">비즈니스</a>\\n      <a class=\"item\" data-name=\"job\" data-value=\"7\" data-caption=\"투자\" href=\"/jobs?specialty=Python&amp;tag=%EB%8D%B0%EC%9D%B4%ED%84%B0&amp;job=7\">투자</a>\\n  </div>\\n</div><div class=\"ui dropdown item\">\\n  <div class=\"ui basic  button\">\\n    산업\\n    <i class=\"ic-chevron-down icon\"></i>\\n  </div>\\n  <div class=\"menu\">\\n    <div class=\"ui search\" data-name=\"tag\" data-url=\"/api/search/companies/tags?name={query}\" data-caption=\"산업: \">\\n      <div class=\"ui icon fluid input\">\\n        <input class=\"industry prompt\" type=\"text\" placeholder=\"산업을 검색해보세요\">\\n        <i class=\"search icon\"></i>\\n      </div>\\n      <div class=\"results\">\\n      </div>\\n      <div class=\"presets\">\\n        <p class=\"search category\">인기 산업</p>\\n          <a class=\"item result\" data-name=\"tag\" data-value=\"웹서비스\" data-caption=\"웹서비스\" href=\"/jobs?specialty=Python&amp;tag=%EB%8D%B0%EC%9D%B4%ED%84%B0&amp;tag=%EC%9B%B9%EC%84%9C%EB%B9%84%EC%8A%A4\">\\n            <div class=\"content\">\\n              <div class=\"title\">\\n                웹서비스\\n              </div>\\n            </div>\\n          </a>\\n          <a class=\"item result\" data-name=\"tag\" data-value=\"모바일\" data-caption=\"모바일\" href=\"/jobs?specialty=Python&amp;tag=%EB%AA%A8%EB%B0%94%EC%9D%BC&amp;tag=%EB%8D%B0%EC%9D%B4%ED%84%B0\">\\n            <div class=\"content\">\\n              <div class=\"title\">\\n                모바일\\n              </div>\\n            </div>\\n          </a>\\n          <a class=\"item result\" data-name=\"tag\" data-value=\"e-commerce\" data-caption=\"e-commerce\" href=\"/jobs?specialty=Python&amp;tag=e-commerce&amp;tag=%EB%8D%B0%EC%9D%B4%ED%84%B0\">\\n            <div class=\"content\">\\n              <div class=\"title\">\\n                e-commerce\\n              </div>\\n            </div>\\n          </a>\\n          <a class=\"item result\" data-name=\"tag\" data-value=\"IoT\" data-caption=\"IoT\" href=\"/jobs?specialty=Python&amp;tag=IoT&amp;tag=%EB%8D%B0%EC%9D%B4%ED%84%B0\">\\n            <div class=\"content\">\\n              <div class=\"title\">\\n                IoT\\n              </div>\\n            </div>\\n          </a>\\n          <a class=\"item result\" data-name=\"tag\" data-value=\"O2O\" data-caption=\"O2O\" href=\"/jobs?specialty=Python&amp;tag=O2O&amp;tag=%EB%8D%B0%EC%9D%B4%ED%84%B0\">\\n            <div class=\"content\">\\n              <div class=\"title\">\\n                O2O\\n              </div>\\n            </div>\\n          </a>\\n          <a class=\"item result\" data-name=\"tag\" data-value=\"핀테크\" data-caption=\"핀테크\" href=\"/jobs?specialty=Python&amp;tag=%ED%95%80%ED%85%8C%ED%81%AC&amp;tag=%EB%8D%B0%EC%9D%B4%ED%84%B0\">\\n            <div class=\"content\">\\n              <div class=\"title\">\\n                핀테크\\n              </div>\\n            </div>\\n          </a>\\n      </div>\\n    </div>\\n  </div>\\n</div><div class=\"ui dropdown item\">\\n  <div class=\"ui basic  button\">\\n    활동 분야\\n    <i class=\"ic-chevron-down icon\"></i>\\n  </div>\\n  <div class=\"menu\">\\n    <div class=\"ui search\" data-name=\"tag\" data-url=\"/api/search/jobs/specialties?name={query}\" data-caption=\"활동 분야: \">\\n      <div class=\"ui icon fluid input\">\\n        <input class=\"industry prompt\" type=\"text\" placeholder=\"활동 분야를 검색해보세요\">\\n        <i class=\"search icon\"></i>\\n      </div>\\n      <div class=\"results\">\\n      </div>\\n      <div class=\"presets\">\\n          <a class=\"item result\" data-name=\"specialty\" data-value=\"Android\" data-caption=\"Android\" href=\"/jobs?specialty=Python&amp;specialty=Android&amp;tag=%EB%8D%B0%EC%9D%B4%ED%84%B0\">\\n            <div class=\"content\">\\n              <div class=\"title\">\\n                Android\\n              </div>\\n            </div>\\n          </a>\\n          <a class=\"item result\" data-name=\"specialty\" data-value=\"iOS\" data-caption=\"iOS\" href=\"/jobs?specialty=Python&amp;specialty=iOS&amp;tag=%EB%8D%B0%EC%9D%B4%ED%84%B0\">\\n            <div class=\"content\">\\n              <div class=\"title\">\\n                iOS\\n              </div>\\n            </div>\\n          </a>\\n          <a class=\"item result\" data-name=\"specialty\" data-value=\"C++\" data-caption=\"C++\" href=\"/jobs?specialty=Python&amp;specialty=C%2B%2B&amp;tag=%EB%8D%B0%EC%9D%B4%ED%84%B0\">\\n            <div class=\"content\">\\n              <div class=\"title\">\\n                C++\\n              </div>\\n            </div>\\n          </a>\\n          <a class=\"item result\" data-name=\"specialty\" data-value=\"C#\" data-caption=\"C#\" href=\"/jobs?specialty=Python&amp;specialty=C%23&amp;tag=%EB%8D%B0%EC%9D%B4%ED%84%B0\">\\n            <div class=\"content\">\\n              <div class=\"title\">\\n                C#\\n              </div>\\n            </div>\\n          </a>\\n          <a class=\"item result\" data-name=\"specialty\" data-value=\"Java\" data-caption=\"Java\" href=\"/jobs?specialty=Python&amp;specialty=Java&amp;tag=%EB%8D%B0%EC%9D%B4%ED%84%B0\">\\n            <div class=\"content\">\\n              <div class=\"title\">\\n                Java\\n              </div>\\n            </div>\\n          </a>\\n          <a class=\"item result\" data-name=\"specialty\" data-value=\"PHP\" data-caption=\"PHP\" href=\"/jobs?specialty=Python&amp;specialty=PHP&amp;tag=%EB%8D%B0%EC%9D%B4%ED%84%B0\">\\n            <div class=\"content\">\\n              <div class=\"title\">\\n                PHP\\n              </div>\\n            </div>\\n          </a>\\n          <a class=\"item result\" data-name=\"specialty\" data-value=\"Python\" data-caption=\"Python\" href=\"/jobs?specialty=Python&amp;tag=%EB%8D%B0%EC%9D%B4%ED%84%B0\">\\n            <div class=\"content\">\\n              <div class=\"title\">\\n                Python\\n              </div>\\n            </div>\\n          </a>\\n          <a class=\"item result\" data-name=\"specialty\" data-value=\"Ruby\" data-caption=\"Ruby\" href=\"/jobs?specialty=Python&amp;specialty=Ruby&amp;tag=%EB%8D%B0%EC%9D%B4%ED%84%B0\">\\n            <div class=\"content\">\\n              <div class=\"title\">\\n                Ruby\\n              </div>\\n            </div>\\n          </a>\\n          <a class=\"item result\" data-name=\"specialty\" data-value=\"JSP\" data-caption=\"JSP\" href=\"/jobs?specialty=Python&amp;specialty=JSP&amp;tag=%EB%8D%B0%EC%9D%B4%ED%84%B0\">\\n            <div class=\"content\">\\n              <div class=\"title\">\\n                JSP\\n              </div>\\n            </div>\\n          </a>\\n          <a class=\"item result\" data-name=\"specialty\" data-value=\"Node.js\" data-caption=\"Node.js\" href=\"/jobs?specialty=Python&amp;specialty=Node.js&amp;tag=%EB%8D%B0%EC%9D%B4%ED%84%B0\">\\n            <div class=\"content\">\\n              <div class=\"title\">\\n                Node.js\\n              </div>\\n            </div>\\n          </a>\\n          <a class=\"item result\" data-name=\"specialty\" data-value=\"AngularJS\" data-caption=\"AngularJS\" href=\"/jobs?specialty=Python&amp;specialty=AngularJS&amp;tag=%EB%8D%B0%EC%9D%B4%ED%84%B0\">\\n            <div class=\"content\">\\n              <div class=\"title\">\\n                AngularJS\\n              </div>\\n            </div>\\n          </a>\\n          <a class=\"item result\" data-name=\"specialty\" data-value=\"jQuery\" data-caption=\"jQuery\" href=\"/jobs?specialty=Python&amp;specialty=jQuery&amp;tag=%EB%8D%B0%EC%9D%B4%ED%84%B0\">\\n            <div class=\"content\">\\n              <div class=\"title\">\\n                jQuery\\n              </div>\\n            </div>\\n          </a>\\n          <a class=\"item result\" data-name=\"specialty\" data-value=\"ASP.NET\" data-caption=\"ASP.NET\" href=\"/jobs?specialty=Python&amp;specialty=ASP.NET&amp;tag=%EB%8D%B0%EC%9D%B4%ED%84%B0\">\\n            <div class=\"content\">\\n              <div class=\"title\">\\n                ASP.NET\\n              </div>\\n            </div>\\n          </a>\\n      </div>\\n    </div>\\n  </div>\\n</div><div class=\"ui dropdown item with-range\">\\n  <div class=\"ui basic  button\">\\n    보상\\n    <i class=\"ic-chevron-down icon\"></i>\\n  </div>\\n  <div class=\"menu\">\\n    <div class=\"ui header\" style=\"min-width: 20em; font-size: 14px;\">\\n      <div>\\n        <p>\\n          <input id=\"salary\" type=\"checkbox\" checked>\\n          <label for=\"salary\">연봉:</label>\\n        </p>\\n        <div class=\"ui range\" data-caption=\"연봉:\" data-min=\"0\" data-max=\"200\" data-format=\"format_salary\"></div>\\n        <p><span style=\"float: right\" data-name=\\'salary\\' data-value=\\'0-\\' data-caption=\\'연봉: 0-\\'>0억-2억+</span></p>\\n      </div>\\n      <div style=\"margin-top:2em; margin-bottom:2em;\">\\n        <p>\\n          <input id=\"stock\" type=\"checkbox\" checked>\\n          <label for=\"stock\">스톡옵션:</label>\\n        </p>\\n        <div class=\"ui range\" data-caption=\"스톡옵션:\" data-min=\"0\" data-max=\"50\" data-format=\"format_stock\"></div>\\n        <p><span style=\"float: right\" data-name=\\'stock\\' data-value=\\'0-\\' data-caption=\\'스톡옵션: 0-\\'>0%-5%</span></p>\\n      </div>\\n    </div>\\n    <a class=\"item button\">필터 적용하기</a>\\n  </div>\\n</div><div class=\"ui dropdown item\">\\n  <div class=\"ui basic  button\">\\n    채용 조건\\n    <i class=\"ic-chevron-down icon\"></i>\\n  </div>\\n  <div class=\"menu\">\\n    <p class=\"search category\">경력 여부</p>\\n    <a class=\"item\" data-name=\"career_type\" data-value=\"1\" data-caption=\"경력 여부: 신입\" href=\"/jobs?specialty=Python&amp;tag=%EB%8D%B0%EC%9D%B4%ED%84%B0&amp;career_type=1\">신입</a>\\n    <a class=\"item\" data-name=\"career_type\" data-value=\"2\" data-caption=\"경력 여부: 경력\" href=\"/jobs?specialty=Python&amp;tag=%EB%8D%B0%EC%9D%B4%ED%84%B0&amp;career_type=2\">경력</a>\\n    <a class=\"item\" data-name=\"career_type\" data-value=\"4\" data-caption=\"경력 여부: 인턴\" href=\"/jobs?specialty=Python&amp;tag=%EB%8D%B0%EC%9D%B4%ED%84%B0&amp;career_type=4\">인턴</a>\\n    <p class=\"search category\">고용 형태</p>\\n    <a class=\"item\" data-name=\"hiring_types\" data-value=\"0\" data-caption=\"고용 형태: 풀타임\" href=\"/jobs?specialty=Python&amp;tag=%EB%8D%B0%EC%9D%B4%ED%84%B0&amp;hiring_types=0\">풀타임</a>\\n    <a class=\"item\" data-name=\"hiring_types\" data-value=\"1\" data-caption=\"고용 형태: 파트타임\" href=\"/jobs?specialty=Python&amp;tag=%EB%8D%B0%EC%9D%B4%ED%84%B0&amp;hiring_types=1\">파트타임</a>\\n    <a class=\"item\" data-name=\"hiring_types\" data-value=\"2\" data-caption=\"고용 형태: 프리랜서\" href=\"/jobs?specialty=Python&amp;tag=%EB%8D%B0%EC%9D%B4%ED%84%B0&amp;hiring_types=2\">프리랜서</a>\\n    <a class=\"item\" data-name=\"hiring_types\" data-value=\"3\" data-caption=\"고용 형태: 병역 대체\" href=\"/jobs?specialty=Python&amp;tag=%EB%8D%B0%EC%9D%B4%ED%84%B0&amp;hiring_types=3\">병역 대체</a>\\n    <p class=\"search category\">근무 조건</p>\\n    <a class=\"item\" data-name=\"remote\" data-value=\"1\" data-caption=\"원격 근무: Y\" href=\"/jobs?specialty=Python&amp;tag=%EB%8D%B0%EC%9D%B4%ED%84%B0&amp;remote=1\">원격 근무</a>\\n    <p class=\"search category\">외국어 조건</p>\\n    <a class=\"item\" data-name=\"language\" data-value=\"영어\" data-caption=\"언어: 영어\" href=\"/jobs?specialty=Python&amp;tag=%EB%8D%B0%EC%9D%B4%ED%84%B0&amp;language=%EC%98%81%EC%96%B4\">영어</a>\\n    <a class=\"item\" data-name=\"language\" data-value=\"중국어\" data-caption=\"언어: 중국어\" href=\"/jobs?specialty=Python&amp;tag=%EB%8D%B0%EC%9D%B4%ED%84%B0&amp;language=%EC%A4%91%EA%B5%AD%EC%96%B4\">중국어</a>\\n    <a class=\"item\" data-name=\"language\" data-value=\"일본어\" data-caption=\"언어: 일본어\" href=\"/jobs?specialty=Python&amp;tag=%EB%8D%B0%EC%9D%B4%ED%84%B0&amp;language=%EC%9D%BC%EB%B3%B8%EC%96%B4\">일본어</a>\\n    <p class=\"search category\">병역대체</p>\\n    <a class=\"item\" data-name=\"military_service\" data-value=\"1\" data-caption=\"병역대체 기업: Y\" href=\"/jobs?specialty=Python&amp;tag=%EB%8D%B0%EC%9D%B4%ED%84%B0&amp;military_service=1\">병역대체 기업</a>\\n  </div>\\n</div><div class=\"ui location dropdown item\">\\n  <div class=\"ui basic  button\">\\n    지역\\n    <i class=\"ic-chevron-down icon\"></i>\\n  </div>\\n  <div class=\"menu\">\\n    <div class=\"ui search\" data-name=\"location\" data-url=\"/api/search/jobs/locations?name={query}\" data-caption=\"지역: \">\\n      <div class=\"ui icon fluid input\">\\n        <input class=\"location prompt\" type=\"text\" placeholder=\"지역을 검색해보세요\">\\n        <i class=\"search icon\"></i>\\n      </div>\\n      <div class=\"results\">\\n      </div>\\n      <div class=\"presets\">\\n        <p class=\"search category\">인기 지역</p>\\n          <a class=\"item result\" data-name=\"location\" data-value=\"서울특별시\" data-caption=\"서울특별시\" href=\"/jobs?specialty=Python&amp;tag=%EB%8D%B0%EC%9D%B4%ED%84%B0&amp;location=%EC%84%9C%EC%9A%B8%ED%8A%B9%EB%B3%84%EC%8B%9C\">\\n            <div class=\"content\">\\n              <div class=\"title\">\\n                서울특별시\\n              </div>\\n            </div>\\n          </a>\\n          <a class=\"item result\" data-name=\"location\" data-value=\"경기도\" data-caption=\"경기도\" href=\"/jobs?specialty=Python&amp;tag=%EB%8D%B0%EC%9D%B4%ED%84%B0&amp;location=%EA%B2%BD%EA%B8%B0%EB%8F%84\">\\n            <div class=\"content\">\\n              <div class=\"title\">\\n                경기도\\n              </div>\\n            </div>\\n          </a>\\n          <a class=\"item result\" data-name=\"location\" data-value=\"성남시 분당구\" data-caption=\"성남시 분당구\" href=\"/jobs?specialty=Python&amp;tag=%EB%8D%B0%EC%9D%B4%ED%84%B0&amp;location=%EC%84%B1%EB%82%A8%EC%8B%9C+%EB%B6%84%EB%8B%B9%EA%B5%AC\">\\n            <div class=\"content\">\\n              <div class=\"title\">\\n                성남시 분당구\\n              </div>\\n            </div>\\n          </a>\\n          <a class=\"item result\" data-name=\"location\" data-value=\"서울특별시 강남구\" data-caption=\"서울특별시 강남구\" href=\"/jobs?specialty=Python&amp;tag=%EB%8D%B0%EC%9D%B4%ED%84%B0&amp;location=%EC%84%9C%EC%9A%B8%ED%8A%B9%EB%B3%84%EC%8B%9C+%EA%B0%95%EB%82%A8%EA%B5%AC\">\\n            <div class=\"content\">\\n              <div class=\"title\">\\n                서울특별시 강남구\\n              </div>\\n            </div>\\n          </a>\\n      </div>\\n    </div>\\n  </div>\\n</div>    </div>\\n\\n    <input type=\"hidden\" name=\"page\" id=\"id_page\">\\n\\n    <div class=\"search-omnibox\">\\n      <div class=\"search-filters\">\\n        \\n        \\n        <a class=\"ui label\" data-short-caption=\"데이터\">산업: 데이터<input type=\"hidden\" name=\"tag\" value=\"데이터\" id=\"id_tag_0\" /><i class=\"delete icon\"></i>\\n  </a>\\n        <a class=\"ui label\" data-short-caption=\"Python\">활동 분야: Python<input type=\"hidden\" name=\"specialty\" value=\"Python\" id=\"id_specialty_0\" /><i class=\"delete icon\"></i>\\n  </a>\\n        \\n        \\n        \\n        \\n        \\n        \\n        \\n        \\n        \\n      </div>\\n      <div class=\"ui fluid input\">\\n        <input type=\"text\" name=\"q\" placeholder=\"필터, 키워드, 기업 이름 검색\" id=\"id_q\">\\n        <button id=\"search-button\" type=\"submit\" class=\"ui primary mini button search\" style=\"margin-left: -3000px\">검색</button>\\n      </div>\\n    </div>\\n  </form>\\n\\n<div class=\"ui blank segment\" id=\"user_filters\" data-url=\"/api/jobs/user_filter\">\\n\\n  <div class=\"ui menu\"><div class=\"placeholder item\">\\n      검색 조건을 저장하시면, 새로운 정보가 등록될 경우 메일로 알려드립니다.\\n    </div>\\n    <div class=\"right menu\">\\n      <div class=\"item\">\\n        <div class=\"ui form\" data-modal=\"signup\">\\n          <button class=\"ui right floated basic small button\">\\n            검색 조건 저장\\n          </button>\\n        </div>\\n      </div>\\n    </div>\\n\\n  </div>\\n\\n</div></div><div id=\"search-bottom-banner\">\\n  <div id=\"banner-list\">\\n    <div class=\"image\">\\n      <a href=\"http://bit.ly/2vQLeWb\" title=\"새창\" target=\"_blank\" id=\"RocketPunch-Business-Searchbelow-codeit-20200308-service\">\\n        <picture>\\n          <source media=\"(max-width: 767px)\" srcset=\"https://media.rocketpunch.com/search_bottom_banner/m/2020/03/07/%EB%A1%9C%EC%BC%93_328x80_4.png\">\\n          <source media=\"(min-width: 768px)\" srcset=\"https://media.rocketpunch.com/search_bottom_banner/2020/03/07/%EB%A1%9C%EC%BC%93_790x80_4.png\">\\n          <img data-src=\"https://media.rocketpunch.com/search_bottom_banner/2020/03/07/%EB%A1%9C%EC%BC%93_790x80_4.png\" style=\"width: 100%;\" class=\"ui image lazyload\">\\n        </picture>\\n      </a>\\n    </div>\\n  </div>\\n</div><div id=\"search-results\">\\n  <div class=\"ui blank segment loading\">\\n    <img src=\"https://static.rocketpunch.com/images/company/preload_company_result.png\">\\n  </div>\\n</div>\\n    </div>\\n  </div>\\n</div>\\n\\n<div class=\"ui modal fade\" id=\"request-company-admin-modal\" aria-labelledby=\"관리자 등록\" aria-hidden=\"true\">\\n  <div class=\"ui center aligned header\">\\n    <i class=\"ic-close icon\"></i>\\n    <p>관리자 등록 안내</p>\\n  </div>\\n  <div class=\"content\">\\n    <p>관리자로 등록 후 채용 정보를 등록 할 수 있습니다.</p>\\n    <p><a href=\"https://www.rocketpunch.com/help/1009\" target=\"_blank\" style=\"text-decoration:underline;\">구성원으로 등록한 기업의 관리자에게 문의하시거나, 로켓펀치 관리자에게 문의해주세요.</a></p>\\n  </div>\\n</div>\\n  <div id=\"footer\" class=\"ui footer segment\">\\n    <div class=\"ui container\">\\n      <div class=\"ui stackable mobile reversed grid\">\\n        <div class=\"left floated nine wide footer column\">\\n          <div class=\"ui horizontal small link list\">\\n            <a href=\"https://www.rocketpunch.com/companies/rocketpunch\" target=\"_blank\" class=\"item\">회사소개</a>\\n            <a href=\"/about\" class=\"item\">서비스소개</a>\\n            <a href=\"/tos\" class=\"item\">이용약관</a>\\n            <a href=\"/privacy\" class=\"item\"><strong>개인정보처리방침</strong></a>\\n            <a href=\"/security\" class=\"item\">보안 취약점 보고</a>\\n            <a href=\"/email_security\" class=\"item\">이메일 무단수집거부</a>\\n            <a href=\"/partnership\" class=\"item\">협업 제안</a>\\n            <a href=\"/help\" class=\"item\">도움말</a>\\n            <a href=\"/pricing\" class=\"item\">유료서비스 안내</a>\\n          </div>\\n        </div>\\n        <div class=\"right floated three wide sns column\">\\n          <div class=\"ui horizontal large link list\">\\n            <a href=\"https://www.facebook.com/pages/RocketPunch/155413834600029\" target=\"_blank\" title=\"로켓펀치 페이스북\" class=\"item\">\\n              <i class=\"ic-social-facebook large icon\"></i>\\n            </a>\\n            <a href=\"https://twitter.com/rocketpun_ch\" target=\"_blank\" title=\"로켓펀치 트위터\" class=\"item\">\\n              <i class=\"ic-social-twitter large icon\"></i>\\n            </a>\\n            <a href=\"https://blog.naver.com/rocketpun_ch\" target=\"_blank\" title=\"로켓펀치 블로그\" class=\"item\">\\n              <i class=\"ic-social-naver large icon\"></i>\\n            </a>\\n          </div>\\n        </div>\\n      </div>\\n      <p class=\"ui grey text company info\">\\n        <small>\\n          <span style=\"font-weight:bold;padding-bottom:4px;display:block\">&copy; Since 2012, RocketPunch, Inc.  All rights reserved.</span>\\n        </small>\\n      </p>\\n    </div>\\n  </div>\\n</div><input type=\"hidden\" id=\"next_url\" value=\"/jobs\">\\n<!-- login -->\\n<div class=\"ui modal fade login\" id=\"login-modal\" aria-labelledby=\"로켓펀치 로그인\" aria-hidden=\"true\">\\n  <i class=\"close ic-close\"></i>\\n  <div class=\"ui center aligned header\">\\n    <p>로그인</p>\\n  </div>\\n  <div class=\"content\">\\n<div class=\"ui social-login text\">\\n  SNS 계정으로 로그인\\n</div>\\n<div class=\"ui stackable social-connect grid\">\\n  <div class=\"six wide column\">\\n    <a href=\"/login/facebook/?next=/jobs%3Fspecialty=Python&amp;tag=%EB%8D%B0%EC%9D%B4%ED%84%B0\" class=\"fluid ui facebook button\"><i class=\"facebook icon\"></i><div>Facebook</div>\\n    </a>\\n  </div>\\n  <div class=\"six wide column\">\\n    <a href=\"/login/google-oauth2/?next=/jobs%3Fspecialty=Python&amp;tag=%EB%8D%B0%EC%9D%B4%ED%84%B0\" class=\"fluid ui google button\"><i class=\"ic-ico-google icon\">\\n          <span class=\"path1\"></span><span class=\"path2\"></span><span class=\"path3\"></span><span class=\"path4\"></span>\\n        </i><div>Google</div>\\n    </a>\\n  </div>\\n  <div class=\"six wide column\">\\n    <a href=\"/login/linkedin-oauth2/?next=/jobs%3Fspecialty=Python&amp;tag=%EB%8D%B0%EC%9D%B4%ED%84%B0\" class=\"fluid ui linkedin button\"><i class=\"linkedin icon\"></i><div>LinkedIn</div>\\n    </a>\\n  </div>\\n  <div class=\"six wide column\">\\n    <a href=\"/login/github/?next=/jobs%3Fspecialty=Python&amp;tag=%EB%8D%B0%EC%9D%B4%ED%84%B0\" class=\"fluid ui github button\"><i class=\"github icon\"></i><div>GitHub</div>\\n    </a>\\n  </div>\\n</div>\\n<div class=\"ui lower horizontal divider\">or</div>\\n<form id=\"form-login-inline\" name=\"login-inline\" method=\"post\" action=\"/api/users/login\" class=\"ui form\">\\n<input type=\\'hidden\\' name=\\'csrfmiddlewaretoken\\' value=\\'sOMJHCnHmdmxLk1a5AYgTNzJ4MXsr7GKJMyd1VrYrsxfSNGEI8En86MghbwoDfF3\\' />  <input type=\"hidden\" name=\"_method\" value=\"post\"><div class=\"field\">\\n    <label for=\"id-login-email\">이메일</label>\\n    <input type=\"email\" id=\"id-login-email\" name=\"email\" required data-required=\"E-mail을 입력해주세요\" data-validate=\"E-mail 형식을 확인해주세요.\" placeholder=\"이메일 ex) rocket@email.com\">\\n  </div>\\n  <div class=\"field\">\\n    <label for=\"id-login-password\">비밀번호</label>\\n    <input type=\"password\" id=\"id-login-password\" name=\"password\" required data-required=\"비밀번호를 입력해주세요\" placeholder=\"비밀번호\">\\n  </div>\\n  <div class=\"login-button\">\\n    <a data-modal=\"reset\">비밀번호 찾기</a>\\n    <button type=\"submit\" class=\"ui primary basic button\" data-ing=\"로그인 중...\" data-retry=\"재시도\" data-done=\"로그인 성공\">로그인</button>\\n  </div>\\n</form>\\n<div class=\"ui divider\"></div>\\n<div class=\"login-extra\">\\n  <span>아직 회원이 아니신가요?</span>\\n  <a data-modal=\"signup\">무료 가입</a></div>  </div>\\n</div><!-- reset -->\\n<div class=\"ui modal fade reset\" id=\"reset-modal\" aria-labelledby=\"로켓펀치 비밀번호 재설정\" aria-hidden=\"true\">\\n  <div class=\"ui center aligned header\">\\n    <i class=\"ic-close icon\"></i>\\n    <p>비밀번호 재설정</p>\\n  </div>\\n  <div class=\"content\">\\n<div class=\"ui basic center aligned segment\">\\n  <p>가입하신 E-mail을 입력해주세요</p>\\n</div>\\n<form id=\"form-password-reset\" name=\"password-reset\" method=\"post\" action=\"/api/password_reset\" class=\"ui form\">\\n<input type=\\'hidden\\' name=\\'csrfmiddlewaretoken\\' value=\\'sOMJHCnHmdmxLk1a5AYgTNzJ4MXsr7GKJMyd1VrYrsxfSNGEI8En86MghbwoDfF3\\' />  <input type=\"hidden\" name=\"_method\" value=\"post\">\\n  <div class=\"field\">\\n    <label for=\"id-email\">E-mail</label>\\n    <input type=\"email\" id=\"id-reset-email\" name=\"email\" required data-required=\"E-mail을 입력해주세요\" data-validate=\"E-mail 형식을 확인해주세요.\" placeholder=\"이메일 ex) rocket@email.com\">\\n  </div>\\n  <div style=\"text-align:center\">\\n    <button type=\"submit\" class=\"ui primary button\">비밀번호 재설정 이메일 발송</button>\\n  </div>\\n</form>  </div>\\n</div>\\n<div class=\"rp-point-popup transition fade hidden\">\\n  <div class=\"check1\"></div>\\n  <div class=\"check2\"></div>\\n  <i class=\"icon ic-android-done\"></i>\\n  <i class=\"icon ic-close\"></i>\\n  <div class=\"content\">\\n    <div class=\"added-point\"></div>\\n    <div class=\"ui divider\"></div>\\n    <div class=\"added-point-description\"></div>\\n  </div>\\n</div>\\n<div class=\"ui modal\" id=\"mobile-search-modal\"><div id=\"header-search-mobile\" class=\"ui huge fluid search\" data-url=\"/suggest?q={query}\">\\n  <div class=\"ui huge fluid input\">\\n    <i class=\"ic-chevron-left icon\"></i>\\n\\n    <input type=\"text\" class=\"prompt\" placeholder=\"통합 검색\">\\n  </div>\\n</div></div>\\n<div id=\"fb-like-modal\" class=\"ui modal\">\\n  <div style=\"position:relative;\"><i class=\"ic-close icon\"></i></div>\\n  <div class=\"content\">\\n    <div class=\"title\">페이스북에서 당신을 성장시킬 이야기를 만나보세요!</div>\\n    <img data-src=\"https://static.rocketpunch.com/images/common/popup-header%402x.jpg\" class=\"lazyload\" width=\"100%\" height=\"150px\">\\n    <div class=\"fb-page\" data-href=\"https://www.facebook.com/rocketpunch.inc/?fref=ts\" data-width=\"272px\" data-small-header=\"true\" data-adapt-container-width=\"true\" data-hide-cover=\"true\" data-show-facepile=\"true\"><blockquote cite=\"https://www.facebook.com/rocketpunch.inc/?fref=ts\" class=\"fb-xfbml-parse-ignore\"><a href=\"https://www.facebook.com/rocketpunch.inc/?fref=ts\">로켓펀치 - 비즈니스 네트워크</a></blockquote></div>\\n  </div>\\n</div>\\n<div id=\"search-blank-data\" style=\"display:none\">\\n  <div class=\"search-blank\">\\n    <div class=\"ui header\">카테고리별 검색</div>\\n    <div class=\"category\">\\n      <a href=\"/people\" class=\"ui icon basic button\"><i class=\"icon ic-person-outline\"></i> 인맥</a>\\n      <a href=\"/companies\" class=\"ui icon basic button\"><i class=\"icon ic-company-outline\"></i> 기업</a>\\n      <a href=\"/jobs\" class=\"ui icon basic button\"><i class=\"icon ic-job-outline\"></i> 채용</a>\\n    </div>\\n    <div class=\"ui header\">추천 검색</div>\\n    <div class=\"recommend-terms\"></div>\\n  </div>\\n</div>\\n<a href=\"mailto:startup@rocketpunch.com\" id=\"global-uv-link\" data-uv-trigger data-uv-mode=\"contact\" data-uv-trigger-position=\"top-left\" data-uv-menu-enabled=\"true\"><i class=\"icon ic-question\"></i></a>\\n<script>\\nvar ie8 = false, old_browser = false;if (document.createElement(\\'input\\').placeholder === undefined) { old_browser = true;}\\n</script>\\n<!--[if lt IE 9]>\\n<script>ie8 = true;</script>\\n<script src=\"https://static.rocketpunch.com/js/ie8.js\"></script>\\n<script src=\"https://cdnjs.cloudflare.com/ajax/libs/html5shiv/3.7.2/html5shiv.min.js\"></script>\\n<script src=\"https://oss.maxcdn.com/html5shiv/3.7.2/html5shiv.min.js\"></script>\\n<script src=\"https://static.rocketpunch.com/js/respond.min.js\"></script>\\n<link href=\"https://static.rocketpunch.com/js/respond-proxy.html\" id=\"respond-proxy\" rel=\"respond-proxy\" />\\n<link href=\"/static/img/respond.proxy.gif\" id=\"respond-redirect\" rel=\"respond-redirect\" />\\n<script src=\"/static/js/respond.proxy.js\"></script>\\n<![endif]-->\\n<!--[if gt IE 9]>\\nold_browser = false;\\n<![endif]-->\\n<script type=\"text/javascript\" src=\"https://static.rocketpunch.com/bundle/vendor.cbc5eb6ec9498935e08e.js\"></script>\\n<script src=\"https://developers.kakao.com/sdk/js/kakao.min.js\"></script>\\n<script src=\"https://cdnjs.cloudflare.com/ajax/libs/slick-carousel/1.9.0/slick.min.js\"></script>\\n<script src=\"https://cdnjs.cloudflare.com/ajax/libs/lazysizes/4.1.8/lazysizes.min.js\"></script><script>\\nvar signupUrl = \\'/signup\\';\\nvar notificationReadUrl = \\'/api/users/notifications/mark_read\\';\\nvar csrftoken = \\'sOMJHCnHmdmxLk1a5AYgTNzJ4MXsr7GKJMyd1VrYrsxfSNGEI8En86MghbwoDfF3\\';\\nvar is_mobile = false;var is_mobile_log = \\'is_mobile\\';if(!is_mobile) is_mobile_log = \\'not_mobile\\';\\nif (typeof Kakao !== \\'undefined\\') Kakao.init(\\'79663be4ff6e7ab77ad6558da7511642\\');\\n$rocket = {}, loader = \\'<div id=\"$rocketLoader\" class=\"ui active inverted dimmer\"><div class=\"ui text loader\">Loading</div></div>\\';\\nvar is_authenticated = false;\\n$rocket.is_authenticated = is_authenticated, $rocket.vote_url = \\'/api/votes\\', $rocket.vote_modal_url = \\'/api/votes/modal\\', $rocket.comment_modal_url = \\'/api/comments/modal\\', $rocket.share_url = \\'/api/share_box\\', $rocket.search_url = \\'/search\\', $rocket.relationship_url = \\'/api/relationship_message\\';\\nvar new_thread_api_url = \\'/api/messages\\';\\nSentry.init({dsn:\\'https://e3a4be77b80e4c6c8529a897404ddbc6@sentry.io/1479653\\'});$.fn.search.settings.error.noResults = \"검색 결과가 없습니다.\";\\n$.fn.search.settings.error.serverError = \"검색 결과 출력에 문제가 있습니다. 관리자에게 문의해 주세요.\";\\n</script>\\n<script type=\"text/javascript\" src=\"https://static.rocketpunch.com/bundle/base.bbde6807dcf4efdfd316.js\"></script><script>\\n$rocket.search_translations = {\\n  \\'company\\': \"기업\",\\n  \\'job\\': \"채용\",\\n  \\'school\\': \"학교\",\\n  \\'user\\': \"사람\",\\n  \\'specialty\\': \"태그\",\\n  \\'_all\\': \"전체 검색 결과\"\\n};\\n$(function(){\\n  if (!(/Android|webOS|iPhone|iPad|iPod|BlackBerry/i.test(navigator.userAgent))) {\\n    if (typeof UserVoice != \\'undefined\\') {\\n      UserVoice.push([\\'set\\', {\\n        accent_color: \\'#448dd6\\',\\n        trigger_color: \\'white\\',\\n        trigger_background_color: \\'rgba(46, 49, 51, 0.6)\\'\\n      }]);\\n      UserVoice.push([\\'identify\\', {}]);\\n      UserVoice.push([\\'autoprompt\\', {}]);\\n    }\\n  }  if (cookies.get(\\'fb_like_modal\\')) {\\n  } else {\\n    $(window).on(\\'scroll.fblikemodal\\', $rocket.fbLikeCheckScroll);\\n  }\\n});</script>\\n<script>!function(d,s,id){var js,fjs=d.getElementsByTagName(s)[0],p=/^http:/.test(d.location)?\\'http\\':\\'https\\';if(!d.getElementById(id)){js=d.createElement(s);js.id=id;js.src=p+\\'://platform.twitter.com/widgets.js\\';fjs.parentNode.insertBefore(js,fjs);}}(document, \\'script\\', \\'twitter-wjs\\');</script><script type=\"text/javascript\" src=\"https://static.rocketpunch.com/bundle/job.77d6e00914d6487b688e.js\"></script>\\n\\n<script src=\"https://cdnjs.cloudflare.com/ajax/libs/cropper/0.9.3/cropper.min.js\"></script>\\n\\n<script>\\n$rocket.initList();\\n</script>\\n<script type=\"text/javascript\" src=\"https://static.rocketpunch.com/bundle/search.4c19fd0dfbc2ebc9774b.js\"></script>\\n<script>\\nvar searchOptions = {\\n  url: {\\n    list: \"/jobs\",\\n    template: \"/api/jobs/template\"\\n  },\\n  format_salary: function(low, high) {\\n    var value = String(low * 1000000) + \\'-\\', name = \\'\\';\\n    if( high < 200 ) value += String(high * 1000000);\\n    name += ( low > 0 ) ? ($rocket.intComma(100 * low) + \\'만\\') : String(100 * low);\\n    name += \\'-\\';\\n    name += $rocket.intComma(100 * high) + \\'만\\';\\n    return {\\n      name: name,\\n      value: value\\n    };\\n  },\\n  format_stock: function(low, high) {\\n    var value = String(low / 10.) + \\'-\\', name = \\'\\';\\n    if( high < 50 ) value += String(high / 10.);\\n    name += ( low > 0 ) ? (String(low / 10.) + \\'%\\') : String(low / 10.);\\n    name += \\'-\\';\\n    name += ( high < 50 ) ? (String(high / 10.) + \\'%\\') : (String(high / 10.) + \\'%+\\');\\n    return {\\n      name: name,\\n      value: value\\n    };\\n  },\\n  templates: {},\\n  messages: {\\n    confirm_delete_user_filter: \"정말로 삭제하시겠습니까?\"\\n  },\\n  isFixedUrl: false};\\nvar rocketSearch = new $rocket.Search(\\'.omnibox-filter\\', searchOptions);\\n\\nfunction afterSearchProcess() {\\n  setTimeout(function(){\\n    if ($(\\'#job-ads-list\\').length == 0) return;\\n    var adCount = $(\\'#job-ads-list .ui.job.column\\').length;\\n    if (adCount > 3) {\\n      $(\\'#job-ads-list\\').slick({\\n        lazyLoad: \\'progressive\\',\\n        slidesToShow: 3,\\n        slidesToScroll: 3,\\n        autoplay: true,\\n        autoplaySpeed: 10000,\\n        pauseOnFocus: true,\\n        pauseOnHover: true,\\n        arrows: true,\\n        dots: true,\\n        infinite: true,\\n        prevArrow: \\'<button type=\"button\" class=\"slick-prev\"><i class=\"ic-chevron-left\"></i></button>\\',\\n        nextArrow: \\'<button type=\"button\" class=\"slick-next\"><i class=\"ic-chevron-right\"></i></button>\\',\\n        responsive: [{\\n          breakpoint: 768,\\n          settings: {\\n            slidesToShow: 1,\\n            slidesToScroll: 1,\\n            dots: false\\n          }\\n        }]\\n      });\\n\\n      var job_ids = (\\n        $(\\'.slick-slide.slick-active\\')\\n        .map(function() { return $(this).find(\\'.ui.job.column\\').data(\\'job_id\\'); })\\n        .get()\\n        .join()\\n      );\\n      if (job_ids !== \\'\\') {\\n        job_ids = \\',\\' + job_ids + \\',\\'\\n        ga(\\'send\\', \\'event\\', \\'job\\', \\'ad-load\\', job_ids, 1, {nonInteraction: true});\\n      }\\n      $(\\'#job-ads-list\\').on(\\'afterChange\\', function(event, slick, currentSlide){\\n        var job_ids = (\\n          $(\\'.slick-slide.slick-active\\')\\n          .map(function() { return $(this).find(\\'.ui.job.column\\').data(\\'job_id\\'); })\\n          .get()\\n          .join()\\n        );\\n        if (job_ids !== \\'\\') {\\n          job_ids = \\',\\' + job_ids + \\',\\'\\n          ga(\\'send\\', \\'event\\', \\'job\\', \\'ad-load\\', job_ids, 1, {nonInteraction: true});\\n        }\\n      });\\n    } else {\\n      var job_ids = (\\n        $(\\'.ui.job.column\\')\\n        .map(function() { return $(this).data(\\'job_id\\'); })\\n        .get()\\n        .join()\\n      );\\n      if (job_ids !== \\'\\') {\\n        job_ids = \\',\\' + job_ids + \\',\\'\\n        ga(\\'send\\', \\'event\\', \\'job\\', \\'ad-load\\', job_ids, 1, {nonInteraction: true});\\n      }\\n    }\\n    $(\\'#job-ads-list\\').on(\\'click\\', \\'a\\', function(e){\\n      var id = $(this).closest(\\'.ui.job.column\\').data(\\'job_id\\');\\n      if(!id) return false;\\n      ga(\\'send\\', \\'event\\', \\'job\\', \\'ad-click\\', id, 1, {nonInteraction: true});\\n    });\\n  }, 100);\\n\\n  var job_ids = (\\n    $(\\'.job-ad-item\\')\\n    .map(function() { return $(this).data(\\'job_id\\'); })\\n    .get()\\n    .join()\\n  );\\n  if (job_ids !== \\'\\') {\\n    job_ids = \\',\\' + job_ids + \\',\\'\\n    ga(\\'send\\', \\'event\\', \\'job\\', \\'ad-load\\', job_ids, 1, {nonInteraction: true});\\n  }\\n\\n  var company_ids = (\\n    $(\\'#company-list > div.company.item\\')\\n    .map(function() { return $(this).data(\\'company_id\\'); })\\n    .get()\\n    .join()\\n  );\\n  if (company_ids !== \\'\\') {\\n    company_ids = \\',\\' + company_ids + \\',\\'\\n    ga(\\'send\\', \\'event\\', \\'job\\', \\'job-load-company\\', company_ids, 1, {nonInteraction: true});\\n  }\\n}\\n\\n$().ready(function(){\\n  $(\\'#mobile-navigation\\').dropdown({delay : {touch: 300}});\\n  $(\\'#mobile-navigation\\').off(\\'touchstart touchstart.dropdown\\');\\n  if ($(\\'#manage-job\\').length) {\\n    $(\\'#manage-job\\').dropdown({delay : {touch: 300}});\\n    $(\\'#manage-job\\').off(\\'touchstart touchstart.dropdown\\');\\n  }\\n\\n  $(\\'*[data-modal=\"request-company-admin\"]\\').on(\\'click\\', function(){\\n    $(\\'#request-company-admin-modal\\').modal(\\'show\\');\\n    return false;\\n  });\\n\\n$rocket.setBanner(\\'job list\\');\\n$rocket.setSearchBottomBanner(\\'job list\\');\\n$rocket.setTextBanner(\\'job list\\');\\n\\n  $(document).on(\\'click\\', \\'.job-ad-group a\\', function(e){\\n    ga(\\'send\\', \\'event\\', \\'job\\', \\'ad-click\\', $(e.currentTarget).data(\\'job_id\\'), 1, {nonInteraction: true});\\n  });\\n});\\n</script>\\n<div id=\"job_signup_popup\" class=\"ui small modal\">\\n  <div style=\"position:relative;\"><i class=\"ic-close icon\"></i></div>\\n  <div class=\"content\">\\n    <div class=\"default-content\" style=\"text-align:center;\">\\n      <div class=\"logo image\" style=\"margin:40px 0;\">\\n        <img src=\"https://static.rocketpunch.com/images/rocketpunch_logo.svg\" alt=\"RocketPunch\" class=\"rocketpunch-logo\" style=\"width:56px;height:56px;\">\\n      </div>\\n      <div style=\"font-size:18px;margin-bottom:32px;\">\\n        로켓펀치에 가입하고 <span style=\"font-weight:700;\">2,530개가 넘는 채용 정보</span>를 만나보세요!\\n      </div>\\n      <a href=\"/login/facebook/?next=/jobs%3Fspecialty=Python&amp;tag=%EB%8D%B0%EC%9D%B4%ED%84%B0\" class=\"fluid ui facebook popup-signup button\" style=\"margin-bottom:20px;\" data-signup_type=\"facebook\">\\n        <i class=\"facebook icon\"></i>\\nFacebook으로 가입\\n      </a>\\n      <a id=\"signup_popup_option\" class=\"ui primary link\">그 외 로그인 옵션</a>\\n    </div>\\n    <div class=\"option-content\" style=\"display:none;padding-bottom:20px;\">\\n      <div class=\"logo image\" style=\"margin-bottom:5px;text-align:center;\">\\n        <img src=\"https://static.rocketpunch.com/images/rocketpunch_logo.svg\" alt=\"RocketPunch\" class=\"rocketpunch-logo\" style=\"width:56px;height:56px;\">\\n      </div>\\n      <form id=\"form-login-inline\" name=\"login-inline\" method=\"post\" action=\"/api/users/login\" class=\"ui form\">\\n<input type=\\'hidden\\' name=\\'csrfmiddlewaretoken\\' value=\\'sOMJHCnHmdmxLk1a5AYgTNzJ4MXsr7GKJMyd1VrYrsxfSNGEI8En86MghbwoDfF3\\' />        <input type=\"hidden\" name=\"_method\" value=\"post\">\\n        <div class=\"field\">\\n          <label for=\"id-email\">E-mail</label>\\n          <input type=\"email\" id=\"id-email\" name=\"email\" required data-required=\"E-mail을 입력해주세요\" data-validate=\"E-mail 형식을 확인해주세요.\" placeholder=\"이메일 ex) rocket@email.com\">\\n        </div>\\n        <div class=\"field\">\\n          <label for=\"id-password\">비밀번호</label>\\n          <input type=\"password\" id=\"id-password\" name=\"password\" required data-required=\"비밀번호를 입력해주세요\" placeholder=\"비밀번호\">\\n          <p class=\"support\">\\n            <a data-modal=\"reset\" class=\"primary link\">비밀번호 찾기</a>\\n          </p>\\n        </div>\\n        <div style=\"text-align:center\">\\n          <button type=\"submit\" class=\"ui primary popup-signup button\" data-ing=\"로그인 중...\" data-retry=\"재시도\" data-done=\"로그인 성공\" data-signup_type=\"login\">로그인</button>\\n        </div>\\n      </form>\\n      <div class=\"ui basic center aligned login segment\">\\n        <p>SNS 계정으로 로그인</p>\\n      </div>\\n      <div class=\"ui stackable social-connect grid\">\\n        <div class=\"six wide column\">\\n          <a href=\"/login/facebook/?next=/jobs%3Fspecialty=Python&amp;tag=%EB%8D%B0%EC%9D%B4%ED%84%B0\" class=\"fluid ui facebook popup-signup button\" data-signup_type=\"facebook\"><i class=\"facebook icon\"></i><div>Facebook</div>\\n          </a>\\n        </div>\\n        <div class=\"six wide column\">\\n          <a href=\"/login/google-oauth2/?next=/jobs%3Fspecialty=Python&amp;tag=%EB%8D%B0%EC%9D%B4%ED%84%B0\" class=\"fluid ui google popup-signup button\" data-signup_type=\"google-oauth2\"><i class=\"ic-ico-google icon\">\\n                <span class=\"path1\"></span><span class=\"path2\"></span><span class=\"path3\"></span><span class=\"path4\"></span>\\n              </i><div>Google</div>\\n          </a>\\n        </div>\\n        <div class=\"six wide column\">\\n          <a href=\"/login/linkedin-oauth2/?next=/jobs%3Fspecialty=Python&amp;tag=%EB%8D%B0%EC%9D%B4%ED%84%B0\" class=\"fluid ui linkedin popup-signup button\" data-signup_type=\"linkedin-oauth2\"><i class=\"linkedin icon\"></i><div>LinkedIn</div>\\n          </a>\\n        </div>\\n        <div class=\"six wide column\">\\n          <a href=\"/login/github/?next=/jobs%3Fspecialty=Python&amp;tag=%EB%8D%B0%EC%9D%B4%ED%84%B0\" class=\"fluid ui github popup-signup button\" data-signup_type=\"github\"><i class=\"github icon\"></i><div>GitHub</div>\\n          </a>\\n        </div>\\n      </div>\\n    </div>\\n  </div>\\n</div>\\n<script type=\"text/javascript\">\\n$(function(){\\n  $rocket.scrollSignupPopup(\\'job\\', 1);\\n});\\n</script>\\n<div id=\"old_contents\" style=\"display:none;\">\\n  <div class=\"ui error message\" role=\"alert\">\\n    <div class=\"ui container grid\">\\n      <div class=\"left floated left aligned six wide column\">안전하고 원활한 서비스 이용을 위해 브라우저를 업데이트 해주세요.</div>\\n      <div class=\"right floated right aligned six wide column\">\\n        <a href=\"https://support.google.com/chrome/answer/95346?hl=ko\" target=\"_blank\" class=\"negative ui button\">구글 크롬 안내</a>\\n        <a href=\"http://windows.microsoft.com/ko-kr/internet-explorer/download-ie\" target=\"_blank\" class=\"negative ui button\">최신 IE 안내</a>\\n      </div>\\n    </div>\\n  </div>\\n</div>\\n</body>\\n</html>'"
      ]
     },
     "execution_count": 3,
     "metadata": {},
     "output_type": "execute_result"
    }
   ],
   "source": [
    "response.text"
   ]
  },
  {
   "cell_type": "code",
   "execution_count": 541,
   "metadata": {},
   "outputs": [],
   "source": [
    "# json으로 파싱후, data안 template 안에 들어있는 애들을 BrautifulSoup으로 html로 파싱\n",
    "data = response.json()['data']['template']\n",
    "dom = BeautifulSoup(data, \"html.parser\")"
   ]
  },
  {
   "cell_type": "code",
   "execution_count": 542,
   "metadata": {},
   "outputs": [],
   "source": [
    "root = dom.select('#company-list > div.company.item > div.content')"
   ]
  },
  {
   "cell_type": "code",
   "execution_count": 543,
   "metadata": {
    "scrolled": true
   },
   "outputs": [
    {
     "data": {
      "text/plain": [
       "'매스프레소'"
      ]
     },
     "execution_count": 543,
     "metadata": {},
     "output_type": "execute_result"
    }
   ],
   "source": [
    "# 회사명\n",
    "dom.select('#company-list > div.company.item > div.content > div.company-name > a > h4 > strong')[0].text"
   ]
  },
  {
   "cell_type": "code",
   "execution_count": 544,
   "metadata": {},
   "outputs": [
    {
     "data": {
      "text/plain": [
       "'매스프레소'"
      ]
     },
     "execution_count": 544,
     "metadata": {},
     "output_type": "execute_result"
    }
   ],
   "source": [
    "root[0].select('div.company-name > a > h4 > strong')[0].text"
   ]
  },
  {
   "cell_type": "code",
   "execution_count": 521,
   "metadata": {
    "scrolled": true
   },
   "outputs": [
    {
     "data": {
      "text/plain": [
       "'We Rebuild Education'"
      ]
     },
     "execution_count": 521,
     "metadata": {},
     "output_type": "execute_result"
    }
   ],
   "source": [
    "# 회사 설명\n",
    "dom.select('#company-list > div.company.item > div.content > div.description')[0].text.strip('\\xa0')"
   ]
  },
  {
   "cell_type": "code",
   "execution_count": 545,
   "metadata": {},
   "outputs": [
    {
     "data": {
      "text/plain": [
       "'We Rebuild Education'"
      ]
     },
     "execution_count": 545,
     "metadata": {},
     "output_type": "execute_result"
    }
   ],
   "source": [
    "root[0].select('div.description')[0].text.strip('\\xa0')"
   ]
  },
  {
   "cell_type": "code",
   "execution_count": 523,
   "metadata": {},
   "outputs": [
    {
     "data": {
      "text/plain": [
       "'모바일서비스 ∙ 소프트웨어 ∙ 데이터 ∙ 교육 ∙ 모바일앱 ∙ AI ∙ 앱개발 ∙ 머신러닝 ∙ IT/인공지능 ∙ 딥러닝 ∙ 에듀테크 ∙ 수학 ∙ OCR'"
      ]
     },
     "execution_count": 523,
     "metadata": {},
     "output_type": "execute_result"
    }
   ],
   "source": [
    "# 분야\n",
    "dom.select('#company-list > div.company.item > div.content > div.nowrap.meta')[0].text.strip()"
   ]
  },
  {
   "cell_type": "code",
   "execution_count": 546,
   "metadata": {},
   "outputs": [
    {
     "data": {
      "text/plain": [
       "'모바일서비스 ∙ 소프트웨어 ∙ 데이터 ∙ 교육 ∙ 모바일앱 ∙ AI ∙ 앱개발 ∙ 머신러닝 ∙ IT/인공지능 ∙ 딥러닝 ∙ 에듀테크 ∙ 수학 ∙ OCR'"
      ]
     },
     "execution_count": 546,
     "metadata": {},
     "output_type": "execute_result"
    }
   ],
   "source": [
    "root[0].select('div.nowrap.meta')[0].text.strip()"
   ]
  },
  {
   "cell_type": "code",
   "execution_count": 566,
   "metadata": {},
   "outputs": [
    {
     "data": {
      "text/plain": [
       "20"
      ]
     },
     "execution_count": 566,
     "metadata": {},
     "output_type": "execute_result"
    }
   ],
   "source": [
    "len(root)"
   ]
  },
  {
   "cell_type": "code",
   "execution_count": 525,
   "metadata": {},
   "outputs": [],
   "source": [
    "# 중복 있음"
   ]
  },
  {
   "cell_type": "code",
   "execution_count": 556,
   "metadata": {},
   "outputs": [],
   "source": [
    "positions = dom.select('#company-list > div.company.item > div.content > div.company-jobs-detail')"
   ]
  },
  {
   "cell_type": "code",
   "execution_count": 558,
   "metadata": {},
   "outputs": [],
   "source": [
    "len_of_positions = len(positions[0].select('div:nth-child(1) > a.nowrap'))"
   ]
  },
  {
   "cell_type": "code",
   "execution_count": 559,
   "metadata": {},
   "outputs": [
    {
     "data": {
      "text/plain": [
       "1"
      ]
     },
     "execution_count": 559,
     "metadata": {},
     "output_type": "execute_result"
    }
   ],
   "source": [
    "len_of_positions"
   ]
  },
  {
   "cell_type": "code",
   "execution_count": 587,
   "metadata": {},
   "outputs": [
    {
     "data": {
      "text/plain": [
       "'해외직구 애프터바이 [Python,React 개발자] 모십니다!'"
      ]
     },
     "execution_count": 587,
     "metadata": {},
     "output_type": "execute_result"
    }
   ],
   "source": [
    "# position\n",
    "positions[3].select('div:nth-child(1) > a.nowrap')[0].text"
   ]
  },
  {
   "cell_type": "code",
   "execution_count": 561,
   "metadata": {
    "scrolled": true
   },
   "outputs": [
    {
     "data": {
      "text/plain": [
       "'https://www.rocketpunch.com/jobs/70589/Math-Engine-Developer'"
      ]
     },
     "execution_count": 561,
     "metadata": {},
     "output_type": "execute_result"
    }
   ],
   "source": [
    "# 링크\n",
    "\"https://www.rocketpunch.com\" + positions[0].select('div:nth-child(1) > a.nowrap')[0].get('href')"
   ]
  },
  {
   "cell_type": "code",
   "execution_count": 562,
   "metadata": {},
   "outputs": [
    {
     "data": {
      "text/plain": [
       "'3,500 - 6,000만원 / 인턴, 신입, 경력'"
      ]
     },
     "execution_count": 562,
     "metadata": {},
     "output_type": "execute_result"
    }
   ],
   "source": [
    "# 연봉 / 스톡옵션 / 경력 여부\n",
    "positions[0].select('div.job-detail > div:nth-child(1) > span')[0].text"
   ]
  },
  {
   "cell_type": "code",
   "execution_count": 563,
   "metadata": {
    "scrolled": true
   },
   "outputs": [
    {
     "data": {
      "text/plain": [
       "'03/31 마감'"
      ]
     },
     "execution_count": 563,
     "metadata": {},
     "output_type": "execute_result"
    }
   ],
   "source": [
    "# 채용 기간\n",
    "positions[0].select('div.job-detail > div.job-dates > span:nth-child(1)')[0].text.strip(' \\n')"
   ]
  },
  {
   "cell_type": "code",
   "execution_count": 581,
   "metadata": {},
   "outputs": [
    {
     "data": {
      "text/plain": [
       "[0]"
      ]
     },
     "execution_count": 581,
     "metadata": {},
     "output_type": "execute_result"
    }
   ],
   "source": [
    "list(range(len_of_positions))"
   ]
  },
  {
   "cell_type": "code",
   "execution_count": 594,
   "metadata": {},
   "outputs": [
    {
     "data": {
      "text/plain": [
       "'Backend Engineer 주니어'"
      ]
     },
     "execution_count": 594,
     "metadata": {},
     "output_type": "execute_result"
    }
   ],
   "source": [
    "positions[18].select('div:nth-child(1) > a.nowrap')[0].text"
   ]
  },
  {
   "cell_type": "code",
   "execution_count": 613,
   "metadata": {},
   "outputs": [
    {
     "data": {
      "text/plain": [
       "'디에스랩글로벌'"
      ]
     },
     "execution_count": 613,
     "metadata": {},
     "output_type": "execute_result"
    }
   ],
   "source": [
    "root[4].select('div.company-name > a > h4 > strong')[0].text"
   ]
  },
  {
   "cell_type": "code",
   "execution_count": 614,
   "metadata": {},
   "outputs": [
    {
     "data": {
      "text/plain": [
       "'데이터 분석가'"
      ]
     },
     "execution_count": 614,
     "metadata": {},
     "output_type": "execute_result"
    }
   ],
   "source": [
    "positions[4].select('div:nth-child(1) > a.nowrap')[0].text"
   ]
  },
  {
   "cell_type": "code",
   "execution_count": 631,
   "metadata": {},
   "outputs": [],
   "source": [
    "len_of_positions = len(positions[1].select('div:nth-child(1) > a.nowrap'))"
   ]
  },
  {
   "cell_type": "code",
   "execution_count": 632,
   "metadata": {},
   "outputs": [
    {
     "data": {
      "text/plain": [
       "[0, 1, 2]"
      ]
     },
     "execution_count": 632,
     "metadata": {},
     "output_type": "execute_result"
    }
   ],
   "source": [
    "list(range(len_of_positions))"
   ]
  },
  {
   "cell_type": "code",
   "execution_count": 636,
   "metadata": {},
   "outputs": [
    {
     "data": {
      "text/plain": [
       "('트릿지',)"
      ]
     },
     "execution_count": 636,
     "metadata": {},
     "output_type": "execute_result"
    }
   ],
   "source": [
    "root[1].select('div.company-name > a > h4 > strong')[0].text,"
   ]
  },
  {
   "cell_type": "code",
   "execution_count": 8,
   "metadata": {},
   "outputs": [],
   "source": [
    "url = \"https://www.rocketpunch.com/api/jobs/template?&page=1&q=&specialty=Python&tag=%EB%8D%B0%EC%9D%B4%ED%84%B0\"\n",
    "response = requests.get(url)\n",
    "data = response.json()['data']['template']\n",
    "dom = BeautifulSoup(data, \"html.parser\")\n",
    "total_pages = dom.select(\"div.ui.pagination.menu > div.tablet.computer.large.screen.widescreen.only > a\")[-1].text"
   ]
  },
  {
   "cell_type": "code",
   "execution_count": 9,
   "metadata": {},
   "outputs": [
    {
     "data": {
      "text/plain": [
       "'3'"
      ]
     },
     "execution_count": 9,
     "metadata": {},
     "output_type": "execute_result"
    }
   ],
   "source": [
    "total_pages"
   ]
  },
  {
   "cell_type": "code",
   "execution_count": null,
   "metadata": {},
   "outputs": [],
   "source": []
  },
  {
   "cell_type": "code",
   "execution_count": 827,
   "metadata": {},
   "outputs": [],
   "source": [
    "# 크롤링 완성"
   ]
  },
  {
   "cell_type": "code",
   "execution_count": 2,
   "metadata": {},
   "outputs": [],
   "source": [
    "import time\n",
    "from datetime import date, timedelta"
   ]
  },
  {
   "cell_type": "code",
   "execution_count": 3,
   "metadata": {
    "scrolled": true
   },
   "outputs": [
    {
     "name": "stdout",
     "output_type": "stream",
     "text": [
      "1\n",
      "2\n",
      "3\n",
      "4\n",
      "5\n",
      "6\n",
      "7\n",
      "8\n",
      "9\n",
      "10\n",
      "11\n",
      "12\n",
      "13\n",
      "14\n",
      "15\n",
      "16\n",
      "17\n",
      "18\n",
      "19\n",
      "20\n",
      "21\n",
      "22\n",
      "23\n",
      "24\n",
      "1\n",
      "2\n",
      "3\n",
      "4\n",
      "5\n",
      "6\n",
      "7\n",
      "8\n",
      "9\n",
      "10\n",
      "11\n",
      "12\n",
      "13\n",
      "14\n",
      "15\n",
      "16\n",
      "17\n",
      "18\n",
      "19\n",
      "20\n",
      "21\n",
      "22\n",
      "23\n",
      "24\n",
      "25\n",
      "26\n",
      "27\n",
      "28\n",
      "29\n",
      "30\n",
      "1\n",
      "2\n",
      "3\n",
      "4\n",
      "5\n",
      "6\n",
      "7\n",
      "8\n",
      "9\n",
      "10\n",
      "11\n",
      "12\n",
      "13\n",
      "14\n",
      "15\n",
      "16\n",
      "17\n",
      "18\n",
      "19\n",
      "20\n",
      "21\n",
      "22\n",
      "23\n",
      "24\n",
      "25\n",
      "26\n",
      "1\n",
      "2\n",
      "3\n",
      "4\n",
      "5\n",
      "6\n",
      "7\n",
      "8\n",
      "9\n",
      "10\n",
      "11\n",
      "12\n",
      "13\n",
      "14\n",
      "15\n",
      "16\n",
      "17\n",
      "18\n",
      "19\n",
      "20\n",
      "21\n",
      "22\n",
      "23\n",
      "24\n",
      "25\n",
      "26\n",
      "27\n",
      "28\n",
      "29\n",
      "30\n",
      "31\n",
      "32\n",
      "1\n",
      "2\n",
      "3\n",
      "4\n",
      "5\n",
      "6\n",
      "7\n",
      "8\n",
      "9\n",
      "10\n",
      "11\n",
      "12\n",
      "13\n",
      "14\n",
      "15\n",
      "16\n",
      "17\n",
      "18\n",
      "19\n",
      "20\n",
      "21\n",
      "22\n",
      "23\n",
      "24\n",
      "25\n",
      "26\n",
      "27\n",
      "28\n",
      "29\n",
      "30\n",
      "31\n",
      "32\n",
      "33\n",
      "1\n",
      "2\n",
      "3\n",
      "4\n",
      "5\n",
      "6\n",
      "7\n",
      "8\n",
      "9\n",
      "10\n",
      "11\n",
      "12\n",
      "13\n",
      "14\n",
      "15\n",
      "16\n",
      "17\n",
      "18\n",
      "19\n",
      "20\n",
      "21\n",
      "22\n",
      "23\n",
      "1\n",
      "2\n",
      "3\n",
      "4\n",
      "5\n",
      "6\n",
      "7\n",
      "8\n",
      "9\n",
      "10\n",
      "11\n",
      "12\n",
      "13\n",
      "14\n",
      "15\n",
      "16\n",
      "17\n",
      "18\n",
      "19\n",
      "20\n",
      "21\n",
      "22\n",
      "23\n",
      "24\n",
      "25\n",
      "1\n",
      "2\n",
      "3\n",
      "4\n",
      "5\n",
      "6\n",
      "7\n",
      "8\n",
      "9\n",
      "10\n",
      "11\n",
      "12\n",
      "13\n",
      "14\n",
      "15\n",
      "16\n",
      "17\n",
      "18\n",
      "19\n",
      "20\n",
      "21\n",
      "22\n",
      "23\n",
      "24\n",
      "25\n",
      "26\n",
      "1\n",
      "2\n",
      "3\n",
      "4\n",
      "5\n",
      "6\n",
      "7\n",
      "8\n",
      "9\n",
      "10\n",
      "11\n",
      "12\n",
      "13\n",
      "14\n",
      "15\n",
      "16\n",
      "17\n",
      "18\n",
      "19\n",
      "20\n",
      "21\n",
      "22\n",
      "1\n",
      "2\n",
      "3\n",
      "4\n",
      "5\n",
      "6\n",
      "7\n",
      "8\n",
      "9\n",
      "10\n",
      "11\n",
      "12\n",
      "13\n",
      "14\n",
      "15\n",
      "16\n",
      "17\n",
      "18\n",
      "19\n",
      "20\n",
      "21\n",
      "22\n",
      "1\n",
      "2\n",
      "3\n",
      "4\n",
      "5\n",
      "6\n",
      "7\n",
      "8\n",
      "9\n",
      "10\n",
      "11\n",
      "12\n",
      "13\n",
      "14\n",
      "15\n",
      "16\n",
      "17\n",
      "18\n",
      "19\n",
      "20\n",
      "21\n",
      "22\n",
      "23\n",
      "24\n",
      "25\n",
      "1\n",
      "2\n",
      "3\n",
      "4\n",
      "5\n",
      "6\n",
      "7\n",
      "8\n",
      "9\n",
      "10\n",
      "11\n",
      "12\n",
      "13\n",
      "14\n",
      "15\n",
      "16\n",
      "17\n",
      "18\n",
      "19\n",
      "20\n",
      "21\n",
      "22\n",
      "1\n",
      "2\n",
      "3\n",
      "4\n",
      "5\n",
      "6\n",
      "7\n",
      "8\n",
      "9\n"
     ]
    },
    {
     "data": {
      "text/html": [
       "<div>\n",
       "<style scoped>\n",
       "    .dataframe tbody tr th:only-of-type {\n",
       "        vertical-align: middle;\n",
       "    }\n",
       "\n",
       "    .dataframe tbody tr th {\n",
       "        vertical-align: top;\n",
       "    }\n",
       "\n",
       "    .dataframe thead th {\n",
       "        text-align: right;\n",
       "    }\n",
       "</style>\n",
       "<table border=\"1\" class=\"dataframe\">\n",
       "  <thead>\n",
       "    <tr style=\"text-align: right;\">\n",
       "      <th></th>\n",
       "      <th>date</th>\n",
       "      <th>company</th>\n",
       "      <th>position</th>\n",
       "      <th>salary</th>\n",
       "      <th>deadline</th>\n",
       "      <th>description</th>\n",
       "      <th>service</th>\n",
       "      <th>link</th>\n",
       "      <th>skills</th>\n",
       "    </tr>\n",
       "  </thead>\n",
       "  <tbody>\n",
       "    <tr>\n",
       "      <td>0</td>\n",
       "      <td>2020-03-11</td>\n",
       "      <td>오르비스AI</td>\n",
       "      <td>(경력) Data Scientist</td>\n",
       "      <td>5,000 - 6,000만원 / 최소 0.1% / 경력</td>\n",
       "      <td>04/30 마감</td>\n",
       "      <td>영어권 컨텐츠 및 광고 크리에이터를 위한 AI 성우를 개발합니다.</td>\n",
       "      <td>IT ∙ 교육 ∙ 인공지능 ∙ 머신러닝 ∙ 딥러닝 ∙ MachineLearning ...</td>\n",
       "      <td>https://www.rocketpunch.com/jobs/47245/%EA%B2%...</td>\n",
       "      <td>[]</td>\n",
       "    </tr>\n",
       "    <tr>\n",
       "      <td>1</td>\n",
       "      <td>2020-03-11</td>\n",
       "      <td>무른모</td>\n",
       "      <td>C# 개발자(경력/신입)</td>\n",
       "      <td>신입, 경력</td>\n",
       "      <td>수시채용</td>\n",
       "      <td>4차산업 혁명을 이끌 ICT, IOT 기반 자동차 부품제조업 MES 솔루션 개발업체</td>\n",
       "      <td>ICT ∙ 클라우드서비스 ∙ IoT플랫폼 ∙ MES ∙ 스마트공장운영시스템 ∙ LO...</td>\n",
       "      <td>https://www.rocketpunch.com/jobs/70735/C-%EA%B...</td>\n",
       "      <td>[MySQL, plc, PHP, aws, GitLab, Python]</td>\n",
       "    </tr>\n",
       "    <tr>\n",
       "      <td>2</td>\n",
       "      <td>2020-03-11</td>\n",
       "      <td>네이콘</td>\n",
       "      <td>PHP/MY-SQL 웹프로그래머 개발자</td>\n",
       "      <td>인턴, 신입, 경력</td>\n",
       "      <td>04/10 마감</td>\n",
       "      <td>글로벌 퍼포먼스 및 인플루언서 마케팅 플랫폼 회사</td>\n",
       "      <td>모바일광고 ∙ 퍼포먼스마케팅 ∙ 인플루언서마케팅 ∙ 동영상광고플랫폼 ∙ 애드네트웍크</td>\n",
       "      <td>https://www.rocketpunch.com/jobs/70733/PHPMY-S...</td>\n",
       "      <td>[Android, Java, JavaScript, PHP, Python, Amazo...</td>\n",
       "    </tr>\n",
       "    <tr>\n",
       "      <td>3</td>\n",
       "      <td>2020-03-11</td>\n",
       "      <td>에이아이메이커</td>\n",
       "      <td>[java, python] 영상 Tool 개발</td>\n",
       "      <td>신입, 경력</td>\n",
       "      <td>수시채용</td>\n",
       "      <td>데이터 라벨링 기업</td>\n",
       "      <td>개발 ∙ IT/영상 ∙ 정보통신업/ ∙ 정보통신업/소프트웨어개발및공급업</td>\n",
       "      <td>https://www.rocketpunch.com/jobs/70163/java-py...</td>\n",
       "      <td>[Python, Java, Amazon AWS, JavaScript, GitHub]</td>\n",
       "    </tr>\n",
       "    <tr>\n",
       "      <td>4</td>\n",
       "      <td>2020-03-11</td>\n",
       "      <td>트릿지</td>\n",
       "      <td>Front-End Software Engineer at Tridge</td>\n",
       "      <td>4,000 - 10,000만원 / 인턴, 신입, 경력</td>\n",
       "      <td>수시채용</td>\n",
       "      <td>Disrupting the $1.5 Trillion global trading in...</td>\n",
       "      <td>모바일서비스 ∙ 웹서비스 ∙ 마케팅 ∙ 스타트업 ∙ e-commerce ∙ 공유경제...</td>\n",
       "      <td>https://www.rocketpunch.com/jobs/70411/Front-E...</td>\n",
       "      <td>[AngularJS, jQuery, PostgreSQL, nginx, Python,...</td>\n",
       "    </tr>\n",
       "    <tr>\n",
       "      <td>...</td>\n",
       "      <td>...</td>\n",
       "      <td>...</td>\n",
       "      <td>...</td>\n",
       "      <td>...</td>\n",
       "      <td>...</td>\n",
       "      <td>...</td>\n",
       "      <td>...</td>\n",
       "      <td>...</td>\n",
       "      <td>...</td>\n",
       "    </tr>\n",
       "    <tr>\n",
       "      <td>314</td>\n",
       "      <td>2020-03-11</td>\n",
       "      <td>키인사이드</td>\n",
       "      <td>[상시채용] 키인사이드와 함께 할 블록체인 Web Service 개발자 모집</td>\n",
       "      <td>3,000 - 10,000만원 / 경력</td>\n",
       "      <td>수시채용</td>\n",
       "      <td>Leading the way inside to enterprise blockchain</td>\n",
       "      <td>블록체인 ∙ blockchain ∙ 블록체인플랫폼</td>\n",
       "      <td>https://www.rocketpunch.com/jobs/66224/%EC%83%...</td>\n",
       "      <td>[Android, iOS, Node.js, Java, golang, C#, Pyth...</td>\n",
       "    </tr>\n",
       "    <tr>\n",
       "      <td>315</td>\n",
       "      <td>2020-03-11</td>\n",
       "      <td>플랜아이</td>\n",
       "      <td>너드팩토리 AI 추천시스템 엔지니어 영입</td>\n",
       "      <td>경력</td>\n",
       "      <td>수시채용</td>\n",
       "      <td></td>\n",
       "      <td>IT ∙ 솔루션,인공지능,데이터마이닝 ∙ B2G</td>\n",
       "      <td>https://www.rocketpunch.com/jobs/65167/%EB%84%...</td>\n",
       "      <td>[Python, Flask, TensorFlow, PyTorch, 머신러닝, 인공지...</td>\n",
       "    </tr>\n",
       "    <tr>\n",
       "      <td>316</td>\n",
       "      <td>2020-03-11</td>\n",
       "      <td>힐링사운드</td>\n",
       "      <td>연구원</td>\n",
       "      <td>1.0% - 5.0% / 인턴, 신입, 경력</td>\n",
       "      <td>수시채용</td>\n",
       "      <td>의료용 의사소통 증진 시스템</td>\n",
       "      <td>의료 ∙ 치과</td>\n",
       "      <td>https://www.rocketpunch.com/jobs/65932/%EC%97%...</td>\n",
       "      <td>[더 보기]</td>\n",
       "    </tr>\n",
       "    <tr>\n",
       "      <td>317</td>\n",
       "      <td>2020-03-11</td>\n",
       "      <td>링크샵스</td>\n",
       "      <td>[링크샵스] 플랫폼 개발</td>\n",
       "      <td>신입, 경력</td>\n",
       "      <td>수시채용</td>\n",
       "      <td>Global Fashion B2B Online Marketplace</td>\n",
       "      <td>모바일서비스 ∙ 웹서비스 ∙ 소프트웨어 ∙ 이커머스 ∙ B2B ∙ 이커머스/패션뷰티...</td>\n",
       "      <td>https://www.rocketpunch.com/jobs/65771/%EB%A7%...</td>\n",
       "      <td>[플랫폼, 웹 어플리케이션 설계/개발 (Java/JSP), 데이터분석, 알고리즘, ...</td>\n",
       "    </tr>\n",
       "    <tr>\n",
       "      <td>318</td>\n",
       "      <td>2020-03-11</td>\n",
       "      <td>클로버추얼패션</td>\n",
       "      <td>Software Engineer (MacOS)</td>\n",
       "      <td>경력</td>\n",
       "      <td>수시채용</td>\n",
       "      <td>패션 Tech를 선도하는 프로그램 CLO 를 만들고 있는 (주)클로버추얼패션 입니다</td>\n",
       "      <td>웹서비스 ∙ 마케팅 ∙ 소프트웨어 ∙ IT ∙ 디자인 ∙ 소프트웨어개발 ∙ 소프트웨...</td>\n",
       "      <td>https://www.rocketpunch.com/jobs/65502/Softwar...</td>\n",
       "      <td>[C, C++, Mac OS X, Qt, 3D CAD, Python, Xcode, ...</td>\n",
       "    </tr>\n",
       "  </tbody>\n",
       "</table>\n",
       "<p>319 rows × 9 columns</p>\n",
       "</div>"
      ],
      "text/plain": [
       "           date  company                                    position  \\\n",
       "0    2020-03-11   오르비스AI                         (경력) Data Scientist   \n",
       "1    2020-03-11      무른모                               C# 개발자(경력/신입)   \n",
       "2    2020-03-11      네이콘                       PHP/MY-SQL 웹프로그래머 개발자   \n",
       "3    2020-03-11  에이아이메이커                   [java, python] 영상 Tool 개발   \n",
       "4    2020-03-11      트릿지       Front-End Software Engineer at Tridge   \n",
       "..          ...      ...                                         ...   \n",
       "314  2020-03-11    키인사이드  [상시채용] 키인사이드와 함께 할 블록체인 Web Service 개발자 모집   \n",
       "315  2020-03-11     플랜아이                      너드팩토리 AI 추천시스템 엔지니어 영입   \n",
       "316  2020-03-11    힐링사운드                                         연구원   \n",
       "317  2020-03-11     링크샵스                               [링크샵스] 플랫폼 개발   \n",
       "318  2020-03-11  클로버추얼패션                   Software Engineer (MacOS)   \n",
       "\n",
       "                             salary  deadline  \\\n",
       "0    5,000 - 6,000만원 / 최소 0.1% / 경력  04/30 마감   \n",
       "1                            신입, 경력      수시채용   \n",
       "2                        인턴, 신입, 경력  04/10 마감   \n",
       "3                            신입, 경력      수시채용   \n",
       "4     4,000 - 10,000만원 / 인턴, 신입, 경력      수시채용   \n",
       "..                              ...       ...   \n",
       "314           3,000 - 10,000만원 / 경력      수시채용   \n",
       "315                              경력      수시채용   \n",
       "316        1.0% - 5.0% / 인턴, 신입, 경력      수시채용   \n",
       "317                          신입, 경력      수시채용   \n",
       "318                              경력      수시채용   \n",
       "\n",
       "                                           description  \\\n",
       "0                 영어권 컨텐츠 및 광고 크리에이터를 위한 AI 성우를 개발합니다.   \n",
       "1       4차산업 혁명을 이끌 ICT, IOT 기반 자동차 부품제조업 MES 솔루션 개발업체   \n",
       "2                          글로벌 퍼포먼스 및 인플루언서 마케팅 플랫폼 회사   \n",
       "3                                           데이터 라벨링 기업   \n",
       "4    Disrupting the $1.5 Trillion global trading in...   \n",
       "..                                                 ...   \n",
       "314    Leading the way inside to enterprise blockchain   \n",
       "315                                                      \n",
       "316                                    의료용 의사소통 증진 시스템   \n",
       "317              Global Fashion B2B Online Marketplace   \n",
       "318     패션 Tech를 선도하는 프로그램 CLO 를 만들고 있는 (주)클로버추얼패션 입니다   \n",
       "\n",
       "                                               service  \\\n",
       "0    IT ∙ 교육 ∙ 인공지능 ∙ 머신러닝 ∙ 딥러닝 ∙ MachineLearning ...   \n",
       "1    ICT ∙ 클라우드서비스 ∙ IoT플랫폼 ∙ MES ∙ 스마트공장운영시스템 ∙ LO...   \n",
       "2       모바일광고 ∙ 퍼포먼스마케팅 ∙ 인플루언서마케팅 ∙ 동영상광고플랫폼 ∙ 애드네트웍크   \n",
       "3              개발 ∙ IT/영상 ∙ 정보통신업/ ∙ 정보통신업/소프트웨어개발및공급업   \n",
       "4    모바일서비스 ∙ 웹서비스 ∙ 마케팅 ∙ 스타트업 ∙ e-commerce ∙ 공유경제...   \n",
       "..                                                 ...   \n",
       "314                        블록체인 ∙ blockchain ∙ 블록체인플랫폼   \n",
       "315                         IT ∙ 솔루션,인공지능,데이터마이닝 ∙ B2G   \n",
       "316                                            의료 ∙ 치과   \n",
       "317  모바일서비스 ∙ 웹서비스 ∙ 소프트웨어 ∙ 이커머스 ∙ B2B ∙ 이커머스/패션뷰티...   \n",
       "318  웹서비스 ∙ 마케팅 ∙ 소프트웨어 ∙ IT ∙ 디자인 ∙ 소프트웨어개발 ∙ 소프트웨...   \n",
       "\n",
       "                                                  link  \\\n",
       "0    https://www.rocketpunch.com/jobs/47245/%EA%B2%...   \n",
       "1    https://www.rocketpunch.com/jobs/70735/C-%EA%B...   \n",
       "2    https://www.rocketpunch.com/jobs/70733/PHPMY-S...   \n",
       "3    https://www.rocketpunch.com/jobs/70163/java-py...   \n",
       "4    https://www.rocketpunch.com/jobs/70411/Front-E...   \n",
       "..                                                 ...   \n",
       "314  https://www.rocketpunch.com/jobs/66224/%EC%83%...   \n",
       "315  https://www.rocketpunch.com/jobs/65167/%EB%84%...   \n",
       "316  https://www.rocketpunch.com/jobs/65932/%EC%97%...   \n",
       "317  https://www.rocketpunch.com/jobs/65771/%EB%A7%...   \n",
       "318  https://www.rocketpunch.com/jobs/65502/Softwar...   \n",
       "\n",
       "                                                skills  \n",
       "0                                                   []  \n",
       "1               [MySQL, plc, PHP, aws, GitLab, Python]  \n",
       "2    [Android, Java, JavaScript, PHP, Python, Amazo...  \n",
       "3       [Python, Java, Amazon AWS, JavaScript, GitHub]  \n",
       "4    [AngularJS, jQuery, PostgreSQL, nginx, Python,...  \n",
       "..                                                 ...  \n",
       "314  [Android, iOS, Node.js, Java, golang, C#, Pyth...  \n",
       "315  [Python, Flask, TensorFlow, PyTorch, 머신러닝, 인공지...  \n",
       "316                                             [더 보기]  \n",
       "317  [플랫폼, 웹 어플리케이션 설계/개발 (Java/JSP), 데이터분석, 알고리즘, ...  \n",
       "318  [C, C++, Mac OS X, Qt, 3D CAD, Python, Xcode, ...  \n",
       "\n",
       "[319 rows x 9 columns]"
      ]
     },
     "execution_count": 3,
     "metadata": {},
     "output_type": "execute_result"
    }
   ],
   "source": [
    "# 전체 페이지의 개수를 알아내기 위한 과정\n",
    "url = \"https://www.rocketpunch.com/api/jobs/template?&page=1&q=&specialty=Python&tag=%EB%8D%B0%EC%9D%B4%ED%84%B0\"\n",
    "response = requests.get(url)\n",
    "data = response.json()['data']['template']\n",
    "dom = BeautifulSoup(data, \"html.parser\")\n",
    "total_pages = dom.select(\"div.ui.pagination.menu > div.tablet.computer.large.screen.widescreen.only > a\")[-1].text\n",
    "\n",
    "datas = []\n",
    "for page in range(1,int(total_pages)+1):\n",
    "    url = \"https://www.rocketpunch.com/api/jobs/template?page={}&q=&specialty=Python&tag=%EB%8D%B0%EC%9D%B4%ED%84%B0%\".format(page)\n",
    "    response = requests.get(url)\n",
    "    data = response.json()['data']['template']\n",
    "    dom = BeautifulSoup(data, \"html.parser\")\n",
    "    root = dom.select('#company-list > div.company.item > div.content')\n",
    "    positions = dom.select('#company-list > div.company.item > div.content > div.company-jobs-detail')\n",
    "    a = 0\n",
    "    for i in range(len(root)):\n",
    "        len_of_positions = len(positions[i].select('div:nth-child(1) > a.nowrap'))   \n",
    "        a +=1\n",
    "        print(a)\n",
    "        for j in range(len_of_positions):\n",
    "            link = \"https://www.rocketpunch.com\" + positions[i].select('div:nth-child(1) > a.nowrap')[j].get('href') \n",
    "            response = requests.get(link)\n",
    "            dom_for_skills = BeautifulSoup(response.text,\"html.parser\")      \n",
    "            datas.append({\n",
    "                \"date\" : date.today(),\n",
    "                \"company\" : root[i].select('div.company-name > a > h4 > strong')[0].text,\n",
    "                \"position\" : positions[i].select('div:nth-child(1) > a.nowrap')[j].text,\n",
    "                \"salary\" : positions[i].select('div.job-detail > div:nth-child(1) > span')[j].text,\n",
    "                \"deadline\" : positions[i].select('div.job-detail > div.job-dates > span:nth-child(1)')[j].text.strip(' \\n'),\n",
    "                \"description\" : root[i].select('div.description')[0].text.strip('\\xa0'),\n",
    "                \"service\" : root[i].select('div.nowrap.meta')[0].text.strip(),  \n",
    "                \"link\" : link,\n",
    "                \"skills\" : str([a.text for a in dom_for_skills.select('div .job-specialties > a ')]).strip(\"[]\")\n",
    "            })\n",
    "result = pd.DataFrame(datas)"
   ]
  },
  {
   "cell_type": "code",
   "execution_count": 86,
   "metadata": {
    "scrolled": true
   },
   "outputs": [
    {
     "data": {
      "text/plain": [
       "['C',\n",
       " 'C++',\n",
       " 'Mac OS X',\n",
       " 'Qt',\n",
       " '3D CAD',\n",
       " 'Python',\n",
       " 'Xcode',\n",
       " 'Visual Studio',\n",
       " 'SVN',\n",
       " 'Git',\n",
       " 'TeamCity']"
      ]
     },
     "execution_count": 86,
     "metadata": {},
     "output_type": "execute_result"
    }
   ],
   "source": [
    "[a.text for a in dom_for_skills.select('#wrap > div.eight.wide.job-content.column > section:nth-child(3) > div > a')] "
   ]
  },
  {
   "cell_type": "code",
   "execution_count": 87,
   "metadata": {
    "scrolled": true
   },
   "outputs": [
    {
     "data": {
      "text/plain": [
       "['\\nC\\nC++\\nMac OS X\\nQt\\n3D CAD\\nPython\\nXcode\\nVisual Studio\\nSVN\\nGit\\nTeamCity\\n',\n",
       " '\\n          Front-end ∙ JavaScript ∙ jQuery ∙ MySQL ∙ Java ∙ Node.js ∙ React ∙ CSS3 ∙ Android ∙ iOS\\n        ',\n",
       " '\\n          jQuery ∙ JavaScript ∙ CSS3 ∙ AngularJS ∙ React ∙ Front-end ∙ HTML5 ∙ CSS ∙ HTML ∙ Node.js ∙ MySQL ∙ Java\\n        ',\n",
       " '\\n          unity ∙ Unity 3D ∙ Unreal ∙ 유니티 ∙ shader ∙ 3D ∙ Unreal Engine 4 ∙ ar ∙ vr\\n        ',\n",
       " '\\n          3D디자인 ∙ 3d MAYA ∙ 패션디자인 ∙ 패션 ∙ 프로덕트디자인\\n        ']"
      ]
     },
     "execution_count": 87,
     "metadata": {},
     "output_type": "execute_result"
    }
   ],
   "source": [
    "[a.text for a in dom_for_skills.select('div .job-specialties')]"
   ]
  },
  {
   "cell_type": "code",
   "execution_count": 286,
   "metadata": {},
   "outputs": [],
   "source": [
    "response = requests.get(\"https://www.rocketpunch.com/jobs/57705/Back-end-Developer-%EB%B0%B1%EC%97%94%EB%93%9C-%EC%84%9C%EB%B2%84-%EA%B0%9C%EB%B0%9C%EC%9E%90\")\n",
    "dom = BeautifulSoup(response.text,\"html.parser\")"
   ]
  },
  {
   "cell_type": "code",
   "execution_count": 920,
   "metadata": {},
   "outputs": [],
   "source": [
    "response = requests.get(\"https://www.rocketpunch.com/jobs/70804/%EC%B2%AD%EB%85%84SW%EC%95%84%EC%B9%B4%EB%8D%B0%EB%AF%B8SSAFY-%EC%B7%A8%EC%97%85%EC%83%81%EB%8B%B4%EC%82%AC-%EA%B3%84%EC%95%BD%EC%A7%81-%EB%8C%80%EC%A0%84-%EA%B4%91%EC%A3%BC\")\n",
    "dom_for_skills = BeautifulSoup(response.text,\"html.parser\")      "
   ]
  },
  {
   "cell_type": "code",
   "execution_count": 992,
   "metadata": {},
   "outputs": [
    {
     "data": {
      "text/plain": [
       "'취업상담사, 취업상담'"
      ]
     },
     "execution_count": 992,
     "metadata": {},
     "output_type": "execute_result"
    }
   ],
   "source": [
    "\", \".join([a.text for a in dom_for_skills.select('div .job-specialties > a ')])"
   ]
  },
  {
   "cell_type": "code",
   "execution_count": 995,
   "metadata": {},
   "outputs": [
    {
     "data": {
      "text/plain": [
       "'광주광역시 광산구, 대전광역시 유성구'"
      ]
     },
     "execution_count": 995,
     "metadata": {},
     "output_type": "execute_result"
    }
   ],
   "source": [
    "# <br\\>로 나누어져 있기 때문에, 처음부터 끝까지 1칸씩 간격을 두고 찾아내면 지역이 몇개건 상관없이 가져올수 있음\n",
    "\", \".join(dom_for_skills.select('#wrap > div.four.wide.job-infoset.column > div > div:nth-child(3) > div > div:nth-child(2) > div.content')[0].contents[::2]).strip()"
   ]
  },
  {
   "cell_type": "code",
   "execution_count": 996,
   "metadata": {},
   "outputs": [
    {
     "data": {
      "text/plain": [
       "'광주광역시'"
      ]
     },
     "execution_count": 996,
     "metadata": {},
     "output_type": "execute_result"
    }
   ],
   "source": [
    "\"\\n       광주광역시                 \\n\".strip()"
   ]
  },
  {
   "cell_type": "code",
   "execution_count": null,
   "metadata": {},
   "outputs": [],
   "source": []
  },
  {
   "cell_type": "code",
   "execution_count": null,
   "metadata": {},
   "outputs": [],
   "source": []
  },
  {
   "cell_type": "code",
   "execution_count": null,
   "metadata": {},
   "outputs": [],
   "source": []
  },
  {
   "cell_type": "code",
   "execution_count": null,
   "metadata": {},
   "outputs": [],
   "source": []
  },
  {
   "cell_type": "code",
   "execution_count": 40,
   "metadata": {},
   "outputs": [],
   "source": [
    "from scrapy.http import TextResponse\n",
    "url = \"https://www.rocketpunch.com/api/jobs/template?page=1&q=&specialty=Python&tag=데이터\""
   ]
  },
  {
   "cell_type": "code",
   "execution_count": 82,
   "metadata": {
    "scrolled": true
   },
   "outputs": [
    {
     "data": {
      "text/plain": [
       "<200 https://www.rocketpunch.com/api/jobs/template?page=1&q=&specialty=Python&tag=%EB%8D%B0%EC%9D%B4%ED%84%B0%3E>"
      ]
     },
     "execution_count": 82,
     "metadata": {},
     "output_type": "execute_result"
    }
   ],
   "source": [
    "req = requests.get(url)\n",
    "response = TextResponse(req.url, body=req.text, encoding=\"utf-8\")\n",
    "response"
   ]
  },
  {
   "cell_type": "code",
   "execution_count": 83,
   "metadata": {},
   "outputs": [],
   "source": [
    "jsonresponse = json.loads(response.body)"
   ]
  },
  {
   "cell_type": "code",
   "execution_count": 72,
   "metadata": {},
   "outputs": [],
   "source": [
    "soup = BeautifulSoup(response.body, \"html.parser\") "
   ]
  },
  {
   "cell_type": "code",
   "execution_count": 75,
   "metadata": {},
   "outputs": [
    {
     "ename": "TypeError",
     "evalue": "'NoneType' object is not callable",
     "output_type": "error",
     "traceback": [
      "\u001b[0;31m---------------------------------------------------------------------------\u001b[0m",
      "\u001b[0;31mTypeError\u001b[0m                                 Traceback (most recent call last)",
      "\u001b[0;32m<ipython-input-75-368028e24cc7>\u001b[0m in \u001b[0;36m<module>\u001b[0;34m\u001b[0m\n\u001b[0;32m----> 1\u001b[0;31m \u001b[0msoup\u001b[0m\u001b[0;34m.\u001b[0m\u001b[0mjson\u001b[0m\u001b[0;34m(\u001b[0m\u001b[0;34m)\u001b[0m\u001b[0;34m\u001b[0m\u001b[0;34m\u001b[0m\u001b[0m\n\u001b[0m",
      "\u001b[0;31mTypeError\u001b[0m: 'NoneType' object is not callable"
     ]
    }
   ],
   "source": [
    "soup"
   ]
  },
  {
   "cell_type": "code",
   "execution_count": 48,
   "metadata": {},
   "outputs": [],
   "source": [
    "url = \"https://www.rocketpunch.com/api/jobs/template?page=1&q=&specialty=Python&tag=%EB%8D%B0%EC%9D%B4%ED%84%B0%3E\"\n",
    "response = requests.get(url)\n",
    "data = response.json()['data']['template']\n",
    "dom = BeautifulSoup(data, \"html.parser\")\n"
   ]
  },
  {
   "cell_type": "code",
   "execution_count": 49,
   "metadata": {},
   "outputs": [
    {
     "data": {
      "text/plain": [
       "<div class=\"ui job items segment\" id=\"company-list\">\n",
       "<div class=\"header\">\n",
       "<div class=\"ui right floated header sort-types\"><a class=\"checked\" data-query-add=\"sort=recent\" href=\"/jobs?q=&amp;specialty=Python&amp;tag=%EB%8D%B0%EC%9D%B4%ED%84%B0%3E&amp;sort=recent\">\n",
       "        최신순\n",
       "      </a>\n",
       "<div class=\"separator\"></div><a data-query-add=\"sort=ranking\" href=\"/jobs?q=&amp;specialty=Python&amp;tag=%EB%8D%B0%EC%9D%B4%ED%84%B0%3E&amp;sort=ranking\">\n",
       "        인기순\n",
       "      </a>\n",
       "<div class=\"separator\"></div><a data-query-add=\"sort=salary\" href=\"/jobs?q=&amp;specialty=Python&amp;tag=%EB%8D%B0%EC%9D%B4%ED%84%B0%3E&amp;sort=salary\">\n",
       "        연봉순\n",
       "      </a>\n",
       "</div>\n",
       "<h2 class=\"ui left header\" style=\"font-size:16px\">\n",
       "<span class=\"desc\">검색 결과</span>\n",
       "<span class=\"count\">304</span>\n",
       "<div class=\"separator\"></div>\n",
       "<span class=\"filter-summary\">데이터&gt;, Python</span>\n",
       "</h2>\n",
       "</div>\n",
       "<div class=\"ui inverted divider\"></div><div class=\"company item active\" data-company_id=\"113474\">\n",
       "<div class=\"logo image\">\n",
       "<a href=\"/companies/turing/jobs\" target=\"_blank\">\n",
       "<div class=\"ui logo\">\n",
       "<img alt=\"튜링 logo\" class=\"ui image\" src=\"https://image.rocketpunch.com/company/113474/turing_logo_1579582194.png?s=100x100&amp;t=inside\"/>\n",
       "</div>\n",
       "</a>\n",
       "</div>\n",
       "<div class=\"content active\">\n",
       "<div class=\"ui right floated skip header\">\n",
       "<a data-modal=\"signup\">✕</a>\n",
       "</div>\n",
       "<div class=\"company-name\">\n",
       "<a href=\"/companies/turing/jobs\" target=\"_blank\">\n",
       "<h4 class=\"header name\"> <strong>튜링</strong>\n",
       "<small>(Turing)</small>\n",
       "</h4>\n",
       "</a><a class=\"reference-count\" data-method=\"post\" data-url=\"/api/companies/113474/reference\">\n",
       "<i class=\"ic-thumbup-outline icon\"></i>\n",
       "<span class=\"count\">5</span>\n",
       "</a></div>\n",
       "<div class=\"description\">인공지능 수학공부 앱 : 수학대왕을 운영중입니다. :) </div>\n",
       "<div class=\"nowrap meta\">      모바일 ∙ 빅데이터 ∙ 인공지능 ∙ 머신러닝 ∙ IT/인공지능 ∙ 딥러닝 ∙ 모바일/웹 ∙ 에듀테크 ∙ 교육/이러닝 ∙ 추천 ∙ 수학 ∙ 교육산업 ∙ 교육산업/IT ∙ 수학교육 ∙ 추천알고리즘\n",
       "</div><div class=\"ui divider\"></div>\n",
       "<div class=\"company-jobs-detail\">\n",
       "<div class=\"job-detail\">\n",
       "<div>\n",
       "<a class=\"nowrap job-title primary link\" href=\"/jobs/70593/%EC%9D%B8%EA%B3%B5%EC%A7%80%EB%8A%A5-%EC%88%98%ED%95%99-%EA%B5%90%EC%9C%A1-%EC%8A%A4%ED%83%80%ED%8A%B8%EC%97%85%EC%97%90%EC%84%9C-%ED%8C%80%EC%9B%90%EC%9C%BC%EB%A1%9C-%EC%84%9C%EB%B2%84%EA%B0%9C%EB%B0%9C%EC%9E%90%EB%A5%BC-%EB%AA%A8%EC%8B%AD%EB%8B%88%EB%8B%A4-django\" target=\"_blank\">인공지능 수학 교육 스타트업에서 팀원으로 서버개발자를 모십니다. (django)</a>\n",
       "<span class=\"job-stat-info\">7,000 - 9,000만원 / 최대 2.5% / 경력</span>\n",
       "<a data-modal=\"login\" style=\"float:right\"><i class=\"ic-bookmark_outline icon\"></i></a>\n",
       "</div>\n",
       "<div class=\"job-dates\">\n",
       "<span>\n",
       "<i class=\"ic-calendar_new icon\"></i>                수시채용\n",
       "</span><span>                03/08 등록\n",
       "</span></div>\n",
       "</div>\n",
       "</div>\n",
       "</div>\n",
       "</div>\n",
       "<div class=\"ui inverted divider\"></div><div class=\"company item\" data-company_id=\"6047\">\n",
       "<div class=\"logo image\">\n",
       "<a href=\"/companies/mathpresso/jobs\" target=\"_blank\">\n",
       "<div class=\"ui logo\">\n",
       "<img alt=\"매스프레소 logo\" class=\"ui image\" src=\"https://image.rocketpunch.com/company/6047/mathpresso_logo_1502252970.jpg?s=100x100&amp;t=inside\"/>\n",
       "</div>\n",
       "</a>\n",
       "</div>\n",
       "<div class=\"content\">\n",
       "<div class=\"ui right floated skip header\">\n",
       "<a data-modal=\"signup\">✕</a>\n",
       "</div>\n",
       "<div class=\"company-name\">\n",
       "<a href=\"/companies/mathpresso/jobs\" target=\"_blank\">\n",
       "<h4 class=\"header name\"> <strong>매스프레소</strong>\n",
       "<small>(Mathpresso)</small>\n",
       "</h4>\n",
       "</a><span class=\"ui small basic response recruit label\"><div data-content=\"7일 이내 지원 결과를 알려줄 확률이 90% 이상인 기업입니다.\" data-variation=\"inverted mini\">응답률 우수</div><div data-content=\"로켓펀치를 통해 채용한 기록이 있는 기업입니다.\" data-variation=\"inverted mini\">채용 우수</div></span><a class=\"reference-count\" data-method=\"post\" data-url=\"/api/companies/6047/reference\">\n",
       "<i class=\"ic-thumbup-outline icon\"></i>\n",
       "<span class=\"count\">27</span>\n",
       "</a></div>\n",
       "<div class=\"description\">We Rebuild Education </div>\n",
       "<div class=\"nowrap meta\">      모바일서비스 ∙ 소프트웨어 ∙ 데이터 ∙ 교육 ∙ 모바일앱 ∙ AI ∙ 앱개발 ∙ 머신러닝 ∙ IT/인공지능 ∙ 딥러닝 ∙ 에듀테크 ∙ 수학 ∙ OCR\n",
       "</div><div class=\"applicants\">\n",
       "<div class=\"avatar-list\">\n",
       "<a href=\"/@l1218yj2\">\n",
       "<img alt=\"\" class=\"ui mini circular image\" src=\"https://image.rocketpunch.com/user/14199/14199_1544617878.jpg?s=35x35&amp;t=cover\"/>\n",
       "</a><div class=\"mini masked item\">?</div><div class=\"mini masked item\">?</div><div class=\"mini masked item\">?</div>\n",
       "<div class=\"more item mini\"><span>+319</span></div>\n",
       "</div>\n",
       "<span><a href=\"/companies/mathpresso/jobs/applicants\">320명 이상이 로켓펀치를 통해 지원</a></span>\n",
       "</div><div class=\"ui divider\"></div>\n",
       "<div class=\"company-jobs-detail\">\n",
       "<div class=\"job-detail\">\n",
       "<div>\n",
       "<a class=\"nowrap job-title primary link\" href=\"/jobs/70589/Math-Engine-Developer\" target=\"_blank\">Math Engine Developer</a>\n",
       "<span class=\"job-stat-info\">3,500 - 6,000만원 / 인턴, 신입, 경력</span>\n",
       "<a data-modal=\"login\" style=\"float:right\"><i class=\"ic-bookmark_outline icon\"></i></a>\n",
       "</div>\n",
       "<div class=\"job-dates\">\n",
       "<span>\n",
       "<i class=\"ic-calendar_new icon\"></i>                03/31 마감\n",
       "</span><span>                03/07 등록\n",
       "</span></div>\n",
       "</div>\n",
       "</div>\n",
       "</div>\n",
       "</div>\n",
       "<div class=\"ui inverted divider\"></div><div class=\"company item\" data-company_id=\"4921\">\n",
       "<div class=\"logo image\">\n",
       "<a href=\"/companies/tridge/jobs\" target=\"_blank\">\n",
       "<div class=\"ui logo\">\n",
       "<img alt=\"트릿지 logo\" class=\"ui image\" src=\"https://image.rocketpunch.com/company/4921/tridge_logo_1582610549.png?s=100x100&amp;t=inside\"/>\n",
       "</div>\n",
       "</a>\n",
       "</div>\n",
       "<div class=\"content\">\n",
       "<div class=\"ui right floated skip header\">\n",
       "<a data-modal=\"signup\">✕</a>\n",
       "</div>\n",
       "<div class=\"company-name\">\n",
       "<a href=\"/companies/tridge/jobs\" target=\"_blank\">\n",
       "<h4 class=\"header name\"> <strong>트릿지</strong>\n",
       "<small>(Tridge)</small>\n",
       "</h4>\n",
       "</a><a class=\"reference-count\" data-method=\"post\" data-url=\"/api/companies/4921/reference\">\n",
       "<i class=\"ic-thumbup-outline icon\"></i>\n",
       "<span class=\"count\">56</span>\n",
       "</a></div>\n",
       "<div class=\"description\">Disrupting the $1.5 Trillion global trading industry </div>\n",
       "<div class=\"nowrap meta\">      모바일서비스 ∙ 웹서비스 ∙ 마케팅 ∙ 스타트업 ∙ e-commerce ∙ 공유경제 ∙ 무역 ∙ B2B ∙ 글로벌 ∙ Big-Data ∙ B2B2C ∙ Data-Visualization\n",
       "</div><div class=\"applicants\">\n",
       "<div class=\"avatar-list\">\n",
       "<div class=\"mini masked item\">?</div><div class=\"mini masked item\">?</div><div class=\"mini masked item\">?</div><div class=\"mini masked item\">?</div>\n",
       "<div class=\"more item mini\"><span>+717</span></div>\n",
       "</div>\n",
       "<span><a href=\"/companies/tridge/jobs/applicants\">720명 이상이 로켓펀치를 통해 지원</a></span>\n",
       "</div><div class=\"ui divider\"></div>\n",
       "<div class=\"company-jobs-detail\">\n",
       "<div class=\"job-detail\">\n",
       "<div>\n",
       "<a class=\"nowrap job-title primary link\" href=\"/jobs/70411/Front-End-Software-Engineer-at-Tridge\" target=\"_blank\">Front-End Software Engineer at Tridge</a>\n",
       "<span class=\"job-stat-info\">4,000 - 10,000만원 / 인턴, 신입, 경력</span>\n",
       "<a data-modal=\"login\" style=\"float:right\"><i class=\"ic-bookmark_outline icon\"></i></a>\n",
       "</div>\n",
       "<div class=\"job-dates\">\n",
       "<span>\n",
       "<i class=\"ic-calendar_new icon\"></i>                수시채용\n",
       "</span><span>                03/05 수정\n",
       "</span></div>\n",
       "</div>\n",
       "<div class=\"ui divider\"></div> <div class=\"job-detail\">\n",
       "<div>\n",
       "<a class=\"nowrap job-title primary link\" href=\"/jobs/9504/Back-End-Software-Engineer-at-Tridge\" target=\"_blank\">Back-End Software Engineer at Tridge</a>\n",
       "<span class=\"job-stat-info\">4,000 - 10,000만원 / 인턴, 신입, 경력</span>\n",
       "<a data-modal=\"login\" style=\"float:right\"><i class=\"ic-bookmark_outline icon\"></i></a>\n",
       "</div>\n",
       "<div class=\"job-dates\">\n",
       "<span>\n",
       "<i class=\"ic-calendar_new icon\"></i>                수시채용\n",
       "</span><span>                03/07 수정\n",
       "</span></div>\n",
       "</div>\n",
       "<div class=\"ui divider\"></div> <div class=\"job-detail\">\n",
       "<div>\n",
       "<a class=\"nowrap job-title primary link\" href=\"/jobs/70412/Lead-Software-Engineer-at-Tridge\" target=\"_blank\">Lead Software Engineer at Tridge</a>\n",
       "<span class=\"job-stat-info\">4,000 - 10,000만원 / 경력</span>\n",
       "<a data-modal=\"login\" style=\"float:right\"><i class=\"ic-bookmark_outline icon\"></i></a>\n",
       "</div>\n",
       "<div class=\"job-dates\">\n",
       "<span>\n",
       "<i class=\"ic-calendar_new icon\"></i>                수시채용\n",
       "</span><span>                03/05 수정\n",
       "</span></div>\n",
       "</div>\n",
       "</div>\n",
       "</div>\n",
       "</div>\n",
       "<div class=\"ui inverted divider\"></div><div class=\"item brand-message\">\n",
       "<div class=\"logo image\"></div>\n",
       "<div class=\"content\">\n",
       "<img alt=\"image\" src=\"https://static.rocketpunch.com/images/main/landing/space_lounge_chat_nobg.svg\"/>\n",
       "<div class=\"description\">\n",
       "<h2>\n",
       "              당신에게 필요한 좋은 일자리!\n",
       "            </h2>\n",
       "<h3>\n",
       "              대한민국의 비즈니스 인맥이 모두 모여있는 곳, 로켓펀치에서 만나보세요.\n",
       "            </h3>\n",
       "<a class=\"ui basic primary button\" href=\"/signup\">\n",
       "              무료가입\n",
       "            </a>\n",
       "</div>\n",
       "</div>\n",
       "</div>\n",
       "<div class=\"ui inverted divider\"></div><div class=\"company item\" data-company_id=\"110749\">\n",
       "<div class=\"logo image\">\n",
       "<a href=\"/companies/fetching/jobs\" target=\"_blank\">\n",
       "<div class=\"ui logo\">\n",
       "<img alt=\"FETCHING logo\" class=\"ui image\" src=\"https://image.rocketpunch.com/company/110749/fetching_logo_1576173568.jpg?s=100x100&amp;t=inside\"/>\n",
       "</div>\n",
       "</a>\n",
       "</div>\n",
       "<div class=\"content\">\n",
       "<div class=\"ui right floated skip header\">\n",
       "<a data-modal=\"signup\">✕</a>\n",
       "</div>\n",
       "<div class=\"company-name\">\n",
       "<a href=\"/companies/fetching/jobs\" target=\"_blank\">\n",
       "<h4 class=\"header name\"> <strong>FETCHING</strong>\n",
       "</h4>\n",
       "</a><a class=\"reference-count\" data-method=\"post\" data-url=\"/api/companies/110749/reference\">\n",
       "<i class=\"ic-thumbup-outline icon\"></i>\n",
       "<span class=\"count\">7</span>\n",
       "</a></div>\n",
       "<div class=\"description\">페칭 - 테크 기반의 문화와 자유로운 분위기를 지향하는 회사 </div>\n",
       "<div class=\"nowrap meta\">      IT/서비스 ∙ 앱 ∙ ICT\n",
       "</div><div class=\"applicants\">\n",
       "<div class=\"avatar-list\">\n",
       "<div class=\"mini masked item\">?</div><div class=\"mini masked item\">?</div><div class=\"mini masked item\">?</div><div class=\"mini masked item\">?</div>\n",
       "<div class=\"more item mini\"><span>+2</span></div>\n",
       "</div>\n",
       "<span><a href=\"/companies/fetching/jobs/applicants\">5명 이상이 로켓펀치를 통해 지원</a></span>\n",
       "</div><div class=\"ui divider\"></div>\n",
       "<div class=\"company-jobs-detail\">\n",
       "<div class=\"job-detail\">\n",
       "<div>\n",
       "<a class=\"nowrap job-title primary link\" href=\"/jobs/66855/Python-Back-end-%EA%B0%9C%EB%B0%9C%EC%9E%90-%ED%8C%80%EC%9B%90%EC%9D%84-%EA%B5%AC%ED%95%B4%EC%9A%94\" target=\"_blank\">Python Back-end 개발자 팀원을 구해요</a>\n",
       "<span class=\"job-stat-info\">3,000 - 6,000만원 / 1.0% - 5.0% / 신입, 경력</span>\n",
       "<a data-modal=\"login\" style=\"float:right\"><i class=\"ic-bookmark_outline icon\"></i></a>\n",
       "</div>\n",
       "<div class=\"job-dates\">\n",
       "<span>\n",
       "<i class=\"ic-calendar_new icon\"></i>                03/27 마감\n",
       "</span><span>\n",
       "<i class=\"feed icon\"></i>\n",
       "                원격근무\n",
       "              </span><span>                03/07 수정\n",
       "</span></div>\n",
       "</div>\n",
       "</div>\n",
       "</div>\n",
       "</div>\n",
       "<div class=\"ui inverted divider\"></div><div class=\"company item\" data-company_id=\"5137\">\n",
       "<div class=\"logo image\">\n",
       "<a href=\"/companies/idve/jobs\" target=\"_blank\">\n",
       "<div class=\"ui logo\">\n",
       "<img alt=\"아이디브 logo\" class=\"ui image\" src=\"https://image.rocketpunch.com/company/5137/idve_logo_1511959631.png?s=100x100&amp;t=inside\"/>\n",
       "</div>\n",
       "</a>\n",
       "</div>\n",
       "<div class=\"content\">\n",
       "<div class=\"ui right floated skip header\">\n",
       "<a data-modal=\"signup\">✕</a>\n",
       "</div>\n",
       "<div class=\"company-name\">\n",
       "<a href=\"/companies/idve/jobs\" target=\"_blank\">\n",
       "<h4 class=\"header name\"> <strong>아이디브</strong>\n",
       "<small>(IDVE)</small>\n",
       "</h4>\n",
       "</a><span class=\"ui small basic response recruit label\"><div data-content=\"7일 이내 지원 결과를 알려줄 확률이 90% 이상인 기업입니다.\" data-variation=\"inverted mini\">응답률 우수</div><div data-content=\"로켓펀치를 통해 채용한 기록이 있는 기업입니다.\" data-variation=\"inverted mini\">채용 우수</div></span><a class=\"reference-count\" data-method=\"post\" data-url=\"/api/companies/5137/reference\">\n",
       "<i class=\"ic-thumbup-outline icon\"></i>\n",
       "<span class=\"count\">7</span>\n",
       "</a></div>\n",
       "<div class=\"description\">심플! 편안한 해외직구 애프터바이! 국내 오픈마켓 같은 해외직구 서비스 </div>\n",
       "<div class=\"nowrap meta\">      모바일서비스 ∙ 웹서비스 ∙ 마케팅 ∙ 데이터 ∙ 빅데이터 ∙ 모바일앱 ∙ 데이터분석 ∙ 해외직구 ∙ 통계분석\n",
       "</div><div class=\"applicants\">\n",
       "<div class=\"avatar-list\">\n",
       "<div class=\"mini masked item\">?</div><div class=\"mini masked item\">?</div><div class=\"mini masked item\">?</div><div class=\"mini masked item\">?</div>\n",
       "<div class=\"more item mini\"><span>+321</span></div>\n",
       "</div>\n",
       "<span><a href=\"/companies/idve/jobs/applicants\">325명 이상이 로켓펀치를 통해 지원</a></span>\n",
       "</div><div class=\"ui divider\"></div>\n",
       "<div class=\"company-jobs-detail\">\n",
       "<div class=\"job-detail\">\n",
       "<div>\n",
       "<a class=\"nowrap job-title primary link\" href=\"/jobs/69882/%ED%95%B4%EC%99%B8%EC%A7%81%EA%B5%AC-%EC%95%A0%ED%94%84%ED%84%B0%EB%B0%94%EC%9D%B4-PythonReact-%EA%B0%9C%EB%B0%9C%EC%9E%90-%EB%AA%A8%EC%8B%AD%EB%8B%88%EB%8B%A4\" target=\"_blank\">해외직구 애프터바이 [Python,React 개발자] 모십니다!</a>\n",
       "<span class=\"job-stat-info\">최대 9,000만원 / 최대 3.0% / 경력</span>\n",
       "<a data-modal=\"login\" style=\"float:right\"><i class=\"ic-bookmark_outline icon\"></i></a>\n",
       "</div>\n",
       "<div class=\"job-dates\">\n",
       "<span>\n",
       "<i class=\"ic-calendar_new icon\"></i>                03/21 마감\n",
       "</span><span>                03/07 수정\n",
       "</span></div>\n",
       "</div>\n",
       "</div>\n",
       "</div>\n",
       "</div>\n",
       "<div class=\"ui inverted divider\"></div><div class=\"company item\" data-company_id=\"94059\">\n",
       "<div class=\"logo image\">\n",
       "<a href=\"/companies/dslabglobal/jobs\" target=\"_blank\">\n",
       "<div class=\"ui logo\">\n",
       "<img alt=\"디에스랩글로벌 logo\" class=\"ui image\" src=\"https://image.rocketpunch.com/company/94059/skyhub_logo_1580273903.jpg?s=100x100&amp;t=inside\"/>\n",
       "</div>\n",
       "</a>\n",
       "</div>\n",
       "<div class=\"content\">\n",
       "<div class=\"ui right floated skip header\">\n",
       "<a data-modal=\"signup\">✕</a>\n",
       "</div>\n",
       "<div class=\"company-name\">\n",
       "<a href=\"/companies/dslabglobal/jobs\" target=\"_blank\">\n",
       "<h4 class=\"header name\"> <strong>디에스랩글로벌</strong>\n",
       "<small>(DSLAB GLOBAL)</small>\n",
       "</h4>\n",
       "</a><span class=\"ui small basic response label\"><div data-content=\"7일 이내 지원 결과를 알려줄 확률이 90% 이상인 기업입니다.\" data-variation=\"inverted mini\">응답률 우수</div></span><a class=\"reference-count\" data-method=\"post\" data-url=\"/api/companies/94059/reference\">\n",
       "<i class=\"ic-thumbup-outline icon\"></i>\n",
       "<span class=\"count\">2</span>\n",
       "</a></div>\n",
       "<div class=\"description\">인공지능 자동화 솔루션 전문 기업 </div>\n",
       "<div class=\"nowrap meta\">      소프트웨어 ∙ IT ∙ 인공지능 ∙ IT/서비스 ∙ 컨설팅 ∙ 머신러닝 ∙ 서비스/소프트웨어개발및공급업 ∙ IT/인공지능 ∙ 딥러닝 ∙ SaaS\n",
       "</div><div class=\"applicants\">\n",
       "<div class=\"avatar-list\">\n",
       "<div class=\"mini masked item\">?</div><div class=\"mini masked item\">?</div><div class=\"mini masked item\">?</div><div class=\"mini masked item\">?</div>\n",
       "<div class=\"more item mini\"><span>+65</span></div>\n",
       "</div>\n",
       "<span><a href=\"/companies/dslabglobal/jobs/applicants\">65명 이상이 로켓펀치를 통해 지원</a></span>\n",
       "</div><div class=\"ui divider\"></div>\n",
       "<div class=\"company-jobs-detail\">\n",
       "<div class=\"job-detail\">\n",
       "<div>\n",
       "<a class=\"nowrap job-title primary link\" href=\"/jobs/69431/%EB%8D%B0%EC%9D%B4%ED%84%B0-%EB%B6%84%EC%84%9D%EA%B0%80\" target=\"_blank\">데이터 분석가</a>\n",
       "<span class=\"job-stat-info\">신입, 경력</span>\n",
       "<a data-modal=\"login\" style=\"float:right\"><i class=\"ic-bookmark_outline icon\"></i></a>\n",
       "</div>\n",
       "<div class=\"job-dates\">\n",
       "<span>\n",
       "<i class=\"ic-calendar_new icon\"></i>                03/13 마감\n",
       "</span><span>                02/12 등록\n",
       "</span></div>\n",
       "</div>\n",
       "<div class=\"ui divider\"></div> <div class=\"job-detail\">\n",
       "<div>\n",
       "<a class=\"nowrap job-title primary link\" href=\"/jobs/69429/%EB%B0%B1%EC%97%94%EB%93%9C-%EA%B0%9C%EB%B0%9C%EC%9E%90\" target=\"_blank\">백엔드 개발자</a>\n",
       "<span class=\"job-stat-info\">신입, 경력</span>\n",
       "<a data-modal=\"login\" style=\"float:right\"><i class=\"ic-bookmark_outline icon\"></i></a>\n",
       "</div>\n",
       "<div class=\"job-dates\">\n",
       "<span>\n",
       "<i class=\"ic-calendar_new icon\"></i>                수시채용\n",
       "</span><span>                03/06 수정\n",
       "</span></div>\n",
       "</div>\n",
       "</div>\n",
       "</div>\n",
       "</div>\n",
       "<div class=\"ui inverted divider\"></div><div class=\"company item\" data-company_id=\"29834\">\n",
       "<div class=\"logo image\">\n",
       "<a href=\"/companies/paletteco/jobs\" target=\"_blank\">\n",
       "<div class=\"ui logo\">\n",
       "<img alt=\"에이블리코퍼레이션 logo\" class=\"ui image\" src=\"https://image.rocketpunch.com/company/29834/paletteco_logo_1556522541.png?s=100x100&amp;t=inside\"/>\n",
       "</div>\n",
       "</a>\n",
       "</div>\n",
       "<div class=\"content\">\n",
       "<div class=\"ui right floated skip header\">\n",
       "<a data-modal=\"signup\">✕</a>\n",
       "</div>\n",
       "<div class=\"company-name\">\n",
       "<a href=\"/companies/paletteco/jobs\" target=\"_blank\">\n",
       "<h4 class=\"header name\"> <strong>에이블리코퍼레이션</strong>\n",
       "<small>(ABLY)</small>\n",
       "</h4>\n",
       "</a><span class=\"ui small basic response label\"><div data-content=\"7일 이내 지원 결과를 알려줄 확률이 90% 이상인 기업입니다.\" data-variation=\"inverted mini\">응답률 우수</div></span><a class=\"reference-count\" data-method=\"post\" data-url=\"/api/companies/29834/reference\">\n",
       "<i class=\"ic-thumbup-outline icon\"></i>\n",
       "<span class=\"count\">14</span>\n",
       "</a></div>\n",
       "<div class=\"description\">이커머스를 혁신해나가는 커머스 플랫폼, 에이블리 입니다. </div>\n",
       "<div class=\"nowrap meta\">      모바일서비스 ∙ 웹서비스 ∙ 소프트웨어개발/서비스 ∙ 모바일플랫폼 ∙ 온라인플랫폼 ∙ 이커머스 ∙ 전자상거래\n",
       "</div><div class=\"applicants\">\n",
       "<div class=\"avatar-list\">\n",
       "<a href=\"/@dhguswns23\">\n",
       "<img alt=\"\" class=\"ui mini circular image\" src=\"https://image.rocketpunch.com/images/user/user.png?s=35x35&amp;t=cover\"/>\n",
       "</a><div class=\"mini masked item\">?</div><div class=\"mini masked item\">?</div><div class=\"mini masked item\">?</div>\n",
       "<div class=\"more item mini\"><span>+249</span></div>\n",
       "</div>\n",
       "<span><a href=\"/companies/paletteco/jobs/applicants\">250명 이상이 로켓펀치를 통해 지원</a></span>\n",
       "</div><div class=\"ui divider\"></div>\n",
       "<div class=\"company-jobs-detail\">\n",
       "<div class=\"job-detail\">\n",
       "<div>\n",
       "<a class=\"nowrap job-title primary link\" href=\"/jobs/64321/%EB%A8%B8%EC%8B%A0%EB%9F%AC%EB%8B%9D-%EC%97%94%EC%A7%80%EB%8B%88%EC%96%B4-%EC%BB%A4%EB%A8%B8%EC%8A%A4%ED%94%8C%EB%9E%AB%ED%8F%BC\" target=\"_blank\">머신러닝 엔지니어 (커머스플랫폼)</a>\n",
       "<span class=\"job-stat-info\">경력</span>\n",
       "<a data-modal=\"login\" style=\"float:right\"><i class=\"ic-bookmark_outline icon\"></i></a>\n",
       "</div>\n",
       "<div class=\"job-dates\">\n",
       "<span>\n",
       "<i class=\"ic-calendar_new icon\"></i>                수시채용\n",
       "</span><span>                03/06 수정\n",
       "</span></div>\n",
       "</div>\n",
       "<div class=\"ui divider\"></div> <div class=\"job-detail\">\n",
       "<div>\n",
       "<a class=\"nowrap job-title primary link\" href=\"/jobs/53396/%EB%B0%B1%EC%97%94%EB%93%9C-%EA%B0%9C%EB%B0%9C%EC%9E%90-%EB%B3%91%EC%97%AD%ED%8A%B9%EB%A1%80%EA%B0%80%EB%8A%A5\" target=\"_blank\">백엔드 개발자 (병역특례가능)</a>\n",
       "<span class=\"job-stat-info\">경력</span>\n",
       "<a data-modal=\"login\" style=\"float:right\"><i class=\"ic-bookmark_outline icon\"></i></a>\n",
       "</div>\n",
       "<div class=\"job-dates\">\n",
       "<span>\n",
       "<i class=\"ic-calendar_new icon\"></i>                수시채용\n",
       "</span><span>                03/06 수정\n",
       "</span></div>\n",
       "</div>\n",
       "</div>\n",
       "</div>\n",
       "</div>\n",
       "<div class=\"ui inverted divider\"></div><div class=\"company item\" data-company_id=\"29246\">\n",
       "<div class=\"logo image\">\n",
       "<a href=\"/companies/uconnec/jobs\" target=\"_blank\">\n",
       "<div class=\"ui logo\">\n",
       "<img alt=\"유커넥 logo\" class=\"ui image\" src=\"https://image.rocketpunch.com/company/29246/uconnec_logo_1582000741.png?s=100x100&amp;t=inside\"/>\n",
       "</div>\n",
       "</a>\n",
       "</div>\n",
       "<div class=\"content\">\n",
       "<div class=\"ui right floated skip header\">\n",
       "<a data-modal=\"signup\">✕</a>\n",
       "</div>\n",
       "<div class=\"company-name\">\n",
       "<a href=\"/companies/uconnec/jobs\" target=\"_blank\">\n",
       "<h4 class=\"header name\"> <strong>유커넥</strong>\n",
       "<small>(Uconnec)</small>\n",
       "</h4>\n",
       "</a><span class=\"ui small basic recruit label\"><div data-content=\"로켓펀치를 통해 채용한 기록이 있는 기업입니다.\" data-variation=\"inverted mini\">채용 우수</div></span><a class=\"reference-count\" data-method=\"post\" data-url=\"/api/companies/29246/reference\">\n",
       "<i class=\"ic-thumbup-outline icon\"></i>\n",
       "<span class=\"count\">22</span>\n",
       "</a></div>\n",
       "<div class=\"description\">유튜브 인플루언서와 광고주 브랜드를 연결하는 마케팅 플랫폼, \"유커넥\" </div>\n",
       "<div class=\"nowrap meta\">      웹서비스 ∙ 마케팅 ∙ 소프트웨어 ∙ 데이터 ∙ 디지털마케팅 ∙ 빅데이터분석 ∙ 광고플랫폼 ∙ MCN ∙ 유튜브 ∙ 디지털마케팅(컨텐츠/SNS) ∙ 신한퓨처스랩5기 ∙ 크리에이터 ∙ 미디어커머스 ∙ 온라인광고 ∙ MCN/비디오커머스 ∙ 인플루언서마케팅 ∙ MCN/모델/마케팅/커머스 ∙ 인플루언서마케팅플랫폼 ∙ 인플루언서커머스 ∙ Youtube ∙ 유튜브마케팅 ∙ 인플루언서플랫폼 ∙ 유튜브크리에이터 ∙ 미디어랩 ∙ 유튜버 ∙ 유튜브커머스\n",
       "</div><div class=\"applicants\">\n",
       "<div class=\"avatar-list\">\n",
       "<a href=\"/@fromleaf\">\n",
       "<img alt=\"\" class=\"ui mini circular image\" src=\"https://image.rocketpunch.com/user/5488/5488_1467194464.jpg?s=35x35&amp;t=cover\"/>\n",
       "</a><a href=\"/@iam_0714\">\n",
       "<img alt=\"\" class=\"ui mini circular image\" src=\"https://image.rocketpunch.com/user/205544/205544_1556426309.jpg?s=35x35&amp;t=cover\"/>\n",
       "</a><a href=\"/@yyoring\">\n",
       "<img alt=\"\" class=\"ui mini circular image\" src=\"https://image.rocketpunch.com/user/232071/232071_1564044710.jpg?s=35x35&amp;t=cover\"/>\n",
       "</a><div class=\"mini masked item\">?</div>\n",
       "<div class=\"more item mini\"><span>+346</span></div>\n",
       "</div>\n",
       "<span><a href=\"/companies/uconnec/jobs/applicants\">350명 이상이 로켓펀치를 통해 지원</a></span>\n",
       "</div><div class=\"ui divider\"></div>\n",
       "<div class=\"company-jobs-detail\">\n",
       "<div class=\"job-detail\">\n",
       "<div>\n",
       "<a class=\"nowrap job-title primary link\" href=\"/jobs/48050/%EC%96%B4%EB%B2%A4%EC%A0%B8%EC%8A%A4-%ED%92%80%EC%8A%A4%ED%83%9D-%EA%B0%9C%EB%B0%9C%EC%9E%90-DjangoReact\" target=\"_blank\">\"어벤져스\" 풀스택 개발자 (Django/React)</a>\n",
       "<span class=\"job-stat-info\">3,600 - 10,000만원 / 최대 2.0% / 경력</span>\n",
       "<a data-modal=\"login\" style=\"float:right\"><i class=\"ic-bookmark_outline icon\"></i></a>\n",
       "</div>\n",
       "<div class=\"job-dates\">\n",
       "<span>\n",
       "<i class=\"ic-calendar_new icon\"></i>                03/31 마감\n",
       "</span><span>                03/06 수정\n",
       "</span></div>\n",
       "</div>\n",
       "<div class=\"ui divider\"></div> <div class=\"job-detail\">\n",
       "<div>\n",
       "<a class=\"nowrap job-title primary link\" href=\"/jobs/68119/%EC%96%B4%EB%B2%A4%EC%A0%B8%EC%8A%A4-%EB%B0%B1%EC%97%94%EB%93%9C-%EA%B0%9C%EB%B0%9C%EC%9E%90\" target=\"_blank\">\"어벤져스\" 백엔드 개발자</a>\n",
       "<span class=\"job-stat-info\">4,000 - 10,000만원 / 최대 3.0% / 경력</span>\n",
       "<a data-modal=\"login\" style=\"float:right\"><i class=\"ic-bookmark_outline icon\"></i></a>\n",
       "</div>\n",
       "<div class=\"job-dates\">\n",
       "<span>\n",
       "<i class=\"ic-calendar_new icon\"></i>                03/31 마감\n",
       "</span><span>                03/06 수정\n",
       "</span></div>\n",
       "</div>\n",
       "</div>\n",
       "</div>\n",
       "</div>\n",
       "<div class=\"ui inverted divider\"></div><div class=\"company item\" data-company_id=\"87128\">\n",
       "<div class=\"logo image\">\n",
       "<a href=\"/companies/astera/jobs\" target=\"_blank\">\n",
       "<div class=\"ui logo\">\n",
       "<img alt=\"아스테라 logo\" class=\"ui image\" src=\"https://image.rocketpunch.com/company/87128/astera_logo_1567742668.png?s=100x100&amp;t=inside\"/>\n",
       "</div>\n",
       "</a>\n",
       "</div>\n",
       "<div class=\"content\">\n",
       "<div class=\"ui right floated skip header\">\n",
       "<a data-modal=\"signup\">✕</a>\n",
       "</div>\n",
       "<div class=\"company-name\">\n",
       "<a href=\"/companies/astera/jobs\" target=\"_blank\">\n",
       "<h4 class=\"header name\"> <strong>아스테라</strong>\n",
       "<small>(ASTERA)</small>\n",
       "</h4>\n",
       "</a><span class=\"ui small basic response label\"><div data-content=\"7일 이내 지원 결과를 알려줄 확률이 90% 이상인 기업입니다.\" data-variation=\"inverted mini\">응답률 우수</div></span><a class=\"reference-count\" data-method=\"post\" data-url=\"/api/companies/87128/reference\">\n",
       "<i class=\"ic-thumbup-outline icon\"></i>\n",
       "<span class=\"count\">10</span>\n",
       "</a></div>\n",
       "<div class=\"description\">사용할 수록 사용자에게 더 나은 가치를 선사하는 음식 테이크아웃 서비스 \"잇플\"을 개발하는 대한민국 최고의 푸드테크 스타트업. </div>\n",
       "<div class=\"nowrap meta\">      O2O ∙ IoT ∙ 빅데이터 ∙ 공유경제 ∙ 푸드테크 ∙ 챗봇 ∙ 모바일결제 ∙ 음식 ∙ 푸드스타트업\n",
       "</div><div class=\"applicants\">\n",
       "<div class=\"avatar-list\">\n",
       "<a href=\"/@daniellim\">\n",
       "<img alt=\"\" class=\"ui mini circular image\" src=\"https://image.rocketpunch.com/user/70759/70759_1545976524.jpg?s=35x35&amp;t=cover\"/>\n",
       "</a><div class=\"mini masked item\">?</div><div class=\"mini masked item\">?</div><div class=\"mini masked item\">?</div>\n",
       "<div class=\"more item mini\"><span>+143</span></div>\n",
       "</div>\n",
       "<span><a href=\"/companies/astera/jobs/applicants\">145명 이상이 로켓펀치를 통해 지원</a></span>\n",
       "</div><div class=\"ui divider\"></div>\n",
       "<div class=\"company-jobs-detail\">\n",
       "<div class=\"job-detail\">\n",
       "<div>\n",
       "<a class=\"nowrap job-title primary link\" href=\"/jobs/69410/%EB%B0%B1%EC%97%94%EB%93%9C-%ED%8C%8C%EC%9D%B4%EC%8D%AC-%EC%84%9C%EB%B2%84-%EA%B0%9C%EB%B0%9C%EC%9E%90\" target=\"_blank\">백엔드 파이썬 서버 개발자</a>\n",
       "<span class=\"job-stat-info\">3,000 - 5,500만원 / 최대 3.0% / 경력</span>\n",
       "<a data-modal=\"login\" style=\"float:right\"><i class=\"ic-bookmark_outline icon\"></i></a>\n",
       "</div>\n",
       "<div class=\"job-dates\">\n",
       "<span>\n",
       "<i class=\"ic-calendar_new icon\"></i>                03/15 마감\n",
       "</span><span>                03/06 수정\n",
       "</span></div>\n",
       "</div>\n",
       "</div>\n",
       "</div>\n",
       "</div>\n",
       "<div class=\"ui inverted divider\"></div><div class=\"company item\" data-company_id=\"5504\">\n",
       "<div class=\"logo image\">\n",
       "<a href=\"/companies/loplat/jobs\" target=\"_blank\">\n",
       "<div class=\"ui logo\">\n",
       "<img alt=\"로플랫 logo\" class=\"ui image\" src=\"https://image.rocketpunch.com/company/5504/loplat_logo_1524725183.png?s=100x100&amp;t=inside\"/>\n",
       "</div>\n",
       "</a>\n",
       "</div>\n",
       "<div class=\"content\">\n",
       "<div class=\"ui right floated skip header\">\n",
       "<a data-modal=\"signup\">✕</a>\n",
       "</div>\n",
       "<div class=\"company-name\">\n",
       "<a href=\"/companies/loplat/jobs\" target=\"_blank\">\n",
       "<h4 class=\"header name\"> <strong>로플랫</strong>\n",
       "<small>(loplat)</small>\n",
       "</h4>\n",
       "</a><a class=\"reference-count\" data-method=\"post\" data-url=\"/api/companies/5504/reference\">\n",
       "<i class=\"ic-thumbup-outline icon\"></i>\n",
       "<span class=\"count\">13</span>\n",
       "</a></div>\n",
       "<div class=\"description\">로플랫은 오프라인 데이터의 핵심인 사용자의 실내위치정보 플랫폼을 만들어 갑니다. </div>\n",
       "<div class=\"nowrap meta\">      모바일서비스 ∙ 웹서비스 ∙ 소프트웨어 ∙ 데이터 ∙ 플랫폼 ∙ AI ∙ 안드로이드 ∙ 빅데이터분석 ∙ 클라우드 ∙ MachineLearning ∙ 위치인식 ∙ OfflinetoOnline\n",
       "</div><div class=\"applicants\">\n",
       "<div class=\"avatar-list\">\n",
       "<a href=\"/@hwaminson\">\n",
       "<img alt=\"\" class=\"ui mini circular image\" src=\"https://image.rocketpunch.com/user/14588/14588_1538378004.jpg?s=35x35&amp;t=cover\"/>\n",
       "</a><a href=\"/@jinjungi\">\n",
       "<img alt=\"\" class=\"ui mini circular image\" src=\"https://image.rocketpunch.com/user/34879/34879_1498014817.png?s=35x35&amp;t=cover\"/>\n",
       "</a><a href=\"/@3080kjs\">\n",
       "<img alt=\"\" class=\"ui mini circular image\" src=\"https://image.rocketpunch.com/user/23612/23612_1533472224.jpg?s=35x35&amp;t=cover\"/>\n",
       "</a><div class=\"mini masked item\">?</div>\n",
       "<div class=\"more item mini\"><span>+146</span></div>\n",
       "</div>\n",
       "<span><a href=\"/companies/loplat/jobs/applicants\">150명 이상이 로켓펀치를 통해 지원</a></span>\n",
       "</div><div class=\"ui divider\"></div>\n",
       "<div class=\"company-jobs-detail\">\n",
       "<div class=\"job-detail\">\n",
       "<div>\n",
       "<a class=\"nowrap job-title primary link\" href=\"/jobs/61620/%EB%A1%9C%ED%94%8C%EB%9E%AB-%EB%B9%85%EB%8D%B0%EC%9D%B4%ED%84%B0-%EC%97%94%EC%A7%80%EB%8B%88%EC%96%B4-%EC%B1%84%EC%9A%A9-%EC%8B%A0%EC%9E%85%EA%B2%BD%EB%A0%A5\" target=\"_blank\">[로플랫] 빅데이터 엔지니어 채용 (신입/경력)</a>\n",
       "<span class=\"job-stat-info\">3,400 - 5,000만원 / 신입, 경력</span>\n",
       "<a data-modal=\"login\" style=\"float:right\"><i class=\"ic-bookmark_outline icon\"></i></a>\n",
       "</div>\n",
       "<div class=\"job-dates\">\n",
       "<span>\n",
       "<i class=\"ic-calendar_new icon\"></i>                03/31 마감\n",
       "</span><span>                03/06 수정\n",
       "</span></div>\n",
       "</div>\n",
       "</div>\n",
       "</div>\n",
       "</div>\n",
       "<div class=\"ui inverted divider\"></div><div class=\"company item\" data-company_id=\"115878\">\n",
       "<div class=\"logo image\">\n",
       "<a href=\"/companies/aiea/jobs\" target=\"_blank\">\n",
       "<div class=\"ui logo\">\n",
       "<img alt=\"한국인공지능기업협회 logo\" class=\"ui image\" src=\"https://image.rocketpunch.com/company/115878/aiea_logo_1582523438.jpg?s=100x100&amp;t=inside\"/>\n",
       "</div>\n",
       "</a>\n",
       "</div>\n",
       "<div class=\"content\">\n",
       "<div class=\"ui right floated skip header\">\n",
       "<a data-modal=\"signup\">✕</a>\n",
       "</div>\n",
       "<div class=\"company-name\">\n",
       "<a href=\"/companies/aiea/jobs\" target=\"_blank\">\n",
       "<h4 class=\"header name\"> <strong>한국인공지능기업협회</strong>\n",
       "<small>(AIEA)</small>\n",
       "</h4>\n",
       "</a><a class=\"reference-count\" data-method=\"post\" data-url=\"/api/companies/115878/reference\">\n",
       "<i class=\"ic-thumbup-outline icon\"></i>\n",
       "<span class=\"count\">1</span>\n",
       "</a></div>\n",
       "<div class=\"description\">한국인공지능기업협회는 LabABC, 포럼FIRST, 교육분과 등 인공기능 및 블록체인 융합을 위한 협회입니다. </div>\n",
       "<div class=\"nowrap meta\">      블록체인 ∙ 인공지능 ∙ 교육/강연\n",
       "</div><div class=\"ui divider\"></div>\n",
       "<div class=\"company-jobs-detail\">\n",
       "<div class=\"job-detail\">\n",
       "<div>\n",
       "<a class=\"nowrap job-title primary link\" href=\"/jobs/70556/%EA%B8%B0%EC%97%85%EC%A3%BC%EB%8F%84%ED%98%95-%EB%B8%94%EB%A1%9D%EC%B2%B4%EC%9D%B8-%ED%94%84%EB%A1%9C%EC%A0%9D%ED%8A%B8-%EA%B0%9C%EB%B0%9C%EC%9E%90-%EC%96%91%EC%84%B1%EA%B3%BC%EC%A0%95%EB%8C%80%EC%A0%84\" target=\"_blank\">기업주도형 블록체인 프로젝트 개발자 양성과정(대전)</a>\n",
       "<span class=\"job-stat-info\">인턴</span>\n",
       "<a data-modal=\"login\" style=\"float:right\"><i class=\"ic-bookmark_outline icon\"></i></a>\n",
       "</div>\n",
       "<div class=\"job-dates\">\n",
       "<span>\n",
       "<i class=\"ic-calendar_new icon\"></i>                04/24 마감\n",
       "</span><span>\n",
       "<i class=\"feed icon\"></i>\n",
       "                원격근무\n",
       "              </span><span>                03/06 등록\n",
       "</span></div>\n",
       "</div>\n",
       "</div>\n",
       "</div>\n",
       "</div>\n",
       "<div class=\"ui inverted divider\"></div><div class=\"company item\" data-company_id=\"5803\">\n",
       "<div class=\"logo image\">\n",
       "<a href=\"/companies/pandoratv/jobs\" target=\"_blank\">\n",
       "<div class=\"ui logo\">\n",
       "<img alt=\"판도라TV logo\" class=\"ui image\" src=\"https://image.rocketpunch.com/company/5803/pandoratv_logo_1450328141.png?s=100x100&amp;t=inside\"/>\n",
       "</div>\n",
       "</a>\n",
       "</div>\n",
       "<div class=\"content\">\n",
       "<div class=\"ui right floated skip header\">\n",
       "<a data-modal=\"signup\">✕</a>\n",
       "</div>\n",
       "<div class=\"company-name\">\n",
       "<a href=\"/companies/pandoratv/jobs\" target=\"_blank\">\n",
       "<h4 class=\"header name\"> <strong>판도라TV</strong>\n",
       "<small>(PandoraTV)</small>\n",
       "</h4>\n",
       "</a><a class=\"reference-count\" data-method=\"post\" data-url=\"/api/companies/5803/reference\">\n",
       "<i class=\"ic-thumbup-outline icon\"></i>\n",
       "<span class=\"count\"></span>\n",
       "</a></div>\n",
       "<div class=\"description\">암호화폐 시장의 기준을 함께 만들어나갈 분을 찾습니다 </div>\n",
       "<div class=\"nowrap meta\">      IT\n",
       "</div><div class=\"ui divider\"></div>\n",
       "<div class=\"company-jobs-detail\">\n",
       "<div class=\"job-detail\">\n",
       "<div>\n",
       "<a class=\"nowrap job-title primary link\" href=\"/jobs/70544/Cobak-Back-end-%EA%B0%9C%EB%B0%9C%EC%9E%90\" target=\"_blank\">Cobak Back-end 개발자</a>\n",
       "<span class=\"job-stat-info\">경력</span>\n",
       "<a data-modal=\"login\" style=\"float:right\"><i class=\"ic-bookmark_outline icon\"></i></a>\n",
       "</div>\n",
       "<div class=\"job-dates\">\n",
       "<span>\n",
       "<i class=\"ic-calendar_new icon\"></i>                04/05 마감\n",
       "</span><span>                03/06 등록\n",
       "</span></div>\n",
       "</div>\n",
       "</div>\n",
       "</div>\n",
       "</div>\n",
       "<div class=\"ui inverted divider\"></div><div class=\"company item\" data-company_id=\"103847\">\n",
       "<div class=\"logo image\">\n",
       "<a href=\"/companies/finports-1/jobs\" target=\"_blank\">\n",
       "<div class=\"ui logo\">\n",
       "<img alt=\"핀포츠 logo\" class=\"ui image\" src=\"https://image.rocketpunch.com/company/103847/finports-1_logo_1568083024.jpg?s=100x100&amp;t=inside\"/>\n",
       "</div>\n",
       "</a>\n",
       "</div>\n",
       "<div class=\"content\">\n",
       "<div class=\"ui right floated skip header\">\n",
       "<a data-modal=\"signup\">✕</a>\n",
       "</div>\n",
       "<div class=\"company-name\">\n",
       "<a href=\"/companies/finports-1/jobs\" target=\"_blank\">\n",
       "<h4 class=\"header name\"> <strong>핀포츠</strong>\n",
       "<small>(Finports)</small>\n",
       "</h4>\n",
       "</a><a class=\"reference-count\" data-method=\"post\" data-url=\"/api/companies/103847/reference\">\n",
       "<i class=\"ic-thumbup-outline icon\"></i>\n",
       "<span class=\"count\"></span>\n",
       "</a></div>\n",
       "<div class=\"description\">대한민국 최대 쇼핑 결제 시스템 </div>\n",
       "<div class=\"nowrap meta\">      전자결제 ∙ 모바일결제서비스 ∙ 온라인결제\n",
       "</div><div class=\"applicants\">\n",
       "<div class=\"avatar-list\">\n",
       "<div class=\"mini masked item\">?</div><div class=\"mini masked item\">?</div><div class=\"mini masked item\">?</div><div class=\"mini masked item\">?</div>\n",
       "<div class=\"more item mini\"><span>+19</span></div>\n",
       "</div>\n",
       "<span><a href=\"/companies/finports-1/jobs/applicants\">20명 이상이 로켓펀치를 통해 지원</a></span>\n",
       "</div><div class=\"ui divider\"></div>\n",
       "<div class=\"company-jobs-detail\">\n",
       "<div class=\"job-detail\">\n",
       "<div>\n",
       "<a class=\"nowrap job-title primary link\" href=\"/jobs/70543/%EA%B0%9C%EB%B0%9C%ED%8C%80%EC%9E%A5-%EB%B0%B1%EC%97%94%EB%93%9C-%EC%84%9C%EB%B2%84-%EA%B0%9C%EB%B0%9C%EC%9E%90-%EC%B1%84%EC%9A%A9\" target=\"_blank\">[개발팀장] 백엔드 서버 개발자 채용</a>\n",
       "<span class=\"job-stat-info\">5,000 - 8,000만원 / 경력</span>\n",
       "<a data-modal=\"login\" style=\"float:right\"><i class=\"ic-bookmark_outline icon\"></i></a>\n",
       "</div>\n",
       "<div class=\"job-dates\">\n",
       "<span>\n",
       "<i class=\"ic-calendar_new icon\"></i>                수시채용\n",
       "</span><span>                03/06 등록\n",
       "</span></div>\n",
       "</div>\n",
       "</div>\n",
       "</div>\n",
       "</div>\n",
       "<div class=\"ui inverted divider\"></div><div class=\"company item\" data-company_id=\"80711\">\n",
       "<div class=\"logo image\">\n",
       "<a href=\"/companies/canclemarket/jobs\" target=\"_blank\">\n",
       "<div class=\"ui logo\">\n",
       "<img alt=\"캔슬마켓 logo\" class=\"ui image\" src=\"https://image.rocketpunch.com/company/80711/canclemarket_logo_1558090160.png?s=100x100&amp;t=inside\"/>\n",
       "</div>\n",
       "</a>\n",
       "</div>\n",
       "<div class=\"content\">\n",
       "<div class=\"ui right floated skip header\">\n",
       "<a data-modal=\"signup\">✕</a>\n",
       "</div>\n",
       "<div class=\"company-name\">\n",
       "<a href=\"/companies/canclemarket/jobs\" target=\"_blank\">\n",
       "<h4 class=\"header name\"> <strong>캔슬마켓</strong>\n",
       "<small>(Cancel Market)</small>\n",
       "</h4>\n",
       "</a><span class=\"ui small basic response recruit label\"><div data-content=\"7일 이내 지원 결과를 알려줄 확률이 90% 이상인 기업입니다.\" data-variation=\"inverted mini\">응답률 우수</div><div data-content=\"로켓펀치를 통해 채용한 기록이 있는 기업입니다.\" data-variation=\"inverted mini\">채용 우수</div></span><a class=\"reference-count\" data-method=\"post\" data-url=\"/api/companies/80711/reference\">\n",
       "<i class=\"ic-thumbup-outline icon\"></i>\n",
       "<span class=\"count\">4</span>\n",
       "</a></div>\n",
       "<div class=\"description\">못가는 호텔 펜션 리조트 빨리 팔고 싸게 사자 여행갈땐 가장먼저, 캔슬마켓 </div>\n",
       "<div class=\"nowrap meta\">      모바일서비스 ∙ 웹서비스 ∙ 스타트업 ∙ 전자상거래 ∙ 안드로이드 ∙ 앱/웹서비스 ∙ php ∙ 앱/웹개발 ∙ p2p플랫폼 ∙ Front-end\n",
       "</div><div class=\"applicants\">\n",
       "<div class=\"avatar-list\">\n",
       "<div class=\"mini masked item\">?</div><div class=\"mini masked item\">?</div><div class=\"mini masked item\">?</div><div class=\"mini masked item\">?</div>\n",
       "<div class=\"more item mini\"><span>+12</span></div>\n",
       "</div>\n",
       "<span><a href=\"/companies/canclemarket/jobs/applicants\">15명 이상이 로켓펀치를 통해 지원</a></span>\n",
       "</div><div class=\"ui divider\"></div>\n",
       "<div class=\"company-jobs-detail\">\n",
       "<div class=\"job-detail\">\n",
       "<div>\n",
       "<a class=\"nowrap job-title primary link\" href=\"/jobs/70538/PHP-%EB%B0%B1%EC%97%94%EB%93%9C-%EA%B0%9C%EB%B0%9C%EC%9E%90\" target=\"_blank\">PHP 백엔드 개발자</a>\n",
       "<span class=\"job-stat-info\">최대 5,000만원 / 최대 3.0% / 신입, 경력</span>\n",
       "<a data-modal=\"login\" style=\"float:right\"><i class=\"ic-bookmark_outline icon\"></i></a>\n",
       "</div>\n",
       "<div class=\"job-dates\">\n",
       "<span>\n",
       "<i class=\"ic-calendar_new icon\"></i>                04/10 마감\n",
       "</span><span>                03/06 등록\n",
       "</span></div>\n",
       "</div>\n",
       "</div>\n",
       "</div>\n",
       "</div>\n",
       "<div class=\"ui inverted divider\"></div><div class=\"company item\" data-company_id=\"1654\">\n",
       "<div class=\"logo image\">\n",
       "<a href=\"/companies/mtov/jobs\" target=\"_blank\">\n",
       "<div class=\"ui logo\">\n",
       "<img alt=\"엠투브 logo\" class=\"ui image\" src=\"https://image.rocketpunch.com/company/1654/10/mtov_logo.png?s=100x100&amp;t=inside\"/>\n",
       "</div>\n",
       "</a>\n",
       "</div>\n",
       "<div class=\"content\">\n",
       "<div class=\"ui right floated skip header\">\n",
       "<a data-modal=\"signup\">✕</a>\n",
       "</div>\n",
       "<div class=\"company-name\">\n",
       "<a href=\"/companies/mtov/jobs\" target=\"_blank\">\n",
       "<h4 class=\"header name\"> <strong>엠투브</strong>\n",
       "<small>(MtoV)</small>\n",
       "</h4>\n",
       "</a><span class=\"ui small basic recruit label\"><div data-content=\"로켓펀치를 통해 채용한 기록이 있는 기업입니다.\" data-variation=\"inverted mini\">채용 우수</div></span><a class=\"reference-count\" data-method=\"post\" data-url=\"/api/companies/1654/reference\">\n",
       "<i class=\"ic-thumbup-outline icon\"></i>\n",
       "<span class=\"count\">4</span>\n",
       "</a></div>\n",
       "<div class=\"description\">강력한 기술과 재미있는 생각으로 드라이빙 라이프를 혁신하는 기업 </div>\n",
       "<div class=\"nowrap meta\">      모바일서비스 ∙ 웹서비스 ∙ 마케팅 ∙ 소프트웨어 ∙ 모바일게임 ∙ 데이터 ∙ 게임 ∙ 하드웨어 ∙ 앱 ∙ 자동차 ∙ 안드로이드 ∙ 개발 ∙ 소셜 ∙ SW ∙ 네트워크 ∙ HW ∙ 커넥티드카 ∙ 스마트카 ∙ 애플\n",
       "</div><div class=\"applicants\">\n",
       "<div class=\"avatar-list\">\n",
       "<div class=\"mini masked item\">?</div><div class=\"mini masked item\">?</div><div class=\"mini masked item\">?</div><div class=\"mini masked item\">?</div>\n",
       "<div class=\"more item mini\"><span>+297</span></div>\n",
       "</div>\n",
       "<span><a href=\"/companies/mtov/jobs/applicants\">300명 이상이 로켓펀치를 통해 지원</a></span>\n",
       "</div><div class=\"ui divider\"></div>\n",
       "<div class=\"company-jobs-detail\">\n",
       "<div class=\"job-detail\">\n",
       "<div>\n",
       "<a class=\"nowrap job-title primary link\" href=\"/jobs/57749/%EC%98%81%EC%83%81%EC%B2%98%EB%A6%AC%EB%B9%85%EB%8D%B0%EC%9D%B4%ED%84%B0%EC%95%88%EB%93%9C%EB%A1%9C%EC%9D%B4%EB%93%9CIOS%EC%84%9C%EB%B2%84-%EB%B6%84%EC%95%BC-%EA%B0%9C%EB%B0%9C%EC%9E%90-%EB%AA%A8%EC%A7%91\" target=\"_blank\">영상처리/빅데이터/안드로이드/IOS/서버 분야 개발자 모집</a>\n",
       "<span class=\"job-stat-info\">2,400 - 10,000만원 / 인턴, 신입, 경력</span>\n",
       "<a data-modal=\"login\" style=\"float:right\"><i class=\"ic-bookmark_outline icon\"></i></a>\n",
       "</div>\n",
       "<div class=\"job-dates\">\n",
       "<span>\n",
       "<i class=\"ic-calendar_new icon\"></i>                03/31 마감\n",
       "</span><span>                03/06 수정\n",
       "</span></div>\n",
       "</div>\n",
       "</div>\n",
       "</div>\n",
       "</div>\n",
       "<div class=\"ui inverted divider\"></div><div class=\"company item\" data-company_id=\"32852\">\n",
       "<div class=\"logo image\">\n",
       "<a href=\"/companies/codingrobotlab/jobs\" target=\"_blank\">\n",
       "<div class=\"ui logo\">\n",
       "<img alt=\"코딩로봇연구소 logo\" class=\"ui image\" src=\"https://image.rocketpunch.com/company/32852/codingrobotlab_logo_1563261478.png?s=100x100&amp;t=inside\"/>\n",
       "</div>\n",
       "</a>\n",
       "</div>\n",
       "<div class=\"content\">\n",
       "<div class=\"ui right floated skip header\">\n",
       "<a data-modal=\"signup\">✕</a>\n",
       "</div>\n",
       "<div class=\"company-name\">\n",
       "<a href=\"/companies/codingrobotlab/jobs\" target=\"_blank\">\n",
       "<h4 class=\"header name\"> <strong>코딩로봇연구소</strong>\n",
       "<small>(Coding Robot Lab)</small>\n",
       "</h4>\n",
       "</a><span class=\"ui small basic response label\"><div data-content=\"7일 이내 지원 결과를 알려줄 확률이 90% 이상인 기업입니다.\" data-variation=\"inverted mini\">응답률 우수</div></span><a class=\"reference-count\" data-method=\"post\" data-url=\"/api/companies/32852/reference\">\n",
       "<i class=\"ic-thumbup-outline icon\"></i>\n",
       "<span class=\"count\">4</span>\n",
       "</a></div>\n",
       "<div class=\"description\">AI-Powered Coding Education Services for Tech Careers를 제공하는 에듀테크 플랫폼 스타트업입니다. </div>\n",
       "<div class=\"nowrap meta\">      IT서비스 ∙ 플랫폼 ∙ 교육 ∙ 모바일플랫폼 ∙ 교육콘텐츠 ∙ 인공지능 ∙ 코딩교육 ∙ 응용소프트웨어 ∙ 데이터마이닝 ∙ 온라인코딩테스트\n",
       "</div><div class=\"applicants\">\n",
       "<div class=\"avatar-list\">\n",
       "<a href=\"/@opnay\">\n",
       "<img alt=\"\" class=\"ui mini circular image\" src=\"https://image.rocketpunch.com/user/148178/148178_1559270499.jpg?s=35x35&amp;t=cover\"/>\n",
       "</a><div class=\"mini masked item\">?</div><div class=\"mini masked item\">?</div><div class=\"mini masked item\">?</div>\n",
       "<div class=\"more item mini\"><span>+39</span></div>\n",
       "</div>\n",
       "<span><a href=\"/companies/codingrobotlab/jobs/applicants\">40명 이상이 로켓펀치를 통해 지원</a></span>\n",
       "</div><div class=\"ui divider\"></div>\n",
       "<div class=\"company-jobs-detail\">\n",
       "<div class=\"job-detail\">\n",
       "<div>\n",
       "<a class=\"nowrap job-title primary link\" href=\"/jobs/66749/%ED%8C%8C%ED%8A%B8%ED%83%80%EC%9E%84%EC%9C%BC%EB%A1%9C-%EC%8B%9C%EA%B0%84%EB%82%A0-%EB%95%8C-%EC%BD%94%EB%94%A9-%EA%B3%BC%EC%99%B8%ED%95%98%EC%8B%A4-%EA%B0%9C%EB%B0%9C%EC%9E%90%EB%93%A4%EC%9D%84-%EC%82%AC%EC%A0%84-%EB%AA%A8%EC%A7%91-%EC%A4%91%EC%9E%85%EB%8B%88%EB%8B%A4\" target=\"_blank\">파트타임으로 시간날 때 코딩 과외하실 개발자들을 사전 모집 중입니다.</a>\n",
       "<span class=\"job-stat-info\">인턴, 신입, 경력</span>\n",
       "<a data-modal=\"login\" style=\"float:right\"><i class=\"ic-bookmark_outline icon\"></i></a>\n",
       "</div>\n",
       "<div class=\"job-dates\">\n",
       "<span>\n",
       "<i class=\"ic-calendar_new icon\"></i>                수시채용\n",
       "</span><span>\n",
       "<i class=\"feed icon\"></i>\n",
       "                원격근무\n",
       "              </span><span>                03/06 수정\n",
       "</span></div>\n",
       "</div>\n",
       "</div>\n",
       "</div>\n",
       "</div>\n",
       "<div class=\"ui inverted divider\"></div><div class=\"company item\" data-company_id=\"20367\">\n",
       "<div class=\"logo image\">\n",
       "<a href=\"/companies/laftel-inc/jobs\" target=\"_blank\">\n",
       "<div class=\"ui logo\">\n",
       "<img alt=\"리디(주) - 라프텔 사업본부 logo\" class=\"ui image\" src=\"https://image.rocketpunch.com/company/20367/laftel-inc_logo_1542782651.png?s=100x100&amp;t=inside\"/>\n",
       "</div>\n",
       "</a>\n",
       "</div>\n",
       "<div class=\"content\">\n",
       "<div class=\"ui right floated skip header\">\n",
       "<a data-modal=\"signup\">✕</a>\n",
       "</div>\n",
       "<div class=\"company-name\">\n",
       "<a href=\"/companies/laftel-inc/jobs\" target=\"_blank\">\n",
       "<h4 class=\"header name\"> <strong>리디(주) - 라프텔 사업본부</strong>\n",
       "<small>(Ridi Corporation - Laftel dept.)</small>\n",
       "</h4>\n",
       "</a><span class=\"ui small basic response recruit label\"><div data-content=\"7일 이내 지원 결과를 알려줄 확률이 90% 이상인 기업입니다.\" data-variation=\"inverted mini\">응답률 우수</div><div data-content=\"로켓펀치를 통해 채용한 기록이 있는 기업입니다.\" data-variation=\"inverted mini\">채용 우수</div></span><a class=\"reference-count\" data-method=\"post\" data-url=\"/api/companies/20367/reference\">\n",
       "<i class=\"ic-thumbup-outline icon\"></i>\n",
       "<span class=\"count\">25</span>\n",
       "</a></div>\n",
       "<div class=\"description\">애니메이션을 합법적으로 무료로 감상할 수 있는 서비스 </div>\n",
       "<div class=\"nowrap meta\">      모바일서비스 ∙ 웹서비스 ∙ 마케팅 ∙ 데이터 ∙ 빅데이터 ∙ BigData ∙ 애니메이션 ∙ 컨텐츠.스트리밍.방송 ∙ 동영상스트리밍 ∙ 개인화추천 ∙ 스트리밍 ∙ 만화추천 ∙ 애니추천 ∙ AnimationRecommenda ∙ PersonalDrawingsRe\n",
       "</div><div class=\"applicants\">\n",
       "<div class=\"avatar-list\">\n",
       "<a href=\"/@hanvitkang\">\n",
       "<img alt=\"\" class=\"ui mini circular image\" src=\"https://image.rocketpunch.com/user/31009/31009_4813985b43da.jpg?s=35x35&amp;t=cover\"/>\n",
       "</a><a href=\"/@wayhome25\">\n",
       "<img alt=\"\" class=\"ui mini circular image\" src=\"https://image.rocketpunch.com/user/49622/49622_1494122317.jpg?s=35x35&amp;t=cover\"/>\n",
       "</a><a href=\"/@merong0704\">\n",
       "<img alt=\"\" class=\"ui mini circular image\" src=\"https://image.rocketpunch.com/images/user/user.png?s=35x35&amp;t=cover\"/>\n",
       "</a><a href=\"/@withsangseung\">\n",
       "<img alt=\"\" class=\"ui mini circular image\" src=\"https://image.rocketpunch.com/user/184921/184921_1542945163.jpg?s=35x35&amp;t=cover\"/>\n",
       "</a>\n",
       "<div class=\"more item mini\"><span>+329</span></div>\n",
       "</div>\n",
       "<span><a href=\"/companies/laftel-inc/jobs/applicants\">330명 이상이 로켓펀치를 통해 지원</a></span>\n",
       "</div><div class=\"ui divider\"></div>\n",
       "<div class=\"company-jobs-detail\">\n",
       "<div class=\"job-detail\">\n",
       "<div>\n",
       "<a class=\"nowrap job-title primary link\" href=\"/jobs/63669/%EC%84%9C%EB%B2%84%EB%B0%B1%EC%97%94%EB%93%9C-%EA%B0%9C%EB%B0%9C%EC%9E%90\" target=\"_blank\">서버(백엔드) 개발자</a>\n",
       "<span class=\"job-stat-info\">4,000 - 10,000만원 / 경력</span>\n",
       "<a data-modal=\"login\" style=\"float:right\"><i class=\"ic-bookmark_outline icon\"></i></a>\n",
       "</div>\n",
       "<div class=\"job-dates\">\n",
       "<span>\n",
       "<i class=\"ic-calendar_new icon\"></i>                12/31 마감\n",
       "</span><span>                03/06 수정\n",
       "</span></div>\n",
       "</div>\n",
       "</div>\n",
       "</div>\n",
       "</div>\n",
       "<div class=\"ui inverted divider\"></div><div class=\"company item\" data-company_id=\"25\">\n",
       "<div class=\"logo image\">\n",
       "<a href=\"/companies/bunjang/jobs\" target=\"_blank\">\n",
       "<div class=\"ui logo\">\n",
       "<img alt=\"번개장터 주식회사 logo\" class=\"ui image\" src=\"https://image.rocketpunch.com/company/25/quicket_logo_1532393297.png?s=100x100&amp;t=inside\"/>\n",
       "</div>\n",
       "</a>\n",
       "</div>\n",
       "<div class=\"content\">\n",
       "<div class=\"ui right floated skip header\">\n",
       "<a data-modal=\"signup\">✕</a>\n",
       "</div>\n",
       "<div class=\"company-name\">\n",
       "<a href=\"/companies/bunjang/jobs\" target=\"_blank\">\n",
       "<h4 class=\"header name\"> <strong>번개장터 주식회사</strong>\n",
       "<small>(Bungaejangter Inc.)</small>\n",
       "</h4>\n",
       "</a><span class=\"ui small basic response recruit label\"><div data-content=\"7일 이내 지원 결과를 알려줄 확률이 90% 이상인 기업입니다.\" data-variation=\"inverted mini\">응답률 우수</div><div data-content=\"로켓펀치를 통해 채용한 기록이 있는 기업입니다.\" data-variation=\"inverted mini\">채용 우수</div></span><a class=\"reference-count\" data-method=\"post\" data-url=\"/api/companies/25/reference\">\n",
       "<i class=\"ic-thumbup-outline icon\"></i>\n",
       "<span class=\"count\">17</span>\n",
       "</a></div>\n",
       "<div class=\"description\">1,400만 다운로드, 월 450만명 이상이 이용하는 모바일 중고거래 No.1 플랫폼 번개장터와 중고거래 컨시어지 No.1 셀잇을 서비스하고 있습니다. </div>\n",
       "<div class=\"nowrap meta\">      모바일서비스 ∙ 웹서비스 ∙ 소프트웨어 ∙ 모바일앱 ∙ 커머스 ∙ 공유경제 ∙ 오픈마켓 ∙ eCommerce ∙ 마켓플레이스 ∙ 중고거래 ∙ 지역정보\n",
       "</div><div class=\"applicants\">\n",
       "<div class=\"avatar-list\">\n",
       "<a href=\"/@ddkddk35\">\n",
       "<img alt=\"\" class=\"ui mini circular image\" src=\"https://image.rocketpunch.com/user/21701/21701_9f40327382ca.jpg?s=35x35&amp;t=cover\"/>\n",
       "</a><a href=\"/@eddy.sangwon\">\n",
       "<img alt=\"\" class=\"ui mini circular image\" src=\"https://image.rocketpunch.com/user/11687/11687_1499049641.jpg?s=35x35&amp;t=cover\"/>\n",
       "</a><a href=\"/@e1ffe08dab554819\">\n",
       "<img alt=\"\" class=\"ui mini circular image\" src=\"https://image.rocketpunch.com/user/145898/145898_1537542409.jpg?s=35x35&amp;t=cover\"/>\n",
       "</a><a href=\"/@bagdongug\">\n",
       "<img alt=\"\" class=\"ui mini circular image\" src=\"https://image.rocketpunch.com/user/27662/27662_42216f74a3ac.jpg?s=35x35&amp;t=cover\"/>\n",
       "</a>\n",
       "<div class=\"more item mini\"><span>+500</span></div>\n",
       "</div>\n",
       "<span><a href=\"/companies/bunjang/jobs/applicants\">500명 이상이 로켓펀치를 통해 지원</a></span>\n",
       "</div><div class=\"ui divider\"></div>\n",
       "<div class=\"company-jobs-detail\">\n",
       "<div class=\"job-detail\">\n",
       "<div>\n",
       "<a class=\"nowrap job-title primary link\" href=\"/jobs/65114/%EB%B0%B1%EC%97%94%EB%93%9CBack-end-%EA%B0%9C%EB%B0%9C%EC%9E%90\" target=\"_blank\">백엔드(Back-end) 개발자</a>\n",
       "<span class=\"job-stat-info\">3,000 - 10,000만원 / 경력</span>\n",
       "<a data-modal=\"login\" style=\"float:right\"><i class=\"ic-bookmark_outline icon\"></i></a>\n",
       "</div>\n",
       "<div class=\"job-dates\">\n",
       "<span>\n",
       "<i class=\"ic-calendar_new icon\"></i>                수시채용\n",
       "</span><span>                03/06 수정\n",
       "</span></div>\n",
       "</div>\n",
       "<div class=\"ui divider\"></div> <div class=\"job-detail\">\n",
       "<div>\n",
       "<a class=\"nowrap job-title primary link\" href=\"/jobs/62912/Devops-Enginner\" target=\"_blank\">Devops Enginner</a>\n",
       "<span class=\"job-stat-info\">4,000 - 9,000만원 / 경력</span>\n",
       "<a data-modal=\"login\" style=\"float:right\"><i class=\"ic-bookmark_outline icon\"></i></a>\n",
       "</div>\n",
       "<div class=\"job-dates\">\n",
       "<span>\n",
       "<i class=\"ic-calendar_new icon\"></i>                수시채용\n",
       "</span><span>                02/14 수정\n",
       "</span></div>\n",
       "</div>\n",
       "</div>\n",
       "</div>\n",
       "</div>\n",
       "<div class=\"ui inverted divider\"></div><div class=\"company item\" data-company_id=\"85641\">\n",
       "<div class=\"logo image\">\n",
       "<a href=\"/companies/myro/jobs\" target=\"_blank\">\n",
       "<div class=\"ui logo\">\n",
       "<img alt=\"미로 logo\" class=\"ui image\" src=\"https://image.rocketpunch.com/company/85641/myro_logo_1582046164.png?s=100x100&amp;t=inside\"/>\n",
       "</div>\n",
       "</a>\n",
       "</div>\n",
       "<div class=\"content\">\n",
       "<div class=\"ui right floated skip header\">\n",
       "<a data-modal=\"signup\">✕</a>\n",
       "</div>\n",
       "<div class=\"company-name\">\n",
       "<a href=\"/companies/myro/jobs\" target=\"_blank\">\n",
       "<h4 class=\"header name\"> <strong>미로</strong>\n",
       "<small>(MYRO)</small>\n",
       "</h4>\n",
       "</a><a class=\"reference-count\" data-method=\"post\" data-url=\"/api/companies/85641/reference\">\n",
       "<i class=\"ic-thumbup-outline icon\"></i>\n",
       "<span class=\"count\">7</span>\n",
       "</a></div>\n",
       "<div class=\"description\">국내최초 데일리 마감할인 플랫폼 라스트오더를 운영하고 있습니다 </div>\n",
       "<div class=\"nowrap meta\">      IT/서비스\n",
       "</div><div class=\"applicants\">\n",
       "<div class=\"avatar-list\">\n",
       "<div class=\"mini masked item\">?</div><div class=\"mini masked item\">?</div><div class=\"mini masked item\">?</div><div class=\"mini masked item\">?</div>\n",
       "<div class=\"more item mini\"><span>+86</span></div>\n",
       "</div>\n",
       "<span><a href=\"/companies/myro/jobs/applicants\">90명 이상이 로켓펀치를 통해 지원</a></span>\n",
       "</div><div class=\"ui divider\"></div>\n",
       "<div class=\"company-jobs-detail\">\n",
       "<div class=\"job-detail\">\n",
       "<div>\n",
       "<a class=\"nowrap job-title primary link\" href=\"/jobs/65433/%EB%9D%BC%EC%8A%A4%ED%8A%B8%EC%98%A4%EB%8D%94-Restful-API-%EB%8B%B4%EB%8B%B9-%EA%B0%9C%EB%B0%9C%EC%9E%90\" target=\"_blank\">[라스트오더] Restful API 담당 개발자</a>\n",
       "<span class=\"job-stat-info\">4,000 - 7,000만원 / 경력</span>\n",
       "<a data-modal=\"login\" style=\"float:right\"><i class=\"ic-bookmark_outline icon\"></i></a>\n",
       "</div>\n",
       "<div class=\"job-dates\">\n",
       "<span>\n",
       "<i class=\"ic-calendar_new icon\"></i>                04/10 마감\n",
       "</span><span>                03/02 수정\n",
       "</span></div>\n",
       "</div>\n",
       "<div class=\"ui divider\"></div> <div class=\"job-detail\">\n",
       "<div>\n",
       "<a class=\"nowrap job-title primary link\" href=\"/jobs/67569/%EB%9D%BC%EC%8A%A4%ED%8A%B8%EC%98%A4%EB%8D%94-%EB%B0%B1%EC%97%94%EB%93%9C-%EC%9B%B9%ED%94%84%EB%A1%9C%EA%B7%B8%EB%9E%98%EB%A8%B8\" target=\"_blank\">[라스트오더] 백엔드 웹프로그래머</a>\n",
       "<span class=\"job-stat-info\">3,000 - 7,000만원 / 경력</span>\n",
       "<a data-modal=\"login\" style=\"float:right\"><i class=\"ic-bookmark_outline icon\"></i></a>\n",
       "</div>\n",
       "<div class=\"job-dates\">\n",
       "<span>\n",
       "<i class=\"ic-calendar_new icon\"></i>                03/31 마감\n",
       "</span><span>                03/06 수정\n",
       "</span></div>\n",
       "</div>\n",
       "</div>\n",
       "</div>\n",
       "</div>\n",
       "<div class=\"ui inverted divider\"></div><div class=\"company item\" data-company_id=\"6544\">\n",
       "<div class=\"logo image\">\n",
       "<a href=\"/companies/lendit/jobs\" target=\"_blank\">\n",
       "<div class=\"ui logo\">\n",
       "<img alt=\"렌딧 logo\" class=\"ui image\" src=\"https://image.rocketpunch.com/company/6544/lendit_logo_1479286890.jpg?s=100x100&amp;t=inside\"/>\n",
       "</div>\n",
       "</a>\n",
       "</div>\n",
       "<div class=\"content\">\n",
       "<div class=\"ui right floated skip header\">\n",
       "<a data-modal=\"signup\">✕</a>\n",
       "</div>\n",
       "<div class=\"company-name\">\n",
       "<a href=\"/companies/lendit/jobs\" target=\"_blank\">\n",
       "<h4 class=\"header name\"> <strong>렌딧</strong>\n",
       "<small>(LENDIT)</small>\n",
       "</h4>\n",
       "</a><a class=\"reference-count\" data-method=\"post\" data-url=\"/api/companies/6544/reference\">\n",
       "<i class=\"ic-thumbup-outline icon\"></i>\n",
       "<span class=\"count\"></span>\n",
       "</a></div>\n",
       "<div class=\"description\">P2P금융 전문기업 </div>\n",
       "<div class=\"nowrap meta\">      모바일서비스 ∙ 웹서비스 ∙ 마케팅 ∙ 소프트웨어 ∙ 핀테크 ∙ 투자 ∙ p2p금융 ∙ 대출 ∙ 포트폴리오\n",
       "</div><div class=\"applicants\">\n",
       "<div class=\"avatar-list\">\n",
       "<div class=\"mini masked item\">?</div><div class=\"mini masked item\">?</div><div class=\"mini masked item\">?</div><div class=\"mini masked item\">?</div>\n",
       "<div class=\"more item mini\"><span>+39</span></div>\n",
       "</div>\n",
       "<span><a href=\"/companies/lendit/jobs/applicants\">40명 이상이 로켓펀치를 통해 지원</a></span>\n",
       "</div><div class=\"ui divider\"></div>\n",
       "<div class=\"company-jobs-detail\">\n",
       "<div class=\"job-detail\">\n",
       "<div>\n",
       "<a class=\"nowrap job-title primary link\" href=\"/jobs/69041/Backend-Engineer-%EC%A3%BC%EB%8B%88%EC%96%B4\" target=\"_blank\">Backend Engineer 주니어</a>\n",
       "<span class=\"job-stat-info\">신입, 경력</span>\n",
       "<a data-modal=\"login\" style=\"float:right\"><i class=\"ic-bookmark_outline icon\"></i></a>\n",
       "</div>\n",
       "<div class=\"job-dates\">\n",
       "<span>\n",
       "<i class=\"ic-calendar_new icon\"></i>                03/31 마감\n",
       "</span><span>                03/06 수정\n",
       "</span></div>\n",
       "</div>\n",
       "</div>\n",
       "</div>\n",
       "</div>\n",
       "<div class=\"ui inverted divider\"></div></div>\n",
       "<div class=\"ui blank right floated segment\">\n",
       "<div class=\"ui pagination menu\">\n",
       "<a class=\"disabled item\">\n",
       "<i class=\"angle double left icon\"></i>\n",
       "</a>\n",
       "<div class=\"tablet computer large screen widescreen only\">\n",
       "<a class=\"active item\" data-query-add=\"page=1\" href=\"?page=1&amp;q=&amp;specialty=Python&amp;tag=%EB%8D%B0%EC%9D%B4%ED%84%B0%3E\">1</a>\n",
       "<a class=\"item\" data-query-add=\"page=2\" href=\"?page=2&amp;q=&amp;specialty=Python&amp;tag=%EB%8D%B0%EC%9D%B4%ED%84%B0%3E\">2</a>\n",
       "<a class=\"item\" data-query-add=\"page=3\" href=\"?page=3&amp;q=&amp;specialty=Python&amp;tag=%EB%8D%B0%EC%9D%B4%ED%84%B0%3E\">3</a>\n",
       "<a class=\"item\" data-query-add=\"page=4\" href=\"?page=4&amp;q=&amp;specialty=Python&amp;tag=%EB%8D%B0%EC%9D%B4%ED%84%B0%3E\">4</a>\n",
       "<a class=\"item\" data-query-add=\"page=5\" href=\"?page=5&amp;q=&amp;specialty=Python&amp;tag=%EB%8D%B0%EC%9D%B4%ED%84%B0%3E\">5</a>\n",
       "<div class=\"disabled item\">...</div>\n",
       "<a class=\"item\" data-query-add=\"page=12\" href=\"?page=12&amp;q=&amp;specialty=Python&amp;tag=%EB%8D%B0%EC%9D%B4%ED%84%B0%3E\">12</a>\n",
       "</div>\n",
       "<div class=\"mobile only\">\n",
       "<a class=\"active item\" data-query-add=\"page=1\" href=\"?page=1&amp;q=&amp;specialty=Python&amp;tag=%EB%8D%B0%EC%9D%B4%ED%84%B0%3E\">1</a>\n",
       "<a class=\"item\" data-query-add=\"page=2\" href=\"?page=2&amp;q=&amp;specialty=Python&amp;tag=%EB%8D%B0%EC%9D%B4%ED%84%B0%3E\">2</a>\n",
       "<a class=\"item\" data-query-add=\"page=3\" href=\"?page=3&amp;q=&amp;specialty=Python&amp;tag=%EB%8D%B0%EC%9D%B4%ED%84%B0%3E\">3</a>\n",
       "</div>\n",
       "<a class=\"item\" data-query-add=\"page=2\" href=\"?page=2&amp;q=&amp;specialty=Python&amp;tag=%EB%8D%B0%EC%9D%B4%ED%84%B0%3E\">\n",
       "<i class=\"angle double right icon\"></i>\n",
       "</a>\n",
       "</div></div>"
      ]
     },
     "execution_count": 49,
     "metadata": {},
     "output_type": "execute_result"
    }
   ],
   "source": [
    "dom"
   ]
  },
  {
   "cell_type": "code",
   "execution_count": null,
   "metadata": {},
   "outputs": [],
   "source": []
  },
  {
   "cell_type": "code",
   "execution_count": null,
   "metadata": {},
   "outputs": [],
   "source": []
  },
  {
   "cell_type": "code",
   "execution_count": null,
   "metadata": {},
   "outputs": [],
   "source": []
  },
  {
   "cell_type": "code",
   "execution_count": null,
   "metadata": {},
   "outputs": [],
   "source": []
  },
  {
   "cell_type": "code",
   "execution_count": null,
   "metadata": {},
   "outputs": [],
   "source": []
  },
  {
   "cell_type": "code",
   "execution_count": null,
   "metadata": {},
   "outputs": [],
   "source": []
  },
  {
   "cell_type": "code",
   "execution_count": null,
   "metadata": {},
   "outputs": [],
   "source": []
  },
  {
   "cell_type": "code",
   "execution_count": 720,
   "metadata": {
    "scrolled": true
   },
   "outputs": [
    {
     "data": {
      "text/plain": [
       "bs4.BeautifulSoup"
      ]
     },
     "execution_count": 720,
     "metadata": {},
     "output_type": "execute_result"
    }
   ],
   "source": [
    "type(dom)"
   ]
  },
  {
   "cell_type": "code",
   "execution_count": 721,
   "metadata": {},
   "outputs": [
    {
     "data": {
      "text/plain": [
       "scrapy.http.response.text.TextResponse"
      ]
     },
     "execution_count": 721,
     "metadata": {},
     "output_type": "execute_result"
    }
   ],
   "source": [
    "type(response)"
   ]
  },
  {
   "cell_type": "code",
   "execution_count": 708,
   "metadata": {},
   "outputs": [
    {
     "ename": "NotSupported",
     "evalue": "Response content isn't text",
     "output_type": "error",
     "traceback": [
      "\u001b[0;31m---------------------------------------------------------------------------\u001b[0m",
      "\u001b[0;31mNotSupported\u001b[0m                              Traceback (most recent call last)",
      "\u001b[0;32m<ipython-input-708-96c43ffa7365>\u001b[0m in \u001b[0;36m<module>\u001b[0;34m\u001b[0m\n\u001b[0;32m----> 1\u001b[0;31m \u001b[0mresponse\u001b[0m\u001b[0;34m.\u001b[0m\u001b[0mxpath\u001b[0m\u001b[0;34m(\u001b[0m\u001b[0;34m'#company-list > div.company.item.active > div.content.active > div.company-name > a:nth-child(1) > h4'\u001b[0m\u001b[0;34m)\u001b[0m\u001b[0;34m\u001b[0m\u001b[0;34m\u001b[0m\u001b[0m\n\u001b[0m",
      "\u001b[0;32m~/opt/anaconda3/envs/fastcampus/lib/python3.7/site-packages/scrapy/http/response/__init__.py\u001b[0m in \u001b[0;36mxpath\u001b[0;34m(self, *a, **kw)\u001b[0m\n\u001b[1;32m    103\u001b[0m         \u001b[0;32mis\u001b[0m \u001b[0mtext\u001b[0m \u001b[0;34m(\u001b[0m\u001b[0msubclasses\u001b[0m \u001b[0mof\u001b[0m \u001b[0mTextResponse\u001b[0m\u001b[0;34m)\u001b[0m\u001b[0;34m.\u001b[0m\u001b[0;34m\u001b[0m\u001b[0;34m\u001b[0m\u001b[0m\n\u001b[1;32m    104\u001b[0m         \"\"\"\n\u001b[0;32m--> 105\u001b[0;31m         \u001b[0;32mraise\u001b[0m \u001b[0mNotSupported\u001b[0m\u001b[0;34m(\u001b[0m\u001b[0;34m\"Response content isn't text\"\u001b[0m\u001b[0;34m)\u001b[0m\u001b[0;34m\u001b[0m\u001b[0;34m\u001b[0m\u001b[0m\n\u001b[0m\u001b[1;32m    106\u001b[0m \u001b[0;34m\u001b[0m\u001b[0m\n\u001b[1;32m    107\u001b[0m     def follow(self, url, callback=None, method='GET', headers=None, body=None,\n",
      "\u001b[0;31mNotSupported\u001b[0m: Response content isn't text"
     ]
    }
   ],
   "source": [
    "response.xpath('#company-list > div.company.item.active > div.content.active > div.company-name > a:nth-child(1) > h4')"
   ]
  },
  {
   "cell_type": "code",
   "execution_count": null,
   "metadata": {},
   "outputs": [],
   "source": []
  },
  {
   "cell_type": "code",
   "execution_count": 691,
   "metadata": {},
   "outputs": [
    {
     "data": {
      "text/plain": [
       "[<Selector xpath='//*' data='<html><body><p>{\"meta\":{\"code\":200},\"...'>,\n",
       " <Selector xpath='//*' data='<body><p>{\"meta\":{\"code\":200},\"data\":...'>,\n",
       " <Selector xpath='//*' data='<p>{\"meta\":{\"code\":200},\"data\":{\"temp...'>,\n",
       " <Selector xpath='//*' data='<div id=\\'\\\\\"company-list\\\\\"\\' class=\\'\\\\\"u...'>,\n",
       " <Selector xpath='//*' data='<div class=\\'\\\\\"header\\\\\"\\'>\\\\n    <div cl...'>,\n",
       " <Selector xpath='//*' data='<div class=\\'\\\\\"ui\\' right floated heade...'>,\n",
       " <Selector xpath='//*' data='<a data-query-add=\\'\\\\\"sort=recent\\\\\"\\' h...'>,\n",
       " <Selector xpath='//*' data='<div class=\\'\\\\\"separator\\\\\"\\'></div>'>,\n",
       " <Selector xpath='//*' data='<a data-query-add=\\'\\\\\"sort=ranking\\\\\"\\' ...'>,\n",
       " <Selector xpath='//*' data='<div class=\\'\\\\\"separator\\\\\"\\'></div>'>,\n",
       " <Selector xpath='//*' data='<a data-query-add=\\'\\\\\"sort=salary\\\\\"\\' h...'>,\n",
       " <Selector xpath='//*' data='<h2 class=\\'\\\\\"ui\\' left header style=\\'\\\\...'>,\n",
       " <Selector xpath='//*' data='<span class=\\'\\\\\"desc\\\\\"\\'>검색 결과</span>'>,\n",
       " <Selector xpath='//*' data='<span class=\\'\\\\\"count\\\\\"\\'>311</span>'>,\n",
       " <Selector xpath='//*' data='<div class=\\'\\\\\"separator\\\\\"\\'></div>'>,\n",
       " <Selector xpath='//*' data='<span class=\\'\\\\\"filter-summary\\\\\"\\'>데이터&...'>,\n",
       " <Selector xpath='//*' data='<div class=\\'\\\\\"ui\\' inverted divider></...'>,\n",
       " <Selector xpath='//*' data='<div style=\\'\\\\\"text-align:center;\\\\\"\\'>조...'>,\n",
       " <Selector xpath='//*' data='<br>'>,\n",
       " <Selector xpath='//*' data='<div class=\\'\\\\\"ui\\' inverted divider></...'>,\n",
       " <Selector xpath='//*' data='<div class=\\'\\\\\"ui\\' blank right floated...'>,\n",
       " <Selector xpath='//*' data='<div class=\\'\\\\\"ui\\' pagination menu>\\\\n ...'>,\n",
       " <Selector xpath='//*' data='<a class=\\'\\\\\"disabled\\' item>\\\\n      <i...'>,\n",
       " <Selector xpath='//*' data='<i class=\\'\\\\\"angle\\' double left icon></i>'>,\n",
       " <Selector xpath='//*' data='<div class=\\'\\\\\"tablet\\' computer large ...'>,\n",
       " <Selector xpath='//*' data='<a class=\\'\\\\\"item\\\\\"\\' data-query-add=\\'\\\\...'>,\n",
       " <Selector xpath='//*' data='<a class=\\'\\\\\"item\\\\\"\\' data-query-add=\\'\\\\...'>,\n",
       " <Selector xpath='//*' data='<a class=\\'\\\\\"item\\\\\"\\' data-query-add=\\'\\\\...'>,\n",
       " <Selector xpath='//*' data='<a class=\\'\\\\\"item\\\\\"\\' data-query-add=\\'\\\\...'>,\n",
       " <Selector xpath='//*' data='<a class=\\'\\\\\"item\\\\\"\\' data-query-add=\\'\\\\...'>,\n",
       " <Selector xpath='//*' data='<div class=\\'\\\\\"disabled\\' item>...</div>'>,\n",
       " <Selector xpath='//*' data='<a class=\\'\\\\\"item\\\\\"\\' data-query-add=\\'\\\\...'>,\n",
       " <Selector xpath='//*' data='<div class=\\'\\\\\"mobile\\' only>\\\\n      <a...'>,\n",
       " <Selector xpath='//*' data='<a class=\\'\\\\\"active\\' item data-query-a...'>,\n",
       " <Selector xpath='//*' data='<a class=\\'\\\\\"item\\\\\"\\' data-query-add=\\'\\\\...'>,\n",
       " <Selector xpath='//*' data='<a class=\\'\\\\\"item\\\\\"\\' data-query-add=\\'\\\\...'>,\n",
       " <Selector xpath='//*' data='<a class=\\'\\\\\"disabled\\' item>\\\\n      <i...'>,\n",
       " <Selector xpath='//*' data='<i class=\\'\\\\\"angle\\' double right icon>...'>]"
      ]
     },
     "execution_count": 691,
     "metadata": {},
     "output_type": "execute_result"
    }
   ],
   "source": [
    "response.xpath('//*')"
   ]
  },
  {
   "cell_type": "code",
   "execution_count": 1,
   "metadata": {},
   "outputs": [],
   "source": [
    "data = pd.read_csv('test.csv')"
   ]
  },
  {
   "cell_type": "code",
   "execution_count": null,
   "metadata": {},
   "outputs": [],
   "source": []
  },
  {
   "cell_type": "code",
   "execution_count": null,
   "metadata": {},
   "outputs": [],
   "source": []
  },
  {
   "cell_type": "code",
   "execution_count": null,
   "metadata": {},
   "outputs": [],
   "source": []
  },
  {
   "cell_type": "code",
   "execution_count": null,
   "metadata": {},
   "outputs": [],
   "source": []
  },
  {
   "cell_type": "markdown",
   "metadata": {},
   "source": [
    "# 잡코리아 크롤링\n",
    "- 무조건 xpath 사용해서!!\n"
   ]
  },
  {
   "cell_type": "markdown",
   "metadata": {},
   "source": [
    "조건 : 신입"
   ]
  },
  {
   "cell_type": "code",
   "execution_count": 259,
   "metadata": {},
   "outputs": [],
   "source": [
    "import scrapy\n",
    "from scrapy.http import TextResponse"
   ]
  },
  {
   "cell_type": "code",
   "execution_count": 260,
   "metadata": {},
   "outputs": [
    {
     "data": {
      "text/plain": [
       "'3/16마감'"
      ]
     },
     "execution_count": 260,
     "metadata": {},
     "output_type": "execute_result"
    }
   ],
   "source": [
    "# deadline 계산기 : 노 필요\n",
    "import time\n",
    "from datetime import date,timedelta\n",
    "today = date.today()\n",
    "deadline_date = today + timedelta(5)\n",
    "\"{}/{}마감\".format(deadline_date.month,deadline_date.day)"
   ]
  },
  {
   "cell_type": "code",
   "execution_count": null,
   "metadata": {},
   "outputs": [],
   "source": [
    "http://www.jobkorea.co.kr/Search/?stext=데이터%분석&careerType=1"
   ]
  },
  {
   "cell_type": "code",
   "execution_count": 581,
   "metadata": {},
   "outputs": [],
   "source": [
    "# 전체 리스트 페이지 가져오기\n",
    "req = requests.get(\"http://www.jobkorea.co.kr/Search/?stext=%EB%8D%B0%EC%9D%B4%ED%84%B0&careerType=1&tabType=recruit&Page_No=1\")\n",
    "response = TextResponse(req.url, body=req.text, encoding=\"utf-8\")"
   ]
  },
  {
   "cell_type": "code",
   "execution_count": 571,
   "metadata": {},
   "outputs": [
    {
     "data": {
      "text/plain": [
       "['http://www.jobkorea.co.kr//Recruit/GI_Read/31276276?Oem_Code=C1&logpath=1',\n",
       " 'http://www.jobkorea.co.kr//Recruit/GI_Read/31239233?Oem_Code=C1&logpath=1',\n",
       " 'http://www.jobkorea.co.kr//Recruit/GI_Read/31239183?Oem_Code=C1&logpath=1',\n",
       " 'http://www.jobkorea.co.kr//Recruit/GI_Read/31223077?Oem_Code=C1&logpath=1',\n",
       " 'http://www.jobkorea.co.kr//Recruit/GI_Read/31286087?Oem_Code=C1&logpath=1',\n",
       " 'http://www.jobkorea.co.kr//Recruit/GI_Read/31286070?Oem_Code=C1&logpath=1',\n",
       " 'http://www.jobkorea.co.kr//Recruit/GI_Read/31238614?Oem_Code=C1&logpath=1',\n",
       " 'http://www.jobkorea.co.kr//Recruit/GI_Read/31226576?Oem_Code=C1&logpath=1',\n",
       " 'http://www.jobkorea.co.kr//Recruit/GI_Read/31106168?Oem_Code=C1&logpath=1',\n",
       " 'http://www.jobkorea.co.kr//Recruit/GI_Read/31060718?Oem_Code=C1&logpath=1',\n",
       " 'http://www.jobkorea.co.kr//Recruit/GI_Read/31043160?Oem_Code=C1&logpath=1',\n",
       " 'http://www.jobkorea.co.kr//Recruit/GI_Read/31030008?Oem_Code=C1&logpath=1',\n",
       " 'http://www.jobkorea.co.kr//Recruit/GI_Read/31260776?Oem_Code=C1&logpath=1',\n",
       " 'http://www.jobkorea.co.kr//Recruit/GI_Read/31151056?Oem_Code=C1&logpath=1',\n",
       " 'http://www.jobkorea.co.kr//Recruit/GI_Read/31150326?Oem_Code=C1&logpath=1',\n",
       " 'http://www.jobkorea.co.kr//Recruit/GI_Read/31284335?Oem_Code=C1&logpath=1',\n",
       " 'http://www.jobkorea.co.kr//Recruit/GI_Read/31280897?Oem_Code=C1&logpath=1',\n",
       " 'http://www.jobkorea.co.kr//Recruit/GI_Read/31202014?Oem_Code=C1&logpath=1',\n",
       " 'http://www.jobkorea.co.kr//Recruit/GI_Read/31263075?Oem_Code=C1&logpath=1',\n",
       " 'http://www.jobkorea.co.kr//Recruit/GI_Read/31204423?Oem_Code=C1&logpath=1']"
      ]
     },
     "execution_count": 571,
     "metadata": {},
     "output_type": "execute_result"
    }
   ],
   "source": [
    "links = response.xpath('//*[@id=\"content\"]/div/div/div[1]/div/div[2]/div[2]/div/div[1]/ul/li/div/div[2]/a/@href').extract()\n",
    "links = [\"http://www.jobkorea.co.kr/\" + link for link in links]\n",
    "links"
   ]
  },
  {
   "cell_type": "code",
   "execution_count": 564,
   "metadata": {},
   "outputs": [
    {
     "data": {
      "text/plain": [
       "['http://www.jobkorea.co.kr//Recruit/GI_Read/31276276?Oem_Code=C1&logpath=1',\n",
       " 'http://www.jobkorea.co.kr//Recruit/GI_Read/31239233?Oem_Code=C1&logpath=1',\n",
       " 'http://www.jobkorea.co.kr//Recruit/GI_Read/31239183?Oem_Code=C1&logpath=1',\n",
       " 'http://www.jobkorea.co.kr//Recruit/GI_Read/31223077?Oem_Code=C1&logpath=1',\n",
       " 'http://www.jobkorea.co.kr//Recruit/GI_Read/31286087?Oem_Code=C1&logpath=1',\n",
       " 'http://www.jobkorea.co.kr//Recruit/GI_Read/31286070?Oem_Code=C1&logpath=1',\n",
       " 'http://www.jobkorea.co.kr//Recruit/GI_Read/31238614?Oem_Code=C1&logpath=1',\n",
       " 'http://www.jobkorea.co.kr//Recruit/GI_Read/31226576?Oem_Code=C1&logpath=1',\n",
       " 'http://www.jobkorea.co.kr//Recruit/GI_Read/31106168?Oem_Code=C1&logpath=1',\n",
       " 'http://www.jobkorea.co.kr//Recruit/GI_Read/31060718?Oem_Code=C1&logpath=1',\n",
       " 'http://www.jobkorea.co.kr//Recruit/GI_Read/31043160?Oem_Code=C1&logpath=1',\n",
       " 'http://www.jobkorea.co.kr//Recruit/GI_Read/31030008?Oem_Code=C1&logpath=1',\n",
       " 'http://www.jobkorea.co.kr//Recruit/GI_Read/31260776?Oem_Code=C1&logpath=1',\n",
       " 'http://www.jobkorea.co.kr//Recruit/GI_Read/31151056?Oem_Code=C1&logpath=1',\n",
       " 'http://www.jobkorea.co.kr//Recruit/GI_Read/31150326?Oem_Code=C1&logpath=1',\n",
       " 'http://www.jobkorea.co.kr//Recruit/GI_Read/31284335?Oem_Code=C1&logpath=1',\n",
       " 'http://www.jobkorea.co.kr//Recruit/GI_Read/31280897?Oem_Code=C1&logpath=1',\n",
       " 'http://www.jobkorea.co.kr//Recruit/GI_Read/31202014?Oem_Code=C1&logpath=1',\n",
       " 'http://www.jobkorea.co.kr//Recruit/GI_Read/31263075?Oem_Code=C1&logpath=1',\n",
       " 'http://www.jobkorea.co.kr//Recruit/GI_Read/31204423?Oem_Code=C1&logpath=1']"
      ]
     },
     "execution_count": 564,
     "metadata": {},
     "output_type": "execute_result"
    }
   ],
   "source": [
    "# 각 공고별 링크 불러오기\n",
    "links = [ \"http://www.jobkorea.co.kr/\" + link for link in response.xpath('//*[@id=\"content\"]/div/div/div[1]/div/div[2]/div[2]/div/div[1]/ul/li/div/div[2]/a/@href').extract()]\n",
    "links"
   ]
  },
  {
   "cell_type": "code",
   "execution_count": 551,
   "metadata": {},
   "outputs": [],
   "source": [
    "# 링크에서 공고하나 선택\n",
    "url = links[0]\n",
    "req = requests.get(url)\n",
    "response = TextResponse(req.url,body=req.text,encoding='utf-8')"
   ]
  },
  {
   "cell_type": "code",
   "execution_count": 552,
   "metadata": {},
   "outputs": [
    {
     "data": {
      "text/plain": [
       "'㈜NAVER'"
      ]
     },
     "execution_count": 552,
     "metadata": {},
     "output_type": "execute_result"
    }
   ],
   "source": [
    "# 1. company name\n",
    "company_name = response.xpath('//*[@id=\"container\"]/section/div/article/div[1]/h3/span/text()')[0].extract().strip()\n",
    "company_name"
   ]
  },
  {
   "cell_type": "code",
   "execution_count": 553,
   "metadata": {},
   "outputs": [
    {
     "name": "stdout",
     "output_type": "stream",
     "text": [
      "03.31 마감\n"
     ]
    }
   ],
   "source": [
    "# 2. deadline\n",
    "try:\n",
    "    dead_line = response.xpath('//*[@id=\"tab02\"]/div/article[1]/div/dl[2]/dd[2]/span/text()')[0].extract()[5:] + \" 마감\"\n",
    "    print(dead_line)\n",
    "except:\n",
    "    print(\"상시 채용\")"
   ]
  },
  {
   "cell_type": "code",
   "execution_count": 554,
   "metadata": {},
   "outputs": [
    {
     "data": {
      "text/plain": [
       "'서비스/온라인정보제공업'"
      ]
     },
     "execution_count": 554,
     "metadata": {},
     "output_type": "execute_result"
    }
   ],
   "source": [
    "# 3. business\n",
    "url = \"http://www.jobkorea.co.kr\" + response.xpath('//*/article[contains(@class, \"artReadCoInfo\") and contains(@class, \"divReadBx\")]/div/div/p/a/@href')[0].extract()\n",
    "req = requests.get(url)\n",
    "response_detail_page = TextResponse(req.url,body=req.text,encoding='utf-8')\n",
    "response_detail_page.xpath('//*[@id=\"company-body\"]/div[1]/div[1]/div/div/div[9]/div[2]/div/div/text()')[0].extract()"
   ]
  },
  {
   "cell_type": "code",
   "execution_count": 555,
   "metadata": {},
   "outputs": [
    {
     "data": {
      "text/plain": [
       "'http://www.jobkorea.co.kr//Recruit/GI_Read/31276276?Oem_Code=C1&logpath=1'"
      ]
     },
     "execution_count": 555,
     "metadata": {},
     "output_type": "execute_result"
    }
   ],
   "source": [
    "# 4. link\n",
    "links[0]"
   ]
  },
  {
   "cell_type": "code",
   "execution_count": 556,
   "metadata": {},
   "outputs": [
    {
     "data": {
      "text/plain": [
       "'Global Music 데이터 분석가 채용연계형 인턴십 모집'"
      ]
     },
     "execution_count": 556,
     "metadata": {},
     "output_type": "execute_result"
    }
   ],
   "source": [
    "# 5. position\n",
    "response.xpath('//*[@id=\"container\"]/section/div/article/div[1]/h3/text()')[1].extract().strip()"
   ]
  },
  {
   "cell_type": "code",
   "execution_count": 557,
   "metadata": {},
   "outputs": [
    {
     "name": "stdout",
     "output_type": "stream",
     "text": [
      "3,500만원\n"
     ]
    }
   ],
   "source": [
    "# 6. job_condition\n",
    "try:\n",
    "    job_condition = response_detail_page.xpath('//*[@id=\"company-body\"]/div[1]/div[1]/div/div/div[8]/div[2]/div/div/div/div/text()')[0].extract()\n",
    "    print(job_condition)\n",
    "except:\n",
    "    print(0)"
   ]
  },
  {
   "cell_type": "code",
   "execution_count": 558,
   "metadata": {},
   "outputs": [
    {
     "data": {
      "text/plain": [
       "['기획·전략·경영',\n",
       " '기획',\n",
       " '응용프로그래머',\n",
       " 'Python',\n",
       " 'SQL',\n",
       " '빅데이터·AI(인공지능)',\n",
       " '데이터분석',\n",
       " '지표',\n",
       " '통계',\n",
       " '포털·컨텐츠·커뮤니티']"
      ]
     },
     "execution_count": 558,
     "metadata": {},
     "output_type": "execute_result"
    }
   ],
   "source": [
    "# 7. keyword\n",
    "keyword = response.xpath('//*[@id=\"artKeywordSearch\"]/ul/li/button/text()').extract()[:-1]\n",
    "keyword"
   ]
  },
  {
   "cell_type": "code",
   "execution_count": null,
   "metadata": {},
   "outputs": [],
   "source": []
  },
  {
   "cell_type": "code",
   "execution_count": null,
   "metadata": {},
   "outputs": [],
   "source": []
  },
  {
   "cell_type": "code",
   "execution_count": null,
   "metadata": {},
   "outputs": [],
   "source": []
  },
  {
   "cell_type": "code",
   "execution_count": null,
   "metadata": {},
   "outputs": [],
   "source": []
  },
  {
   "cell_type": "code",
   "execution_count": null,
   "metadata": {},
   "outputs": [],
   "source": []
  },
  {
   "cell_type": "code",
   "execution_count": null,
   "metadata": {},
   "outputs": [],
   "source": []
  },
  {
   "cell_type": "code",
   "execution_count": null,
   "metadata": {},
   "outputs": [],
   "source": []
  },
  {
   "cell_type": "code",
   "execution_count": null,
   "metadata": {},
   "outputs": [],
   "source": []
  },
  {
   "cell_type": "code",
   "execution_count": null,
   "metadata": {},
   "outputs": [],
   "source": []
  },
  {
   "cell_type": "code",
   "execution_count": null,
   "metadata": {},
   "outputs": [],
   "source": []
  },
  {
   "cell_type": "code",
   "execution_count": null,
   "metadata": {},
   "outputs": [],
   "source": []
  },
  {
   "cell_type": "code",
   "execution_count": 258,
   "metadata": {},
   "outputs": [],
   "source": [
    "# BeautifulSoup dom"
   ]
  },
  {
   "cell_type": "code",
   "execution_count": 21,
   "metadata": {},
   "outputs": [],
   "source": [
    "# page_no를 돌려라\n",
    "req = requests.get(\"http://www.jobkorea.co.kr/Search/?stext=%EB%8D%B0%EC%9D%B4%ED%84%B0&careerType=1&tabType=recruit&Page_No=1\")\n",
    "dom = BeautifulSoup(req.text, \"html.parser\")"
   ]
  },
  {
   "cell_type": "code",
   "execution_count": 282,
   "metadata": {
    "scrolled": false
   },
   "outputs": [
    {
     "data": {
      "text/plain": [
       "'㈜NAVER'"
      ]
     },
     "execution_count": 282,
     "metadata": {},
     "output_type": "execute_result"
    }
   ],
   "source": [
    "# company \n",
    "dom.select('.name.dev_view')[0].get(\"title\")"
   ]
  },
  {
   "cell_type": "code",
   "execution_count": 250,
   "metadata": {},
   "outputs": [],
   "source": [
    "# description\n",
    "response = requests.get(link)\n",
    "dom_for_pages = BeautifulSoup(response.text, \"html.parser\")"
   ]
  },
  {
   "cell_type": "code",
   "execution_count": 251,
   "metadata": {
    "scrolled": true
   },
   "outputs": [
    {
     "data": {
      "text/plain": [
       "'경력\\n\\n신입·경력\\n\\n학력\\n\\n학력무관 \\n우대\\n\\n\\n기본우대\\n\\n유관업무 경험자(인턴·알바)'"
      ]
     },
     "execution_count": 251,
     "metadata": {},
     "output_type": "execute_result"
    }
   ],
   "source": [
    "dom_for_pages.select_one('.hd_4 ~ dl.tbList').text.strip('\\n ')"
   ]
  },
  {
   "cell_type": "code",
   "execution_count": 252,
   "metadata": {},
   "outputs": [
    {
     "data": {
      "text/plain": [
       "['', '기업명', '11번가 주식회사', '기업형태', '대기업 계열사·자회사', '상장여부', '비상장', '']"
      ]
     },
     "execution_count": 252,
     "metadata": {},
     "output_type": "execute_result"
    }
   ],
   "source": [
    "# service\n",
    "dom_for_pages.select_one(\"#container > section > div > article > div.tbRow.clear > div.tbCol.tbCoInfo > dl.tbList\").text.split('\\n')"
   ]
  },
  {
   "cell_type": "code",
   "execution_count": 36,
   "metadata": {},
   "outputs": [
    {
     "data": {
      "text/plain": [
       "'Global Music 데이터 분석가 채용연계형 인턴십 모집'"
      ]
     },
     "execution_count": 36,
     "metadata": {},
     "output_type": "execute_result"
    }
   ],
   "source": [
    "# position\n",
    "dom.select('.post-list-info > a')[0].get('title')"
   ]
  },
  {
   "cell_type": "code",
   "execution_count": 249,
   "metadata": {},
   "outputs": [],
   "source": [
    "# link\n",
    "link = \"http://www.jobkorea.co.kr\" + dom.select('.post-list-info > a')[15].get('href')"
   ]
  },
  {
   "cell_type": "code",
   "execution_count": 284,
   "metadata": {
    "scrolled": true
   },
   "outputs": [
    {
     "data": {
      "text/plain": [
       "'03/31마감'"
      ]
     },
     "execution_count": 284,
     "metadata": {},
     "output_type": "execute_result"
    }
   ],
   "source": [
    "# deadline\n",
    "dom.select('.post-list-info > p[class=\"option\"]')[0].select_one('span[class=date]').text.strip('(~)월화수목금토일')+\"마감\""
   ]
  },
  {
   "cell_type": "code",
   "execution_count": 47,
   "metadata": {},
   "outputs": [
    {
     "data": {
      "text/plain": [
       "'데이터분석, 통계, 지표, 기획, Python, SQL'"
      ]
     },
     "execution_count": 47,
     "metadata": {},
     "output_type": "execute_result"
    }
   ],
   "source": [
    "# task & skills\n",
    "dom.select('p.etc')[0].text"
   ]
  },
  {
   "cell_type": "code",
   "execution_count": 95,
   "metadata": {
    "scrolled": false
   },
   "outputs": [
    {
     "data": {
      "text/plain": [
       "'3,500'"
      ]
     },
     "execution_count": 95,
     "metadata": {},
     "output_type": "execute_result"
    }
   ],
   "source": [
    "# jon_condition\n",
    "req2 = requests.get(\"http://www.jobkorea.co.kr/Salary/SearchOfSalary/671394\")\n",
    "dom = BeautifulSoup(req2.text, \"html.parser\")\n",
    "salary = dom.select_one('div.salary-table-item.salary-table-newcomer > div.salary > div.value').text\n",
    "salary"
   ]
  },
  {
   "cell_type": "code",
   "execution_count": null,
   "metadata": {},
   "outputs": [],
   "source": []
  },
  {
   "cell_type": "markdown",
   "metadata": {},
   "source": [
    "# 사람인"
   ]
  },
  {
   "cell_type": "code",
   "execution_count": 734,
   "metadata": {},
   "outputs": [],
   "source": [
    "req = requests.get(\"http://m.saramin.co.kr/search?searchType=search&searchword=%EB%8D%B0%EC%9D%B4%ED%84%B0+%EC%82%AC%EC%9D%B4%EC%96%B8%EC%8A%A4&q=%EB%8D%B0%EC%9D%B4%ED%84%B0+%EC%82%AC%EC%9D%B4%EC%96%B8%EC%8A%A4\")\n",
    "response = TextResponse(req.url, body=req.text, encoding=\"utf-8\")"
   ]
  },
  {
   "cell_type": "code",
   "execution_count": 735,
   "metadata": {},
   "outputs": [],
   "source": [
    "links = response.xpath('//*[@id=\"recruit_result\"]/ul/li/div/a/@href').extract()\n",
    "links = [\"http://m.saramin.co.kr\" + link for link in links]"
   ]
  },
  {
   "cell_type": "code",
   "execution_count": 821,
   "metadata": {},
   "outputs": [
    {
     "data": {
      "text/plain": [
       "<200 http://m.saramin.co.kr/job-search/view?rec_idx=37603442&cn=search&cns=index&t_category=search&t_content=generic&searchword=%EB%8D%B0%EC%9D%B4%ED%84%B0+%EC%82%AC%EC%9D%B4%EC%96%B8%EC%8A%A4&searchType=search&paid_fl=n>"
      ]
     },
     "execution_count": 821,
     "metadata": {},
     "output_type": "execute_result"
    }
   ],
   "source": [
    "req = requests.get(links[10])\n",
    "response = TextResponse(req.url,body=req.text,encoding='utf8')\n",
    "response"
   ]
  },
  {
   "cell_type": "code",
   "execution_count": 822,
   "metadata": {},
   "outputs": [
    {
     "data": {
      "text/plain": [
       "'(주)라이언앤코'"
      ]
     },
     "execution_count": 822,
     "metadata": {},
     "output_type": "execute_result"
    }
   ],
   "source": [
    "# company_name \n",
    "company_name = response.xpath('//*[@id=\"card_set\"]/div[1]/div/div[1]/div/span/a/text()')[0].extract()\n",
    "company_name"
   ]
  },
  {
   "cell_type": "code",
   "execution_count": 823,
   "metadata": {
    "scrolled": false
   },
   "outputs": [
    {
     "data": {
      "text/plain": [
       "[]"
      ]
     },
     "execution_count": 823,
     "metadata": {},
     "output_type": "execute_result"
    }
   ],
   "source": [
    "# business : 미해결\n",
    "response.xpath('//*[@id=\"card_set\"]/div[1]/div/section[2]/div[1]/div[1]/div/dl[1]/dd/span').extract()"
   ]
  },
  {
   "cell_type": "code",
   "execution_count": 824,
   "metadata": {},
   "outputs": [
    {
     "data": {
      "text/plain": [
       "'[경력/신입] 경영컨설턴트 모집 [주 4일 근무제 도입 회사]'"
      ]
     },
     "execution_count": 824,
     "metadata": {},
     "output_type": "execute_result"
    }
   ],
   "source": [
    "# position\n",
    "response.xpath('//*[@id=\"card_set\"]/div[1]/div/div[1]/div/h2/text()')[0].extract().strip()"
   ]
  },
  {
   "cell_type": "code",
   "execution_count": 825,
   "metadata": {},
   "outputs": [
    {
     "name": "stdout",
     "output_type": "stream",
     "text": [
      "http://m.saramin.co.kr/job-search/view?rec_idx=37603442&cn=search&cns=index&t_category=search&t_content=generic&searchword=%EB%8D%B0%EC%9D%B4%ED%84%B0+%EC%82%AC%EC%9D%B4%EC%96%B8%EC%8A%A4&searchType=search&paid_fl=n\n"
     ]
    }
   ],
   "source": [
    "# link\n",
    "link = links[10]\n",
    "print(link)"
   ]
  },
  {
   "cell_type": "code",
   "execution_count": 849,
   "metadata": {},
   "outputs": [
    {
     "data": {
      "text/plain": [
       "\"면접 후 결정', '성과급 30% ~ 100% 별도\""
      ]
     },
     "execution_count": 849,
     "metadata": {},
     "output_type": "execute_result"
    }
   ],
   "source": [
    "# salary_condition\n",
    "# 아래에 추가 항목이 있어서 전체 리스트로 받아와서 str변환\n",
    "salary_condition = str(response.xpath('//*[@class=\"card_cont wrap_recruit_view\"]/section[@class=\"section_view section_basic_view\"]/div[@class=\"wrap_info_job\"]/dl[2]/dd/*/text()').extract()).strip(\"[]''\")\n",
    "salary_condition"
   ]
  },
  {
   "cell_type": "code",
   "execution_count": 862,
   "metadata": {},
   "outputs": [
    {
     "data": {
      "text/plain": [
       "'서울 강남구'"
      ]
     },
     "execution_count": 862,
     "metadata": {},
     "output_type": "execute_result"
    }
   ],
   "source": [
    "# location\n",
    "location = response.xpath('//*[@class=\"card_cont wrap_recruit_view\"]/section[@class=\"section_view section_basic_view\"]/div[@class=\"wrap_info_job\"]/dl[3]/dd/div/text()')[0].extract().strip()\n",
    "location"
   ]
  },
  {
   "cell_type": "code",
   "execution_count": 827,
   "metadata": {},
   "outputs": [
    {
     "data": {
      "text/plain": [
       "'~03/16(월)'"
      ]
     },
     "execution_count": 827,
     "metadata": {},
     "output_type": "execute_result"
    }
   ],
   "source": [
    "# deadline\n",
    "deadline = response.xpath('//*[@class=\"card_cont wrap_recruit_view\"]/section[@class=\"section_view section_basic_view\"]/div[@class=\"wrap_info_job\"]/dl[1]/dd/span[1]/text()')[0].extract().strip()\n",
    "deadline"
   ]
  },
  {
   "cell_type": "code",
   "execution_count": 828,
   "metadata": {},
   "outputs": [
    {
     "data": {
      "text/plain": [
       "\"전문직', '경영분석·컨설턴트', '컨설턴트', '경영컨설팅', 'HR컨설팅', '서울', '강남구\""
      ]
     },
     "execution_count": 828,
     "metadata": {},
     "output_type": "execute_result"
    }
   ],
   "source": [
    "# keyword\n",
    "keyword = str(response.xpath('//*[@class=\"list_relation_tag\"]/li/a/text()').extract()).strip(\"[]''\")\n",
    "keyword"
   ]
  }
 ],
 "metadata": {
  "kernelspec": {
   "display_name": "Python 3",
   "language": "python",
   "name": "python3"
  },
  "language_info": {
   "codemirror_mode": {
    "name": "ipython",
    "version": 3
   },
   "file_extension": ".py",
   "mimetype": "text/x-python",
   "name": "python",
   "nbconvert_exporter": "python",
   "pygments_lexer": "ipython3",
   "version": "3.7.4"
  }
 },
 "nbformat": 4,
 "nbformat_minor": 2
}
